{
  "cells": [
    {
      "cell_type": "markdown",
      "metadata": {
        "id": "yQAsYjSQVXHC"
      },
      "source": [
        "# TinySQL : M1 Activation Patching\n",
        "\n",
        "**Background:** A \"TinySQL\" model takes as input 1) An Instruction, which is an english data request sentence and 2) A Context, which is a SQL table create statement. The model outputs a Response, which is a SQL select statement.  \n",
        "\n",
        "**Notebook purpose:** Visualize changes in attention head activations when a token is corrupted. We corrupt 1) The instruction table name 2) An instruction field name 3) The context table name or 4) A context field name.\n",
        "\n",
        "**Notebook details:** This notebook:\n",
        "- Was developed on Google Colab using an A100\n",
        "- Runs with M1 (TinyStories) with base/CS1/CS2/CS3 models.\n",
        "- Requires a GITHUB_TOKEN secret to access Martian TinySQL code repository.\n",
        "- Requires a HF_TOKEN secret to access Martian HuggingFace repository.\n",
        "- Was developed under a grant provided by withmartian.com ( https://withmartian.com )\n",
        "- Relies on the nnsight library. Also refer the https://nnsight.net/notebooks/tutorials/activation_patching/ tutorial\n",
        "- Relies on the https://github.com/PhilipQuirke/quanta_mech_interp library for graphing useful nodes.\n"
      ]
    },
    {
      "cell_type": "markdown",
      "metadata": {
        "id": "z1tQZgLUnojc"
      },
      "source": [
        "# Import libraries\n",
        "Imports standard libraries. Do not read."
      ]
    },
    {
      "cell_type": "code",
      "execution_count": null,
      "metadata": {
        "colab": {
          "base_uri": "https://localhost:8080/"
        },
        "id": "qt2jt2bHcY2v",
        "outputId": "63485bd4-c237-495b-c65a-f55c70b7966c"
      },
      "outputs": [
        {
          "output_type": "stream",
          "name": "stdout",
          "text": [
            "\u001b[2K   \u001b[90m━━━━━━━━━━━━━━━━━━━━━━━━━━━━━━━━━━━━━━━━\u001b[0m \u001b[32m3.5/3.5 MB\u001b[0m \u001b[31m38.3 MB/s\u001b[0m eta \u001b[36m0:00:00\u001b[0m\n",
            "\u001b[2K   \u001b[90m━━━━━━━━━━━━━━━━━━━━━━━━━━━━━━━━━━━━━━━━\u001b[0m \u001b[32m363.4/363.4 MB\u001b[0m \u001b[31m2.9 MB/s\u001b[0m eta \u001b[36m0:00:00\u001b[0m\n",
            "\u001b[2K   \u001b[90m━━━━━━━━━━━━━━━━━━━━━━━━━━━━━━━━━━━━━━━━\u001b[0m \u001b[32m13.8/13.8 MB\u001b[0m \u001b[31m86.3 MB/s\u001b[0m eta \u001b[36m0:00:00\u001b[0m\n",
            "\u001b[2K   \u001b[90m━━━━━━━━━━━━━━━━━━━━━━━━━━━━━━━━━━━━━━━━\u001b[0m \u001b[32m24.6/24.6 MB\u001b[0m \u001b[31m82.6 MB/s\u001b[0m eta \u001b[36m0:00:00\u001b[0m\n",
            "\u001b[2K   \u001b[90m━━━━━━━━━━━━━━━━━━━━━━━━━━━━━━━━━━━━━━━━\u001b[0m \u001b[32m883.7/883.7 kB\u001b[0m \u001b[31m54.3 MB/s\u001b[0m eta \u001b[36m0:00:00\u001b[0m\n",
            "\u001b[2K   \u001b[91m━━━━━━━━━━━━━━━━━━━━━━━━━━━━━━━━━━━━━━━\u001b[0m\u001b[91m╸\u001b[0m \u001b[32m664.8/664.8 MB\u001b[0m \u001b[31m190.6 MB/s\u001b[0m eta \u001b[36m0:00:01\u001b[0m"
          ]
        }
      ],
      "source": [
        "# https://nnsight.net/\n",
        "# !pip install -U nnsight\n",
        "!pip install nnsight==0.3.7 -q"
      ]
    },
    {
      "cell_type": "code",
      "execution_count": null,
      "metadata": {
        "id": "3ZQv5mkuGjYX"
      },
      "outputs": [],
      "source": [
        "!pip install pandas plotly -q"
      ]
    },
    {
      "cell_type": "code",
      "execution_count": null,
      "metadata": {
        "id": "Vif7qLNrlC0P"
      },
      "outputs": [],
      "source": [
        "from IPython.display import clear_output\n",
        "import einops\n",
        "import torch\n",
        "import plotly.express as px\n",
        "import plotly.io as pio\n",
        "pio.renderers.default = \"colab\"\n",
        "\n",
        "import nnsight\n",
        "from nnsight import LanguageModel, util"
      ]
    },
    {
      "cell_type": "code",
      "execution_count": null,
      "metadata": {
        "id": "orVn0wTnosHO"
      },
      "outputs": [],
      "source": [
        "from getpass import getpass\n",
        "from google.colab import userdata\n",
        "import gc\n",
        "import weakref"
      ]
    },
    {
      "cell_type": "code",
      "source": [
        "from tqdm import tqdm\n",
        "import pandas as pd\n",
        "import numpy as np\n",
        "import json\n",
        "import datetime"
      ],
      "metadata": {
        "id": "GKy4emg-xMp6"
      },
      "execution_count": null,
      "outputs": []
    },
    {
      "cell_type": "code",
      "source": [
        "!pip install datasets"
      ],
      "metadata": {
        "id": "o16WOSYmyxC2"
      },
      "execution_count": null,
      "outputs": []
    },
    {
      "cell_type": "code",
      "execution_count": null,
      "metadata": {
        "id": "BMWEb8TJoske"
      },
      "outputs": [],
      "source": [
        "github_token = userdata.get(\"GITHUB_TOKEN\")\n",
        "\n",
        "!pip install --upgrade git+https://{github_token}@github.com/withmartian/TinySQL.git\n",
        "\n",
        "import TinySQL as qts"
      ]
    },
    {
      "cell_type": "code",
      "execution_count": null,
      "metadata": {
        "id": "bbgIvuWuzMRu"
      },
      "outputs": [],
      "source": [
        "clean_tokens = []\n",
        "patching_results = []"
      ]
    },
    {
      "cell_type": "code",
      "execution_count": null,
      "metadata": {
        "id": "54KJeeB0Sjjc"
      },
      "outputs": [],
      "source": [
        "# Key global \"input\" variables\n",
        "clean_prompt = \"\"\n",
        "corrupt_prompt = \"\"\n",
        "clean_tokenizer_index = qts.UNKNOWN_VALUE # Tokenizer vocab index for clean word\n",
        "corrupt_tokenizer_index = qts.UNKNOWN_VALUE # Tokenizer vocab index for corrupted word\n",
        "answer_token_index = qts.UNKNOWN_VALUE # Token index in sql command answer of clean/corrupt word\n",
        "\n",
        "# Key global \"results\" variables\n",
        "clean_logit_diff = qts.UNKNOWN_VALUE\n",
        "corrupt_logit_diff = qts.UNKNOWN_VALUE"
      ]
    },
    {
      "cell_type": "markdown",
      "metadata": {
        "id": "s6k59y0OZhp7"
      },
      "source": [
        "# Select model, command set and feature to investigate\n"
      ]
    },
    {
      "cell_type": "code",
      "execution_count": null,
      "metadata": {
        "id": "rl1akjeAUfoV"
      },
      "outputs": [],
      "source": [
        "model_num = 1                     # 0=GPT2, 1=TinyStories, 2=Qwen, 3=Llama, 4=Granite, 5=SmolLM\n",
        "cs_num = 1                        # 0=BaseModel, 1=CS1, 2=CS2 or 3=CS3\n",
        "feature_name = qts.DEFFIELDNAME   # ENGTABLENAME, ENGFIELDNAME, DEFTABLENAME, DEFFIELDNAME\n",
        "use_novel_names = False           # If True, we corrupt using words not found in the clean prompt or create sql e.g. \"little\" or \"hammer\"\n",
        "use_synonyms_table = False\n",
        "use_synonyms_field = False\n",
        "batch_size = 5"
      ]
    },
    {
      "cell_type": "markdown",
      "metadata": {
        "id": "y72URtyynvnv"
      },
      "source": [
        "# Load model"
      ]
    },
    {
      "cell_type": "code",
      "execution_count": null,
      "metadata": {
        "id": "oFaFTy6LnbxI"
      },
      "outputs": [],
      "source": [
        "hf_token = userdata.get(\"HF_TOKEN\")\n",
        "\n",
        "model = qts.load_tinysql_model(model_num, cs_num, auth_token=hf_token)\n",
        "model_hf = qts.sql_interp_model_location(model_num, cs_num)\n",
        "clear_output()\n",
        "print(model)"
      ]
    },
    {
      "cell_type": "code",
      "source": [
        "N_LAYERS, N_HEADS, D_MODEL, D_HEAD = qts.get_model_sizes(model_num, model)"
      ],
      "metadata": {
        "id": "UoZWM0rQxduM"
      },
      "execution_count": null,
      "outputs": []
    },
    {
      "cell_type": "markdown",
      "source": [
        "# Generate clean and corrupt data"
      ],
      "metadata": {
        "id": "YifzjHokxoeg"
      }
    },
    {
      "cell_type": "code",
      "execution_count": null,
      "metadata": {
        "id": "76YZ8VErsHjP"
      },
      "outputs": [],
      "source": [
        "generator = qts.CorruptFeatureTestGenerator(model_num, cs_num, model.tokenizer, use_novel_names=use_novel_names, use_synonyms_field=use_synonyms_field, use_synonyms_table=use_synonyms_table )\n",
        "examples = generator.generate_feature_examples(feature_name, batch_size)\n",
        "\n",
        "# Each examples is corrupted at prompt_token_index. A resulting impact is expected at answer_token_index\n",
        "example = examples[0]\n",
        "clean_tokenizer_index = example.clean_tokenizer_index\n",
        "corrupt_tokenizer_index = example.corrupt_tokenizer_index\n",
        "answer_token_index = example.answer_token_index\n",
        "\n",
        "# Truncate the clean_prompt at answer_token_index\n",
        "clean_prompt = example.clean_BatchItem.get_alpaca_prompt() + example.clean_BatchItem.sql_statement\n",
        "clean_tokens = model.tokenizer(clean_prompt)[\"input_ids\"]\n",
        "clean_tokens = clean_tokens[:answer_token_index+1]\n",
        "clean_prompt = model.tokenizer.decode(clean_tokens)\n",
        "\n",
        "# Truncate the corrupt_prompt at answer_token_index\n",
        "corrupt_prompt = example.corrupt_BatchItem.get_alpaca_prompt() + example.corrupt_BatchItem.sql_statement\n",
        "corrupt_tokens = model.tokenizer(corrupt_prompt)[\"input_ids\"]\n",
        "corrupt_tokens = corrupt_tokens[:answer_token_index+1]\n",
        "corrupt_prompt = model.tokenizer.decode(corrupt_tokens)\n",
        "\n",
        "print(\"Case:\", example.feature_name)\n",
        "print(\"Clean: Token=\", example.clean_token_str)\n",
        "print(\"Corrupt: Token=\", example.corrupt_token_str)\n",
        "print()\n",
        "print(\"Clean prompt:\", clean_prompt)\n",
        "print()\n",
        "print(\"Corrupt prompt:\", corrupt_prompt)"
      ]
    },
    {
      "cell_type": "markdown",
      "source": [
        "# Perform activation patching"
      ],
      "metadata": {
        "id": "WW-B_0BkyENo"
      }
    },
    {
      "cell_type": "code",
      "execution_count": null,
      "metadata": {
        "id": "XE8Qtsuc0Z6W"
      },
      "outputs": [],
      "source": [
        "def run_tinystories_patching():\n",
        "    run_results = []\n",
        "\n",
        "    # Enter nnsight tracing context\n",
        "    with model.trace() as tracer:\n",
        "        # Clean run\n",
        "        with tracer.invoke(clean_prompt) as invoker:\n",
        "            clean_tokens = invoker.inputs[0]['input_ids'][0]\n",
        "\n",
        "            # Store clean attention outputs for each layer and head\n",
        "            clean_attn_outputs = {}\n",
        "            for layer_idx in range(N_LAYERS):\n",
        "                # Get layer output\n",
        "                layer_output = model.transformer.h[layer_idx].output\n",
        "                hidden_states = layer_output[0]  # Get hidden states from tuple\n",
        "                # Reshape to separate heads\n",
        "                output_reshaped = einops.rearrange(\n",
        "                    hidden_states,\n",
        "                    'b s (nh dh) -> b s nh dh',\n",
        "                    nh=N_HEADS\n",
        "                )\n",
        "\n",
        "                for head_idx in range(N_HEADS):\n",
        "                    clean_attn_outputs[(layer_idx, head_idx)] = output_reshaped[:, :, head_idx, :].save()\n",
        "\n",
        "            clean_logits = model.lm_head.output\n",
        "\n",
        "            # Calculate the difference between the clean and corrupt token for the clean run\n",
        "            clean_logit_diff = (\n",
        "                clean_logits[0, -1, clean_tokenizer_index] -\n",
        "                clean_logits[0, -1, corrupt_tokenizer_index]\n",
        "            ).save()\n",
        "\n",
        "        # Corrupted run\n",
        "        with tracer.invoke(corrupt_prompt) as invoker:\n",
        "            corrupt_logits = model.lm_head.output\n",
        "\n",
        "            # Calculate the difference between the correct and incorrect answer for the corrupted run\n",
        "            corrupt_logit_diff = (\n",
        "                corrupt_logits[0, -1, clean_tokenizer_index] -\n",
        "                corrupt_logits[0, -1, corrupt_tokenizer_index]\n",
        "            ).save()\n",
        "\n",
        "        # Initialize results dictionary for layer-head combinations\n",
        "        results_dict = {}\n",
        "\n",
        "        # Iterate through all layers and heads\n",
        "        for layer_idx in range(N_LAYERS):\n",
        "            for head_idx in range(N_HEADS):\n",
        "                head_results = []\n",
        "\n",
        "                # Iterate through all tokens\n",
        "                for token_idx in range(len(clean_tokens)):\n",
        "                    # Patching corrupted run at given layer-head and token\n",
        "                    with tracer.invoke(corrupt_prompt) as invoker:\n",
        "                        # Get layer output\n",
        "                        layer_output = model.transformer.h[layer_idx].output\n",
        "                        hidden_states = layer_output[0]\n",
        "                        # Reshape to separate heads\n",
        "                        output_reshaped = einops.rearrange(\n",
        "                            hidden_states,\n",
        "                            'b s (nh dh) -> b s nh dh',\n",
        "                            nh=N_HEADS\n",
        "                        )\n",
        "\n",
        "                        # Patch only the specific head at the specific position\n",
        "                        output_reshaped[:, token_idx:token_idx+1, head_idx, :] = \\\n",
        "                            clean_attn_outputs[(layer_idx, head_idx)][:, token_idx:token_idx+1]\n",
        "\n",
        "                        # Reshape back\n",
        "                        patched_hidden_states = einops.rearrange(\n",
        "                            output_reshaped,\n",
        "                            'b s nh dh -> b s (nh dh)',\n",
        "                            nh=N_HEADS\n",
        "                        )\n",
        "\n",
        "                        # Set the entire output as a new tuple\n",
        "                        model.transformer.h[layer_idx].output = (patched_hidden_states,) + layer_output[1:]\n",
        "\n",
        "                        patched_logits = model.lm_head.output\n",
        "\n",
        "                        patched_logit_diff = (\n",
        "                            patched_logits[0, -1, clean_tokenizer_index] -\n",
        "                            patched_logits[0, -1, corrupt_tokenizer_index]\n",
        "                        )\n",
        "\n",
        "                        # Calculate the improvement in the correct token after patching\n",
        "                        patched_result = (patched_logit_diff - corrupt_logit_diff) / (\n",
        "                            clean_logit_diff - corrupt_logit_diff\n",
        "                        )\n",
        "\n",
        "                        head_results.append(patched_result.item().save())\n",
        "\n",
        "                        # Store final output for the last iteration\n",
        "                        if layer_idx == N_LAYERS - 1 and head_idx == N_HEADS - 1 and \\\n",
        "                           token_idx == len(clean_tokens) - 1:\n",
        "                            final_output = model.lm_head.output.argmax(dim=-1).save()\n",
        "\n",
        "                results_dict[(layer_idx, head_idx)] = head_results\n",
        "\n",
        "        # Convert results to desired format\n",
        "        for layer_idx in range(N_LAYERS):\n",
        "            layer_results = []\n",
        "            for head_idx in range(N_HEADS):\n",
        "                layer_results.append(results_dict[(layer_idx, head_idx)])\n",
        "            run_results.append(layer_results)\n",
        "\n",
        "    # Decode final output tokens\n",
        "    decoded_tokens = [model.tokenizer.decode(token) for token in final_output[0]]\n",
        "    token_labels = [f\"{token}\" for index, token in enumerate(decoded_tokens)]\n",
        "    print(\"Model output: \", \"\".join(token_labels))\n",
        "\n",
        "    run_results = qts.replace_weak_references(run_results)\n",
        "    qts.free_memory()  # Free up GPU and CPU memory\n",
        "\n",
        "    return clean_tokens, clean_logit_diff.item(), corrupt_logit_diff.item(), run_results\n",
        "\n",
        "if model_num == 1:  # TinyStories\n",
        "    clean_tokens, clean_logit_diff, corrupt_logit_diff, patching_results = run_tinystories_patching()"
      ]
    },
    {
      "cell_type": "code",
      "execution_count": null,
      "metadata": {
        "id": "mu9CeUC_3I9h"
      },
      "outputs": [],
      "source": [
        "def run_llm_patching():\n",
        "    run_results = []\n",
        "    N_LAYERS = len(model.model.layers)\n",
        "\n",
        "    # Clean run\n",
        "    with model.trace(clean_prompt) as tracer:\n",
        "        clean_tokens = tracer.invoker.inputs[0]['input_ids'][0]\n",
        "\n",
        "        # Get clean attention outputs for each layer and head\n",
        "        clean_attn_outputs = {}\n",
        "        for layer_idx in range(N_LAYERS):\n",
        "            z = model.model.layers[layer_idx].self_attn.o_proj.input\n",
        "            z_reshaped = einops.rearrange(z, 'b s (nh dh) -> b s nh dh', nh=N_HEADS)\n",
        "\n",
        "            for head_idx in range(N_HEADS):\n",
        "                clean_attn_outputs[(layer_idx, head_idx)] = z_reshaped[:, :, head_idx, :].save()\n",
        "\n",
        "        clean_logits = model.lm_head.output\n",
        "\n",
        "        # Calculate logit difference for clean run\n",
        "        clean_logit_diff = (\n",
        "            clean_logits[0, -1, clean_tokenizer_index] -\n",
        "            clean_logits[0, -1, corrupt_tokenizer_index]\n",
        "        ).save()\n",
        "\n",
        "    # Corrupted run\n",
        "    with model.trace(corrupt_prompt) as tracer:\n",
        "        corrupt_logits = model.lm_head.output\n",
        "\n",
        "        # Calculate logit difference for corrupted run\n",
        "        corrupt_logit_diff = (\n",
        "             corrupt_logits[0, -1, clean_tokenizer_index] -\n",
        "            corrupt_logits[0, -1, corrupt_tokenizer_index]\n",
        "        ).save()\n",
        "\n",
        "    # Initialize results structure for layer-head combinations\n",
        "    results_dict = {}\n",
        "\n",
        "    # Iterate through each layer-head combination\n",
        "    for layer_idx in tqdm(range(N_LAYERS), desc=\"Processing layers\"):\n",
        "        for head_idx in range(N_HEADS):\n",
        "            head_results = []\n",
        "\n",
        "            # For each position in the sequence\n",
        "            for token_idx in range(len(clean_tokens)):\n",
        "                # Patching corrupted run at given layer-head and token position\n",
        "                with model.trace(corrupt_prompt) as tracer:\n",
        "                    # Get corrupted attention output and reshape\n",
        "                    z_corrupt = model.model.layers[layer_idx].self_attn.o_proj.input\n",
        "                    z_corrupt = einops.rearrange(z_corrupt, 'b s (nh dh) -> b s nh dh', nh=N_HEADS)\n",
        "\n",
        "                    # Patch only the specific head at the specific position\n",
        "                    z_corrupt[:, token_idx:token_idx+1, head_idx, :] = \\\n",
        "                        clean_attn_outputs[(layer_idx, head_idx)][:, token_idx:token_idx+1]\n",
        "\n",
        "                    # Reshape back\n",
        "                    z_corrupt = einops.rearrange(z_corrupt, 'b s nh dh -> b s (nh dh)', nh=N_HEADS)\n",
        "                    model.model.layers[layer_idx].self_attn.o_proj.input = z_corrupt\n",
        "\n",
        "                    patched_logits = model.lm_head.output\n",
        "\n",
        "                    patched_logit_diff = (\n",
        "                        patched_logits[0, -1, clean_tokenizer_index] -\n",
        "                        patched_logits[0, -1, corrupt_tokenizer_index]\n",
        "                    )\n",
        "\n",
        "                    # Calculate improvement\n",
        "                    patching_result = (patched_logit_diff - corrupt_logit_diff) / (\n",
        "                        clean_logit_diff - corrupt_logit_diff\n",
        "                    )\n",
        "\n",
        "                    # Convert to item and save\n",
        "                    one_result = patching_result.item().save()\n",
        "                    head_results.append(one_result)\n",
        "\n",
        "            results_dict[(layer_idx, head_idx)] = head_results\n",
        "\n",
        "    # Convert results to desired format\n",
        "    run_results = []\n",
        "    for layer_idx in range(N_LAYERS):\n",
        "        layer_results = []\n",
        "        for head_idx in range(N_HEADS):\n",
        "            layer_results.append(results_dict[(layer_idx, head_idx)])\n",
        "        run_results.append(layer_results)\n",
        "\n",
        "    run_results = qts.replace_weak_references(run_results)\n",
        "    qts.free_memory()  # Free up GPU and CPU memory\n",
        "\n",
        "    return clean_tokens, clean_logit_diff.item(), corrupt_logit_diff.item(), run_results\n",
        "\n",
        "if model_num > 1:  # Qwen or Llama\n",
        "    clean_tokens, clean_logit_diff, corrupt_logit_diff, patching_results = run_llm_patching()"
      ]
    },
    {
      "cell_type": "markdown",
      "metadata": {
        "id": "T6SSvZ62DcE3"
      },
      "source": [
        "# Graph results"
      ]
    },
    {
      "cell_type": "code",
      "execution_count": null,
      "metadata": {
        "id": "xQBWZqh40cZT"
      },
      "outputs": [],
      "source": [
        "print(\"Case:\", example.feature_name)\n",
        "print(\"Clean token:\", example.clean_token_str)\n",
        "print(\"Corrupt token:\", example.corrupt_token_str)\n",
        "print(f\"Clean logit difference: {clean_logit_diff:.3f}\")\n",
        "print(f\"Corrupt logit difference: {corrupt_logit_diff:.3f}\")\n",
        "\n",
        "# Decode tokens for labels\n",
        "clean_decoded_tokens = [model.tokenizer.decode(token) for token in clean_tokens]\n",
        "token_labels = [f\"{token}_{index}\" for index, token in enumerate(clean_decoded_tokens)]\n",
        "\n",
        "# Reshape the patching results to combine layer and head into a single dimension\n",
        "n_layers = len(patching_results)\n",
        "n_heads = len(patching_results[0])\n",
        "n_positions = len(patching_results[0][0])\n",
        "\n",
        "# Reshape to combine layers and heads into single dimension\n",
        "results_2d = np.array(patching_results).reshape(n_layers * n_heads, n_positions)\n",
        "\n",
        "# Create labels for each layer-head combination\n",
        "layer_head_labels = [f\"L{l}_H{h}\" for l in range(n_layers) for h in range(n_heads)]\n",
        "\n",
        "# Create the heatmap\n",
        "fig = px.imshow(\n",
        "    results_2d,\n",
        "    color_continuous_midpoint=0.0,\n",
        "    color_continuous_scale=\"RdBu\",\n",
        "    labels={\"x\": \"Position\", \"y\": \"Layer_Head\", \"color\": \"Norm. Logit Diff\"},\n",
        "    x=token_labels,\n",
        "    y=layer_head_labels,\n",
        "    title=\"Layer-Head Patching Analysis\"\n",
        ")\n",
        "\n",
        "# Adjust layout\n",
        "fig.update_layout(\n",
        "    xaxis_tickangle=-45,  # Rotate labels 45 degrees\n",
        "    margin=dict(b=100, l=150),  # Increase margins for readability\n",
        "    xaxis=dict(\n",
        "        tickmode='array',\n",
        "        ticktext=token_labels,\n",
        "        tickvals=list(range(len(token_labels))),\n",
        "        tickfont=dict(size=10)\n",
        "    ),\n",
        "    yaxis=dict(\n",
        "        tickmode='array',\n",
        "        ticktext=layer_head_labels,\n",
        "        tickvals=list(range(len(layer_head_labels))),\n",
        "        tickfont=dict(size=10),\n",
        "        title=\"Layer_Head\"\n",
        "    ),\n",
        "    height=800  # Make plot taller to accommodate all layer-head combinations\n",
        ")\n",
        "\n",
        "fig.show()"
      ]
    },
    {
      "cell_type": "markdown",
      "metadata": {
        "id": "ptjui8DdH2KF"
      },
      "source": [
        "# Save results as JSON"
      ]
    },
    {
      "cell_type": "code",
      "execution_count": null,
      "metadata": {
        "id": "1PjIEiHIGjYa"
      },
      "outputs": [],
      "source": [
        "# Save results\n",
        "def save_patching_results(patching_results, clean_tokens, clean_logit_diff, corrupt_logit_diff,\n",
        "                          model_num, cs_num, model_hf, use_novel_names, use_synonyms_table, use_synonyms_field,\n",
        "                          num_sql_fields, batch_size):\n",
        "    # Create timestamp\n",
        "    timestamp = datetime.datetime.now().strftime(\"%Y%m%d_%H%M%S\")\n",
        "\n",
        "    # Create results dictionary with metadata first\n",
        "    results_dict = {\n",
        "        \"metadata\": {\n",
        "            \"source\": \"tinysql_activation_patching_json.ipynb\",\n",
        "            \"timestamp\": timestamp,\n",
        "            \"model_num\": model_num,\n",
        "            \"model_hf\": model_hf,\n",
        "            \"commandset\": cs_num,\n",
        "            \"use_novel_names\":use_novel_names,\n",
        "            \"use_synonyms_table\": use_synonyms_table,\n",
        "            \"use_synonyms_field\": use_synonyms_field,\n",
        "            \"num_sql_fields\": num_sql_fields,\n",
        "            \"batch_size\": batch_size,\n",
        "            \"n_positions\": len(patching_results[0][0]),\n",
        "            \"n_layers\": len(patching_results),\n",
        "            \"n_heads\": len(patching_results[0])\n",
        "        },\n",
        "        \"patching_results\": np.array(patching_results).tolist(),\n",
        "        \"clean_tokens\": clean_tokens.tolist() if hasattr(clean_tokens, 'tolist') else clean_tokens,\n",
        "        \"clean_logit_diff\": float(clean_logit_diff),\n",
        "        \"corrupt_logit_diff\": float(corrupt_logit_diff),\n",
        "    }\n",
        "\n",
        "    # Create filename with timestamp and model name\n",
        "    filename = f'activation_patching_results_{model_num}_{cs_num}_novel_names.{use_novel_names}.table.{use_synonyms_table}.field.{use_synonyms_field}.json'\n",
        "\n",
        "    # Save to JSON file\n",
        "    with open(filename, 'w') as f:\n",
        "        json.dump(results_dict, f, indent=2)\n",
        "\n",
        "    print(f\"Results saved to {filename}\")\n",
        "    return filename\n",
        "\n",
        "# Load and plot results\n",
        "def load_and_plot_results(json_path):\n",
        "    # Load JSON file\n",
        "    with open(json_path, 'r') as f:\n",
        "        data = json.load(f)\n",
        "\n",
        "    # Extract data\n",
        "    patching_results = np.array(data['patching_results'])\n",
        "    metadata = data['metadata']\n",
        "\n",
        "    # Reshape to combine layers and heads\n",
        "    results_2d = patching_results.reshape(metadata['n_layers'] * metadata['n_heads'],\n",
        "                                          metadata['n_positions'])\n",
        "\n",
        "    # Create labels\n",
        "    layer_head_labels = [f\"L{l}_H{h}\" for l in range(metadata['n_layers'])\n",
        "                         for h in range(metadata['n_heads'])]\n",
        "    position_labels = [f\"pos_{i}\" for i in range(metadata['n_positions'])]\n",
        "\n",
        "    # Create title with metadata\n",
        "    title = (f\"Layer-Head Patching Analysis\\n\"\n",
        "             f\"Source: {metadata['source']}, Model: {metadata['model_num']}, Dataset: {metadata['commandset']}\\n\"\n",
        "             f\"Time: {metadata['timestamp']}\")\n",
        "\n",
        "    # Create the heatmap\n",
        "    fig = px.imshow(\n",
        "        results_2d,\n",
        "        color_continuous_midpoint=0.0,\n",
        "        color_continuous_scale=\"RdBu\",\n",
        "        labels={\"x\": \"Position\", \"y\": \"Layer_Head\", \"color\": \"Norm. Logit Diff\"},\n",
        "        x=position_labels,\n",
        "        y=layer_head_labels,\n",
        "        title=title\n",
        "    )\n",
        "\n",
        "    # Adjust layout\n",
        "    fig.update_layout(\n",
        "        xaxis_tickangle=-45,\n",
        "        margin=dict(b=100, l=150, t=130),\n",
        "        xaxis=dict(\n",
        "            tickmode='array',\n",
        "            ticktext=position_labels,\n",
        "            tickvals=list(range(len(position_labels))),\n",
        "            tickfont=dict(size=10)\n",
        "        ),\n",
        "        yaxis=dict(\n",
        "            tickmode='array',\n",
        "            ticktext=layer_head_labels,\n",
        "            tickvals=list(range(len(layer_head_labels))),\n",
        "            tickfont=dict(size=10),\n",
        "            title=\"Layer_Head\"\n",
        "        ),\n",
        "        height=800\n",
        "    )\n",
        "\n",
        "    # Print metrics and metadata\n",
        "    print(\"Experiment Information:\")\n",
        "    for key, value in metadata.items():\n",
        "        print(f\"{key.replace('_', ' ').title()}: {value}\")\n",
        "\n",
        "    print(\"\\nMetrics:\")\n",
        "    print(f\"Clean logit difference: {data['clean_logit_diff']:.3f}\")\n",
        "    print(f\"Corrupt logit difference: {data['corrupt_logit_diff']:.3f}\")\n",
        "\n",
        "    return fig\n",
        "\n"
      ]
    },
    {
      "cell_type": "code",
      "execution_count": null,
      "metadata": {
        "id": "3DvVEkRPgeSt"
      },
      "outputs": [],
      "source": [
        "save_patching_results(patching_results, clean_tokens, clean_logit_diff, corrupt_logit_diff,\n",
        "                          model_num, cs_num, model_hf, use_novel_names, use_synonyms_table, use_synonyms_field,\n",
        "                          2, batch_size)"
      ]
    }
  ],
  "metadata": {
    "accelerator": "GPU",
    "colab": {
      "collapsed_sections": [
        "YifzjHokxoeg"
      ],
      "gpuType": "A100",
      "machine_shape": "hm",
      "provenance": []
    },
    "kernelspec": {
      "display_name": "Python 3",
      "name": "python3"
    },
    "language_info": {
      "codemirror_mode": {
        "name": "ipython",
        "version": 3
      },
      "file_extension": ".py",
      "mimetype": "text/x-python",
      "name": "python",
      "nbconvert_exporter": "python",
      "pygments_lexer": "ipython3",
      "version": "3.11.10"
    }
  },
  "nbformat": 4,
  "nbformat_minor": 0
}