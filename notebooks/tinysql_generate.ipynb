{
  "cells": [
    {
      "cell_type": "markdown",
      "metadata": {
        "id": "yQAsYjSQVXHC"
      },
      "source": [
        "# Prediction generation on M0 .. M5 models using nnsight\n",
        "- Developed on Google Colab using an A100 with 40GB GPU and 80GB system RAM.\n",
        "- Runs with GPT2/TinyStories/Qwen/Llama/Granite/SmolLM with base/CS1/CS2/CS3.\n",
        "- Requires a GITHUB_TOKEN secret to access Martian quanta_text_to_sql code repository.\n",
        "- Requires a HF_TOKEN secret to access Martian HuggingFace repository.\n"
      ]
    },
    {
      "cell_type": "markdown",
      "metadata": {
        "id": "z1tQZgLUnojc"
      },
      "source": [
        "# Import libraries\n",
        "Imports standard libraries. Do not read."
      ]
    },
    {
      "cell_type": "code",
      "execution_count": null,
      "metadata": {
        "id": "qt2jt2bHcY2v"
      },
      "outputs": [],
      "source": [
        "# https://nnsight.net/\n",
        "!pip install -U nnsight"
      ]
    },
    {
      "cell_type": "code",
      "execution_count": null,
      "metadata": {
        "id": "Vif7qLNrlC0P"
      },
      "outputs": [],
      "source": [
        "from IPython.display import clear_output\n",
        "import einops\n",
        "import torch\n",
        "import plotly.express as px\n",
        "import plotly.io as pio\n",
        "pio.renderers.default = \"colab\"\n",
        "\n",
        "import nnsight\n",
        "from nnsight import LanguageModel, util\n",
        "from nnsight.tracing.Proxy import Proxy"
      ]
    },
    {
      "cell_type": "code",
      "execution_count": null,
      "metadata": {
        "id": "orVn0wTnosHO"
      },
      "outputs": [],
      "source": [
        "from getpass import getpass\n",
        "from google.colab import userdata\n",
        "import gc\n",
        "import weakref"
      ]
    },
    {
      "cell_type": "code",
      "execution_count": null,
      "metadata": {
        "id": "BMWEb8TJoske"
      },
      "outputs": [],
      "source": [
        "github_token = userdata.get(\"GITHUB_TOKEN\")\n",
        "\n",
        "# Install the private repository using the token\n",
        "!pip install --upgrade git+https://{github_token}@github.com/withmartian/quanta_text_to_sql.git\n",
        "\n",
        "import QuantaTextToSql as qts"
      ]
    },
    {
      "cell_type": "markdown",
      "source": [
        "# Select model, command set and feature to investigate\n"
      ],
      "metadata": {
        "id": "s6k59y0OZhp7"
      }
    },
    {
      "cell_type": "code",
      "source": [
        "model_num = 3                 # 0=GPT2, 1=TinyStories, 2=Qwen, 3=Llama, 4=Granite, 5=SmolLM\n",
        "cs_num = 1                    # 0=BaseModel, 1=CS1, 2=CS2 or 3=CS3\n",
        "max_new_tokens = 100          # Max number of tokens to generate"
      ],
      "metadata": {
        "id": "rl1akjeAUfoV"
      },
      "execution_count": null,
      "outputs": []
    },
    {
      "cell_type": "markdown",
      "metadata": {
        "id": "S-TNF3PVlGV0"
      },
      "source": [
        "# Run m0 : nnsight tutorial using GPT2\n",
        "Based on https://nnsight.net/notebooks/tutorials/activation_patching/\n",
        "\n"
      ]
    },
    {
      "cell_type": "code",
      "execution_count": null,
      "metadata": {
        "id": "Vz_E9jx7lWt1"
      },
      "outputs": [],
      "source": [
        "if model_num == 0:\n",
        "    model0 = LanguageModel(\"openai-community/gpt2\", device_map=\"auto\")\n",
        "    clear_output()\n",
        "    print(model0)"
      ]
    },
    {
      "cell_type": "code",
      "execution_count": null,
      "metadata": {
        "id": "hE3kLr-Pm57W"
      },
      "outputs": [],
      "source": [
        "if model_num == 0: # GPT2\n",
        "    the_prompt = \"After John and Mary went to the store, Mary gave a bottle of milk to\"\n",
        "    print(\"Model input: \", the_prompt)\n",
        "    inputs = model0.tokenizer(the_prompt, return_tensors=\"pt\", padding=True)\n",
        "\n",
        "    with model0.generate(inputs['input_ids'], max_new_tokens=25, pad_token_id=model0.tokenizer.eos_token_id) as tracer:\n",
        "        final_output = model0.generator.output.save()\n",
        "\n",
        "    final_output = final_output.detach().cpu().numpy()\n",
        "\n",
        "    decoded_output = model0.tokenizer.decode(final_output[0], skip_special_tokens=True)\n",
        "    print(\"Model output:\", decoded_output)"
      ]
    },
    {
      "cell_type": "markdown",
      "metadata": {
        "id": "y72URtyynvnv"
      },
      "source": [
        "# Run m1, m2 and m3 models"
      ]
    },
    {
      "cell_type": "code",
      "execution_count": null,
      "metadata": {
        "id": "oFaFTy6LnbxI"
      },
      "outputs": [],
      "source": [
        "if model_num > 0:\n",
        "\n",
        "    if model_num == 1:\n",
        "        the_tokenizer, the_model = qts.load_sql_interp_model(model_num, cs_num, auth_token=userdata.get(\"HF_TOKEN\"), use_flash_attention=False)\n",
        "        model = LanguageModel(the_model, the_tokenizer)\n",
        "        model.tokenizer = the_tokenizer\n",
        "    else:\n",
        "        model = LanguageModel(qts.sql_interp_model_location(model_num, cs_num), device_map=\"auto\")\n",
        "\n",
        "\n",
        "    clear_output()\n",
        "    print(model)"
      ]
    },
    {
      "cell_type": "code",
      "execution_count": null,
      "metadata": {
        "id": "76YZ8VErsHjP"
      },
      "outputs": [],
      "source": [
        "if model_num > 0:\n",
        "    # Generate a batch of prompts\n",
        "    batch_size = 50\n",
        "\n",
        "    if cs_num == 0 or cs_num == 1:\n",
        "      examples = qts.generate_cs1(batch_size)\n",
        "    elif cs_num == 2:\n",
        "      examples = qts.generate_cs2(batch_size)\n",
        "    elif cs_num == 3:\n",
        "      examples = qts.generate_cs3(batch_size)"
      ]
    },
    {
      "cell_type": "code",
      "source": [
        "if model_num > 0:\n",
        "\n",
        "    score_sum = 0\n",
        "    for idx in range(batch_size):\n",
        "        example = examples[idx]\n",
        "\n",
        "        the_prompt = example.get_alpaca_prompt()\n",
        "        #print(\"Run:\", idx, \"Model input:\", the_prompt)\n",
        "\n",
        "        inputs = model.tokenizer(the_prompt, return_tensors=\"pt\", padding=True)\n",
        "        with model.generate(inputs['input_ids'], max_new_tokens=max_new_tokens) as tracer:\n",
        "            final_output = model.generator.output.save()\n",
        "\n",
        "        final_output = final_output.detach().cpu().numpy()\n",
        "        decoded_output = model.tokenizer.decode(final_output[0], skip_special_tokens=True)\n",
        "\n",
        "        assert decoded_output.startswith(the_prompt)\n",
        "        model_added = decoded_output[len(the_prompt):]\n",
        "        #print(\"Run:\", idx, \"Model added:\", model_added)\n",
        "\n",
        "        score = 0\n",
        "        if cs_num == 0 or cs_num == 1:\n",
        "            score = qts.evaluate_cs1_prediction(example, model_added)\n",
        "        elif cs_num == 2:\n",
        "            score = qts.evaluate_cs2_prediction(example, model_added)\n",
        "        elif cs_num == 3:\n",
        "            score = qts.evaluate_cs3_prediction(example, model_added)\n",
        "        if score < 1:\n",
        "          print(\"Run:\", idx, \"Score:\", score)\n",
        "        score_sum += score\n",
        "\n",
        "    print()\n",
        "    print(\"Average score:\", score_sum/batch_size)"
      ],
      "metadata": {
        "id": "XE8Qtsuc0Z6W"
      },
      "execution_count": null,
      "outputs": []
    },
    {
      "cell_type": "code",
      "source": [
        "print(\"Pad token ID:\", model.tokenizer.pad_token_id)\n",
        "print(\"EOS token ID:\", model.tokenizer.eos_token_id)\n",
        "#model.tokenizer.pad_token_id = model.tokenizer.eos_token_id"
      ],
      "metadata": {
        "id": "zQYZWqYPf9t2"
      },
      "execution_count": null,
      "outputs": []
    }
  ],
  "metadata": {
    "accelerator": "GPU",
    "colab": {
      "collapsed_sections": [
        "z1tQZgLUnojc",
        "S-TNF3PVlGV0"
      ],
      "gpuType": "T4",
      "machine_shape": "hm",
      "provenance": []
    },
    "kernelspec": {
      "display_name": "Python 3",
      "name": "python3"
    },
    "language_info": {
      "name": "python"
    }
  },
  "nbformat": 4,
  "nbformat_minor": 0
}