{
  "cells": [
    {
      "cell_type": "markdown",
      "metadata": {
        "id": "yQAsYjSQVXHC"
      },
      "source": [
        "# Prediction generation on M0 .. M5 models using nnsight\n",
        "\n",
        "This notebook:\n",
        "- runs with models M0 to M5 and command sets CS1 to CS3\n",
        "- uses the generate_csN functions to generate prompts\n",
        "- uses the nnsight \"max_new_tokens\" function to generate a full answer\n",
        "- scores the prediction accuracy uasing evaluate_csN_prediction and also \"exact match\"\n",
        "\n",
        "This notebook was:\n",
        "- Developed on Google Colab using an A100 with 40GB GPU and 80GB system RAM.\n",
        "- Runs with GPT2/TinyStories/Qwen/Llama/Granite/SmolLM with base/CS1/CS2/CS3.\n",
        "- Requires a GITHUB_TOKEN secret to access Martian quanta_text_to_sql code repository.\n",
        "- Requires a HF_TOKEN secret to access Martian HuggingFace repository.\n"
      ]
    },
    {
      "cell_type": "markdown",
      "metadata": {
        "id": "z1tQZgLUnojc"
      },
      "source": [
        "# Import libraries\n",
        "Imports standard libraries. Do not read."
      ]
    },
    {
      "cell_type": "code",
      "execution_count": null,
      "metadata": {
        "colab": {
          "base_uri": "https://localhost:8080/"
        },
        "id": "qt2jt2bHcY2v",
        "outputId": "6a7aee33-6076-4b16-abad-4d28ea420af4"
      },
      "outputs": [
        {
          "output_type": "stream",
          "name": "stdout",
          "text": [
            "Collecting nnsight\n",
            "  Downloading nnsight-0.3.7-py3-none-any.whl.metadata (15 kB)\n",
            "Requirement already satisfied: transformers in /usr/local/lib/python3.10/dist-packages (from nnsight) (4.46.3)\n",
            "Requirement already satisfied: protobuf in /usr/local/lib/python3.10/dist-packages (from nnsight) (4.25.5)\n",
            "Collecting python-socketio[client] (from nnsight)\n",
            "  Downloading python_socketio-5.11.4-py3-none-any.whl.metadata (3.2 kB)\n",
            "Requirement already satisfied: tokenizers>=0.13.0 in /usr/local/lib/python3.10/dist-packages (from nnsight) (0.20.3)\n",
            "Requirement already satisfied: pydantic>=2.9.0 in /usr/local/lib/python3.10/dist-packages (from nnsight) (2.10.3)\n",
            "Requirement already satisfied: torch>=2.4.0 in /usr/local/lib/python3.10/dist-packages (from nnsight) (2.5.1+cu121)\n",
            "Requirement already satisfied: sentencepiece in /usr/local/lib/python3.10/dist-packages (from nnsight) (0.2.0)\n",
            "Requirement already satisfied: torchvision in /usr/local/lib/python3.10/dist-packages (from nnsight) (0.20.1+cu121)\n",
            "Requirement already satisfied: accelerate in /usr/local/lib/python3.10/dist-packages (from nnsight) (1.1.1)\n",
            "Requirement already satisfied: diffusers in /usr/local/lib/python3.10/dist-packages (from nnsight) (0.31.0)\n",
            "Requirement already satisfied: einops in /usr/local/lib/python3.10/dist-packages (from nnsight) (0.8.0)\n",
            "Requirement already satisfied: annotated-types>=0.6.0 in /usr/local/lib/python3.10/dist-packages (from pydantic>=2.9.0->nnsight) (0.7.0)\n",
            "Requirement already satisfied: pydantic-core==2.27.1 in /usr/local/lib/python3.10/dist-packages (from pydantic>=2.9.0->nnsight) (2.27.1)\n",
            "Requirement already satisfied: typing-extensions>=4.12.2 in /usr/local/lib/python3.10/dist-packages (from pydantic>=2.9.0->nnsight) (4.12.2)\n",
            "Requirement already satisfied: huggingface-hub<1.0,>=0.16.4 in /usr/local/lib/python3.10/dist-packages (from tokenizers>=0.13.0->nnsight) (0.26.3)\n",
            "Requirement already satisfied: filelock in /usr/local/lib/python3.10/dist-packages (from torch>=2.4.0->nnsight) (3.16.1)\n",
            "Requirement already satisfied: networkx in /usr/local/lib/python3.10/dist-packages (from torch>=2.4.0->nnsight) (3.4.2)\n",
            "Requirement already satisfied: jinja2 in /usr/local/lib/python3.10/dist-packages (from torch>=2.4.0->nnsight) (3.1.4)\n",
            "Requirement already satisfied: fsspec in /usr/local/lib/python3.10/dist-packages (from torch>=2.4.0->nnsight) (2024.10.0)\n",
            "Requirement already satisfied: sympy==1.13.1 in /usr/local/lib/python3.10/dist-packages (from torch>=2.4.0->nnsight) (1.13.1)\n",
            "Requirement already satisfied: mpmath<1.4,>=1.1.0 in /usr/local/lib/python3.10/dist-packages (from sympy==1.13.1->torch>=2.4.0->nnsight) (1.3.0)\n",
            "Requirement already satisfied: numpy<3.0.0,>=1.17 in /usr/local/lib/python3.10/dist-packages (from accelerate->nnsight) (1.26.4)\n",
            "Requirement already satisfied: packaging>=20.0 in /usr/local/lib/python3.10/dist-packages (from accelerate->nnsight) (24.2)\n",
            "Requirement already satisfied: psutil in /usr/local/lib/python3.10/dist-packages (from accelerate->nnsight) (5.9.5)\n",
            "Requirement already satisfied: pyyaml in /usr/local/lib/python3.10/dist-packages (from accelerate->nnsight) (6.0.2)\n",
            "Requirement already satisfied: safetensors>=0.4.3 in /usr/local/lib/python3.10/dist-packages (from accelerate->nnsight) (0.4.5)\n",
            "Requirement already satisfied: importlib-metadata in /usr/local/lib/python3.10/dist-packages (from diffusers->nnsight) (8.5.0)\n",
            "Requirement already satisfied: regex!=2019.12.17 in /usr/local/lib/python3.10/dist-packages (from diffusers->nnsight) (2024.9.11)\n",
            "Requirement already satisfied: requests in /usr/local/lib/python3.10/dist-packages (from diffusers->nnsight) (2.32.3)\n",
            "Requirement already satisfied: Pillow in /usr/local/lib/python3.10/dist-packages (from diffusers->nnsight) (11.0.0)\n",
            "Collecting bidict>=0.21.0 (from python-socketio[client]->nnsight)\n",
            "  Downloading bidict-0.23.1-py3-none-any.whl.metadata (8.7 kB)\n",
            "Collecting python-engineio>=4.8.0 (from python-socketio[client]->nnsight)\n",
            "  Downloading python_engineio-4.10.1-py3-none-any.whl.metadata (2.2 kB)\n",
            "Requirement already satisfied: websocket-client>=0.54.0 in /usr/local/lib/python3.10/dist-packages (from python-socketio[client]->nnsight) (1.8.0)\n",
            "Requirement already satisfied: tqdm>=4.27 in /usr/local/lib/python3.10/dist-packages (from transformers->nnsight) (4.66.6)\n",
            "Collecting simple-websocket>=0.10.0 (from python-engineio>=4.8.0->python-socketio[client]->nnsight)\n",
            "  Downloading simple_websocket-1.1.0-py3-none-any.whl.metadata (1.5 kB)\n",
            "Requirement already satisfied: charset-normalizer<4,>=2 in /usr/local/lib/python3.10/dist-packages (from requests->diffusers->nnsight) (3.4.0)\n",
            "Requirement already satisfied: idna<4,>=2.5 in /usr/local/lib/python3.10/dist-packages (from requests->diffusers->nnsight) (3.10)\n",
            "Requirement already satisfied: urllib3<3,>=1.21.1 in /usr/local/lib/python3.10/dist-packages (from requests->diffusers->nnsight) (2.2.3)\n",
            "Requirement already satisfied: certifi>=2017.4.17 in /usr/local/lib/python3.10/dist-packages (from requests->diffusers->nnsight) (2024.8.30)\n",
            "Requirement already satisfied: zipp>=3.20 in /usr/local/lib/python3.10/dist-packages (from importlib-metadata->diffusers->nnsight) (3.21.0)\n",
            "Requirement already satisfied: MarkupSafe>=2.0 in /usr/local/lib/python3.10/dist-packages (from jinja2->torch>=2.4.0->nnsight) (3.0.2)\n",
            "Collecting wsproto (from simple-websocket>=0.10.0->python-engineio>=4.8.0->python-socketio[client]->nnsight)\n",
            "  Downloading wsproto-1.2.0-py3-none-any.whl.metadata (5.6 kB)\n",
            "Requirement already satisfied: h11<1,>=0.9.0 in /usr/local/lib/python3.10/dist-packages (from wsproto->simple-websocket>=0.10.0->python-engineio>=4.8.0->python-socketio[client]->nnsight) (0.14.0)\n",
            "Downloading nnsight-0.3.7-py3-none-any.whl (3.5 MB)\n",
            "\u001b[2K   \u001b[90m━━━━━━━━━━━━━━━━━━━━━━━━━━━━━━━━━━━━━━━━\u001b[0m \u001b[32m3.5/3.5 MB\u001b[0m \u001b[31m34.2 MB/s\u001b[0m eta \u001b[36m0:00:00\u001b[0m\n",
            "\u001b[?25hDownloading bidict-0.23.1-py3-none-any.whl (32 kB)\n",
            "Downloading python_engineio-4.10.1-py3-none-any.whl (57 kB)\n",
            "\u001b[2K   \u001b[90m━━━━━━━━━━━━━━━━━━━━━━━━━━━━━━━━━━━━━━━━\u001b[0m \u001b[32m57.9/57.9 kB\u001b[0m \u001b[31m4.3 MB/s\u001b[0m eta \u001b[36m0:00:00\u001b[0m\n",
            "\u001b[?25hDownloading python_socketio-5.11.4-py3-none-any.whl (76 kB)\n",
            "\u001b[2K   \u001b[90m━━━━━━━━━━━━━━━━━━━━━━━━━━━━━━━━━━━━━━━━\u001b[0m \u001b[32m76.2/76.2 kB\u001b[0m \u001b[31m5.7 MB/s\u001b[0m eta \u001b[36m0:00:00\u001b[0m\n",
            "\u001b[?25hDownloading simple_websocket-1.1.0-py3-none-any.whl (13 kB)\n",
            "Downloading wsproto-1.2.0-py3-none-any.whl (24 kB)\n"
          ]
        }
      ],
      "source": [
        "# https://nnsight.net/\n",
        "!pip install -U nnsight"
      ]
    },
    {
      "cell_type": "code",
      "execution_count": null,
      "metadata": {
        "id": "Vif7qLNrlC0P"
      },
      "outputs": [],
      "source": [
        "from IPython.display import clear_output\n",
        "import einops\n",
        "import torch\n",
        "import plotly.express as px\n",
        "import plotly.io as pio\n",
        "pio.renderers.default = \"colab\"\n",
        "\n",
        "import nnsight\n",
        "from nnsight import LanguageModel, util\n",
        "from nnsight.tracing.Proxy import Proxy"
      ]
    },
    {
      "cell_type": "code",
      "execution_count": null,
      "metadata": {
        "id": "orVn0wTnosHO"
      },
      "outputs": [],
      "source": [
        "from getpass import getpass\n",
        "from google.colab import userdata\n",
        "import gc\n",
        "import weakref"
      ]
    },
    {
      "cell_type": "code",
      "execution_count": null,
      "metadata": {
        "id": "BMWEb8TJoske"
      },
      "outputs": [],
      "source": [
        "github_token = userdata.get(\"GITHUB_TOKEN\")\n",
        "\n",
        "# Install the private repository using the token\n",
        "!pip install --upgrade git+https://{github_token}@github.com/withmartian/quanta_text_to_sql.git\n",
        "\n",
        "import QuantaTextToSql as qts"
      ]
    },
    {
      "cell_type": "markdown",
      "source": [
        "# Select model, command set and feature to investigate\n"
      ],
      "metadata": {
        "id": "s6k59y0OZhp7"
      }
    },
    {
      "cell_type": "code",
      "source": [
        "model_num = 3                 # 0=GPT2, 1=TinyStories, 2=Qwen, 3=Llama, 4=Granite, 5=SmolLM\n",
        "cs_num = 1                    # 0=BaseModel, 1=CS1, 2=CS2 or 3=CS3\n",
        "max_new_tokens = 100          # Max number of tokens to generate"
      ],
      "metadata": {
        "id": "rl1akjeAUfoV"
      },
      "execution_count": null,
      "outputs": []
    },
    {
      "cell_type": "markdown",
      "metadata": {
        "id": "S-TNF3PVlGV0"
      },
      "source": [
        "# Run m0 : nnsight tutorial using GPT2\n",
        "Based on https://nnsight.net/notebooks/tutorials/activation_patching/\n",
        "\n"
      ]
    },
    {
      "cell_type": "code",
      "execution_count": null,
      "metadata": {
        "id": "Vz_E9jx7lWt1"
      },
      "outputs": [],
      "source": [
        "if model_num == 0:\n",
        "    model0 = LanguageModel(\"openai-community/gpt2\", device_map=\"auto\")\n",
        "    clear_output()\n",
        "    print(model0)"
      ]
    },
    {
      "cell_type": "code",
      "execution_count": null,
      "metadata": {
        "id": "hE3kLr-Pm57W"
      },
      "outputs": [],
      "source": [
        "if model_num == 0: # GPT2\n",
        "    the_prompt = \"After John and Mary went to the store, Mary gave a bottle of milk to\"\n",
        "    print(\"Model input: \", the_prompt)\n",
        "    inputs = model0.tokenizer(the_prompt, return_tensors=\"pt\", padding=True)\n",
        "\n",
        "    with model0.generate(inputs['input_ids'], max_new_tokens=25, pad_token_id=model0.tokenizer.eos_token_id) as tracer:\n",
        "        final_output = model0.generator.output.save()\n",
        "\n",
        "    final_output = final_output.detach().cpu().numpy()\n",
        "\n",
        "    decoded_output = model0.tokenizer.decode(final_output[0], skip_special_tokens=True)\n",
        "    print(\"Model output:\", decoded_output)"
      ]
    },
    {
      "cell_type": "markdown",
      "metadata": {
        "id": "y72URtyynvnv"
      },
      "source": [
        "# Run m1, m2 and m3 models"
      ]
    },
    {
      "cell_type": "code",
      "execution_count": null,
      "metadata": {
        "id": "oFaFTy6LnbxI"
      },
      "outputs": [],
      "source": [
        "if model_num > 0:\n",
        "\n",
        "    if model_num == 1:\n",
        "        the_tokenizer, the_model = qts.load_sql_interp_model(model_num, cs_num, auth_token=userdata.get(\"HF_TOKEN\"), use_flash_attention=False)\n",
        "        model = LanguageModel(the_model, the_tokenizer)\n",
        "        model.tokenizer = the_tokenizer\n",
        "    else:\n",
        "        model = LanguageModel(qts.sql_interp_model_location(model_num, cs_num), device_map=\"auto\")\n",
        "\n",
        "\n",
        "    clear_output()\n",
        "    print(model)"
      ]
    },
    {
      "cell_type": "code",
      "execution_count": null,
      "metadata": {
        "id": "76YZ8VErsHjP"
      },
      "outputs": [],
      "source": [
        "if model_num > 0:\n",
        "    # Generate a batch of prompts\n",
        "    batch_size = 50\n",
        "\n",
        "    if cs_num == 0 or cs_num == 1:\n",
        "      examples = qts.generate_cs1(batch_size)\n",
        "    elif cs_num == 2:\n",
        "      examples = qts.generate_cs2(batch_size)\n",
        "    elif cs_num == 3:\n",
        "      examples = qts.generate_cs3(batch_size)"
      ]
    },
    {
      "cell_type": "code",
      "source": [
        "if model_num > 0:\n",
        "\n",
        "    score1_sum = 0\n",
        "    score2_sum = 0\n",
        "    for idx in range(batch_size):\n",
        "        example = examples[idx]\n",
        "\n",
        "        the_prompt = example.get_alpaca_prompt()\n",
        "        #print(\"Run:\", idx, \"Model input:\", the_prompt)\n",
        "\n",
        "        inputs = model.tokenizer(the_prompt, return_tensors=\"pt\", padding=True)\n",
        "        with model.generate(inputs['input_ids'], max_new_tokens=max_new_tokens, pad_token_id=model.tokenizer.eos_token_id) as tracer:\n",
        "            final_output = model.generator.output.save()\n",
        "\n",
        "        final_output = final_output.detach().cpu().numpy()\n",
        "        decoded_output = model.tokenizer.decode(final_output[0], skip_special_tokens=True)\n",
        "\n",
        "        assert decoded_output.startswith(the_prompt)\n",
        "        model_added = decoded_output[len(the_prompt):]\n",
        "        #print(\"Run:\", idx, \"Model added:\", model_added)\n",
        "\n",
        "        score1 = 0\n",
        "        if cs_num == 0 or cs_num == 1:\n",
        "            score1 = qts.evaluate_cs1_prediction(example, model_added)\n",
        "        elif cs_num == 2:\n",
        "            score1 = qts.evaluate_cs2_prediction(example, model_added)\n",
        "        elif cs_num == 3:\n",
        "            score1 = qts.evaluate_cs3_prediction(example, model_added)\n",
        "        score2 = 1 if model_added == example.sql_statement else 0\n",
        "\n",
        "        if score1 < 1 or score2 < 0:\n",
        "          print(\"Run:\", idx, \"Score1:\", score1, \"Score2:\", score2)\n",
        "\n",
        "        score1_sum += score1\n",
        "        score2_sum += score2\n",
        "\n",
        "    print()\n",
        "    print(\"Averages: Score1:\", score1_sum/batch_size, \"Score2:\", score2_sum/batch_size)"
      ],
      "metadata": {
        "id": "XE8Qtsuc0Z6W"
      },
      "execution_count": null,
      "outputs": []
    }
  ],
  "metadata": {
    "accelerator": "GPU",
    "colab": {
      "collapsed_sections": [
        "z1tQZgLUnojc",
        "S-TNF3PVlGV0"
      ],
      "gpuType": "T4",
      "machine_shape": "hm",
      "provenance": []
    },
    "kernelspec": {
      "display_name": "Python 3",
      "name": "python3"
    },
    "language_info": {
      "name": "python"
    }
  },
  "nbformat": 4,
  "nbformat_minor": 0
}