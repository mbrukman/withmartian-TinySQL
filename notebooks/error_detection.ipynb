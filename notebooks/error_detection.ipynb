{
 "cells": [
  {
   "cell_type": "code",
   "execution_count": 1,
   "id": "f3c170b0-7c6e-4b78-b562-d9a283850d96",
   "metadata": {},
   "outputs": [
    {
     "name": "stdout",
     "output_type": "stream",
     "text": [
      "Cloning into 'TinySQL'...\n",
      "remote: Enumerating objects: 1662, done.\u001b[K\n",
      "remote: Counting objects: 100% (353/353), done.\u001b[K\n",
      "remote: Compressing objects: 100% (246/246), done.\u001b[K\n",
      "remote: Total 1662 (delta 185), reused 177 (delta 107), pack-reused 1309 (from 2)\u001b[K\n",
      "Receiving objects: 100% (1662/1662), 6.14 MiB | 20.14 MiB/s, done.\n",
      "Resolving deltas: 100% (1029/1029), done.\n",
      "Processing /home/amir_google/codes/TinySQL/notebooks/TinySQL\n",
      "  Installing build dependencies ... \u001b[?25ldone\n",
      "\u001b[?25h  Getting requirements to build wheel ... \u001b[?25ldone\n",
      "\u001b[?25h  Preparing metadata (pyproject.toml) ... \u001b[?25ldone\n",
      "\u001b[?25hRequirement already satisfied: numpy>=1.18.1 in /home/amir_google/venvs/sql_interp/lib/python3.10/site-packages (from TinySQL==1.3) (1.26.4)\n",
      "Requirement already satisfied: wheel in /home/amir_google/venvs/sql_interp/lib/python3.10/site-packages (from TinySQL==1.3) (0.45.1)\n",
      "Building wheels for collected packages: TinySQL\n",
      "  Building wheel for TinySQL (pyproject.toml) ... \u001b[?25ldone\n",
      "\u001b[?25h  Created wheel for TinySQL: filename=TinySQL-1.3-py3-none-any.whl size=56481 sha256=1e8d386c718b8b49543c1b88a28f712f2c9d972b7b0ff358d7f4dbb0e1c91038\n",
      "  Stored in directory: /var/tmp/pip-ephem-wheel-cache-pezhx5n6/wheels/40/db/00/2d9a687b5743d304e3823955f3f3e256a6ce41a86fc435e1d7\n",
      "Successfully built TinySQL\n",
      "Installing collected packages: TinySQL\n",
      "  Attempting uninstall: TinySQL\n",
      "    Found existing installation: TinySQL 1.3\n",
      "    Uninstalling TinySQL-1.3:\n",
      "      Successfully uninstalled TinySQL-1.3\n",
      "Successfully installed TinySQL-1.3\n",
      "Requirement already satisfied: sqlparse in /home/amir_google/venvs/sql_interp/lib/python3.10/site-packages (0.5.3)\n",
      "Requirement already satisfied: scikit-learn in /home/amir_google/venvs/sql_interp/lib/python3.10/site-packages (1.6.1)\n",
      "Requirement already satisfied: numpy>=1.19.5 in /home/amir_google/venvs/sql_interp/lib/python3.10/site-packages (from scikit-learn) (1.26.4)\n",
      "Requirement already satisfied: scipy>=1.6.0 in /home/amir_google/venvs/sql_interp/lib/python3.10/site-packages (from scikit-learn) (1.14.1)\n",
      "Requirement already satisfied: joblib>=1.2.0 in /home/amir_google/venvs/sql_interp/lib/python3.10/site-packages (from scikit-learn) (1.4.2)\n",
      "Requirement already satisfied: threadpoolctl>=3.1.0 in /home/amir_google/venvs/sql_interp/lib/python3.10/site-packages (from scikit-learn) (3.5.0)\n"
     ]
    }
   ],
   "source": [
    "def install_dependencies():\n",
    "    ! rm -rf TinySQL || True\n",
    "    ! git clone -b amir/check_errors https://github.com/withmartian/TinySQL.git\n",
    "    ! cd TinySQL && pip install .\n",
    "    ! pip install sqlparse\n",
    "    ! pip install scikit-learn\n",
    "\n",
    "install_dependencies()"
   ]
  },
  {
   "cell_type": "code",
   "execution_count": 11,
   "id": "cfb5c25f-2b3f-44fa-894d-d2a99f586503",
   "metadata": {},
   "outputs": [
    {
     "name": "stdout",
     "output_type": "stream",
     "text": [
      "Help on function get_errors in module TinySQL.training_data.data_analyzer:\n",
      "\n",
      "get_errors(max_seq_length=512, cs_num=3, model_num=1, syn=True, batch_size=32)\n",
      "\n"
     ]
    }
   ],
   "source": [
    "from TinySQL.training_data.data_analyzer import get_errors\n",
    "from TinySQL.classifiers.t5_classifier import train_t5_classifier\n",
    "help(get_errors)"
   ]
  },
  {
   "cell_type": "code",
   "execution_count": 12,
   "id": "345c649f-0921-479b-8eef-0d1d4a87223b",
   "metadata": {},
   "outputs": [
    {
     "name": "stdout",
     "output_type": "stream",
     "text": [
      "Loading dataset withmartian/cs2_dataset_synonyms\n"
     ]
    },
    {
     "data": {
      "application/vnd.jupyter.widget-view+json": {
       "model_id": "38dde5316c21467bab40a6e5e6ebd5ce",
       "version_major": 2,
       "version_minor": 0
      },
      "text/plain": [
       "VBox(children=(README.md:   0%|          | 0.00/798 [00:00<?, ?B/s],))"
      ]
     },
     "metadata": {},
     "output_type": "display_data"
    },
    {
     "data": {
      "application/vnd.jupyter.widget-view+json": {
       "model_id": "e44f1fb970444771b7d632330498cb42",
       "version_major": 2,
       "version_minor": 0
      },
      "text/plain": [
       "VBox(children=(train-00000-of-00001.parquet:   0%|          | 0.00/29.3M [00:00<?, ?B/s],))"
      ]
     },
     "metadata": {},
     "output_type": "display_data"
    },
    {
     "data": {
      "application/vnd.jupyter.widget-view+json": {
       "model_id": "59a5e589d14c4c69b08f0df437daeb35",
       "version_major": 2,
       "version_minor": 0
      },
      "text/plain": [
       "VBox(children=(validation-00000-of-00001.parquet:   0%|          | 0.00/5.18M [00:00<?, ?B/s],))"
      ]
     },
     "metadata": {},
     "output_type": "display_data"
    },
    {
     "data": {
      "application/vnd.jupyter.widget-view+json": {
       "model_id": "05ed014c5f374cef840b303bddce0541",
       "version_major": 2,
       "version_minor": 0
      },
      "text/plain": [
       "VBox(children=(test-00000-of-00001.parquet:   0%|          | 0.00/3.83M [00:00<?, ?B/s],))"
      ]
     },
     "metadata": {},
     "output_type": "display_data"
    },
    {
     "data": {
      "application/vnd.jupyter.widget-view+json": {
       "model_id": "5ed5de6379b546e39ef8b920f9f5017f",
       "version_major": 2,
       "version_minor": 0
      },
      "text/plain": [
       "VBox(children=(Generating train split:   0%|          | 0/76500 [00:00<?, ? examples/s],))"
      ]
     },
     "metadata": {},
     "output_type": "display_data"
    },
    {
     "data": {
      "application/vnd.jupyter.widget-view+json": {
       "model_id": "dc88090dc1b44e86aaa24e5a3a61ec23",
       "version_major": 2,
       "version_minor": 0
      },
      "text/plain": [
       "VBox(children=(Generating validation split:   0%|          | 0/13500 [00:00<?, ? examples/s],))"
      ]
     },
     "metadata": {},
     "output_type": "display_data"
    },
    {
     "data": {
      "application/vnd.jupyter.widget-view+json": {
       "model_id": "3657dbf3100e4e54a0b7488e29e4da4e",
       "version_major": 2,
       "version_minor": 0
      },
      "text/plain": [
       "VBox(children=(Generating test split:   0%|          | 0/10000 [00:00<?, ? examples/s],))"
      ]
     },
     "metadata": {},
     "output_type": "display_data"
    },
    {
     "name": "stderr",
     "output_type": "stream",
     "text": [
      "Evaluating validation : 100%|████████████████████████████████████████████████████████████████████| 422/422 [04:45<00:00,  1.48it/s]\n"
     ]
    }
   ],
   "source": [
    "correct_and_errors_dataset = get_errors(cs_num=2)"
   ]
  },
  {
   "cell_type": "code",
   "execution_count": 13,
   "id": "009a144b-9bf1-4e19-8ef3-5da775bdb6af",
   "metadata": {},
   "outputs": [],
   "source": [
    "errors = correct_and_errors_dataset['errors']\n",
    "correct_only = correct_and_errors_dataset['correct_predictions']"
   ]
  },
  {
   "cell_type": "code",
   "execution_count": 14,
   "id": "7db5bd3a-ec58-4c1f-8b93-4326d36b2f68",
   "metadata": {},
   "outputs": [
    {
     "data": {
      "text/plain": [
       "Dataset({\n",
       "    features: ['generated', 'expected', 'context', 'english', 'full_output'],\n",
       "    num_rows: 1134\n",
       "})"
      ]
     },
     "execution_count": 14,
     "metadata": {},
     "output_type": "execute_result"
    }
   ],
   "source": [
    "errors"
   ]
  },
  {
   "cell_type": "markdown",
   "id": "0b6dacca-4a33-45b1-9cdb-011caceb87b8",
   "metadata": {},
   "source": [
    "### Baseline use a T5 classifier"
   ]
  },
  {
   "cell_type": "code",
   "execution_count": 15,
   "id": "b05d7cac-d6dd-42db-aecc-d02f879d3886",
   "metadata": {},
   "outputs": [],
   "source": [
    "error_labels = [(sample[\"full_output\"], 0) for sample in errors]\n",
    "correct_labels = [(sample[\"full_output\"], 1) for sample in correct_only]\n",
    "\n",
    "all_labels = error_labels + correct_labels"
   ]
  },
  {
   "cell_type": "code",
   "execution_count": 16,
   "id": "4b81557f-b2e5-4eaf-b377-61c8fba90556",
   "metadata": {},
   "outputs": [
    {
     "name": "stderr",
     "output_type": "stream",
     "text": [
      "Training Epoch 1: 100%|████████████████████████████████████████████████████████████████████████| 1350/1350 [05:45<00:00,  3.91it/s]\n",
      "Training Epoch 2: 100%|████████████████████████████████████████████████████████████████████████| 1350/1350 [06:51<00:00,  3.28it/s]\n",
      "Training Epoch 3: 100%|████████████████████████████████████████████████████████████████████████| 1350/1350 [07:31<00:00,  2.99it/s]\n",
      "Evaluating: 100%|████████████████████████████████████████████████████████████████████████████████| 338/338 [00:42<00:00,  7.90it/s]\n"
     ]
    }
   ],
   "source": [
    "accuracy, model = train_t5_classifier(all_labels)"
   ]
  },
  {
   "cell_type": "code",
   "execution_count": 17,
   "id": "27bcbfd4-391a-4b02-baf5-81ad9b01de84",
   "metadata": {},
   "outputs": [
    {
     "data": {
      "text/plain": [
       "0.9070370370370371"
      ]
     },
     "execution_count": 17,
     "metadata": {},
     "output_type": "execute_result"
    }
   ],
   "source": [
    "accuracy"
   ]
  },
  {
   "cell_type": "code",
   "execution_count": 20,
   "id": "a6ef766f-6a44-4e37-90ab-603e881b939a",
   "metadata": {},
   "outputs": [
    {
     "data": {
      "text/plain": [
       "1134"
      ]
     },
     "execution_count": 20,
     "metadata": {},
     "output_type": "execute_result"
    }
   ],
   "source": [
    "len(error_labels)"
   ]
  },
  {
   "cell_type": "code",
   "execution_count": 21,
   "id": "d248c873-9a27-4c67-a4cc-524adf9b71d5",
   "metadata": {},
   "outputs": [
    {
     "data": {
      "text/plain": [
       "12366"
      ]
     },
     "execution_count": 21,
     "metadata": {},
     "output_type": "execute_result"
    }
   ],
   "source": [
    "len(correct_labels)"
   ]
  },
  {
   "cell_type": "code",
   "execution_count": null,
   "id": "26d77f82-9f8f-4742-a473-c3e628d7b2dc",
   "metadata": {},
   "outputs": [],
   "source": []
  }
 ],
 "metadata": {
  "kernelspec": {
   "display_name": "Python 3 (ipykernel)",
   "language": "python",
   "name": "python3"
  },
  "language_info": {
   "codemirror_mode": {
    "name": "ipython",
    "version": 3
   },
   "file_extension": ".py",
   "mimetype": "text/x-python",
   "name": "python",
   "nbconvert_exporter": "python",
   "pygments_lexer": "ipython3",
   "version": "3.10.14"
  }
 },
 "nbformat": 4,
 "nbformat_minor": 5
}
