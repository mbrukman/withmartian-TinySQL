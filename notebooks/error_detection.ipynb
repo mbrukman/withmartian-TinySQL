{
 "cells": [
  {
   "cell_type": "code",
   "execution_count": null,
   "id": "f3c170b0-7c6e-4b78-b562-d9a283850d96",
   "metadata": {},
   "outputs": [],
   "source": [
    "def install_dependencies():\n",
    "    ! rm -rf TinySQL || True\n",
    "    ! git clone -b amir/check_errors https://github.com/withmartian/TinySQL.git\n",
    "    ! cd TinySQL && pip install .\n",
    "\n",
    "    ! rm -rf sae || True\n",
    "    ! git clone https://github.com/amirabdullah19852020/sae.git\n",
    "    ! cd sae && pip install .\n",
    "\n",
    "    ! pip install sqlparse\n",
    "    ! pip install scikit-learn\n",
    "\n",
    "install_dependencies()"
   ]
  },
  {
   "cell_type": "code",
   "execution_count": null,
   "id": "cfb5c25f-2b3f-44fa-894d-d2a99f586503",
   "metadata": {},
   "outputs": [],
   "source": [
    "from pathlib import Path\n",
    "\n",
    "from datasets import Dataset, concatenate_datasets\n",
    "from huggingface_hub import snapshot_download\n",
    "\n",
    "from sae.sae_interp import GroupedSaeOutput, SaeOutput, SaeCollector, LoadedSAES\n",
    "\n",
    "from TinySQL.training_data.data_analyzer import get_errors\n",
    "from TinySQL.classifiers.t5_classifier import train_t5_classifier\n",
    "from TinySQL import sql_interp_model_location\n",
    "\n",
    "import wandb"
   ]
  },
  {
   "cell_type": "code",
   "execution_count": null,
   "id": "80ccb6ae-49db-4a77-b059-f9d8eaade3e0",
   "metadata": {},
   "outputs": [],
   "source": [
    "repo_name = \"withmartian/sql_interp_saes\"\n",
    "cache_dir = \"working_directory\"\n",
    "\n",
    "syn=False\n",
    "model_num=1\n",
    "cs_num=3\n",
    "syn=True\n",
    "k=256\n",
    "\n",
    "full_model_name = sql_interp_model_location(model_num=model_num, cs_num=cs_num, synonym=syn)\n",
    "model_alias = f\"saes_{full_model_name.split('/')[1]}_syn={syn}\"\n",
    "print(model_alias)\n",
    "\n",
    "# Change this to work with another model alias.\n",
    "seed = 42"
   ]
  },
  {
   "cell_type": "code",
   "execution_count": null,
   "id": "345c649f-0921-479b-8eef-0d1d4a87223b",
   "metadata": {},
   "outputs": [],
   "source": [
    "correct_and_errors_dataset = get_errors(fast=False)"
   ]
  },
  {
   "cell_type": "code",
   "execution_count": null,
   "id": "009a144b-9bf1-4e19-8ef3-5da775bdb6af",
   "metadata": {},
   "outputs": [],
   "source": [
    "errors = correct_and_errors_dataset['errors']\n",
    "correct_only = correct_and_errors_dataset['correct_predictions']\n",
    "print(len(errors))\n",
    "print(len(correct_only))"
   ]
  },
  {
   "cell_type": "code",
   "execution_count": null,
   "id": "e0d29588-e10a-4733-9e58-f760b392e3ac",
   "metadata": {},
   "outputs": [],
   "source": [
    "run = wandb.init(\n",
    "    project=\"sql_sae_linear_probe\",  name=f\"{model_alias}_{model_num}_{cs_num}_{syn}_{k}\",\n",
    "    config={\"model_alias\": model_alias, \"k\": k, \"model_num\": model_num, \"cs_num\": cs_num}\n",
    ")"
   ]
  },
  {
   "cell_type": "code",
   "execution_count": null,
   "id": "7db5bd3a-ec58-4c1f-8b93-4326d36b2f68",
   "metadata": {},
   "outputs": [],
   "source": [
    "errors = errors.map(lambda x: {\"label\": 0})\n",
    "errors = errors.map(lambda x: {\"prompt\": x[\"full_output\"]})\n",
    "correct_only = correct_only.map(lambda x: {\"label\": 1})\n",
    "correct_only = correct_only.map(lambda x: {\"prompt\": x[\"full_output\"]})\n",
    "\n",
    "all_labels = concatenate_datasets([errors, correct_only])\n",
    "len(all_labels)\n",
    "all_labels = all_labels.shuffle(seed=42)"
   ]
  },
  {
   "cell_type": "markdown",
   "id": "0b6dacca-4a33-45b1-9cdb-011caceb87b8",
   "metadata": {},
   "source": [
    "### Baseline use a T5 classifier"
   ]
  },
  {
   "cell_type": "code",
   "execution_count": null,
   "id": "b05d7cac-d6dd-42db-aecc-d02f879d3886",
   "metadata": {},
   "outputs": [],
   "source": [
    "t5_labels = [(sample[\"prompt\"], sample[\"label\"]) for sample in all_labels]"
   ]
  },
  {
   "cell_type": "code",
   "execution_count": null,
   "id": "4b81557f-b2e5-4eaf-b377-61c8fba90556",
   "metadata": {},
   "outputs": [],
   "source": [
    "accuracy, model = train_t5_classifier(t5_labels)\n",
    "print(accuracy)"
   ]
  },
  {
   "cell_type": "markdown",
   "id": "9e66cbe4-5539-4b12-beb1-023e72121d26",
   "metadata": {},
   "source": [
    "### Use Linear probes on SAEs."
   ]
  },
  {
   "cell_type": "code",
   "execution_count": null,
   "id": "c0dab4ae-ee5d-450a-a00f-724567f6f9fd",
   "metadata": {},
   "outputs": [],
   "source": [
    "from pathlib import Path\n",
    "\n",
    "from huggingface_hub import snapshot_download\n",
    "from sae.sae_interp import GroupedSaeOutput, SaeOutput, SaeCollector, LoadedSAES\n",
    "from TinySQL import sql_interp_model_location"
   ]
  },
  {
   "cell_type": "code",
   "execution_count": null,
   "id": "1f30b272-a34d-4b8f-8ffb-0d64bcbbceeb",
   "metadata": {},
   "outputs": [],
   "source": [
    "repo_path = Path(\n",
    "    snapshot_download(repo_name, allow_patterns=f\"{model_alias}/*\", local_dir=cache_dir)\n",
    ")"
   ]
  },
  {
   "cell_type": "code",
   "execution_count": null,
   "id": "2ebd60dc-0de4-4353-9881-eaaad67b2cb2",
   "metadata": {},
   "outputs": [],
   "source": [
    "loaded_saes = LoadedSAES.load_from_path(\n",
    "    model_alias=model_alias, k=k, cache_dir=cache_dir, \n",
    "    store_activations=False, dataset=all_labels)"
   ]
  },
  {
   "cell_type": "code",
   "execution_count": null,
   "id": "0361e84a-a1a8-4385-9dde-013667252b61",
   "metadata": {},
   "outputs": [],
   "source": [
    "sae_collector = SaeCollector(loaded_saes=loaded_saes, seed=seed, sample_size=3000)"
   ]
  },
  {
   "cell_type": "code",
   "execution_count": null,
   "id": "c12864e0-1488-4412-9be5-e8a57d79d758",
   "metadata": {},
   "outputs": [],
   "source": [
    "from TinySQL.classifiers.logistic_regression_classifier import train_linear_probe_sparse"
   ]
  },
  {
   "cell_type": "code",
   "execution_count": null,
   "id": "9b35fb04-041c-4273-9323-ad04bfbff32f",
   "metadata": {},
   "outputs": [],
   "source": [
    "dataset = sae_collector.encoded_set"
   ]
  },
  {
   "cell_type": "code",
   "execution_count": null,
   "id": "fcfa6a36-8c14-40d3-b620-0f7c38a9552c",
   "metadata": {},
   "outputs": [],
   "source": [
    "accuracy, top_features, y_pred, y_test = train_linear_probe_sparse(dataset, representation_column=\"averaged_representation\")"
   ]
  },
  {
   "cell_type": "code",
   "execution_count": null,
   "id": "9201c06d-9d6b-4f41-a15f-46fc79ecd050",
   "metadata": {},
   "outputs": [],
   "source": [
    "top_features"
   ]
  },
  {
   "cell_type": "code",
   "execution_count": null,
   "id": "d1f1148b-d97f-4ff4-aed8-631bc74c61cc",
   "metadata": {},
   "outputs": [],
   "source": [
    "accuracy"
   ]
  },
  {
   "cell_type": "code",
   "execution_count": null,
   "id": "fdb6bdf6-5f58-49cc-82dd-b24516fd5eff",
   "metadata": {},
   "outputs": [],
   "source": [
    "len(errors)"
   ]
  },
  {
   "cell_type": "code",
   "execution_count": null,
   "id": "6970ad29-9848-4abf-b9b0-75468c853f00",
   "metadata": {},
   "outputs": [],
   "source": [
    "len(all_labels)"
   ]
  }
 ],
 "metadata": {
  "kernelspec": {
   "display_name": "Python 3 (ipykernel)",
   "language": "python",
   "name": "python3"
  },
  "language_info": {
   "codemirror_mode": {
    "name": "ipython",
    "version": 3
   },
   "file_extension": ".py",
   "mimetype": "text/x-python",
   "name": "python",
   "nbconvert_exporter": "python",
   "pygments_lexer": "ipython3",
   "version": "3.10.14"
  }
 },
 "nbformat": 4,
 "nbformat_minor": 5
}
