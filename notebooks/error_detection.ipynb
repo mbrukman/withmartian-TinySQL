{
 "cells": [
  {
   "cell_type": "code",
   "execution_count": null,
   "id": "f3c170b0-7c6e-4b78-b562-d9a283850d96",
   "metadata": {},
   "outputs": [],
   "source": [
    "def install_dependencies():\n",
    "    ! rm -rf TinySQL || True\n",
    "    ! git clone -b amir/check_errors https://github.com/withmartian/TinySQL.git\n",
    "    ! cd TinySQL && pip install .\n",
    "\n",
    "    ! rm -rf sae || True\n",
    "    ! git clone https://github.com/amirabdullah19852020/sae.git\n",
    "    ! cd sae && pip install .\n",
    "\n",
    "    ! pip install sqlparse\n",
    "    ! pip install scikit-learn\n",
    "\n",
    "install_dependencies()"
   ]
  },
  {
   "cell_type": "code",
   "execution_count": 3,
   "id": "cfb5c25f-2b3f-44fa-894d-d2a99f586503",
   "metadata": {},
   "outputs": [],
   "source": [
    "from pathlib import Path\n",
    "\n",
    "from datasets import Dataset, concatenate_datasets\n",
    "from huggingface_hub import snapshot_download\n",
    "\n",
    "from sae.sae_interp import GroupedSaeOutput, SaeOutput, SaeCollector, LoadedSAES\n",
    "\n",
    "from TinySQL.training_data.data_analyzer import get_errors\n",
    "from TinySQL.classifiers.t5_classifier import train_t5_classifier\n",
    "from TinySQL import sql_interp_model_location\n",
    "\n",
    "import wandb"
   ]
  },
  {
   "cell_type": "code",
   "execution_count": 4,
   "id": "80ccb6ae-49db-4a77-b059-f9d8eaade3e0",
   "metadata": {},
   "outputs": [
    {
     "name": "stdout",
     "output_type": "stream",
     "text": [
      "saes_sql_interp_bm1_cs3_experiment_3.10_syn=True\n"
     ]
    }
   ],
   "source": [
    "repo_name = \"withmartian/sql_interp_saes\"\n",
    "cache_dir = \"working_directory\"\n",
    "\n",
    "syn=False\n",
    "model_num=1\n",
    "cs_num=3\n",
    "syn=True\n",
    "k=256\n",
    "\n",
    "full_model_name = sql_interp_model_location(model_num=model_num, cs_num=cs_num, synonym=syn)\n",
    "model_alias = f\"saes_{full_model_name.split('/')[1]}_syn={syn}\"\n",
    "print(model_alias)\n",
    "\n",
    "# Change this to work with another model alias.\n",
    "seed = 42"
   ]
  },
  {
   "cell_type": "code",
   "execution_count": 5,
   "id": "345c649f-0921-479b-8eef-0d1d4a87223b",
   "metadata": {},
   "outputs": [
    {
     "name": "stdout",
     "output_type": "stream",
     "text": [
      "Returning cached result\n"
     ]
    }
   ],
   "source": [
    "correct_and_errors_dataset = get_errors(fast=False)"
   ]
  },
  {
   "cell_type": "code",
   "execution_count": 6,
   "id": "009a144b-9bf1-4e19-8ef3-5da775bdb6af",
   "metadata": {},
   "outputs": [
    {
     "name": "stdout",
     "output_type": "stream",
     "text": [
      "2021\n",
      "11479\n"
     ]
    }
   ],
   "source": [
    "errors = correct_and_errors_dataset['errors']\n",
    "correct_only = correct_and_errors_dataset['correct_predictions']\n",
    "print(len(errors))\n",
    "print(len(correct_only))"
   ]
  },
  {
   "cell_type": "code",
   "execution_count": 7,
   "id": "e0d29588-e10a-4733-9e58-f760b392e3ac",
   "metadata": {},
   "outputs": [
    {
     "name": "stderr",
     "output_type": "stream",
     "text": [
      "Failed to detect the name of this notebook, you can set it manually with the WANDB_NOTEBOOK_NAME environment variable to enable code saving.\n",
      "\u001b[34m\u001b[1mwandb\u001b[0m: Using wandb-core as the SDK backend.  Please refer to https://wandb.me/wandb-core for more information.\n",
      "\u001b[34m\u001b[1mwandb\u001b[0m: Currently logged in as: \u001b[33mamirali1985\u001b[0m (\u001b[33mnlp_and_interpretability\u001b[0m). Use \u001b[1m`wandb login --relogin`\u001b[0m to force relogin\n"
     ]
    },
    {
     "data": {
      "text/html": [
       "Tracking run with wandb version 0.18.6"
      ],
      "text/plain": [
       "<IPython.core.display.HTML object>"
      ]
     },
     "metadata": {},
     "output_type": "display_data"
    },
    {
     "data": {
      "text/html": [
       "Run data is saved locally in <code>/home/amir_google/codes/TinySQL/notebooks/wandb/run-20250124_203731-kgqvaw0f</code>"
      ],
      "text/plain": [
       "<IPython.core.display.HTML object>"
      ]
     },
     "metadata": {},
     "output_type": "display_data"
    },
    {
     "data": {
      "text/html": [
       "Syncing run <strong><a href='https://wandb.ai/nlp_and_interpretability/sql_sae_linear_probe/runs/kgqvaw0f' target=\"_blank\">saes_sql_interp_bm1_cs3_experiment_3.10_syn=True_1_3_True_256</a></strong> to <a href='https://wandb.ai/nlp_and_interpretability/sql_sae_linear_probe' target=\"_blank\">Weights & Biases</a> (<a href='https://wandb.me/developer-guide' target=\"_blank\">docs</a>)<br/>"
      ],
      "text/plain": [
       "<IPython.core.display.HTML object>"
      ]
     },
     "metadata": {},
     "output_type": "display_data"
    },
    {
     "data": {
      "text/html": [
       " View project at <a href='https://wandb.ai/nlp_and_interpretability/sql_sae_linear_probe' target=\"_blank\">https://wandb.ai/nlp_and_interpretability/sql_sae_linear_probe</a>"
      ],
      "text/plain": [
       "<IPython.core.display.HTML object>"
      ]
     },
     "metadata": {},
     "output_type": "display_data"
    },
    {
     "data": {
      "text/html": [
       " View run at <a href='https://wandb.ai/nlp_and_interpretability/sql_sae_linear_probe/runs/kgqvaw0f' target=\"_blank\">https://wandb.ai/nlp_and_interpretability/sql_sae_linear_probe/runs/kgqvaw0f</a>"
      ],
      "text/plain": [
       "<IPython.core.display.HTML object>"
      ]
     },
     "metadata": {},
     "output_type": "display_data"
    }
   ],
   "source": [
    "run = wandb.init(\n",
    "    project=\"sql_sae_linear_probe\",  name=f\"{model_alias}_{model_num}_{cs_num}_{syn}_{k}\",\n",
    "    config={\"model_alias\": model_alias, \"k\": k, \"model_num\": model_num, \"cs_num\": cs_num}\n",
    ")"
   ]
  },
  {
   "cell_type": "code",
   "execution_count": 8,
   "id": "7db5bd3a-ec58-4c1f-8b93-4326d36b2f68",
   "metadata": {},
   "outputs": [
    {
     "data": {
      "application/vnd.jupyter.widget-view+json": {
       "model_id": "6d2bd6fc2c894ad6a228626b9549ad74",
       "version_major": 2,
       "version_minor": 0
      },
      "text/plain": [
       "VBox(children=(Map:   0%|          | 0/2021 [00:00<?, ? examples/s],))"
      ]
     },
     "metadata": {},
     "output_type": "display_data"
    },
    {
     "data": {
      "application/vnd.jupyter.widget-view+json": {
       "model_id": "d5b76f8103db4ec390814b8933ba76bc",
       "version_major": 2,
       "version_minor": 0
      },
      "text/plain": [
       "VBox(children=(Map:   0%|          | 0/2021 [00:00<?, ? examples/s],))"
      ]
     },
     "metadata": {},
     "output_type": "display_data"
    },
    {
     "data": {
      "application/vnd.jupyter.widget-view+json": {
       "model_id": "4de31d87d691455b88c9196dbcbd368e",
       "version_major": 2,
       "version_minor": 0
      },
      "text/plain": [
       "VBox(children=(Map:   0%|          | 0/11479 [00:00<?, ? examples/s],))"
      ]
     },
     "metadata": {},
     "output_type": "display_data"
    },
    {
     "data": {
      "application/vnd.jupyter.widget-view+json": {
       "model_id": "ae9712470469457b84adcf0b9ad0c6ed",
       "version_major": 2,
       "version_minor": 0
      },
      "text/plain": [
       "VBox(children=(Map:   0%|          | 0/11479 [00:00<?, ? examples/s],))"
      ]
     },
     "metadata": {},
     "output_type": "display_data"
    }
   ],
   "source": [
    "errors = errors.map(lambda x: {\"label\": 0})\n",
    "errors = errors.map(lambda x: {\"prompt\": x[\"full_output\"]})\n",
    "correct_only = correct_only.map(lambda x: {\"label\": 1})\n",
    "correct_only = correct_only.map(lambda x: {\"prompt\": x[\"full_output\"]})\n",
    "\n",
    "all_labels = concatenate_datasets([errors, correct_only])\n",
    "len(all_labels)\n",
    "all_labels = all_labels.shuffle(seed=42)"
   ]
  },
  {
   "cell_type": "markdown",
   "id": "0b6dacca-4a33-45b1-9cdb-011caceb87b8",
   "metadata": {},
   "source": [
    "### Baseline use a T5 classifier"
   ]
  },
  {
   "cell_type": "code",
   "execution_count": null,
   "id": "b05d7cac-d6dd-42db-aecc-d02f879d3886",
   "metadata": {},
   "outputs": [],
   "source": [
    "t5_labels = [(sample[\"prompt\"], sample[\"label\"]) for sample in all_labels]"
   ]
  },
  {
   "cell_type": "code",
   "execution_count": null,
   "id": "4b81557f-b2e5-4eaf-b377-61c8fba90556",
   "metadata": {},
   "outputs": [],
   "source": [
    "accuracy, model = train_t5_classifier(t5_labels)\n",
    "print(accuracy)"
   ]
  },
  {
   "cell_type": "markdown",
   "id": "9e66cbe4-5539-4b12-beb1-023e72121d26",
   "metadata": {},
   "source": [
    "### Use Linear probes on SAEs."
   ]
  },
  {
   "cell_type": "code",
   "execution_count": 9,
   "id": "c0dab4ae-ee5d-450a-a00f-724567f6f9fd",
   "metadata": {},
   "outputs": [],
   "source": [
    "from pathlib import Path\n",
    "\n",
    "from huggingface_hub import snapshot_download\n",
    "from sae.sae_interp import GroupedSaeOutput, SaeOutput, SaeCollector, LoadedSAES\n",
    "from TinySQL import sql_interp_model_location"
   ]
  },
  {
   "cell_type": "code",
   "execution_count": 10,
   "id": "1f30b272-a34d-4b8f-8ffb-0d64bcbbceeb",
   "metadata": {},
   "outputs": [
    {
     "data": {
      "application/vnd.jupyter.widget-view+json": {
       "model_id": "52bafc6c34bb4a478eeb188e459d4c5a",
       "version_major": 2,
       "version_minor": 0
      },
      "text/plain": [
       "VBox(children=(Fetching 34 files:   0%|          | 0/34 [00:00<?, ?it/s],))"
      ]
     },
     "metadata": {},
     "output_type": "display_data"
    }
   ],
   "source": [
    "repo_path = Path(\n",
    "    snapshot_download(repo_name, allow_patterns=f\"{model_alias}/*\", local_dir=cache_dir)\n",
    ")"
   ]
  },
  {
   "cell_type": "code",
   "execution_count": 11,
   "id": "2ebd60dc-0de4-4353-9881-eaaad67b2cb2",
   "metadata": {},
   "outputs": [
    {
     "name": "stdout",
     "output_type": "stream",
     "text": [
      "Loading from path working_directory/saes_sql_interp_bm1_cs3_experiment_3.10_syn=True/k=256\n"
     ]
    }
   ],
   "source": [
    "loaded_saes = LoadedSAES.load_from_path(\n",
    "    model_alias=model_alias, k=k, cache_dir=cache_dir, \n",
    "    store_activations=False, dataset=all_labels)"
   ]
  },
  {
   "cell_type": "code",
   "execution_count": 12,
   "id": "0361e84a-a1a8-4385-9dde-013667252b61",
   "metadata": {},
   "outputs": [
    {
     "name": "stdout",
     "output_type": "stream",
     "text": [
      "Only using averaged representations\n",
      "Now getting averaged representation.\n"
     ]
    },
    {
     "name": "stderr",
     "output_type": "stream",
     "text": [
      "  0%|                                                                                                     | 0/3000 [00:00<?, ?it/s]You're using a GPT2TokenizerFast tokenizer. Please note that with a fast tokenizer, using the `__call__` method is faster than using a method to encode the text followed by a call to the `pad` method to get a padded encoding.\n",
      "100%|██████████████████████████████████████████████████████████████████████████████████████████| 3000/3000 [22:35<00:00,  2.21it/s]\n"
     ]
    }
   ],
   "source": [
    "sae_collector = SaeCollector(loaded_saes=loaded_saes, seed=seed, sample_size=3000)"
   ]
  },
  {
   "cell_type": "code",
   "execution_count": 16,
   "id": "c12864e0-1488-4412-9be5-e8a57d79d758",
   "metadata": {},
   "outputs": [],
   "source": [
    "from TinySQL.classifiers.logistic_regression_classifier import train_linear_probe_sparse"
   ]
  },
  {
   "cell_type": "code",
   "execution_count": 17,
   "id": "9b35fb04-041c-4273-9323-ad04bfbff32f",
   "metadata": {},
   "outputs": [],
   "source": [
    "dataset = sae_collector.encoded_set"
   ]
  },
  {
   "cell_type": "code",
   "execution_count": 18,
   "id": "fcfa6a36-8c14-40d3-b620-0f7c38a9552c",
   "metadata": {},
   "outputs": [],
   "source": [
    "accuracy, top_features, y_pred, y_test = train_linear_probe_sparse(dataset, representation_column=\"averaged_representation\")"
   ]
  },
  {
   "cell_type": "code",
   "execution_count": 21,
   "id": "9201c06d-9d6b-4f41-a15f-46fc79ecd050",
   "metadata": {},
   "outputs": [
    {
     "data": {
      "text/plain": [
       "[('6277_1.mlp', 0.13310880806954914),\n",
       " ('4164_1.mlp', 0.1325357011769581),\n",
       " ('8815_1.mlp', 0.13215493944680773),\n",
       " ('10531_1.mlp', 0.13141441963814388),\n",
       " ('5155_1.mlp', 0.130674863539721)]"
      ]
     },
     "execution_count": 21,
     "metadata": {},
     "output_type": "execute_result"
    }
   ],
   "source": [
    "top_features"
   ]
  },
  {
   "cell_type": "code",
   "execution_count": 22,
   "id": "d1f1148b-d97f-4ff4-aed8-631bc74c61cc",
   "metadata": {},
   "outputs": [
    {
     "data": {
      "text/plain": [
       "0.8216666666666667"
      ]
     },
     "execution_count": 22,
     "metadata": {},
     "output_type": "execute_result"
    }
   ],
   "source": [
    "accuracy"
   ]
  },
  {
   "cell_type": "code",
   "execution_count": 23,
   "id": "fdb6bdf6-5f58-49cc-82dd-b24516fd5eff",
   "metadata": {},
   "outputs": [
    {
     "data": {
      "text/plain": [
       "2021"
      ]
     },
     "execution_count": 23,
     "metadata": {},
     "output_type": "execute_result"
    }
   ],
   "source": [
    "len(errors)"
   ]
  },
  {
   "cell_type": "code",
   "execution_count": 24,
   "id": "6970ad29-9848-4abf-b9b0-75468c853f00",
   "metadata": {},
   "outputs": [
    {
     "data": {
      "text/plain": [
       "13500"
      ]
     },
     "execution_count": 24,
     "metadata": {},
     "output_type": "execute_result"
    }
   ],
   "source": [
    "len(all_labels)"
   ]
  },
  {
   "cell_type": "code",
   "execution_count": null,
   "id": "8c70f220-4be4-4bf8-b388-67cf9a798248",
   "metadata": {},
   "outputs": [],
   "source": []
  }
 ],
 "metadata": {
  "kernelspec": {
   "display_name": "Python 3 (ipykernel)",
   "language": "python",
   "name": "python3"
  },
  "language_info": {
   "codemirror_mode": {
    "name": "ipython",
    "version": 3
   },
   "file_extension": ".py",
   "mimetype": "text/x-python",
   "name": "python",
   "nbconvert_exporter": "python",
   "pygments_lexer": "ipython3",
   "version": "3.10.14"
  }
 },
 "nbformat": 4,
 "nbformat_minor": 5
}
