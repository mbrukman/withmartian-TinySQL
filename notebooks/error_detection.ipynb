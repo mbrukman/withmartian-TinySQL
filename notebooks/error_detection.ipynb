{
 "cells": [
  {
   "cell_type": "code",
   "execution_count": null,
   "id": "f3c170b0-7c6e-4b78-b562-d9a283850d96",
   "metadata": {},
   "outputs": [],
   "source": [
    "def install_dependencies():\n",
    "    ! rm -rf TinySQL || True\n",
    "    ! git clone -b amir/check_errors https://github.com/withmartian/TinySQL.git\n",
    "    ! cd TinySQL && pip install .\n",
    "    ! pip install sqlparse\n",
    "    ! pip install scikit-learn\n",
    "\n",
    "install_dependencies()"
   ]
  },
  {
   "cell_type": "code",
   "execution_count": null,
   "id": "cfb5c25f-2b3f-44fa-894d-d2a99f586503",
   "metadata": {},
   "outputs": [],
   "source": [
    "from TinySQL.training_data.data_analyzer import get_errors\n",
    "from TinySQL.classifiers.t5_classifier import train_t5_classifier"
   ]
  },
  {
   "cell_type": "code",
   "execution_count": null,
   "id": "345c649f-0921-479b-8eef-0d1d4a87223b",
   "metadata": {},
   "outputs": [],
   "source": [
    "correct_and_errors_dataset = get_errors()"
   ]
  },
  {
   "cell_type": "code",
   "execution_count": null,
   "id": "009a144b-9bf1-4e19-8ef3-5da775bdb6af",
   "metadata": {},
   "outputs": [],
   "source": [
    "errors = correct_and_errors_dataset['errors']\n",
    "correct_only = correct_and_errors_dataset['correct_predictions']"
   ]
  },
  {
   "cell_type": "code",
   "execution_count": null,
   "id": "7db5bd3a-ec58-4c1f-8b93-4326d36b2f68",
   "metadata": {},
   "outputs": [],
   "source": [
    "errors"
   ]
  },
  {
   "cell_type": "markdown",
   "id": "0b6dacca-4a33-45b1-9cdb-011caceb87b8",
   "metadata": {},
   "source": [
    "### Baseline use a T5 classifier"
   ]
  },
  {
   "cell_type": "code",
   "execution_count": null,
   "id": "b05d7cac-d6dd-42db-aecc-d02f879d3886",
   "metadata": {},
   "outputs": [],
   "source": [
    "error_labels = [(sample[\"full_output\"], 0) for sample in errors]\n",
    "correct_labels = [(sample[\"full_output\"], 1) for sample in correct_only]\n",
    "\n",
    "all_labels = error_labels + correct_labels"
   ]
  },
  {
   "cell_type": "code",
   "execution_count": null,
   "id": "4b81557f-b2e5-4eaf-b377-61c8fba90556",
   "metadata": {},
   "outputs": [],
   "source": [
    "accuracy, model = train_t5_classifier(all_labels)"
   ]
  }
 ],
 "metadata": {
  "kernelspec": {
   "display_name": "Python 3 (ipykernel)",
   "language": "python",
   "name": "python3"
  },
  "language_info": {
   "codemirror_mode": {
    "name": "ipython",
    "version": 3
   },
   "file_extension": ".py",
   "mimetype": "text/x-python",
   "name": "python",
   "nbconvert_exporter": "python",
   "pygments_lexer": "ipython3",
   "version": "3.10.14"
  }
 },
 "nbformat": 4,
 "nbformat_minor": 5
}
