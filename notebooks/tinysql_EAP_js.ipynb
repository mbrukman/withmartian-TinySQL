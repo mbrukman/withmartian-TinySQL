{
  "nbformat": 4,
  "nbformat_minor": 0,
  "metadata": {
    "colab": {
      "provenance": [],
      "gpuType": "T4"
    },
    "kernelspec": {
      "name": "python3",
      "display_name": "Python 3"
    },
    "language_info": {
      "name": "python"
    },
    "accelerator": "GPU"
  },
  "cells": [
    {
      "cell_type": "markdown",
      "source": [
        "# imports"
      ],
      "metadata": {
        "id": "yXC3vXX4Eg1x"
      }
    },
    {
      "cell_type": "code",
      "source": [
        "!pip install -U nnsight -q"
      ],
      "metadata": {
        "colab": {
          "base_uri": "https://localhost:8080/"
        },
        "id": "6hY2_EH949Oa",
        "outputId": "8e944f52-f746-4a5e-c106-c8e848d551e6"
      },
      "execution_count": null,
      "outputs": [
        {
          "output_type": "stream",
          "name": "stdout",
          "text": [
            "\u001b[?25l   \u001b[90m━━━━━━━━━━━━━━━━━━━━━━━━━━━━━━━━━━━━━━━━\u001b[0m \u001b[32m0.0/3.5 MB\u001b[0m \u001b[31m?\u001b[0m eta \u001b[36m-:--:--\u001b[0m\r\u001b[2K   \u001b[91m━━━━━━━━━━━━━━━━━━━━━━━━━━━━━━━━━\u001b[0m\u001b[90m╺\u001b[0m\u001b[90m━━━━━━\u001b[0m \u001b[32m2.9/3.5 MB\u001b[0m \u001b[31m90.2 MB/s\u001b[0m eta \u001b[36m0:00:01\u001b[0m\r\u001b[2K   \u001b[91m━━━━━━━━━━━━━━━━━━━━━━━━━━━━━━━━━━━━━━━\u001b[0m\u001b[91m╸\u001b[0m \u001b[32m3.5/3.5 MB\u001b[0m \u001b[31m72.2 MB/s\u001b[0m eta \u001b[36m0:00:01\u001b[0m\r\u001b[2K   \u001b[90m━━━━━━━━━━━━━━━━━━━━━━━━━━━━━━━━━━━━━━━━\u001b[0m \u001b[32m3.5/3.5 MB\u001b[0m \u001b[31m44.0 MB/s\u001b[0m eta \u001b[36m0:00:00\u001b[0m\n",
            "\u001b[?25h\u001b[?25l   \u001b[90m━━━━━━━━━━━━━━━━━━━━━━━━━━━━━━━━━━━━━━━━\u001b[0m \u001b[32m0.0/59.2 kB\u001b[0m \u001b[31m?\u001b[0m eta \u001b[36m-:--:--\u001b[0m\r\u001b[2K   \u001b[90m━━━━━━━━━━━━━━━━━━━━━━━━━━━━━━━━━━━━━━━━\u001b[0m \u001b[32m59.2/59.2 kB\u001b[0m \u001b[31m4.2 MB/s\u001b[0m eta \u001b[36m0:00:00\u001b[0m\n",
            "\u001b[?25h\u001b[?25l   \u001b[90m━━━━━━━━━━━━━━━━━━━━━━━━━━━━━━━━━━━━━━━━\u001b[0m \u001b[32m0.0/76.9 kB\u001b[0m \u001b[31m?\u001b[0m eta \u001b[36m-:--:--\u001b[0m\r\u001b[2K   \u001b[90m━━━━━━━━━━━━━━━━━━━━━━━━━━━━━━━━━━━━━━━━\u001b[0m \u001b[32m76.9/76.9 kB\u001b[0m \u001b[31m4.7 MB/s\u001b[0m eta \u001b[36m0:00:00\u001b[0m\n",
            "\u001b[?25h"
          ]
        }
      ]
    },
    {
      "cell_type": "code",
      "source": [
        "from IPython.display import clear_output\n",
        "import einops\n",
        "import torch\n",
        "import plotly.express as px\n",
        "import plotly.io as pio\n",
        "pio.renderers.default = \"colab\"\n",
        "\n",
        "import nnsight\n",
        "from nnsight import LanguageModel, util"
      ],
      "metadata": {
        "id": "RrN0C8JQ5QYJ"
      },
      "execution_count": null,
      "outputs": []
    },
    {
      "cell_type": "code",
      "source": [
        "from getpass import getpass\n",
        "from google.colab import userdata\n",
        "import gc\n",
        "import weakref"
      ],
      "metadata": {
        "id": "dbDxzDfI5Slk"
      },
      "execution_count": null,
      "outputs": []
    },
    {
      "cell_type": "code",
      "execution_count": null,
      "metadata": {
        "colab": {
          "base_uri": "https://localhost:8080/"
        },
        "id": "CM2ZXeAk430T",
        "outputId": "d02252fa-d4d8-4433-8355-01e1c2bc5850"
      },
      "outputs": [
        {
          "output_type": "stream",
          "name": "stdout",
          "text": [
            "Collecting git+https://****@github.com/withmartian/TinySQL.git@corrupt_table_synonym\n",
            "  Cloning https://****@github.com/withmartian/TinySQL.git (to revision corrupt_table_synonym) to /tmp/pip-req-build-9am79zw3\n",
            "  Running command git clone --filter=blob:none --quiet 'https://****@github.com/withmartian/TinySQL.git' /tmp/pip-req-build-9am79zw3\n",
            "  Running command git checkout -b corrupt_table_synonym --track origin/corrupt_table_synonym\n",
            "  Switched to a new branch 'corrupt_table_synonym'\n",
            "  Branch 'corrupt_table_synonym' set up to track remote branch 'corrupt_table_synonym' from 'origin'.\n",
            "  Resolved https://****@github.com/withmartian/TinySQL.git to commit e16f26e856fedccda0f3188aba6cc5dd474b3ed1\n",
            "  Installing build dependencies ... \u001b[?25l\u001b[?25hdone\n",
            "  Getting requirements to build wheel ... \u001b[?25l\u001b[?25hdone\n",
            "  Preparing metadata (pyproject.toml) ... \u001b[?25l\u001b[?25hdone\n",
            "Requirement already satisfied: numpy>=1.18.1 in /usr/local/lib/python3.10/dist-packages (from TinySQL==1.0) (1.26.4)\n",
            "Requirement already satisfied: wheel in /usr/local/lib/python3.10/dist-packages (from TinySQL==1.0) (0.45.1)\n",
            "Building wheels for collected packages: TinySQL\n",
            "  Building wheel for TinySQL (pyproject.toml) ... \u001b[?25l\u001b[?25hdone\n",
            "  Created wheel for TinySQL: filename=TinySQL-1.0-py3-none-any.whl size=52576 sha256=06f8ae51fbdb9fd7d3d1fa66a0fe1f44f7318c018440397f3d35d1f5e299907f\n",
            "  Stored in directory: /tmp/pip-ephem-wheel-cache-_xz7csev/wheels/5c/fa/7c/12983a416bfcbdd4ac0eb311cc30da5a8b7bbad02183406c51\n",
            "Successfully built TinySQL\n",
            "Installing collected packages: TinySQL\n",
            "Successfully installed TinySQL-1.0\n"
          ]
        }
      ],
      "source": [
        "github_token = userdata.get(\"GITHUB_TOKEN\")\n",
        "\n",
        "# Replace 'branch_name' with the specific branch you want to clone\n",
        "branch_name = \"corrupt_table_synonym\"  # e.g., \"feature-branch\"\n",
        "\n",
        "# Clone the specific branch of the repository\n",
        "!pip install --upgrade git+https://{github_token}@github.com/withmartian/TinySQL.git@{branch_name}\n",
        "\n",
        "import TinySQL as qts"
      ]
    },
    {
      "cell_type": "code",
      "source": [
        "! pip install transformer_lens jaxtyping -q"
      ],
      "metadata": {
        "colab": {
          "base_uri": "https://localhost:8080/"
        },
        "id": "IbcEjY4ZZ7Yd",
        "outputId": "05b309f8-0564-4b90-8ad4-c0b4b6ca3b9b"
      },
      "execution_count": null,
      "outputs": [
        {
          "output_type": "stream",
          "name": "stdout",
          "text": [
            "\u001b[?25l   \u001b[90m━━━━━━━━━━━━━━━━━━━━━━━━━━━━━━━━━━━━━━━━\u001b[0m \u001b[32m0.0/177.6 kB\u001b[0m \u001b[31m?\u001b[0m eta \u001b[36m-:--:--\u001b[0m\r\u001b[2K   \u001b[90m━━━━━━━━━━━━━━━━━━━━━━━━━━━━━━━━━━━━━━━━\u001b[0m \u001b[32m177.6/177.6 kB\u001b[0m \u001b[31m8.7 MB/s\u001b[0m eta \u001b[36m0:00:00\u001b[0m\n",
            "\u001b[?25h\u001b[?25l   \u001b[90m━━━━━━━━━━━━━━━━━━━━━━━━━━━━━━━━━━━━━━━━\u001b[0m \u001b[32m0.0/55.8 kB\u001b[0m \u001b[31m?\u001b[0m eta \u001b[36m-:--:--\u001b[0m\r\u001b[2K   \u001b[90m━━━━━━━━━━━━━━━━━━━━━━━━━━━━━━━━━━━━━━━━\u001b[0m \u001b[32m55.8/55.8 kB\u001b[0m \u001b[31m3.9 MB/s\u001b[0m eta \u001b[36m0:00:00\u001b[0m\n",
            "\u001b[2K   \u001b[90m━━━━━━━━━━━━━━━━━━━━━━━━━━━━━━━━━━━━━━━━\u001b[0m \u001b[32m739.7/739.7 kB\u001b[0m \u001b[31m28.1 MB/s\u001b[0m eta \u001b[36m0:00:00\u001b[0m\n",
            "\u001b[2K   \u001b[90m━━━━━━━━━━━━━━━━━━━━━━━━━━━━━━━━━━━━━━━━\u001b[0m \u001b[32m480.6/480.6 kB\u001b[0m \u001b[31m18.4 MB/s\u001b[0m eta \u001b[36m0:00:00\u001b[0m\n",
            "\u001b[2K   \u001b[90m━━━━━━━━━━━━━━━━━━━━━━━━━━━━━━━━━━━━━━━━\u001b[0m \u001b[32m116.3/116.3 kB\u001b[0m \u001b[31m9.0 MB/s\u001b[0m eta \u001b[36m0:00:00\u001b[0m\n",
            "\u001b[2K   \u001b[90m━━━━━━━━━━━━━━━━━━━━━━━━━━━━━━━━━━━━━━━━\u001b[0m \u001b[32m179.3/179.3 kB\u001b[0m \u001b[31m13.9 MB/s\u001b[0m eta \u001b[36m0:00:00\u001b[0m\n",
            "\u001b[2K   \u001b[90m━━━━━━━━━━━━━━━━━━━━━━━━━━━━━━━━━━━━━━━━\u001b[0m \u001b[32m134.8/134.8 kB\u001b[0m \u001b[31m5.3 MB/s\u001b[0m eta \u001b[36m0:00:00\u001b[0m\n",
            "\u001b[2K   \u001b[90m━━━━━━━━━━━━━━━━━━━━━━━━━━━━━━━━━━━━━━━━\u001b[0m \u001b[32m194.1/194.1 kB\u001b[0m \u001b[31m13.8 MB/s\u001b[0m eta \u001b[36m0:00:00\u001b[0m\n",
            "\u001b[?25h\u001b[31mERROR: pip's dependency resolver does not currently take into account all the packages that are installed. This behaviour is the source of the following dependency conflicts.\n",
            "gcsfs 2024.10.0 requires fsspec==2024.10.0, but you have fsspec 2024.9.0 which is incompatible.\u001b[0m\u001b[31m\n",
            "\u001b[0m"
          ]
        }
      ]
    },
    {
      "cell_type": "code",
      "source": [
        "!git clone -b minimal-implementation --single-branch https://github.com/Aaquib111/edge-attribution-patching.git\n"
      ],
      "metadata": {
        "colab": {
          "base_uri": "https://localhost:8080/"
        },
        "id": "ESp2iQjDZ6tx",
        "outputId": "ef13a8eb-36e1-49ad-fad5-90e5592943a5"
      },
      "execution_count": null,
      "outputs": [
        {
          "output_type": "stream",
          "name": "stdout",
          "text": [
            "Cloning into 'edge-attribution-patching'...\n",
            "remote: Enumerating objects: 7461, done.\u001b[K\n",
            "remote: Counting objects: 100% (135/135), done.\u001b[K\n",
            "remote: Compressing objects: 100% (67/67), done.\u001b[K\n",
            "remote: Total 7461 (delta 86), reused 88 (delta 67), pack-reused 7326 (from 1)\u001b[K\n",
            "Receiving objects: 100% (7461/7461), 1.58 GiB | 16.82 MiB/s, done.\n",
            "Resolving deltas: 100% (3719/3719), done.\n"
          ]
        }
      ]
    },
    {
      "cell_type": "code",
      "source": [
        "%cd /content/edge-attribution-patching\n",
        "\n",
        "from IPython import get_ipython\n",
        "ipython = get_ipython()\n",
        "if ipython is not None:\n",
        "    ipython.magic(\"%load_ext autoreload\")\n",
        "    ipython.magic(\"%autoreload 2\")\n",
        "\n",
        "import torch\n",
        "\n",
        "import torch as t\n",
        "from torch import Tensor\n",
        "import einops\n",
        "\n",
        "from transformer_lens import HookedTransformer\n",
        "\n",
        "from eap.eap_wrapper import EAP\n",
        "\n",
        "from jaxtyping import Float\n",
        "\n",
        "device = t.device('cuda') if t.cuda.is_available() else t.device('cpu')\n",
        "print(f'Device: {device}')"
      ],
      "metadata": {
        "colab": {
          "base_uri": "https://localhost:8080/"
        },
        "id": "VOkneH_5Z--M",
        "outputId": "ae274ec6-74d5-4bc4-9efc-56501917dc69"
      },
      "execution_count": null,
      "outputs": [
        {
          "output_type": "stream",
          "name": "stdout",
          "text": [
            "/content/edge-attribution-patching\n",
            "Device: cuda\n"
          ]
        }
      ]
    },
    {
      "cell_type": "markdown",
      "source": [
        "# Helping functions"
      ],
      "metadata": {
        "id": "CCRyNE8vEmzK"
      }
    },
    {
      "cell_type": "code",
      "source": [
        "import plotly.graph_objects as go\n",
        "import numpy as np\n",
        "from collections import defaultdict\n",
        "from typing import Dict, List, Set, Tuple, Optional\n",
        "\n",
        "def plot_eap_sankey(top_edges, layer_spacing=False):\n",
        "    # Get unique nodes\n",
        "    nodes = set()\n",
        "    for from_edge, to_edge, _ in top_edges:\n",
        "        nodes.add(from_edge)\n",
        "        nodes.add(to_edge)\n",
        "    nodes = list(nodes)\n",
        "    node_idx = {node: idx for idx, node in enumerate(nodes)}\n",
        "\n",
        "    # Color palette for nodes\n",
        "    COLOR_PALETTE = [\n",
        "        \"rgba(31, 119, 180, 0.8)\",    # blue\n",
        "        \"rgba(255, 127, 14, 0.8)\",    # orange\n",
        "        \"rgba(44, 160, 44, 0.8)\",     # green\n",
        "        \"rgba(214, 39, 40, 0.8)\",     # red\n",
        "        \"rgba(148, 103, 189, 0.8)\",   # purple\n",
        "        \"rgba(140, 86, 75, 0.8)\",     # brown\n",
        "        \"rgba(227, 119, 194, 0.8)\",   # pink\n",
        "        \"rgba(127, 127, 127, 0.8)\",   # gray\n",
        "        \"rgba(188, 189, 34, 0.8)\",    # yellow\n",
        "        \"rgba(23, 190, 207, 0.8)\"     # cyan\n",
        "    ]\n",
        "\n",
        "    # Assign unique colors to nodes\n",
        "    node_colors = {}\n",
        "    for i, node in enumerate(nodes):\n",
        "        node_colors[node] = COLOR_PALETTE[i % len(COLOR_PALETTE)]\n",
        "\n",
        "    # Calculate scores per node\n",
        "    node_scores = defaultdict(float)\n",
        "    for from_edge, to_edge, score in top_edges:\n",
        "        node_scores[from_edge] += score\n",
        "        node_scores[to_edge] += score\n",
        "\n",
        "    # Define the sankey nodes with scores\n",
        "    node_labels = [f\"{node}<br>{node_scores[node]:.3f}\" for node in nodes]\n",
        "    node_colors = [node_colors[node] for node in nodes]\n",
        "\n",
        "    # Setup for layer spacing\n",
        "    lyr_nodes: Dict[int, List[str]] = defaultdict(list)\n",
        "    for node in nodes:\n",
        "        layer = int(node.split('.')[1]) if '.' in node else 0\n",
        "        lyr_nodes[layer].append(node)\n",
        "\n",
        "    # Define the sankey edges\n",
        "    sources, targets, values, labels, colors = [], [], [], [], []\n",
        "    included_layer_nodes: Dict[int, List[str]] = defaultdict(list)\n",
        "\n",
        "    # Plot all edges without threshold filtering\n",
        "    for from_edge, to_edge, score in top_edges:\n",
        "        source_idx = node_idx[from_edge]\n",
        "        target_idx = node_idx[to_edge]\n",
        "\n",
        "        sources.append(source_idx)\n",
        "        targets.append(target_idx)\n",
        "        values.append(abs(score))\n",
        "        labels.append(f\"{from_edge} → {to_edge}<br>{score:.3f}\")\n",
        "\n",
        "        if score == 0:\n",
        "            edge_color = \"rgba(0,0,0,0.1)\"\n",
        "        elif score > 0:\n",
        "            edge_color = \"rgba(0,0,255,0.3)\"\n",
        "        else:\n",
        "            edge_color = \"rgba(255,0,0,0.3)\"\n",
        "        colors.append(edge_color)\n",
        "\n",
        "        source_layer = int(from_edge.split('.')[1]) if '.' in from_edge else 0\n",
        "        target_layer = int(to_edge.split('.')[1]) if '.' in to_edge else 0\n",
        "        included_layer_nodes[source_layer].append(from_edge)\n",
        "        included_layer_nodes[target_layer].append(to_edge)\n",
        "\n",
        "    if layer_spacing:\n",
        "        ordered_lyr_nodes = [nodes for _, nodes in sorted(included_layer_nodes.items())]\n",
        "        ghost_edge_val = 1e-6\n",
        "\n",
        "        for lyr_1_nodes, lyr_2_nodes in zip(ordered_lyr_nodes[:-1], ordered_lyr_nodes[1:]):\n",
        "            first_lyr_1_node = lyr_1_nodes[0]\n",
        "            first_lyr_2_node = lyr_2_nodes[0]\n",
        "\n",
        "            for lyr_1_node in lyr_1_nodes:\n",
        "                sources.append(node_idx[lyr_1_node])\n",
        "                targets.append(node_idx[first_lyr_2_node])\n",
        "                values.append(ghost_edge_val)\n",
        "                labels.append(\"\")\n",
        "                colors.append(\"rgba(0,255,0,0.0)\")\n",
        "\n",
        "            for lyr_2_node in lyr_2_nodes:\n",
        "                sources.append(node_idx[first_lyr_1_node])\n",
        "                targets.append(node_idx[lyr_2_node])\n",
        "                values.append(ghost_edge_val)\n",
        "                labels.append(\"\")\n",
        "                colors.append(\"rgba(0,255,0,0.0)\")\n",
        "\n",
        "    # Create the Sankey diagram\n",
        "    fig = go.Figure(go.Sankey(\n",
        "        arrangement=\"perpendicular\",\n",
        "        node=dict(\n",
        "            label=node_labels,\n",
        "            color=node_colors,\n",
        "            line=dict(width=0.0),\n",
        "            pad=15,\n",
        "            thickness=20,\n",
        "        ),\n",
        "        link=dict(\n",
        "            source=sources,\n",
        "            target=targets,\n",
        "            value=values,\n",
        "            label=labels,\n",
        "            color=colors,\n",
        "            arrowlen=25\n",
        "        ),\n",
        "        domain={'y': [0, 1]}\n",
        "    ))\n",
        "\n",
        "    # Update layout\n",
        "    n_layers = len(included_layer_nodes)\n",
        "    h = max(250, 400)\n",
        "    w = max(50 * n_layers, 600)\n",
        "\n",
        "    fig.update_layout(\n",
        "        font_size=14,\n",
        "        height=h,\n",
        "        width=w,\n",
        "        plot_bgcolor='white',\n",
        "        paper_bgcolor='white',\n",
        "        margin=dict(t=20, l=20, r=20, b=20),\n",
        "        hoverlabel=dict(font_size=14)\n",
        "    )\n",
        "\n",
        "    return fig"
      ],
      "metadata": {
        "id": "1Eul1KcZJ0a9"
      },
      "execution_count": 44,
      "outputs": []
    },
    {
      "cell_type": "code",
      "source": [
        "import json\n",
        "from datetime import datetime\n",
        "from typing import List, Tuple, Dict, Any, Optional\n",
        "import torch\n",
        "import plotly.graph_objects as go\n",
        "\n",
        "def tensor_to_native(value):\n",
        "    if isinstance(value, torch.Tensor):\n",
        "        return value.item() if value.numel() == 1 else value.tolist()\n",
        "    elif isinstance(value, dict):\n",
        "        return {k: tensor_to_native(v) for k, v in value.items()}\n",
        "    elif isinstance(value, (list, tuple)):\n",
        "        return [tensor_to_native(v) for v in value]\n",
        "    return value\n",
        "\n",
        "def collect_eap_results(\n",
        "    model_name: int,\n",
        "    dataset_name: int,\n",
        "    feature_name: str,\n",
        "    use_novel_names: bool,\n",
        "    use_synonyms_field: bool,\n",
        "    use_synonyms_table: bool,\n",
        "    num_fields: int,\n",
        "    batch_size:int,\n",
        "    edges: List[Tuple[str, str, float]],\n",
        "    threshold: float,\n",
        "    clean_logit_diff: Any,\n",
        "    corrupt_logit_diff: Any,\n",
        "    clean_metric: Any,\n",
        "    corrupt_metric: Any,\n",
        "    additional_params: Optional[Dict[str, Any]] = None\n",
        "):\n",
        "\n",
        "    results = {\n",
        "        \"metadata\": {\n",
        "            \"timestamp\": datetime.now().isoformat(),\n",
        "            \"model\": model_name,\n",
        "            \"dataset\": dataset_name,\n",
        "            \"feature_name\": feature_name,\n",
        "            \"use_novel_names\": use_novel_names,\n",
        "            \"use_synonyms_field\": use_synonyms_field,\n",
        "            \"use_synonyms_table\": use_synonyms_table,\n",
        "            \"num_fields\": num_fields,\n",
        "            \"batch_size\": batch_size\n",
        "        },\n",
        "        \"parameters\": {\n",
        "            \"threshold\": float(threshold),\n",
        "            \"clean_logit_diff\": tensor_to_native(clean_logit_diff),\n",
        "            \"corrupt_logit_diff\": tensor_to_native(corrupt_logit_diff),\n",
        "            \"clean_metric\": tensor_to_native(clean_metric),\n",
        "            \"corrupt_metric\": tensor_to_native(corrupt_metric)\n",
        "        },\n",
        "        \"edges\": [\n",
        "            {\n",
        "                \"from_edge\": str(from_edge),\n",
        "                \"to_edge\": str(to_edge),\n",
        "                \"score\": tensor_to_native(score)\n",
        "            }\n",
        "            for from_edge, to_edge, score in edges\n",
        "        ]\n",
        "    }\n",
        "\n",
        "    if additional_params:\n",
        "        results[\"parameters\"].update(\n",
        "            {k: tensor_to_native(v) for k, v in additional_params.items()}\n",
        "        )\n",
        "\n",
        "    return results\n",
        "\n",
        "def save_eap_results(results: Dict[str, Any], filepath: str) -> None:\n",
        "    serializable_results = tensor_to_native(results)\n",
        "    with open(filepath, 'w') as f:\n",
        "        json.dump(serializable_results, f, indent=2)\n",
        "\n",
        "def load_eap_results(filepath: str) -> Dict[str, Any]:\n",
        "    with open(filepath, 'r') as f:\n",
        "        return json.load(f)\n",
        "\n",
        "def results_to_edges(results: Dict[str, Any]) -> List[Tuple[str, str, float]]:\n",
        "    return [\n",
        "        (edge[\"from_edge\"], edge[\"to_edge\"], edge[\"score\"])\n",
        "        for edge in results[\"edges\"]\n",
        "    ]"
      ],
      "metadata": {
        "id": "cx4oiLxZFAFG"
      },
      "execution_count": 65,
      "outputs": []
    },
    {
      "cell_type": "code",
      "source": [
        "from transformers import AutoModelForCausalLM, AutoTokenizer\n",
        "from transformer_lens import HookedTransformer\n",
        "\n",
        "def modify_hf_wte_copy(model: AutoModelForCausalLM) -> AutoModelForCausalLM:\n",
        "\n",
        "    config = model.config\n",
        "    new_model = AutoModelForCausalLM.from_config(config)\n",
        "    new_model.load_state_dict(model.state_dict(), strict=False)\n",
        "\n",
        "    original_wte = model.transformer.wte\n",
        "    original_weight = original_wte.weight.data  # Shape: [vocab_size, hidden_size]\n",
        "\n",
        "    new_weight = original_weight[:-1, :]  # Shape: [vocab_size - 1, hidden_size]\n",
        "\n",
        "    new_wte = torch.nn.Embedding(new_weight.size(0), new_weight.size(1))\n",
        "    new_wte.weight.data = new_weight\n",
        "\n",
        "    new_model.transformer.wte = new_wte\n",
        "\n",
        "    original_unembed_weight = model.lm_head.weight.data  # Shape: [vocab_size, hidden_size]\n",
        "\n",
        "    new_unembed_weight = original_unembed_weight[:-1, :]  # Shape: [vocab_size - 1, hidden_size]\n",
        "\n",
        "    new_model.lm_head = torch.nn.Linear(new_unembed_weight.size(1), new_unembed_weight.size(0), bias=False)\n",
        "    new_model.lm_head.weight.data = new_unembed_weight\n",
        "\n",
        "    return new_model"
      ],
      "metadata": {
        "id": "cL5larL0FE1y"
      },
      "execution_count": 32,
      "outputs": []
    },
    {
      "cell_type": "markdown",
      "source": [
        "# EAP\n"
      ],
      "metadata": {
        "id": "LQCA895756eP"
      }
    },
    {
      "cell_type": "code",
      "source": [
        "from transformers import AutoModelForCausalLM, AutoTokenizer\n",
        "from transformer_lens import HookedTransformer\n",
        "\n",
        "base_model_name = \"roneneldan/TinyStories-2Layers-33M\"\n",
        "model_name = \"withmartian/sql_interp_bm1_cs1_experiment_1.10\"\n",
        "hf_model = AutoModelForCausalLM.from_pretrained(model_name)\n",
        "tokenizer = AutoTokenizer.from_pretrained(model_name)\n",
        "tokenizer_sql = AutoTokenizer.from_pretrained(base_model_name)\n",
        "\n",
        "\n",
        "fixed_hf_model = modify_hf_wte_copy(hf_model)\n",
        "\n",
        "model_sql = HookedTransformer.from_pretrained(\n",
        "            \"roneneldan/TinyStories-2Layers-33M\",\n",
        "            hf_model=fixed_hf_model,\n",
        "            device= 'cuda',\n",
        "            fold_ln=False,\n",
        "            center_writing_weights=False,\n",
        "            center_unembed=False,\n",
        "            tokenizer=tokenizer_sql,\n",
        "        )\n",
        "\n",
        "model_sql.cfg.use_attn_result = True\n",
        "model_sql.cfg.attn_only = False\n",
        "model_sql.cfg.use_hook_mlp_in = True\n",
        "model_sql.cfg.use_split_qkv_input = True"
      ],
      "metadata": {
        "colab": {
          "base_uri": "https://localhost:8080/"
        },
        "id": "0M5NBeGSfl74",
        "outputId": "9997233d-6a5d-4ce8-8c1f-f7f78058ad19"
      },
      "execution_count": 33,
      "outputs": [
        {
          "output_type": "stream",
          "name": "stdout",
          "text": [
            "Loaded pretrained model roneneldan/TinyStories-2Layers-33M into HookedTransformer\n"
          ]
        }
      ]
    },
    {
      "cell_type": "code",
      "source": [
        "model_num = 1                     # 0=GPT2, 1=TinyStories, 2=Qwen, 3=Llama, 4=Granite, 5=SmolLM\n",
        "cs_num = 1                        # 0=BaseModel, 1=CS1, 2=CS2 or 3=CS3\n",
        "feature_name = qts.DEFFIELDNAME   # ENGTABLENAME, ENGFIELDNAME, DEFTABLESTART, DEFTABLENAME, DEFFIELDNAME, DEFFIELDSEPARATOR\n",
        "use_novel_names = False           # If True, we corrupt using words not found in the clean prompt or create sql e.g. \"little\" or \"hammer\""
      ],
      "metadata": {
        "id": "pi6Qllom5afK"
      },
      "execution_count": 68,
      "outputs": []
    },
    {
      "cell_type": "code",
      "source": [
        "# Key global \"input\" variables\n",
        "clean_prompt = \"\"\n",
        "corrupt_prompt = \"\"\n",
        "clean_tokenizer_index = qts.UNKNOWN_VALUE # Tokenizer vocab index for clean word\n",
        "corrupt_tokenizer_index = qts.UNKNOWN_VALUE # Tokenizer vocab index for corrupted word\n",
        "answer_token_index = qts.UNKNOWN_VALUE # Token index in sql command answer of clean/corrupt word\n",
        "\n",
        "# Key global \"results\" variables\n",
        "clean_logit_diff = qts.UNKNOWN_VALUE\n",
        "corrupt_logit_diff = qts.UNKNOWN_VALUE"
      ],
      "metadata": {
        "id": "gh3ryurYYbTX"
      },
      "execution_count": 78,
      "outputs": []
    },
    {
      "cell_type": "code",
      "source": [
        "use_synonyms_field=True\n",
        "use_synonyms_table=False\n",
        "num_fields=2\n",
        "\n",
        "if model_num > 0:\n",
        "    # Generate a batch of clean and corrupt prompts for feature_name\n",
        "    batch_size = 50\n",
        "    generator = qts.CorruptFeatureTestGenerator(model_num, cs_num, tokenizer_sql, use_novel_names=use_novel_names, use_synonyms_field=use_synonyms_field, use_synonyms_table=use_synonyms_table, num_fields = num_fields)\n",
        "    examples = generator.generate_feature_examples(feature_name, batch_size)\n",
        "\n",
        "examples_prep = []\n",
        "for example in examples:\n",
        "\n",
        "    clean_tokenizer_index = example.clean_tokenizer_index\n",
        "    corrupt_tokenizer_index = example.corrupt_tokenizer_index\n",
        "    answer_token_index = example.answer_token_index\n",
        "\n",
        "    # Truncate the clean_prompt at answer_token_index\n",
        "    clean_prompt = example.clean_BatchItem.get_alpaca_prompt() + example.clean_BatchItem.sql_statement\n",
        "    clean_tokens = tokenizer_sql(clean_prompt)[\"input_ids\"]\n",
        "    clean_tokens = clean_tokens[:answer_token_index]\n",
        "    clean_prompt = tokenizer_sql.decode(clean_tokens)\n",
        "\n",
        "    # Truncate the corrupt_prompt at answer_token_index\n",
        "    corrupt_prompt = example.corrupt_BatchItem.get_alpaca_prompt() + example.corrupt_BatchItem.sql_statement\n",
        "    corrupt_tokens = tokenizer_sql(corrupt_prompt)[\"input_ids\"]\n",
        "    corrupt_tokens = corrupt_tokens[:answer_token_index]\n",
        "    corrupt_prompt = tokenizer_sql.decode(corrupt_tokens)\n",
        "\n",
        "    examples_prep.append({\n",
        "        \"clean_prompt\": clean_prompt,\n",
        "        \"clean_tokens\": clean_tokens,\n",
        "        \"corrupt_prompt\": corrupt_prompt,\n",
        "        \"corrupt_tokens\": corrupt_tokens,\n",
        "        \"clean_tokenizer_index\": example.clean_tokenizer_index,\n",
        "        \"corrupt_tokenizer_index\": example.corrupt_tokenizer_index,\n",
        "    })\n"
      ],
      "metadata": {
        "id": "XltRK4x_Yd0y"
      },
      "execution_count": 83,
      "outputs": []
    },
    {
      "cell_type": "code",
      "source": [
        "import torch as t\n",
        "clean_tokens = t.tensor([example[\"clean_tokens\"] for example in examples_prep]).to('cuda')\n",
        "corrupt_tokens = t.tensor([example[\"corrupt_tokens\"] for example in examples_prep]).to('cuda')\n",
        "clean_tokens.shape, corrupt_tokens.shape"
      ],
      "metadata": {
        "colab": {
          "base_uri": "https://localhost:8080/"
        },
        "id": "hyQhZYH4iSzQ",
        "outputId": "1a77624c-0db9-4f75-fd6e-c33383bbc1df"
      },
      "execution_count": 84,
      "outputs": [
        {
          "output_type": "execute_result",
          "data": {
            "text/plain": [
              "(torch.Size([50, 31]), torch.Size([50, 31]))"
            ]
          },
          "metadata": {},
          "execution_count": 84
        }
      ]
    },
    {
      "cell_type": "code",
      "source": [
        "def ave_logit_diff(\n",
        "    logits: Float[Tensor, 'batch seq d_vocab'],\n",
        "    examples_prep,\n",
        "    per_prompt: bool = False\n",
        "):\n",
        "    '''\n",
        "    Return average logit difference between correct and incorrect answers\n",
        "    '''\n",
        "    # Access .logits if it's a CausalLMOutputWithPast object\n",
        "    if hasattr(logits, 'logits'):\n",
        "        logits = logits.logits\n",
        "\n",
        "    batch_size = logits.size(0)\n",
        "\n",
        "    # Get logits for clean and corrupt tokens at the last position (-1)\n",
        "    clean_logits = logits[range(batch_size), -1, [example[\"clean_tokenizer_index\"] for example in examples_prep]]\n",
        "    corrupt_logits = logits[range(batch_size), -1, [example[\"corrupt_tokenizer_index\"] for example in examples_prep]]\n",
        "\n",
        "    logit_diff = clean_logits - corrupt_logits\n",
        "    return logit_diff if per_prompt else logit_diff.mean()\n",
        "\n",
        "# Get clean and corrupt logit differences\n",
        "with t.no_grad():\n",
        "    clean_logits = model_sql(t.tensor([example[\"clean_tokens\"] for example in examples_prep]).to('cuda'))\n",
        "    corrupt_logits = model_sql(t.tensor([example[\"corrupt_tokens\"] for example in examples_prep]).to('cuda'))\n",
        "    clean_logit_diff = ave_logit_diff(clean_logits, examples_prep).item()\n",
        "    corrupt_logit_diff = ave_logit_diff(corrupt_logits, examples_prep).item()\n",
        "\n",
        "def ioi_metric(\n",
        "    logits: Float[Tensor, \"batch seq_len d_vocab\"],\n",
        "    corrupted_logit_diff: float = corrupt_logit_diff,\n",
        "    clean_logit_diff: float = clean_logit_diff,\n",
        "    examples = examples_prep\n",
        "):\n",
        "    patched_logit_diff = ave_logit_diff(logits, examples)\n",
        "    return (patched_logit_diff - corrupted_logit_diff) / (clean_logit_diff - corrupted_logit_diff)\n",
        "\n",
        "def negative_ioi_metric(logits: Float[Tensor, \"batch seq_len d_vocab\"]):\n",
        "    return -ioi_metric(logits)\n",
        "\n",
        "# Get clean and corrupt metrics\n",
        "with t.no_grad():\n",
        "    clean_metric = ioi_metric(clean_logits, corrupt_logit_diff, clean_logit_diff, examples_prep)\n",
        "    corrupt_metric = ioi_metric(corrupt_logits, corrupt_logit_diff, clean_logit_diff, examples_prep)\n",
        "\n",
        "print(f'Clean direction: {clean_logit_diff}, Corrupt direction: {corrupt_logit_diff}')\n",
        "print(f'Clean metric: {clean_metric}, Corrupt metric: {corrupt_metric}')"
      ],
      "metadata": {
        "colab": {
          "base_uri": "https://localhost:8080/"
        },
        "id": "wY5JCQMVaeE5",
        "outputId": "52961ef3-f235-427e-be99-1ef6e255f277"
      },
      "execution_count": 85,
      "outputs": [
        {
          "output_type": "stream",
          "name": "stdout",
          "text": [
            "Clean direction: 3.8116471767425537, Corrupt direction: 2.0542147159576416\n",
            "Clean metric: 1.0, Corrupt metric: 0.0\n"
          ]
        }
      ]
    },
    {
      "cell_type": "code",
      "source": [
        "# Prepare inputs\n",
        "clean_tokens = t.tensor([example[\"clean_tokens\"] for example in examples_prep]).to('cuda')\n",
        "corrupt_tokens = t.tensor([example[\"corrupt_tokens\"] for example in examples_prep]).to('cuda')\n",
        "\n",
        "# Run EAP\n",
        "graph = EAP(\n",
        "    model_sql,\n",
        "    clean_tokens,\n",
        "    corrupt_tokens,\n",
        "    ioi_metric,\n",
        "    upstream_nodes=[\"mlp\", \"head\"],\n",
        "    downstream_nodes=[\"mlp\", \"head\"]\n",
        ")\n",
        "top_edges = graph.top_edges(n=10, abs_scores=True)\n",
        "for from_edge, to_edge, score in top_edges:\n",
        "    print(f'{from_edge} -> [{round(score, 3)}] -> {to_edge}')"
      ],
      "metadata": {
        "colab": {
          "base_uri": "https://localhost:8080/"
        },
        "id": "7wTQotmQIZGB",
        "outputId": "410f4215-4b5c-4356-a258-e6f2e0654e35"
      },
      "execution_count": 86,
      "outputs": [
        {
          "output_type": "stream",
          "name": "stdout",
          "text": [
            "Saving activations requires 0.0001 GB of memory per token\n"
          ]
        },
        {
          "output_type": "stream",
          "name": "stderr",
          "text": [
            "100%|██████████| 50/50 [00:10<00:00,  4.66it/s]\n"
          ]
        },
        {
          "output_type": "stream",
          "name": "stdout",
          "text": [
            "mlp.0 -> [-0.053] -> head.1.3.k\n",
            "mlp.0 -> [-0.021] -> head.1.11.k\n",
            "head.1.3 -> [0.01] -> mlp.1\n",
            "mlp.0 -> [0.01] -> head.1.8.v\n",
            "head.0.1 -> [-0.009] -> mlp.0\n",
            "head.1.11 -> [0.008] -> mlp.1\n",
            "mlp.0 -> [-0.008] -> head.1.8.k\n",
            "head.1.7 -> [-0.008] -> mlp.1\n",
            "head.0.8 -> [-0.008] -> mlp.0\n",
            "mlp.0 -> [-0.007] -> head.1.7.v\n"
          ]
        }
      ]
    },
    {
      "cell_type": "code",
      "source": [
        "fig = plot_eap_sankey(top_edges, layer_spacing=True)\n",
        "fig.show()"
      ],
      "metadata": {
        "colab": {
          "base_uri": "https://localhost:8080/",
          "height": 417
        },
        "id": "PxRM8PK37PrO",
        "outputId": "fe62220f-0dc5-4dd1-e90c-72bc97b25d90"
      },
      "execution_count": 87,
      "outputs": [
        {
          "output_type": "display_data",
          "data": {
            "text/html": [
              "<html>\n",
              "<head><meta charset=\"utf-8\" /></head>\n",
              "<body>\n",
              "    <div>            <script src=\"https://cdnjs.cloudflare.com/ajax/libs/mathjax/2.7.5/MathJax.js?config=TeX-AMS-MML_SVG\"></script><script type=\"text/javascript\">if (window.MathJax && window.MathJax.Hub && window.MathJax.Hub.Config) {window.MathJax.Hub.Config({SVG: {font: \"STIX-Web\"}});}</script>                <script type=\"text/javascript\">window.PlotlyConfig = {MathJaxConfig: 'local'};</script>\n",
              "        <script charset=\"utf-8\" src=\"https://cdn.plot.ly/plotly-2.35.2.min.js\"></script>                <div id=\"8b8e0c48-13fd-48a5-b433-53b0c7eaccf0\" class=\"plotly-graph-div\" style=\"height:400px; width:600px;\"></div>            <script type=\"text/javascript\">                                    window.PLOTLYENV=window.PLOTLYENV || {};                                    if (document.getElementById(\"8b8e0c48-13fd-48a5-b433-53b0c7eaccf0\")) {                    Plotly.newPlot(                        \"8b8e0c48-13fd-48a5-b433-53b0c7eaccf0\",                        [{\"arrangement\":\"perpendicular\",\"domain\":{\"y\":[0,1]},\"link\":{\"arrowlen\":25,\"color\":[\"rgba(255,0,0,0.3)\",\"rgba(255,0,0,0.3)\",\"rgba(0,0,255,0.3)\",\"rgba(0,0,255,0.3)\",\"rgba(255,0,0,0.3)\",\"rgba(0,0,255,0.3)\",\"rgba(255,0,0,0.3)\",\"rgba(255,0,0,0.3)\",\"rgba(255,0,0,0.3)\",\"rgba(255,0,0,0.3)\",\"rgba(0,255,0,0.0)\",\"rgba(0,255,0,0.0)\",\"rgba(0,255,0,0.0)\",\"rgba(0,255,0,0.0)\",\"rgba(0,255,0,0.0)\",\"rgba(0,255,0,0.0)\",\"rgba(0,255,0,0.0)\",\"rgba(0,255,0,0.0)\",\"rgba(0,255,0,0.0)\",\"rgba(0,255,0,0.0)\",\"rgba(0,255,0,0.0)\",\"rgba(0,255,0,0.0)\",\"rgba(0,255,0,0.0)\",\"rgba(0,255,0,0.0)\",\"rgba(0,255,0,0.0)\",\"rgba(0,255,0,0.0)\",\"rgba(0,255,0,0.0)\",\"rgba(0,255,0,0.0)\",\"rgba(0,255,0,0.0)\",\"rgba(0,255,0,0.0)\"],\"label\":[\"mlp.0 → head.1.3.k\\u003cbr\\u003e-0.053\",\"mlp.0 → head.1.11.k\\u003cbr\\u003e-0.021\",\"head.1.3 → mlp.1\\u003cbr\\u003e0.010\",\"mlp.0 → head.1.8.v\\u003cbr\\u003e0.010\",\"head.0.1 → mlp.0\\u003cbr\\u003e-0.009\",\"head.1.11 → mlp.1\\u003cbr\\u003e0.008\",\"mlp.0 → head.1.8.k\\u003cbr\\u003e-0.008\",\"head.1.7 → mlp.1\\u003cbr\\u003e-0.008\",\"head.0.8 → mlp.0\\u003cbr\\u003e-0.008\",\"mlp.0 → head.1.7.v\\u003cbr\\u003e-0.007\",\"\",\"\",\"\",\"\",\"\",\"\",\"\",\"\",\"\",\"\",\"\",\"\",\"\",\"\",\"\",\"\",\"\",\"\",\"\",\"\"],\"source\":[9,9,3,9,6,0,9,5,7,9,9,9,9,6,9,9,7,9,9,9,9,9,9,9,9,9,9,9,9,9],\"target\":[1,8,11,2,9,11,4,11,9,10,1,1,1,1,1,1,1,1,1,1,8,3,11,2,0,11,4,5,11,10],\"value\":[0.05329442024230957,0.020868565887212753,0.010076118633151054,0.009523086249828339,0.008828469552099705,0.008242120034992695,0.008236737921833992,0.008016026578843594,0.007820063270628452,0.007189429365098476,1e-6,1e-6,1e-6,1e-6,1e-6,1e-6,1e-6,1e-6,1e-6,1e-6,1e-6,1e-6,1e-6,1e-6,1e-6,1e-6,1e-6,1e-6,1e-6,1e-6]},\"node\":{\"color\":[\"rgba(31, 119, 180, 0.8)\",\"rgba(255, 127, 14, 0.8)\",\"rgba(44, 160, 44, 0.8)\",\"rgba(214, 39, 40, 0.8)\",\"rgba(148, 103, 189, 0.8)\",\"rgba(140, 86, 75, 0.8)\",\"rgba(227, 119, 194, 0.8)\",\"rgba(127, 127, 127, 0.8)\",\"rgba(188, 189, 34, 0.8)\",\"rgba(23, 190, 207, 0.8)\",\"rgba(31, 119, 180, 0.8)\",\"rgba(255, 127, 14, 0.8)\"],\"label\":[\"head.1.11\\u003cbr\\u003e0.008\",\"head.1.3.k\\u003cbr\\u003e-0.053\",\"head.1.8.v\\u003cbr\\u003e0.010\",\"head.1.3\\u003cbr\\u003e0.010\",\"head.1.8.k\\u003cbr\\u003e-0.008\",\"head.1.7\\u003cbr\\u003e-0.008\",\"head.0.1\\u003cbr\\u003e-0.009\",\"head.0.8\\u003cbr\\u003e-0.008\",\"head.1.11.k\\u003cbr\\u003e-0.021\",\"mlp.0\\u003cbr\\u003e-0.097\",\"head.1.7.v\\u003cbr\\u003e-0.007\",\"mlp.1\\u003cbr\\u003e0.010\"],\"line\":{\"width\":0.0},\"pad\":15,\"thickness\":20},\"type\":\"sankey\"}],                        {\"template\":{\"data\":{\"histogram2dcontour\":[{\"type\":\"histogram2dcontour\",\"colorbar\":{\"outlinewidth\":0,\"ticks\":\"\"},\"colorscale\":[[0.0,\"#0d0887\"],[0.1111111111111111,\"#46039f\"],[0.2222222222222222,\"#7201a8\"],[0.3333333333333333,\"#9c179e\"],[0.4444444444444444,\"#bd3786\"],[0.5555555555555556,\"#d8576b\"],[0.6666666666666666,\"#ed7953\"],[0.7777777777777778,\"#fb9f3a\"],[0.8888888888888888,\"#fdca26\"],[1.0,\"#f0f921\"]]}],\"choropleth\":[{\"type\":\"choropleth\",\"colorbar\":{\"outlinewidth\":0,\"ticks\":\"\"}}],\"histogram2d\":[{\"type\":\"histogram2d\",\"colorbar\":{\"outlinewidth\":0,\"ticks\":\"\"},\"colorscale\":[[0.0,\"#0d0887\"],[0.1111111111111111,\"#46039f\"],[0.2222222222222222,\"#7201a8\"],[0.3333333333333333,\"#9c179e\"],[0.4444444444444444,\"#bd3786\"],[0.5555555555555556,\"#d8576b\"],[0.6666666666666666,\"#ed7953\"],[0.7777777777777778,\"#fb9f3a\"],[0.8888888888888888,\"#fdca26\"],[1.0,\"#f0f921\"]]}],\"heatmap\":[{\"type\":\"heatmap\",\"colorbar\":{\"outlinewidth\":0,\"ticks\":\"\"},\"colorscale\":[[0.0,\"#0d0887\"],[0.1111111111111111,\"#46039f\"],[0.2222222222222222,\"#7201a8\"],[0.3333333333333333,\"#9c179e\"],[0.4444444444444444,\"#bd3786\"],[0.5555555555555556,\"#d8576b\"],[0.6666666666666666,\"#ed7953\"],[0.7777777777777778,\"#fb9f3a\"],[0.8888888888888888,\"#fdca26\"],[1.0,\"#f0f921\"]]}],\"heatmapgl\":[{\"type\":\"heatmapgl\",\"colorbar\":{\"outlinewidth\":0,\"ticks\":\"\"},\"colorscale\":[[0.0,\"#0d0887\"],[0.1111111111111111,\"#46039f\"],[0.2222222222222222,\"#7201a8\"],[0.3333333333333333,\"#9c179e\"],[0.4444444444444444,\"#bd3786\"],[0.5555555555555556,\"#d8576b\"],[0.6666666666666666,\"#ed7953\"],[0.7777777777777778,\"#fb9f3a\"],[0.8888888888888888,\"#fdca26\"],[1.0,\"#f0f921\"]]}],\"contourcarpet\":[{\"type\":\"contourcarpet\",\"colorbar\":{\"outlinewidth\":0,\"ticks\":\"\"}}],\"contour\":[{\"type\":\"contour\",\"colorbar\":{\"outlinewidth\":0,\"ticks\":\"\"},\"colorscale\":[[0.0,\"#0d0887\"],[0.1111111111111111,\"#46039f\"],[0.2222222222222222,\"#7201a8\"],[0.3333333333333333,\"#9c179e\"],[0.4444444444444444,\"#bd3786\"],[0.5555555555555556,\"#d8576b\"],[0.6666666666666666,\"#ed7953\"],[0.7777777777777778,\"#fb9f3a\"],[0.8888888888888888,\"#fdca26\"],[1.0,\"#f0f921\"]]}],\"surface\":[{\"type\":\"surface\",\"colorbar\":{\"outlinewidth\":0,\"ticks\":\"\"},\"colorscale\":[[0.0,\"#0d0887\"],[0.1111111111111111,\"#46039f\"],[0.2222222222222222,\"#7201a8\"],[0.3333333333333333,\"#9c179e\"],[0.4444444444444444,\"#bd3786\"],[0.5555555555555556,\"#d8576b\"],[0.6666666666666666,\"#ed7953\"],[0.7777777777777778,\"#fb9f3a\"],[0.8888888888888888,\"#fdca26\"],[1.0,\"#f0f921\"]]}],\"mesh3d\":[{\"type\":\"mesh3d\",\"colorbar\":{\"outlinewidth\":0,\"ticks\":\"\"}}],\"scatter\":[{\"fillpattern\":{\"fillmode\":\"overlay\",\"size\":10,\"solidity\":0.2},\"type\":\"scatter\"}],\"parcoords\":[{\"type\":\"parcoords\",\"line\":{\"colorbar\":{\"outlinewidth\":0,\"ticks\":\"\"}}}],\"scatterpolargl\":[{\"type\":\"scatterpolargl\",\"marker\":{\"colorbar\":{\"outlinewidth\":0,\"ticks\":\"\"}}}],\"bar\":[{\"error_x\":{\"color\":\"#2a3f5f\"},\"error_y\":{\"color\":\"#2a3f5f\"},\"marker\":{\"line\":{\"color\":\"#E5ECF6\",\"width\":0.5},\"pattern\":{\"fillmode\":\"overlay\",\"size\":10,\"solidity\":0.2}},\"type\":\"bar\"}],\"scattergeo\":[{\"type\":\"scattergeo\",\"marker\":{\"colorbar\":{\"outlinewidth\":0,\"ticks\":\"\"}}}],\"scatterpolar\":[{\"type\":\"scatterpolar\",\"marker\":{\"colorbar\":{\"outlinewidth\":0,\"ticks\":\"\"}}}],\"histogram\":[{\"marker\":{\"pattern\":{\"fillmode\":\"overlay\",\"size\":10,\"solidity\":0.2}},\"type\":\"histogram\"}],\"scattergl\":[{\"type\":\"scattergl\",\"marker\":{\"colorbar\":{\"outlinewidth\":0,\"ticks\":\"\"}}}],\"scatter3d\":[{\"type\":\"scatter3d\",\"line\":{\"colorbar\":{\"outlinewidth\":0,\"ticks\":\"\"}},\"marker\":{\"colorbar\":{\"outlinewidth\":0,\"ticks\":\"\"}}}],\"scattermapbox\":[{\"type\":\"scattermapbox\",\"marker\":{\"colorbar\":{\"outlinewidth\":0,\"ticks\":\"\"}}}],\"scatterternary\":[{\"type\":\"scatterternary\",\"marker\":{\"colorbar\":{\"outlinewidth\":0,\"ticks\":\"\"}}}],\"scattercarpet\":[{\"type\":\"scattercarpet\",\"marker\":{\"colorbar\":{\"outlinewidth\":0,\"ticks\":\"\"}}}],\"carpet\":[{\"aaxis\":{\"endlinecolor\":\"#2a3f5f\",\"gridcolor\":\"white\",\"linecolor\":\"white\",\"minorgridcolor\":\"white\",\"startlinecolor\":\"#2a3f5f\"},\"baxis\":{\"endlinecolor\":\"#2a3f5f\",\"gridcolor\":\"white\",\"linecolor\":\"white\",\"minorgridcolor\":\"white\",\"startlinecolor\":\"#2a3f5f\"},\"type\":\"carpet\"}],\"table\":[{\"cells\":{\"fill\":{\"color\":\"#EBF0F8\"},\"line\":{\"color\":\"white\"}},\"header\":{\"fill\":{\"color\":\"#C8D4E3\"},\"line\":{\"color\":\"white\"}},\"type\":\"table\"}],\"barpolar\":[{\"marker\":{\"line\":{\"color\":\"#E5ECF6\",\"width\":0.5},\"pattern\":{\"fillmode\":\"overlay\",\"size\":10,\"solidity\":0.2}},\"type\":\"barpolar\"}],\"pie\":[{\"automargin\":true,\"type\":\"pie\"}]},\"layout\":{\"autotypenumbers\":\"strict\",\"colorway\":[\"#636efa\",\"#EF553B\",\"#00cc96\",\"#ab63fa\",\"#FFA15A\",\"#19d3f3\",\"#FF6692\",\"#B6E880\",\"#FF97FF\",\"#FECB52\"],\"font\":{\"color\":\"#2a3f5f\"},\"hovermode\":\"closest\",\"hoverlabel\":{\"align\":\"left\"},\"paper_bgcolor\":\"white\",\"plot_bgcolor\":\"#E5ECF6\",\"polar\":{\"bgcolor\":\"#E5ECF6\",\"angularaxis\":{\"gridcolor\":\"white\",\"linecolor\":\"white\",\"ticks\":\"\"},\"radialaxis\":{\"gridcolor\":\"white\",\"linecolor\":\"white\",\"ticks\":\"\"}},\"ternary\":{\"bgcolor\":\"#E5ECF6\",\"aaxis\":{\"gridcolor\":\"white\",\"linecolor\":\"white\",\"ticks\":\"\"},\"baxis\":{\"gridcolor\":\"white\",\"linecolor\":\"white\",\"ticks\":\"\"},\"caxis\":{\"gridcolor\":\"white\",\"linecolor\":\"white\",\"ticks\":\"\"}},\"coloraxis\":{\"colorbar\":{\"outlinewidth\":0,\"ticks\":\"\"}},\"colorscale\":{\"sequential\":[[0.0,\"#0d0887\"],[0.1111111111111111,\"#46039f\"],[0.2222222222222222,\"#7201a8\"],[0.3333333333333333,\"#9c179e\"],[0.4444444444444444,\"#bd3786\"],[0.5555555555555556,\"#d8576b\"],[0.6666666666666666,\"#ed7953\"],[0.7777777777777778,\"#fb9f3a\"],[0.8888888888888888,\"#fdca26\"],[1.0,\"#f0f921\"]],\"sequentialminus\":[[0.0,\"#0d0887\"],[0.1111111111111111,\"#46039f\"],[0.2222222222222222,\"#7201a8\"],[0.3333333333333333,\"#9c179e\"],[0.4444444444444444,\"#bd3786\"],[0.5555555555555556,\"#d8576b\"],[0.6666666666666666,\"#ed7953\"],[0.7777777777777778,\"#fb9f3a\"],[0.8888888888888888,\"#fdca26\"],[1.0,\"#f0f921\"]],\"diverging\":[[0,\"#8e0152\"],[0.1,\"#c51b7d\"],[0.2,\"#de77ae\"],[0.3,\"#f1b6da\"],[0.4,\"#fde0ef\"],[0.5,\"#f7f7f7\"],[0.6,\"#e6f5d0\"],[0.7,\"#b8e186\"],[0.8,\"#7fbc41\"],[0.9,\"#4d9221\"],[1,\"#276419\"]]},\"xaxis\":{\"gridcolor\":\"white\",\"linecolor\":\"white\",\"ticks\":\"\",\"title\":{\"standoff\":15},\"zerolinecolor\":\"white\",\"automargin\":true,\"zerolinewidth\":2},\"yaxis\":{\"gridcolor\":\"white\",\"linecolor\":\"white\",\"ticks\":\"\",\"title\":{\"standoff\":15},\"zerolinecolor\":\"white\",\"automargin\":true,\"zerolinewidth\":2},\"scene\":{\"xaxis\":{\"backgroundcolor\":\"#E5ECF6\",\"gridcolor\":\"white\",\"linecolor\":\"white\",\"showbackground\":true,\"ticks\":\"\",\"zerolinecolor\":\"white\",\"gridwidth\":2},\"yaxis\":{\"backgroundcolor\":\"#E5ECF6\",\"gridcolor\":\"white\",\"linecolor\":\"white\",\"showbackground\":true,\"ticks\":\"\",\"zerolinecolor\":\"white\",\"gridwidth\":2},\"zaxis\":{\"backgroundcolor\":\"#E5ECF6\",\"gridcolor\":\"white\",\"linecolor\":\"white\",\"showbackground\":true,\"ticks\":\"\",\"zerolinecolor\":\"white\",\"gridwidth\":2}},\"shapedefaults\":{\"line\":{\"color\":\"#2a3f5f\"}},\"annotationdefaults\":{\"arrowcolor\":\"#2a3f5f\",\"arrowhead\":0,\"arrowwidth\":1},\"geo\":{\"bgcolor\":\"white\",\"landcolor\":\"#E5ECF6\",\"subunitcolor\":\"white\",\"showland\":true,\"showlakes\":true,\"lakecolor\":\"white\"},\"title\":{\"x\":0.05},\"mapbox\":{\"style\":\"light\"}}},\"font\":{\"size\":14},\"margin\":{\"t\":20,\"l\":20,\"r\":20,\"b\":20},\"hoverlabel\":{\"font\":{\"size\":14}},\"height\":400,\"width\":600,\"plot_bgcolor\":\"white\",\"paper_bgcolor\":\"white\"},                        {\"responsive\": true}                    ).then(function(){\n",
              "                            \n",
              "var gd = document.getElementById('8b8e0c48-13fd-48a5-b433-53b0c7eaccf0');\n",
              "var x = new MutationObserver(function (mutations, observer) {{\n",
              "        var display = window.getComputedStyle(gd).display;\n",
              "        if (!display || display === 'none') {{\n",
              "            console.log([gd, 'removed!']);\n",
              "            Plotly.purge(gd);\n",
              "            observer.disconnect();\n",
              "        }}\n",
              "}});\n",
              "\n",
              "// Listen for the removal of the full notebook cells\n",
              "var notebookContainer = gd.closest('#notebook-container');\n",
              "if (notebookContainer) {{\n",
              "    x.observe(notebookContainer, {childList: true});\n",
              "}}\n",
              "\n",
              "// Listen for the clearing of the current output cell\n",
              "var outputEl = gd.closest('.output');\n",
              "if (outputEl) {{\n",
              "    x.observe(outputEl, {childList: true});\n",
              "}}\n",
              "\n",
              "                        })                };                            </script>        </div>\n",
              "</body>\n",
              "</html>"
            ]
          },
          "metadata": {}
        }
      ]
    },
    {
      "cell_type": "code",
      "source": [
        "# Get edges above threshold\n",
        "def edges_above_threshold(graph, threshold=0.1):\n",
        "    edges = []\n",
        "    for i in range(graph.eap_scores.shape[0]):\n",
        "        for j in range(graph.eap_scores.shape[1]):\n",
        "            score = graph.eap_scores[i, j].item()\n",
        "            if abs(score) > threshold:\n",
        "                from_edge = graph.upstream_nodes[i]\n",
        "                to_edge = graph.downstream_nodes[j]\n",
        "                edges.append((from_edge, to_edge, score))\n",
        "\n",
        "    # Sort by absolute score value, highest to lowest\n",
        "    edges.sort(key=lambda x: abs(x[2]), reverse=True)\n",
        "    return edges\n",
        "\n",
        "threshold=1e-2\n",
        "significant_edges = edges_above_threshold(graph, threshold=threshold)\n",
        "for from_edge, to_edge, score in significant_edges:\n",
        "    print(f'{from_edge} -> [{round(score, 3)}] -> {to_edge}')"
      ],
      "metadata": {
        "id": "z-h98BjPnDZL",
        "colab": {
          "base_uri": "https://localhost:8080/"
        },
        "outputId": "34d8082a-8a47-433f-b61a-a686c39407a7"
      },
      "execution_count": 88,
      "outputs": [
        {
          "output_type": "stream",
          "name": "stdout",
          "text": [
            "mlp.0 -> [-0.053] -> head.1.3.k\n",
            "mlp.0 -> [-0.021] -> head.1.11.k\n",
            "head.1.3 -> [0.01] -> mlp.1\n"
          ]
        }
      ]
    },
    {
      "cell_type": "code",
      "source": [
        "fig = plot_eap_sankey(significant_edges, layer_spacing=True)\n",
        "fig.show()"
      ],
      "metadata": {
        "id": "4t0m-FqqJpxH",
        "outputId": "fdc55937-cf89-4b19-c7e1-b55b12bfeb0f",
        "colab": {
          "base_uri": "https://localhost:8080/",
          "height": 417
        }
      },
      "execution_count": 89,
      "outputs": [
        {
          "output_type": "display_data",
          "data": {
            "text/html": [
              "<html>\n",
              "<head><meta charset=\"utf-8\" /></head>\n",
              "<body>\n",
              "    <div>            <script src=\"https://cdnjs.cloudflare.com/ajax/libs/mathjax/2.7.5/MathJax.js?config=TeX-AMS-MML_SVG\"></script><script type=\"text/javascript\">if (window.MathJax && window.MathJax.Hub && window.MathJax.Hub.Config) {window.MathJax.Hub.Config({SVG: {font: \"STIX-Web\"}});}</script>                <script type=\"text/javascript\">window.PlotlyConfig = {MathJaxConfig: 'local'};</script>\n",
              "        <script charset=\"utf-8\" src=\"https://cdn.plot.ly/plotly-2.35.2.min.js\"></script>                <div id=\"5c9dc7ca-d0fb-43f6-b388-d10925fe8ef8\" class=\"plotly-graph-div\" style=\"height:400px; width:600px;\"></div>            <script type=\"text/javascript\">                                    window.PLOTLYENV=window.PLOTLYENV || {};                                    if (document.getElementById(\"5c9dc7ca-d0fb-43f6-b388-d10925fe8ef8\")) {                    Plotly.newPlot(                        \"5c9dc7ca-d0fb-43f6-b388-d10925fe8ef8\",                        [{\"arrangement\":\"perpendicular\",\"domain\":{\"y\":[0,1]},\"link\":{\"arrowlen\":25,\"color\":[\"rgba(255,0,0,0.3)\",\"rgba(255,0,0,0.3)\",\"rgba(0,0,255,0.3)\",\"rgba(0,255,0,0.0)\",\"rgba(0,255,0,0.0)\",\"rgba(0,255,0,0.0)\",\"rgba(0,255,0,0.0)\",\"rgba(0,255,0,0.0)\",\"rgba(0,255,0,0.0)\"],\"label\":[\"mlp.0 → head.1.3.k\\u003cbr\\u003e-0.053\",\"mlp.0 → head.1.11.k\\u003cbr\\u003e-0.021\",\"head.1.3 → mlp.1\\u003cbr\\u003e0.010\",\"\",\"\",\"\",\"\",\"\",\"\"],\"source\":[3,3,1,3,3,3,3,3,3],\"target\":[0,2,4,0,0,0,2,1,4],\"value\":[0.05329442024230957,0.020868565887212753,0.010076118633151054,1e-6,1e-6,1e-6,1e-6,1e-6,1e-6]},\"node\":{\"color\":[\"rgba(31, 119, 180, 0.8)\",\"rgba(255, 127, 14, 0.8)\",\"rgba(44, 160, 44, 0.8)\",\"rgba(214, 39, 40, 0.8)\",\"rgba(148, 103, 189, 0.8)\"],\"label\":[\"head.1.3.k\\u003cbr\\u003e-0.053\",\"head.1.3\\u003cbr\\u003e0.010\",\"head.1.11.k\\u003cbr\\u003e-0.021\",\"mlp.0\\u003cbr\\u003e-0.074\",\"mlp.1\\u003cbr\\u003e0.010\"],\"line\":{\"width\":0.0},\"pad\":15,\"thickness\":20},\"type\":\"sankey\"}],                        {\"template\":{\"data\":{\"histogram2dcontour\":[{\"type\":\"histogram2dcontour\",\"colorbar\":{\"outlinewidth\":0,\"ticks\":\"\"},\"colorscale\":[[0.0,\"#0d0887\"],[0.1111111111111111,\"#46039f\"],[0.2222222222222222,\"#7201a8\"],[0.3333333333333333,\"#9c179e\"],[0.4444444444444444,\"#bd3786\"],[0.5555555555555556,\"#d8576b\"],[0.6666666666666666,\"#ed7953\"],[0.7777777777777778,\"#fb9f3a\"],[0.8888888888888888,\"#fdca26\"],[1.0,\"#f0f921\"]]}],\"choropleth\":[{\"type\":\"choropleth\",\"colorbar\":{\"outlinewidth\":0,\"ticks\":\"\"}}],\"histogram2d\":[{\"type\":\"histogram2d\",\"colorbar\":{\"outlinewidth\":0,\"ticks\":\"\"},\"colorscale\":[[0.0,\"#0d0887\"],[0.1111111111111111,\"#46039f\"],[0.2222222222222222,\"#7201a8\"],[0.3333333333333333,\"#9c179e\"],[0.4444444444444444,\"#bd3786\"],[0.5555555555555556,\"#d8576b\"],[0.6666666666666666,\"#ed7953\"],[0.7777777777777778,\"#fb9f3a\"],[0.8888888888888888,\"#fdca26\"],[1.0,\"#f0f921\"]]}],\"heatmap\":[{\"type\":\"heatmap\",\"colorbar\":{\"outlinewidth\":0,\"ticks\":\"\"},\"colorscale\":[[0.0,\"#0d0887\"],[0.1111111111111111,\"#46039f\"],[0.2222222222222222,\"#7201a8\"],[0.3333333333333333,\"#9c179e\"],[0.4444444444444444,\"#bd3786\"],[0.5555555555555556,\"#d8576b\"],[0.6666666666666666,\"#ed7953\"],[0.7777777777777778,\"#fb9f3a\"],[0.8888888888888888,\"#fdca26\"],[1.0,\"#f0f921\"]]}],\"heatmapgl\":[{\"type\":\"heatmapgl\",\"colorbar\":{\"outlinewidth\":0,\"ticks\":\"\"},\"colorscale\":[[0.0,\"#0d0887\"],[0.1111111111111111,\"#46039f\"],[0.2222222222222222,\"#7201a8\"],[0.3333333333333333,\"#9c179e\"],[0.4444444444444444,\"#bd3786\"],[0.5555555555555556,\"#d8576b\"],[0.6666666666666666,\"#ed7953\"],[0.7777777777777778,\"#fb9f3a\"],[0.8888888888888888,\"#fdca26\"],[1.0,\"#f0f921\"]]}],\"contourcarpet\":[{\"type\":\"contourcarpet\",\"colorbar\":{\"outlinewidth\":0,\"ticks\":\"\"}}],\"contour\":[{\"type\":\"contour\",\"colorbar\":{\"outlinewidth\":0,\"ticks\":\"\"},\"colorscale\":[[0.0,\"#0d0887\"],[0.1111111111111111,\"#46039f\"],[0.2222222222222222,\"#7201a8\"],[0.3333333333333333,\"#9c179e\"],[0.4444444444444444,\"#bd3786\"],[0.5555555555555556,\"#d8576b\"],[0.6666666666666666,\"#ed7953\"],[0.7777777777777778,\"#fb9f3a\"],[0.8888888888888888,\"#fdca26\"],[1.0,\"#f0f921\"]]}],\"surface\":[{\"type\":\"surface\",\"colorbar\":{\"outlinewidth\":0,\"ticks\":\"\"},\"colorscale\":[[0.0,\"#0d0887\"],[0.1111111111111111,\"#46039f\"],[0.2222222222222222,\"#7201a8\"],[0.3333333333333333,\"#9c179e\"],[0.4444444444444444,\"#bd3786\"],[0.5555555555555556,\"#d8576b\"],[0.6666666666666666,\"#ed7953\"],[0.7777777777777778,\"#fb9f3a\"],[0.8888888888888888,\"#fdca26\"],[1.0,\"#f0f921\"]]}],\"mesh3d\":[{\"type\":\"mesh3d\",\"colorbar\":{\"outlinewidth\":0,\"ticks\":\"\"}}],\"scatter\":[{\"fillpattern\":{\"fillmode\":\"overlay\",\"size\":10,\"solidity\":0.2},\"type\":\"scatter\"}],\"parcoords\":[{\"type\":\"parcoords\",\"line\":{\"colorbar\":{\"outlinewidth\":0,\"ticks\":\"\"}}}],\"scatterpolargl\":[{\"type\":\"scatterpolargl\",\"marker\":{\"colorbar\":{\"outlinewidth\":0,\"ticks\":\"\"}}}],\"bar\":[{\"error_x\":{\"color\":\"#2a3f5f\"},\"error_y\":{\"color\":\"#2a3f5f\"},\"marker\":{\"line\":{\"color\":\"#E5ECF6\",\"width\":0.5},\"pattern\":{\"fillmode\":\"overlay\",\"size\":10,\"solidity\":0.2}},\"type\":\"bar\"}],\"scattergeo\":[{\"type\":\"scattergeo\",\"marker\":{\"colorbar\":{\"outlinewidth\":0,\"ticks\":\"\"}}}],\"scatterpolar\":[{\"type\":\"scatterpolar\",\"marker\":{\"colorbar\":{\"outlinewidth\":0,\"ticks\":\"\"}}}],\"histogram\":[{\"marker\":{\"pattern\":{\"fillmode\":\"overlay\",\"size\":10,\"solidity\":0.2}},\"type\":\"histogram\"}],\"scattergl\":[{\"type\":\"scattergl\",\"marker\":{\"colorbar\":{\"outlinewidth\":0,\"ticks\":\"\"}}}],\"scatter3d\":[{\"type\":\"scatter3d\",\"line\":{\"colorbar\":{\"outlinewidth\":0,\"ticks\":\"\"}},\"marker\":{\"colorbar\":{\"outlinewidth\":0,\"ticks\":\"\"}}}],\"scattermapbox\":[{\"type\":\"scattermapbox\",\"marker\":{\"colorbar\":{\"outlinewidth\":0,\"ticks\":\"\"}}}],\"scatterternary\":[{\"type\":\"scatterternary\",\"marker\":{\"colorbar\":{\"outlinewidth\":0,\"ticks\":\"\"}}}],\"scattercarpet\":[{\"type\":\"scattercarpet\",\"marker\":{\"colorbar\":{\"outlinewidth\":0,\"ticks\":\"\"}}}],\"carpet\":[{\"aaxis\":{\"endlinecolor\":\"#2a3f5f\",\"gridcolor\":\"white\",\"linecolor\":\"white\",\"minorgridcolor\":\"white\",\"startlinecolor\":\"#2a3f5f\"},\"baxis\":{\"endlinecolor\":\"#2a3f5f\",\"gridcolor\":\"white\",\"linecolor\":\"white\",\"minorgridcolor\":\"white\",\"startlinecolor\":\"#2a3f5f\"},\"type\":\"carpet\"}],\"table\":[{\"cells\":{\"fill\":{\"color\":\"#EBF0F8\"},\"line\":{\"color\":\"white\"}},\"header\":{\"fill\":{\"color\":\"#C8D4E3\"},\"line\":{\"color\":\"white\"}},\"type\":\"table\"}],\"barpolar\":[{\"marker\":{\"line\":{\"color\":\"#E5ECF6\",\"width\":0.5},\"pattern\":{\"fillmode\":\"overlay\",\"size\":10,\"solidity\":0.2}},\"type\":\"barpolar\"}],\"pie\":[{\"automargin\":true,\"type\":\"pie\"}]},\"layout\":{\"autotypenumbers\":\"strict\",\"colorway\":[\"#636efa\",\"#EF553B\",\"#00cc96\",\"#ab63fa\",\"#FFA15A\",\"#19d3f3\",\"#FF6692\",\"#B6E880\",\"#FF97FF\",\"#FECB52\"],\"font\":{\"color\":\"#2a3f5f\"},\"hovermode\":\"closest\",\"hoverlabel\":{\"align\":\"left\"},\"paper_bgcolor\":\"white\",\"plot_bgcolor\":\"#E5ECF6\",\"polar\":{\"bgcolor\":\"#E5ECF6\",\"angularaxis\":{\"gridcolor\":\"white\",\"linecolor\":\"white\",\"ticks\":\"\"},\"radialaxis\":{\"gridcolor\":\"white\",\"linecolor\":\"white\",\"ticks\":\"\"}},\"ternary\":{\"bgcolor\":\"#E5ECF6\",\"aaxis\":{\"gridcolor\":\"white\",\"linecolor\":\"white\",\"ticks\":\"\"},\"baxis\":{\"gridcolor\":\"white\",\"linecolor\":\"white\",\"ticks\":\"\"},\"caxis\":{\"gridcolor\":\"white\",\"linecolor\":\"white\",\"ticks\":\"\"}},\"coloraxis\":{\"colorbar\":{\"outlinewidth\":0,\"ticks\":\"\"}},\"colorscale\":{\"sequential\":[[0.0,\"#0d0887\"],[0.1111111111111111,\"#46039f\"],[0.2222222222222222,\"#7201a8\"],[0.3333333333333333,\"#9c179e\"],[0.4444444444444444,\"#bd3786\"],[0.5555555555555556,\"#d8576b\"],[0.6666666666666666,\"#ed7953\"],[0.7777777777777778,\"#fb9f3a\"],[0.8888888888888888,\"#fdca26\"],[1.0,\"#f0f921\"]],\"sequentialminus\":[[0.0,\"#0d0887\"],[0.1111111111111111,\"#46039f\"],[0.2222222222222222,\"#7201a8\"],[0.3333333333333333,\"#9c179e\"],[0.4444444444444444,\"#bd3786\"],[0.5555555555555556,\"#d8576b\"],[0.6666666666666666,\"#ed7953\"],[0.7777777777777778,\"#fb9f3a\"],[0.8888888888888888,\"#fdca26\"],[1.0,\"#f0f921\"]],\"diverging\":[[0,\"#8e0152\"],[0.1,\"#c51b7d\"],[0.2,\"#de77ae\"],[0.3,\"#f1b6da\"],[0.4,\"#fde0ef\"],[0.5,\"#f7f7f7\"],[0.6,\"#e6f5d0\"],[0.7,\"#b8e186\"],[0.8,\"#7fbc41\"],[0.9,\"#4d9221\"],[1,\"#276419\"]]},\"xaxis\":{\"gridcolor\":\"white\",\"linecolor\":\"white\",\"ticks\":\"\",\"title\":{\"standoff\":15},\"zerolinecolor\":\"white\",\"automargin\":true,\"zerolinewidth\":2},\"yaxis\":{\"gridcolor\":\"white\",\"linecolor\":\"white\",\"ticks\":\"\",\"title\":{\"standoff\":15},\"zerolinecolor\":\"white\",\"automargin\":true,\"zerolinewidth\":2},\"scene\":{\"xaxis\":{\"backgroundcolor\":\"#E5ECF6\",\"gridcolor\":\"white\",\"linecolor\":\"white\",\"showbackground\":true,\"ticks\":\"\",\"zerolinecolor\":\"white\",\"gridwidth\":2},\"yaxis\":{\"backgroundcolor\":\"#E5ECF6\",\"gridcolor\":\"white\",\"linecolor\":\"white\",\"showbackground\":true,\"ticks\":\"\",\"zerolinecolor\":\"white\",\"gridwidth\":2},\"zaxis\":{\"backgroundcolor\":\"#E5ECF6\",\"gridcolor\":\"white\",\"linecolor\":\"white\",\"showbackground\":true,\"ticks\":\"\",\"zerolinecolor\":\"white\",\"gridwidth\":2}},\"shapedefaults\":{\"line\":{\"color\":\"#2a3f5f\"}},\"annotationdefaults\":{\"arrowcolor\":\"#2a3f5f\",\"arrowhead\":0,\"arrowwidth\":1},\"geo\":{\"bgcolor\":\"white\",\"landcolor\":\"#E5ECF6\",\"subunitcolor\":\"white\",\"showland\":true,\"showlakes\":true,\"lakecolor\":\"white\"},\"title\":{\"x\":0.05},\"mapbox\":{\"style\":\"light\"}}},\"font\":{\"size\":14},\"margin\":{\"t\":20,\"l\":20,\"r\":20,\"b\":20},\"hoverlabel\":{\"font\":{\"size\":14}},\"height\":400,\"width\":600,\"plot_bgcolor\":\"white\",\"paper_bgcolor\":\"white\"},                        {\"responsive\": true}                    ).then(function(){\n",
              "                            \n",
              "var gd = document.getElementById('5c9dc7ca-d0fb-43f6-b388-d10925fe8ef8');\n",
              "var x = new MutationObserver(function (mutations, observer) {{\n",
              "        var display = window.getComputedStyle(gd).display;\n",
              "        if (!display || display === 'none') {{\n",
              "            console.log([gd, 'removed!']);\n",
              "            Plotly.purge(gd);\n",
              "            observer.disconnect();\n",
              "        }}\n",
              "}});\n",
              "\n",
              "// Listen for the removal of the full notebook cells\n",
              "var notebookContainer = gd.closest('#notebook-container');\n",
              "if (notebookContainer) {{\n",
              "    x.observe(notebookContainer, {childList: true});\n",
              "}}\n",
              "\n",
              "// Listen for the clearing of the current output cell\n",
              "var outputEl = gd.closest('.output');\n",
              "if (outputEl) {{\n",
              "    x.observe(outputEl, {childList: true});\n",
              "}}\n",
              "\n",
              "                        })                };                            </script>        </div>\n",
              "</body>\n",
              "</html>"
            ]
          },
          "metadata": {}
        }
      ]
    },
    {
      "cell_type": "code",
      "source": [
        "results = collect_eap_results(\n",
        "    model_name= model_num,\n",
        "    dataset_name=cs_num,\n",
        "    feature_name= feature_name,\n",
        "    use_novel_names= use_novel_names,\n",
        "    use_synonyms_field=use_synonyms_field,\n",
        "    use_synonyms_table=use_synonyms_table,\n",
        "    num_fields=num_fields,\n",
        "    batch_size = batch_size,\n",
        "    edges=significant_edges,\n",
        "    threshold=threshold,\n",
        "    clean_logit_diff=clean_logit_diff,\n",
        "    corrupt_logit_diff=corrupt_logit_diff,\n",
        "    clean_metric=clean_metric,\n",
        "    corrupt_metric=corrupt_metric\n",
        ")\n",
        "\n",
        "\n",
        "# Save the results\n",
        "save_eap_results(results, \"eap_results.json\")\n",
        "\n",
        "# Later, to recreate the visualization:\n",
        "loaded_results = load_eap_results(\"eap_results.json\")\n",
        "edges = results_to_edges(loaded_results)\n",
        "fig = plot_eap_sankey(edges, layer_spacing=True)\n",
        "fig.show()"
      ],
      "metadata": {
        "id": "H41JQ4WmGSQi",
        "outputId": "fba819c5-0ecb-4386-fbd3-e8f90933dc0f",
        "colab": {
          "base_uri": "https://localhost:8080/",
          "height": 417
        }
      },
      "execution_count": 90,
      "outputs": [
        {
          "output_type": "display_data",
          "data": {
            "text/html": [
              "<html>\n",
              "<head><meta charset=\"utf-8\" /></head>\n",
              "<body>\n",
              "    <div>            <script src=\"https://cdnjs.cloudflare.com/ajax/libs/mathjax/2.7.5/MathJax.js?config=TeX-AMS-MML_SVG\"></script><script type=\"text/javascript\">if (window.MathJax && window.MathJax.Hub && window.MathJax.Hub.Config) {window.MathJax.Hub.Config({SVG: {font: \"STIX-Web\"}});}</script>                <script type=\"text/javascript\">window.PlotlyConfig = {MathJaxConfig: 'local'};</script>\n",
              "        <script charset=\"utf-8\" src=\"https://cdn.plot.ly/plotly-2.35.2.min.js\"></script>                <div id=\"ee69bcb3-c0fe-4cf0-89a0-ff0c7d7fedba\" class=\"plotly-graph-div\" style=\"height:400px; width:600px;\"></div>            <script type=\"text/javascript\">                                    window.PLOTLYENV=window.PLOTLYENV || {};                                    if (document.getElementById(\"ee69bcb3-c0fe-4cf0-89a0-ff0c7d7fedba\")) {                    Plotly.newPlot(                        \"ee69bcb3-c0fe-4cf0-89a0-ff0c7d7fedba\",                        [{\"arrangement\":\"perpendicular\",\"domain\":{\"y\":[0,1]},\"link\":{\"arrowlen\":25,\"color\":[\"rgba(255,0,0,0.3)\",\"rgba(255,0,0,0.3)\",\"rgba(0,0,255,0.3)\",\"rgba(0,255,0,0.0)\",\"rgba(0,255,0,0.0)\",\"rgba(0,255,0,0.0)\",\"rgba(0,255,0,0.0)\",\"rgba(0,255,0,0.0)\",\"rgba(0,255,0,0.0)\"],\"label\":[\"mlp.0 → head.1.3.k\\u003cbr\\u003e-0.053\",\"mlp.0 → head.1.11.k\\u003cbr\\u003e-0.021\",\"head.1.3 → mlp.1\\u003cbr\\u003e0.010\",\"\",\"\",\"\",\"\",\"\",\"\"],\"source\":[3,3,1,3,3,3,3,3,3],\"target\":[0,2,4,0,0,0,2,1,4],\"value\":[0.05329442024230957,0.020868565887212753,0.010076118633151054,1e-6,1e-6,1e-6,1e-6,1e-6,1e-6]},\"node\":{\"color\":[\"rgba(31, 119, 180, 0.8)\",\"rgba(255, 127, 14, 0.8)\",\"rgba(44, 160, 44, 0.8)\",\"rgba(214, 39, 40, 0.8)\",\"rgba(148, 103, 189, 0.8)\"],\"label\":[\"head.1.3.k\\u003cbr\\u003e-0.053\",\"head.1.3\\u003cbr\\u003e0.010\",\"head.1.11.k\\u003cbr\\u003e-0.021\",\"mlp.0\\u003cbr\\u003e-0.074\",\"mlp.1\\u003cbr\\u003e0.010\"],\"line\":{\"width\":0.0},\"pad\":15,\"thickness\":20},\"type\":\"sankey\"}],                        {\"template\":{\"data\":{\"histogram2dcontour\":[{\"type\":\"histogram2dcontour\",\"colorbar\":{\"outlinewidth\":0,\"ticks\":\"\"},\"colorscale\":[[0.0,\"#0d0887\"],[0.1111111111111111,\"#46039f\"],[0.2222222222222222,\"#7201a8\"],[0.3333333333333333,\"#9c179e\"],[0.4444444444444444,\"#bd3786\"],[0.5555555555555556,\"#d8576b\"],[0.6666666666666666,\"#ed7953\"],[0.7777777777777778,\"#fb9f3a\"],[0.8888888888888888,\"#fdca26\"],[1.0,\"#f0f921\"]]}],\"choropleth\":[{\"type\":\"choropleth\",\"colorbar\":{\"outlinewidth\":0,\"ticks\":\"\"}}],\"histogram2d\":[{\"type\":\"histogram2d\",\"colorbar\":{\"outlinewidth\":0,\"ticks\":\"\"},\"colorscale\":[[0.0,\"#0d0887\"],[0.1111111111111111,\"#46039f\"],[0.2222222222222222,\"#7201a8\"],[0.3333333333333333,\"#9c179e\"],[0.4444444444444444,\"#bd3786\"],[0.5555555555555556,\"#d8576b\"],[0.6666666666666666,\"#ed7953\"],[0.7777777777777778,\"#fb9f3a\"],[0.8888888888888888,\"#fdca26\"],[1.0,\"#f0f921\"]]}],\"heatmap\":[{\"type\":\"heatmap\",\"colorbar\":{\"outlinewidth\":0,\"ticks\":\"\"},\"colorscale\":[[0.0,\"#0d0887\"],[0.1111111111111111,\"#46039f\"],[0.2222222222222222,\"#7201a8\"],[0.3333333333333333,\"#9c179e\"],[0.4444444444444444,\"#bd3786\"],[0.5555555555555556,\"#d8576b\"],[0.6666666666666666,\"#ed7953\"],[0.7777777777777778,\"#fb9f3a\"],[0.8888888888888888,\"#fdca26\"],[1.0,\"#f0f921\"]]}],\"heatmapgl\":[{\"type\":\"heatmapgl\",\"colorbar\":{\"outlinewidth\":0,\"ticks\":\"\"},\"colorscale\":[[0.0,\"#0d0887\"],[0.1111111111111111,\"#46039f\"],[0.2222222222222222,\"#7201a8\"],[0.3333333333333333,\"#9c179e\"],[0.4444444444444444,\"#bd3786\"],[0.5555555555555556,\"#d8576b\"],[0.6666666666666666,\"#ed7953\"],[0.7777777777777778,\"#fb9f3a\"],[0.8888888888888888,\"#fdca26\"],[1.0,\"#f0f921\"]]}],\"contourcarpet\":[{\"type\":\"contourcarpet\",\"colorbar\":{\"outlinewidth\":0,\"ticks\":\"\"}}],\"contour\":[{\"type\":\"contour\",\"colorbar\":{\"outlinewidth\":0,\"ticks\":\"\"},\"colorscale\":[[0.0,\"#0d0887\"],[0.1111111111111111,\"#46039f\"],[0.2222222222222222,\"#7201a8\"],[0.3333333333333333,\"#9c179e\"],[0.4444444444444444,\"#bd3786\"],[0.5555555555555556,\"#d8576b\"],[0.6666666666666666,\"#ed7953\"],[0.7777777777777778,\"#fb9f3a\"],[0.8888888888888888,\"#fdca26\"],[1.0,\"#f0f921\"]]}],\"surface\":[{\"type\":\"surface\",\"colorbar\":{\"outlinewidth\":0,\"ticks\":\"\"},\"colorscale\":[[0.0,\"#0d0887\"],[0.1111111111111111,\"#46039f\"],[0.2222222222222222,\"#7201a8\"],[0.3333333333333333,\"#9c179e\"],[0.4444444444444444,\"#bd3786\"],[0.5555555555555556,\"#d8576b\"],[0.6666666666666666,\"#ed7953\"],[0.7777777777777778,\"#fb9f3a\"],[0.8888888888888888,\"#fdca26\"],[1.0,\"#f0f921\"]]}],\"mesh3d\":[{\"type\":\"mesh3d\",\"colorbar\":{\"outlinewidth\":0,\"ticks\":\"\"}}],\"scatter\":[{\"fillpattern\":{\"fillmode\":\"overlay\",\"size\":10,\"solidity\":0.2},\"type\":\"scatter\"}],\"parcoords\":[{\"type\":\"parcoords\",\"line\":{\"colorbar\":{\"outlinewidth\":0,\"ticks\":\"\"}}}],\"scatterpolargl\":[{\"type\":\"scatterpolargl\",\"marker\":{\"colorbar\":{\"outlinewidth\":0,\"ticks\":\"\"}}}],\"bar\":[{\"error_x\":{\"color\":\"#2a3f5f\"},\"error_y\":{\"color\":\"#2a3f5f\"},\"marker\":{\"line\":{\"color\":\"#E5ECF6\",\"width\":0.5},\"pattern\":{\"fillmode\":\"overlay\",\"size\":10,\"solidity\":0.2}},\"type\":\"bar\"}],\"scattergeo\":[{\"type\":\"scattergeo\",\"marker\":{\"colorbar\":{\"outlinewidth\":0,\"ticks\":\"\"}}}],\"scatterpolar\":[{\"type\":\"scatterpolar\",\"marker\":{\"colorbar\":{\"outlinewidth\":0,\"ticks\":\"\"}}}],\"histogram\":[{\"marker\":{\"pattern\":{\"fillmode\":\"overlay\",\"size\":10,\"solidity\":0.2}},\"type\":\"histogram\"}],\"scattergl\":[{\"type\":\"scattergl\",\"marker\":{\"colorbar\":{\"outlinewidth\":0,\"ticks\":\"\"}}}],\"scatter3d\":[{\"type\":\"scatter3d\",\"line\":{\"colorbar\":{\"outlinewidth\":0,\"ticks\":\"\"}},\"marker\":{\"colorbar\":{\"outlinewidth\":0,\"ticks\":\"\"}}}],\"scattermapbox\":[{\"type\":\"scattermapbox\",\"marker\":{\"colorbar\":{\"outlinewidth\":0,\"ticks\":\"\"}}}],\"scatterternary\":[{\"type\":\"scatterternary\",\"marker\":{\"colorbar\":{\"outlinewidth\":0,\"ticks\":\"\"}}}],\"scattercarpet\":[{\"type\":\"scattercarpet\",\"marker\":{\"colorbar\":{\"outlinewidth\":0,\"ticks\":\"\"}}}],\"carpet\":[{\"aaxis\":{\"endlinecolor\":\"#2a3f5f\",\"gridcolor\":\"white\",\"linecolor\":\"white\",\"minorgridcolor\":\"white\",\"startlinecolor\":\"#2a3f5f\"},\"baxis\":{\"endlinecolor\":\"#2a3f5f\",\"gridcolor\":\"white\",\"linecolor\":\"white\",\"minorgridcolor\":\"white\",\"startlinecolor\":\"#2a3f5f\"},\"type\":\"carpet\"}],\"table\":[{\"cells\":{\"fill\":{\"color\":\"#EBF0F8\"},\"line\":{\"color\":\"white\"}},\"header\":{\"fill\":{\"color\":\"#C8D4E3\"},\"line\":{\"color\":\"white\"}},\"type\":\"table\"}],\"barpolar\":[{\"marker\":{\"line\":{\"color\":\"#E5ECF6\",\"width\":0.5},\"pattern\":{\"fillmode\":\"overlay\",\"size\":10,\"solidity\":0.2}},\"type\":\"barpolar\"}],\"pie\":[{\"automargin\":true,\"type\":\"pie\"}]},\"layout\":{\"autotypenumbers\":\"strict\",\"colorway\":[\"#636efa\",\"#EF553B\",\"#00cc96\",\"#ab63fa\",\"#FFA15A\",\"#19d3f3\",\"#FF6692\",\"#B6E880\",\"#FF97FF\",\"#FECB52\"],\"font\":{\"color\":\"#2a3f5f\"},\"hovermode\":\"closest\",\"hoverlabel\":{\"align\":\"left\"},\"paper_bgcolor\":\"white\",\"plot_bgcolor\":\"#E5ECF6\",\"polar\":{\"bgcolor\":\"#E5ECF6\",\"angularaxis\":{\"gridcolor\":\"white\",\"linecolor\":\"white\",\"ticks\":\"\"},\"radialaxis\":{\"gridcolor\":\"white\",\"linecolor\":\"white\",\"ticks\":\"\"}},\"ternary\":{\"bgcolor\":\"#E5ECF6\",\"aaxis\":{\"gridcolor\":\"white\",\"linecolor\":\"white\",\"ticks\":\"\"},\"baxis\":{\"gridcolor\":\"white\",\"linecolor\":\"white\",\"ticks\":\"\"},\"caxis\":{\"gridcolor\":\"white\",\"linecolor\":\"white\",\"ticks\":\"\"}},\"coloraxis\":{\"colorbar\":{\"outlinewidth\":0,\"ticks\":\"\"}},\"colorscale\":{\"sequential\":[[0.0,\"#0d0887\"],[0.1111111111111111,\"#46039f\"],[0.2222222222222222,\"#7201a8\"],[0.3333333333333333,\"#9c179e\"],[0.4444444444444444,\"#bd3786\"],[0.5555555555555556,\"#d8576b\"],[0.6666666666666666,\"#ed7953\"],[0.7777777777777778,\"#fb9f3a\"],[0.8888888888888888,\"#fdca26\"],[1.0,\"#f0f921\"]],\"sequentialminus\":[[0.0,\"#0d0887\"],[0.1111111111111111,\"#46039f\"],[0.2222222222222222,\"#7201a8\"],[0.3333333333333333,\"#9c179e\"],[0.4444444444444444,\"#bd3786\"],[0.5555555555555556,\"#d8576b\"],[0.6666666666666666,\"#ed7953\"],[0.7777777777777778,\"#fb9f3a\"],[0.8888888888888888,\"#fdca26\"],[1.0,\"#f0f921\"]],\"diverging\":[[0,\"#8e0152\"],[0.1,\"#c51b7d\"],[0.2,\"#de77ae\"],[0.3,\"#f1b6da\"],[0.4,\"#fde0ef\"],[0.5,\"#f7f7f7\"],[0.6,\"#e6f5d0\"],[0.7,\"#b8e186\"],[0.8,\"#7fbc41\"],[0.9,\"#4d9221\"],[1,\"#276419\"]]},\"xaxis\":{\"gridcolor\":\"white\",\"linecolor\":\"white\",\"ticks\":\"\",\"title\":{\"standoff\":15},\"zerolinecolor\":\"white\",\"automargin\":true,\"zerolinewidth\":2},\"yaxis\":{\"gridcolor\":\"white\",\"linecolor\":\"white\",\"ticks\":\"\",\"title\":{\"standoff\":15},\"zerolinecolor\":\"white\",\"automargin\":true,\"zerolinewidth\":2},\"scene\":{\"xaxis\":{\"backgroundcolor\":\"#E5ECF6\",\"gridcolor\":\"white\",\"linecolor\":\"white\",\"showbackground\":true,\"ticks\":\"\",\"zerolinecolor\":\"white\",\"gridwidth\":2},\"yaxis\":{\"backgroundcolor\":\"#E5ECF6\",\"gridcolor\":\"white\",\"linecolor\":\"white\",\"showbackground\":true,\"ticks\":\"\",\"zerolinecolor\":\"white\",\"gridwidth\":2},\"zaxis\":{\"backgroundcolor\":\"#E5ECF6\",\"gridcolor\":\"white\",\"linecolor\":\"white\",\"showbackground\":true,\"ticks\":\"\",\"zerolinecolor\":\"white\",\"gridwidth\":2}},\"shapedefaults\":{\"line\":{\"color\":\"#2a3f5f\"}},\"annotationdefaults\":{\"arrowcolor\":\"#2a3f5f\",\"arrowhead\":0,\"arrowwidth\":1},\"geo\":{\"bgcolor\":\"white\",\"landcolor\":\"#E5ECF6\",\"subunitcolor\":\"white\",\"showland\":true,\"showlakes\":true,\"lakecolor\":\"white\"},\"title\":{\"x\":0.05},\"mapbox\":{\"style\":\"light\"}}},\"font\":{\"size\":14},\"margin\":{\"t\":20,\"l\":20,\"r\":20,\"b\":20},\"hoverlabel\":{\"font\":{\"size\":14}},\"height\":400,\"width\":600,\"plot_bgcolor\":\"white\",\"paper_bgcolor\":\"white\"},                        {\"responsive\": true}                    ).then(function(){\n",
              "                            \n",
              "var gd = document.getElementById('ee69bcb3-c0fe-4cf0-89a0-ff0c7d7fedba');\n",
              "var x = new MutationObserver(function (mutations, observer) {{\n",
              "        var display = window.getComputedStyle(gd).display;\n",
              "        if (!display || display === 'none') {{\n",
              "            console.log([gd, 'removed!']);\n",
              "            Plotly.purge(gd);\n",
              "            observer.disconnect();\n",
              "        }}\n",
              "}});\n",
              "\n",
              "// Listen for the removal of the full notebook cells\n",
              "var notebookContainer = gd.closest('#notebook-container');\n",
              "if (notebookContainer) {{\n",
              "    x.observe(notebookContainer, {childList: true});\n",
              "}}\n",
              "\n",
              "// Listen for the clearing of the current output cell\n",
              "var outputEl = gd.closest('.output');\n",
              "if (outputEl) {{\n",
              "    x.observe(outputEl, {childList: true});\n",
              "}}\n",
              "\n",
              "                        })                };                            </script>        </div>\n",
              "</body>\n",
              "</html>"
            ]
          },
          "metadata": {}
        }
      ]
    }
  ]
}