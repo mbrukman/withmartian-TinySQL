{
  "cells": [
    {
      "cell_type": "markdown",
      "metadata": {
        "id": "yQAsYjSQVXHC"
      },
      "source": [
        "# M1 useful nodes (Broken)\n",
        "- Developed on Google Colab using an A100 with 40GB GPU and 80GB system RAM.\n",
        "- Runs with GPT2/TinyStories/Qwen/Llama/Granite/SmolLM with base/CS1/CS2/CS3.\n",
        "- Requires a GITHUB_TOKEN secret to access Martian quanta_text_to_sql code repository.\n",
        "- Requires a HF_TOKEN secret to access Martian HuggingFace repository.\n"
      ]
    },
    {
      "cell_type": "markdown",
      "metadata": {
        "id": "z1tQZgLUnojc"
      },
      "source": [
        "# Import libraries\n",
        "Imports standard libraries. Do not read."
      ]
    },
    {
      "cell_type": "code",
      "execution_count": null,
      "metadata": {
        "colab": {
          "base_uri": "https://localhost:8080/"
        },
        "id": "qt2jt2bHcY2v",
        "outputId": "40e119c6-0784-4979-ed99-0125087ba3da"
      },
      "outputs": [
        {
          "output_type": "stream",
          "name": "stdout",
          "text": [
            "Collecting nnsight\n",
            "  Downloading nnsight-0.3.7-py3-none-any.whl.metadata (15 kB)\n"
          ]
        }
      ],
      "source": [
        "# https://nnsight.net/\n",
        "!pip install -U nnsight"
      ]
    },
    {
      "cell_type": "code",
      "execution_count": null,
      "metadata": {
        "id": "Vif7qLNrlC0P"
      },
      "outputs": [],
      "source": [
        "from IPython.display import clear_output\n",
        "import einops\n",
        "import torch\n",
        "import numpy as np\n",
        "import plotly.express as px\n",
        "import plotly.io as pio\n",
        "pio.renderers.default = \"colab\"\n",
        "\n",
        "import nnsight\n",
        "from nnsight import LanguageModel, util\n",
        "from nnsight.tracing.Proxy import Proxy"
      ]
    },
    {
      "cell_type": "code",
      "execution_count": null,
      "metadata": {
        "id": "orVn0wTnosHO"
      },
      "outputs": [],
      "source": [
        "from getpass import getpass\n",
        "from google.colab import userdata\n",
        "import gc\n",
        "import weakref"
      ]
    },
    {
      "cell_type": "code",
      "execution_count": null,
      "metadata": {
        "id": "BMWEb8TJoske"
      },
      "outputs": [],
      "source": [
        "github_token = userdata.get(\"GITHUB_TOKEN\")\n",
        "\n",
        "# Install the private repository using the token\n",
        "!pip install --upgrade git+https://{github_token}@github.com/withmartian/quanta_text_to_sql.git\n",
        "\n",
        "import QuantaTextToSql as qts"
      ]
    },
    {
      "cell_type": "markdown",
      "source": [
        "# Select model, command set and feature to investigate\n"
      ],
      "metadata": {
        "id": "s6k59y0OZhp7"
      }
    },
    {
      "cell_type": "code",
      "source": [
        "model_num = 1                 # 0=GPT2, 1=TinyStories, 2=Qwen, 3=Llama, 4=Granite, 5=SmolLM\n",
        "cs_num = 1                    # 0=BaseModel, 1=CS1, 2=CS2 or 3=CS3\n",
        "max_new_tokens = 100          # Max number of tokens to generate"
      ],
      "metadata": {
        "id": "rl1akjeAUfoV"
      },
      "execution_count": null,
      "outputs": []
    },
    {
      "cell_type": "markdown",
      "metadata": {
        "id": "y72URtyynvnv"
      },
      "source": [
        "# Run m1, m2 and m3 models"
      ]
    },
    {
      "cell_type": "code",
      "execution_count": null,
      "metadata": {
        "id": "oFaFTy6LnbxI"
      },
      "outputs": [],
      "source": [
        "if model_num > 0:\n",
        "\n",
        "    if model_num == 1:\n",
        "        the_tokenizer, the_model = qts.load_sql_interp_model(model_num, cs_num, auth_token=userdata.get(\"HF_TOKEN\"), use_flash_attention=False)\n",
        "        model = LanguageModel(the_model, the_tokenizer)\n",
        "        model.tokenizer = the_tokenizer\n",
        "    else:\n",
        "        model = LanguageModel(qts.sql_interp_model_location(model_num, cs_num), device_map=\"auto\")\n",
        "\n",
        "\n",
        "    clear_output()\n",
        "    print(model)"
      ]
    },
    {
      "cell_type": "code",
      "execution_count": null,
      "metadata": {
        "id": "76YZ8VErsHjP"
      },
      "outputs": [],
      "source": [
        "if model_num > 0:\n",
        "    # Generate a batch of prompts\n",
        "    batch_size = 3\n",
        "\n",
        "    if cs_num == 0 or cs_num == 1:\n",
        "      examples = qts.generate_cs1(batch_size)\n",
        "    elif cs_num == 2:\n",
        "      examples = qts.generate_cs2(batch_size)\n",
        "    elif cs_num == 3:\n",
        "      examples = qts.generate_cs3(batch_size)"
      ]
    },
    {
      "cell_type": "code",
      "source": [
        "def calc_max_prompt_tokens(examples):\n",
        "\n",
        "    max_prompt_tokens = 0\n",
        "    for example in examples:\n",
        "        prompt = example.get_alpaca_prompt()\n",
        "        tokens = model.tokenizer(prompt)[\"input_ids\"]\n",
        "        max_prompt_tokens = max(max_prompt_tokens, len(tokens))\n",
        "\n",
        "    return max_prompt_tokens"
      ],
      "metadata": {
        "id": "PU-MOJbtv7jJ"
      },
      "execution_count": null,
      "outputs": []
    },
    {
      "cell_type": "code",
      "source": [
        "N_LAYERS = len(model.transformer.h)\n",
        "max_prompt_tokens = calc_max_prompt_tokens(examples)\n",
        "print(\"Sizes:\", batch_size, N_LAYERS, max_prompt_tokens)"
      ],
      "metadata": {
        "id": "huOzsisMh4NU"
      },
      "execution_count": null,
      "outputs": []
    },
    {
      "cell_type": "code",
      "source": [
        "# Identify the nodes that, when ablating, cause a decrease in model prediction accuracy.\n",
        "def zero_activation_experiment(examples, model):\n",
        "\n",
        "    # https://nnsight.net/notebooks/tutorials/walkthrough/#Batching\n",
        "    # https://nnsight.net/notebooks/tutorials/walkthrough/#Looping\n",
        "    with model.session(remote=True) as session:\n",
        "\n",
        "        # Generate the list of experiments to run\n",
        "        run_list = nnsight.list()\n",
        "        for example in examples:\n",
        "            prompt = example.get_alpaca_prompt()\n",
        "            answer = example.sql_statement\n",
        "            num_prompt_tokens = len(model.tokenizer(prompt)[\"input_ids\"])\n",
        "            for layer_idx in range(N_LAYERS):\n",
        "                for token_idx in range(num_prompt_tokens):\n",
        "                    run_list.append([prompt, answer, layer_idx, token_idx])\n",
        "\n",
        "        # Iterate through the experiments\n",
        "        with session.iter(run_list, return_context=True) as (item, iterator):\n",
        "            iterator.log(item)\n",
        "\n",
        "            prompt = item.node[0] # Fails\n",
        "            answer = item.node[1]\n",
        "            run_layer_idx = item.node[2]\n",
        "            run_token_idx = item.node[3]\n",
        "\n",
        "            with model.trace(prompt):\n",
        "                # Zero the activations at the given layer and token position\n",
        "                model.transformer.h[run_layer_idx].output[0][:, run_token_idx, :] = 0\n",
        "\n",
        "                patched_logits = model.lm_head.output.save()\n",
        "\n",
        "                # Get (impacted) model output\n",
        "                final_output = model.lm_head.output\n",
        "                final_output = final_output.argmax(dim=-1)\n",
        "                decoded_output = model.tokenizer.decode(final_output[0], skip_special_tokens=True)\n",
        "\n",
        "                # Check if the output changed\n",
        "                if prompt + answer != decoded_output:\n",
        "                    results_summary[layer_idx, token_idx] += 1\n",
        "\n",
        "    # Calculate percentage of output changes for each layer and token position\n",
        "    results_percentage = (results_summary / len(examples)) * 100\n",
        "\n",
        "    return results_percentage\n",
        "\n",
        "# Example Usage\n",
        "results = zero_activation_experiment(examples, model)"
      ],
      "metadata": {
        "id": "NQzvTjXKtU2j"
      },
      "execution_count": null,
      "outputs": []
    },
    {
      "cell_type": "code",
      "source": [
        "# Print summary of results\n",
        "import matplotlib.pyplot as plt\n",
        "plt.imshow(results, cmap=\"viridis\", aspect=\"auto\")\n",
        "plt.colorbar(label=\"Percentage Change\")\n",
        "plt.xlabel(\"Token Position\")\n",
        "plt.ylabel(\"Layer\")\n",
        "plt.title(\"Percentage of Output Changes by Zeroing Activations\")\n",
        "plt.show()"
      ],
      "metadata": {
        "id": "O2lbWJrUwY7p"
      },
      "execution_count": null,
      "outputs": []
    }
  ],
  "metadata": {
    "accelerator": "GPU",
    "colab": {
      "collapsed_sections": [
        "z1tQZgLUnojc"
      ],
      "gpuType": "T4",
      "machine_shape": "hm",
      "provenance": []
    },
    "kernelspec": {
      "display_name": "Python 3",
      "name": "python3"
    },
    "language_info": {
      "name": "python"
    }
  },
  "nbformat": 4,
  "nbformat_minor": 0
}