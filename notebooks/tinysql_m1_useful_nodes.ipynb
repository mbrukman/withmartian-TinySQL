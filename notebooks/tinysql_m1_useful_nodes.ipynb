{
  "cells": [
    {
      "cell_type": "markdown",
      "metadata": {
        "id": "yQAsYjSQVXHC"
      },
      "source": [
        "# M1 useful nodes (Broken)\n",
        "This notebook identifies M1 nodes (attention heads and MLPs) that, when ablated, cause a decrease in model prediction accuracy. That is these nodes are needed (aka useful) for accurate predictions.\n",
        "\n",
        "\n",
        "This notebook was:\n",
        "- Developed on Google Colab using an A100 with 40GB GPU and 80GB system RAM.\n",
        "- Runs with GPT2/TinyStories/Qwen/Llama/Granite/SmolLM with base/CS1/CS2/CS3.\n",
        "- Requires a GITHUB_TOKEN secret to access Martian quanta_text_to_sql code repository.\n",
        "- Requires a HF_TOKEN secret to access Martian HuggingFace repository.\n",
        "\n",
        "This notebook relies on nnsight. Refer:\n",
        "- https://nnsight.net/notebooks/tutorials/walkthrough/#Batching\n",
        "- https://nnsight.net/notebooks/tutorials/walkthrough/#Looping"
      ]
    },
    {
      "cell_type": "markdown",
      "metadata": {
        "id": "z1tQZgLUnojc"
      },
      "source": [
        "# Import libraries\n",
        "Imports standard libraries. Do not read."
      ]
    },
    {
      "cell_type": "code",
      "execution_count": null,
      "metadata": {
        "id": "qt2jt2bHcY2v"
      },
      "outputs": [],
      "source": [
        "# https://nnsight.net/\n",
        "# Access 0.4 prerelease version (as at Dec 2024)\n",
        "# !pip install nnsight==0.4.0.dev0\n",
        "!pip install -U nnsight"
      ]
    },
    {
      "cell_type": "code",
      "execution_count": null,
      "metadata": {
        "id": "Vif7qLNrlC0P"
      },
      "outputs": [],
      "source": [
        "from IPython.display import clear_output\n",
        "import einops\n",
        "import torch\n",
        "import numpy as np\n",
        "import plotly.express as px\n",
        "import plotly.io as pio\n",
        "pio.renderers.default = \"colab\"\n",
        "import matplotlib.pyplot as plt\n",
        "import tqdm.auto as tqdm\n",
        "\n",
        "import nnsight\n",
        "from nnsight import LanguageModel, util"
      ]
    },
    {
      "cell_type": "code",
      "execution_count": null,
      "metadata": {
        "id": "orVn0wTnosHO"
      },
      "outputs": [],
      "source": [
        "from getpass import getpass\n",
        "from google.colab import userdata\n",
        "import gc\n",
        "import weakref"
      ]
    },
    {
      "cell_type": "code",
      "execution_count": null,
      "metadata": {
        "id": "BMWEb8TJoske"
      },
      "outputs": [],
      "source": [
        "github_token = userdata.get(\"GITHUB_TOKEN\")\n",
        "\n",
        "# Install the private repository using the token\n",
        "!pip install --upgrade git+https://{github_token}@github.com/withmartian/quanta_text_to_sql.git\n",
        "\n",
        "import QuantaTextToSql as qts"
      ]
    },
    {
      "cell_type": "markdown",
      "source": [
        "# Select model, command set and feature to investigate\n"
      ],
      "metadata": {
        "id": "s6k59y0OZhp7"
      }
    },
    {
      "cell_type": "code",
      "source": [
        "model_num = 1                 # 0=GPT2, 1=TinyStories, 2=Qwen, 3=Llama, 4=Granite, 5=SmolLM\n",
        "cs_num = 1                    # 0=BaseModel, 1=CS1, 2=CS2 or 3=CS3\n",
        "max_new_tokens = 100          # Max number of tokens to generate"
      ],
      "metadata": {
        "id": "rl1akjeAUfoV"
      },
      "execution_count": null,
      "outputs": []
    },
    {
      "cell_type": "markdown",
      "metadata": {
        "id": "y72URtyynvnv"
      },
      "source": [
        "# Run m1, m2 and m3 models"
      ]
    },
    {
      "cell_type": "code",
      "execution_count": null,
      "metadata": {
        "id": "oFaFTy6LnbxI"
      },
      "outputs": [],
      "source": [
        "if model_num > 0:\n",
        "\n",
        "    if model_num == 1:\n",
        "        the_tokenizer, the_model = qts.load_sql_interp_model(model_num, cs_num, auth_token=userdata.get(\"HF_TOKEN\"), use_flash_attention=False)\n",
        "        model = LanguageModel(the_model, the_tokenizer)\n",
        "        model.tokenizer = the_tokenizer\n",
        "    else:\n",
        "        model = LanguageModel(qts.sql_interp_model_location(model_num, cs_num), device_map=\"auto\")\n",
        "\n",
        "    clear_output()\n",
        "    print(model)"
      ]
    },
    {
      "cell_type": "code",
      "execution_count": null,
      "metadata": {
        "id": "76YZ8VErsHjP"
      },
      "outputs": [],
      "source": [
        "N_BATCH = 3\n",
        "\n",
        "if model_num > 0:\n",
        "    # Generate a batch of prompts\n",
        "    if cs_num == 0 or cs_num == 1:\n",
        "      examples = qts.generate_cs1(N_BATCH)\n",
        "    elif cs_num == 2:\n",
        "      examples = qts.generate_cs2(N_BATCH)\n",
        "    elif cs_num == 3:\n",
        "      examples = qts.generate_cs3(N_BATCH)"
      ]
    },
    {
      "cell_type": "code",
      "source": [
        "def calc_max_prompt_tokens(examples):\n",
        "\n",
        "    max_prompt_tokens = 0\n",
        "    for example in examples:\n",
        "        prompt = example.get_alpaca_prompt()\n",
        "        tokens = model.tokenizer(prompt)[\"input_ids\"]\n",
        "        max_prompt_tokens = max(max_prompt_tokens, len(tokens))\n",
        "\n",
        "    return max_prompt_tokens\n",
        "\n",
        "max_prompt_tokens = calc_max_prompt_tokens(examples)"
      ],
      "metadata": {
        "id": "PU-MOJbtv7jJ"
      },
      "execution_count": null,
      "outputs": []
    },
    {
      "cell_type": "code",
      "source": [
        "N_LAYERS = len(model.transformer.h)\n",
        "N_HEADS = model.config.num_attention_heads # 16 if model_num == 1 else 7 if model_num == 2 else 16\n",
        "D_MODEL = model.config.hidden_size\n",
        "D_HEAD = D_MODEL // N_HEADS # 64 if model_num == 1 else 128 if model_num == 2 else 128"
      ],
      "metadata": {
        "id": "sRL4ckXZqElr"
      },
      "execution_count": null,
      "outputs": []
    },
    {
      "cell_type": "code",
      "source": [
        "print(\"N_BATCH:\", N_BATCH, \"N_LAYERS:\", N_LAYERS, \"N_HEADS:\", N_HEADS, \"D_MODEL:\", D_MODEL, \"D_HEAD:\", D_HEAD, \"max_prompt_tokens:\", max_prompt_tokens)"
      ],
      "metadata": {
        "id": "huOzsisMh4NU"
      },
      "execution_count": null,
      "outputs": []
    },
    {
      "cell_type": "code",
      "source": [
        "# Generate the list of experiments to run\n",
        "g_run_list = []\n",
        "for example in examples:\n",
        "    prompt = example.get_alpaca_prompt()\n",
        "    answer = example.sql_statement\n",
        "    num_prompt_tokens = len(model.tokenizer(prompt)[\"input_ids\"])\n",
        "    for layer_idx in range(N_LAYERS):\n",
        "        for head_idx in range(N_HEADS):\n",
        "            for token_idx in range(num_prompt_tokens):\n",
        "                g_run_list.append([prompt, answer, layer_idx, head_idx, token_idx])\n",
        "\n",
        "num_experiments = len(g_run_list)\n",
        "print(\"Number of experiments:\", num_experiments)"
      ],
      "metadata": {
        "id": "Ju8wtYel8xRm"
      },
      "execution_count": null,
      "outputs": []
    },
    {
      "cell_type": "code",
      "source": [
        "try_results = np.zeros((N_LAYERS, N_HEADS, max_prompt_tokens))\n",
        "fail_results = np.zeros((N_LAYERS, N_HEADS, max_prompt_tokens))\n",
        "\n",
        "for item_num in tqdm.tqdm(range(num_experiments)):\n",
        "\n",
        "    run_item = g_run_list[item_num]\n",
        "    run_prompt, run_answer, run_layer_idx, run_head_idx, run_token_idx = run_item\n",
        "\n",
        "    inputs = model.tokenizer(run_prompt, return_tensors=\"pt\", padding=True)\n",
        "\n",
        "    start = run_head_idx * D_HEAD\n",
        "    end = (run_head_idx + 1) * D_HEAD\n",
        "\n",
        "    with model.generate(inputs['input_ids'], max_new_tokens=max_new_tokens,\n",
        "                       pad_token_id=model.tokenizer.eos_token_id) as tracer:\n",
        "\n",
        "        # Zero out just the portion of the output corresponding to this head\n",
        "        model.transformer.h[run_layer_idx].output[0][:, run_token_idx, start:end] = 0\n",
        "\n",
        "        final_output = model.generator.output.save()\n",
        "\n",
        "    final_output = final_output.detach().cpu().numpy()\n",
        "    decoded_output = model.tokenizer.decode(final_output[0], skip_special_tokens=True)\n",
        "\n",
        "    # Did the output change?\n",
        "    try_results[run_layer_idx, run_head_idx, run_token_idx] += 1\n",
        "    if run_prompt + run_answer != decoded_output:\n",
        "        #print(\"Input:\", run_prompt.replace('\\n', ' '), run_answer.replace('\\n', ' '))\n",
        "        #print(\"Output:\", decoded_output.replace('\\n', ' '))\n",
        "        fail_results[run_layer_idx, run_head_idx, run_token_idx] += 1"
      ],
      "metadata": {
        "id": "bINHUagozRoo"
      },
      "execution_count": null,
      "outputs": []
    },
    {
      "cell_type": "code",
      "source": [
        "# Compute the failure rate as percentage\n",
        "failure_rate = (fail_results / (try_results + 1e-10)) * 100\n",
        "failure_rate = np.round(failure_rate, 2)\n",
        "print(\"Failure Rate (%):\")\n",
        "print(failure_rate)"
      ],
      "metadata": {
        "id": "XnCR-36fpW9z"
      },
      "execution_count": null,
      "outputs": []
    },
    {
      "cell_type": "code",
      "source": [
        "# Print summary of results\n",
        "import matplotlib.pyplot as plt\n",
        "\n",
        "for layer_idx in range(N_LAYERS):\n",
        "    plt.imshow(failure_rate[layer_idx], cmap=\"viridis\", aspect=\"auto\")\n",
        "    plt.colorbar(label=\"Percentage Change\")\n",
        "    plt.xlabel(\"Token Position\")\n",
        "    plt.ylabel(\"Layer\")\n",
        "    plt.title(\"Percentage of Output Changes by Zeroing Activations in Layer \" + str(layer_idx))\n",
        "    plt.show()"
      ],
      "metadata": {
        "id": "O2lbWJrUwY7p"
      },
      "execution_count": null,
      "outputs": []
    }
  ],
  "metadata": {
    "accelerator": "GPU",
    "colab": {
      "gpuType": "T4",
      "machine_shape": "hm",
      "provenance": [],
      "collapsed_sections": [
        "z1tQZgLUnojc"
      ]
    },
    "kernelspec": {
      "display_name": "Python 3",
      "name": "python3"
    },
    "language_info": {
      "name": "python"
    }
  },
  "nbformat": 4,
  "nbformat_minor": 0
}