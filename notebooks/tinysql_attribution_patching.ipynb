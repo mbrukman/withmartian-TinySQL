{
  "cells": [
    {
      "cell_type": "markdown",
      "metadata": {
        "id": "yQAsYjSQVXHC"
      },
      "source": [
        "# Attribution Patching on M0 to M3 models\n",
        "\n",
        "The nnsight library tutorial [attribution_patching](https://nnsight.net/notebooks/tutorials/attribution_patching/) says:\n",
        "\n",
        "Activation patching is a method to determine how model components influence model computations. It is time- and resource-intensive.\n",
        "**Attribution patching** uses gradients to take a linear approximation to activation patching and can be done simultaneously in two forward and one backward pass. It is scalable to large models.\n",
        "\n",
        "This notebook implements **Attribution patching**. It:\n",
        "- Runs with GPT2/TinyStories/Qwen/Llama models with base/CS1/CS2/CS3 command sets.\n",
        "- Was developed on Google Colab using an **A100** for Qwen and a **T4** for other models.\n",
        "- Requires a GITHUB_TOKEN secret to access Martian TinySQL code repository.\n",
        "- Requires a HF_TOKEN secret to access Martian HuggingFace repository."
      ]
    },
    {
      "cell_type": "markdown",
      "metadata": {
        "id": "z1tQZgLUnojc"
      },
      "source": [
        "# Part 0: Import libraries\n",
        "Imports standard libraries. Do not read."
      ]
    },
    {
      "cell_type": "code",
      "execution_count": 3,
      "metadata": {
        "colab": {
          "base_uri": "https://localhost:8080/"
        },
        "id": "qt2jt2bHcY2v",
        "outputId": "8c051e73-ee76-4265-eb2e-bdef035c047a"
      },
      "outputs": [
        {
          "output_type": "stream",
          "name": "stdout",
          "text": [
            "Collecting nnsight\n",
            "  Using cached nnsight-0.3.7-py3-none-any.whl.metadata (15 kB)\n",
            "Requirement already satisfied: transformers in /usr/local/lib/python3.10/dist-packages (from nnsight) (4.47.1)\n",
            "Requirement already satisfied: protobuf in /usr/local/lib/python3.10/dist-packages (from nnsight) (4.25.5)\n",
            "Collecting python-socketio[client] (from nnsight)\n",
            "  Using cached python_socketio-5.12.0-py3-none-any.whl.metadata (3.2 kB)\n",
            "Requirement already satisfied: tokenizers>=0.13.0 in /usr/local/lib/python3.10/dist-packages (from nnsight) (0.21.0)\n",
            "Requirement already satisfied: pydantic>=2.9.0 in /usr/local/lib/python3.10/dist-packages (from nnsight) (2.10.3)\n",
            "Requirement already satisfied: torch>=2.4.0 in /usr/local/lib/python3.10/dist-packages (from nnsight) (2.5.1+cu121)\n",
            "Requirement already satisfied: sentencepiece in /usr/local/lib/python3.10/dist-packages (from nnsight) (0.2.0)\n",
            "Requirement already satisfied: torchvision in /usr/local/lib/python3.10/dist-packages (from nnsight) (0.20.1+cu121)\n",
            "Requirement already satisfied: accelerate in /usr/local/lib/python3.10/dist-packages (from nnsight) (1.2.1)\n",
            "Requirement already satisfied: diffusers in /usr/local/lib/python3.10/dist-packages (from nnsight) (0.31.0)\n",
            "Requirement already satisfied: einops in /usr/local/lib/python3.10/dist-packages (from nnsight) (0.8.0)\n",
            "Requirement already satisfied: annotated-types>=0.6.0 in /usr/local/lib/python3.10/dist-packages (from pydantic>=2.9.0->nnsight) (0.7.0)\n",
            "Requirement already satisfied: pydantic-core==2.27.1 in /usr/local/lib/python3.10/dist-packages (from pydantic>=2.9.0->nnsight) (2.27.1)\n",
            "Requirement already satisfied: typing-extensions>=4.12.2 in /usr/local/lib/python3.10/dist-packages (from pydantic>=2.9.0->nnsight) (4.12.2)\n",
            "Requirement already satisfied: huggingface-hub<1.0,>=0.16.4 in /usr/local/lib/python3.10/dist-packages (from tokenizers>=0.13.0->nnsight) (0.27.0)\n",
            "Requirement already satisfied: filelock in /usr/local/lib/python3.10/dist-packages (from torch>=2.4.0->nnsight) (3.16.1)\n",
            "Requirement already satisfied: networkx in /usr/local/lib/python3.10/dist-packages (from torch>=2.4.0->nnsight) (3.4.2)\n",
            "Requirement already satisfied: jinja2 in /usr/local/lib/python3.10/dist-packages (from torch>=2.4.0->nnsight) (3.1.4)\n",
            "Requirement already satisfied: fsspec in /usr/local/lib/python3.10/dist-packages (from torch>=2.4.0->nnsight) (2024.10.0)\n",
            "Requirement already satisfied: sympy==1.13.1 in /usr/local/lib/python3.10/dist-packages (from torch>=2.4.0->nnsight) (1.13.1)\n",
            "Requirement already satisfied: mpmath<1.4,>=1.1.0 in /usr/local/lib/python3.10/dist-packages (from sympy==1.13.1->torch>=2.4.0->nnsight) (1.3.0)\n",
            "Requirement already satisfied: numpy<3.0.0,>=1.17 in /usr/local/lib/python3.10/dist-packages (from accelerate->nnsight) (1.26.4)\n",
            "Requirement already satisfied: packaging>=20.0 in /usr/local/lib/python3.10/dist-packages (from accelerate->nnsight) (24.2)\n",
            "Requirement already satisfied: psutil in /usr/local/lib/python3.10/dist-packages (from accelerate->nnsight) (5.9.5)\n",
            "Requirement already satisfied: pyyaml in /usr/local/lib/python3.10/dist-packages (from accelerate->nnsight) (6.0.2)\n",
            "Requirement already satisfied: safetensors>=0.4.3 in /usr/local/lib/python3.10/dist-packages (from accelerate->nnsight) (0.4.5)\n",
            "Requirement already satisfied: importlib-metadata in /usr/local/lib/python3.10/dist-packages (from diffusers->nnsight) (8.5.0)\n",
            "Requirement already satisfied: regex!=2019.12.17 in /usr/local/lib/python3.10/dist-packages (from diffusers->nnsight) (2024.11.6)\n",
            "Requirement already satisfied: requests in /usr/local/lib/python3.10/dist-packages (from diffusers->nnsight) (2.32.3)\n",
            "Requirement already satisfied: Pillow in /usr/local/lib/python3.10/dist-packages (from diffusers->nnsight) (11.0.0)\n",
            "Collecting bidict>=0.21.0 (from python-socketio[client]->nnsight)\n",
            "  Using cached bidict-0.23.1-py3-none-any.whl.metadata (8.7 kB)\n",
            "Collecting python-engineio>=4.11.0 (from python-socketio[client]->nnsight)\n",
            "  Using cached python_engineio-4.11.1-py3-none-any.whl.metadata (2.2 kB)\n",
            "Requirement already satisfied: websocket-client>=0.54.0 in /usr/local/lib/python3.10/dist-packages (from python-socketio[client]->nnsight) (1.8.0)\n",
            "Requirement already satisfied: tqdm>=4.27 in /usr/local/lib/python3.10/dist-packages (from transformers->nnsight) (4.67.1)\n",
            "Collecting simple-websocket>=0.10.0 (from python-engineio>=4.11.0->python-socketio[client]->nnsight)\n",
            "  Using cached simple_websocket-1.1.0-py3-none-any.whl.metadata (1.5 kB)\n",
            "Requirement already satisfied: charset-normalizer<4,>=2 in /usr/local/lib/python3.10/dist-packages (from requests->diffusers->nnsight) (3.4.0)\n",
            "Requirement already satisfied: idna<4,>=2.5 in /usr/local/lib/python3.10/dist-packages (from requests->diffusers->nnsight) (3.10)\n",
            "Requirement already satisfied: urllib3<3,>=1.21.1 in /usr/local/lib/python3.10/dist-packages (from requests->diffusers->nnsight) (2.2.3)\n",
            "Requirement already satisfied: certifi>=2017.4.17 in /usr/local/lib/python3.10/dist-packages (from requests->diffusers->nnsight) (2024.12.14)\n",
            "Requirement already satisfied: zipp>=3.20 in /usr/local/lib/python3.10/dist-packages (from importlib-metadata->diffusers->nnsight) (3.21.0)\n",
            "Requirement already satisfied: MarkupSafe>=2.0 in /usr/local/lib/python3.10/dist-packages (from jinja2->torch>=2.4.0->nnsight) (3.0.2)\n",
            "Collecting wsproto (from simple-websocket>=0.10.0->python-engineio>=4.11.0->python-socketio[client]->nnsight)\n",
            "  Using cached wsproto-1.2.0-py3-none-any.whl.metadata (5.6 kB)\n",
            "Requirement already satisfied: h11<1,>=0.9.0 in /usr/local/lib/python3.10/dist-packages (from wsproto->simple-websocket>=0.10.0->python-engineio>=4.11.0->python-socketio[client]->nnsight) (0.14.0)\n",
            "Using cached nnsight-0.3.7-py3-none-any.whl (3.5 MB)\n",
            "Using cached bidict-0.23.1-py3-none-any.whl (32 kB)\n",
            "Using cached python_engineio-4.11.1-py3-none-any.whl (59 kB)\n",
            "Using cached python_socketio-5.12.0-py3-none-any.whl (77 kB)\n",
            "Using cached simple_websocket-1.1.0-py3-none-any.whl (13 kB)\n",
            "Using cached wsproto-1.2.0-py3-none-any.whl (24 kB)\n",
            "Installing collected packages: wsproto, bidict, simple-websocket, python-engineio, python-socketio, nnsight\n",
            "Successfully installed bidict-0.23.1 nnsight-0.3.7 python-engineio-4.11.1 python-socketio-5.12.0 simple-websocket-1.1.0 wsproto-1.2.0\n"
          ]
        }
      ],
      "source": [
        "# https://nnsight.net/\n",
        "!pip install -U nnsight"
      ]
    },
    {
      "cell_type": "code",
      "execution_count": 4,
      "metadata": {
        "id": "jSsUMYr3h0lD",
        "colab": {
          "base_uri": "https://localhost:8080/",
          "height": 321
        },
        "outputId": "9c8e8dfe-bb2e-4eca-e682-9b1463edc8be"
      },
      "outputs": [
        {
          "output_type": "error",
          "ename": "KeyboardInterrupt",
          "evalue": "",
          "traceback": [
            "\u001b[0;31m---------------------------------------------------------------------------\u001b[0m",
            "\u001b[0;31mKeyboardInterrupt\u001b[0m                         Traceback (most recent call last)",
            "\u001b[0;32m<ipython-input-4-e0b0e45c5ce0>\u001b[0m in \u001b[0;36m<cell line: 8>\u001b[0;34m()\u001b[0m\n\u001b[1;32m      6\u001b[0m \u001b[0mpio\u001b[0m\u001b[0;34m.\u001b[0m\u001b[0mrenderers\u001b[0m\u001b[0;34m.\u001b[0m\u001b[0mdefault\u001b[0m \u001b[0;34m=\u001b[0m \u001b[0;34m\"colab\"\u001b[0m\u001b[0;34m\u001b[0m\u001b[0;34m\u001b[0m\u001b[0m\n\u001b[1;32m      7\u001b[0m \u001b[0;34m\u001b[0m\u001b[0m\n\u001b[0;32m----> 8\u001b[0;31m \u001b[0;32mfrom\u001b[0m \u001b[0mnnsight\u001b[0m \u001b[0;32mimport\u001b[0m \u001b[0mLanguageModel\u001b[0m\u001b[0;34m\u001b[0m\u001b[0;34m\u001b[0m\u001b[0m\n\u001b[0m",
            "\u001b[0;32m/usr/local/lib/python3.10/dist-packages/nnsight/__init__.py\u001b[0m in \u001b[0;36m<module>\u001b[0;34m\u001b[0m\n\u001b[1;32m     32\u001b[0m \u001b[0;34m\u001b[0m\u001b[0m\n\u001b[1;32m     33\u001b[0m \u001b[0;32mfrom\u001b[0m \u001b[0;34m.\u001b[0m\u001b[0mlogger\u001b[0m \u001b[0;32mimport\u001b[0m \u001b[0mlogger\u001b[0m\u001b[0;34m,\u001b[0m \u001b[0mremote_logger\u001b[0m\u001b[0;34m\u001b[0m\u001b[0;34m\u001b[0m\u001b[0m\n\u001b[0;32m---> 34\u001b[0;31m \u001b[0;32mfrom\u001b[0m \u001b[0;34m.\u001b[0m\u001b[0mmodels\u001b[0m\u001b[0;34m.\u001b[0m\u001b[0mNNsightModel\u001b[0m \u001b[0;32mimport\u001b[0m \u001b[0mNNsight\u001b[0m\u001b[0;34m\u001b[0m\u001b[0;34m\u001b[0m\u001b[0m\n\u001b[0m\u001b[1;32m     35\u001b[0m \u001b[0;32mfrom\u001b[0m \u001b[0;34m.\u001b[0m\u001b[0mmodels\u001b[0m\u001b[0;34m.\u001b[0m\u001b[0mLanguageModel\u001b[0m \u001b[0;32mimport\u001b[0m \u001b[0mLanguageModel\u001b[0m\u001b[0;34m\u001b[0m\u001b[0;34m\u001b[0m\u001b[0m\n\u001b[1;32m     36\u001b[0m \u001b[0;32mfrom\u001b[0m \u001b[0;34m.\u001b[0m\u001b[0mpatching\u001b[0m \u001b[0;32mimport\u001b[0m \u001b[0mPatch\u001b[0m\u001b[0;34m,\u001b[0m \u001b[0mPatcher\u001b[0m\u001b[0;34m\u001b[0m\u001b[0;34m\u001b[0m\u001b[0m\n",
            "\u001b[0;32m/usr/local/lib/python3.10/dist-packages/nnsight/models/__init__.py\u001b[0m in \u001b[0;36m<module>\u001b[0;34m\u001b[0m\n\u001b[1;32m     68\u001b[0m \"\"\"\n\u001b[1;32m     69\u001b[0m \u001b[0;34m\u001b[0m\u001b[0m\n\u001b[0;32m---> 70\u001b[0;31m \u001b[0;32mfrom\u001b[0m \u001b[0;34m.\u001b[0m\u001b[0mNNsightModel\u001b[0m \u001b[0;32mimport\u001b[0m \u001b[0mNNsight\u001b[0m\u001b[0;34m\u001b[0m\u001b[0;34m\u001b[0m\u001b[0m\n\u001b[0m",
            "\u001b[0;32m/usr/local/lib/python3.10/dist-packages/nnsight/models/NNsightModel.py\u001b[0m in \u001b[0;36m<module>\u001b[0;34m\u001b[0m\n\u001b[1;32m     10\u001b[0m \u001b[0;32mfrom\u001b[0m \u001b[0maccelerate\u001b[0m \u001b[0;32mimport\u001b[0m \u001b[0minit_empty_weights\u001b[0m\u001b[0;34m\u001b[0m\u001b[0;34m\u001b[0m\u001b[0m\n\u001b[1;32m     11\u001b[0m \u001b[0;32mfrom\u001b[0m \u001b[0mtorch\u001b[0m\u001b[0;34m.\u001b[0m\u001b[0mutils\u001b[0m\u001b[0;34m.\u001b[0m\u001b[0m_python_dispatch\u001b[0m \u001b[0;32mimport\u001b[0m \u001b[0mTorchDispatchMode\u001b[0m\u001b[0;34m\u001b[0m\u001b[0;34m\u001b[0m\u001b[0m\n\u001b[0;32m---> 12\u001b[0;31m \u001b[0;32mfrom\u001b[0m \u001b[0mtransformers\u001b[0m \u001b[0;32mimport\u001b[0m \u001b[0mAutoConfig\u001b[0m\u001b[0;34m,\u001b[0m \u001b[0mAutoModel\u001b[0m\u001b[0;34m\u001b[0m\u001b[0;34m\u001b[0m\u001b[0m\n\u001b[0m\u001b[1;32m     13\u001b[0m \u001b[0;32mfrom\u001b[0m \u001b[0mtyping_extensions\u001b[0m \u001b[0;32mimport\u001b[0m \u001b[0mSelf\u001b[0m\u001b[0;34m\u001b[0m\u001b[0;34m\u001b[0m\u001b[0m\n\u001b[1;32m     14\u001b[0m \u001b[0;34m\u001b[0m\u001b[0m\n",
            "\u001b[0;32m/usr/lib/python3.10/importlib/_bootstrap.py\u001b[0m in \u001b[0;36m_handle_fromlist\u001b[0;34m(module, fromlist, import_, recursive)\u001b[0m\n",
            "\u001b[0;32m/usr/local/lib/python3.10/dist-packages/transformers/utils/import_utils.py\u001b[0m in \u001b[0;36m__getattr__\u001b[0;34m(self, name)\u001b[0m\n\u001b[1;32m   1780\u001b[0m         \u001b[0;32melif\u001b[0m \u001b[0mname\u001b[0m \u001b[0;32min\u001b[0m \u001b[0mself\u001b[0m\u001b[0;34m.\u001b[0m\u001b[0m_class_to_module\u001b[0m\u001b[0;34m.\u001b[0m\u001b[0mkeys\u001b[0m\u001b[0;34m(\u001b[0m\u001b[0;34m)\u001b[0m\u001b[0;34m:\u001b[0m\u001b[0;34m\u001b[0m\u001b[0;34m\u001b[0m\u001b[0m\n\u001b[1;32m   1781\u001b[0m             \u001b[0mmodule\u001b[0m \u001b[0;34m=\u001b[0m \u001b[0mself\u001b[0m\u001b[0;34m.\u001b[0m\u001b[0m_get_module\u001b[0m\u001b[0;34m(\u001b[0m\u001b[0mself\u001b[0m\u001b[0;34m.\u001b[0m\u001b[0m_class_to_module\u001b[0m\u001b[0;34m[\u001b[0m\u001b[0mname\u001b[0m\u001b[0;34m]\u001b[0m\u001b[0;34m)\u001b[0m\u001b[0;34m\u001b[0m\u001b[0;34m\u001b[0m\u001b[0m\n\u001b[0;32m-> 1782\u001b[0;31m             \u001b[0mvalue\u001b[0m \u001b[0;34m=\u001b[0m \u001b[0mgetattr\u001b[0m\u001b[0;34m(\u001b[0m\u001b[0mmodule\u001b[0m\u001b[0;34m,\u001b[0m \u001b[0mname\u001b[0m\u001b[0;34m)\u001b[0m\u001b[0;34m\u001b[0m\u001b[0;34m\u001b[0m\u001b[0m\n\u001b[0m\u001b[1;32m   1783\u001b[0m         \u001b[0;32melif\u001b[0m \u001b[0mname\u001b[0m \u001b[0;32min\u001b[0m \u001b[0mself\u001b[0m\u001b[0;34m.\u001b[0m\u001b[0m_modules\u001b[0m\u001b[0;34m:\u001b[0m\u001b[0;34m\u001b[0m\u001b[0;34m\u001b[0m\u001b[0m\n\u001b[1;32m   1784\u001b[0m             \u001b[0mvalue\u001b[0m \u001b[0;34m=\u001b[0m \u001b[0mself\u001b[0m\u001b[0;34m.\u001b[0m\u001b[0m_get_module\u001b[0m\u001b[0;34m(\u001b[0m\u001b[0mname\u001b[0m\u001b[0;34m)\u001b[0m\u001b[0;34m\u001b[0m\u001b[0;34m\u001b[0m\u001b[0m\n",
            "\u001b[0;32m/usr/local/lib/python3.10/dist-packages/transformers/utils/import_utils.py\u001b[0m in \u001b[0;36m__getattr__\u001b[0;34m(self, name)\u001b[0m\n\u001b[1;32m   1779\u001b[0m             \u001b[0mvalue\u001b[0m \u001b[0;34m=\u001b[0m \u001b[0mPlaceholder\u001b[0m\u001b[0;34m\u001b[0m\u001b[0;34m\u001b[0m\u001b[0m\n\u001b[1;32m   1780\u001b[0m         \u001b[0;32melif\u001b[0m \u001b[0mname\u001b[0m \u001b[0;32min\u001b[0m \u001b[0mself\u001b[0m\u001b[0;34m.\u001b[0m\u001b[0m_class_to_module\u001b[0m\u001b[0;34m.\u001b[0m\u001b[0mkeys\u001b[0m\u001b[0;34m(\u001b[0m\u001b[0;34m)\u001b[0m\u001b[0;34m:\u001b[0m\u001b[0;34m\u001b[0m\u001b[0;34m\u001b[0m\u001b[0m\n\u001b[0;32m-> 1781\u001b[0;31m             \u001b[0mmodule\u001b[0m \u001b[0;34m=\u001b[0m \u001b[0mself\u001b[0m\u001b[0;34m.\u001b[0m\u001b[0m_get_module\u001b[0m\u001b[0;34m(\u001b[0m\u001b[0mself\u001b[0m\u001b[0;34m.\u001b[0m\u001b[0m_class_to_module\u001b[0m\u001b[0;34m[\u001b[0m\u001b[0mname\u001b[0m\u001b[0;34m]\u001b[0m\u001b[0;34m)\u001b[0m\u001b[0;34m\u001b[0m\u001b[0;34m\u001b[0m\u001b[0m\n\u001b[0m\u001b[1;32m   1782\u001b[0m             \u001b[0mvalue\u001b[0m \u001b[0;34m=\u001b[0m \u001b[0mgetattr\u001b[0m\u001b[0;34m(\u001b[0m\u001b[0mmodule\u001b[0m\u001b[0;34m,\u001b[0m \u001b[0mname\u001b[0m\u001b[0;34m)\u001b[0m\u001b[0;34m\u001b[0m\u001b[0;34m\u001b[0m\u001b[0m\n\u001b[1;32m   1783\u001b[0m         \u001b[0;32melif\u001b[0m \u001b[0mname\u001b[0m \u001b[0;32min\u001b[0m \u001b[0mself\u001b[0m\u001b[0;34m.\u001b[0m\u001b[0m_modules\u001b[0m\u001b[0;34m:\u001b[0m\u001b[0;34m\u001b[0m\u001b[0;34m\u001b[0m\u001b[0m\n",
            "\u001b[0;32m/usr/local/lib/python3.10/dist-packages/transformers/utils/import_utils.py\u001b[0m in \u001b[0;36m_get_module\u001b[0;34m(self, module_name)\u001b[0m\n\u001b[1;32m   1791\u001b[0m     \u001b[0;32mdef\u001b[0m \u001b[0m_get_module\u001b[0m\u001b[0;34m(\u001b[0m\u001b[0mself\u001b[0m\u001b[0;34m,\u001b[0m \u001b[0mmodule_name\u001b[0m\u001b[0;34m:\u001b[0m \u001b[0mstr\u001b[0m\u001b[0;34m)\u001b[0m\u001b[0;34m:\u001b[0m\u001b[0;34m\u001b[0m\u001b[0;34m\u001b[0m\u001b[0m\n\u001b[1;32m   1792\u001b[0m         \u001b[0;32mtry\u001b[0m\u001b[0;34m:\u001b[0m\u001b[0;34m\u001b[0m\u001b[0;34m\u001b[0m\u001b[0m\n\u001b[0;32m-> 1793\u001b[0;31m             \u001b[0;32mreturn\u001b[0m \u001b[0mimportlib\u001b[0m\u001b[0;34m.\u001b[0m\u001b[0mimport_module\u001b[0m\u001b[0;34m(\u001b[0m\u001b[0;34m\".\"\u001b[0m \u001b[0;34m+\u001b[0m \u001b[0mmodule_name\u001b[0m\u001b[0;34m,\u001b[0m \u001b[0mself\u001b[0m\u001b[0;34m.\u001b[0m\u001b[0m__name__\u001b[0m\u001b[0;34m)\u001b[0m\u001b[0;34m\u001b[0m\u001b[0;34m\u001b[0m\u001b[0m\n\u001b[0m\u001b[1;32m   1794\u001b[0m         \u001b[0;32mexcept\u001b[0m \u001b[0mException\u001b[0m \u001b[0;32mas\u001b[0m \u001b[0me\u001b[0m\u001b[0;34m:\u001b[0m\u001b[0;34m\u001b[0m\u001b[0;34m\u001b[0m\u001b[0m\n\u001b[1;32m   1795\u001b[0m             raise RuntimeError(\n",
            "\u001b[0;32m/usr/lib/python3.10/importlib/__init__.py\u001b[0m in \u001b[0;36mimport_module\u001b[0;34m(name, package)\u001b[0m\n\u001b[1;32m    124\u001b[0m                 \u001b[0;32mbreak\u001b[0m\u001b[0;34m\u001b[0m\u001b[0;34m\u001b[0m\u001b[0m\n\u001b[1;32m    125\u001b[0m             \u001b[0mlevel\u001b[0m \u001b[0;34m+=\u001b[0m \u001b[0;36m1\u001b[0m\u001b[0;34m\u001b[0m\u001b[0;34m\u001b[0m\u001b[0m\n\u001b[0;32m--> 126\u001b[0;31m     \u001b[0;32mreturn\u001b[0m \u001b[0m_bootstrap\u001b[0m\u001b[0;34m.\u001b[0m\u001b[0m_gcd_import\u001b[0m\u001b[0;34m(\u001b[0m\u001b[0mname\u001b[0m\u001b[0;34m[\u001b[0m\u001b[0mlevel\u001b[0m\u001b[0;34m:\u001b[0m\u001b[0;34m]\u001b[0m\u001b[0;34m,\u001b[0m \u001b[0mpackage\u001b[0m\u001b[0;34m,\u001b[0m \u001b[0mlevel\u001b[0m\u001b[0;34m)\u001b[0m\u001b[0;34m\u001b[0m\u001b[0;34m\u001b[0m\u001b[0m\n\u001b[0m\u001b[1;32m    127\u001b[0m \u001b[0;34m\u001b[0m\u001b[0m\n\u001b[1;32m    128\u001b[0m \u001b[0;34m\u001b[0m\u001b[0m\n",
            "\u001b[0;32m/usr/local/lib/python3.10/dist-packages/transformers/models/auto/modeling_auto.py\u001b[0m in \u001b[0;36m<module>\u001b[0;34m\u001b[0m\n\u001b[1;32m     19\u001b[0m \u001b[0;34m\u001b[0m\u001b[0m\n\u001b[1;32m     20\u001b[0m \u001b[0;32mfrom\u001b[0m \u001b[0;34m...\u001b[0m\u001b[0mutils\u001b[0m \u001b[0;32mimport\u001b[0m \u001b[0mlogging\u001b[0m\u001b[0;34m\u001b[0m\u001b[0;34m\u001b[0m\u001b[0m\n\u001b[0;32m---> 21\u001b[0;31m from .auto_factory import (\n\u001b[0m\u001b[1;32m     22\u001b[0m     \u001b[0m_BaseAutoBackboneClass\u001b[0m\u001b[0;34m,\u001b[0m\u001b[0;34m\u001b[0m\u001b[0;34m\u001b[0m\u001b[0m\n\u001b[1;32m     23\u001b[0m     \u001b[0m_BaseAutoModelClass\u001b[0m\u001b[0;34m,\u001b[0m\u001b[0;34m\u001b[0m\u001b[0;34m\u001b[0m\u001b[0m\n",
            "\u001b[0;32m/usr/local/lib/python3.10/dist-packages/transformers/models/auto/auto_factory.py\u001b[0m in \u001b[0;36m<module>\u001b[0;34m\u001b[0m\n\u001b[1;32m     38\u001b[0m \u001b[0;34m\u001b[0m\u001b[0m\n\u001b[1;32m     39\u001b[0m \u001b[0;32mif\u001b[0m \u001b[0mis_torch_available\u001b[0m\u001b[0;34m(\u001b[0m\u001b[0;34m)\u001b[0m\u001b[0;34m:\u001b[0m\u001b[0;34m\u001b[0m\u001b[0;34m\u001b[0m\u001b[0m\n\u001b[0;32m---> 40\u001b[0;31m     \u001b[0;32mfrom\u001b[0m \u001b[0;34m...\u001b[0m\u001b[0mgeneration\u001b[0m \u001b[0;32mimport\u001b[0m \u001b[0mGenerationMixin\u001b[0m\u001b[0;34m\u001b[0m\u001b[0;34m\u001b[0m\u001b[0m\n\u001b[0m\u001b[1;32m     41\u001b[0m \u001b[0;34m\u001b[0m\u001b[0m\n\u001b[1;32m     42\u001b[0m \u001b[0;34m\u001b[0m\u001b[0m\n",
            "\u001b[0;32m/usr/lib/python3.10/importlib/_bootstrap.py\u001b[0m in \u001b[0;36m_handle_fromlist\u001b[0;34m(module, fromlist, import_, recursive)\u001b[0m\n",
            "\u001b[0;32m/usr/local/lib/python3.10/dist-packages/transformers/utils/import_utils.py\u001b[0m in \u001b[0;36m__getattr__\u001b[0;34m(self, name)\u001b[0m\n\u001b[1;32m   1779\u001b[0m             \u001b[0mvalue\u001b[0m \u001b[0;34m=\u001b[0m \u001b[0mPlaceholder\u001b[0m\u001b[0;34m\u001b[0m\u001b[0;34m\u001b[0m\u001b[0m\n\u001b[1;32m   1780\u001b[0m         \u001b[0;32melif\u001b[0m \u001b[0mname\u001b[0m \u001b[0;32min\u001b[0m \u001b[0mself\u001b[0m\u001b[0;34m.\u001b[0m\u001b[0m_class_to_module\u001b[0m\u001b[0;34m.\u001b[0m\u001b[0mkeys\u001b[0m\u001b[0;34m(\u001b[0m\u001b[0;34m)\u001b[0m\u001b[0;34m:\u001b[0m\u001b[0;34m\u001b[0m\u001b[0;34m\u001b[0m\u001b[0m\n\u001b[0;32m-> 1781\u001b[0;31m             \u001b[0mmodule\u001b[0m \u001b[0;34m=\u001b[0m \u001b[0mself\u001b[0m\u001b[0;34m.\u001b[0m\u001b[0m_get_module\u001b[0m\u001b[0;34m(\u001b[0m\u001b[0mself\u001b[0m\u001b[0;34m.\u001b[0m\u001b[0m_class_to_module\u001b[0m\u001b[0;34m[\u001b[0m\u001b[0mname\u001b[0m\u001b[0;34m]\u001b[0m\u001b[0;34m)\u001b[0m\u001b[0;34m\u001b[0m\u001b[0;34m\u001b[0m\u001b[0m\n\u001b[0m\u001b[1;32m   1782\u001b[0m             \u001b[0mvalue\u001b[0m \u001b[0;34m=\u001b[0m \u001b[0mgetattr\u001b[0m\u001b[0;34m(\u001b[0m\u001b[0mmodule\u001b[0m\u001b[0;34m,\u001b[0m \u001b[0mname\u001b[0m\u001b[0;34m)\u001b[0m\u001b[0;34m\u001b[0m\u001b[0;34m\u001b[0m\u001b[0m\n\u001b[1;32m   1783\u001b[0m         \u001b[0;32melif\u001b[0m \u001b[0mname\u001b[0m \u001b[0;32min\u001b[0m \u001b[0mself\u001b[0m\u001b[0;34m.\u001b[0m\u001b[0m_modules\u001b[0m\u001b[0;34m:\u001b[0m\u001b[0;34m\u001b[0m\u001b[0;34m\u001b[0m\u001b[0m\n",
            "\u001b[0;32m/usr/local/lib/python3.10/dist-packages/transformers/utils/import_utils.py\u001b[0m in \u001b[0;36m_get_module\u001b[0;34m(self, module_name)\u001b[0m\n\u001b[1;32m   1791\u001b[0m     \u001b[0;32mdef\u001b[0m \u001b[0m_get_module\u001b[0m\u001b[0;34m(\u001b[0m\u001b[0mself\u001b[0m\u001b[0;34m,\u001b[0m \u001b[0mmodule_name\u001b[0m\u001b[0;34m:\u001b[0m \u001b[0mstr\u001b[0m\u001b[0;34m)\u001b[0m\u001b[0;34m:\u001b[0m\u001b[0;34m\u001b[0m\u001b[0;34m\u001b[0m\u001b[0m\n\u001b[1;32m   1792\u001b[0m         \u001b[0;32mtry\u001b[0m\u001b[0;34m:\u001b[0m\u001b[0;34m\u001b[0m\u001b[0;34m\u001b[0m\u001b[0m\n\u001b[0;32m-> 1793\u001b[0;31m             \u001b[0;32mreturn\u001b[0m \u001b[0mimportlib\u001b[0m\u001b[0;34m.\u001b[0m\u001b[0mimport_module\u001b[0m\u001b[0;34m(\u001b[0m\u001b[0;34m\".\"\u001b[0m \u001b[0;34m+\u001b[0m \u001b[0mmodule_name\u001b[0m\u001b[0;34m,\u001b[0m \u001b[0mself\u001b[0m\u001b[0;34m.\u001b[0m\u001b[0m__name__\u001b[0m\u001b[0;34m)\u001b[0m\u001b[0;34m\u001b[0m\u001b[0;34m\u001b[0m\u001b[0m\n\u001b[0m\u001b[1;32m   1794\u001b[0m         \u001b[0;32mexcept\u001b[0m \u001b[0mException\u001b[0m \u001b[0;32mas\u001b[0m \u001b[0me\u001b[0m\u001b[0;34m:\u001b[0m\u001b[0;34m\u001b[0m\u001b[0;34m\u001b[0m\u001b[0m\n\u001b[1;32m   1795\u001b[0m             raise RuntimeError(\n",
            "\u001b[0;32m/usr/lib/python3.10/importlib/__init__.py\u001b[0m in \u001b[0;36mimport_module\u001b[0;34m(name, package)\u001b[0m\n\u001b[1;32m    124\u001b[0m                 \u001b[0;32mbreak\u001b[0m\u001b[0;34m\u001b[0m\u001b[0;34m\u001b[0m\u001b[0m\n\u001b[1;32m    125\u001b[0m             \u001b[0mlevel\u001b[0m \u001b[0;34m+=\u001b[0m \u001b[0;36m1\u001b[0m\u001b[0;34m\u001b[0m\u001b[0;34m\u001b[0m\u001b[0m\n\u001b[0;32m--> 126\u001b[0;31m     \u001b[0;32mreturn\u001b[0m \u001b[0m_bootstrap\u001b[0m\u001b[0;34m.\u001b[0m\u001b[0m_gcd_import\u001b[0m\u001b[0;34m(\u001b[0m\u001b[0mname\u001b[0m\u001b[0;34m[\u001b[0m\u001b[0mlevel\u001b[0m\u001b[0;34m:\u001b[0m\u001b[0;34m]\u001b[0m\u001b[0;34m,\u001b[0m \u001b[0mpackage\u001b[0m\u001b[0;34m,\u001b[0m \u001b[0mlevel\u001b[0m\u001b[0;34m)\u001b[0m\u001b[0;34m\u001b[0m\u001b[0;34m\u001b[0m\u001b[0m\n\u001b[0m\u001b[1;32m    127\u001b[0m \u001b[0;34m\u001b[0m\u001b[0m\n\u001b[1;32m    128\u001b[0m \u001b[0;34m\u001b[0m\u001b[0m\n",
            "\u001b[0;32m/usr/local/lib/python3.10/dist-packages/transformers/generation/utils.py\u001b[0m in \u001b[0;36m<module>\u001b[0;34m\u001b[0m\n\u001b[1;32m     39\u001b[0m \u001b[0;32mfrom\u001b[0m \u001b[0;34m.\u001b[0m\u001b[0;34m.\u001b[0m\u001b[0mintegrations\u001b[0m\u001b[0;34m.\u001b[0m\u001b[0mfsdp\u001b[0m \u001b[0;32mimport\u001b[0m \u001b[0mis_fsdp_managed_module\u001b[0m\u001b[0;34m\u001b[0m\u001b[0;34m\u001b[0m\u001b[0m\n\u001b[1;32m     40\u001b[0m \u001b[0;32mfrom\u001b[0m \u001b[0;34m.\u001b[0m\u001b[0;34m.\u001b[0m\u001b[0mmodeling_outputs\u001b[0m \u001b[0;32mimport\u001b[0m \u001b[0mCausalLMOutputWithPast\u001b[0m\u001b[0;34m,\u001b[0m \u001b[0mSeq2SeqLMOutput\u001b[0m\u001b[0;34m\u001b[0m\u001b[0;34m\u001b[0m\u001b[0m\n\u001b[0;32m---> 41\u001b[0;31m \u001b[0;32mfrom\u001b[0m \u001b[0;34m.\u001b[0m\u001b[0;34m.\u001b[0m\u001b[0mpytorch_utils\u001b[0m \u001b[0;32mimport\u001b[0m \u001b[0misin_mps_friendly\u001b[0m\u001b[0;34m\u001b[0m\u001b[0;34m\u001b[0m\u001b[0m\n\u001b[0m\u001b[1;32m     42\u001b[0m \u001b[0;32mfrom\u001b[0m \u001b[0;34m.\u001b[0m\u001b[0;34m.\u001b[0m\u001b[0mtokenization_utils\u001b[0m \u001b[0;32mimport\u001b[0m \u001b[0mExtensionsTrie\u001b[0m\u001b[0;34m\u001b[0m\u001b[0;34m\u001b[0m\u001b[0m\n\u001b[1;32m     43\u001b[0m from ..utils import (\n",
            "\u001b[0;32m/usr/local/lib/python3.10/dist-packages/transformers/pytorch_utils.py\u001b[0m in \u001b[0;36m<module>\u001b[0;34m\u001b[0m\n\u001b[1;32m     44\u001b[0m \u001b[0;32mif\u001b[0m \u001b[0mis_torch_greater_or_equal\u001b[0m\u001b[0;34m(\u001b[0m\u001b[0;34m\"2.5\"\u001b[0m\u001b[0;34m)\u001b[0m \u001b[0;32mand\u001b[0m \u001b[0m_torch_distributed_available\u001b[0m\u001b[0;34m:\u001b[0m\u001b[0;34m\u001b[0m\u001b[0;34m\u001b[0m\u001b[0m\n\u001b[1;32m     45\u001b[0m     \u001b[0;32mfrom\u001b[0m \u001b[0mtorch\u001b[0m\u001b[0;34m.\u001b[0m\u001b[0mdistributed\u001b[0m\u001b[0;34m.\u001b[0m\u001b[0mtensor\u001b[0m \u001b[0;32mimport\u001b[0m \u001b[0mReplicate\u001b[0m\u001b[0;34m\u001b[0m\u001b[0;34m\u001b[0m\u001b[0m\n\u001b[0;32m---> 46\u001b[0;31m     from torch.distributed.tensor.parallel import (\n\u001b[0m\u001b[1;32m     47\u001b[0m         \u001b[0mColwiseParallel\u001b[0m\u001b[0;34m,\u001b[0m\u001b[0;34m\u001b[0m\u001b[0;34m\u001b[0m\u001b[0m\n\u001b[1;32m     48\u001b[0m         \u001b[0mRowwiseParallel\u001b[0m\u001b[0;34m,\u001b[0m\u001b[0;34m\u001b[0m\u001b[0;34m\u001b[0m\u001b[0m\n",
            "\u001b[0;32m/usr/local/lib/python3.10/dist-packages/torch/distributed/tensor/parallel/__init__.py\u001b[0m in \u001b[0;36m<module>\u001b[0;34m\u001b[0m\n\u001b[1;32m      1\u001b[0m \u001b[0;31m# Copyright (c) Meta Platforms, Inc. and affiliates\u001b[0m\u001b[0;34m\u001b[0m\u001b[0;34m\u001b[0m\u001b[0m\n\u001b[0;32m----> 2\u001b[0;31m \u001b[0;32mfrom\u001b[0m \u001b[0mtorch\u001b[0m\u001b[0;34m.\u001b[0m\u001b[0mdistributed\u001b[0m\u001b[0;34m.\u001b[0m\u001b[0mtensor\u001b[0m\u001b[0;34m.\u001b[0m\u001b[0mparallel\u001b[0m\u001b[0;34m.\u001b[0m\u001b[0mapi\u001b[0m \u001b[0;32mimport\u001b[0m \u001b[0mparallelize_module\u001b[0m\u001b[0;34m\u001b[0m\u001b[0;34m\u001b[0m\u001b[0m\n\u001b[0m\u001b[1;32m      3\u001b[0m \u001b[0;32mfrom\u001b[0m \u001b[0mtorch\u001b[0m\u001b[0;34m.\u001b[0m\u001b[0mdistributed\u001b[0m\u001b[0;34m.\u001b[0m\u001b[0mtensor\u001b[0m\u001b[0;34m.\u001b[0m\u001b[0mparallel\u001b[0m\u001b[0;34m.\u001b[0m\u001b[0mloss\u001b[0m \u001b[0;32mimport\u001b[0m \u001b[0mloss_parallel\u001b[0m\u001b[0;34m\u001b[0m\u001b[0;34m\u001b[0m\u001b[0m\n\u001b[1;32m      4\u001b[0m from torch.distributed.tensor.parallel.style import (\n\u001b[1;32m      5\u001b[0m     \u001b[0mColwiseParallel\u001b[0m\u001b[0;34m,\u001b[0m\u001b[0;34m\u001b[0m\u001b[0;34m\u001b[0m\u001b[0m\n",
            "\u001b[0;32m/usr/local/lib/python3.10/dist-packages/torch/distributed/tensor/parallel/api.py\u001b[0m in \u001b[0;36m<module>\u001b[0;34m\u001b[0m\n\u001b[1;32m     11\u001b[0m     \u001b[0mTensorParallelRNGTracker\u001b[0m\u001b[0;34m,\u001b[0m\u001b[0;34m\u001b[0m\u001b[0;34m\u001b[0m\u001b[0m\n\u001b[1;32m     12\u001b[0m )\n\u001b[0;32m---> 13\u001b[0;31m \u001b[0;32mfrom\u001b[0m \u001b[0mtorch\u001b[0m\u001b[0;34m.\u001b[0m\u001b[0mdistributed\u001b[0m\u001b[0;34m.\u001b[0m\u001b[0mtensor\u001b[0m\u001b[0;34m.\u001b[0m\u001b[0mparallel\u001b[0m\u001b[0;34m.\u001b[0m\u001b[0m_utils\u001b[0m \u001b[0;32mimport\u001b[0m \u001b[0m_validate_tp_mesh_dim\u001b[0m\u001b[0;34m\u001b[0m\u001b[0;34m\u001b[0m\u001b[0m\n\u001b[0m\u001b[1;32m     14\u001b[0m \u001b[0;32mfrom\u001b[0m \u001b[0mtorch\u001b[0m\u001b[0;34m.\u001b[0m\u001b[0mdistributed\u001b[0m\u001b[0;34m.\u001b[0m\u001b[0mtensor\u001b[0m\u001b[0;34m.\u001b[0m\u001b[0mparallel\u001b[0m\u001b[0;34m.\u001b[0m\u001b[0mstyle\u001b[0m \u001b[0;32mimport\u001b[0m \u001b[0mParallelStyle\u001b[0m\u001b[0;34m\u001b[0m\u001b[0;34m\u001b[0m\u001b[0m\n\u001b[1;32m     15\u001b[0m \u001b[0;34m\u001b[0m\u001b[0m\n",
            "\u001b[0;32m/usr/local/lib/python3.10/dist-packages/torch/distributed/tensor/parallel/_utils.py\u001b[0m in \u001b[0;36m<module>\u001b[0;34m\u001b[0m\n\u001b[1;32m      9\u001b[0m \u001b[0;34m\u001b[0m\u001b[0m\n\u001b[1;32m     10\u001b[0m \u001b[0;32mtry\u001b[0m\u001b[0;34m:\u001b[0m\u001b[0;34m\u001b[0m\u001b[0;34m\u001b[0m\u001b[0m\n\u001b[0;32m---> 11\u001b[0;31m     \u001b[0;32mfrom\u001b[0m \u001b[0mtorch\u001b[0m\u001b[0;34m.\u001b[0m\u001b[0m_dynamo\u001b[0m\u001b[0;34m.\u001b[0m\u001b[0mexternal_utils\u001b[0m \u001b[0;32mimport\u001b[0m \u001b[0mis_compiling\u001b[0m \u001b[0;32mas\u001b[0m \u001b[0mis_torchdynamo_compiling\u001b[0m\u001b[0;34m\u001b[0m\u001b[0;34m\u001b[0m\u001b[0m\n\u001b[0m\u001b[1;32m     12\u001b[0m \u001b[0;32mexcept\u001b[0m \u001b[0mException\u001b[0m\u001b[0;34m:\u001b[0m\u001b[0;34m\u001b[0m\u001b[0;34m\u001b[0m\u001b[0m\n\u001b[1;32m     13\u001b[0m \u001b[0;34m\u001b[0m\u001b[0m\n",
            "\u001b[0;32m/usr/local/lib/python3.10/dist-packages/torch/_dynamo/__init__.py\u001b[0m in \u001b[0;36m<module>\u001b[0;34m\u001b[0m\n\u001b[1;32m      1\u001b[0m \u001b[0;32mimport\u001b[0m \u001b[0mtorch\u001b[0m\u001b[0;34m\u001b[0m\u001b[0;34m\u001b[0m\u001b[0m\n\u001b[1;32m      2\u001b[0m \u001b[0;34m\u001b[0m\u001b[0m\n\u001b[0;32m----> 3\u001b[0;31m \u001b[0;32mfrom\u001b[0m \u001b[0;34m.\u001b[0m \u001b[0;32mimport\u001b[0m \u001b[0mconvert_frame\u001b[0m\u001b[0;34m,\u001b[0m \u001b[0meval_frame\u001b[0m\u001b[0;34m,\u001b[0m \u001b[0mresume_execution\u001b[0m\u001b[0;34m\u001b[0m\u001b[0;34m\u001b[0m\u001b[0m\n\u001b[0m\u001b[1;32m      4\u001b[0m \u001b[0;32mfrom\u001b[0m \u001b[0;34m.\u001b[0m\u001b[0mbackends\u001b[0m\u001b[0;34m.\u001b[0m\u001b[0mregistry\u001b[0m \u001b[0;32mimport\u001b[0m \u001b[0mlist_backends\u001b[0m\u001b[0;34m,\u001b[0m \u001b[0mlookup_backend\u001b[0m\u001b[0;34m,\u001b[0m \u001b[0mregister_backend\u001b[0m\u001b[0;34m\u001b[0m\u001b[0;34m\u001b[0m\u001b[0m\n\u001b[1;32m      5\u001b[0m \u001b[0;32mfrom\u001b[0m \u001b[0;34m.\u001b[0m\u001b[0mcallback\u001b[0m \u001b[0;32mimport\u001b[0m \u001b[0mcallback_handler\u001b[0m\u001b[0;34m,\u001b[0m \u001b[0mon_compile_end\u001b[0m\u001b[0;34m,\u001b[0m \u001b[0mon_compile_start\u001b[0m\u001b[0;34m\u001b[0m\u001b[0;34m\u001b[0m\u001b[0m\n",
            "\u001b[0;32m/usr/local/lib/python3.10/dist-packages/torch/_dynamo/convert_frame.py\u001b[0m in \u001b[0;36m<module>\u001b[0;34m\u001b[0m\n\u001b[1;32m     86\u001b[0m \u001b[0;32mfrom\u001b[0m \u001b[0;34m.\u001b[0m\u001b[0mhooks\u001b[0m \u001b[0;32mimport\u001b[0m \u001b[0mHooks\u001b[0m\u001b[0;34m\u001b[0m\u001b[0;34m\u001b[0m\u001b[0m\n\u001b[1;32m     87\u001b[0m \u001b[0;32mfrom\u001b[0m \u001b[0;34m.\u001b[0m\u001b[0mreplay_record\u001b[0m \u001b[0;32mimport\u001b[0m \u001b[0mExecutionRecord\u001b[0m\u001b[0;34m\u001b[0m\u001b[0;34m\u001b[0m\u001b[0m\n\u001b[0;32m---> 88\u001b[0;31m from .symbolic_convert import (\n\u001b[0m\u001b[1;32m     89\u001b[0m     \u001b[0mDistributedState\u001b[0m\u001b[0;34m,\u001b[0m\u001b[0;34m\u001b[0m\u001b[0;34m\u001b[0m\u001b[0m\n\u001b[1;32m     90\u001b[0m     \u001b[0mInstructionTranslator\u001b[0m\u001b[0;34m,\u001b[0m\u001b[0;34m\u001b[0m\u001b[0;34m\u001b[0m\u001b[0m\n",
            "\u001b[0;31mKeyboardInterrupt\u001b[0m: "
          ]
        }
      ],
      "source": [
        "from IPython.display import clear_output\n",
        "import einops\n",
        "import torch\n",
        "import plotly.express as px\n",
        "import plotly.io as pio\n",
        "pio.renderers.default = \"colab\"\n",
        "\n",
        "from nnsight import LanguageModel"
      ]
    },
    {
      "cell_type": "code",
      "execution_count": null,
      "metadata": {
        "id": "orVn0wTnosHO"
      },
      "outputs": [],
      "source": [
        "import os\n",
        "from google.colab import userdata"
      ]
    },
    {
      "cell_type": "code",
      "execution_count": null,
      "metadata": {
        "id": "BMWEb8TJoske"
      },
      "outputs": [],
      "source": [
        "github_token = userdata.get(\"GITHUB_TOKEN\")\n",
        "\n",
        "# Install the private repository using the token\n",
        "!pip install --upgrade git+https://{github_token}@github.com/withmartian/TinySQL.git\n",
        "\n",
        "import TinySQL as qts"
      ]
    },
    {
      "cell_type": "code",
      "source": [
        "!pip install --upgrade git+https://github.com/PhilipQuirke/quanta_mech_interp.git\n",
        "import QuantaMechInterp as qmi"
      ],
      "metadata": {
        "id": "WKAVW6GPw9DU"
      },
      "execution_count": null,
      "outputs": []
    },
    {
      "cell_type": "markdown",
      "metadata": {
        "id": "8jE5u12LVhvn"
      },
      "source": [
        "# Select model and command set"
      ]
    },
    {
      "cell_type": "code",
      "execution_count": null,
      "metadata": {
        "id": "XwBxuEUiVXOC"
      },
      "outputs": [],
      "source": [
        "model_num = 1                     # 0=GPT2, 1=TinyStories, 2=Qwen, 3=Llama, 4=Granite, 5=SmolLM\n",
        "cs_num = 1                        # 0=BaseModel, 1=CS1, 2=CS2 or 3=CS3\n",
        "feature_name = qts.ENGFIELDNAME   # One of EngTableName, EngFieldName, DefCreateTable, DefTableName, DefFieldName, DefFieldSeparator\n",
        "use_novel_names = False           # If True, we corrupt using words not found in the clean prompt or create sql e.g. \"little\" or \"hammer\""
      ]
    },
    {
      "cell_type": "markdown",
      "metadata": {
        "id": "S-TNF3PVlGV0"
      },
      "source": [
        "# Investigate m0 : nnsight tutorial using GPT2\n",
        "Reproduces https://nnsight.net/notebooks/tutorials/activation_patching/\n",
        "\n"
      ]
    },
    {
      "cell_type": "code",
      "execution_count": null,
      "metadata": {
        "id": "kigWC3CglGlE"
      },
      "outputs": [],
      "source": [
        "if model_num == 0:\n",
        "    feature_name = \"\"\n",
        "    model = LanguageModel(\"openai-community/gpt2\", device_map=\"auto\", dispatch=True)\n",
        "    clear_output()\n",
        "    print(model)"
      ]
    },
    {
      "cell_type": "code",
      "execution_count": null,
      "metadata": {
        "id": "_U3UgYC0lRpa"
      },
      "outputs": [],
      "source": [
        "answer_token_indices = None\n",
        "if model_num == 0:\n",
        "    prompts = [\n",
        "        \"When John and Mary went to the shops, John gave the bag to\",\n",
        "        \"When John and Mary went to the shops, Mary gave the bag to\",\n",
        "        \"When Tom and James went to the park, James gave the ball to\",\n",
        "        \"When Tom and James went to the park, Tom gave the ball to\",\n",
        "        \"When Dan and Sid went to the shops, Sid gave an apple to\",\n",
        "        \"When Dan and Sid went to the shops, Dan gave an apple to\",\n",
        "        \"After Martin and Amy went to the park, Amy gave a drink to\",\n",
        "        \"After Martin and Amy went to the park, Martin gave a drink to\",\n",
        "    ]\n",
        "\n",
        "    # Answers are each formatted as (correct, incorrect):\n",
        "    answer_pairs = [\n",
        "        (\" Mary\", \" John\"),\n",
        "        (\" John\", \" Mary\"),\n",
        "        (\" Tom\", \" James\"),\n",
        "        (\" James\", \" Tom\"),\n",
        "        (\" Dan\", \" Sid\"),\n",
        "        (\" Sid\", \" Dan\"),\n",
        "        (\" Martin\", \" Amy\"),\n",
        "        (\" Amy\", \" Martin\"),\n",
        "    ]\n",
        "\n",
        "    # Tokenize clean and corrupted inputs:\n",
        "    clean_tokens = model.tokenizer(prompts, return_tensors=\"pt\")[\"input_ids\"]\n",
        "    # The associated corrupted input is the prompt after the current clean prompt\n",
        "    # for even indices, or the prompt prior to the current clean prompt for odd indices\n",
        "    corrupted_tokens = clean_tokens[\n",
        "        [(i + 1 if i % 2 == 0 else i - 1) for i in range(len(clean_tokens))]\n",
        "    ]\n",
        "\n",
        "    # Tokenize answer_pairs for each prompt:\n",
        "    answer_token_indices = torch.tensor(\n",
        "        [\n",
        "            [model.tokenizer(answer_pairs[i][j])[\"input_ids\"][0] for j in range(2)]\n",
        "            for i in range(len(answer_pairs))\n",
        "        ]\n",
        "    )"
      ]
    },
    {
      "cell_type": "code",
      "execution_count": null,
      "metadata": {
        "id": "Vz_E9jx7lWt1"
      },
      "outputs": [],
      "source": [
        "def get_logit_diff(logits, answer_token_indices=answer_token_indices):\n",
        "    logits = logits[:, -1, :]\n",
        "    correct_logits = logits.gather(1, answer_token_indices[:, 0].unsqueeze(1))\n",
        "    incorrect_logits = logits.gather(1, answer_token_indices[:, 1].unsqueeze(1))\n",
        "    return (correct_logits - incorrect_logits).mean()"
      ]
    },
    {
      "cell_type": "code",
      "execution_count": null,
      "metadata": {
        "id": "nQbwmln550jO"
      },
      "outputs": [],
      "source": [
        "if model_num == 0:\n",
        "    clean_logits = model.trace(clean_tokens, trace=False).logits.cpu()\n",
        "    corrupted_logits = model.trace(corrupted_tokens, trace=False).logits.cpu()\n",
        "\n",
        "    CLEAN_BASELINE = get_logit_diff(clean_logits, answer_token_indices).item()\n",
        "    print(f\"Clean logit diff: {CLEAN_BASELINE:.4f}\")\n",
        "\n",
        "    CORRUPTED_BASELINE = get_logit_diff(corrupted_logits, answer_token_indices).item()\n",
        "    print(f\"Corrupted logit diff: {CORRUPTED_BASELINE:.4f}\")"
      ]
    },
    {
      "cell_type": "code",
      "execution_count": null,
      "metadata": {
        "id": "5huZDOxP54xe"
      },
      "outputs": [],
      "source": [
        "def ioi_metric(\n",
        "    logits,\n",
        "    answer_token_indices=answer_token_indices,\n",
        "):\n",
        "    return (get_logit_diff(logits, answer_token_indices) - CORRUPTED_BASELINE) / (\n",
        "        CLEAN_BASELINE - CORRUPTED_BASELINE\n",
        "    )"
      ]
    },
    {
      "cell_type": "code",
      "execution_count": null,
      "metadata": {
        "id": "A9p9Oig79wLb"
      },
      "outputs": [],
      "source": [
        "if model_num == 0:\n",
        "    print(f\"Clean Baseline is 1: {ioi_metric(clean_logits).item():.4f}\")\n",
        "    print(f\"Corrupted Baseline is 0: {ioi_metric(corrupted_logits).item():.4f}\")"
      ]
    },
    {
      "cell_type": "code",
      "execution_count": null,
      "metadata": {
        "id": "hE3kLr-Pm57W"
      },
      "outputs": [],
      "source": [
        "if model_num == 0:\n",
        "    clean_out = []\n",
        "    corrupted_out = []\n",
        "    corrupted_grads = []\n",
        "\n",
        "    with model.trace() as tracer:\n",
        "        # Using nnsight's tracer.invoke context, we can batch the clean and the\n",
        "        # corrupted runs into the same tracing context, allowing us to access\n",
        "        # information generated within each of these runs within one forward pass\n",
        "\n",
        "        with tracer.invoke(clean_tokens) as invoker_clean:\n",
        "            # Gather each layer's attention\n",
        "            for layer in model.transformer.h:\n",
        "                # Get clean attention output for this layer\n",
        "                # across all attention heads\n",
        "                attn_out = layer.attn.c_proj.input\n",
        "                clean_out.append(attn_out.save())\n",
        "\n",
        "        with tracer.invoke(corrupted_tokens) as invoker_corrupted:\n",
        "            # Gather each layer's attention and gradients\n",
        "            for layer in model.transformer.h:\n",
        "                # Get corrupted attention output for this layer\n",
        "                # across all attention heads\n",
        "                attn_out = layer.attn.c_proj.input\n",
        "                corrupted_out.append(attn_out.save())\n",
        "                # save corrupted gradients for attribution patching\n",
        "                corrupted_grads.append(attn_out.grad.save())\n",
        "\n",
        "            # Let's get the logits for the model's output\n",
        "            # for the corrupted run\n",
        "            logits = model.lm_head.output.save()\n",
        "\n",
        "            # Our metric uses tensors saved on cpu, so we\n",
        "            # need to move the logits to cpu.\n",
        "            value = ioi_metric(logits.cpu())\n",
        "\n",
        "            # We also need to run a backwards pass to\n",
        "            # update gradient values\n",
        "            value.backward()"
      ]
    },
    {
      "cell_type": "code",
      "execution_count": null,
      "metadata": {
        "id": "CDjDoNYi6Q6O"
      },
      "outputs": [],
      "source": [
        "if model_num == 0:\n",
        "    N_HEADS = 12\n",
        "    D_HEAD = 64"
      ]
    },
    {
      "cell_type": "markdown",
      "metadata": {
        "id": "JTFsU6BnYoKu"
      },
      "source": [
        "Results graphed in \"Shared graph code\" section below"
      ]
    },
    {
      "cell_type": "markdown",
      "metadata": {
        "id": "y72URtyynvnv"
      },
      "source": [
        "# Investigate m1, m2 and m3 models"
      ]
    },
    {
      "cell_type": "markdown",
      "metadata": {
        "id": "lUZoOBqxn72y"
      },
      "source": [
        "## Load model"
      ]
    },
    {
      "cell_type": "code",
      "execution_count": null,
      "metadata": {
        "id": "oFaFTy6LnbxI"
      },
      "outputs": [],
      "source": [
        "if model_num > 0:\n",
        "    model = qts.load_tinysql_model(model_num, cs_num, auth_token=userdata.get(\"HF_TOKEN\"))\n",
        "    clear_output()\n",
        "    print(model)\n",
        "\n",
        "    N_LAYERS, N_HEADS, D_MODEL, D_HEAD = qts.get_model_sizes(model_num, model)\n",
        "\n",
        "    # Singleton QuantaTool \"main\" configuration class. qmi.AlgoConfig is derived from the chain qmi.UsefulConfig > qmi.ModelConfig\n",
        "    cfg = qmi.AlgoConfig()\n",
        "    cfg.main_model = model\n",
        "    cfg.n_layers = N_LAYERS\n",
        "    cfg.n_heads = N_HEADS\n",
        "    cfg.d_model = D_MODEL\n",
        "    cfg.d_head = D_HEAD\n",
        "    cfg.file_config_prefix = \"\"\n",
        "    cfg.set_seed(673023)"
      ]
    },
    {
      "cell_type": "markdown",
      "metadata": {
        "id": "vklnA0J8n-01"
      },
      "source": [
        "## Generate clean and corrupted data"
      ]
    },
    {
      "cell_type": "code",
      "execution_count": null,
      "metadata": {
        "id": "f4BtPAr34ait"
      },
      "outputs": [],
      "source": [
        "if model_num > 0:\n",
        "    generator = qts.CorruptFeatureTestGenerator(model_num=model_num, cs_num=cs_num, tokenizer=model.tokenizer, use_novel_names=use_novel_names)\n",
        "\n",
        "    examples = generator.generate_feature_examples(feature_name, 10)\n",
        "\n",
        "    examples[0].print_all()"
      ]
    },
    {
      "cell_type": "code",
      "execution_count": null,
      "metadata": {
        "id": "qblFjtGXhxYp"
      },
      "outputs": [],
      "source": [
        "if model_num > 0:\n",
        "    prompts = [example.get_alpaca_prompt() for example in examples]\n",
        "\n",
        "    # Generate answers as (correct, incorrect) pairs\n",
        "    answer_pairs = [(example.clean_token_str, example.corrupt_token_str) for example in examples]\n",
        "\n",
        "    # Tokenize clean inputs\n",
        "    clean_tokens = model.tokenizer(prompts, return_tensors=\"pt\", padding=True)[\"input_ids\"]\n",
        "\n",
        "    # Different models tokenize differently giving different indexes for the corrupted text\n",
        "    answer_offset = generator.tokenize_answer_offset()\n",
        "    first_field_token = model.tokenizer(f\" {examples[0].clean_token_str}\")[\"input_ids\"][answer_offset]  # Get token for \" size\"\n",
        "    corrupt_index = (clean_tokens[0] == first_field_token).nonzero()[0].item()  # Find its position\n",
        "    # Add a sanity check to ensure we found the right token\n",
        "    assert model.tokenizer.decode(clean_tokens[0, corrupt_index]) == f\" {examples[0].clean_token_str}\"\n",
        "\n",
        "    # Validation helper function\n",
        "    def validate_token_sequence(tokens, idx):\n",
        "        \"\"\"Validate that tokens before and after idx are same across sequences, but different at idx\"\"\"\n",
        "        assert all(tokens[0, idx-1] == tokens[i, idx-1] for i in range(1, len(tokens)))\n",
        "        assert all(tokens[0, idx] != tokens[i, idx] for i in range(1, len(tokens)))\n",
        "        assert all(tokens[0, idx+1] == tokens[i, idx+1] for i in range(1, len(tokens)))\n",
        "\n",
        "    # Validate token sequence\n",
        "    # Crashes as get left padding. Improve qts to give constant length data\n",
        "    # for prompt in prompts:\n",
        "    #     print(prompt.replace('\\n', ' '))\n",
        "    # print(clean_tokens[:,:10])\n",
        "    #validate_token_sequence(clean_tokens, corrupt_index)\n",
        "\n",
        "    # Create corrupted tokens using circular rotation\n",
        "    corrupted_tokens = clean_tokens.clone()\n",
        "    for i in range(len(prompts)):\n",
        "        next_idx = (i + 1) % len(prompts)\n",
        "        corrupted_tokens[i, corrupt_index] = clean_tokens[next_idx, corrupt_index]\n",
        "\n",
        "    # Tokenize answer_pairs\n",
        "    answer_token_indices = torch.tensor([\n",
        "        [model.tokenizer(pair[j])[\"input_ids\"][answer_offset] for j in range(2)]\n",
        "        for pair in answer_pairs\n",
        "    ])"
      ]
    },
    {
      "cell_type": "markdown",
      "metadata": {
        "id": "EiJYH8L-oDKU"
      },
      "source": [
        "## Trace clean and corrupted (batched) examples"
      ]
    },
    {
      "cell_type": "code",
      "execution_count": null,
      "metadata": {
        "id": "_2XPtBZq9s9H"
      },
      "outputs": [],
      "source": [
        "if model_num > 0:\n",
        "    clean_logits = model.trace(clean_tokens, trace=False).logits.cpu()\n",
        "    corrupted_logits = model.trace(corrupted_tokens, trace=False).logits.cpu()\n",
        "\n",
        "    CLEAN_BASELINE = get_logit_diff(clean_logits, answer_token_indices).item()\n",
        "    print(f\"Clean logit diff: {CLEAN_BASELINE:.4f}\")\n",
        "\n",
        "    CORRUPTED_BASELINE = get_logit_diff(corrupted_logits, answer_token_indices).item()\n",
        "    print(f\"Corrupted logit diff: {CORRUPTED_BASELINE:.4f}\")\n",
        "\n",
        "    qts.free_memory() # Free up GPU and CPU memory"
      ]
    },
    {
      "cell_type": "code",
      "execution_count": null,
      "metadata": {
        "id": "t03LdQ9-Bllb"
      },
      "outputs": [],
      "source": [
        "def sql_metric(\n",
        "    logits,\n",
        "    answer_token_indices=answer_token_indices,\n",
        "):\n",
        "    return (get_logit_diff(logits, answer_token_indices) - CORRUPTED_BASELINE) / (\n",
        "        CLEAN_BASELINE - CORRUPTED_BASELINE\n",
        "    )"
      ]
    },
    {
      "cell_type": "code",
      "execution_count": null,
      "metadata": {
        "id": "ieHKPdi6BwUh"
      },
      "outputs": [],
      "source": [
        "if model_num > 0:\n",
        "    print(f\"Clean Baseline is 1: {sql_metric(clean_logits).item():.4f}\")\n",
        "    print(f\"Corrupted Baseline is 0: {sql_metric(corrupted_logits).item():.4f}\")"
      ]
    },
    {
      "cell_type": "code",
      "execution_count": null,
      "metadata": {
        "id": "Tg99jxpZ94LF"
      },
      "outputs": [],
      "source": [
        "if model_num == 1: # TinyStories\n",
        "    clean_out = []\n",
        "    corrupted_out = []\n",
        "    corrupted_grads = []\n",
        "\n",
        "    with model.trace() as tracer:\n",
        "        # Using nnsight's tracer.invoke context, we can batch the clean and the\n",
        "        # corrupted runs into the same tracing context, allowing us to access\n",
        "        # information generated within each of these runs within one forward pass\n",
        "\n",
        "        with tracer.invoke(clean_tokens) as invoker_clean:\n",
        "            # Gather each layer's attention\n",
        "            for layer in model.transformer.h:\n",
        "                # Get clean attention output for this layer\n",
        "                # across all attention heads\n",
        "                attn_out = layer.attn.input\n",
        "                clean_out.append(attn_out.save())\n",
        "\n",
        "        with tracer.invoke(corrupted_tokens) as invoker_corrupted:\n",
        "            # Gather each layer's attention and gradients\n",
        "            for layer in model.transformer.h:\n",
        "                # Get corrupted attention output for this layer\n",
        "                # across all attention heads\n",
        "                attn_out = layer.attn.input\n",
        "                corrupted_out.append(attn_out.save())\n",
        "                # save corrupted gradients for attribution patching\n",
        "                corrupted_grads.append(attn_out.grad.save())\n",
        "\n",
        "            # Let's get the logits for the model's output\n",
        "            # for the corrupted run\n",
        "            logits = model.lm_head.output.save()\n",
        "\n",
        "            # Our metric uses tensors saved on cpu, so we\n",
        "            # need to move the logits to cpu.\n",
        "            value = sql_metric(logits.cpu())\n",
        "\n",
        "            # We also need to run a backwards pass to\n",
        "            # update gradient values\n",
        "            value.backward()\n",
        "\n",
        "    qts.free_memory() # Free up GPU and CPU memory"
      ]
    },
    {
      "cell_type": "code",
      "execution_count": null,
      "metadata": {
        "id": "p9vRt9g5S1Af"
      },
      "outputs": [],
      "source": [
        "if model_num == 2 or model_num == 3: # Qwen or Llama\n",
        "    clean_out = []\n",
        "    corrupted_out = []\n",
        "    corrupted_grads = []\n",
        "\n",
        "    with model.trace() as tracer:\n",
        "        # Using nnsight's tracer.invoke context, we can batch the clean and the\n",
        "        # corrupted runs into the same tracing context, allowing us to access\n",
        "        # information generated within each of these runs within one forward pass\n",
        "\n",
        "        with tracer.invoke(clean_tokens) as invoker_clean:\n",
        "            # Gather each layer's attention\n",
        "            for layer in model.model.layers:\n",
        "                # Get clean attention output for this layer\n",
        "                # across all attention heads\n",
        "                #tracer.log(\"layer shape\", layer)\n",
        "                attn_out = layer.input\n",
        "                clean_out.append(attn_out.save())\n",
        "\n",
        "        with tracer.invoke(corrupted_tokens) as invoker_corrupted:\n",
        "            # Gather each layer's attention and gradients\n",
        "            for layer in model.model.layers:\n",
        "                # Get corrupted attention output for this layer\n",
        "                # across all attention heads\n",
        "                attn_out = layer.input\n",
        "                corrupted_out.append(attn_out.save())\n",
        "                # save corrupted gradients for attribution patching\n",
        "                corrupted_grads.append(attn_out.grad.save())\n",
        "\n",
        "            # Let's get the logits for the model's output\n",
        "            # for the corrupted run\n",
        "            logits = model.lm_head.output.save()\n",
        "\n",
        "            # Our metric uses tensors saved on cpu, so we\n",
        "            # need to move the logits to cpu.\n",
        "            value = sql_metric(logits.cpu())\n",
        "\n",
        "            # We also need to run a backwards pass to\n",
        "            # update gradient values\n",
        "            value.backward()"
      ]
    },
    {
      "cell_type": "code",
      "execution_count": null,
      "metadata": {
        "id": "aK9PjaloozCq"
      },
      "outputs": [],
      "source": [
        "if model_num > 0:\n",
        "    N_LAYERS, N_HEADS, D_MODEL, D_HEAD = qts.get_model_sizes(model_num, model, cs_num)"
      ]
    },
    {
      "cell_type": "markdown",
      "metadata": {
        "id": "gSWFWRlVYDnb"
      },
      "source": [
        "# Graph logit changes by attention head\n",
        "Heatmap to examine how the logit difference changes after patching each layer’s output across attention heads."
      ]
    },
    {
      "cell_type": "code",
      "execution_count": null,
      "metadata": {
        "id": "X45D8qyn99FD"
      },
      "outputs": [],
      "source": [
        "attention_head_results = []\n",
        "for corrupted_grad, corrupted, clean, layer in zip(\n",
        "    corrupted_grads, corrupted_out, clean_out, range(len(clean_out))\n",
        "):\n",
        "\n",
        "    residual_attr = einops.reduce(\n",
        "        corrupted_grad.value[:,-1,:] * (clean.value[:,-1,:] - corrupted.value[:,-1,:]),\n",
        "        \"batch (head dim) -> head\",\n",
        "        \"sum\",\n",
        "        head = N_HEADS,\n",
        "        dim = D_HEAD,\n",
        "    )\n",
        "\n",
        "    attention_head_results.append(\n",
        "        residual_attr.detach().cpu().numpy()\n",
        "    )"
      ]
    },
    {
      "cell_type": "code",
      "execution_count": null,
      "metadata": {
        "id": "K0taib_I9_xS"
      },
      "outputs": [],
      "source": [
        "fig = px.imshow(\n",
        "    attention_head_results,\n",
        "    color_continuous_scale=\"RdBu\",\n",
        "    color_continuous_midpoint=0.0,\n",
        "    title=\"Attribution Patching Over Attention Heads: \" + feature_name,\n",
        "    labels={\"x\": \"Head\", \"y\": \"Layer\",\"color\":\"Norm. Logit Diff\"},\n",
        ")\n",
        "\n",
        "fig.show()"
      ]
    },
    {
      "cell_type": "markdown",
      "metadata": {
        "id": "sRWiw6wUpCEt"
      },
      "source": [
        "# Graph logit changes by token position\n",
        "Heatmaps to examine how the logit difference changes after patching each layer’s output across token positions."
      ]
    },
    {
      "cell_type": "code",
      "execution_count": null,
      "metadata": {
        "id": "Vrc_tQk7WOtZ"
      },
      "outputs": [],
      "source": [
        "token_pos_results = []\n",
        "\n",
        "for corrupted_grad, corrupted, clean, layer in zip(\n",
        "    corrupted_grads, corrupted_out, clean_out, range(len(clean_out))\n",
        "):\n",
        "\n",
        "    residual_attr = einops.reduce(\n",
        "        corrupted_grad.value * (clean.value - corrupted.value),\n",
        "        \"batch pos dim -> pos\",\n",
        "        \"sum\",\n",
        "    )\n",
        "\n",
        "    token_pos_results.append(\n",
        "        residual_attr.detach().cpu().numpy()\n",
        "    )"
      ]
    },
    {
      "cell_type": "code",
      "execution_count": null,
      "metadata": {
        "id": "jAmACdVYWUGC"
      },
      "outputs": [],
      "source": [
        "fig = px.imshow(\n",
        "    token_pos_results,\n",
        "    color_continuous_scale=\"RdBu\",\n",
        "    color_continuous_midpoint=0.0,\n",
        "    title=\"Attribution Patching Over Token Position: \" + feature_name,\n",
        "    labels={\"x\": \"Token Position\", \"y\": \"Layer\",\"color\":\"Norm. Logit Diff\"},\n",
        ")\n",
        "\n",
        "fig.show()"
      ]
    },
    {
      "cell_type": "code",
      "source": [
        "seen_suffix = \"_novel\" if use_novel_names else \"\"\n",
        "\n",
        "# Serialize and save the results list to a temporary CoLab file in JSON format. Manually download.\n",
        "attribution_json_filename = 'tinysql_bm' + str(model_num) + \"_cs\" + str(cs_num) + feature_name + seen_suffix + '_attribution.json'\n",
        "print( \"Saving useful node list with behavior tags:\", attribution_json_filename)\n",
        "#TODO: cfg.useful_nodes.save_nodes(attribution_json_filename)\n",
        "\n",
        "#TODO: Auto save to Martian wandb"
      ],
      "metadata": {
        "id": "lLRPEIvviR5g"
      },
      "execution_count": null,
      "outputs": []
    }
  ],
  "metadata": {
    "accelerator": "GPU",
    "colab": {
      "collapsed_sections": [
        "S-TNF3PVlGV0"
      ],
      "gpuType": "T4",
      "machine_shape": "hm",
      "provenance": []
    },
    "kernelspec": {
      "display_name": "Python 3",
      "name": "python3"
    },
    "language_info": {
      "name": "python"
    }
  },
  "nbformat": 4,
  "nbformat_minor": 0
}