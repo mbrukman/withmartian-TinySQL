{
  "cells": [
    {
      "cell_type": "markdown",
      "metadata": {
        "id": "yQAsYjSQVXHC"
      },
      "source": [
        "# Attribution Patching on M0 to M3 models\n",
        "\n",
        "The nnsight library tutorial [attribution_patching](https://nnsight.net/notebooks/tutorials/attribution_patching/) says:\n",
        "\n",
        "Activation patching is a method to determine how model components influence model computations. It is time- and resource-intensive.\n",
        "**Attribution patching** uses gradients to take a linear approximation to activation patching and can be done simultaneously in two forward and one backward pass. It is scalable to large models.\n",
        "\n",
        "This notebook implements **Attribution patching**. It:\n",
        "- Runs with GPT2/TinyStories/Qwen/Llama models with base/CS1/CS2/CS3 command sets.\n",
        "- Was developed on Google Colab using an **A100** for Qwen and a **T4** for other models.\n",
        "- Requires a GITHUB_TOKEN secret to access Martian TinySQL code repository.\n",
        "- Requires a HF_TOKEN secret to access Martian HuggingFace repository."
      ]
    },
    {
      "cell_type": "markdown",
      "metadata": {
        "id": "z1tQZgLUnojc"
      },
      "source": [
        "# Part 0: Import libraries\n",
        "Imports standard libraries. Do not read."
      ]
    },
    {
      "cell_type": "code",
      "execution_count": null,
      "metadata": {
        "id": "qt2jt2bHcY2v"
      },
      "outputs": [],
      "source": [
        "# https://nnsight.net/\n",
        "!pip install -U nnsight"
      ]
    },
    {
      "cell_type": "code",
      "execution_count": null,
      "metadata": {
        "id": "jSsUMYr3h0lD"
      },
      "outputs": [],
      "source": [
        "from IPython.display import clear_output\n",
        "import einops\n",
        "import torch\n",
        "import plotly.express as px\n",
        "import plotly.io as pio\n",
        "pio.renderers.default = \"colab\"\n",
        "import numpy as np\n",
        "\n",
        "from nnsight import LanguageModel"
      ]
    },
    {
      "cell_type": "code",
      "execution_count": null,
      "metadata": {
        "id": "orVn0wTnosHO"
      },
      "outputs": [],
      "source": [
        "import os\n",
        "from google.colab import userdata\n",
        "import itertools"
      ]
    },
    {
      "cell_type": "code",
      "source": [
        "!pip install datasets"
      ],
      "metadata": {
        "id": "PJOOHB6LVMXS"
      },
      "execution_count": null,
      "outputs": []
    },
    {
      "cell_type": "code",
      "execution_count": null,
      "metadata": {
        "id": "BMWEb8TJoske"
      },
      "outputs": [],
      "source": [
        "github_token = userdata.get(\"GITHUB_TOKEN\")\n",
        "\n",
        "# Install the private repository using the token\n",
        "!pip install --upgrade git+https://{github_token}@github.com/withmartian/TinySQL.git\n",
        "\n",
        "import TinySQL as qts"
      ]
    },
    {
      "cell_type": "code",
      "source": [
        "!pip install --upgrade git+https://github.com/PhilipQuirke/quanta_mech_interp.git\n",
        "import QuantaMechInterp as qmi"
      ],
      "metadata": {
        "id": "WKAVW6GPw9DU"
      },
      "execution_count": null,
      "outputs": []
    },
    {
      "cell_type": "markdown",
      "metadata": {
        "id": "8jE5u12LVhvn"
      },
      "source": [
        "# Select model and command set"
      ]
    },
    {
      "cell_type": "code",
      "execution_count": null,
      "metadata": {
        "id": "XwBxuEUiVXOC"
      },
      "outputs": [],
      "source": [
        "model_num = 1                      # 0=GPT2, 1=TinyStories, 2=Qwen, 3=Llama, 4=Granite, 5=SmolLM\n",
        "cs_num = 2                         # 0=BaseModel, 1=CS1, 2=CS2 or 3=CS3"
      ]
    },
    {
      "cell_type": "markdown",
      "metadata": {
        "id": "S-TNF3PVlGV0"
      },
      "source": [
        "# Investigate m0 : nnsight tutorial using GPT2\n",
        "Reproduces https://nnsight.net/notebooks/tutorials/activation_patching/\n",
        "\n"
      ]
    },
    {
      "cell_type": "code",
      "execution_count": null,
      "metadata": {
        "id": "kigWC3CglGlE"
      },
      "outputs": [],
      "source": [
        "if model_num == 0:\n",
        "    feature_name = \"\"\n",
        "    model = LanguageModel(\"openai-community/gpt2\", device_map=\"auto\", dispatch=True)\n",
        "    clear_output()\n",
        "    print(model)"
      ]
    },
    {
      "cell_type": "code",
      "execution_count": null,
      "metadata": {
        "id": "_U3UgYC0lRpa"
      },
      "outputs": [],
      "source": [
        "answer_token_indices = None\n",
        "if model_num == 0:\n",
        "    prompts = [\n",
        "        \"When John and Mary went to the shops, John gave the bag to\",\n",
        "        \"When John and Mary went to the shops, Mary gave the bag to\",\n",
        "        \"When Tom and James went to the park, James gave the ball to\",\n",
        "        \"When Tom and James went to the park, Tom gave the ball to\",\n",
        "        \"When Dan and Sid went to the shops, Sid gave an apple to\",\n",
        "        \"When Dan and Sid went to the shops, Dan gave an apple to\",\n",
        "        \"After Martin and Amy went to the park, Amy gave a drink to\",\n",
        "        \"After Martin and Amy went to the park, Martin gave a drink to\",\n",
        "    ]\n",
        "\n",
        "    # Answers are each formatted as (correct, incorrect):\n",
        "    answer_pairs = [\n",
        "        (\" Mary\", \" John\"),\n",
        "        (\" John\", \" Mary\"),\n",
        "        (\" Tom\", \" James\"),\n",
        "        (\" James\", \" Tom\"),\n",
        "        (\" Dan\", \" Sid\"),\n",
        "        (\" Sid\", \" Dan\"),\n",
        "        (\" Martin\", \" Amy\"),\n",
        "        (\" Amy\", \" Martin\"),\n",
        "    ]\n",
        "\n",
        "    # Tokenize clean and corrupted inputs:\n",
        "    clean_tokens = model.tokenizer(prompts, return_tensors=\"pt\")[\"input_ids\"]\n",
        "    # The associated corrupted input is the prompt after the current clean prompt\n",
        "    # for even indices, or the prompt prior to the current clean prompt for odd indices\n",
        "    corrupted_tokens = clean_tokens[\n",
        "        [(i + 1 if i % 2 == 0 else i - 1) for i in range(len(clean_tokens))]\n",
        "    ]\n",
        "\n",
        "    # Tokenize answer_pairs for each prompt:\n",
        "    answer_token_indices = torch.tensor(\n",
        "        [\n",
        "            [model.tokenizer(answer_pairs[i][j])[\"input_ids\"][0] for j in range(2)]\n",
        "            for i in range(len(answer_pairs))\n",
        "        ]\n",
        "    )"
      ]
    },
    {
      "cell_type": "code",
      "execution_count": null,
      "metadata": {
        "id": "Vz_E9jx7lWt1"
      },
      "outputs": [],
      "source": [
        "def get_logit_diff(logits, answer_token_indices):\n",
        "    logits = logits[:, -1, :]\n",
        "    correct_logits = logits.gather(1, answer_token_indices[:, 0].unsqueeze(1))\n",
        "    incorrect_logits = logits.gather(1, answer_token_indices[:, 1].unsqueeze(1))\n",
        "    return (correct_logits - incorrect_logits).mean()"
      ]
    },
    {
      "cell_type": "code",
      "execution_count": null,
      "metadata": {
        "id": "nQbwmln550jO"
      },
      "outputs": [],
      "source": [
        "if model_num == 0:\n",
        "    clean_logits = model.trace(clean_tokens, trace=False).logits.cpu()\n",
        "    corrupted_logits = model.trace(corrupted_tokens, trace=False).logits.cpu()\n",
        "\n",
        "    clean_baseline = get_logit_diff(clean_logits, answer_token_indices).item()\n",
        "    print(f\"Clean logit diff: {clean_baseline:.4f}\")\n",
        "\n",
        "    corrupted_baseline = get_logit_diff(corrupted_logits, answer_token_indices).item()\n",
        "    print(f\"Corrupted logit diff: {corrupted_baseline:.4f}\")"
      ]
    },
    {
      "cell_type": "code",
      "execution_count": null,
      "metadata": {
        "id": "5huZDOxP54xe"
      },
      "outputs": [],
      "source": [
        "def ioi_metric(\n",
        "    logits,\n",
        "    answer_token_indices,\n",
        "):\n",
        "    return (get_logit_diff(logits, answer_token_indices) - corrupted_baseline) / (\n",
        "        clean_baseline - corrupted_baseline\n",
        "    )"
      ]
    },
    {
      "cell_type": "code",
      "execution_count": null,
      "metadata": {
        "id": "A9p9Oig79wLb"
      },
      "outputs": [],
      "source": [
        "if model_num == 0:\n",
        "    print(f\"Clean Baseline is 1: {ioi_metric(clean_logits, answer_token_indices).item():.4f}\")\n",
        "    print(f\"Corrupted Baseline is 0: {ioi_metric(corrupted_logits, answer_token_indices).item():.4f}\")"
      ]
    },
    {
      "cell_type": "code",
      "execution_count": null,
      "metadata": {
        "id": "hE3kLr-Pm57W"
      },
      "outputs": [],
      "source": [
        "if model_num == 0:\n",
        "    clean_out = []\n",
        "    corrupted_out = []\n",
        "    corrupted_grads = []\n",
        "\n",
        "    with model.trace() as tracer:\n",
        "        # Using nnsight's tracer.invoke context, we can batch the clean and the\n",
        "        # corrupted runs into the same tracing context, allowing us to access\n",
        "        # information generated within each of these runs within one forward pass\n",
        "\n",
        "        with tracer.invoke(clean_tokens) as invoker_clean:\n",
        "            # Gather each layer's attention\n",
        "            for layer in model.transformer.h:\n",
        "                # Get clean attention output for this layer\n",
        "                # across all attention heads\n",
        "                attn_out = layer.attn.c_proj.input\n",
        "                clean_out.append(attn_out.save())\n",
        "\n",
        "        with tracer.invoke(corrupted_tokens) as invoker_corrupted:\n",
        "            # Gather each layer's attention and gradients\n",
        "            for layer in model.transformer.h:\n",
        "                # Get corrupted attention output for this layer\n",
        "                # across all attention heads\n",
        "                attn_out = layer.attn.c_proj.input\n",
        "                corrupted_out.append(attn_out.save())\n",
        "                # save corrupted gradients for attribution patching\n",
        "                corrupted_grads.append(attn_out.grad.save())\n",
        "\n",
        "            # Let's get the logits for the model's output\n",
        "            # for the corrupted run\n",
        "            logits = model.lm_head.output.save()\n",
        "\n",
        "            # Our metric uses tensors saved on cpu, so we\n",
        "            # need to move the logits to cpu.\n",
        "            value = ioi_metric(logits.cpu())\n",
        "\n",
        "            # We also need to run a backwards pass to\n",
        "            # update gradient values\n",
        "            value.backward()"
      ]
    },
    {
      "cell_type": "code",
      "execution_count": null,
      "metadata": {
        "id": "CDjDoNYi6Q6O"
      },
      "outputs": [],
      "source": [
        "if model_num == 0:\n",
        "    N_HEADS = 12\n",
        "    D_HEAD = 64"
      ]
    },
    {
      "cell_type": "markdown",
      "metadata": {
        "id": "JTFsU6BnYoKu"
      },
      "source": [
        "Results graphed in \"Shared graph code\" section below"
      ]
    },
    {
      "cell_type": "markdown",
      "metadata": {
        "id": "y72URtyynvnv"
      },
      "source": [
        "# Investigate m1, m2 and m3 models"
      ]
    },
    {
      "cell_type": "markdown",
      "metadata": {
        "id": "lUZoOBqxn72y"
      },
      "source": [
        "## Load model"
      ]
    },
    {
      "cell_type": "code",
      "execution_count": null,
      "metadata": {
        "id": "oFaFTy6LnbxI"
      },
      "outputs": [],
      "source": [
        "if model_num > 0:\n",
        "    model = qts.load_tinysql_model(model_num, cs_num, auth_token=userdata.get(\"HF_TOKEN\"))\n",
        "    clear_output()\n",
        "    print(model)\n",
        "\n",
        "    N_LAYERS, N_HEADS, D_MODEL, D_HEAD = qts.get_model_sizes(model_num, model)\n",
        "\n",
        "    # Singleton QuantaTool \"main\" configuration class. qmi.AlgoConfig is derived from the chain qmi.UsefulConfig > qmi.ModelConfig\n",
        "    cfg = qmi.AlgoConfig()\n",
        "    cfg.main_model = model\n",
        "    cfg.n_layers = N_LAYERS\n",
        "    cfg.n_heads = N_HEADS\n",
        "    cfg.d_model = D_MODEL\n",
        "    cfg.d_head = D_HEAD\n",
        "    cfg.file_config_prefix = \"\"\n",
        "    cfg.set_seed(673023)"
      ]
    },
    {
      "cell_type": "markdown",
      "metadata": {
        "id": "vklnA0J8n-01"
      },
      "source": [
        "## Generate clean and corrupted data"
      ]
    },
    {
      "cell_type": "code",
      "source": [
        "def get_clean_and_corrupt_data( generator, examples ):\n",
        "\n",
        "    # Index of prompt token to corrupt\n",
        "    prompt_token_index = examples[0].prompt_token_index\n",
        "    # Index of answer token we expect to be impacted\n",
        "    answer_token_index = examples[0].answer_token_index\n",
        "\n",
        "    prompts = [(example.get_alpaca_prompt() + example.sql_statement) for example in examples][:answer_token_index]\n",
        "\n",
        "    # Generate answers as (correct, incorrect) pairs\n",
        "    answer_pairs = [(example.clean_token_str, example.corrupt_token_str) for example in examples]\n",
        "\n",
        "    # Tokenize clean inputs\n",
        "    clean_tokens = model.tokenizer(prompts, return_tensors=\"pt\", padding=True)[\"input_ids\"]\n",
        "\n",
        "    # Different models tokenize differently giving different indexes for the corrupted text\n",
        "    answer_offset = generator.tokenize_answer_offset()\n",
        "\n",
        "    # Create corrupted tokens using circular rotation\n",
        "    corrupted_tokens = clean_tokens.clone()\n",
        "    for i in range(len(prompts)):\n",
        "        next_idx = (i + 1) % len(prompts)\n",
        "        corrupted_tokens[i, prompt_token_index] = clean_tokens[next_idx, prompt_token_index]\n",
        "\n",
        "    # Tokenize answer_pairs\n",
        "    answer_token_indices = torch.tensor([\n",
        "        [model.tokenizer(pair[j])[\"input_ids\"][answer_offset] for j in range(2)]\n",
        "        for pair in answer_pairs\n",
        "    ])\n",
        "\n",
        "    return clean_tokens, corrupted_tokens, answer_token_indices"
      ],
      "metadata": {
        "id": "p1kdUTJFg0j8"
      },
      "execution_count": null,
      "outputs": []
    },
    {
      "cell_type": "markdown",
      "metadata": {
        "id": "EiJYH8L-oDKU"
      },
      "source": [
        "## Trace clean and corrupted (batched) examples"
      ]
    },
    {
      "cell_type": "code",
      "execution_count": null,
      "metadata": {
        "id": "_2XPtBZq9s9H"
      },
      "outputs": [],
      "source": [
        "def get_clean_and_corrupt_baselines( clean_tokens, corrupted_tokens, answer_token_indices ):\n",
        "    clean_logits = model.trace(clean_tokens, trace=False).logits.cpu()\n",
        "    corrupted_logits = model.trace(corrupted_tokens, trace=False).logits.cpu()\n",
        "\n",
        "    clean_baseline = get_logit_diff(clean_logits, answer_token_indices).item()\n",
        "\n",
        "    corrupted_baseline = get_logit_diff(corrupted_logits, answer_token_indices).item()\n",
        "\n",
        "    return clean_logits, corrupted_logits, clean_baseline, corrupted_baseline"
      ]
    },
    {
      "cell_type": "code",
      "execution_count": null,
      "metadata": {
        "id": "t03LdQ9-Bllb"
      },
      "outputs": [],
      "source": [
        "def sql_metric(\n",
        "    logits,\n",
        "    clean_baseline,\n",
        "    corrupted_baseline,\n",
        "    answer_token_indices,\n",
        "):\n",
        "    return (get_logit_diff(logits, answer_token_indices) - corrupted_baseline) / (\n",
        "        clean_baseline - corrupted_baseline\n",
        "    )"
      ]
    },
    {
      "cell_type": "code",
      "execution_count": null,
      "metadata": {
        "id": "Tg99jxpZ94LF"
      },
      "outputs": [],
      "source": [
        "def trace_clean_and_corrupt_tinysql( clean_tokens, clean_baseline, corrupted_tokens, corrupted_baseline, answer_token_indices ):\n",
        "    clean_out = []\n",
        "    corrupted_out = []\n",
        "    corrupted_grads = []\n",
        "\n",
        "    with model.trace() as tracer:\n",
        "        # Using nnsight's tracer.invoke context, we can batch the clean and the\n",
        "        # corrupted runs into the same tracing context, allowing us to access\n",
        "        # information generated within each of these runs within one forward pass\n",
        "\n",
        "        with tracer.invoke(clean_tokens) as invoker_clean:\n",
        "            # Gather each layer's attention\n",
        "            for layer in model.transformer.h:\n",
        "                # Get clean attention output for this layer\n",
        "                # across all attention heads\n",
        "                attn_out = layer.attn.input\n",
        "                clean_out.append(attn_out.save())\n",
        "\n",
        "        with tracer.invoke(corrupted_tokens) as invoker_corrupted:\n",
        "            # Gather each layer's attention and gradients\n",
        "            for layer in model.transformer.h:\n",
        "                # Get corrupted attention output for this layer\n",
        "                # across all attention heads\n",
        "                attn_out = layer.attn.input\n",
        "                corrupted_out.append(attn_out.save())\n",
        "                # save corrupted gradients for attribution patching\n",
        "                corrupted_grads.append(attn_out.grad.save())\n",
        "\n",
        "            # Let's get the logits for the model's output\n",
        "            # for the corrupted run\n",
        "            logits = model.lm_head.output.save()\n",
        "\n",
        "            # Our metric uses tensors saved on cpu, so we\n",
        "            # need to move the logits to cpu.\n",
        "            value = sql_metric(logits.cpu(), clean_baseline, corrupted_baseline, answer_token_indices)\n",
        "\n",
        "            # We also need to run a backwards pass to\n",
        "            # update gradient values\n",
        "            value.backward()\n",
        "\n",
        "    qts.free_memory() # Free up GPU and CPU memory\n",
        "\n",
        "    return clean_out, corrupted_out, corrupted_grads"
      ]
    },
    {
      "cell_type": "code",
      "execution_count": null,
      "metadata": {
        "id": "p9vRt9g5S1Af"
      },
      "outputs": [],
      "source": [
        "def trace_clean_and_corrupt_llm( clean_tokens, clean_baseline, corrupted_tokens, corrupted_baseline, answer_token_indices ):\n",
        "    clean_out = []\n",
        "    corrupted_out = []\n",
        "    corrupted_grads = []\n",
        "\n",
        "    with model.trace() as tracer:\n",
        "        # Using nnsight's tracer.invoke context, we can batch the clean and the\n",
        "        # corrupted runs into the same tracing context, allowing us to access\n",
        "        # information generated within each of these runs within one forward pass\n",
        "\n",
        "        with tracer.invoke(clean_tokens) as invoker_clean:\n",
        "            # Gather each layer's attention\n",
        "            for layer in model.model.layers:\n",
        "                # Get clean attention output for this layer\n",
        "                # across all attention heads\n",
        "                #tracer.log(\"layer shape\", layer)\n",
        "                attn_out = layer.input\n",
        "                clean_out.append(attn_out.save())\n",
        "\n",
        "        with tracer.invoke(corrupted_tokens) as invoker_corrupted:\n",
        "            # Gather each layer's attention and gradients\n",
        "            for layer in model.model.layers:\n",
        "                # Get corrupted attention output for this layer\n",
        "                # across all attention heads\n",
        "                attn_out = layer.input\n",
        "                corrupted_out.append(attn_out.save())\n",
        "                # save corrupted gradients for attribution patching\n",
        "                corrupted_grads.append(attn_out.grad.save())\n",
        "\n",
        "            # Let's get the logits for the model's output\n",
        "            # for the corrupted run\n",
        "            logits = model.lm_head.output.save()\n",
        "\n",
        "            # Our metric uses tensors saved on cpu, so we\n",
        "            # need to move the logits to cpu.\n",
        "            value = sql_metric(logits.cpu(), clean_baseline, corrupted_baseline, answer_token_indices)\n",
        "\n",
        "            # We also need to run a backwards pass to\n",
        "            # update gradient values\n",
        "            value.backward()\n",
        "\n",
        "    qts.free_memory() # Free up GPU and CPU memory\n",
        "\n",
        "    return clean_out, corrupted_out, corrupted_grads"
      ]
    },
    {
      "cell_type": "markdown",
      "metadata": {
        "id": "gSWFWRlVYDnb"
      },
      "source": [
        "# Graph logit changes by attention head\n",
        "Heatmap to examine how the logit difference changes after patching each layer’s output across attention heads."
      ]
    },
    {
      "cell_type": "code",
      "execution_count": null,
      "metadata": {
        "id": "X45D8qyn99FD"
      },
      "outputs": [],
      "source": [
        "def get_attention_head_results(clean_out, corrupted_grads, corrupted_out):\n",
        "    attention_head_results = []\n",
        "\n",
        "    for corrupted_grad, corrupted, clean, layer in zip(\n",
        "        corrupted_grads, corrupted_out, clean_out, range(len(clean_out))\n",
        "    ):\n",
        "\n",
        "        residual_attr = einops.reduce(\n",
        "            corrupted_grad.value[:,-1,:] * (clean.value[:,-1,:] - corrupted.value[:,-1,:]),\n",
        "            \"batch (head dim) -> head\",\n",
        "            \"sum\",\n",
        "            head = N_HEADS,\n",
        "            dim = D_HEAD,\n",
        "        )\n",
        "\n",
        "        attention_head_results.append(\n",
        "            residual_attr.detach().cpu().numpy()\n",
        "        )\n",
        "\n",
        "    return attention_head_results"
      ]
    },
    {
      "cell_type": "code",
      "execution_count": null,
      "metadata": {
        "id": "K0taib_I9_xS"
      },
      "outputs": [],
      "source": [
        "def show_attention_head_results(attention_head_results):\n",
        "\n",
        "    fig = px.imshow(\n",
        "        attention_head_results,\n",
        "        color_continuous_scale=\"RdBu\",\n",
        "        color_continuous_midpoint=0.0,\n",
        "        title=\"Attribution Patching Over Attention Heads: \" + feature_name,\n",
        "        labels={\"x\": \"Head\", \"y\": \"Layer\",\"color\":\"Norm. Logit Diff\"},\n",
        "    )\n",
        "\n",
        "    fig.show()"
      ]
    },
    {
      "cell_type": "markdown",
      "metadata": {
        "id": "sRWiw6wUpCEt"
      },
      "source": [
        "# Graph logit changes by token position\n",
        "Heatmap to examine how the logit difference changes after patching each layer’s output across token positions."
      ]
    },
    {
      "cell_type": "code",
      "execution_count": null,
      "metadata": {
        "id": "Vrc_tQk7WOtZ"
      },
      "outputs": [],
      "source": [
        "def get_token_pos_results(clean_out, corrupted_grads, corrupted_out):\n",
        "    token_pos_results = []\n",
        "\n",
        "    for corrupted_grad, corrupted, clean, layer in zip(\n",
        "        corrupted_grads, corrupted_out, clean_out, range(len(clean_out))\n",
        "    ):\n",
        "\n",
        "        residual_attr = einops.reduce(\n",
        "            corrupted_grad.value * (clean.value - corrupted.value),\n",
        "            \"batch pos dim -> pos\",\n",
        "            \"sum\",\n",
        "        )\n",
        "\n",
        "        token_pos_results.append(\n",
        "            residual_attr.detach().cpu().numpy()\n",
        "        )\n",
        "\n",
        "    return token_pos_results"
      ]
    },
    {
      "cell_type": "code",
      "execution_count": null,
      "metadata": {
        "id": "jAmACdVYWUGC"
      },
      "outputs": [],
      "source": [
        "def show_token_pos_results(token_pos_results):\n",
        "    fig = px.imshow(\n",
        "        token_pos_results,\n",
        "        color_continuous_scale=\"RdBu\",\n",
        "        color_continuous_midpoint=0.0,\n",
        "        title=\"Attribution Patching Over Token Position: \" + feature_name,\n",
        "        labels={\"x\": \"Token Position\", \"y\": \"Layer\",\"color\":\"Norm. Logit Diff\"},\n",
        "    )\n",
        "\n",
        "    fig.show()"
      ]
    },
    {
      "cell_type": "markdown",
      "source": [
        "# Graph logit changes by layer+head vs token position\n"
      ],
      "metadata": {
        "id": "7ehgoyFbtS_U"
      }
    },
    {
      "cell_type": "code",
      "source": [
        "def show_logit_changes_by_node( example0, feature_name, use_novel_names, use_synonyms_table, use_synonyms_field, clean_out, corrupted_out, corrupted_grads, answer_token_indices ):\n",
        "\n",
        "    pos_layer_attnhead_results = []\n",
        "    for layer_idx, (cg, corr, cln) in enumerate(zip(corrupted_grads, corrupted_out, clean_out)):\n",
        "        # cg.value, corr.value, cln.value = shape [batch, pos, hidden_dim]\n",
        "        residual_attr = cg.value * (cln.value - corr.value)\n",
        "\n",
        "        # Rearrange 3D -> 4D: [batch, pos, hidden_dim] -> [batch, pos, head, d_head]\n",
        "        residual_attr = einops.rearrange(\n",
        "            residual_attr,\n",
        "            \"batch pos (head d_head) -> batch pos head d_head\",\n",
        "            head=N_HEADS\n",
        "        )\n",
        "\n",
        "        # Sum over batch and d_head => shape [pos, head]\n",
        "        residual_attr = einops.reduce(\n",
        "            residual_attr,\n",
        "            \"batch pos head d_head -> pos head\",\n",
        "            \"sum\",\n",
        "        )\n",
        "\n",
        "        # (Optionally) transpose => shape [head, pos], depending on how you want your axes\n",
        "        residual_attr = residual_attr.T  # [head, pos]\n",
        "\n",
        "        pos_layer_attnhead_results.append(residual_attr.detach().cpu().numpy())\n",
        "\n",
        "    # Now stack along axis=0 for each layer => final shape [num_layers * num_heads, pos]\n",
        "    final_matrix = np.concatenate(pos_layer_attnhead_results, axis=0)\n",
        "\n",
        "    num_layers = len(corrupted_out)\n",
        "    layer_head_labels = []\n",
        "    for layer_idx in range(num_layers):\n",
        "        for head_idx in range(N_HEADS):\n",
        "            layer_head_labels.append(f\"L{layer_idx}H{head_idx}\")\n",
        "\n",
        "    fig = px.imshow(\n",
        "        final_matrix,\n",
        "        color_continuous_scale=\"RdBu\",\n",
        "        color_continuous_midpoint=0.0,\n",
        "        labels={\"x\": \"Token Position\", \"y\": \"Layer/Head\", \"color\": \"Norm. Logit Diff\"},\n",
        "        title=\"Attribution Patching Over (Layer, Head) vs. Token Position\",\n",
        "    )\n",
        "\n",
        "    # Use our layer_head_labels on the y-axis\n",
        "    fig.update_yaxes(\n",
        "        tickmode=\"array\",\n",
        "        tickvals=list(range(len(layer_head_labels))),\n",
        "        ticktext=layer_head_labels\n",
        "    )\n",
        "\n",
        "    # Set the figure size (in pixels), reduce margins, etc.\n",
        "    fig.update_layout(\n",
        "        width=800,\n",
        "        height=600,\n",
        "        margin=dict(l=20, r=20, t=50, b=20),\n",
        "    )\n",
        "\n",
        "    fig.show()"
      ],
      "metadata": {
        "id": "GacbMUXfsmBd"
      },
      "execution_count": null,
      "outputs": []
    },
    {
      "cell_type": "markdown",
      "source": [
        "# Set up experiments"
      ],
      "metadata": {
        "id": "o5V3w5tPhM5Q"
      }
    },
    {
      "cell_type": "code",
      "source": [
        "if model_num > 0:\n",
        "    N_LAYERS, N_HEADS, D_MODEL, D_HEAD = qts.get_model_sizes(model_num, model, cs_num)"
      ],
      "metadata": {
        "id": "GeYZbMQwX_bk"
      },
      "execution_count": null,
      "outputs": []
    },
    {
      "cell_type": "code",
      "source": [
        "use_novel_names_list = [False]       # Novel words are not 1 token. So do not corrupt prompt with novel words\n",
        "use_synonyms_table_list = [True,False]    # In english Instructions, use a synonym for 80% of table names?\n",
        "use_synonyms_field_list = [False]         # In english Instructions, use a synonym for 50% of field names?"
      ],
      "metadata": {
        "id": "j0elwxs6gBeH"
      },
      "execution_count": null,
      "outputs": []
    },
    {
      "cell_type": "code",
      "source": [
        "def run_experiments( feature_name ):\n",
        "    global feature_name_list, use_novel_names_list, use_synonyms_table_list, use_synonyms_field_list\n",
        "\n",
        "    for (use_novel_names, use_synonyms_table, use_synonyms_field) in itertools.product(use_novel_names_list, use_synonyms_table_list, use_synonyms_field_list):\n",
        "        generator = qts.CorruptFeatureTestGenerator(model_num=model_num, cs_num=cs_num, tokenizer=model.tokenizer, use_novel_names=use_novel_names, use_synonyms_table=use_synonyms_table, use_synonyms_field=use_synonyms_field )\n",
        "\n",
        "        examples = generator.generate_feature_examples(feature_name, 10)\n",
        "        example0 = examples[0]\n",
        "\n",
        "        clean_prompt_str = example0.get_alpaca_prompt()\n",
        "        clean_prompt_tokens = model.tokenizer(clean_prompt_str)[\"input_ids\"]\n",
        "\n",
        "        clean_tokens, corrupted_tokens, answer_token_indices = get_clean_and_corrupt_data( generator, examples )\n",
        "        clean_logits, corrupted_logits, clean_baseline, corrupted_baseline = get_clean_and_corrupt_baselines(clean_tokens, corrupted_tokens, answer_token_indices )\n",
        "\n",
        "        print(\"Feature name:\", feature_name)\n",
        "        print(\"Use synonyms table:\", use_synonyms_table)\n",
        "        print(\"Use synonyms field:\", use_synonyms_field)\n",
        "        print(\"Clean prompt  :\", clean_prompt_str )\n",
        "        print(\"Corrupt prompt:\", example0.corrupt_BatchItem.get_alpaca_prompt() )\n",
        "        print(\"Prompt token index:\", example0.prompt_token_index, \"of\", len(clean_prompt_tokens) )\n",
        "        print(\"Answer token index:\", example0.answer_token_index)\n",
        "        print(f\"Clean logit diff: {clean_baseline:.4f}\")\n",
        "        print(f\"Corrupted logit diff: {corrupted_baseline:.4f}\")\n",
        "        print(f\"Clean Baseline is 1: {sql_metric(clean_logits, clean_baseline, corrupted_baseline, answer_token_indices).item():.4f}\")\n",
        "        print(f\"Corrupted Baseline is 0: {sql_metric(corrupted_logits, clean_baseline, corrupted_baseline, answer_token_indices).item():.4f}\")\n",
        "\n",
        "        if model_num == 1: # TinyStories\n",
        "            clean_out, corrupted_out, corrupted_grads = trace_clean_and_corrupt_tinysql( clean_tokens, clean_baseline, corrupted_tokens, corrupted_baseline, answer_token_indices )\n",
        "        elif model_num == 2 or model_num == 3: # Qwen or Llama\n",
        "            clean_out, corrupted_out, corrupted_grads = trace_clean_and_corrupt_llm( clean_tokens, clean_baseline, corrupted_tokens, corrupted_baseline, answer_token_indices )\n",
        "\n",
        "        #attention_head_results = get_attention_head_results(clean_out, corrupted_grads, corrupted_out)\n",
        "        #show_attention_head_results(attention_head_results)\n",
        "\n",
        "        #token_pos_results = get_token_pos_results(clean_out, corrupted_grads, corrupted_out)\n",
        "        #show_token_pos_results(token_pos_results)\n",
        "\n",
        "        show_logit_changes_by_node( example0, feature_name, use_novel_names, use_synonyms_table, use_synonyms_field, clean_out, corrupted_out, corrupted_grads, answer_token_indices )\n"
      ],
      "metadata": {
        "id": "My7rHVXrgNQ7"
      },
      "execution_count": null,
      "outputs": []
    },
    {
      "cell_type": "markdown",
      "source": [
        "# Run experiments"
      ],
      "metadata": {
        "id": "od7LMensUDsH"
      }
    },
    {
      "cell_type": "markdown",
      "source": [
        "## Run experiment - DefTableName"
      ],
      "metadata": {
        "id": "1bSHp6qlXhyV"
      }
    },
    {
      "cell_type": "code",
      "source": [
        "run_experiments(qts.DEFTABLENAME)"
      ],
      "metadata": {
        "id": "9oA7nbRSTp4U"
      },
      "execution_count": null,
      "outputs": []
    },
    {
      "cell_type": "markdown",
      "source": [
        "## Run experiment - EngTableName"
      ],
      "metadata": {
        "id": "Bx8EcPIfXnIH"
      }
    },
    {
      "cell_type": "code",
      "source": [
        "run_experiments(qts.ENGTABLENAME)"
      ],
      "metadata": {
        "id": "zuEPwyzeTyNZ"
      },
      "execution_count": null,
      "outputs": []
    },
    {
      "cell_type": "markdown",
      "source": [
        "## Run experiment - DefFieldName"
      ],
      "metadata": {
        "id": "ctQRO4ZcXplq"
      }
    },
    {
      "cell_type": "code",
      "source": [
        "run_experiments(qts.DEFFIELDNAME)"
      ],
      "metadata": {
        "id": "BQMeVgUqTyRd"
      },
      "execution_count": null,
      "outputs": []
    },
    {
      "cell_type": "markdown",
      "source": [
        "## Run experiment - EngFieldName"
      ],
      "metadata": {
        "id": "TLXcQk_cXsHt"
      }
    },
    {
      "cell_type": "code",
      "source": [
        "run_experiments(qts.ENGFIELDNAME)"
      ],
      "metadata": {
        "id": "RILXHkwpTypv"
      },
      "execution_count": null,
      "outputs": []
    }
  ],
  "metadata": {
    "accelerator": "GPU",
    "colab": {
      "collapsed_sections": [
        "z1tQZgLUnojc",
        "8jE5u12LVhvn",
        "lUZoOBqxn72y",
        "gSWFWRlVYDnb",
        "sRWiw6wUpCEt",
        "7ehgoyFbtS_U",
        "1bSHp6qlXhyV"
      ],
      "gpuType": "T4",
      "machine_shape": "hm",
      "provenance": []
    },
    "kernelspec": {
      "display_name": "Python 3",
      "name": "python3"
    },
    "language_info": {
      "name": "python"
    }
  },
  "nbformat": 4,
  "nbformat_minor": 0
}