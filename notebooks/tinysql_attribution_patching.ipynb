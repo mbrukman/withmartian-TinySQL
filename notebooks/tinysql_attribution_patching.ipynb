{
  "cells": [
    {
      "cell_type": "markdown",
      "metadata": {
        "id": "yQAsYjSQVXHC"
      },
      "source": [
        "# Attribution Patching on M0 to M5 models using nnsight\n",
        "- Developed on Google Colab using an A100 with 40GB GPU and 80GB system RAM.\n",
        "- Runs with GPT2/TinyStories/Qwen/Llama/Granite/SmolLM with base/CS1/CS2/CS3.\n",
        "- Requires a GITHUB_TOKEN secret to access Martian quanta_text_to_sql code repository.\n",
        "- Requires a HF_TOKEN secret to access Martian HuggingFace repository."
      ]
    },
    {
      "cell_type": "markdown",
      "metadata": {
        "id": "z1tQZgLUnojc"
      },
      "source": [
        "# Part 0: Import libraries\n",
        "Imports standard libraries. Do not read."
      ]
    },
    {
      "cell_type": "code",
      "execution_count": null,
      "metadata": {
        "id": "qt2jt2bHcY2v"
      },
      "outputs": [],
      "source": [
        "# https://nnsight.net/\n",
        "!pip install -U nnsight"
      ]
    },
    {
      "cell_type": "code",
      "execution_count": null,
      "metadata": {
        "id": "jSsUMYr3h0lD"
      },
      "outputs": [],
      "source": [
        "from IPython.display import clear_output\n",
        "import einops\n",
        "import torch\n",
        "import plotly.express as px\n",
        "import plotly.io as pio\n",
        "pio.renderers.default = \"colab\"\n",
        "\n",
        "from nnsight import LanguageModel"
      ]
    },
    {
      "cell_type": "code",
      "execution_count": null,
      "metadata": {
        "id": "orVn0wTnosHO"
      },
      "outputs": [],
      "source": [
        "import os\n",
        "from google.colab import userdata"
      ]
    },
    {
      "cell_type": "code",
      "execution_count": null,
      "metadata": {
        "id": "BMWEb8TJoske"
      },
      "outputs": [],
      "source": [
        "github_token = userdata.get(\"GITHUB_TOKEN\")\n",
        "\n",
        "# Install the private repository using the token\n",
        "!pip install --upgrade git+https://{github_token}@github.com/withmartian/quanta_text_to_sql.git\n",
        "\n",
        "import QuantaTextToSql as qts"
      ]
    },
    {
      "cell_type": "code",
      "source": [
        "patching_results = []"
      ],
      "metadata": {
        "id": "J_Nvw2aRn30q"
      },
      "execution_count": null,
      "outputs": []
    },
    {
      "cell_type": "markdown",
      "source": [
        "# Select model and command set"
      ],
      "metadata": {
        "id": "8jE5u12LVhvn"
      }
    },
    {
      "cell_type": "code",
      "source": [
        "model_num = 2                # 0=GPT2, 1=TinyStories, 2=Qwen, 3=Llama, 4=Granite, 5=SmolLM\n",
        "cs_num = 1                   # 0=BaseModel, 1=CS1, 2=CS2 or 3=CS3"
      ],
      "metadata": {
        "id": "XwBxuEUiVXOC"
      },
      "execution_count": null,
      "outputs": []
    },
    {
      "cell_type": "markdown",
      "metadata": {
        "id": "S-TNF3PVlGV0"
      },
      "source": [
        "# Run m0 : nnsight tutorial using GPT2\n",
        "Based on https://nnsight.net/notebooks/tutorials/activation_patching/\n",
        "\n"
      ]
    },
    {
      "cell_type": "code",
      "execution_count": null,
      "metadata": {
        "id": "kigWC3CglGlE"
      },
      "outputs": [],
      "source": [
        "if model_num == 0:\n",
        "    model = LanguageModel(\"openai-community/gpt2\", device_map=\"auto\", dispatch=True)\n",
        "    clear_output()\n",
        "    print(model)"
      ]
    },
    {
      "cell_type": "code",
      "execution_count": null,
      "metadata": {
        "id": "_U3UgYC0lRpa"
      },
      "outputs": [],
      "source": [
        "answer_token_indices = None\n",
        "if model_num == 0:\n",
        "    prompts = [\n",
        "        \"When John and Mary went to the shops, John gave the bag to\",\n",
        "        \"When John and Mary went to the shops, Mary gave the bag to\",\n",
        "        \"When Tom and James went to the park, James gave the ball to\",\n",
        "        \"When Tom and James went to the park, Tom gave the ball to\",\n",
        "        \"When Dan and Sid went to the shops, Sid gave an apple to\",\n",
        "        \"When Dan and Sid went to the shops, Dan gave an apple to\",\n",
        "        \"After Martin and Amy went to the park, Amy gave a drink to\",\n",
        "        \"After Martin and Amy went to the park, Martin gave a drink to\",\n",
        "    ]\n",
        "\n",
        "    # Answers are each formatted as (correct, incorrect):\n",
        "    answers = [\n",
        "        (\" Mary\", \" John\"),\n",
        "        (\" John\", \" Mary\"),\n",
        "        (\" Tom\", \" James\"),\n",
        "        (\" James\", \" Tom\"),\n",
        "        (\" Dan\", \" Sid\"),\n",
        "        (\" Sid\", \" Dan\"),\n",
        "        (\" Martin\", \" Amy\"),\n",
        "        (\" Amy\", \" Martin\"),\n",
        "    ]\n",
        "\n",
        "    # Tokenize clean and corrupted inputs:\n",
        "    clean_tokens = model.tokenizer(prompts, return_tensors=\"pt\")[\"input_ids\"]\n",
        "    # The associated corrupted input is the prompt after the current clean prompt\n",
        "    # for even indices, or the prompt prior to the current clean prompt for odd indices\n",
        "    corrupted_tokens = clean_tokens[\n",
        "        [(i + 1 if i % 2 == 0 else i - 1) for i in range(len(clean_tokens))]\n",
        "    ]\n",
        "\n",
        "    # Tokenize answers for each prompt:\n",
        "    answer_token_indices = torch.tensor(\n",
        "        [\n",
        "            [model.tokenizer(answers[i][j])[\"input_ids\"][0] for j in range(2)]\n",
        "            for i in range(len(answers))\n",
        "        ]\n",
        "    )"
      ]
    },
    {
      "cell_type": "code",
      "execution_count": null,
      "metadata": {
        "id": "Vz_E9jx7lWt1"
      },
      "outputs": [],
      "source": [
        "def get_logit_diff(logits, answer_token_indices=answer_token_indices):\n",
        "    logits = logits[:, -1, :]\n",
        "    correct_logits = logits.gather(1, answer_token_indices[:, 0].unsqueeze(1))\n",
        "    incorrect_logits = logits.gather(1, answer_token_indices[:, 1].unsqueeze(1))\n",
        "    return (correct_logits - incorrect_logits).mean()"
      ]
    },
    {
      "cell_type": "code",
      "source": [
        "if model_num == 0:\n",
        "    clean_logits = model.trace(clean_tokens, trace=False).logits.cpu()\n",
        "    corrupted_logits = model.trace(corrupted_tokens, trace=False).logits.cpu()\n",
        "\n",
        "    CLEAN_BASELINE = get_logit_diff(clean_logits, answer_token_indices).item()\n",
        "    print(f\"Clean logit diff: {CLEAN_BASELINE:.4f}\")\n",
        "\n",
        "    CORRUPTED_BASELINE = get_logit_diff(corrupted_logits, answer_token_indices).item()\n",
        "    print(f\"Corrupted logit diff: {CORRUPTED_BASELINE:.4f}\")"
      ],
      "metadata": {
        "id": "nQbwmln550jO"
      },
      "execution_count": null,
      "outputs": []
    },
    {
      "cell_type": "code",
      "source": [
        "def ioi_metric(\n",
        "    logits,\n",
        "    answer_token_indices=answer_token_indices,\n",
        "):\n",
        "    return (get_logit_diff(logits, answer_token_indices) - CORRUPTED_BASELINE) / (\n",
        "        CLEAN_BASELINE - CORRUPTED_BASELINE\n",
        "    )"
      ],
      "metadata": {
        "id": "5huZDOxP54xe"
      },
      "execution_count": null,
      "outputs": []
    },
    {
      "cell_type": "code",
      "source": [
        "if model_num == 0:\n",
        "    print(f\"Clean Baseline is 1: {ioi_metric(clean_logits).item():.4f}\")\n",
        "    print(f\"Corrupted Baseline is 0: {ioi_metric(corrupted_logits).item():.4f}\")"
      ],
      "metadata": {
        "id": "A9p9Oig79wLb"
      },
      "execution_count": null,
      "outputs": []
    },
    {
      "cell_type": "code",
      "execution_count": null,
      "metadata": {
        "id": "hE3kLr-Pm57W"
      },
      "outputs": [],
      "source": [
        "if model_num == 0:\n",
        "    clean_out = []\n",
        "    corrupted_out = []\n",
        "    corrupted_grads = []\n",
        "\n",
        "    with model.trace() as tracer:\n",
        "        # Using nnsight's tracer.invoke context, we can batch the clean and the\n",
        "        # corrupted runs into the same tracing context, allowing us to access\n",
        "        # information generated within each of these runs within one forward pass\n",
        "\n",
        "        with tracer.invoke(clean_tokens) as invoker_clean:\n",
        "            # Gather each layer's attention\n",
        "            for layer in model.transformer.h:\n",
        "                # Get clean attention output for this layer\n",
        "                # across all attention heads\n",
        "                attn_out = layer.attn.c_proj.input\n",
        "                clean_out.append(attn_out.save())\n",
        "\n",
        "        with tracer.invoke(corrupted_tokens) as invoker_corrupted:\n",
        "            # Gather each layer's attention and gradients\n",
        "            for layer in model.transformer.h:\n",
        "                # Get corrupted attention output for this layer\n",
        "                # across all attention heads\n",
        "                attn_out = layer.attn.c_proj.input\n",
        "                corrupted_out.append(attn_out.save())\n",
        "                # save corrupted gradients for attribution patching\n",
        "                corrupted_grads.append(attn_out.grad.save())\n",
        "\n",
        "            # Let's get the logits for the model's output\n",
        "            # for the corrupted run\n",
        "            logits = model.lm_head.output.save()\n",
        "\n",
        "            # Our metric uses tensors saved on cpu, so we\n",
        "            # need to move the logits to cpu.\n",
        "            value = ioi_metric(logits.cpu())\n",
        "\n",
        "            # We also need to run a backwards pass to\n",
        "            # update gradient values\n",
        "            value.backward()"
      ]
    },
    {
      "cell_type": "code",
      "source": [
        "if model_num == 0:\n",
        "    for corrupted_grad, corrupted, clean, layer in zip(\n",
        "        corrupted_grads, corrupted_out, clean_out, range(len(clean_out))\n",
        "    ):\n",
        "\n",
        "        residual_attr = einops.reduce(\n",
        "            corrupted_grad.value[:,-1,:] * (clean.value[:,-1,:] - corrupted.value[:,-1,:]),\n",
        "            \"batch (head dim) -> head\",\n",
        "            \"sum\",\n",
        "            head = 12,\n",
        "            dim = 64,\n",
        "        )\n",
        "\n",
        "        patching_results.append(\n",
        "            residual_attr.detach().cpu().numpy()\n",
        "        )"
      ],
      "metadata": {
        "id": "CDjDoNYi6Q6O"
      },
      "execution_count": null,
      "outputs": []
    },
    {
      "cell_type": "markdown",
      "source": [
        "Results graphed in \"Shared graph code\" section below"
      ],
      "metadata": {
        "id": "JTFsU6BnYoKu"
      }
    },
    {
      "cell_type": "markdown",
      "metadata": {
        "id": "y72URtyynvnv"
      },
      "source": [
        "# Run m1, m2 and m3 models"
      ]
    },
    {
      "cell_type": "code",
      "execution_count": null,
      "metadata": {
        "id": "oFaFTy6LnbxI"
      },
      "outputs": [],
      "source": [
        "if model_num > 0:\n",
        "\n",
        "    if model_num == 1:\n",
        "        the_tokenizer, the_model = qts.load_sql_interp_model(model_num, cs_num, auth_token=userdata.get(\"HF_TOKEN\"), use_flash_attention=False)\n",
        "        model = LanguageModel(the_model, the_tokenizer)\n",
        "        model.tokenizer = the_tokenizer\n",
        "    else:\n",
        "        model = LanguageModel(qts.sql_interp_model_location(model_num, cs_num), device_map=\"auto\")\n",
        "\n",
        "    clear_output()\n",
        "    print(model)"
      ]
    },
    {
      "cell_type": "code",
      "source": [
        "if model_num > 0:\n",
        "    # Different models tokenize differently giving different indexes for the corrupted text\n",
        "    corrupt_index = 9 if model_num == 3 else 8\n",
        "    # Llama tokenizes \" size\" as [128000, 1404] where 128000 is the '<|begin_of_text|>' symbol\n",
        "    # print(model.tokenizer.convert_ids_to_tokens([128000]))  # Check what `128000` maps to\n",
        "    # print(model.tokenizer.special_tokens_map)  # Ch\n",
        "    answer_offset = 1 if model_num == 3 else 0\n",
        "\n",
        "    prompts = [\n",
        "        \"### Instruction: What do we have for size in profiles? ### Context: CREATE TABLE profiles (size INTEGER, age INTEGER, name TEXT) ### Response: SELECT\",\n",
        "        \"### Instruction: What do we have for age in profiles? ### Context: CREATE TABLE profiles (size INTEGER, age INTEGER, name TEXT) ### Response: SELECT\",\n",
        "        \"### Instruction: What do we have for name in profiles? ### Context: CREATE TABLE profiles (size INTEGER, age INTEGER, name TEXT) ### Response: SELECT\",\n",
        "    ]\n",
        "\n",
        "    # Answers are each formatted as (correct, incorrect):\n",
        "    answers = [\n",
        "        (\" size\", \" age\"),\n",
        "        (\" age\", \" name\"),\n",
        "        (\" name\", \" size\"),\n",
        "    ]\n",
        "\n",
        "    # Tokenize clean inputs:\n",
        "    clean_tokens = model.tokenizer(prompts, return_tensors=\"pt\")[\"input_ids\"]\n",
        "\n",
        "    # Check that the changing token is at corrupt_index\n",
        "    assert( clean_tokens[0,corrupt_index-1] == clean_tokens[1,corrupt_index-1] )\n",
        "    assert( clean_tokens[0,corrupt_index-1] == clean_tokens[2,corrupt_index-1] )\n",
        "    assert( clean_tokens[0,corrupt_index] != clean_tokens[1,corrupt_index] )\n",
        "    assert( clean_tokens[0,corrupt_index] != clean_tokens[2,corrupt_index] )\n",
        "    assert( clean_tokens[0,corrupt_index+1] == clean_tokens[1,corrupt_index+1] )\n",
        "    assert( clean_tokens[0,corrupt_index+1] == clean_tokens[2,corrupt_index+1] )\n",
        "\n",
        "    # Tokenize corrupted inputs:\n",
        "    corrupted_tokens = clean_tokens.clone()\n",
        "    corrupted_tokens[0,corrupt_index] = clean_tokens[1,corrupt_index]\n",
        "    corrupted_tokens[1,corrupt_index] = clean_tokens[2,corrupt_index]\n",
        "    corrupted_tokens[2,corrupt_index] = clean_tokens[0,corrupt_index]\n",
        "\n",
        "    # Tokenize answers for each prompt:\n",
        "    answer_token_indices = torch.tensor(\n",
        "        [\n",
        "            [model.tokenizer(answers[i][j])[\"input_ids\"][answer_offset] for j in range(2)]\n",
        "            for i in range(len(answers))\n",
        "        ]\n",
        "    )"
      ],
      "metadata": {
        "id": "WhIo3f_e7Ybf"
      },
      "execution_count": null,
      "outputs": []
    },
    {
      "cell_type": "code",
      "source": [
        "if model_num > 0:\n",
        "    clean_logits = model.trace(clean_tokens, trace=False).logits.cpu()\n",
        "    corrupted_logits = model.trace(corrupted_tokens, trace=False).logits.cpu()\n",
        "\n",
        "    CLEAN_BASELINE = get_logit_diff(clean_logits, answer_token_indices).item()\n",
        "    print(f\"Clean logit diff: {CLEAN_BASELINE:.4f}\")\n",
        "\n",
        "    CORRUPTED_BASELINE = get_logit_diff(corrupted_logits, answer_token_indices).item()\n",
        "    print(f\"Corrupted logit diff: {CORRUPTED_BASELINE:.4f}\")"
      ],
      "metadata": {
        "id": "_2XPtBZq9s9H"
      },
      "execution_count": null,
      "outputs": []
    },
    {
      "cell_type": "code",
      "source": [
        "def sql_metric(\n",
        "    logits,\n",
        "    answer_token_indices=answer_token_indices,\n",
        "):\n",
        "    return (get_logit_diff(logits, answer_token_indices) - CORRUPTED_BASELINE) / (\n",
        "        CLEAN_BASELINE - CORRUPTED_BASELINE\n",
        "    )"
      ],
      "metadata": {
        "id": "t03LdQ9-Bllb"
      },
      "execution_count": null,
      "outputs": []
    },
    {
      "cell_type": "code",
      "source": [
        "if model_num > 0:\n",
        "    print(f\"Clean Baseline is 1: {sql_metric(clean_logits).item():.4f}\")\n",
        "    print(f\"Corrupted Baseline is 0: {sql_metric(corrupted_logits).item():.4f}\")"
      ],
      "metadata": {
        "id": "ieHKPdi6BwUh"
      },
      "execution_count": null,
      "outputs": []
    },
    {
      "cell_type": "code",
      "source": [
        "if model_num == 1: # TinyStories\n",
        "    clean_out = []\n",
        "    corrupted_out = []\n",
        "    corrupted_grads = []\n",
        "\n",
        "    with model.trace() as tracer:\n",
        "        # Using nnsight's tracer.invoke context, we can batch the clean and the\n",
        "        # corrupted runs into the same tracing context, allowing us to access\n",
        "        # information generated within each of these runs within one forward pass\n",
        "\n",
        "        with tracer.invoke(clean_tokens) as invoker_clean:\n",
        "            # Gather each layer's attention\n",
        "            for layer in model.transformer.h:\n",
        "                # Get clean attention output for this layer\n",
        "                # across all attention heads\n",
        "                attn_out = layer.attn.input\n",
        "                clean_out.append(attn_out.save())\n",
        "\n",
        "        with tracer.invoke(corrupted_tokens) as invoker_corrupted:\n",
        "            # Gather each layer's attention and gradients\n",
        "            for layer in model.transformer.h:\n",
        "                # Get corrupted attention output for this layer\n",
        "                # across all attention heads\n",
        "                attn_out = layer.attn.input\n",
        "                corrupted_out.append(attn_out.save())\n",
        "                # save corrupted gradients for attribution patching\n",
        "                corrupted_grads.append(attn_out.grad.save())\n",
        "\n",
        "            # Let's get the logits for the model's output\n",
        "            # for the corrupted run\n",
        "            logits = model.lm_head.output.save()\n",
        "\n",
        "            # Our metric uses tensors saved on cpu, so we\n",
        "            # need to move the logits to cpu.\n",
        "            value = sql_metric(logits.cpu())\n",
        "\n",
        "            # We also need to run a backwards pass to\n",
        "            # update gradient values\n",
        "            value.backward()"
      ],
      "metadata": {
        "id": "Tg99jxpZ94LF"
      },
      "execution_count": null,
      "outputs": []
    },
    {
      "cell_type": "code",
      "source": [
        "if model_num == 2 or model_num == 3: # Qwen or Llama\n",
        "    clean_out = []\n",
        "    corrupted_out = []\n",
        "    corrupted_grads = []\n",
        "\n",
        "    with model.trace() as tracer:\n",
        "        # Using nnsight's tracer.invoke context, we can batch the clean and the\n",
        "        # corrupted runs into the same tracing context, allowing us to access\n",
        "        # information generated within each of these runs within one forward pass\n",
        "\n",
        "        with tracer.invoke(clean_tokens) as invoker_clean:\n",
        "            # Gather each layer's attention\n",
        "            for layer in model.model.layers:\n",
        "                # Get clean attention output for this layer\n",
        "                # across all attention heads\n",
        "                #tracer.log(\"layer shape\", layer)\n",
        "                attn_out = layer.input\n",
        "                clean_out.append(attn_out.save())\n",
        "\n",
        "        with tracer.invoke(corrupted_tokens) as invoker_corrupted:\n",
        "            # Gather each layer's attention and gradients\n",
        "            for layer in model.model.layers:\n",
        "                # Get corrupted attention output for this layer\n",
        "                # across all attention heads\n",
        "                attn_out = layer.input\n",
        "                corrupted_out.append(attn_out.save())\n",
        "                # save corrupted gradients for attribution patching\n",
        "                corrupted_grads.append(attn_out.grad.save())\n",
        "\n",
        "            # Let's get the logits for the model's output\n",
        "            # for the corrupted run\n",
        "            logits = model.lm_head.output.save()\n",
        "\n",
        "            # Our metric uses tensors saved on cpu, so we\n",
        "            # need to move the logits to cpu.\n",
        "            value = sql_metric(logits.cpu())\n",
        "\n",
        "            # We also need to run a backwards pass to\n",
        "            # update gradient values\n",
        "            value.backward()"
      ],
      "metadata": {
        "id": "p9vRt9g5S1Af"
      },
      "execution_count": null,
      "outputs": []
    },
    {
      "cell_type": "code",
      "source": [
        "if model_num > 0:\n",
        "    # Model specific values\n",
        "    n_heads = 16 if model_num == 1 else 7 if model_num == 2 else 16\n",
        "    n_dim = 64 if model_num == 1 else 128 if model_num == 2 else 128\n",
        "\n",
        "    for corrupted_grad, corrupted, clean, layer in zip(\n",
        "        corrupted_grads, corrupted_out, clean_out, range(len(clean_out))\n",
        "    ):\n",
        "\n",
        "        residual_attr = einops.reduce(\n",
        "            corrupted_grad.value[:,-1,:] * (clean.value[:,-1,:] - corrupted.value[:,-1,:]),\n",
        "            \"batch (head dim) -> head\",\n",
        "            \"sum\",\n",
        "            head = n_heads,\n",
        "            dim = n_dim,\n",
        "        )\n",
        "\n",
        "        patching_results.append(\n",
        "            residual_attr.detach().cpu().numpy()\n",
        "        )"
      ],
      "metadata": {
        "id": "X45D8qyn99FD"
      },
      "execution_count": null,
      "outputs": []
    },
    {
      "cell_type": "markdown",
      "source": [
        "# Shared Graphing code"
      ],
      "metadata": {
        "id": "gSWFWRlVYDnb"
      }
    },
    {
      "cell_type": "code",
      "source": [
        "fig = px.imshow(\n",
        "    patching_results,\n",
        "    color_continuous_scale=\"RdBu\",\n",
        "    color_continuous_midpoint=0.0,\n",
        "    title=\"Attribution Patching Over Token Position\",\n",
        "    labels={\"x\": \"Token Position\", \"y\": \"Layer\",\"color\":\"Norm. Logit Diff\"},\n",
        ")\n",
        "\n",
        "fig.show()"
      ],
      "metadata": {
        "id": "K0taib_I9_xS"
      },
      "execution_count": null,
      "outputs": []
    },
    {
      "cell_type": "code",
      "source": [
        "other_patching_results = []\n",
        "\n",
        "for corrupted_grad, corrupted, clean, layer in zip(\n",
        "    corrupted_grads, corrupted_out, clean_out, range(len(clean_out))\n",
        "):\n",
        "\n",
        "    residual_attr = einops.reduce(\n",
        "        corrupted_grad.value * (clean.value - corrupted.value),\n",
        "        \"batch pos dim -> pos\",\n",
        "        \"sum\",\n",
        "    )\n",
        "\n",
        "    other_patching_results.append(\n",
        "        residual_attr.detach().cpu().numpy()\n",
        "    )"
      ],
      "metadata": {
        "id": "Vrc_tQk7WOtZ"
      },
      "execution_count": null,
      "outputs": []
    },
    {
      "cell_type": "code",
      "source": [
        "fig = px.imshow(\n",
        "    other_patching_results,\n",
        "    color_continuous_scale=\"RdBu\",\n",
        "    color_continuous_midpoint=0.0,\n",
        "    title=\"Attribution Patching Over Token Position\",\n",
        "    labels={\"x\": \"Token Position\", \"y\": \"Layer\",\"color\":\"Norm. Logit Diff\"},\n",
        ")\n",
        "\n",
        "fig.show()"
      ],
      "metadata": {
        "id": "jAmACdVYWUGC"
      },
      "execution_count": null,
      "outputs": []
    }
  ],
  "metadata": {
    "accelerator": "GPU",
    "colab": {
      "gpuType": "T4",
      "machine_shape": "hm",
      "provenance": [],
      "collapsed_sections": [
        "z1tQZgLUnojc",
        "S-TNF3PVlGV0"
      ]
    },
    "kernelspec": {
      "display_name": "Python 3",
      "name": "python3"
    },
    "language_info": {
      "name": "python"
    }
  },
  "nbformat": 4,
  "nbformat_minor": 0
}