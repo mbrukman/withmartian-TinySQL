{
 "cells": [
  {
   "cell_type": "markdown",
   "id": "80d6b3b0-a4c8-46ca-b785-bf521ce91b8d",
   "metadata": {},
   "source": [
    "### Load in the SAEs from Huggingface Hub."
   ]
  },
  {
   "cell_type": "code",
   "execution_count": null,
   "id": "c0c06caf-8e84-46f1-9a55-d9a16f0bae7a",
   "metadata": {},
   "outputs": [],
   "source": [
    "def install_dependencies():\n",
    "    ! rm -rf sae || True\n",
    "    ! git clone https://github.com/amirabdullah19852020/sae.git\n",
    "    ! cd sae && pip install .\n",
    "    ! git clone https://github.com/withmartian/TinySQL.git\n",
    "    ! cd TinySQL && pip install .\n",
    "\n",
    "install_dependencies()"
   ]
  },
  {
   "cell_type": "code",
   "execution_count": 1,
   "id": "52ead171-4c94-4fd6-8d84-90e1e47649a3",
   "metadata": {},
   "outputs": [
    {
     "name": "stdout",
     "output_type": "stream",
     "text": [
      "Triton disabled, using eager implementation of SAE decoder.\n"
     ]
    }
   ],
   "source": [
    "import json\n",
    "import os\n",
    "\n",
    "os.environ[\"SAE_DISABLE_TRITON\"] = \"1\"\n",
    "\n",
    "import psutil\n",
    "import re\n",
    "\n",
    "from copy import deepcopy\n",
    "from dataclasses import dataclass\n",
    "from IPython.display import display, HTML\n",
    "from typing import Callable\n",
    "from math import ceil\n",
    "from pathlib import Path\n",
    "\n",
    "import nnsight\n",
    "import numpy as np\n",
    "import plotly.graph_objects as go\n",
    "import sae\n",
    "import torch\n",
    "import torch.fx\n",
    "\n",
    "from datasets import load_dataset\n",
    "from huggingface_hub import snapshot_download\n",
    "import matplotlib.pyplot as plt\n",
    "from nnsight import NNsight, LanguageModel\n",
    "from plotly.subplots import make_subplots\n",
    "from sae import Sae\n",
    "from sae.sae_interp import GroupedSaeOutput, SaeOutput, SaeCollector, LoadedSAES\n",
    "from sae.sae_plotting import plot_layer_curves, plot_layer_features\n",
    "\n",
    "from tqdm import tqdm\n",
    "from transformers import AutoTokenizer, AutoModelForCausalLM\n",
    "from TinySQL import sql_interp_model_location\n",
    "from TinySQL.training_data.fragments import field_names, table_names"
   ]
  },
  {
   "cell_type": "code",
   "execution_count": 2,
   "id": "e8c1b085-52e8-446e-8b90-f9c59f2ff9b8",
   "metadata": {},
   "outputs": [
    {
     "name": "stdout",
     "output_type": "stream",
     "text": [
      "RSS: 669.55 MB\n",
      "VMS: 5282.45 MB\n"
     ]
    }
   ],
   "source": [
    "# Get the current process\n",
    "def process_info():\n",
    "    process = psutil.Process(os.getpid())\n",
    "    \n",
    "    # Memory usage in MB\n",
    "    memory_info = process.memory_info()\n",
    "    print(f\"RSS: {memory_info.rss / (1024 ** 2):.2f} MB\")  # Resident Set Size\n",
    "    print(f\"VMS: {memory_info.vms / (1024 ** 2):.2f} MB\") \n",
    "\n",
    "process_info()"
   ]
  },
  {
   "cell_type": "code",
   "execution_count": 3,
   "id": "ad2e5fa6-fcd2-4e48-9d15-f75ffebec6cb",
   "metadata": {},
   "outputs": [],
   "source": [
    "seed=42\n",
    "repo = \"sql_interp_saes\""
   ]
  },
  {
   "cell_type": "code",
   "execution_count": 4,
   "id": "a9215a96-a9b6-42cd-86f5-5e663ae3cdff",
   "metadata": {},
   "outputs": [
    {
     "name": "stdout",
     "output_type": "stream",
     "text": [
      "saes_sql_interp_bm1_cs1_experiment_1.10_syn=True\n",
      "RSS: 669.81 MB\n",
      "VMS: 5282.45 MB\n"
     ]
    }
   ],
   "source": [
    "repo_name = \"withmartian/sql_interp_saes\"\n",
    "cache_dir = \"working_directory\"\n",
    "\n",
    "syn=True\n",
    "\n",
    "full_model_name = sql_interp_model_location(model_num=1, cs_num=1, synonym=syn)\n",
    "model_alias = f\"saes_{full_model_name.split('/')[1]}_syn={syn}\"\n",
    "print(model_alias)\n",
    "\n",
    "# Change this to work with another model alias.\n",
    "seed = 42\n",
    "\n",
    "process_info()"
   ]
  },
  {
   "cell_type": "code",
   "execution_count": 5,
   "id": "00f5596f-ff6f-43fe-be3a-61f457715482",
   "metadata": {},
   "outputs": [
    {
     "data": {
      "application/vnd.jupyter.widget-view+json": {
       "model_id": "c3770dee1ee542c38a40b9bacf1526b4",
       "version_major": 2,
       "version_minor": 0
      },
      "text/plain": [
       "VBox(children=(Fetching 34 files:   0%|          | 0/34 [00:00<?, ?it/s],))"
      ]
     },
     "metadata": {},
     "output_type": "display_data"
    }
   ],
   "source": [
    "repo_path = Path(\n",
    "    snapshot_download(repo_name, allow_patterns=f\"{model_alias}/*\", local_dir=cache_dir)\n",
    ")"
   ]
  },
  {
   "cell_type": "code",
   "execution_count": 6,
   "id": "a8b84292-a200-4ccf-b71e-c89228d7289d",
   "metadata": {},
   "outputs": [
    {
     "data": {
      "text/plain": [
       "'working_directory'"
      ]
     },
     "execution_count": 6,
     "metadata": {},
     "output_type": "execute_result"
    }
   ],
   "source": [
    "cache_dir"
   ]
  },
  {
   "cell_type": "code",
   "execution_count": 7,
   "id": "f9ff27fe-0c74-46a2-acf2-d16a49e02794",
   "metadata": {},
   "outputs": [],
   "source": [
    "def format_example(example):\n",
    "    alpaca_prompt = \"### Instruction: {} ### Context: {} ### Response: {}\"\n",
    "    example['prompt'] = alpaca_prompt.format(example['english_prompt'], example['create_statement'], example['sql_statement'])\n",
    "    example['response'] = example['sql_statement']\n",
    "    return example"
   ]
  },
  {
   "cell_type": "code",
   "execution_count": 9,
   "id": "27f0a3dd-0975-419f-8480-bd978044d4dc",
   "metadata": {},
   "outputs": [
    {
     "name": "stdout",
     "output_type": "stream",
     "text": [
      "Loading from path working_directory/saes_sql_interp_bm1_cs1_experiment_1.10_syn=True/k=128\n"
     ]
    },
    {
     "data": {
      "application/vnd.jupyter.widget-view+json": {
       "model_id": "6085a00d9e784a00bf14119c0e10df61",
       "version_major": 2,
       "version_minor": 0
      },
      "text/plain": [
       "VBox(children=(README.md:   0%|          | 0.00/799 [00:00<?, ?B/s],))"
      ]
     },
     "metadata": {},
     "output_type": "display_data"
    },
    {
     "data": {
      "application/vnd.jupyter.widget-view+json": {
       "model_id": "4cbb508b112344e5be5d8eff0a27b6f7",
       "version_major": 2,
       "version_minor": 0
      },
      "text/plain": [
       "VBox(children=(train-00000-of-00001.parquet:   0%|          | 0.00/22.8M [00:00<?, ?B/s],))"
      ]
     },
     "metadata": {},
     "output_type": "display_data"
    },
    {
     "data": {
      "application/vnd.jupyter.widget-view+json": {
       "model_id": "4a6b4236baa149048a15efea4f0e17aa",
       "version_major": 2,
       "version_minor": 0
      },
      "text/plain": [
       "VBox(children=(validation-00000-of-00001.parquet:   0%|          | 0.00/4.03M [00:00<?, ?B/s],))"
      ]
     },
     "metadata": {},
     "output_type": "display_data"
    },
    {
     "data": {
      "application/vnd.jupyter.widget-view+json": {
       "model_id": "fc776ada735a4a509ab1887b42a4d0e9",
       "version_major": 2,
       "version_minor": 0
      },
      "text/plain": [
       "VBox(children=(test-00000-of-00001.parquet:   0%|          | 0.00/2.98M [00:00<?, ?B/s],))"
      ]
     },
     "metadata": {},
     "output_type": "display_data"
    },
    {
     "data": {
      "application/vnd.jupyter.widget-view+json": {
       "model_id": "23c97de109b3483c9717b356836820fa",
       "version_major": 2,
       "version_minor": 0
      },
      "text/plain": [
       "VBox(children=(Generating train split:   0%|          | 0/76500 [00:00<?, ? examples/s],))"
      ]
     },
     "metadata": {},
     "output_type": "display_data"
    },
    {
     "data": {
      "application/vnd.jupyter.widget-view+json": {
       "model_id": "daa8c331811d4cb4af975aec9b102420",
       "version_major": 2,
       "version_minor": 0
      },
      "text/plain": [
       "VBox(children=(Generating validation split:   0%|          | 0/13500 [00:00<?, ? examples/s],))"
      ]
     },
     "metadata": {},
     "output_type": "display_data"
    },
    {
     "data": {
      "application/vnd.jupyter.widget-view+json": {
       "model_id": "eb97544c6dff4011b578cbe4c97e950d",
       "version_major": 2,
       "version_minor": 0
      },
      "text/plain": [
       "VBox(children=(Generating test split:   0%|          | 0/10000 [00:00<?, ? examples/s],))"
      ]
     },
     "metadata": {},
     "output_type": "display_data"
    },
    {
     "data": {
      "application/vnd.jupyter.widget-view+json": {
       "model_id": "3e74887e6c754badb9f0ececeb3a255a",
       "version_major": 2,
       "version_minor": 0
      },
      "text/plain": [
       "VBox(children=(Map:   0%|          | 0/76500 [00:00<?, ? examples/s],))"
      ]
     },
     "metadata": {},
     "output_type": "display_data"
    },
    {
     "data": {
      "application/vnd.jupyter.widget-view+json": {
       "model_id": "c7bc10f69ef6414da5032ffd853c6945",
       "version_major": 2,
       "version_minor": 0
      },
      "text/plain": [
       "VBox(children=(Map:   0%|          | 0/13500 [00:00<?, ? examples/s],))"
      ]
     },
     "metadata": {},
     "output_type": "display_data"
    },
    {
     "data": {
      "application/vnd.jupyter.widget-view+json": {
       "model_id": "9173dc211fce4bfdb9c9395d64550135",
       "version_major": 2,
       "version_minor": 0
      },
      "text/plain": [
       "VBox(children=(Map:   0%|          | 0/10000 [00:00<?, ? examples/s],))"
      ]
     },
     "metadata": {},
     "output_type": "display_data"
    }
   ],
   "source": [
    "loaded_saes = LoadedSAES.load_from_path(model_alias=model_alias, k=128, cache_dir=cache_dir, dataset_mapper=format_example)"
   ]
  },
  {
   "cell_type": "code",
   "execution_count": 13,
   "id": "3769553c-217f-4314-908b-e88b48404566",
   "metadata": {},
   "outputs": [
    {
     "name": "stderr",
     "output_type": "stream",
     "text": [
      "  0%|▍                                                                                             | 1/200 [00:00<02:03,  1.61it/s]"
     ]
    },
    {
     "name": "stdout",
     "output_type": "stream",
     "text": [
      "Found response token search\n"
     ]
    },
    {
     "name": "stderr",
     "output_type": "stream",
     "text": [
      "  1%|▉                                                                                             | 2/200 [00:00<01:29,  2.22it/s]"
     ]
    },
    {
     "name": "stdout",
     "output_type": "stream",
     "text": [
      "Found response token media\n"
     ]
    },
    {
     "name": "stderr",
     "output_type": "stream",
     "text": [
      "  2%|█▍                                                                                            | 3/200 [00:01<01:20,  2.45it/s]"
     ]
    },
    {
     "name": "stdout",
     "output_type": "stream",
     "text": [
      "Found response token customer\n"
     ]
    },
    {
     "name": "stderr",
     "output_type": "stream",
     "text": [
      "  2%|█▉                                                                                            | 4/200 [00:01<01:10,  2.77it/s]"
     ]
    },
    {
     "name": "stdout",
     "output_type": "stream",
     "text": [
      "Found response token document\n"
     ]
    },
    {
     "name": "stderr",
     "output_type": "stream",
     "text": [
      "  2%|██▎                                                                                           | 5/200 [00:01<01:07,  2.87it/s]"
     ]
    },
    {
     "name": "stdout",
     "output_type": "stream",
     "text": [
      "Found response token report\n"
     ]
    },
    {
     "name": "stderr",
     "output_type": "stream",
     "text": [
      "  3%|██▊                                                                                           | 6/200 [00:02<01:03,  3.07it/s]"
     ]
    },
    {
     "name": "stdout",
     "output_type": "stream",
     "text": [
      "Found response token customers\n"
     ]
    },
    {
     "name": "stderr",
     "output_type": "stream",
     "text": [
      "  4%|███▎                                                                                          | 7/200 [00:02<01:01,  3.12it/s]"
     ]
    },
    {
     "name": "stdout",
     "output_type": "stream",
     "text": [
      "Found response token workflow\n"
     ]
    },
    {
     "name": "stderr",
     "output_type": "stream",
     "text": [
      "  4%|███▊                                                                                          | 8/200 [00:02<00:59,  3.22it/s]"
     ]
    },
    {
     "name": "stdout",
     "output_type": "stream",
     "text": [
      "Found response token jobs\n"
     ]
    },
    {
     "name": "stderr",
     "output_type": "stream",
     "text": [
      "  4%|████▏                                                                                         | 9/200 [00:03<01:04,  2.96it/s]"
     ]
    },
    {
     "name": "stdout",
     "output_type": "stream",
     "text": [
      "Found response token brand\n"
     ]
    },
    {
     "name": "stderr",
     "output_type": "stream",
     "text": [
      "  5%|████▋                                                                                        | 10/200 [00:03<01:08,  2.76it/s]"
     ]
    },
    {
     "name": "stdout",
     "output_type": "stream",
     "text": [
      "Found response token contact\n"
     ]
    },
    {
     "name": "stderr",
     "output_type": "stream",
     "text": [
      "  6%|█████                                                                                        | 11/200 [00:03<01:05,  2.89it/s]"
     ]
    },
    {
     "name": "stdout",
     "output_type": "stream",
     "text": [
      "Found response token api\n"
     ]
    },
    {
     "name": "stderr",
     "output_type": "stream",
     "text": [
      "  6%|█████▌                                                                                       | 12/200 [00:04<01:12,  2.59it/s]"
     ]
    },
    {
     "name": "stdout",
     "output_type": "stream",
     "text": [
      "Found response token search\n"
     ]
    },
    {
     "name": "stderr",
     "output_type": "stream",
     "text": [
      "  6%|██████                                                                                       | 13/200 [00:04<01:16,  2.45it/s]"
     ]
    },
    {
     "name": "stdout",
     "output_type": "stream",
     "text": [
      "Found response token password\n"
     ]
    },
    {
     "name": "stderr",
     "output_type": "stream",
     "text": [
      "  7%|██████▌                                                                                      | 14/200 [00:05<01:12,  2.56it/s]"
     ]
    },
    {
     "name": "stdout",
     "output_type": "stream",
     "text": [
      "Found response token subscription\n"
     ]
    },
    {
     "name": "stderr",
     "output_type": "stream",
     "text": [
      "  8%|██████▉                                                                                      | 15/200 [00:05<01:16,  2.42it/s]"
     ]
    },
    {
     "name": "stdout",
     "output_type": "stream",
     "text": [
      "Found response token report\n"
     ]
    },
    {
     "name": "stderr",
     "output_type": "stream",
     "text": [
      "  8%|███████▍                                                                                     | 16/200 [00:06<01:13,  2.49it/s]"
     ]
    },
    {
     "name": "stdout",
     "output_type": "stream",
     "text": [
      "Found response token archive\n"
     ]
    },
    {
     "name": "stderr",
     "output_type": "stream",
     "text": [
      "  8%|███████▉                                                                                     | 17/200 [00:06<01:08,  2.66it/s]"
     ]
    },
    {
     "name": "stdout",
     "output_type": "stream",
     "text": [
      "Found response token dates\n"
     ]
    },
    {
     "name": "stderr",
     "output_type": "stream",
     "text": [
      "  9%|████████▎                                                                                    | 18/200 [00:06<01:04,  2.83it/s]"
     ]
    },
    {
     "name": "stdout",
     "output_type": "stream",
     "text": [
      "Found response token wish\n"
     ]
    },
    {
     "name": "stderr",
     "output_type": "stream",
     "text": [
      " 10%|████████▊                                                                                    | 19/200 [00:06<01:00,  2.99it/s]"
     ]
    },
    {
     "name": "stdout",
     "output_type": "stream",
     "text": [
      "Found response token milestones\n"
     ]
    },
    {
     "name": "stderr",
     "output_type": "stream",
     "text": [
      " 10%|█████████▎                                                                                   | 20/200 [00:07<00:58,  3.06it/s]"
     ]
    },
    {
     "name": "stdout",
     "output_type": "stream",
     "text": [
      "Found response token wish\n"
     ]
    },
    {
     "name": "stderr",
     "output_type": "stream",
     "text": [
      " 10%|█████████▊                                                                                   | 21/200 [00:07<01:00,  2.95it/s]"
     ]
    },
    {
     "name": "stdout",
     "output_type": "stream",
     "text": [
      "Found response token support\n"
     ]
    },
    {
     "name": "stderr",
     "output_type": "stream",
     "text": [
      " 11%|██████████▏                                                                                  | 22/200 [00:07<00:57,  3.10it/s]"
     ]
    },
    {
     "name": "stdout",
     "output_type": "stream",
     "text": [
      "Found response token document\n"
     ]
    },
    {
     "name": "stderr",
     "output_type": "stream",
     "text": [
      " 12%|██████████▋                                                                                  | 23/200 [00:08<01:05,  2.72it/s]"
     ]
    },
    {
     "name": "stdout",
     "output_type": "stream",
     "text": [
      "Found response token wish\n"
     ]
    },
    {
     "name": "stderr",
     "output_type": "stream",
     "text": [
      " 12%|███████████▏                                                                                 | 24/200 [00:08<01:11,  2.45it/s]"
     ]
    },
    {
     "name": "stdout",
     "output_type": "stream",
     "text": [
      "Found response token profile\n"
     ]
    },
    {
     "name": "stderr",
     "output_type": "stream",
     "text": [
      " 12%|███████████▋                                                                                 | 25/200 [00:09<01:15,  2.32it/s]"
     ]
    },
    {
     "name": "stdout",
     "output_type": "stream",
     "text": [
      "Found response token document\n"
     ]
    },
    {
     "name": "stderr",
     "output_type": "stream",
     "text": [
      " 13%|████████████                                                                                 | 26/200 [00:09<01:09,  2.50it/s]"
     ]
    },
    {
     "name": "stdout",
     "output_type": "stream",
     "text": [
      "Found response token document\n"
     ]
    },
    {
     "name": "stderr",
     "output_type": "stream",
     "text": [
      " 14%|████████████▌                                                                                | 27/200 [00:10<01:35,  1.81it/s]"
     ]
    },
    {
     "name": "stdout",
     "output_type": "stream",
     "text": [
      "Found response token search\n"
     ]
    },
    {
     "name": "stderr",
     "output_type": "stream",
     "text": [
      " 14%|█████████████                                                                                | 28/200 [00:10<01:21,  2.12it/s]"
     ]
    },
    {
     "name": "stdout",
     "output_type": "stream",
     "text": [
      "Found response token settings\n"
     ]
    },
    {
     "name": "stderr",
     "output_type": "stream",
     "text": [
      " 14%|█████████████▍                                                                               | 29/200 [00:11<01:20,  2.13it/s]"
     ]
    },
    {
     "name": "stdout",
     "output_type": "stream",
     "text": [
      "Found response token performance\n"
     ]
    },
    {
     "name": "stderr",
     "output_type": "stream",
     "text": [
      " 15%|█████████████▉                                                                               | 30/200 [00:11<01:13,  2.32it/s]"
     ]
    },
    {
     "name": "stdout",
     "output_type": "stream",
     "text": [
      "Found response token locations\n"
     ]
    },
    {
     "name": "stderr",
     "output_type": "stream",
     "text": [
      " 16%|██████████████▍                                                                              | 31/200 [00:12<01:06,  2.53it/s]"
     ]
    },
    {
     "name": "stdout",
     "output_type": "stream",
     "text": [
      "Found response token event\n"
     ]
    },
    {
     "name": "stderr",
     "output_type": "stream",
     "text": [
      " 16%|██████████████▉                                                                              | 32/200 [00:12<01:10,  2.37it/s]"
     ]
    },
    {
     "name": "stdout",
     "output_type": "stream",
     "text": [
      "Found response token project\n"
     ]
    },
    {
     "name": "stderr",
     "output_type": "stream",
     "text": [
      " 16%|███████████████▎                                                                             | 33/200 [00:12<01:08,  2.42it/s]"
     ]
    },
    {
     "name": "stdout",
     "output_type": "stream",
     "text": [
      "Found response token favorites\n"
     ]
    },
    {
     "name": "stderr",
     "output_type": "stream",
     "text": [
      " 17%|███████████████▊                                                                             | 34/200 [00:13<01:04,  2.58it/s]"
     ]
    },
    {
     "name": "stdout",
     "output_type": "stream",
     "text": [
      "Found response token document\n"
     ]
    },
    {
     "name": "stderr",
     "output_type": "stream",
     "text": [
      " 18%|████████████████▎                                                                            | 35/200 [00:13<01:03,  2.61it/s]"
     ]
    },
    {
     "name": "stdout",
     "output_type": "stream",
     "text": [
      "Found response token user\n"
     ]
    },
    {
     "name": "stderr",
     "output_type": "stream",
     "text": [
      " 18%|████████████████▋                                                                            | 36/200 [00:13<01:03,  2.59it/s]"
     ]
    },
    {
     "name": "stdout",
     "output_type": "stream",
     "text": [
      "Found response token product\n"
     ]
    },
    {
     "name": "stderr",
     "output_type": "stream",
     "text": [
      " 18%|█████████████████▏                                                                           | 37/200 [00:14<00:58,  2.80it/s]"
     ]
    },
    {
     "name": "stdout",
     "output_type": "stream",
     "text": [
      "Found response token attachments\n"
     ]
    },
    {
     "name": "stderr",
     "output_type": "stream",
     "text": [
      " 19%|█████████████████▋                                                                           | 38/200 [00:14<00:58,  2.76it/s]"
     ]
    },
    {
     "name": "stdout",
     "output_type": "stream",
     "text": [
      "Found response token audio\n"
     ]
    },
    {
     "name": "stderr",
     "output_type": "stream",
     "text": [
      " 20%|██████████████████▏                                                                          | 39/200 [00:14<00:57,  2.81it/s]"
     ]
    },
    {
     "name": "stdout",
     "output_type": "stream",
     "text": [
      "Found response token lists\n"
     ]
    },
    {
     "name": "stderr",
     "output_type": "stream",
     "text": [
      " 20%|██████████████████▌                                                                          | 40/200 [00:15<00:56,  2.81it/s]"
     ]
    },
    {
     "name": "stdout",
     "output_type": "stream",
     "text": [
      "Found response token refunds\n"
     ]
    },
    {
     "name": "stderr",
     "output_type": "stream",
     "text": [
      " 20%|███████████████████                                                                          | 41/200 [00:15<00:59,  2.69it/s]"
     ]
    },
    {
     "name": "stdout",
     "output_type": "stream",
     "text": [
      "Found response token api\n"
     ]
    },
    {
     "name": "stderr",
     "output_type": "stream",
     "text": [
      " 21%|███████████████████▌                                                                         | 42/200 [00:16<00:58,  2.69it/s]"
     ]
    },
    {
     "name": "stdout",
     "output_type": "stream",
     "text": [
      "Found response token groups\n"
     ]
    },
    {
     "name": "stderr",
     "output_type": "stream",
     "text": [
      " 22%|███████████████████▉                                                                         | 43/200 [00:16<00:56,  2.80it/s]"
     ]
    },
    {
     "name": "stdout",
     "output_type": "stream",
     "text": [
      "Found response token jobs\n"
     ]
    },
    {
     "name": "stderr",
     "output_type": "stream",
     "text": [
      " 22%|████████████████████▍                                                                        | 44/200 [00:16<00:55,  2.83it/s]"
     ]
    },
    {
     "name": "stdout",
     "output_type": "stream",
     "text": [
      "Found response token content\n"
     ]
    },
    {
     "name": "stderr",
     "output_type": "stream",
     "text": [
      " 22%|████████████████████▉                                                                        | 45/200 [00:17<00:56,  2.75it/s]"
     ]
    },
    {
     "name": "stdout",
     "output_type": "stream",
     "text": [
      "Found response token search\n"
     ]
    },
    {
     "name": "stderr",
     "output_type": "stream",
     "text": [
      " 23%|█████████████████████▍                                                                       | 46/200 [00:17<00:55,  2.78it/s]"
     ]
    },
    {
     "name": "stdout",
     "output_type": "stream",
     "text": [
      "Found response token courses\n"
     ]
    },
    {
     "name": "stderr",
     "output_type": "stream",
     "text": [
      " 24%|█████████████████████▊                                                                       | 47/200 [00:17<00:54,  2.80it/s]"
     ]
    },
    {
     "name": "stdout",
     "output_type": "stream",
     "text": [
      "Found response token risk\n"
     ]
    },
    {
     "name": "stderr",
     "output_type": "stream",
     "text": [
      " 24%|██████████████████████▎                                                                      | 48/200 [00:18<00:50,  3.03it/s]"
     ]
    },
    {
     "name": "stdout",
     "output_type": "stream",
     "text": [
      "Found response token customers\n"
     ]
    },
    {
     "name": "stderr",
     "output_type": "stream",
     "text": [
      " 24%|██████████████████████▊                                                                      | 49/200 [00:18<00:48,  3.10it/s]"
     ]
    },
    {
     "name": "stdout",
     "output_type": "stream",
     "text": [
      "Found response token product\n"
     ]
    },
    {
     "name": "stderr",
     "output_type": "stream",
     "text": [
      " 25%|███████████████████████▎                                                                     | 50/200 [00:18<00:48,  3.08it/s]"
     ]
    },
    {
     "name": "stdout",
     "output_type": "stream",
     "text": [
      "Found response token profile\n"
     ]
    },
    {
     "name": "stderr",
     "output_type": "stream",
     "text": [
      " 26%|███████████████████████▋                                                                     | 51/200 [00:19<00:48,  3.10it/s]"
     ]
    },
    {
     "name": "stdout",
     "output_type": "stream",
     "text": [
      "Found response token security\n"
     ]
    },
    {
     "name": "stderr",
     "output_type": "stream",
     "text": [
      " 26%|████████████████████████▏                                                                    | 52/200 [00:19<00:45,  3.23it/s]"
     ]
    },
    {
     "name": "stdout",
     "output_type": "stream",
     "text": [
      "Found response token document\n"
     ]
    },
    {
     "name": "stderr",
     "output_type": "stream",
     "text": [
      " 26%|████████████████████████▋                                                                    | 53/200 [00:19<00:54,  2.69it/s]"
     ]
    },
    {
     "name": "stdout",
     "output_type": "stream",
     "text": [
      "Found response token quality\n"
     ]
    },
    {
     "name": "stderr",
     "output_type": "stream",
     "text": [
      " 27%|█████████████████████████                                                                    | 54/200 [00:20<00:51,  2.83it/s]"
     ]
    },
    {
     "name": "stdout",
     "output_type": "stream",
     "text": [
      "Found response token workflow\n"
     ]
    },
    {
     "name": "stderr",
     "output_type": "stream",
     "text": [
      " 28%|█████████████████████████▌                                                                   | 55/200 [00:20<00:50,  2.88it/s]"
     ]
    },
    {
     "name": "stdout",
     "output_type": "stream",
     "text": [
      "Found response token workflow\n"
     ]
    },
    {
     "name": "stderr",
     "output_type": "stream",
     "text": [
      " 28%|██████████████████████████                                                                   | 56/200 [00:20<00:47,  3.04it/s]"
     ]
    },
    {
     "name": "stdout",
     "output_type": "stream",
     "text": [
      "Found response token maps\n"
     ]
    },
    {
     "name": "stderr",
     "output_type": "stream",
     "text": [
      " 28%|██████████████████████████▌                                                                  | 57/200 [00:21<00:44,  3.20it/s]"
     ]
    },
    {
     "name": "stdout",
     "output_type": "stream",
     "text": [
      "Found response token order\n"
     ]
    },
    {
     "name": "stderr",
     "output_type": "stream",
     "text": [
      " 29%|██████████████████████████▉                                                                  | 58/200 [00:21<00:46,  3.03it/s]"
     ]
    },
    {
     "name": "stdout",
     "output_type": "stream",
     "text": [
      "Found response token api\n"
     ]
    },
    {
     "name": "stderr",
     "output_type": "stream",
     "text": [
      " 30%|███████████████████████████▍                                                                 | 59/200 [00:21<00:48,  2.90it/s]"
     ]
    },
    {
     "name": "stdout",
     "output_type": "stream",
     "text": [
      "Found response token login\n"
     ]
    },
    {
     "name": "stderr",
     "output_type": "stream",
     "text": [
      " 30%|███████████████████████████▉                                                                 | 60/200 [00:22<00:53,  2.63it/s]"
     ]
    },
    {
     "name": "stdout",
     "output_type": "stream",
     "text": [
      "Found response token audit\n"
     ]
    },
    {
     "name": "stderr",
     "output_type": "stream",
     "text": [
      " 30%|████████████████████████████▎                                                                | 61/200 [00:22<00:48,  2.85it/s]"
     ]
    },
    {
     "name": "stdout",
     "output_type": "stream",
     "text": [
      "Found response token security\n"
     ]
    },
    {
     "name": "stderr",
     "output_type": "stream",
     "text": [
      " 31%|████████████████████████████▊                                                                | 62/200 [00:22<00:46,  2.99it/s]"
     ]
    },
    {
     "name": "stdout",
     "output_type": "stream",
     "text": [
      "Found response token profile\n"
     ]
    },
    {
     "name": "stderr",
     "output_type": "stream",
     "text": [
      " 32%|█████████████████████████████▎                                                               | 63/200 [00:23<00:53,  2.57it/s]"
     ]
    },
    {
     "name": "stdout",
     "output_type": "stream",
     "text": [
      "Found response token schedule\n"
     ]
    },
    {
     "name": "stderr",
     "output_type": "stream",
     "text": [
      " 32%|█████████████████████████████▊                                                               | 64/200 [00:23<00:49,  2.73it/s]"
     ]
    },
    {
     "name": "stdout",
     "output_type": "stream",
     "text": [
      "Found response token recurring\n"
     ]
    },
    {
     "name": "stderr",
     "output_type": "stream",
     "text": [
      " 32%|██████████████████████████████▏                                                              | 65/200 [00:24<00:47,  2.85it/s]"
     ]
    },
    {
     "name": "stdout",
     "output_type": "stream",
     "text": [
      "Found response token quality\n"
     ]
    },
    {
     "name": "stderr",
     "output_type": "stream",
     "text": [
      " 33%|██████████████████████████████▋                                                              | 66/200 [00:24<00:44,  3.01it/s]"
     ]
    },
    {
     "name": "stdout",
     "output_type": "stream",
     "text": [
      "Found response token api\n"
     ]
    },
    {
     "name": "stderr",
     "output_type": "stream",
     "text": [
      " 34%|███████████████████████████████▏                                                             | 67/200 [00:24<00:51,  2.59it/s]"
     ]
    },
    {
     "name": "stdout",
     "output_type": "stream",
     "text": [
      "Found response token social\n"
     ]
    },
    {
     "name": "stderr",
     "output_type": "stream",
     "text": [
      " 34%|███████████████████████████████▌                                                             | 68/200 [00:25<00:51,  2.58it/s]"
     ]
    },
    {
     "name": "stdout",
     "output_type": "stream",
     "text": [
      "Found response token workflow\n"
     ]
    },
    {
     "name": "stderr",
     "output_type": "stream",
     "text": [
      " 34%|████████████████████████████████                                                             | 69/200 [00:25<00:51,  2.54it/s]"
     ]
    },
    {
     "name": "stdout",
     "output_type": "stream",
     "text": [
      "Found response token videos\n"
     ]
    },
    {
     "name": "stderr",
     "output_type": "stream",
     "text": [
      " 35%|████████████████████████████████▌                                                            | 70/200 [00:25<00:48,  2.68it/s]"
     ]
    },
    {
     "name": "stdout",
     "output_type": "stream",
     "text": [
      "Found response token service\n"
     ]
    },
    {
     "name": "stderr",
     "output_type": "stream",
     "text": [
      " 36%|█████████████████████████████████                                                            | 71/200 [00:26<00:51,  2.51it/s]"
     ]
    },
    {
     "name": "stdout",
     "output_type": "stream",
     "text": [
      "Found response token workflow\n"
     ]
    },
    {
     "name": "stderr",
     "output_type": "stream",
     "text": [
      " 36%|█████████████████████████████████▍                                                           | 72/200 [00:26<00:48,  2.66it/s]"
     ]
    },
    {
     "name": "stdout",
     "output_type": "stream",
     "text": [
      "Found response token appointments\n"
     ]
    },
    {
     "name": "stderr",
     "output_type": "stream",
     "text": [
      " 36%|█████████████████████████████████▉                                                           | 73/200 [00:27<00:47,  2.68it/s]"
     ]
    },
    {
     "name": "stdout",
     "output_type": "stream",
     "text": [
      "Found response token messages\n"
     ]
    },
    {
     "name": "stderr",
     "output_type": "stream",
     "text": [
      " 37%|██████████████████████████████████▍                                                          | 74/200 [00:27<00:50,  2.48it/s]"
     ]
    },
    {
     "name": "stdout",
     "output_type": "stream",
     "text": [
      "Found response token push\n"
     ]
    },
    {
     "name": "stderr",
     "output_type": "stream",
     "text": [
      " 38%|██████████████████████████████████▉                                                          | 75/200 [00:27<00:49,  2.50it/s]"
     ]
    },
    {
     "name": "stdout",
     "output_type": "stream",
     "text": [
      "Found response token report\n"
     ]
    },
    {
     "name": "stderr",
     "output_type": "stream",
     "text": [
      " 38%|███████████████████████████████████▎                                                         | 76/200 [00:28<00:50,  2.47it/s]"
     ]
    },
    {
     "name": "stdout",
     "output_type": "stream",
     "text": [
      "Found response token campaigns\n"
     ]
    },
    {
     "name": "stderr",
     "output_type": "stream",
     "text": [
      " 38%|███████████████████████████████████▊                                                         | 77/200 [00:28<00:48,  2.56it/s]"
     ]
    },
    {
     "name": "stdout",
     "output_type": "stream",
     "text": [
      "Found response token pairs\n"
     ]
    },
    {
     "name": "stderr",
     "output_type": "stream",
     "text": [
      " 39%|████████████████████████████████████▎                                                        | 78/200 [00:29<00:55,  2.21it/s]"
     ]
    },
    {
     "name": "stdout",
     "output_type": "stream",
     "text": [
      "Found response token appointments\n"
     ]
    },
    {
     "name": "stderr",
     "output_type": "stream",
     "text": [
      " 40%|████████████████████████████████████▋                                                        | 79/200 [00:29<00:59,  2.03it/s]"
     ]
    },
    {
     "name": "stdout",
     "output_type": "stream",
     "text": [
      "Found response token support\n"
     ]
    },
    {
     "name": "stderr",
     "output_type": "stream",
     "text": [
      " 40%|█████████████████████████████████████▏                                                       | 80/200 [00:30<00:53,  2.23it/s]"
     ]
    },
    {
     "name": "stdout",
     "output_type": "stream",
     "text": [
      "Found response token month\n"
     ]
    },
    {
     "name": "stderr",
     "output_type": "stream",
     "text": [
      " 40%|█████████████████████████████████████▋                                                       | 81/200 [00:30<00:51,  2.33it/s]"
     ]
    },
    {
     "name": "stdout",
     "output_type": "stream",
     "text": [
      "Found response token feature\n"
     ]
    },
    {
     "name": "stderr",
     "output_type": "stream",
     "text": [
      " 41%|██████████████████████████████████████▏                                                      | 82/200 [00:31<00:48,  2.43it/s]"
     ]
    },
    {
     "name": "stdout",
     "output_type": "stream",
     "text": [
      "Found response token quality\n"
     ]
    },
    {
     "name": "stderr",
     "output_type": "stream",
     "text": [
      " 42%|██████████████████████████████████████▌                                                      | 83/200 [00:31<00:46,  2.51it/s]"
     ]
    },
    {
     "name": "stdout",
     "output_type": "stream",
     "text": [
      "Found response token shipping\n"
     ]
    },
    {
     "name": "stderr",
     "output_type": "stream",
     "text": [
      " 42%|███████████████████████████████████████                                                      | 84/200 [00:31<00:44,  2.62it/s]"
     ]
    },
    {
     "name": "stdout",
     "output_type": "stream",
     "text": [
      "Found response token calendars\n"
     ]
    },
    {
     "name": "stderr",
     "output_type": "stream",
     "text": [
      " 42%|███████████████████████████████████████▌                                                     | 85/200 [00:32<00:41,  2.76it/s]"
     ]
    },
    {
     "name": "stdout",
     "output_type": "stream",
     "text": [
      "Found response token schedule\n"
     ]
    },
    {
     "name": "stderr",
     "output_type": "stream",
     "text": [
      " 43%|███████████████████████████████████████▉                                                     | 86/200 [00:32<00:39,  2.92it/s]"
     ]
    },
    {
     "name": "stdout",
     "output_type": "stream",
     "text": [
      "Found response token social\n"
     ]
    },
    {
     "name": "stderr",
     "output_type": "stream",
     "text": [
      " 44%|████████████████████████████████████████▍                                                    | 87/200 [00:32<00:37,  3.03it/s]"
     ]
    },
    {
     "name": "stdout",
     "output_type": "stream",
     "text": [
      "Found response token settings\n"
     ]
    },
    {
     "name": "stderr",
     "output_type": "stream",
     "text": [
      " 44%|████████████████████████████████████████▉                                                    | 88/200 [00:32<00:35,  3.14it/s]"
     ]
    },
    {
     "name": "stdout",
     "output_type": "stream",
     "text": [
      "Found response token numbers\n"
     ]
    },
    {
     "name": "stderr",
     "output_type": "stream",
     "text": [
      " 44%|█████████████████████████████████████████▍                                                   | 89/200 [00:33<00:39,  2.80it/s]"
     ]
    },
    {
     "name": "stdout",
     "output_type": "stream",
     "text": [
      "Found response token notifications\n"
     ]
    },
    {
     "name": "stderr",
     "output_type": "stream",
     "text": [
      " 45%|█████████████████████████████████████████▊                                                   | 90/200 [00:33<00:36,  2.99it/s]"
     ]
    },
    {
     "name": "stdout",
     "output_type": "stream",
     "text": [
      "Found response token hold\n"
     ]
    },
    {
     "name": "stderr",
     "output_type": "stream",
     "text": [
      " 46%|██████████████████████████████████████████▎                                                  | 91/200 [00:34<00:39,  2.77it/s]"
     ]
    },
    {
     "name": "stdout",
     "output_type": "stream",
     "text": [
      "Found response token access\n"
     ]
    },
    {
     "name": "stderr",
     "output_type": "stream",
     "text": [
      " 46%|██████████████████████████████████████████▊                                                  | 92/200 [00:35<01:06,  1.61it/s]"
     ]
    },
    {
     "name": "stdout",
     "output_type": "stream",
     "text": [
      "Found response token report\n"
     ]
    },
    {
     "name": "stderr",
     "output_type": "stream",
     "text": [
      " 46%|███████████████████████████████████████████▏                                                 | 93/200 [00:35<00:57,  1.85it/s]"
     ]
    },
    {
     "name": "stdout",
     "output_type": "stream",
     "text": [
      "Found response token subscription\n"
     ]
    },
    {
     "name": "stderr",
     "output_type": "stream",
     "text": [
      " 47%|███████████████████████████████████████████▋                                                 | 94/200 [00:36<00:51,  2.07it/s]"
     ]
    },
    {
     "name": "stdout",
     "output_type": "stream",
     "text": [
      "Found response token content\n"
     ]
    },
    {
     "name": "stderr",
     "output_type": "stream",
     "text": [
      " 48%|████████████████████████████████████████████▏                                                | 95/200 [00:36<00:50,  2.07it/s]"
     ]
    },
    {
     "name": "stdout",
     "output_type": "stream",
     "text": [
      "Found response token comments\n"
     ]
    },
    {
     "name": "stderr",
     "output_type": "stream",
     "text": [
      " 48%|████████████████████████████████████████████▋                                                | 96/200 [00:36<00:47,  2.21it/s]"
     ]
    },
    {
     "name": "stdout",
     "output_type": "stream",
     "text": [
      "Found response token content\n"
     ]
    },
    {
     "name": "stderr",
     "output_type": "stream",
     "text": [
      " 48%|█████████████████████████████████████████████                                                | 97/200 [00:37<00:42,  2.42it/s]"
     ]
    },
    {
     "name": "stdout",
     "output_type": "stream",
     "text": [
      "Found response token articles\n"
     ]
    },
    {
     "name": "stderr",
     "output_type": "stream",
     "text": [
      " 49%|█████████████████████████████████████████████▌                                               | 98/200 [00:37<00:44,  2.30it/s]"
     ]
    },
    {
     "name": "stdout",
     "output_type": "stream",
     "text": [
      "Found response token comments\n"
     ]
    },
    {
     "name": "stderr",
     "output_type": "stream",
     "text": [
      " 50%|██████████████████████████████████████████████                                               | 99/200 [00:38<00:42,  2.36it/s]"
     ]
    },
    {
     "name": "stdout",
     "output_type": "stream",
     "text": [
      "Found response token content\n"
     ]
    },
    {
     "name": "stderr",
     "output_type": "stream",
     "text": [
      " 50%|██████████████████████████████████████████████                                              | 100/200 [00:38<00:39,  2.54it/s]"
     ]
    },
    {
     "name": "stdout",
     "output_type": "stream",
     "text": [
      "Found response token corrective\n"
     ]
    },
    {
     "name": "stderr",
     "output_type": "stream",
     "text": [
      " 50%|██████████████████████████████████████████████▍                                             | 101/200 [00:38<00:37,  2.61it/s]"
     ]
    },
    {
     "name": "stdout",
     "output_type": "stream",
     "text": [
      "Found response token addresses\n"
     ]
    },
    {
     "name": "stderr",
     "output_type": "stream",
     "text": [
      " 51%|██████████████████████████████████████████████▉                                             | 102/200 [00:39<00:36,  2.69it/s]"
     ]
    },
    {
     "name": "stdout",
     "output_type": "stream",
     "text": [
      "Found response token content\n"
     ]
    },
    {
     "name": "stderr",
     "output_type": "stream",
     "text": [
      " 52%|███████████████████████████████████████████████▍                                            | 103/200 [00:39<00:38,  2.53it/s]"
     ]
    },
    {
     "name": "stdout",
     "output_type": "stream",
     "text": [
      "Found response token workflow\n"
     ]
    },
    {
     "name": "stderr",
     "output_type": "stream",
     "text": [
      " 52%|███████████████████████████████████████████████▊                                            | 104/200 [00:40<00:42,  2.26it/s]"
     ]
    },
    {
     "name": "stdout",
     "output_type": "stream",
     "text": [
      "Found response token quality\n"
     ]
    },
    {
     "name": "stderr",
     "output_type": "stream",
     "text": [
      " 52%|████████████████████████████████████████████████▎                                           | 105/200 [00:40<00:47,  2.01it/s]"
     ]
    },
    {
     "name": "stdout",
     "output_type": "stream",
     "text": [
      "Found response token billing\n"
     ]
    },
    {
     "name": "stderr",
     "output_type": "stream",
     "text": [
      " 53%|████████████████████████████████████████████████▊                                           | 106/200 [00:41<00:48,  1.94it/s]"
     ]
    },
    {
     "name": "stdout",
     "output_type": "stream",
     "text": [
      "Found response token social\n"
     ]
    },
    {
     "name": "stderr",
     "output_type": "stream",
     "text": [
      " 54%|█████████████████████████████████████████████████▏                                          | 107/200 [00:41<00:49,  1.87it/s]"
     ]
    },
    {
     "name": "stdout",
     "output_type": "stream",
     "text": [
      "Found response token documents\n"
     ]
    },
    {
     "name": "stderr",
     "output_type": "stream",
     "text": [
      " 54%|█████████████████████████████████████████████████▋                                          | 108/200 [00:42<00:43,  2.13it/s]"
     ]
    },
    {
     "name": "stdout",
     "output_type": "stream",
     "text": [
      "Found response token content\n"
     ]
    },
    {
     "name": "stderr",
     "output_type": "stream",
     "text": [
      " 55%|██████████████████████████████████████████████████▏                                         | 109/200 [00:42<00:39,  2.28it/s]"
     ]
    },
    {
     "name": "stdout",
     "output_type": "stream",
     "text": [
      "Found response token events\n"
     ]
    },
    {
     "name": "stderr",
     "output_type": "stream",
     "text": [
      " 55%|██████████████████████████████████████████████████▌                                         | 110/200 [00:42<00:35,  2.54it/s]"
     ]
    },
    {
     "name": "stdout",
     "output_type": "stream",
     "text": [
      "Found response token product\n"
     ]
    },
    {
     "name": "stderr",
     "output_type": "stream",
     "text": [
      " 56%|███████████████████████████████████████████████████                                         | 111/200 [00:43<00:36,  2.41it/s]"
     ]
    },
    {
     "name": "stdout",
     "output_type": "stream",
     "text": [
      "Found response token names\n"
     ]
    },
    {
     "name": "stderr",
     "output_type": "stream",
     "text": [
      " 56%|███████████████████████████████████████████████████▌                                        | 112/200 [00:43<00:34,  2.54it/s]"
     ]
    },
    {
     "name": "stdout",
     "output_type": "stream",
     "text": [
      "Found response token performance\n"
     ]
    },
    {
     "name": "stderr",
     "output_type": "stream",
     "text": [
      " 56%|███████████████████████████████████████████████████▉                                        | 113/200 [00:44<00:32,  2.68it/s]"
     ]
    },
    {
     "name": "stdout",
     "output_type": "stream",
     "text": [
      "Found response token event\n"
     ]
    },
    {
     "name": "stderr",
     "output_type": "stream",
     "text": [
      " 57%|████████████████████████████████████████████████████▍                                       | 114/200 [00:44<00:30,  2.80it/s]"
     ]
    },
    {
     "name": "stdout",
     "output_type": "stream",
     "text": [
      "Found response token conversion\n"
     ]
    },
    {
     "name": "stderr",
     "output_type": "stream",
     "text": [
      " 57%|████████████████████████████████████████████████████▉                                       | 115/200 [00:44<00:28,  3.00it/s]"
     ]
    },
    {
     "name": "stdout",
     "output_type": "stream",
     "text": [
      "Found response token year\n"
     ]
    },
    {
     "name": "stderr",
     "output_type": "stream",
     "text": [
      " 58%|█████████████████████████████████████████████████████▎                                      | 116/200 [00:44<00:26,  3.12it/s]"
     ]
    },
    {
     "name": "stdout",
     "output_type": "stream",
     "text": [
      "Found response token lists\n"
     ]
    },
    {
     "name": "stderr",
     "output_type": "stream",
     "text": [
      " 58%|█████████████████████████████████████████████████████▊                                      | 117/200 [00:45<00:27,  3.03it/s]"
     ]
    },
    {
     "name": "stdout",
     "output_type": "stream",
     "text": [
      "Found response token content\n"
     ]
    },
    {
     "name": "stderr",
     "output_type": "stream",
     "text": [
      " 59%|██████████████████████████████████████████████████████▎                                     | 118/200 [00:45<00:28,  2.90it/s]"
     ]
    },
    {
     "name": "stdout",
     "output_type": "stream",
     "text": [
      "Found response token place\n"
     ]
    },
    {
     "name": "stderr",
     "output_type": "stream",
     "text": [
      " 60%|██████████████████████████████████████████████████████▋                                     | 119/200 [00:46<00:30,  2.65it/s]"
     ]
    },
    {
     "name": "stdout",
     "output_type": "stream",
     "text": [
      "Found response token marketing\n"
     ]
    },
    {
     "name": "stderr",
     "output_type": "stream",
     "text": [
      " 60%|███████████████████████████████████████████████████████▏                                    | 120/200 [00:46<00:29,  2.76it/s]"
     ]
    },
    {
     "name": "stdout",
     "output_type": "stream",
     "text": [
      "Found response token workflow\n"
     ]
    },
    {
     "name": "stderr",
     "output_type": "stream",
     "text": [
      " 60%|███████████████████████████████████████████████████████▋                                    | 121/200 [00:46<00:31,  2.55it/s]"
     ]
    },
    {
     "name": "stdout",
     "output_type": "stream",
     "text": [
      "Found response token content\n"
     ]
    },
    {
     "name": "stderr",
     "output_type": "stream",
     "text": [
      " 61%|████████████████████████████████████████████████████████                                    | 122/200 [00:47<00:27,  2.79it/s]"
     ]
    },
    {
     "name": "stdout",
     "output_type": "stream",
     "text": [
      "Found response token categories\n"
     ]
    },
    {
     "name": "stderr",
     "output_type": "stream",
     "text": [
      " 62%|████████████████████████████████████████████████████████▌                                   | 123/200 [00:47<00:26,  2.88it/s]"
     ]
    },
    {
     "name": "stdout",
     "output_type": "stream",
     "text": [
      "Found response token postal\n"
     ]
    },
    {
     "name": "stderr",
     "output_type": "stream",
     "text": [
      " 62%|█████████████████████████████████████████████████████████                                   | 124/200 [00:47<00:27,  2.81it/s]"
     ]
    },
    {
     "name": "stdout",
     "output_type": "stream",
     "text": [
      "Found response token search\n"
     ]
    },
    {
     "name": "stderr",
     "output_type": "stream",
     "text": [
      " 62%|█████████████████████████████████████████████████████████▌                                  | 125/200 [00:48<00:24,  3.00it/s]"
     ]
    },
    {
     "name": "stdout",
     "output_type": "stream",
     "text": [
      "Found response token content\n"
     ]
    },
    {
     "name": "stderr",
     "output_type": "stream",
     "text": [
      " 63%|█████████████████████████████████████████████████████████▉                                  | 126/200 [00:48<00:23,  3.12it/s]"
     ]
    },
    {
     "name": "stdout",
     "output_type": "stream",
     "text": [
      "Found response token customer\n"
     ]
    },
    {
     "name": "stderr",
     "output_type": "stream",
     "text": [
      " 64%|██████████████████████████████████████████████████████████▍                                 | 127/200 [00:48<00:23,  3.05it/s]"
     ]
    },
    {
     "name": "stdout",
     "output_type": "stream",
     "text": [
      "Found response token day\n"
     ]
    },
    {
     "name": "stderr",
     "output_type": "stream",
     "text": [
      " 64%|██████████████████████████████████████████████████████████▉                                 | 128/200 [00:49<00:26,  2.67it/s]"
     ]
    },
    {
     "name": "stdout",
     "output_type": "stream",
     "text": [
      "Found response token content\n"
     ]
    },
    {
     "name": "stderr",
     "output_type": "stream",
     "text": [
      " 64%|███████████████████████████████████████████████████████████▎                                | 129/200 [00:49<00:33,  2.09it/s]"
     ]
    },
    {
     "name": "stdout",
     "output_type": "stream",
     "text": [
      "Found response token log\n"
     ]
    },
    {
     "name": "stderr",
     "output_type": "stream",
     "text": [
      " 65%|███████████████████████████████████████████████████████████▊                                | 130/200 [00:50<00:33,  2.06it/s]"
     ]
    },
    {
     "name": "stdout",
     "output_type": "stream",
     "text": [
      "Found response token payment\n"
     ]
    },
    {
     "name": "stderr",
     "output_type": "stream",
     "text": [
      " 66%|████████████████████████████████████████████████████████████▎                               | 131/200 [00:50<00:32,  2.12it/s]"
     ]
    },
    {
     "name": "stdout",
     "output_type": "stream",
     "text": [
      "Found response token document\n"
     ]
    },
    {
     "name": "stderr",
     "output_type": "stream",
     "text": [
      " 66%|████████████████████████████████████████████████████████████▋                               | 132/200 [00:51<00:28,  2.39it/s]"
     ]
    },
    {
     "name": "stdout",
     "output_type": "stream",
     "text": [
      "Found response token metrics\n"
     ]
    },
    {
     "name": "stderr",
     "output_type": "stream",
     "text": [
      " 66%|█████████████████████████████████████████████████████████████▏                              | 133/200 [00:51<00:26,  2.57it/s]"
     ]
    },
    {
     "name": "stdout",
     "output_type": "stream",
     "text": [
      "Found response token user\n"
     ]
    },
    {
     "name": "stderr",
     "output_type": "stream",
     "text": [
      " 67%|█████████████████████████████████████████████████████████████▋                              | 134/200 [00:51<00:25,  2.63it/s]"
     ]
    },
    {
     "name": "stdout",
     "output_type": "stream",
     "text": [
      "Found response token user\n"
     ]
    },
    {
     "name": "stderr",
     "output_type": "stream",
     "text": [
      " 68%|██████████████████████████████████████████████████████████████                              | 135/200 [00:52<00:24,  2.61it/s]"
     ]
    },
    {
     "name": "stdout",
     "output_type": "stream",
     "text": [
      "Found response token feature\n"
     ]
    },
    {
     "name": "stderr",
     "output_type": "stream",
     "text": [
      " 68%|██████████████████████████████████████████████████████████████▌                             | 136/200 [00:52<00:22,  2.81it/s]"
     ]
    },
    {
     "name": "stdout",
     "output_type": "stream",
     "text": [
      "Found response token document\n"
     ]
    },
    {
     "name": "stderr",
     "output_type": "stream",
     "text": [
      " 68%|███████████████████████████████████████████████████████████████                             | 137/200 [00:52<00:21,  2.97it/s]"
     ]
    },
    {
     "name": "stdout",
     "output_type": "stream",
     "text": [
      "Found response token document\n"
     ]
    },
    {
     "name": "stderr",
     "output_type": "stream",
     "text": [
      " 69%|███████████████████████████████████████████████████████████████▍                            | 138/200 [00:53<00:23,  2.61it/s]"
     ]
    },
    {
     "name": "stdout",
     "output_type": "stream",
     "text": [
      "Found response token email\n"
     ]
    },
    {
     "name": "stderr",
     "output_type": "stream",
     "text": [
      " 70%|███████████████████████████████████████████████████████████████▉                            | 139/200 [00:53<00:21,  2.83it/s]"
     ]
    },
    {
     "name": "stdout",
     "output_type": "stream",
     "text": [
      "Found response token content\n"
     ]
    },
    {
     "name": "stderr",
     "output_type": "stream",
     "text": [
      " 70%|████████████████████████████████████████████████████████████████▍                           | 140/200 [00:53<00:20,  2.90it/s]"
     ]
    },
    {
     "name": "stdout",
     "output_type": "stream",
     "text": [
      "Found response token content\n"
     ]
    },
    {
     "name": "stderr",
     "output_type": "stream",
     "text": [
      " 70%|████████████████████████████████████████████████████████████████▊                           | 141/200 [00:54<00:20,  2.88it/s]"
     ]
    },
    {
     "name": "stdout",
     "output_type": "stream",
     "text": [
      "Found response token product\n"
     ]
    },
    {
     "name": "stderr",
     "output_type": "stream",
     "text": [
      " 71%|█████████████████████████████████████████████████████████████████▎                          | 142/200 [00:54<00:19,  2.95it/s]"
     ]
    },
    {
     "name": "stdout",
     "output_type": "stream",
     "text": [
      "Found response token audit\n"
     ]
    },
    {
     "name": "stderr",
     "output_type": "stream",
     "text": [
      " 72%|█████████████████████████████████████████████████████████████████▊                          | 143/200 [00:54<00:19,  2.90it/s]"
     ]
    },
    {
     "name": "stdout",
     "output_type": "stream",
     "text": [
      "Found response token social\n"
     ]
    },
    {
     "name": "stderr",
     "output_type": "stream",
     "text": [
      " 72%|██████████████████████████████████████████████████████████████████▏                         | 144/200 [00:55<00:18,  3.04it/s]"
     ]
    },
    {
     "name": "stdout",
     "output_type": "stream",
     "text": [
      "Found response token notifications\n"
     ]
    },
    {
     "name": "stderr",
     "output_type": "stream",
     "text": [
      " 72%|██████████████████████████████████████████████████████████████████▋                         | 145/200 [00:55<00:17,  3.09it/s]"
     ]
    },
    {
     "name": "stdout",
     "output_type": "stream",
     "text": [
      "Found response token product\n"
     ]
    },
    {
     "name": "stderr",
     "output_type": "stream",
     "text": [
      " 73%|███████████████████████████████████████████████████████████████████▏                        | 146/200 [00:55<00:17,  3.01it/s]"
     ]
    },
    {
     "name": "stdout",
     "output_type": "stream",
     "text": [
      "Found response token values\n"
     ]
    },
    {
     "name": "stderr",
     "output_type": "stream",
     "text": [
      " 74%|███████████████████████████████████████████████████████████████████▌                        | 147/200 [00:56<00:17,  2.96it/s]"
     ]
    },
    {
     "name": "stdout",
     "output_type": "stream",
     "text": [
      "Found response token project\n"
     ]
    },
    {
     "name": "stderr",
     "output_type": "stream",
     "text": [
      " 74%|████████████████████████████████████████████████████████████████████                        | 148/200 [00:56<00:17,  3.04it/s]"
     ]
    },
    {
     "name": "stdout",
     "output_type": "stream",
     "text": [
      "Found response token login\n"
     ]
    },
    {
     "name": "stderr",
     "output_type": "stream",
     "text": [
      " 74%|████████████████████████████████████████████████████████████████████▌                       | 149/200 [00:57<00:20,  2.53it/s]"
     ]
    },
    {
     "name": "stdout",
     "output_type": "stream",
     "text": [
      "Found response token data\n"
     ]
    },
    {
     "name": "stderr",
     "output_type": "stream",
     "text": [
      " 75%|█████████████████████████████████████████████████████████████████████                       | 150/200 [00:57<00:18,  2.66it/s]"
     ]
    },
    {
     "name": "stdout",
     "output_type": "stream",
     "text": [
      "Found response token risk\n"
     ]
    },
    {
     "name": "stderr",
     "output_type": "stream",
     "text": [
      " 76%|█████████████████████████████████████████████████████████████████████▍                      | 151/200 [00:57<00:17,  2.83it/s]"
     ]
    },
    {
     "name": "stdout",
     "output_type": "stream",
     "text": [
      "Found response token access\n"
     ]
    },
    {
     "name": "stderr",
     "output_type": "stream",
     "text": [
      " 76%|█████████████████████████████████████████████████████████████████████▉                      | 152/200 [00:58<00:15,  3.01it/s]"
     ]
    },
    {
     "name": "stdout",
     "output_type": "stream",
     "text": [
      "Found response token ratings\n"
     ]
    },
    {
     "name": "stderr",
     "output_type": "stream",
     "text": [
      " 76%|██████████████████████████████████████████████████████████████████████▍                     | 153/200 [00:58<00:15,  3.08it/s]"
     ]
    },
    {
     "name": "stdout",
     "output_type": "stream",
     "text": [
      "Found response token project\n"
     ]
    },
    {
     "name": "stderr",
     "output_type": "stream",
     "text": [
      " 77%|██████████████████████████████████████████████████████████████████████▊                     | 154/200 [00:58<00:14,  3.15it/s]"
     ]
    },
    {
     "name": "stdout",
     "output_type": "stream",
     "text": [
      "Found response token service\n"
     ]
    },
    {
     "name": "stderr",
     "output_type": "stream",
     "text": [
      " 78%|███████████████████████████████████████████████████████████████████████▎                    | 155/200 [01:00<00:31,  1.43it/s]"
     ]
    },
    {
     "name": "stdout",
     "output_type": "stream",
     "text": [
      "Found response token shipping\n"
     ]
    },
    {
     "name": "stderr",
     "output_type": "stream",
     "text": [
      " 78%|███████████████████████████████████████████████████████████████████████▊                    | 156/200 [01:00<00:24,  1.76it/s]"
     ]
    },
    {
     "name": "stdout",
     "output_type": "stream",
     "text": [
      "Found response token document\n"
     ]
    },
    {
     "name": "stderr",
     "output_type": "stream",
     "text": [
      " 78%|████████████████████████████████████████████████████████████████████████▏                   | 157/200 [01:00<00:20,  2.07it/s]"
     ]
    },
    {
     "name": "stdout",
     "output_type": "stream",
     "text": [
      "Found response token security\n"
     ]
    },
    {
     "name": "stderr",
     "output_type": "stream",
     "text": [
      " 79%|████████████████████████████████████████████████████████████████████████▋                   | 158/200 [01:01<00:18,  2.32it/s]"
     ]
    },
    {
     "name": "stdout",
     "output_type": "stream",
     "text": [
      "Found response token changes\n"
     ]
    },
    {
     "name": "stderr",
     "output_type": "stream",
     "text": [
      " 80%|█████████████████████████████████████████████████████████████████████████▏                  | 159/200 [01:01<00:16,  2.46it/s]"
     ]
    },
    {
     "name": "stdout",
     "output_type": "stream",
     "text": [
      "Found response token order\n",
      "Found response token order\n"
     ]
    },
    {
     "name": "stderr",
     "output_type": "stream",
     "text": [
      " 80%|█████████████████████████████████████████████████████████████████████████▌                  | 160/200 [01:01<00:15,  2.51it/s]"
     ]
    },
    {
     "name": "stdout",
     "output_type": "stream",
     "text": [
      "Found response token search\n"
     ]
    },
    {
     "name": "stderr",
     "output_type": "stream",
     "text": [
      " 80%|██████████████████████████████████████████████████████████████████████████                  | 161/200 [01:02<00:15,  2.59it/s]"
     ]
    },
    {
     "name": "stdout",
     "output_type": "stream",
     "text": [
      "Found response token report\n"
     ]
    },
    {
     "name": "stderr",
     "output_type": "stream",
     "text": [
      " 81%|██████████████████████████████████████████████████████████████████████████▌                 | 162/200 [01:02<00:13,  2.77it/s]"
     ]
    },
    {
     "name": "stdout",
     "output_type": "stream",
     "text": [
      "Found response token conversations\n"
     ]
    },
    {
     "name": "stderr",
     "output_type": "stream",
     "text": [
      " 82%|██████████████████████████████████████████████████████████████████████████▉                 | 163/200 [01:02<00:12,  2.94it/s]"
     ]
    },
    {
     "name": "stdout",
     "output_type": "stream",
     "text": [
      "Found response token joins\n"
     ]
    },
    {
     "name": "stderr",
     "output_type": "stream",
     "text": [
      " 82%|███████████████████████████████████████████████████████████████████████████▍                | 164/200 [01:03<00:11,  3.15it/s]"
     ]
    },
    {
     "name": "stdout",
     "output_type": "stream",
     "text": [
      "Found response token email\n"
     ]
    },
    {
     "name": "stderr",
     "output_type": "stream",
     "text": [
      " 82%|███████████████████████████████████████████████████████████████████████████▉                | 165/200 [01:03<00:10,  3.26it/s]"
     ]
    },
    {
     "name": "stdout",
     "output_type": "stream",
     "text": [
      "Found response token campaign\n"
     ]
    },
    {
     "name": "stderr",
     "output_type": "stream",
     "text": [
      " 83%|████████████████████████████████████████████████████████████████████████████▎               | 166/200 [01:03<00:12,  2.81it/s]"
     ]
    },
    {
     "name": "stdout",
     "output_type": "stream",
     "text": [
      "Found response token risk\n"
     ]
    },
    {
     "name": "stderr",
     "output_type": "stream",
     "text": [
      " 84%|████████████████████████████████████████████████████████████████████████████▊               | 167/200 [01:04<00:11,  2.92it/s]"
     ]
    },
    {
     "name": "stdout",
     "output_type": "stream",
     "text": [
      "Found response token marketing\n"
     ]
    },
    {
     "name": "stderr",
     "output_type": "stream",
     "text": [
      " 84%|█████████████████████████████████████████████████████████████████████████████▎              | 168/200 [01:04<00:10,  3.07it/s]"
     ]
    },
    {
     "name": "stdout",
     "output_type": "stream",
     "text": [
      "Found response token audit\n"
     ]
    },
    {
     "name": "stderr",
     "output_type": "stream",
     "text": [
      " 84%|█████████████████████████████████████████████████████████████████████████████▋              | 169/200 [01:04<00:11,  2.61it/s]"
     ]
    },
    {
     "name": "stdout",
     "output_type": "stream",
     "text": [
      "Found response token sign\n"
     ]
    },
    {
     "name": "stderr",
     "output_type": "stream",
     "text": [
      " 85%|██████████████████████████████████████████████████████████████████████████████▏             | 170/200 [01:05<00:10,  2.79it/s]"
     ]
    },
    {
     "name": "stdout",
     "output_type": "stream",
     "text": [
      "Found response token service\n"
     ]
    },
    {
     "name": "stderr",
     "output_type": "stream",
     "text": [
      " 86%|██████████████████████████████████████████████████████████████████████████████▋             | 171/200 [01:05<00:10,  2.90it/s]"
     ]
    },
    {
     "name": "stdout",
     "output_type": "stream",
     "text": [
      "Found response token address\n"
     ]
    },
    {
     "name": "stderr",
     "output_type": "stream",
     "text": [
      " 86%|███████████████████████████████████████████████████████████████████████████████             | 172/200 [01:06<00:11,  2.49it/s]"
     ]
    },
    {
     "name": "stdout",
     "output_type": "stream",
     "text": [
      "Found response token customer\n"
     ]
    },
    {
     "name": "stderr",
     "output_type": "stream",
     "text": [
      " 86%|███████████████████████████████████████████████████████████████████████████████▌            | 173/200 [01:06<00:10,  2.67it/s]"
     ]
    },
    {
     "name": "stdout",
     "output_type": "stream",
     "text": [
      "Found response token course\n"
     ]
    },
    {
     "name": "stderr",
     "output_type": "stream",
     "text": [
      " 87%|████████████████████████████████████████████████████████████████████████████████            | 174/200 [01:06<00:09,  2.84it/s]"
     ]
    },
    {
     "name": "stdout",
     "output_type": "stream",
     "text": [
      "Found response token escalation\n"
     ]
    },
    {
     "name": "stderr",
     "output_type": "stream",
     "text": [
      " 88%|████████████████████████████████████████████████████████████████████████████████▌           | 175/200 [01:07<00:09,  2.76it/s]"
     ]
    },
    {
     "name": "stdout",
     "output_type": "stream",
     "text": [
      "Found response token project\n"
     ]
    },
    {
     "name": "stderr",
     "output_type": "stream",
     "text": [
      " 88%|████████████████████████████████████████████████████████████████████████████████▉           | 176/200 [01:07<00:08,  2.97it/s]"
     ]
    },
    {
     "name": "stdout",
     "output_type": "stream",
     "text": [
      "Found response token cancel\n"
     ]
    },
    {
     "name": "stderr",
     "output_type": "stream",
     "text": [
      " 88%|█████████████████████████████████████████████████████████████████████████████████▍          | 177/200 [01:07<00:08,  2.86it/s]"
     ]
    },
    {
     "name": "stdout",
     "output_type": "stream",
     "text": [
      "Found response token marketing\n"
     ]
    },
    {
     "name": "stderr",
     "output_type": "stream",
     "text": [
      " 89%|█████████████████████████████████████████████████████████████████████████████████▉          | 178/200 [01:08<00:07,  2.82it/s]"
     ]
    },
    {
     "name": "stdout",
     "output_type": "stream",
     "text": [
      "Found response token user\n"
     ]
    },
    {
     "name": "stderr",
     "output_type": "stream",
     "text": [
      " 90%|██████████████████████████████████████████████████████████████████████████████████▎         | 179/200 [01:08<00:07,  2.80it/s]"
     ]
    },
    {
     "name": "stdout",
     "output_type": "stream",
     "text": [
      "Found response token risk\n"
     ]
    },
    {
     "name": "stderr",
     "output_type": "stream",
     "text": [
      " 90%|██████████████████████████████████████████████████████████████████████████████████▊         | 180/200 [01:08<00:06,  2.93it/s]"
     ]
    },
    {
     "name": "stdout",
     "output_type": "stream",
     "text": [
      "Found response token brand\n"
     ]
    },
    {
     "name": "stderr",
     "output_type": "stream",
     "text": [
      " 90%|███████████████████████████████████████████████████████████████████████████████████▎        | 181/200 [01:09<00:06,  3.01it/s]"
     ]
    },
    {
     "name": "stdout",
     "output_type": "stream",
     "text": [
      "Found response token prices\n"
     ]
    },
    {
     "name": "stderr",
     "output_type": "stream",
     "text": [
      " 91%|███████████████████████████████████████████████████████████████████████████████████▋        | 182/200 [01:09<00:05,  3.02it/s]"
     ]
    },
    {
     "name": "stdout",
     "output_type": "stream",
     "text": [
      "Found response token api\n"
     ]
    },
    {
     "name": "stderr",
     "output_type": "stream",
     "text": [
      " 92%|████████████████████████████████████████████████████████████████████████████████████▏       | 183/200 [01:09<00:05,  2.98it/s]"
     ]
    },
    {
     "name": "stdout",
     "output_type": "stream",
     "text": [
      "Found response token page\n"
     ]
    },
    {
     "name": "stderr",
     "output_type": "stream",
     "text": [
      " 92%|████████████████████████████████████████████████████████████████████████████████████▋       | 184/200 [01:10<00:05,  2.84it/s]"
     ]
    },
    {
     "name": "stdout",
     "output_type": "stream",
     "text": [
      "Found response token product\n"
     ]
    },
    {
     "name": "stderr",
     "output_type": "stream",
     "text": [
      " 92%|█████████████████████████████████████████████████████████████████████████████████████       | 185/200 [01:10<00:06,  2.46it/s]"
     ]
    },
    {
     "name": "stdout",
     "output_type": "stream",
     "text": [
      "Found response token active\n"
     ]
    },
    {
     "name": "stderr",
     "output_type": "stream",
     "text": [
      " 93%|█████████████████████████████████████████████████████████████████████████████████████▌      | 186/200 [01:11<00:05,  2.52it/s]"
     ]
    },
    {
     "name": "stdout",
     "output_type": "stream",
     "text": [
      "Found response token complaints\n"
     ]
    },
    {
     "name": "stderr",
     "output_type": "stream",
     "text": [
      " 94%|██████████████████████████████████████████████████████████████████████████████████████      | 187/200 [01:11<00:04,  2.76it/s]"
     ]
    },
    {
     "name": "stdout",
     "output_type": "stream",
     "text": [
      "Found response token product\n"
     ]
    },
    {
     "name": "stderr",
     "output_type": "stream",
     "text": [
      " 94%|██████████████████████████████████████████████████████████████████████████████████████▍     | 188/200 [01:11<00:04,  2.97it/s]"
     ]
    },
    {
     "name": "stdout",
     "output_type": "stream",
     "text": [
      "Found response token service\n"
     ]
    },
    {
     "name": "stderr",
     "output_type": "stream",
     "text": [
      " 94%|██████████████████████████████████████████████████████████████████████████████████████▉     | 189/200 [01:11<00:03,  3.02it/s]"
     ]
    },
    {
     "name": "stdout",
     "output_type": "stream",
     "text": [
      "Found response token inv\n"
     ]
    },
    {
     "name": "stderr",
     "output_type": "stream",
     "text": [
      " 95%|███████████████████████████████████████████████████████████████████████████████████████▍    | 190/200 [01:12<00:03,  2.94it/s]"
     ]
    },
    {
     "name": "stdout",
     "output_type": "stream",
     "text": [
      "Found response token api\n"
     ]
    },
    {
     "name": "stderr",
     "output_type": "stream",
     "text": [
      " 96%|███████████████████████████████████████████████████████████████████████████████████████▊    | 191/200 [01:12<00:03,  2.95it/s]"
     ]
    },
    {
     "name": "stdout",
     "output_type": "stream",
     "text": [
      "Found response token media\n"
     ]
    },
    {
     "name": "stderr",
     "output_type": "stream",
     "text": [
      " 96%|████████████████████████████████████████████████████████████████████████████████████████▎   | 192/200 [01:13<00:02,  2.81it/s]"
     ]
    },
    {
     "name": "stdout",
     "output_type": "stream",
     "text": [
      "Found response token order\n"
     ]
    },
    {
     "name": "stderr",
     "output_type": "stream",
     "text": [
      " 96%|████████████████████████████████████████████████████████████████████████████████████████▊   | 193/200 [01:13<00:02,  2.98it/s]"
     ]
    },
    {
     "name": "stdout",
     "output_type": "stream",
     "text": [
      "Found response token videos\n"
     ]
    },
    {
     "name": "stderr",
     "output_type": "stream",
     "text": [
      " 97%|█████████████████████████████████████████████████████████████████████████████████████████▏  | 194/200 [01:13<00:01,  3.12it/s]"
     ]
    },
    {
     "name": "stdout",
     "output_type": "stream",
     "text": [
      "Found response token calendars\n"
     ]
    },
    {
     "name": "stderr",
     "output_type": "stream",
     "text": [
      " 98%|█████████████████████████████████████████████████████████████████████████████████████████▋  | 195/200 [01:14<00:01,  2.85it/s]"
     ]
    },
    {
     "name": "stdout",
     "output_type": "stream",
     "text": [
      "Found response token order\n"
     ]
    },
    {
     "name": "stderr",
     "output_type": "stream",
     "text": [
      " 98%|██████████████████████████████████████████████████████████████████████████████████████████▏ | 196/200 [01:14<00:01,  2.84it/s]"
     ]
    },
    {
     "name": "stdout",
     "output_type": "stream",
     "text": [
      "Found response token regions\n"
     ]
    },
    {
     "name": "stderr",
     "output_type": "stream",
     "text": [
      " 98%|██████████████████████████████████████████████████████████████████████████████████████████▌ | 197/200 [01:14<00:01,  2.58it/s]"
     ]
    },
    {
     "name": "stdout",
     "output_type": "stream",
     "text": [
      "Found response token conversion\n"
     ]
    },
    {
     "name": "stderr",
     "output_type": "stream",
     "text": [
      " 99%|███████████████████████████████████████████████████████████████████████████████████████████ | 198/200 [01:15<00:00,  2.60it/s]"
     ]
    },
    {
     "name": "stdout",
     "output_type": "stream",
     "text": [
      "Found response token marketing\n"
     ]
    },
    {
     "name": "stderr",
     "output_type": "stream",
     "text": [
      "100%|███████████████████████████████████████████████████████████████████████████████████████████▌| 199/200 [01:15<00:00,  2.60it/s]"
     ]
    },
    {
     "name": "stdout",
     "output_type": "stream",
     "text": [
      "Found response token api\n"
     ]
    },
    {
     "name": "stderr",
     "output_type": "stream",
     "text": [
      "100%|████████████████████████████████████████████████████████████████████████████████████████████| 200/200 [01:15<00:00,  2.63it/s]"
     ]
    },
    {
     "name": "stdout",
     "output_type": "stream",
     "text": [
      "Found response token workflow\n"
     ]
    },
    {
     "name": "stderr",
     "output_type": "stream",
     "text": [
      "\n"
     ]
    },
    {
     "data": {
      "text/plain": [
       "['### Instruction: Can you get me recent message, date of birth, reply id, meta_keywords, url, downloads and referral from refinement options? ### Context: CREATE TABLE search_filters ( downloads BIGINT, passed BOOLEAN, website VARCHAR(255), discount DECIMAL(10,2), birthday DATE, is_active BOOLEAN, sequence SMALLINT, last_message TEXT, meta_keywords VARCHAR(500), response_id INTEGER, reference TEXT ) ### Response: SELECT last_message, birthday, response_id, meta_keywords, website, downloads, reference FROM search_filters',\n",
       " '### Instruction: I need a list of is_admin from digital assets ### Context: CREATE TABLE media ( parent_task_id BIGINT, team_id BIGINT, total_price DECIMAL(10,2), average_score DECIMAL(5,2), is_admin TINYINT(1), discount FLOAT, project_id INTEGER ) ### Response: SELECT is_admin FROM media',\n",
       " '### Instruction: Get currency, username, release_date, license and unseen count from service feedback ### Context: CREATE TABLE customer_satisfaction ( username VARCHAR(50), release_date DATE, license TEXT, score INTEGER, currency CHAR(3), started_at TIMESTAMP, is_admin BOOLEAN, genre_id INTEGER, unread_count SMALLINT ) ### Response: SELECT currency, username, release_date, license, unread_count FROM customer_satisfaction',\n",
       " '### Instruction: SELECT clicks FROM format blueprints ### Context: CREATE TABLE document_templates ( location GEOMETRY, cost NUMERIC(10,2), votes BIGINT, clicks BIGINT ) ### Response: SELECT clicks FROM document_templates',\n",
       " '### Instruction: What are the updated_at, accurate, name, lat and publish_date in filter options? ### Context: CREATE TABLE report_parameters ( publish_date DATE, name VARCHAR(255), correct BOOLEAN, updated_at DATETIME, brand VARCHAR(100), latitude DOUBLE ) ### Response: SELECT updated_at, correct, name, latitude, publish_date FROM report_parameters',\n",
       " '### Instruction: Pull up category, chat_id, end_date and middle_name from customers ### Context: CREATE TABLE customers ( chat_id BIGINT, middle_name VARCHAR(100), category VARCHAR(50), end_date DATE ) ### Response: SELECT category, chat_id, end_date, middle_name FROM customers',\n",
       " '### Instruction: Extract tracking source, specifics and url from execution log ### Context: CREATE TABLE workflow_history ( link TEXT, details JSON, certification VARCHAR(255), utm_source VARCHAR(100) ) ### Response: SELECT utm_source, details, link FROM workflow_history',\n",
       " '### Instruction: I want to see blog_id and id from tasks ### Context: CREATE TABLE jobs ( id SERIAL, blog_id INTEGER ) ### Response: SELECT blog_id, id FROM jobs',\n",
       " '### Instruction: From visual identity, get me details and classification ### Context: CREATE TABLE brand_assets ( browser VARCHAR(100), device_type VARCHAR(50), direction FLOAT, type VARCHAR(50), position INTEGER, address_line2 VARCHAR(255), product_id INTEGER, details TEXT, external_id VARCHAR(50), isbn VARCHAR(13) ) ### Response: SELECT details, type FROM brand_assets',\n",
       " '### Instruction: Can you get me qualification, completion time and reply id from reach out? ### Context: CREATE TABLE contact ( first_name VARCHAR(100), finished_at DATETIME, department TEXT, response_id INTEGER, build_number SMALLINT, external_id VARCHAR(50), education TEXT, total_price NUMERIC(10,2), playlist_id INTEGER ) ### Response: SELECT education, finished_at, response_id FROM contact',\n",
       " '### Instruction: From api overview, get me citizenship, thread_id and time ### Context: CREATE TABLE api_documentation ( thread_id INTEGER, nationality VARCHAR(100), time TIME ) ### Response: SELECT nationality, thread_id, time FROM api_documentation',\n",
       " '### Instruction: Look up rating, content_blob, survey_id, verified_at, salary, end_date, altitude and pending items from lookup tips ### Context: CREATE TABLE search_suggestions ( salary FLOAT, score DECIMAL(5,2), verified_at TIMESTAMP, altitude DECIMAL(9,6), content_blob BYTEA, survey_id INTEGER, end_date DATETIME, unread_count INTEGER ) ### Response: SELECT score, content_blob, survey_id, verified_at, salary, end_date, altitude, unread_count FROM search_suggestions',\n",
       " '### Instruction: Can you get me subject id, serial, message and is_published from reset codes? ### Context: CREATE TABLE password_reset_tokens ( customer_id INTEGER, milestone TEXT, message TEXT, price NUMERIC(10,2), topic_id INTEGER, gender CHAR(1), subject VARCHAR(255), type VARCHAR(50), is_published TINYINT(1), playlist_id BIGINT, serial_number VARCHAR(100), properties TEXT ) ### Response: SELECT topic_id, serial_number, message, is_published FROM password_reset_tokens',\n",
       " '### Instruction: In membership packages, list backup contact, user browser and format ### Context: CREATE TABLE subscription_plans ( format VARCHAR(50), password_hash VARCHAR(255), browser VARCHAR(100), emergency_contact TEXT, is_enabled BOOLEAN, time_taken SMALLINT, ean VARCHAR(13), reference TEXT, isbn TEXT, group_id INTEGER ) ### Response: SELECT emergency_contact, browser, format FROM subscription_plans',\n",
       " '### Instruction: Check collection id, api_secret, version, member id, click count, updated_at and os in report_access ### Context: CREATE TABLE report_access ( clicks BIGINT, version VARCHAR(50), album_id INTEGER, display_name VARCHAR(100), updated_at TIMESTAMP, currency_code VARCHAR(3), operating_system VARCHAR(255), state CHAR(2), user_id BIGINT, api_secret TEXT, build_number INTEGER ) ### Response: SELECT album_id, api_secret, version, user_id, clicks, updated_at, operating_system FROM report_access',\n",
       " '### Instruction: Would you mind getting heaviness, date_of_birth, is_default, postal_code, street and video_id from archive? ### Context: CREATE TABLE archive ( street VARCHAR(255), is_default BOOLEAN, salary FLOAT, weight DECIMAL(10,2), video_id INTEGER, postal_code CHAR(10), date_of_birth DATE ) ### Response: SELECT weight, date_of_birth, is_default, postal_code, street, video_id FROM archive',\n",
       " '### Instruction: Give me count and locale from time points ### Context: CREATE TABLE dates ( published_at DATETIME, expires_at TIMESTAMP, locale VARCHAR(10), currency_code CHAR(3), count BIGINT ) ### Response: SELECT count, locale FROM dates',\n",
       " '### Instruction: In the wishlist table, display device_type, votes and url ### Context: CREATE TABLE wishlist ( end_datetime DATETIME, votes INTEGER, device_type VARCHAR(50), url VARCHAR(2083), depth DECIMAL(10,2) ) ### Response: SELECT device_type, votes, url FROM wishlist',\n",
       " '### Instruction: Get a readout of campaign medium and question from project markers ### Context: CREATE TABLE milestones ( question TEXT, utm_medium VARCHAR(100) ) ### Response: SELECT utm_medium, question FROM milestones',\n",
       " '### Instruction: Looking in preferred items, show me gpa and network address ### Context: CREATE TABLE wishlist ( gpa FLOAT, file_id BIGINT, started_at DATETIME, area GEOMETRY, experience TEXT, ip_address VARCHAR(45), parent_id BIGINT, body TEXT ) ### Response: SELECT gpa, ip_address FROM wishlist',\n",
       " '### Instruction: Run a query for date_fired, source_id and response comment in contact methods ### Context: CREATE TABLE support_channels ( feedback TEXT, size INTEGER, version VARCHAR(50), end_date DATE, longitude FLOAT, date_fired DATE, source_id BIGINT, address TEXT, owner_id INTEGER, percentage DECIMAL(5,2), data BYTEA ) ### Response: SELECT date_fired, source_id, feedback FROM support_channels',\n",
       " '### Instruction: Fetch image and explanation from file editions ### Context: CREATE TABLE document_versions ( description TEXT, image VARCHAR(255) ) ### Response: SELECT image, description FROM document_versions',\n",
       " '### Instruction: Check availability, birth_date, properties, downloads, graduation year, age, cost, latest login and referring url in preferred items ### Context: CREATE TABLE wishlist ( age SMALLINT, birth_date DATE, availability VARCHAR(50), price NUMERIC(10,2), downloads INTEGER, metadata JSON, video_id INTEGER, token VARCHAR(255), referrer TEXT, last_login DATETIME, year_graduated YEAR, properties JSON ) ### Response: SELECT availability, birth_date, properties, downloads, year_graduated, age, price, last_login, referrer FROM wishlist',\n",
       " '### Instruction: Out of profile, pull keyword, file_name, points, location, push_token, date deleted, overview, heaviness, actual_time, status and connection ### Context: CREATE TABLE profile ( summary VARCHAR(500), location GEOMETRY, relation TEXT, weight DECIMAL(10,2), status ENUM, tag VARCHAR(50), points SMALLINT, push_token VARCHAR(255), deleted_at TIMESTAMP, actual_time SMALLINT, file_name VARCHAR(255) ) ### Response: SELECT tag, file_name, points, location, push_token, deleted_at, summary, weight, actual_time, status, relation FROM profile',\n",
       " '### Instruction: Extract destination id, min_score, end date, contact number, primary address, web address, genre_id, result, rank and finish date from document_metadata ### Context: CREATE TABLE document_metadata ( result TEXT, target_id BIGINT, end_date DATE, min_score SMALLINT, date_fired DATE, address_line1 VARCHAR(255), genre_id INTEGER, phone_number TEXT, level INTEGER, website TEXT ) ### Response: SELECT target_id, min_score, date_fired, phone_number, address_line1, website, genre_id, result, level, end_date FROM document_metadata',\n",
       " '### Instruction: Get a readout of division and tax_amount from reference paths ### Context: CREATE TABLE document_links ( tax_amount DECIMAL(10,2), views INTEGER, department VARCHAR(255) ) ### Response: SELECT department, tax_amount FROM document_links',\n",
       " '### Instruction: In previous lookups, list configuration and view count ### Context: CREATE TABLE search_history ( slug VARCHAR(255), nationality TEXT, finished_at DATETIME, configuration JSONB, feedback TEXT, rating DECIMAL(3,2), size INTEGER, platform VARCHAR(50), views INTEGER, image_id INTEGER, pass_score FLOAT ) ### Response: SELECT configuration, views FROM search_history',\n",
       " '### Instruction: read_at, commencement time and encrypted password from configurations ### Context: CREATE TABLE settings ( started_at DATETIME, priority INTEGER, read_at TIMESTAMP, password_hash CHAR(60), organization TEXT, genre_id INTEGER ) ### Response: SELECT read_at, started_at, password_hash FROM settings',\n",
       " '### Instruction: What do we have for is_read and time_limit in staff evaluations? ### Context: CREATE TABLE performance_reviews ( gpa FLOAT, language CHAR(2), time_limit INTEGER, source_id INTEGER, mime_type TEXT, is_read TINYINT(1), longitude FLOAT, quantity SMALLINT, mac_address VARCHAR(17), birth_date DATE, last_name VARCHAR(100), content MEDIUMTEXT ) ### Response: SELECT is_read, time_limit FROM performance_reviews',\n",
       " '### Instruction: Using coordinates, display product code, category, family name, european article number, time span and phone ### Context: CREATE TABLE locations ( last_name VARCHAR(100), ean VARCHAR(13), category VARCHAR(100), phone VARCHAR(50), duration INTEGER, is_verified BOOLEAN, sku TEXT ) ### Response: SELECT sku, category, last_name, ean, duration, phone FROM locations',\n",
       " '### Instruction: List target_id, attempts and sequence from event_categories ### Context: CREATE TABLE event_categories ( attempts SMALLINT, sequence INTEGER, target_id INTEGER ) ### Response: SELECT target_id, attempts, sequence FROM event_categories',\n",
       " '### Instruction: What are the utm_campaign, note, link, long and elapsed time in potential issues? ### Context: CREATE TABLE project_risks ( file_path VARCHAR(255), time_taken SMALLINT, utm_campaign VARCHAR(100), actual_time INTEGER, last_name VARCHAR(50), longitude DECIMAL(11,8), full_name VARCHAR(150), percentage NUMERIC(5,2), note TEXT, link TEXT ) ### Response: SELECT utm_campaign, note, link, longitude, time_taken FROM project_risks',\n",
       " '### Instruction: Starting with bookmarks, give me document_id, raw content, maximum points, entry id, manufacturer, archived_at, verified_at and user total ### Context: CREATE TABLE favorites ( verified_at DATETIME, archived_at TIMESTAMP, member_count SMALLINT, manufacturer TEXT, data BINARY, max_score SMALLINT, post_id INTEGER, document_id BIGINT ) ### Response: SELECT document_id, data, max_score, post_id, manufacturer, archived_at, verified_at, member_count FROM favorites',\n",
       " '### Instruction: Extract change date, tax amount, begin date and highest points from related files ### Context: CREATE TABLE document_links ( start_date DATE, modified_at DATETIME, max_score INTEGER, tax FLOAT, mac_address CHAR(17), province VARCHAR(100), permissions TEXT ) ### Response: SELECT modified_at, tax, start_date, max_score FROM document_links',\n",
       " '### Instruction: Please get me vertical size, is enabled, max_score, timestamp, clear time, details and recent message from member details ### Context: CREATE TABLE user_profiles ( reset_at DATETIME, is_active BOOLEAN, last_message TEXT, height DECIMAL(10,2), max_score INTEGER, details JSONB, timestamp TIMESTAMP ) ### Response: SELECT height, is_active, max_score, timestamp, reset_at, details, last_message FROM user_profiles',\n",
       " '### Instruction: Check device category and finish datetime in user comments ### Context: CREATE TABLE product_feedback ( accuracy DECIMAL(5,2), license VARCHAR(255), file_path VARCHAR(255), longitude FLOAT, device_type VARCHAR(50), parent_id BIGINT, end_datetime TIMESTAMP, cost NUMERIC(10,2), zip_code TEXT, currency VARCHAR(3) ) ### Response: SELECT device_type, end_datetime FROM product_feedback',\n",
       " '### Instruction: Retrieve order_id and birthday from linked documents ### Context: CREATE TABLE attachments ( order_id BIGINT, birthday DATE ) ### Response: SELECT order_id, birthday FROM attachments',\n",
       " '### Instruction: For the voice tracks, display ip_address, last_message_at, created_at and fax number ### Context: CREATE TABLE audio ( body TEXT, subject TEXT, created_at DATETIME, fax VARCHAR(50), configuration TEXT, direction DECIMAL(9,6), last_message_at DATETIME, permissions TEXT, ip_address VARCHAR(45) ) ### Response: SELECT ip_address, last_message_at, created_at, fax FROM audio',\n",
       " '### Instruction: Please get me nickname from lists ### Context: CREATE TABLE lists ( format VARCHAR(50), password CHAR(60), date DATE, longitude FLOAT, nickname VARCHAR(50) ) ### Response: SELECT nickname FROM lists',\n",
       " '### Instruction: In refunds, list tax charge and exchange_rate ### Context: CREATE TABLE refunds ( tax_amount DECIMAL(10,2), version VARCHAR(50), browser VARCHAR(100), exchange_rate NUMERIC(10,6) ) ### Response: SELECT tax_amount, exchange_rate FROM refunds',\n",
       " \"### Instruction: Let's see birth date, selected and time_limit from usage caps ### Context: CREATE TABLE api_rate_limits ( code CHAR(10), time_limit INTEGER, subtotal DECIMAL(10,2), birthday DATE, selected BOOLEAN, media_id INTEGER, failed TINYINT(1) ) ### Response: SELECT birthday, selected, time_limit FROM api_rate_limits\",\n",
       " \"### Instruction: What's the user handle from groups? ### Context: CREATE TABLE groups ( username VARCHAR(100), weight NUMERIC(10,2), reset_at DATETIME ) ### Response: SELECT username FROM groups\",\n",
       " '### Instruction: Pull out settings from processes ### Context: CREATE TABLE jobs ( reaction TEXT, settings JSONB ) ### Response: SELECT settings FROM jobs',\n",
       " '### Instruction: Fetch result from network flows ### Context: CREATE TABLE content_routes ( meta_title VARCHAR(255), push_token VARCHAR(255), skills TEXT, upc VARCHAR(12), milestone TEXT, result VARCHAR(255) ) ### Response: SELECT result FROM content_routes',\n",
       " '### Instruction: From previous lookups display municipality ### Context: CREATE TABLE search_history ( heading DECIMAL(5,2), city VARCHAR(100), content LONGTEXT, nickname VARCHAR(100), project_id BIGINT, time_limit INTEGER, subject VARCHAR(255), spouse_name VARCHAR(255) ) ### Response: SELECT city FROM search_history',\n",
       " \"### Instruction: What's the end_date and ballot id from learning paths? ### Context: CREATE TABLE courses ( summary VARCHAR(500), metadata JSON, experience TEXT, end_date DATE, children INTEGER, vote_id BIGINT, upc TEXT ) ### Response: SELECT end_date, vote_id FROM courses\",\n",
       " '### Instruction: What are the is removed in risk_reports? ### Context: CREATE TABLE risk_reports ( organization VARCHAR(255), locale VARCHAR(10), session_id VARCHAR(100), percentage NUMERIC(5,2), code VARCHAR(50), url TEXT, is_deleted BOOLEAN ) ### Response: SELECT is_deleted FROM risk_reports',\n",
       " '### Instruction: Can you get me date created, children, state and password from clients? ### Context: CREATE TABLE customers ( created_at DATETIME, children INTEGER, state CHAR(2), password VARCHAR(255) ) ### Response: SELECT created_at, children, state, password FROM customers',\n",
       " '### Instruction: Search for min_score, href and keyword in future plans ### Context: CREATE TABLE product_roadmap ( link TEXT, like_id INTEGER, min_score SMALLINT, label TEXT, name VARCHAR(255), last_message TEXT, tag TEXT, area POLYGON ) ### Response: SELECT min_score, link, tag FROM product_roadmap',\n",
       " '### Instruction: Looking in personal info, show me is_verified, footage id, balance, target_id and iso language ### Context: CREATE TABLE profile ( is_verified BOOLEAN, target_id INTEGER, unread_count INTEGER, video_id BIGINT, balance DECIMAL(10,2), language VARCHAR(5) ) ### Response: SELECT is_verified, video_id, balance, target_id, language FROM profile',\n",
       " '### Instruction: Looking in security_events, show me storage date and spatial area ### Context: CREATE TABLE security_events ( state VARCHAR(100), archived_at TIMESTAMP, area GEOMETRY ) ### Response: SELECT archived_at, area FROM security_events',\n",
       " '### Instruction: Find color and latitude from document_links ### Context: CREATE TABLE document_links ( latitude FLOAT, color VARCHAR(20) ) ### Response: SELECT color, latitude FROM document_links',\n",
       " '### Instruction: Print out gpa, web address, approved_at, town, full_name, keywords and link from assessment documents ### Context: CREATE TABLE quality_reports ( date_fired DATE, tags VARCHAR(500), marital_status TEXT, url VARCHAR(2083), nationality TEXT, gpa DECIMAL(3,2), rank INTEGER, link VARCHAR(2083), city VARCHAR(100), approved_at DATETIME, full_name VARCHAR(255), first_name VARCHAR(100) ) ### Response: SELECT gpa, url, approved_at, city, full_name, tags, link FROM quality_reports',\n",
       " '### Instruction: For the workflow_rules, display default status, institute and speed ### Context: CREATE TABLE workflow_rules ( is_default TINYINT(1), university TEXT, speed FLOAT ) ### Response: SELECT is_default, university, speed FROM workflow_rules',\n",
       " '### Instruction: Get a readout of height, begin time, last_name, data format and seo keywords from logic conditions ### Context: CREATE TABLE workflow_rules ( meta_keywords VARCHAR(500), format VARCHAR(50), start_time TIME, altitude FLOAT, last_name VARCHAR(50) ) ### Response: SELECT altitude, start_time, last_name, format, meta_keywords FROM workflow_rules',\n",
       " '### Instruction: Return campaign source from cross references ### Context: CREATE TABLE maps ( team_id INTEGER, utm_source VARCHAR(100) ) ### Response: SELECT utm_source FROM maps',\n",
       " '### Instruction: Check region in order_items ### Context: CREATE TABLE order_items ( state VARCHAR(100), app_version TEXT ) ### Response: SELECT state FROM order_items',\n",
       " '### Instruction: Just the age in years, producer and share_id from api_rate_limits please ### Context: CREATE TABLE api_rate_limits ( nickname VARCHAR(50), is_admin TINYINT(1), age INTEGER, manufacturer TEXT, published_at TIMESTAMP, is_active TINYINT(1), rating DECIMAL(3,2), total_price DECIMAL(10,2), share_id BIGINT ) ### Response: SELECT age, manufacturer, share_id FROM api_rate_limits',\n",
       " '### Instruction: From login_attempts, get me succeeded, download count, media_id, mean points, build_number, digital signature and task_id ### Context: CREATE TABLE login_attempts ( passed BOOLEAN, downloads BIGINT, average_score DECIMAL(5,2), build_number SMALLINT, media_id INTEGER, signature BYTEA, task_id BIGINT ) ### Response: SELECT passed, downloads, media_id, average_score, build_number, signature, task_id FROM login_attempts',\n",
       " '### Instruction: From audit_trail show me last_message_at, last modified, zip_code, topic_id, suite, post code and serial ### Context: CREATE TABLE audit_trail ( updated_at TIMESTAMP, serial_number VARCHAR(100), zip_code VARCHAR(20), topic_id INTEGER, address_line2 VARCHAR(255), postal_code CHAR(5), last_message_at TIMESTAMP ) ### Response: SELECT last_message_at, updated_at, zip_code, topic_id, address_line2, postal_code, serial_number FROM audit_trail',\n",
       " '### Instruction: Run a query for url in security alerts ### Context: CREATE TABLE security_events ( choice TEXT, views INTEGER, url VARCHAR(2083) ) ### Response: SELECT url FROM security_events',\n",
       " \"### Instruction: Let's see version from bio ### Context: CREATE TABLE profile ( version INTEGER, project_id INTEGER, progress DECIMAL(5,2), option TEXT, reference TEXT ) ### Response: SELECT version FROM profile\",\n",
       " '### Instruction: Show skills, product model, chat_id, marital_status, meta_keywords, moderator id, transaction reference, permissions and build_number from plan ### Context: CREATE TABLE schedule ( admin_id INTEGER, permissions TEXT, end_datetime TIMESTAMP, meta_keywords TEXT, chat_id BIGINT, build_number SMALLINT, archived_at TIMESTAMP, skills TEXT, model TEXT, task_id BIGINT, transaction_id VARCHAR(100), marital_status TEXT ) ### Response: SELECT skills, model, chat_id, marital_status, meta_keywords, admin_id, transaction_id, permissions, build_number FROM schedule',\n",
       " '### Instruction: Looking at periodic activities, I need institute and years old ### Context: CREATE TABLE recurring_events ( university TEXT, age SMALLINT, refresh_token VARCHAR(255), meta_description TEXT, education TEXT ) ### Response: SELECT university, age FROM recurring_events',\n",
       " '### Instruction: For the product defects, display preferences, profile id and thumbnail ### Context: CREATE TABLE quality_issues ( is_deleted TINYINT(1), quantity SMALLINT, account_id INTEGER, thumbnail TEXT, altitude FLOAT, video_id BIGINT, playlist_id INTEGER, preferences JSON ) ### Response: SELECT preferences, account_id, thumbnail FROM quality_issues',\n",
       " '### Instruction: Show me forum_id, full_name and y coordinate from integration points ### Context: CREATE TABLE api_endpoints ( forum_id INTEGER, latitude FLOAT, full_name VARCHAR(255), size VARCHAR(20) ) ### Response: SELECT forum_id, full_name, latitude FROM api_endpoints',\n",
       " '### Instruction: Find description, initiative id, verified_at, velocity, featured status, assignment id, availability, click count, permit, parent_task_id and unseen count from social_campaigns ### Context: CREATE TABLE social_campaigns ( verified_at TIMESTAMP, description TEXT, project_id BIGINT, is_featured BOOLEAN, unread_count INTEGER, license TEXT, availability TEXT, clicks INTEGER, speed DECIMAL(9,6), parent_task_id BIGINT, task_id INTEGER ) ### Response: SELECT description, project_id, verified_at, speed, is_featured, task_id, availability, clicks, license, parent_task_id, unread_count FROM social_campaigns',\n",
       " '### Instruction: Look up gender identity, characteristics, employment date, termination date, comments, altitude and department from efficiency data ### Context: CREATE TABLE workflow_metrics ( comments TEXT, date_fired DATE, department TEXT, properties JSON, gender VARCHAR(10), emergency_contact TEXT, date_hired DATE, height INTEGER, project_id INTEGER ) ### Response: SELECT gender, properties, date_hired, date_fired, comments, height, department FROM workflow_metrics',\n",
       " '### Instruction: For the recordings, display brief, text id and notes ### Context: CREATE TABLE videos ( sku TEXT, upc VARCHAR(12), message_id BIGINT, transaction_id VARCHAR(50), mobile_number TEXT, ip_address INET, category_id INTEGER, notes VARCHAR(1000), summary VARCHAR(500), serial_number VARCHAR(100), rate NUMERIC(5,2), subtotal DECIMAL(10,2) ) ### Response: SELECT summary, message_id, notes FROM videos',\n",
       " '### Instruction: Run a query for seo title, work history, middle initial, configuration and patron id in service_levels ### Context: CREATE TABLE service_levels ( customer_id INTEGER, url TEXT, middle_name VARCHAR(50), experience TEXT, settings JSONB, meta_title VARCHAR(255) ) ### Response: SELECT meta_title, experience, middle_name, settings, customer_id FROM service_levels',\n",
       " \"### Instruction: What's the classification id, position, click count, finished_at, right and tracking campaign from current step? ### Context: CREATE TABLE workflow_status ( clicks INTEGER, note TEXT, correct BOOLEAN, finished_at DATETIME, utm_campaign VARCHAR(100), date_of_birth DATE, size VARCHAR(20), owner_id INTEGER, category_id BIGINT, rank SMALLINT, description VARCHAR(1000), upc TEXT ) ### Response: SELECT category_id, rank, clicks, finished_at, correct, utm_campaign FROM workflow_status\",\n",
       " '### Instruction: Can you get me is_verified from booked slots? ### Context: CREATE TABLE appointments ( share_id BIGINT, is_verified BOOLEAN, file_size BIGINT, ean VARCHAR(13) ) ### Response: SELECT is_verified FROM appointments',\n",
       " '### Instruction: I need to see begin time and blog_id from notes ### Context: CREATE TABLE messages ( blog_id INTEGER, start_time TIME ) ### Response: SELECT start_time, blog_id FROM messages',\n",
       " '### Instruction: In the push_notifications table, display status, certificate, geo coordinates, partial total and school ### Context: CREATE TABLE push_notifications ( school VARCHAR(255), coordinates GEOMETRY, subtotal FLOAT, marital_status VARCHAR(20), cost NUMERIC(10,2), certification TEXT, width INTEGER, impressions INTEGER, altitude FLOAT, status VARCHAR(20), video_id BIGINT ) ### Response: SELECT status, certification, coordinates, subtotal, school FROM push_notifications',\n",
       " '### Instruction: Share completion, referral and release date from report_parameters ### Context: CREATE TABLE report_parameters ( mac_address VARCHAR(17), answer TEXT, birthday DATE, start_datetime DATETIME, published_at TIMESTAMP, reference TEXT, milestone TEXT, os_version TEXT, progress FLOAT ) ### Response: SELECT progress, reference, published_at FROM report_parameters',\n",
       " '### Instruction: Inside promotional efforts, find permit and tax charge ### Context: CREATE TABLE campaigns ( is_active TINYINT(1), tax_amount NUMERIC(10,2), license TEXT, is_published BOOLEAN, street VARCHAR(255), phone VARCHAR(50), api_key VARCHAR(255), country VARCHAR(100), project_id BIGINT ) ### Response: SELECT license, tax_amount FROM campaigns',\n",
       " '### Instruction: Print out exchange_rate, item id and approved_at from pairs ### Context: CREATE TABLE pairs ( approved_at DATETIME, product_id BIGINT, provider TEXT, exchange_rate DECIMAL(10,6), postal_code VARCHAR(20) ) ### Response: SELECT exchange_rate, product_id, approved_at FROM pairs',\n",
       " '### Instruction: Please get me organization, experience, education, guid, password_hash, accuracy, collection id, address, document path and total cost from meetings ### Context: CREATE TABLE appointments ( guid CHAR(36), attempts INTEGER, password_hash CHAR(60), experience TEXT, total_price NUMERIC(10,2), education TEXT, address TEXT, company TEXT, accuracy FLOAT, group_id INTEGER, file_path TEXT, province TEXT ) ### Response: SELECT company, experience, education, guid, password_hash, accuracy, group_id, address, file_path, total_price FROM appointments',\n",
       " '### Instruction: Looking at contact methods, I need begin time, external reference, medium and share_id ### Context: CREATE TABLE support_channels ( reaction VARCHAR(20), serial_number TEXT, file_path VARCHAR(255), medium VARCHAR(100), share_id BIGINT, settings JSON, verified_at DATETIME, permissions TEXT, is_verified TINYINT(1), started_at TIMESTAMP, external_id VARCHAR(50) ) ### Response: SELECT started_at, external_id, medium, share_id FROM support_channels',\n",
       " '### Instruction: Display identifier and summary from monthly cycle ### Context: CREATE TABLE month ( hash CHAR(40), operating_system TEXT, order_id BIGINT, message TEXT, title TEXT, thread_id BIGINT, is_featured TINYINT(1), summary TEXT, id INTEGER ) ### Response: SELECT id, summary FROM month',\n",
       " '### Instruction: For the feature_requests, display accurate and body ### Context: CREATE TABLE feature_requests ( chat_id BIGINT, content MEDIUMTEXT, correct TINYINT(1) ) ### Response: SELECT correct, content FROM feature_requests',\n",
       " '### Instruction: Pull up width, direction, duration spent and ean from quality_checks ### Context: CREATE TABLE quality_checks ( width INTEGER, direction DECIMAL(9,6), ean TEXT, release_date DATE, time_taken INTEGER ) ### Response: SELECT width, direction, time_taken, ean FROM quality_checks',\n",
       " '### Instruction: Please get me push_token, team_id, change date, bearing and question from delivery locations ### Context: CREATE TABLE shipping_addresses ( option TEXT, impressions BIGINT, heading FLOAT, modified_at TIMESTAMP, question TEXT, team_id BIGINT, push_token VARCHAR(255) ) ### Response: SELECT push_token, team_id, modified_at, heading, question FROM shipping_addresses',\n",
       " '### Instruction: From timetables display percentage, commencement time, conversation chain and purchase id ### Context: CREATE TABLE calendars ( full_name VARCHAR(255), color VARCHAR(20), order_id INTEGER, mac_address CHAR(17), body TEXT, percentage NUMERIC(5,2), heading FLOAT, thread_id BIGINT, start_time TIME ) ### Response: SELECT percentage, start_time, thread_id, order_id FROM calendars',\n",
       " '### Instruction: Get details and total cost from plan ### Context: CREATE TABLE schedule ( total_price NUMERIC(10,2), accuracy DECIMAL(5,2), university VARCHAR(255), pass_score FLOAT, details JSONB, start_datetime DATETIME, start_date DATE ) ### Response: SELECT details, total_price FROM schedule',\n",
       " \"### Instruction: What's the build_number, duration and client signature from social_analytics? ### Context: CREATE TABLE social_analytics ( duration INTERVAL, timestamp TIMESTAMP, api_secret TEXT, build_number INTEGER, user_agent TEXT ) ### Response: SELECT build_number, duration, user_agent FROM social_analytics\",\n",
       " '### Instruction: I want to see push_token, completed_at, discussion id and characteristics from preferences ### Context: CREATE TABLE settings ( thread_id INTEGER, push_token VARCHAR(255), properties JSONB, unread_count INTEGER, completed_at DATETIME ) ### Response: SELECT push_token, completed_at, thread_id, properties FROM settings',\n",
       " '### Instruction: For the stats, display university ### Context: CREATE TABLE numbers ( university VARCHAR(255), postal_code CHAR(5), address_line1 VARCHAR(255) ) ### Response: SELECT university FROM numbers',\n",
       " '### Instruction: Get me completion, deadline, file_name, heading, utm_source, metadata, heading, telephone and format from notifications ### Context: CREATE TABLE notifications ( heading DECIMAL(5,2), title VARCHAR(255), progress FLOAT, metadata JSON, file_name VARCHAR(255), format VARCHAR(50), utm_source VARCHAR(100), phone VARCHAR(50), due_date DATE ) ### Response: SELECT progress, due_date, file_name, heading, utm_source, metadata, title, phone, format FROM notifications',\n",
       " '### Instruction: Out of delayed, pull mobile_number, time_taken, ean and score ### Context: CREATE TABLE hold ( time_taken INTEGER, mobile_number VARCHAR(20), ean TEXT, points INTEGER ) ### Response: SELECT mobile_number, time_taken, ean, points FROM hold',\n",
       " '### Instruction: Please get me unit_price, width and percentage from entry history ### Context: CREATE TABLE access_logs ( organization TEXT, percentage DECIMAL(5,2), ip_address INET, attachment TEXT, width DECIMAL(10,2), education VARCHAR(255), unit_price DECIMAL(10,2), start_date DATE, salary DECIMAL(10,2), marital_status TEXT, id BIGINT, display_name VARCHAR(255) ) ### Response: SELECT unit_price, width, percentage FROM access_logs',\n",
       " '### Instruction: Find date modified from view permissions ### Context: CREATE TABLE report_access ( modified_at TIMESTAMP, manufacturer TEXT ) ### Response: SELECT modified_at FROM report_access',\n",
       " '### Instruction: Starting with plan options, give me choices ### Context: CREATE TABLE subscription_plans ( version VARCHAR(50), sequence SMALLINT, age SMALLINT, education VARCHAR(255), options JSONB, date DATE, degree VARCHAR(100), state CHAR(2), gender CHAR(1), image TEXT ) ### Response: SELECT options FROM subscription_plans',\n",
       " '### Instruction: Output birth_date from content_routes ### Context: CREATE TABLE content_routes ( note TEXT, transaction_id VARCHAR(100), birth_date DATE, campaign VARCHAR(100), nationality TEXT, is_featured BOOLEAN, height INTEGER, vote_id INTEGER, expires_at DATETIME, notes VARCHAR(1000) ) ### Response: SELECT birth_date FROM content_routes',\n",
       " '### Instruction: Fetch target_id, document_id, marketing campaign, cell number, age, begin time, telephone, velocity, road and is_public from replies ### Context: CREATE TABLE comments ( speed FLOAT, target_id BIGINT, age INTEGER, document_id INTEGER, is_public BOOLEAN, campaign VARCHAR(100), phone_number TEXT, mobile_number VARCHAR(20), started_at TIMESTAMP, street VARCHAR(255) ) ### Response: SELECT target_id, document_id, campaign, mobile_number, age, started_at, phone_number, speed, street, is_public FROM comments',\n",
       " '### Instruction: Please get me media_id, manager_id, relation, trademark and is_admin from faster access ### Context: CREATE TABLE content_caching ( manager_id BIGINT, note TEXT, university TEXT, media_id INTEGER, role VARCHAR(50), blog_id INTEGER, brand VARCHAR(100), updated_at TIMESTAMP, relation VARCHAR(50), is_admin TINYINT(1) ) ### Response: SELECT media_id, manager_id, relation, brand, is_admin FROM content_caching',\n",
       " '### Instruction: Check lead id, phone_number and thickness in blog posts ### Context: CREATE TABLE articles ( playlist_id BIGINT, updated_at TIMESTAMP, deleted_at TIMESTAMP, longitude DOUBLE, depth DECIMAL(10,2), manager_id BIGINT, phone_number VARCHAR(20), device TEXT ) ### Response: SELECT manager_id, phone_number, depth FROM articles',\n",
       " '### Instruction: Search for not passed, access_token, end_datetime, ip, image_url, end_time, secondary address and discussion id in responses ### Context: CREATE TABLE comments ( ip VARCHAR(45), end_datetime DATETIME, image_url VARCHAR(255), address_line2 VARCHAR(255), access_token VARCHAR(255), end_time TIME, thread_id INTEGER, failed TINYINT(1), transaction_id VARCHAR(100) ) ### Response: SELECT failed, access_token, end_datetime, ip, image_url, end_time, address_line2, thread_id FROM comments',\n",
       " '### Instruction: Tell me wage, note and address_line2 from content_revisions ### Context: CREATE TABLE content_revisions ( deleted_at DATETIME, date DATE, approved_at TIMESTAMP, created_at TIMESTAMP, file_name VARCHAR(255), salary DECIMAL(10,2), timezone VARCHAR(50), note TEXT, first_name VARCHAR(100), address_line2 VARCHAR(255), password VARCHAR(255) ) ### Response: SELECT salary, note, address_line2 FROM content_revisions',\n",
       " '### Instruction: I need access to board id and project_id from fixes ### Context: CREATE TABLE corrective_actions ( status SMALLINT, location GEOMETRY, year_graduated YEAR, is_enabled TINYINT(1), selected TINYINT(1), medium VARCHAR(100), project_id INTEGER, forum_id INTEGER ) ### Response: SELECT forum_id, project_id FROM corrective_actions',\n",
       " \"### Instruction: What's the launch date, preview and album_id from locations? ### Context: CREATE TABLE addresses ( certification VARCHAR(255), average_score DECIMAL(5,2), is_active BOOLEAN, album_id INTEGER, release_date DATE, share_id BIGINT, points INTEGER, upc TEXT, read_at DATETIME, excerpt TEXT, target_id INTEGER ) ### Response: SELECT release_date, excerpt, album_id FROM addresses\",\n",
       " '### Instruction: Give me password and city from faster access ### Context: CREATE TABLE content_caching ( manager_id BIGINT, address_line1 VARCHAR(255), project_id BIGINT, start_date DATE, release_date DATE, team_id INTEGER, password CHAR(60), city VARCHAR(100), priority INTEGER, isbn VARCHAR(13), location GEOMETRY ) ### Response: SELECT password, city FROM content_caching',\n",
       " '### Instruction: Search for creation date, image_id, typical score, project_id, date_of_birth, score and ean in process guidelines ### Context: CREATE TABLE workflow_rules ( ean VARCHAR(13), date_of_birth DATE, average_score FLOAT, project_id INTEGER, image_id INTEGER, score DECIMAL(5,2), created_at TIMESTAMP ) ### Response: SELECT created_at, image_id, average_score, project_id, date_of_birth, score, ean FROM workflow_rules',\n",
       " '### Instruction: Starting with inspection personnel, give me achievement, zip code, snippet, qualification, universal id, description, media_id, overview, direction, referring url, start_date and operating_system ### Context: CREATE TABLE quality_teams ( degree TEXT, direction DECIMAL(9,6), excerpt TEXT, milestone TEXT, operating_system TEXT, referrer VARCHAR(255), postal_code CHAR(5), media_id INTEGER, summary VARCHAR(500), description VARCHAR(1000), start_date DATETIME, guid VARCHAR(36) ) ### Response: SELECT milestone, postal_code, excerpt, degree, guid, description, media_id, summary, direction, referrer, start_date, operating_system FROM quality_teams',\n",
       " '### Instruction: Find is removed, gender, keyword, started_at, weight, speed, password salt and mime_type from payment intervals ### Context: CREATE TABLE billing_cycles ( language VARCHAR(5), tag VARCHAR(50), salt VARCHAR(32), started_at DATETIME, is_deleted TINYINT(1), weight NUMERIC(10,2), mime_type VARCHAR(100), gender VARCHAR(10), speed FLOAT ) ### Response: SELECT is_deleted, gender, tag, started_at, weight, speed, salt, mime_type FROM billing_cycles',\n",
       " '### Instruction: Search for project_id, accessible time, attached file, access token, is_default, calendar date and gallery id in social drives ### Context: CREATE TABLE social_campaigns ( project_id BIGINT, is_default TINYINT(1), genre_id INTEGER, album_id BIGINT, date DATE, attachment TEXT, token VARCHAR(255), tax_amount NUMERIC(10,2), availability VARCHAR(50) ) ### Response: SELECT project_id, availability, attachment, token, is_default, date, album_id FROM social_campaigns',\n",
       " '### Instruction: Get me title, group id, middle_name, media_id, heading, bearer token, read status, model number, appreciation id, finish time and device_type from files ### Context: CREATE TABLE documents ( like_id INTEGER, device_type VARCHAR(50), model VARCHAR(100), media_id INTEGER, title VARCHAR(255), end_time TIME, heading FLOAT, category_id INTEGER, middle_name VARCHAR(100), is_read BOOLEAN, access_token TEXT ) ### Response: SELECT title, category_id, middle_name, media_id, heading, access_token, is_read, model, like_id, end_time, device_type FROM documents',\n",
       " '### Instruction: Within network flows, show locale and salt ### Context: CREATE TABLE content_routes ( locale VARCHAR(10), relation VARCHAR(50), position SMALLINT, salt VARCHAR(32) ) ### Response: SELECT locale, salt FROM content_routes',\n",
       " \"### Instruction: I'd like to see calendar date, user total, remark, file downloads, binary data, message and weight from happenings ### Context: CREATE TABLE events ( member_count SMALLINT, note TEXT, weight NUMERIC(10,2), date DATE, album_id INTEGER, country CHAR(3), message TEXT, data BYTEA, meta_keywords TEXT, last_message TEXT, downloads INTEGER ) ### Response: SELECT date, member_count, note, downloads, data, message, weight FROM events\",\n",
       " '### Instruction: In requirements, list priority ### Context: CREATE TABLE product_specs ( password CHAR(60), currency_code VARCHAR(3), username VARCHAR(50), priority SMALLINT, label VARCHAR(50), file_id INTEGER, summary TEXT, body TEXT ) ### Response: SELECT priority FROM product_specs',\n",
       " '### Instruction: In titles, list tag, cost, threshold points, start_time, utm_campaign, host address, impressions, document_id and priority ### Context: CREATE TABLE names ( impressions BIGINT, label TEXT, document_id INTEGER, start_time TIME, isbn TEXT, utm_campaign VARCHAR(100), priority INTEGER, cost DECIMAL(10,2), ip_address VARCHAR(45), pass_score FLOAT ) ### Response: SELECT label, cost, pass_score, start_time, utm_campaign, ip_address, impressions, document_id, priority FROM names',\n",
       " '### Instruction: Inside staff evaluations, find file id, operating_system, customer_id, file format and physical address ### Context: CREATE TABLE performance_reviews ( group_id BIGINT, mac_address CHAR(17), customer_id BIGINT, format VARCHAR(50), document_id BIGINT, operating_system VARCHAR(255) ) ### Response: SELECT document_id, operating_system, customer_id, format, mac_address FROM performance_reviews',\n",
       " '### Instruction: Look up destination id, venture id, surname and feedback from incident logs ### Context: CREATE TABLE event_logs ( impressions BIGINT, target_id BIGINT, campaign VARCHAR(100), subtotal DECIMAL(10,2), project_id BIGINT, feedback TEXT, last_name VARCHAR(50) ) ### Response: SELECT target_id, project_id, last_name, feedback FROM event_logs',\n",
       " '### Instruction: heaviness and body from sales path ### Context: CREATE TABLE conversion_funnel ( body TEXT, weight NUMERIC(10,2), choice TEXT, id BIGINT, marital_status VARCHAR(20) ) ### Response: SELECT weight, body FROM conversion_funnel',\n",
       " '### Instruction: What are the response, cell phone, ean and role title in 12 month period? ### Context: CREATE TABLE year ( mobile VARCHAR(50), job_title VARCHAR(100), response TEXT, ean VARCHAR(13) ) ### Response: SELECT response, mobile, ean, job_title FROM year',\n",
       " '### Instruction: SELECT standing, source_id and marketing campaign FROM lists ### Context: CREATE TABLE lists ( rank INTEGER, source_id INTEGER, gpa FLOAT, role VARCHAR(50), tax DECIMAL(10,2), campaign VARCHAR(100) ) ### Response: SELECT rank, source_id, campaign FROM lists',\n",
       " '### Instruction: Pull up score, post_id, fax_number and fax from content_caching ### Context: CREATE TABLE content_caching ( license TEXT, fax VARCHAR(20), fax_number VARCHAR(20), gpa FLOAT, grade CHAR(2), post_id INTEGER, utm_source VARCHAR(100), approved_at DATETIME ) ### Response: SELECT grade, post_id, fax_number, fax FROM content_caching',\n",
       " '### Instruction: Read out setup, checksum, source, tries, seo description, mobile number, api token and digital signature from location ### Context: CREATE TABLE place ( signature BINARY, hash CHAR(64), api_key VARCHAR(255), source VARCHAR(100), attempts INTEGER, mobile VARCHAR(50), meta_description VARCHAR(500), configuration JSON, category VARCHAR(50) ) ### Response: SELECT configuration, hash, source, attempts, meta_description, mobile, api_key, signature FROM place',\n",
       " '### Instruction: Please get me version, start_datetime, condition, creator id, ean and deleted_at from promotional content ### Context: CREATE TABLE marketing_content ( owner_id INTEGER, ean TEXT, start_datetime DATETIME, media_id INTEGER, url TEXT, reaction TEXT, finished_at TIMESTAMP, version VARCHAR(50), selected TINYINT(1), deleted_at TIMESTAMP, details TEXT, status ENUM ) ### Response: SELECT version, start_datetime, status, owner_id, ean, deleted_at FROM marketing_content',\n",
       " '### Instruction: Get answer id, last_message, license and timestamp from procedure patterns ### Context: CREATE TABLE workflow_templates ( is_public TINYINT(1), datetime DATETIME, last_message TEXT, license TEXT, operating_system TEXT, display_name VARCHAR(100), response_id INTEGER ) ### Response: SELECT response_id, last_message, license, datetime FROM workflow_templates',\n",
       " '### Instruction: Would you mind getting reply, fax, elapsed time, commencement time, name, web address and release_date from protection measures? ### Context: CREATE TABLE content_security ( time_taken SMALLINT, website VARCHAR(255), answer TEXT, member_count INTEGER, name VARCHAR(100), release_date DATE, currency VARCHAR(3), reset_at TIMESTAMP, started_at TIMESTAMP, fax VARCHAR(20) ) ### Response: SELECT answer, fax, time_taken, started_at, name, website, release_date FROM content_security',\n",
       " '### Instruction: Tell me supervisor_id and expected time from groupings ### Context: CREATE TABLE categories ( product_id BIGINT, estimated_time INTEGER, genre_id INTEGER, supervisor_id INTEGER, uuid VARCHAR(36) ) ### Response: SELECT supervisor_id, estimated_time FROM categories',\n",
       " '### Instruction: From zip codes, get me tag and surname ### Context: CREATE TABLE postal_codes ( tag TEXT, team_id BIGINT, selected TINYINT(1), last_name VARCHAR(100) ) ### Response: SELECT tag, last_name FROM postal_codes',\n",
       " '### Instruction: Could you show me category, qualification, hashed password, street address and user feedback from lookup requests? ### Context: CREATE TABLE search_queries ( password_hash VARCHAR(255), feedback TEXT, education VARCHAR(255), datetime TIMESTAMP, address_line1 VARCHAR(255), gpa FLOAT, average_score FLOAT, address VARCHAR(255), playlist_id BIGINT, type ENUM ) ### Response: SELECT type, education, password_hash, address, feedback FROM search_queries',\n",
       " '### Instruction: I need a list of location, reset_at and address_line1 from edit records ### Context: CREATE TABLE content_revisions ( reset_at TIMESTAMP, address_line1 VARCHAR(255), address TEXT ) ### Response: SELECT address, reset_at, address_line1 FROM content_revisions',\n",
       " '### Instruction: I want to see playlist_id and squad id from delivery locations ### Context: CREATE TABLE customer_addresses ( is_active BOOLEAN, team_id INTEGER, sku VARCHAR(100), playlist_id INTEGER ) ### Response: SELECT playlist_id, team_id FROM customer_addresses',\n",
       " '### Instruction: Look up description, read_at, role title, annotations, modified_at and collection id from date ### Context: CREATE TABLE day ( modified_at DATETIME, skills TEXT, notes TEXT, album_id INTEGER, job_title VARCHAR(100), description MEDIUMTEXT, read_at DATETIME ) ### Response: SELECT description, read_at, job_title, notes, modified_at, album_id FROM day',\n",
       " '### Instruction: Tell me cell number, transaction reference, timestamp, question, score, format and reply id from timed delivery ### Context: CREATE TABLE content_scheduling ( timestamp TIMESTAMP, member_count INTEGER, degree TEXT, question TEXT, points INTEGER, estimated_time INTEGER, transaction_id VARCHAR(100), format VARCHAR(50), response_id INTEGER, thumbnail TEXT, mobile_number TEXT ) ### Response: SELECT mobile_number, transaction_id, timestamp, question, points, format, response_id FROM content_scheduling',\n",
       " '### Instruction: Within access attempts, show latitude, main text, survey id, blog_id, image_id, price per unit, description, timezone, uuid, tracking campaign and road ### Context: CREATE TABLE logins ( token TEXT, street VARCHAR(255), description TEXT, poll_id INTEGER, unit_price DECIMAL(10,2), timezone VARCHAR(50), image_id BIGINT, blog_id BIGINT, utm_campaign VARCHAR(100), latitude DOUBLE, body TEXT, uuid CHAR(36) ) ### Response: SELECT latitude, body, poll_id, blog_id, image_id, unit_price, description, timezone, uuid, utm_campaign, street FROM logins',\n",
       " '### Instruction: Let me see topic_id, clicks, fax, image_id, speed, updated_at, percentage, published_at and feedback from past payments ### Context: CREATE TABLE payment_history ( published_at TIMESTAMP, topic_id BIGINT, image_id INTEGER, fax_number VARCHAR(20), comments VARCHAR(1000), updated_at TIMESTAMP, clicks INTEGER, percentage DECIMAL(5,2), speed DECIMAL(9,6) ) ### Response: SELECT topic_id, clicks, fax_number, image_id, speed, updated_at, percentage, published_at, comments FROM payment_history',\n",
       " '### Instruction: From review cycles, get me finished_at, bearing, from date, response_id, campaign source, state and release version ### Context: CREATE TABLE document_workflows ( end_date DATE, state CHAR(2), direction DECIMAL(9,6), response_id INTEGER, finished_at DATETIME, app_version TEXT, start_date DATETIME, utm_source VARCHAR(100) ) ### Response: SELECT finished_at, direction, start_date, response_id, utm_source, state, app_version FROM document_workflows',\n",
       " '### Instruction: Tell me currency and date of birth from performance indicators ### Context: CREATE TABLE metrics ( birth_date DATE, choice TEXT, video_id INTEGER, currency VARCHAR(3) ) ### Response: SELECT currency, birth_date FROM metrics',\n",
       " '### Instruction: Run a query for product code, telephone, availability, date deleted and grade in user statistics ### Context: CREATE TABLE user_metrics ( grade VARCHAR(2), deleted_at TIMESTAMP, sku VARCHAR(100), phone_number VARCHAR(20), availability VARCHAR(50) ) ### Response: SELECT sku, phone_number, availability, deleted_at, grade FROM user_metrics',\n",
       " '### Instruction: Looking at active connections, I need reference_id ### Context: CREATE TABLE user_sessions ( date DATE, location GEOMETRY, major VARCHAR(100), date_of_birth DATE, full_name VARCHAR(150), reference_id VARCHAR(100), tags TEXT, salt CHAR(32), birth_date DATE, is_featured BOOLEAN, street VARCHAR(255) ) ### Response: SELECT reference_id FROM user_sessions',\n",
       " '### Instruction: I need access to category_id, count, preferences, screen name, amount, heading and proprietor id from improvement suggestions ### Context: CREATE TABLE feature_requests ( amount NUMERIC(10,2), owner_id BIGINT, preferences JSON, display_name VARCHAR(255), count BIGINT, category_id BIGINT, project_id BIGINT, heading DECIMAL(5,2), salt CHAR(32) ) ### Response: SELECT category_id, count, preferences, display_name, amount, heading, owner_id FROM feature_requests',\n",
       " '### Instruction: Out of content groups, pull meta_description, surname, visible name and clicks ### Context: CREATE TABLE document_categories ( last_name VARCHAR(50), clicks INTEGER, display_name VARCHAR(100), meta_description TEXT ) ### Response: SELECT meta_description, last_name, display_name, clicks FROM document_categories',\n",
       " '### Instruction: Looking at document_permissions, I need release version, main task id and excerpt ### Context: CREATE TABLE document_permissions ( publish_date DATE, parent_task_id INTEGER, company TEXT, excerpt TEXT, app_version TEXT ) ### Response: SELECT app_version, parent_task_id, excerpt FROM document_permissions',\n",
       " '### Instruction: For the mail blueprints, display finish time, is_verified, street name, started_at, preferences, size in bytes and href ### Context: CREATE TABLE email_templates ( end_time TIME, category_id BIGINT, certification VARCHAR(255), app_version VARCHAR(50), preferences JSON, street VARCHAR(255), started_at TIMESTAMP, website TEXT, file_size BIGINT, is_verified BOOLEAN, link VARCHAR(2083) ) ### Response: SELECT end_time, is_verified, street, started_at, preferences, file_size, link FROM email_templates',\n",
       " '### Instruction: What are the min_score in paths to users? ### Context: CREATE TABLE content_routes ( min_score SMALLINT, total_price DECIMAL(10,2), license VARCHAR(255), last_login TIMESTAMP ) ### Response: SELECT min_score FROM content_routes',\n",
       " '### Instruction: What are the url, preference, user handle, iso language, period and gender in content_restrictions? ### Context: CREATE TABLE content_restrictions ( link VARCHAR(2083), duration INTERVAL, gender CHAR(1), language CHAR(2), username VARCHAR(50), choice TEXT, size INTEGER ) ### Response: SELECT link, choice, username, language, duration, gender FROM content_restrictions',\n",
       " '### Instruction: Get a readout of reduction, build_number, traffic referrer, message, begin time and spatial region from product_categories ### Context: CREATE TABLE product_categories ( build_number SMALLINT, discount DECIMAL(10,2), referrer TEXT, started_at TIMESTAMP, message TEXT, region GEOMETRY, last_login DATETIME ) ### Response: SELECT discount, build_number, referrer, message, started_at, region FROM product_categories',\n",
       " '### Instruction: Find attachment and street from audit_trail ### Context: CREATE TABLE audit_trail ( message_id INTEGER, data BYTEA, street VARCHAR(255), deleted_at TIMESTAMP, attachment TEXT ) ### Response: SELECT attachment, street FROM audit_trail',\n",
       " '### Instruction: Look up remaining amount and major from platform metrics ### Context: CREATE TABLE social_analytics ( build_number INTEGER, major TEXT, area GEOMETRY, id SERIAL, nationality VARCHAR(100), street VARCHAR(255), excerpt TEXT, blog_id BIGINT, balance NUMERIC(10,2), read_at TIMESTAMP, country CHAR(3), accuracy DECIMAL(5,2) ) ### Response: SELECT balance, major FROM social_analytics',\n",
       " '### Instruction: Print out gpa from updates ### Context: CREATE TABLE notifications ( guid VARCHAR(36), project_id BIGINT, gpa DECIMAL(3,2) ) ### Response: SELECT gpa FROM notifications',\n",
       " '### Instruction: conversation id, tax_amount and company from defects ### Context: CREATE TABLE product_bugs ( finished_at DATETIME, account_id INTEGER, options TEXT, chat_id INTEGER, company TEXT, campaign VARCHAR(100), tax_amount NUMERIC(10,2) ) ### Response: SELECT chat_id, tax_amount, company FROM product_bugs',\n",
       " '### Instruction: I need a list of post code, utm_campaign, discount, currency_code, mime_type and department from quantities ### Context: CREATE TABLE values ( utm_campaign VARCHAR(100), currency_code VARCHAR(3), discount FLOAT, mime_type TEXT, department VARCHAR(255), postal_code CHAR(5), school TEXT ) ### Response: SELECT postal_code, utm_campaign, discount, currency_code, mime_type, department FROM values',\n",
       " '### Instruction: I need a list of duration spent, web address and device token from support materials ### Context: CREATE TABLE project_resources ( is_featured BOOLEAN, latitude DOUBLE, push_token VARCHAR(255), address TEXT, group_id INTEGER, score INTEGER, password CHAR(60), website VARCHAR(255), time_taken SMALLINT ) ### Response: SELECT time_taken, website, push_token FROM project_resources',\n",
       " '### Instruction: Fetch mobile_number and referral from sign in attempts ### Context: CREATE TABLE login_attempts ( modified_at DATETIME, mobile_number VARCHAR(20), reference TEXT ) ### Response: SELECT mobile_number, reference FROM login_attempts',\n",
       " '### Instruction: Would you mind getting setup, is_admin, target_id, format, campaign, is_active, clicks, currency_code, commencement time, photo id and tracklist id from details? ### Context: CREATE TABLE data ( campaign VARCHAR(100), phone_number TEXT, is_admin TINYINT(1), config JSON, currency_code CHAR(3), target_id INTEGER, playlist_id INTEGER, start_time TIME, format VARCHAR(50), is_active TINYINT(1), image_id INTEGER, clicks BIGINT ) ### Response: SELECT config, is_admin, target_id, format, campaign, is_active, clicks, currency_code, start_time, image_id, playlist_id FROM data',\n",
       " '### Instruction: Within risk_incidents, show seo keywords, display_name and mobile ### Context: CREATE TABLE risk_incidents ( amount DECIMAL(10,2), display_name VARCHAR(255), mobile VARCHAR(50), age SMALLINT, points SMALLINT, meta_keywords TEXT, company VARCHAR(255) ) ### Response: SELECT meta_keywords, display_name, mobile FROM risk_incidents',\n",
       " '### Instruction: I want to see document path, accurate, attempts and name from entry history ### Context: CREATE TABLE access_logs ( attempts SMALLINT, file_path VARCHAR(255), correct TINYINT(1), name VARCHAR(255), video_id BIGINT ) ### Response: SELECT file_path, correct, attempts, name FROM access_logs',\n",
       " '### Instruction: From scores show me chat_id, date modified, relationship and precision ### Context: CREATE TABLE ratings ( app_version VARCHAR(50), modified_at TIMESTAMP, relation VARCHAR(50), accuracy FLOAT, chat_id BIGINT ) ### Response: SELECT chat_id, modified_at, relation, accuracy FROM ratings',\n",
       " '### Instruction: SELECT vote_id, estimated_time and birthday FROM assets ### Context: CREATE TABLE project_resources ( vote_id BIGINT, birthday DATE, estimated_time INTEGER ) ### Response: SELECT vote_id, estimated_time, birthday FROM project_resources',\n",
       " '### Instruction: Let me see geographic region and book number from help needs ### Context: CREATE TABLE service_requests ( location POINT, started_at DATETIME, degree VARCHAR(100), isbn VARCHAR(13), correct BOOLEAN, region VARCHAR(100) ) ### Response: SELECT region, isbn FROM service_requests',\n",
       " '### Instruction: Return hardware type and referring url from shipping_methods ### Context: CREATE TABLE shipping_methods ( image_url TEXT, finished_at TIMESTAMP, exchange_rate DECIMAL(10,6), image TEXT, properties TEXT, referrer VARCHAR(255), priority INTEGER, country VARCHAR(100), device_type VARCHAR(50), price NUMERIC(10,2), is_read BOOLEAN ) ### Response: SELECT device_type, referrer FROM shipping_methods',\n",
       " '### Instruction: For the revision history, display main text ### Context: CREATE TABLE document_versions ( body TEXT, choice TEXT ) ### Response: SELECT body FROM document_versions',\n",
       " '### Instruction: Just the number and boss id from security alerts please ### Context: CREATE TABLE security_events ( supervisor_id INTEGER, quantity INTEGER ) ### Response: SELECT quantity, supervisor_id FROM security_events',\n",
       " '### Instruction: Return salary, experience, publication date, access token, discussion id and communication id from changes ### Context: CREATE TABLE changes ( salary FLOAT, publish_date DATE, message_id INTEGER, experience TEXT, thread_id BIGINT, token VARCHAR(255) ) ### Response: SELECT salary, experience, publish_date, token, thread_id, message_id FROM changes',\n",
       " '### Instruction: Looking in transaction details, show me order_id, lat and browser ### Context: CREATE TABLE order_items ( due_date DATE, color VARCHAR(20), birth_date DATE, order_id BIGINT, browser VARCHAR(100), pass_score DECIMAL(5,2), latitude DECIMAL(10,8), category_id INTEGER, min_score SMALLINT ) ### Response: SELECT order_id, latitude, browser FROM order_items',\n",
       " \"### Instruction: What's the actual_time and explanation from query hints? ### Context: CREATE TABLE search_suggestions ( role VARCHAR(50), task_id BIGINT, date DATE, content_blob BYTEA, is_published BOOLEAN, url VARCHAR(2083), file_id BIGINT, format VARCHAR(50), reason VARCHAR(255), actual_time SMALLINT, last_name VARCHAR(50), date_hired DATE ) ### Response: SELECT actual_time, reason FROM search_suggestions\",\n",
       " \"### Instruction: I'd like to see organization, city, credits, threshold points, id, annotations and modified_at from report_categories ### Context: CREATE TABLE report_categories ( modified_at DATETIME, notes TEXT, company TEXT, completed_at TIMESTAMP, id INTEGER, pass_score FLOAT, city VARCHAR(100), points INTEGER ) ### Response: SELECT company, city, points, pass_score, id, notes, modified_at FROM report_categories\",\n",
       " '### Instruction: I want to see reading time and os_version from discussions ### Context: CREATE TABLE conversations ( max_score INTEGER, read_at TIMESTAMP, os_version TEXT ) ### Response: SELECT read_at, os_version FROM conversations',\n",
       " '### Instruction: Could you show me mobile phone and choices from combinations? ### Context: CREATE TABLE joins ( start_datetime DATETIME, timestamp TIMESTAMP, reference TEXT, options JSON, mobile_number VARCHAR(20), browser VARCHAR(100), is_admin BOOLEAN ) ### Response: SELECT mobile_number, options FROM joins',\n",
       " \"### Instruction: What's the direction, transaction_id and calendar date from message formats? ### Context: CREATE TABLE email_templates ( transaction_id VARCHAR(50), date DATE, heading FLOAT, altitude FLOAT ) ### Response: SELECT heading, transaction_id, date FROM email_templates\",\n",
       " '### Instruction: Share external reference and creator id from campaign_metrics ### Context: CREATE TABLE campaign_metrics ( owner_id INTEGER, street VARCHAR(255), external_id VARCHAR(100), skills TEXT, deleted_at TIMESTAMP ) ### Response: SELECT external_id, owner_id FROM campaign_metrics',\n",
       " '### Instruction: Pull up is highlighted, degree, children, price per unit and restart time from effect analysis ### Context: CREATE TABLE risk_impacts ( children SMALLINT, genre_id INTEGER, access_token TEXT, is_featured TINYINT(1), unit_price DECIMAL(10,2), reset_at TIMESTAMP, category_id INTEGER, file_path VARCHAR(255), degree VARCHAR(100), manufacturer VARCHAR(255), summary TEXT ) ### Response: SELECT is_featured, degree, children, unit_price, reset_at FROM risk_impacts',\n",
       " '### Instruction: Read out location from promotion outlets ### Context: CREATE TABLE marketing_channels ( gender CHAR(1), address_line2 VARCHAR(255), preferences JSONB, display_name VARCHAR(255), address TEXT ) ### Response: SELECT address FROM marketing_channels',\n",
       " '### Instruction: Bring up hour minute from review findings ### Context: CREATE TABLE audit_results ( ean VARCHAR(13), time TIME, address VARCHAR(255) ) ### Response: SELECT time FROM audit_results',\n",
       " '### Instruction: Output blog_id, votes, app_version, calendar date, middle_name, digital signature, access_token, configuration, album_id, tax, note and degree from joining ### Context: CREATE TABLE signup ( signature BINARY, middle_name VARCHAR(50), configuration TEXT, note TEXT, app_version VARCHAR(50), blog_id INTEGER, tax FLOAT, degree TEXT, date DATE, album_id BIGINT, votes INTEGER, access_token TEXT ) ### Response: SELECT blog_id, votes, app_version, date, middle_name, signature, access_token, configuration, album_id, tax, note, degree FROM signup',\n",
       " \"### Instruction: Let's see middle initial from service_queues ### Context: CREATE TABLE service_queues ( timestamp TIMESTAMP, middle_name VARCHAR(100) ) ### Response: SELECT middle_name FROM service_queues\",\n",
       " '### Instruction: Looking in delivery point, show me full_name and collection id ### Context: CREATE TABLE address ( full_name VARCHAR(255), album_id INTEGER, email VARCHAR(100) ) ### Response: SELECT full_name, album_id FROM address',\n",
       " '### Instruction: Would you mind getting utm_medium, quantity, post_id, blog_id, published status, date deleted, user_agent, device, description and uuid from help requests? ### Context: CREATE TABLE customer_support_tickets ( amount DECIMAL(10,2), blog_id INTEGER, post_id BIGINT, utm_medium VARCHAR(100), user_agent TEXT, is_published BOOLEAN, uuid VARCHAR(36), description VARCHAR(1000), device TEXT, deleted_at TIMESTAMP ) ### Response: SELECT utm_medium, amount, post_id, blog_id, is_published, deleted_at, user_agent, device, description, uuid FROM customer_support_tickets',\n",
       " '### Instruction: Fetch star rating and share_id from study documents ### Context: CREATE TABLE course_materials ( thread_id INTEGER, rating DECIMAL(3,2), transaction_id VARCHAR(100), position SMALLINT, share_id INTEGER, clicks INTEGER, admin_id INTEGER ) ### Response: SELECT rating, share_id FROM course_materials',\n",
       " '### Instruction: Starting with routing conditions, give me meta_title ### Context: CREATE TABLE escalation_rules ( is_default TINYINT(1), meta_title VARCHAR(255), updated_at TIMESTAMP, weight NUMERIC(10,2), utm_source VARCHAR(100) ) ### Response: SELECT meta_title FROM escalation_rules',\n",
       " '### Instruction: What do we have for preview, tax_amount, details, parent reference and keyword in project_stakeholders? ### Context: CREATE TABLE project_stakeholders ( details JSON, date DATE, tax_amount DECIMAL(10,2), excerpt TEXT, tag TEXT, parent_id BIGINT, finished_at DATETIME, device VARCHAR(255), media_id BIGINT, street VARCHAR(255), size VARCHAR(20) ) ### Response: SELECT excerpt, tax_amount, details, parent_id, tag FROM project_stakeholders',\n",
       " '### Instruction: Tell me number of from called off ### Context: CREATE TABLE cancel ( permissions TEXT, options TEXT, count BIGINT, emergency_contact VARCHAR(255), password_hash VARCHAR(255), details JSONB, supervisor_id INTEGER, is_verified BOOLEAN ) ### Response: SELECT count FROM cancel',\n",
       " '### Instruction: What do we have for employment date, duration spent, target_id, spouse_name, region and provider in campaign objectives? ### Context: CREATE TABLE marketing_goals ( region GEOMETRY, date_hired DATE, attempts SMALLINT, note TEXT, time_taken SMALLINT, target_id BIGINT, spouse_name VARCHAR(255), provider VARCHAR(50) ) ### Response: SELECT date_hired, time_taken, target_id, spouse_name, region, provider FROM marketing_goals',\n",
       " '### Instruction: Just the reason and mobile_number from member details please ### Context: CREATE TABLE user_profiles ( province TEXT, version VARCHAR(50), reason VARCHAR(255), tags JSONB, discount DECIMAL(10,2), fax_number VARCHAR(20), content LONGTEXT, finished_at DATETIME, options JSONB, views INTEGER, mobile_number VARCHAR(20), team_id INTEGER ) ### Response: SELECT reason, mobile_number FROM user_profiles',\n",
       " '### Instruction: Look up image_id, address_line2, outcome, remarks, marital_status and state from risk_impacts ### Context: CREATE TABLE risk_impacts ( notes VARCHAR(1000), address_line2 VARCHAR(255), image_id INTEGER, marital_status VARCHAR(20), result VARCHAR(255), state VARCHAR(100) ) ### Response: SELECT image_id, address_line2, result, notes, marital_status, state FROM risk_impacts',\n",
       " '### Instruction: Can you get me major, title, coordinates, sequence and estimated_time from visual identity? ### Context: CREATE TABLE brand_assets ( coordinates POINT, min_score SMALLINT, sequence INTEGER, major VARCHAR(100), title TEXT, estimated_time SMALLINT ) ### Response: SELECT major, title, coordinates, sequence, estimated_time FROM brand_assets',\n",
       " '### Instruction: For the rates, display date of birth, savings and download count ### Context: CREATE TABLE prices ( parent_task_id BIGINT, ip_address INET, mobile VARCHAR(20), downloads INTEGER, response_id INTEGER, birthday DATE, discount FLOAT, updated_at DATETIME ) ### Response: SELECT birthday, discount, downloads FROM prices',\n",
       " \"### Instruction: Let's see verified_at, tax amount, username, notification token and order_id from endpoint calls ### Context: CREATE TABLE api_usage ( tax DECIMAL(10,2), order_id INTEGER, username VARCHAR(100), verified_at TIMESTAMP, push_token VARCHAR(255) ) ### Response: SELECT verified_at, tax, username, push_token, order_id FROM api_usage\",\n",
       " '### Instruction: I want to see modification date, uuid, product_id, primary address and magnitude from site visits ### Context: CREATE TABLE page_views ( size VARCHAR(20), address_line1 VARCHAR(255), updated_at DATETIME, fax_number VARCHAR(20), product_id INTEGER, uuid CHAR(36) ) ### Response: SELECT updated_at, uuid, product_id, address_line1, size FROM page_views',\n",
       " '### Instruction: Retrieve push_token, is enabled, heading, file id and first_name from user guides ### Context: CREATE TABLE product_documentation ( is_active BOOLEAN, heading DECIMAL(5,2), nationality TEXT, push_token VARCHAR(255), quantity INTEGER, document_id INTEGER, username VARCHAR(100), attempts SMALLINT, first_name VARCHAR(50) ) ### Response: SELECT push_token, is_active, heading, document_id, first_name FROM product_documentation',\n",
       " '### Instruction: Output access token, options, birthday, participant count, rank, promo campaign, customer_id, utm_source, featured status, academic background, target date and web address from in progress ### Context: CREATE TABLE active ( education VARCHAR(255), member_count SMALLINT, campaign VARCHAR(100), token VARCHAR(255), is_featured BOOLEAN, url VARCHAR(2083), due_date DATE, utm_source VARCHAR(100), options JSON, rank INTEGER, birthday DATE, customer_id INTEGER ) ### Response: SELECT token, options, birthday, member_count, rank, campaign, customer_id, utm_source, is_featured, education, due_date, url FROM active',\n",
       " '### Instruction: attachment, birth date, begin date, access key, timezone, is enabled and referring url from complaints ### Context: CREATE TABLE complaints ( customer_id INTEGER, referrer TEXT, api_key VARCHAR(100), attachment TEXT, is_active TINYINT(1), start_date DATE, date_of_birth DATE, timezone VARCHAR(50) ) ### Response: SELECT attachment, date_of_birth, start_date, api_key, timezone, is_active, referrer FROM complaints',\n",
       " '### Instruction: Get creator id, release date and model from building blocks ### Context: CREATE TABLE product_components ( question TEXT, publish_date DATE, details JSONB, owner_id BIGINT, media_id BIGINT, model TEXT ) ### Response: SELECT owner_id, publish_date, model FROM product_components',\n",
       " '### Instruction: In the support tiers table, display fax ### Context: CREATE TABLE service_levels ( fax VARCHAR(50), owner_id INTEGER ) ### Response: SELECT fax FROM service_levels',\n",
       " '### Instruction: Would you mind getting model from bills? ### Context: CREATE TABLE invoices ( city VARCHAR(100), model VARCHAR(100), document_id INTEGER, platform VARCHAR(50) ) ### Response: SELECT model FROM invoices',\n",
       " '### Instruction: Pull out work history, checksum, given name, forum_id and label from service activity ### Context: CREATE TABLE api_usage ( experience TEXT, balance NUMERIC(10,2), forum_id BIGINT, hash CHAR(32), level INTEGER, first_name VARCHAR(100), label VARCHAR(50), user_agent TEXT, company VARCHAR(255), location POINT ) ### Response: SELECT experience, hash, first_name, forum_id, label FROM api_usage',\n",
       " '### Instruction: Get item id, meta_description, emergency_contact, target date, geographic region and tag from media ### Context: CREATE TABLE media ( tag VARCHAR(50), emergency_contact VARCHAR(255), region GEOMETRY, due_date DATE, product_id INTEGER, meta_description VARCHAR(500) ) ### Response: SELECT product_id, meta_description, emergency_contact, due_date, region, tag FROM media',\n",
       " '### Instruction: Using progress stage, display feedback form and mac_address ### Context: CREATE TABLE order_status ( survey_id INTEGER, order_id BIGINT, mac_address CHAR(17), product_id BIGINT, views INTEGER, tax FLOAT, image_url VARCHAR(255), downloads INTEGER, longitude DOUBLE, subtotal DECIMAL(10,2), size INTEGER ) ### Response: SELECT survey_id, mac_address FROM order_status',\n",
       " '### Instruction: Tell me hash, thread_id, is_admin and supervisor id from clips ### Context: CREATE TABLE videos ( thread_id INTEGER, manager_id BIGINT, is_admin BOOLEAN, hash CHAR(40) ) ### Response: SELECT hash, thread_id, is_admin, manager_id FROM videos',\n",
       " '### Instruction: I need to see last_login and availability from timetables ### Context: CREATE TABLE calendars ( last_login TIMESTAMP, availability VARCHAR(50) ) ### Response: SELECT last_login, availability FROM calendars',\n",
       " '### Instruction: From progress stage, get me phone_number, is primary, education, last modified and tracklist id ### Context: CREATE TABLE order_status ( company TEXT, phone_number VARCHAR(20), api_secret TEXT, playlist_id INTEGER, education VARCHAR(255), updated_at TIMESTAMP, is_default TINYINT(1), views INTEGER ) ### Response: SELECT phone_number, is_default, education, updated_at, playlist_id FROM order_status',\n",
       " '### Instruction: Tell me access_token from zones ### Context: CREATE TABLE regions ( access_token TEXT, category VARCHAR(50) ) ### Response: SELECT access_token FROM regions',\n",
       " '### Instruction: Pull up institution, password, upc, institute, comment, forename, total count, crypto salt and day from user journey ### Context: CREATE TABLE conversion_funnel ( count BIGINT, school VARCHAR(255), date DATE, university TEXT, password VARCHAR(255), upc VARCHAR(12), note TEXT, major VARCHAR(100), salt CHAR(32), first_name VARCHAR(100) ) ### Response: SELECT school, password, upc, university, note, first_name, count, salt, date FROM conversion_funnel',\n",
       " '### Instruction: Read out build_number, lang code and currency_code from advertising paths ### Context: CREATE TABLE marketing_channels ( reaction TEXT, progress DECIMAL(5,2), build_number INTEGER, currency_code CHAR(3), language CHAR(2), tags VARCHAR(500), album_id INTEGER, role TEXT ) ### Response: SELECT build_number, language, currency_code FROM marketing_channels',\n",
       " '### Instruction: Bring up is available from api_usage ### Context: CREATE TABLE api_usage ( release_date DATE, is_enabled TINYINT(1) ) ### Response: SELECT is_enabled FROM api_usage',\n",
       " '### Instruction: I want to see survey_id from task updates ### Context: CREATE TABLE workflow_notifications ( like_id INTEGER, survey_id BIGINT ) ### Response: SELECT survey_id FROM workflow_notifications']"
      ]
     },
     "execution_count": 13,
     "metadata": {},
     "output_type": "execute_result"
    }
   ],
   "source": [
    "sae_collector = SaeCollector(loaded_saes, seed=seed, sample_size=200)\n",
    "sae_collector.get_texts()"
   ]
  },
  {
   "cell_type": "markdown",
   "id": "58a74708-dbb6-4499-a593-e96beab82ca9",
   "metadata": {},
   "source": [
    "### Maximally activating latents"
   ]
  },
  {
   "cell_type": "code",
   "execution_count": 15,
   "id": "715075f3-5a76-43aa-a5d6-ac1b987aed62",
   "metadata": {},
   "outputs": [],
   "source": [
    "def compute_and_sort_weights(acts, indices):\n",
    "    \"\"\"\n",
    "    Compute the summed weights of each index and sort them in descending order.\n",
    "\n",
    "    Parameters:\n",
    "    acts (list of list of float): Nested list of scores.\n",
    "    indices (list of list of int): Nested list of indices corresponding to scores.\n",
    "\n",
    "    Returns:\n",
    "    list of tuple: Sorted elements by summed weights in descending order.\n",
    "    \"\"\"\n",
    "    # Dictionary to store summed weights for each index\n",
    "    weights = {}\n",
    "    numel = 0\n",
    "\n",
    "    for act_row, idx_row in zip(acts, indices):\n",
    "        numel+=1\n",
    "        for score, idx in zip(act_row, idx_row):\n",
    "            weights[idx] = weights.get(idx, 0) + score\n",
    "\n",
    "    for element in weights:\n",
    "        weights[element]/=(numel or 1)\n",
    "\n",
    "    # Sort by summed weight in descending order\n",
    "    sorted_weights = sorted(weights.items(), key=lambda x: x[1], reverse=True)\n",
    "\n",
    "    return sorted_weights"
   ]
  },
  {
   "cell_type": "code",
   "execution_count": 71,
   "id": "874720fb-ae80-47f4-927d-db96cf76b26d",
   "metadata": {},
   "outputs": [
    {
     "name": "stderr",
     "output_type": "stream",
     "text": [
      "100%|████████████████████████████████████████████████████████████████████████████████████████| 200/200 [00:00<00:00, 333145.67it/s]\n",
      "100%|████████████████████████████████████████████████████████████████████████████████████████| 200/200 [00:00<00:00, 394758.02it/s]\n",
      "100%|████████████████████████████████████████████████████████████████████████████████████████| 200/200 [00:00<00:00, 414456.92it/s]\n",
      "100%|████████████████████████████████████████████████████████████████████████████████████████| 200/200 [00:00<00:00, 415895.29it/s]\n"
     ]
    }
   ],
   "source": [
    "tag = \"RESPONSE_TABLE\"\n",
    "\n",
    "def get_sorted_weights_by_layer(sae_collector, tag):\n",
    "    results = sae_collector.get_all_sae_outputs_for_tag(tag)\n",
    "    aggregated_sae_features = {}\n",
    "    layers = sae_collector.layers\n",
    "    for layer in layers:\n",
    "        all_top_acts = []\n",
    "        all_top_indices = []\n",
    "        for element in tqdm(results):\n",
    "            all_top_acts.extend(element[layer].top_acts)\n",
    "            all_top_indices.extend(element[layer].top_indices)\n",
    "    \n",
    "        sorted_weights = compute_and_sort_weights(all_top_acts, all_top_indices)\n",
    "        aggregated_sae_features[layer] = {\"top_acts\": all_top_acts, \"top_indices\": all_top_indices, \"sorted_weights\": sorted_weights}\n",
    "    return aggregated_sae_features\n",
    "\n",
    "\n",
    "sorted_weights = get_sorted_weights_by_layer(sae_collector, tag)"
   ]
  },
  {
   "cell_type": "code",
   "execution_count": 72,
   "id": "0884d023-8570-4299-b276-74dad62a2a86",
   "metadata": {},
   "outputs": [
    {
     "data": {
      "application/vnd.plotly.v1+json": {
       "config": {
        "plotlyServerURL": "https://plot.ly"
       },
       "data": [
        {
         "name": "transformer.h.0.attn",
         "type": "bar",
         "x": [
          "2804",
          "1245",
          "876",
          "3883"
         ],
         "xaxis": "x",
         "y": [
          2.18757134526968,
          1.5595156452059746,
          1.299862899184227,
          1.257187276482582
         ],
         "yaxis": "y"
        },
        {
         "name": "transformer.h.0.mlp",
         "type": "bar",
         "x": [
          "1723",
          "2562",
          "363",
          "2787"
         ],
         "xaxis": "x2",
         "y": [
          5.423642483949661,
          3.199381697177887,
          2.39957163721323,
          1.9233843395113945
         ],
         "yaxis": "y2"
        },
        {
         "name": "transformer.h.1.attn",
         "type": "bar",
         "x": [
          "366",
          "1346",
          "3783",
          "3624"
         ],
         "xaxis": "x3",
         "y": [
          5.77843877196312,
          3.7494048753380778,
          3.6172521460056304,
          3.5201941394805907
         ],
         "yaxis": "y3"
        },
        {
         "name": "transformer.h.1.mlp",
         "type": "bar",
         "x": [
          "1937",
          "1364",
          "1284",
          "954"
         ],
         "xaxis": "x4",
         "y": [
          14.689061522483826,
          12.250010659694672,
          8.713651177287101,
          8.347865412831306
         ],
         "yaxis": "y4"
        }
       ],
       "layout": {
        "annotations": [
         {
          "font": {
           "size": 16
          },
          "showarrow": false,
          "text": "transformer.h.0.attn",
          "x": 0.225,
          "xanchor": "center",
          "xref": "paper",
          "y": 1,
          "yanchor": "bottom",
          "yref": "paper"
         },
         {
          "font": {
           "size": 16
          },
          "showarrow": false,
          "text": "transformer.h.0.mlp",
          "x": 0.775,
          "xanchor": "center",
          "xref": "paper",
          "y": 1,
          "yanchor": "bottom",
          "yref": "paper"
         },
         {
          "font": {
           "size": 16
          },
          "showarrow": false,
          "text": "transformer.h.1.attn",
          "x": 0.225,
          "xanchor": "center",
          "xref": "paper",
          "y": 0.4,
          "yanchor": "bottom",
          "yref": "paper"
         },
         {
          "font": {
           "size": 16
          },
          "showarrow": false,
          "text": "transformer.h.1.mlp",
          "x": 0.775,
          "xanchor": "center",
          "xref": "paper",
          "y": 0.4,
          "yanchor": "bottom",
          "yref": "paper"
         },
         {
          "font": {
           "size": 16
          },
          "showarrow": false,
          "text": "SAE features for TAG: RESPONSE_TABLE",
          "x": 0.5,
          "xanchor": "center",
          "xref": "paper",
          "y": 0,
          "yanchor": "top",
          "yref": "paper",
          "yshift": -30
         }
        ],
        "height": 600,
        "showlegend": false,
        "template": {
         "data": {
          "bar": [
           {
            "error_x": {
             "color": "#2a3f5f"
            },
            "error_y": {
             "color": "#2a3f5f"
            },
            "marker": {
             "line": {
              "color": "#E5ECF6",
              "width": 0.5
             },
             "pattern": {
              "fillmode": "overlay",
              "size": 10,
              "solidity": 0.2
             }
            },
            "type": "bar"
           }
          ],
          "barpolar": [
           {
            "marker": {
             "line": {
              "color": "#E5ECF6",
              "width": 0.5
             },
             "pattern": {
              "fillmode": "overlay",
              "size": 10,
              "solidity": 0.2
             }
            },
            "type": "barpolar"
           }
          ],
          "carpet": [
           {
            "aaxis": {
             "endlinecolor": "#2a3f5f",
             "gridcolor": "white",
             "linecolor": "white",
             "minorgridcolor": "white",
             "startlinecolor": "#2a3f5f"
            },
            "baxis": {
             "endlinecolor": "#2a3f5f",
             "gridcolor": "white",
             "linecolor": "white",
             "minorgridcolor": "white",
             "startlinecolor": "#2a3f5f"
            },
            "type": "carpet"
           }
          ],
          "choropleth": [
           {
            "colorbar": {
             "outlinewidth": 0,
             "ticks": ""
            },
            "type": "choropleth"
           }
          ],
          "contour": [
           {
            "colorbar": {
             "outlinewidth": 0,
             "ticks": ""
            },
            "colorscale": [
             [
              0,
              "#0d0887"
             ],
             [
              0.1111111111111111,
              "#46039f"
             ],
             [
              0.2222222222222222,
              "#7201a8"
             ],
             [
              0.3333333333333333,
              "#9c179e"
             ],
             [
              0.4444444444444444,
              "#bd3786"
             ],
             [
              0.5555555555555556,
              "#d8576b"
             ],
             [
              0.6666666666666666,
              "#ed7953"
             ],
             [
              0.7777777777777778,
              "#fb9f3a"
             ],
             [
              0.8888888888888888,
              "#fdca26"
             ],
             [
              1,
              "#f0f921"
             ]
            ],
            "type": "contour"
           }
          ],
          "contourcarpet": [
           {
            "colorbar": {
             "outlinewidth": 0,
             "ticks": ""
            },
            "type": "contourcarpet"
           }
          ],
          "heatmap": [
           {
            "colorbar": {
             "outlinewidth": 0,
             "ticks": ""
            },
            "colorscale": [
             [
              0,
              "#0d0887"
             ],
             [
              0.1111111111111111,
              "#46039f"
             ],
             [
              0.2222222222222222,
              "#7201a8"
             ],
             [
              0.3333333333333333,
              "#9c179e"
             ],
             [
              0.4444444444444444,
              "#bd3786"
             ],
             [
              0.5555555555555556,
              "#d8576b"
             ],
             [
              0.6666666666666666,
              "#ed7953"
             ],
             [
              0.7777777777777778,
              "#fb9f3a"
             ],
             [
              0.8888888888888888,
              "#fdca26"
             ],
             [
              1,
              "#f0f921"
             ]
            ],
            "type": "heatmap"
           }
          ],
          "heatmapgl": [
           {
            "colorbar": {
             "outlinewidth": 0,
             "ticks": ""
            },
            "colorscale": [
             [
              0,
              "#0d0887"
             ],
             [
              0.1111111111111111,
              "#46039f"
             ],
             [
              0.2222222222222222,
              "#7201a8"
             ],
             [
              0.3333333333333333,
              "#9c179e"
             ],
             [
              0.4444444444444444,
              "#bd3786"
             ],
             [
              0.5555555555555556,
              "#d8576b"
             ],
             [
              0.6666666666666666,
              "#ed7953"
             ],
             [
              0.7777777777777778,
              "#fb9f3a"
             ],
             [
              0.8888888888888888,
              "#fdca26"
             ],
             [
              1,
              "#f0f921"
             ]
            ],
            "type": "heatmapgl"
           }
          ],
          "histogram": [
           {
            "marker": {
             "pattern": {
              "fillmode": "overlay",
              "size": 10,
              "solidity": 0.2
             }
            },
            "type": "histogram"
           }
          ],
          "histogram2d": [
           {
            "colorbar": {
             "outlinewidth": 0,
             "ticks": ""
            },
            "colorscale": [
             [
              0,
              "#0d0887"
             ],
             [
              0.1111111111111111,
              "#46039f"
             ],
             [
              0.2222222222222222,
              "#7201a8"
             ],
             [
              0.3333333333333333,
              "#9c179e"
             ],
             [
              0.4444444444444444,
              "#bd3786"
             ],
             [
              0.5555555555555556,
              "#d8576b"
             ],
             [
              0.6666666666666666,
              "#ed7953"
             ],
             [
              0.7777777777777778,
              "#fb9f3a"
             ],
             [
              0.8888888888888888,
              "#fdca26"
             ],
             [
              1,
              "#f0f921"
             ]
            ],
            "type": "histogram2d"
           }
          ],
          "histogram2dcontour": [
           {
            "colorbar": {
             "outlinewidth": 0,
             "ticks": ""
            },
            "colorscale": [
             [
              0,
              "#0d0887"
             ],
             [
              0.1111111111111111,
              "#46039f"
             ],
             [
              0.2222222222222222,
              "#7201a8"
             ],
             [
              0.3333333333333333,
              "#9c179e"
             ],
             [
              0.4444444444444444,
              "#bd3786"
             ],
             [
              0.5555555555555556,
              "#d8576b"
             ],
             [
              0.6666666666666666,
              "#ed7953"
             ],
             [
              0.7777777777777778,
              "#fb9f3a"
             ],
             [
              0.8888888888888888,
              "#fdca26"
             ],
             [
              1,
              "#f0f921"
             ]
            ],
            "type": "histogram2dcontour"
           }
          ],
          "mesh3d": [
           {
            "colorbar": {
             "outlinewidth": 0,
             "ticks": ""
            },
            "type": "mesh3d"
           }
          ],
          "parcoords": [
           {
            "line": {
             "colorbar": {
              "outlinewidth": 0,
              "ticks": ""
             }
            },
            "type": "parcoords"
           }
          ],
          "pie": [
           {
            "automargin": true,
            "type": "pie"
           }
          ],
          "scatter": [
           {
            "fillpattern": {
             "fillmode": "overlay",
             "size": 10,
             "solidity": 0.2
            },
            "type": "scatter"
           }
          ],
          "scatter3d": [
           {
            "line": {
             "colorbar": {
              "outlinewidth": 0,
              "ticks": ""
             }
            },
            "marker": {
             "colorbar": {
              "outlinewidth": 0,
              "ticks": ""
             }
            },
            "type": "scatter3d"
           }
          ],
          "scattercarpet": [
           {
            "marker": {
             "colorbar": {
              "outlinewidth": 0,
              "ticks": ""
             }
            },
            "type": "scattercarpet"
           }
          ],
          "scattergeo": [
           {
            "marker": {
             "colorbar": {
              "outlinewidth": 0,
              "ticks": ""
             }
            },
            "type": "scattergeo"
           }
          ],
          "scattergl": [
           {
            "marker": {
             "colorbar": {
              "outlinewidth": 0,
              "ticks": ""
             }
            },
            "type": "scattergl"
           }
          ],
          "scattermapbox": [
           {
            "marker": {
             "colorbar": {
              "outlinewidth": 0,
              "ticks": ""
             }
            },
            "type": "scattermapbox"
           }
          ],
          "scatterpolar": [
           {
            "marker": {
             "colorbar": {
              "outlinewidth": 0,
              "ticks": ""
             }
            },
            "type": "scatterpolar"
           }
          ],
          "scatterpolargl": [
           {
            "marker": {
             "colorbar": {
              "outlinewidth": 0,
              "ticks": ""
             }
            },
            "type": "scatterpolargl"
           }
          ],
          "scatterternary": [
           {
            "marker": {
             "colorbar": {
              "outlinewidth": 0,
              "ticks": ""
             }
            },
            "type": "scatterternary"
           }
          ],
          "surface": [
           {
            "colorbar": {
             "outlinewidth": 0,
             "ticks": ""
            },
            "colorscale": [
             [
              0,
              "#0d0887"
             ],
             [
              0.1111111111111111,
              "#46039f"
             ],
             [
              0.2222222222222222,
              "#7201a8"
             ],
             [
              0.3333333333333333,
              "#9c179e"
             ],
             [
              0.4444444444444444,
              "#bd3786"
             ],
             [
              0.5555555555555556,
              "#d8576b"
             ],
             [
              0.6666666666666666,
              "#ed7953"
             ],
             [
              0.7777777777777778,
              "#fb9f3a"
             ],
             [
              0.8888888888888888,
              "#fdca26"
             ],
             [
              1,
              "#f0f921"
             ]
            ],
            "type": "surface"
           }
          ],
          "table": [
           {
            "cells": {
             "fill": {
              "color": "#EBF0F8"
             },
             "line": {
              "color": "white"
             }
            },
            "header": {
             "fill": {
              "color": "#C8D4E3"
             },
             "line": {
              "color": "white"
             }
            },
            "type": "table"
           }
          ]
         },
         "layout": {
          "annotationdefaults": {
           "arrowcolor": "#2a3f5f",
           "arrowhead": 0,
           "arrowwidth": 1
          },
          "autotypenumbers": "strict",
          "coloraxis": {
           "colorbar": {
            "outlinewidth": 0,
            "ticks": ""
           }
          },
          "colorscale": {
           "diverging": [
            [
             0,
             "#8e0152"
            ],
            [
             0.1,
             "#c51b7d"
            ],
            [
             0.2,
             "#de77ae"
            ],
            [
             0.3,
             "#f1b6da"
            ],
            [
             0.4,
             "#fde0ef"
            ],
            [
             0.5,
             "#f7f7f7"
            ],
            [
             0.6,
             "#e6f5d0"
            ],
            [
             0.7,
             "#b8e186"
            ],
            [
             0.8,
             "#7fbc41"
            ],
            [
             0.9,
             "#4d9221"
            ],
            [
             1,
             "#276419"
            ]
           ],
           "sequential": [
            [
             0,
             "#0d0887"
            ],
            [
             0.1111111111111111,
             "#46039f"
            ],
            [
             0.2222222222222222,
             "#7201a8"
            ],
            [
             0.3333333333333333,
             "#9c179e"
            ],
            [
             0.4444444444444444,
             "#bd3786"
            ],
            [
             0.5555555555555556,
             "#d8576b"
            ],
            [
             0.6666666666666666,
             "#ed7953"
            ],
            [
             0.7777777777777778,
             "#fb9f3a"
            ],
            [
             0.8888888888888888,
             "#fdca26"
            ],
            [
             1,
             "#f0f921"
            ]
           ],
           "sequentialminus": [
            [
             0,
             "#0d0887"
            ],
            [
             0.1111111111111111,
             "#46039f"
            ],
            [
             0.2222222222222222,
             "#7201a8"
            ],
            [
             0.3333333333333333,
             "#9c179e"
            ],
            [
             0.4444444444444444,
             "#bd3786"
            ],
            [
             0.5555555555555556,
             "#d8576b"
            ],
            [
             0.6666666666666666,
             "#ed7953"
            ],
            [
             0.7777777777777778,
             "#fb9f3a"
            ],
            [
             0.8888888888888888,
             "#fdca26"
            ],
            [
             1,
             "#f0f921"
            ]
           ]
          },
          "colorway": [
           "#636efa",
           "#EF553B",
           "#00cc96",
           "#ab63fa",
           "#FFA15A",
           "#19d3f3",
           "#FF6692",
           "#B6E880",
           "#FF97FF",
           "#FECB52"
          ],
          "font": {
           "color": "#2a3f5f"
          },
          "geo": {
           "bgcolor": "white",
           "lakecolor": "white",
           "landcolor": "#E5ECF6",
           "showlakes": true,
           "showland": true,
           "subunitcolor": "white"
          },
          "hoverlabel": {
           "align": "left"
          },
          "hovermode": "closest",
          "mapbox": {
           "style": "light"
          },
          "paper_bgcolor": "white",
          "plot_bgcolor": "#E5ECF6",
          "polar": {
           "angularaxis": {
            "gridcolor": "white",
            "linecolor": "white",
            "ticks": ""
           },
           "bgcolor": "#E5ECF6",
           "radialaxis": {
            "gridcolor": "white",
            "linecolor": "white",
            "ticks": ""
           }
          },
          "scene": {
           "xaxis": {
            "backgroundcolor": "#E5ECF6",
            "gridcolor": "white",
            "gridwidth": 2,
            "linecolor": "white",
            "showbackground": true,
            "ticks": "",
            "zerolinecolor": "white"
           },
           "yaxis": {
            "backgroundcolor": "#E5ECF6",
            "gridcolor": "white",
            "gridwidth": 2,
            "linecolor": "white",
            "showbackground": true,
            "ticks": "",
            "zerolinecolor": "white"
           },
           "zaxis": {
            "backgroundcolor": "#E5ECF6",
            "gridcolor": "white",
            "gridwidth": 2,
            "linecolor": "white",
            "showbackground": true,
            "ticks": "",
            "zerolinecolor": "white"
           }
          },
          "shapedefaults": {
           "line": {
            "color": "#2a3f5f"
           }
          },
          "ternary": {
           "aaxis": {
            "gridcolor": "white",
            "linecolor": "white",
            "ticks": ""
           },
           "baxis": {
            "gridcolor": "white",
            "linecolor": "white",
            "ticks": ""
           },
           "bgcolor": "#E5ECF6",
           "caxis": {
            "gridcolor": "white",
            "linecolor": "white",
            "ticks": ""
           }
          },
          "title": {
           "x": 0.05
          },
          "xaxis": {
           "automargin": true,
           "gridcolor": "white",
           "linecolor": "white",
           "ticks": "",
           "title": {
            "standoff": 15
           },
           "zerolinecolor": "white",
           "zerolinewidth": 2
          },
          "yaxis": {
           "automargin": true,
           "gridcolor": "white",
           "linecolor": "white",
           "ticks": "",
           "title": {
            "standoff": 15
           },
           "zerolinecolor": "white",
           "zerolinewidth": 2
          }
         }
        },
        "title": {
         "text": "Top Features by Layer",
         "x": 0.5
        },
        "xaxis": {
         "anchor": "y",
         "autorange": true,
         "domain": [
          0,
          0.45
         ],
         "range": [
          -0.5,
          3.5
         ],
         "tickangle": 90,
         "title": {
          "text": "Feature Number"
         },
         "type": "category"
        },
        "xaxis2": {
         "anchor": "y2",
         "autorange": true,
         "domain": [
          0.55,
          1
         ],
         "range": [
          -0.5,
          3.5
         ],
         "tickangle": 90,
         "title": {
          "text": "Feature Number"
         },
         "type": "category"
        },
        "xaxis3": {
         "anchor": "y3",
         "autorange": true,
         "domain": [
          0,
          0.45
         ],
         "range": [
          -0.5,
          3.5
         ],
         "tickangle": 90,
         "title": {
          "text": "Feature Number"
         },
         "type": "category"
        },
        "xaxis4": {
         "anchor": "y4",
         "autorange": true,
         "domain": [
          0.55,
          1
         ],
         "range": [
          -0.5,
          3.5
         ],
         "tickangle": 90,
         "title": {
          "text": "Feature Number"
         },
         "type": "category"
        },
        "yaxis": {
         "anchor": "x",
         "autorange": true,
         "domain": [
          0.6000000000000001,
          1
         ],
         "range": [
          0,
          2.302706679231242
         ],
         "title": {
          "text": "Weight"
         },
         "type": "linear"
        },
        "yaxis2": {
         "anchor": "x2",
         "autorange": true,
         "domain": [
          0.6000000000000001,
          1
         ],
         "range": [
          0,
          5.709097351525958
         ],
         "title": {
          "text": "Weight"
         },
         "type": "linear"
        },
        "yaxis3": {
         "anchor": "x3",
         "autorange": true,
         "domain": [
          0,
          0.4
         ],
         "range": [
          0,
          6.082567128382231
         ],
         "title": {
          "text": "Weight"
         },
         "type": "linear"
        },
        "yaxis4": {
         "anchor": "x4",
         "autorange": true,
         "domain": [
          0,
          0.4
         ],
         "range": [
          0,
          15.462170023667184
         ],
         "title": {
          "text": "Weight"
         },
         "type": "linear"
        }
       }
      },
      "image/png": "[encoded data removed]",
      "text/html": [
       "<div>                            <div id=\"474fd214-b18b-4ec7-bd30-165739ed3fe0\" class=\"plotly-graph-div\" style=\"height:600px; width:100%;\"></div>            <script type=\"text/javascript\">                require([\"plotly\"], function(Plotly) {                    window.PLOTLYENV=window.PLOTLYENV || {};                                    if (document.getElementById(\"474fd214-b18b-4ec7-bd30-165739ed3fe0\")) {                    Plotly.newPlot(                        \"474fd214-b18b-4ec7-bd30-165739ed3fe0\",                        [{\"name\":\"transformer.h.0.attn\",\"x\":[\"2804\",\"1245\",\"876\",\"3883\"],\"y\":[2.18757134526968,1.5595156452059746,1.299862899184227,1.257187276482582],\"type\":\"bar\",\"xaxis\":\"x\",\"yaxis\":\"y\"},{\"name\":\"transformer.h.0.mlp\",\"x\":[\"1723\",\"2562\",\"363\",\"2787\"],\"y\":[5.423642483949661,3.199381697177887,2.39957163721323,1.9233843395113945],\"type\":\"bar\",\"xaxis\":\"x2\",\"yaxis\":\"y2\"},{\"name\":\"transformer.h.1.attn\",\"x\":[\"366\",\"1346\",\"3783\",\"3624\"],\"y\":[5.77843877196312,3.7494048753380778,3.6172521460056304,3.5201941394805907],\"type\":\"bar\",\"xaxis\":\"x3\",\"yaxis\":\"y3\"},{\"name\":\"transformer.h.1.mlp\",\"x\":[\"1937\",\"1364\",\"1284\",\"954\"],\"y\":[14.689061522483826,12.250010659694672,8.713651177287101,8.347865412831306],\"type\":\"bar\",\"xaxis\":\"x4\",\"yaxis\":\"y4\"}],                        {\"template\":{\"data\":{\"histogram2dcontour\":[{\"type\":\"histogram2dcontour\",\"colorbar\":{\"outlinewidth\":0,\"ticks\":\"\"},\"colorscale\":[[0.0,\"#0d0887\"],[0.1111111111111111,\"#46039f\"],[0.2222222222222222,\"#7201a8\"],[0.3333333333333333,\"#9c179e\"],[0.4444444444444444,\"#bd3786\"],[0.5555555555555556,\"#d8576b\"],[0.6666666666666666,\"#ed7953\"],[0.7777777777777778,\"#fb9f3a\"],[0.8888888888888888,\"#fdca26\"],[1.0,\"#f0f921\"]]}],\"choropleth\":[{\"type\":\"choropleth\",\"colorbar\":{\"outlinewidth\":0,\"ticks\":\"\"}}],\"histogram2d\":[{\"type\":\"histogram2d\",\"colorbar\":{\"outlinewidth\":0,\"ticks\":\"\"},\"colorscale\":[[0.0,\"#0d0887\"],[0.1111111111111111,\"#46039f\"],[0.2222222222222222,\"#7201a8\"],[0.3333333333333333,\"#9c179e\"],[0.4444444444444444,\"#bd3786\"],[0.5555555555555556,\"#d8576b\"],[0.6666666666666666,\"#ed7953\"],[0.7777777777777778,\"#fb9f3a\"],[0.8888888888888888,\"#fdca26\"],[1.0,\"#f0f921\"]]}],\"heatmap\":[{\"type\":\"heatmap\",\"colorbar\":{\"outlinewidth\":0,\"ticks\":\"\"},\"colorscale\":[[0.0,\"#0d0887\"],[0.1111111111111111,\"#46039f\"],[0.2222222222222222,\"#7201a8\"],[0.3333333333333333,\"#9c179e\"],[0.4444444444444444,\"#bd3786\"],[0.5555555555555556,\"#d8576b\"],[0.6666666666666666,\"#ed7953\"],[0.7777777777777778,\"#fb9f3a\"],[0.8888888888888888,\"#fdca26\"],[1.0,\"#f0f921\"]]}],\"heatmapgl\":[{\"type\":\"heatmapgl\",\"colorbar\":{\"outlinewidth\":0,\"ticks\":\"\"},\"colorscale\":[[0.0,\"#0d0887\"],[0.1111111111111111,\"#46039f\"],[0.2222222222222222,\"#7201a8\"],[0.3333333333333333,\"#9c179e\"],[0.4444444444444444,\"#bd3786\"],[0.5555555555555556,\"#d8576b\"],[0.6666666666666666,\"#ed7953\"],[0.7777777777777778,\"#fb9f3a\"],[0.8888888888888888,\"#fdca26\"],[1.0,\"#f0f921\"]]}],\"contourcarpet\":[{\"type\":\"contourcarpet\",\"colorbar\":{\"outlinewidth\":0,\"ticks\":\"\"}}],\"contour\":[{\"type\":\"contour\",\"colorbar\":{\"outlinewidth\":0,\"ticks\":\"\"},\"colorscale\":[[0.0,\"#0d0887\"],[0.1111111111111111,\"#46039f\"],[0.2222222222222222,\"#7201a8\"],[0.3333333333333333,\"#9c179e\"],[0.4444444444444444,\"#bd3786\"],[0.5555555555555556,\"#d8576b\"],[0.6666666666666666,\"#ed7953\"],[0.7777777777777778,\"#fb9f3a\"],[0.8888888888888888,\"#fdca26\"],[1.0,\"#f0f921\"]]}],\"surface\":[{\"type\":\"surface\",\"colorbar\":{\"outlinewidth\":0,\"ticks\":\"\"},\"colorscale\":[[0.0,\"#0d0887\"],[0.1111111111111111,\"#46039f\"],[0.2222222222222222,\"#7201a8\"],[0.3333333333333333,\"#9c179e\"],[0.4444444444444444,\"#bd3786\"],[0.5555555555555556,\"#d8576b\"],[0.6666666666666666,\"#ed7953\"],[0.7777777777777778,\"#fb9f3a\"],[0.8888888888888888,\"#fdca26\"],[1.0,\"#f0f921\"]]}],\"mesh3d\":[{\"type\":\"mesh3d\",\"colorbar\":{\"outlinewidth\":0,\"ticks\":\"\"}}],\"scatter\":[{\"fillpattern\":{\"fillmode\":\"overlay\",\"size\":10,\"solidity\":0.2},\"type\":\"scatter\"}],\"parcoords\":[{\"type\":\"parcoords\",\"line\":{\"colorbar\":{\"outlinewidth\":0,\"ticks\":\"\"}}}],\"scatterpolargl\":[{\"type\":\"scatterpolargl\",\"marker\":{\"colorbar\":{\"outlinewidth\":0,\"ticks\":\"\"}}}],\"bar\":[{\"error_x\":{\"color\":\"#2a3f5f\"},\"error_y\":{\"color\":\"#2a3f5f\"},\"marker\":{\"line\":{\"color\":\"#E5ECF6\",\"width\":0.5},\"pattern\":{\"fillmode\":\"overlay\",\"size\":10,\"solidity\":0.2}},\"type\":\"bar\"}],\"scattergeo\":[{\"type\":\"scattergeo\",\"marker\":{\"colorbar\":{\"outlinewidth\":0,\"ticks\":\"\"}}}],\"scatterpolar\":[{\"type\":\"scatterpolar\",\"marker\":{\"colorbar\":{\"outlinewidth\":0,\"ticks\":\"\"}}}],\"histogram\":[{\"marker\":{\"pattern\":{\"fillmode\":\"overlay\",\"size\":10,\"solidity\":0.2}},\"type\":\"histogram\"}],\"scattergl\":[{\"type\":\"scattergl\",\"marker\":{\"colorbar\":{\"outlinewidth\":0,\"ticks\":\"\"}}}],\"scatter3d\":[{\"type\":\"scatter3d\",\"line\":{\"colorbar\":{\"outlinewidth\":0,\"ticks\":\"\"}},\"marker\":{\"colorbar\":{\"outlinewidth\":0,\"ticks\":\"\"}}}],\"scattermapbox\":[{\"type\":\"scattermapbox\",\"marker\":{\"colorbar\":{\"outlinewidth\":0,\"ticks\":\"\"}}}],\"scatterternary\":[{\"type\":\"scatterternary\",\"marker\":{\"colorbar\":{\"outlinewidth\":0,\"ticks\":\"\"}}}],\"scattercarpet\":[{\"type\":\"scattercarpet\",\"marker\":{\"colorbar\":{\"outlinewidth\":0,\"ticks\":\"\"}}}],\"carpet\":[{\"aaxis\":{\"endlinecolor\":\"#2a3f5f\",\"gridcolor\":\"white\",\"linecolor\":\"white\",\"minorgridcolor\":\"white\",\"startlinecolor\":\"#2a3f5f\"},\"baxis\":{\"endlinecolor\":\"#2a3f5f\",\"gridcolor\":\"white\",\"linecolor\":\"white\",\"minorgridcolor\":\"white\",\"startlinecolor\":\"#2a3f5f\"},\"type\":\"carpet\"}],\"table\":[{\"cells\":{\"fill\":{\"color\":\"#EBF0F8\"},\"line\":{\"color\":\"white\"}},\"header\":{\"fill\":{\"color\":\"#C8D4E3\"},\"line\":{\"color\":\"white\"}},\"type\":\"table\"}],\"barpolar\":[{\"marker\":{\"line\":{\"color\":\"#E5ECF6\",\"width\":0.5},\"pattern\":{\"fillmode\":\"overlay\",\"size\":10,\"solidity\":0.2}},\"type\":\"barpolar\"}],\"pie\":[{\"automargin\":true,\"type\":\"pie\"}]},\"layout\":{\"autotypenumbers\":\"strict\",\"colorway\":[\"#636efa\",\"#EF553B\",\"#00cc96\",\"#ab63fa\",\"#FFA15A\",\"#19d3f3\",\"#FF6692\",\"#B6E880\",\"#FF97FF\",\"#FECB52\"],\"font\":{\"color\":\"#2a3f5f\"},\"hovermode\":\"closest\",\"hoverlabel\":{\"align\":\"left\"},\"paper_bgcolor\":\"white\",\"plot_bgcolor\":\"#E5ECF6\",\"polar\":{\"bgcolor\":\"#E5ECF6\",\"angularaxis\":{\"gridcolor\":\"white\",\"linecolor\":\"white\",\"ticks\":\"\"},\"radialaxis\":{\"gridcolor\":\"white\",\"linecolor\":\"white\",\"ticks\":\"\"}},\"ternary\":{\"bgcolor\":\"#E5ECF6\",\"aaxis\":{\"gridcolor\":\"white\",\"linecolor\":\"white\",\"ticks\":\"\"},\"baxis\":{\"gridcolor\":\"white\",\"linecolor\":\"white\",\"ticks\":\"\"},\"caxis\":{\"gridcolor\":\"white\",\"linecolor\":\"white\",\"ticks\":\"\"}},\"coloraxis\":{\"colorbar\":{\"outlinewidth\":0,\"ticks\":\"\"}},\"colorscale\":{\"sequential\":[[0.0,\"#0d0887\"],[0.1111111111111111,\"#46039f\"],[0.2222222222222222,\"#7201a8\"],[0.3333333333333333,\"#9c179e\"],[0.4444444444444444,\"#bd3786\"],[0.5555555555555556,\"#d8576b\"],[0.6666666666666666,\"#ed7953\"],[0.7777777777777778,\"#fb9f3a\"],[0.8888888888888888,\"#fdca26\"],[1.0,\"#f0f921\"]],\"sequentialminus\":[[0.0,\"#0d0887\"],[0.1111111111111111,\"#46039f\"],[0.2222222222222222,\"#7201a8\"],[0.3333333333333333,\"#9c179e\"],[0.4444444444444444,\"#bd3786\"],[0.5555555555555556,\"#d8576b\"],[0.6666666666666666,\"#ed7953\"],[0.7777777777777778,\"#fb9f3a\"],[0.8888888888888888,\"#fdca26\"],[1.0,\"#f0f921\"]],\"diverging\":[[0,\"#8e0152\"],[0.1,\"#c51b7d\"],[0.2,\"#de77ae\"],[0.3,\"#f1b6da\"],[0.4,\"#fde0ef\"],[0.5,\"#f7f7f7\"],[0.6,\"#e6f5d0\"],[0.7,\"#b8e186\"],[0.8,\"#7fbc41\"],[0.9,\"#4d9221\"],[1,\"#276419\"]]},\"xaxis\":{\"gridcolor\":\"white\",\"linecolor\":\"white\",\"ticks\":\"\",\"title\":{\"standoff\":15},\"zerolinecolor\":\"white\",\"automargin\":true,\"zerolinewidth\":2},\"yaxis\":{\"gridcolor\":\"white\",\"linecolor\":\"white\",\"ticks\":\"\",\"title\":{\"standoff\":15},\"zerolinecolor\":\"white\",\"automargin\":true,\"zerolinewidth\":2},\"scene\":{\"xaxis\":{\"backgroundcolor\":\"#E5ECF6\",\"gridcolor\":\"white\",\"linecolor\":\"white\",\"showbackground\":true,\"ticks\":\"\",\"zerolinecolor\":\"white\",\"gridwidth\":2},\"yaxis\":{\"backgroundcolor\":\"#E5ECF6\",\"gridcolor\":\"white\",\"linecolor\":\"white\",\"showbackground\":true,\"ticks\":\"\",\"zerolinecolor\":\"white\",\"gridwidth\":2},\"zaxis\":{\"backgroundcolor\":\"#E5ECF6\",\"gridcolor\":\"white\",\"linecolor\":\"white\",\"showbackground\":true,\"ticks\":\"\",\"zerolinecolor\":\"white\",\"gridwidth\":2}},\"shapedefaults\":{\"line\":{\"color\":\"#2a3f5f\"}},\"annotationdefaults\":{\"arrowcolor\":\"#2a3f5f\",\"arrowhead\":0,\"arrowwidth\":1},\"geo\":{\"bgcolor\":\"white\",\"landcolor\":\"#E5ECF6\",\"subunitcolor\":\"white\",\"showland\":true,\"showlakes\":true,\"lakecolor\":\"white\"},\"title\":{\"x\":0.05},\"mapbox\":{\"style\":\"light\"}}},\"xaxis\":{\"anchor\":\"y\",\"domain\":[0.0,0.45],\"title\":{\"text\":\"Feature Number\"},\"tickangle\":90},\"yaxis\":{\"anchor\":\"x\",\"domain\":[0.6000000000000001,1.0],\"title\":{\"text\":\"Weight\"}},\"xaxis2\":{\"anchor\":\"y2\",\"domain\":[0.55,1.0],\"title\":{\"text\":\"Feature Number\"},\"tickangle\":90},\"yaxis2\":{\"anchor\":\"x2\",\"domain\":[0.6000000000000001,1.0],\"title\":{\"text\":\"Weight\"}},\"xaxis3\":{\"anchor\":\"y3\",\"domain\":[0.0,0.45],\"title\":{\"text\":\"Feature Number\"},\"tickangle\":90},\"yaxis3\":{\"anchor\":\"x3\",\"domain\":[0.0,0.4],\"title\":{\"text\":\"Weight\"}},\"xaxis4\":{\"anchor\":\"y4\",\"domain\":[0.55,1.0],\"title\":{\"text\":\"Feature Number\"},\"tickangle\":90},\"yaxis4\":{\"anchor\":\"x4\",\"domain\":[0.0,0.4],\"title\":{\"text\":\"Weight\"}},\"annotations\":[{\"font\":{\"size\":16},\"showarrow\":false,\"text\":\"transformer.h.0.attn\",\"x\":0.225,\"xanchor\":\"center\",\"xref\":\"paper\",\"y\":1.0,\"yanchor\":\"bottom\",\"yref\":\"paper\"},{\"font\":{\"size\":16},\"showarrow\":false,\"text\":\"transformer.h.0.mlp\",\"x\":0.775,\"xanchor\":\"center\",\"xref\":\"paper\",\"y\":1.0,\"yanchor\":\"bottom\",\"yref\":\"paper\"},{\"font\":{\"size\":16},\"showarrow\":false,\"text\":\"transformer.h.1.attn\",\"x\":0.225,\"xanchor\":\"center\",\"xref\":\"paper\",\"y\":0.4,\"yanchor\":\"bottom\",\"yref\":\"paper\"},{\"font\":{\"size\":16},\"showarrow\":false,\"text\":\"transformer.h.1.mlp\",\"x\":0.775,\"xanchor\":\"center\",\"xref\":\"paper\",\"y\":0.4,\"yanchor\":\"bottom\",\"yref\":\"paper\"},{\"font\":{\"size\":16},\"showarrow\":false,\"text\":\"SAE features for TAG: RESPONSE_TABLE\",\"x\":0.5,\"xanchor\":\"center\",\"xref\":\"paper\",\"y\":0,\"yanchor\":\"top\",\"yref\":\"paper\",\"yshift\":-30}],\"title\":{\"text\":\"Top Features by Layer\",\"x\":0.5},\"height\":600,\"showlegend\":false},                        {\"responsive\": true}                    ).then(function(){\n",
       "                            \n",
       "var gd = document.getElementById('474fd214-b18b-4ec7-bd30-165739ed3fe0');\n",
       "var x = new MutationObserver(function (mutations, observer) {{\n",
       "        var display = window.getComputedStyle(gd).display;\n",
       "        if (!display || display === 'none') {{\n",
       "            console.log([gd, 'removed!']);\n",
       "            Plotly.purge(gd);\n",
       "            observer.disconnect();\n",
       "        }}\n",
       "}});\n",
       "\n",
       "// Listen for the removal of the full notebook cells\n",
       "var notebookContainer = gd.closest('#notebook-container');\n",
       "if (notebookContainer) {{\n",
       "    x.observe(notebookContainer, {childList: true});\n",
       "}}\n",
       "\n",
       "// Listen for the clearing of the current output cell\n",
       "var outputEl = gd.closest('.output');\n",
       "if (outputEl) {{\n",
       "    x.observe(outputEl, {childList: true});\n",
       "}}\n",
       "\n",
       "                        })                };                });            </script>        </div>"
      ]
     },
     "metadata": {},
     "output_type": "display_data"
    }
   ],
   "source": [
    "plot_layer_features(sorted_weights, tag, top_n=4)"
   ]
  },
  {
   "cell_type": "markdown",
   "id": "c9457e6a-f52d-4f61-8867-f4f822177de1",
   "metadata": {},
   "source": [
    "**Get the maximum weight of a feature in an element.**"
   ]
  },
  {
   "cell_type": "code",
   "execution_count": 69,
   "id": "a0a043b4-bc48-46e0-bb3f-a1a28fc89a7f",
   "metadata": {},
   "outputs": [],
   "source": [
    "element = sae_collector.encoded_set[2][\"encoding\"]"
   ]
  },
  {
   "cell_type": "code",
   "execution_count": 73,
   "id": "ba952236-11ef-4c6c-a3ec-c43c4faf3a05",
   "metadata": {},
   "outputs": [],
   "source": [
    "target_feature = 2804\n",
    "target_layer = \"transformer.h.0.attn\""
   ]
  },
  {
   "cell_type": "code",
   "execution_count": 74,
   "id": "ab7d8724-73f3-4c8f-9680-3b60ce3d8a92",
   "metadata": {},
   "outputs": [],
   "source": [
    "single_element = element.sae_outputs_by_layer[target_layer]"
   ]
  },
  {
   "cell_type": "code",
   "execution_count": 75,
   "id": "00a29116-df8a-48f0-b11e-174f8b03b17e",
   "metadata": {},
   "outputs": [
    {
     "data": {
      "text/plain": [
       "3.61352276802063"
      ]
     },
     "execution_count": 75,
     "metadata": {},
     "output_type": "execute_result"
    }
   ],
   "source": [
    "element.get_max_weight_of_feature(target_layer, target_feature)"
   ]
  },
  {
   "cell_type": "code",
   "execution_count": 76,
   "id": "3088186c-aa4e-41d8-b295-8f219ea582dd",
   "metadata": {},
   "outputs": [],
   "source": [
    "# element.averaged_representation()"
   ]
  },
  {
   "cell_type": "code",
   "execution_count": 77,
   "id": "30d36849-f058-4824-8c06-f6296f217279",
   "metadata": {},
   "outputs": [],
   "source": [
    "from circuitsvis.tokens import colored_tokens"
   ]
  },
  {
   "cell_type": "code",
   "execution_count": 78,
   "id": "c0013b15-43b8-4bb9-8bd2-f30716e8df37",
   "metadata": {},
   "outputs": [
    {
     "name": "stderr",
     "output_type": "stream",
     "text": [
      "100%|███████████████████████████████████████████████████████████████████████████████████████████| 200/200 [00:00<00:00, 205.56it/s]\n"
     ]
    }
   ],
   "source": [
    "texts, visualizations = sae_collector.get_maximally_activating_datasets(target_layer, target_feature)"
   ]
  },
  {
   "cell_type": "code",
   "execution_count": 79,
   "id": "26077dab-e86b-40ba-9b4f-46e49787a4e2",
   "metadata": {},
   "outputs": [
    {
     "name": "stdout",
     "output_type": "stream",
     "text": [
      "{0: [], 1: [], 2: [], 3: [], 4: [], 5: [], 6: [], 7: [('FIELD', 'content')], 8: [], 9: [], 10: [], 11: [], 12: [], 13: [], 14: [], 15: [], 16: [], 17: [], 18: [], 19: [], 20: [('FIELD', 'salary')], 21: [], 22: [], 23: [], 24: [], 25: [], 26: [('FIELD', 'altitude')], 27: [], 28: [], 29: [], 30: [], 31: [], 32: [], 33: [], 34: [], 35: [], 36: [], 37: [], 38: [], 39: [('TABLE', 'search'), ('CONTEXT_TABLE', 'search')], 40: [], 41: [], 42: [], 43: [], 44: [], 45: [], 46: [], 47: [], 48: [], 49: [('FIELD', 'score')], 50: [], 51: [], 52: [], 53: [], 54: [], 55: [], 56: [], 57: [], 58: [], 59: [], 60: [], 61: [], 62: [], 63: [], 64: [], 65: [('FIELD', 'altitude')], 66: [], 67: [], 68: [], 69: [], 70: [], 71: [], 72: [], 73: [], 74: [], 75: [], 76: [], 77: [], 78: [], 79: [], 80: [], 81: [], 82: [], 83: [], 84: [], 85: [], 86: [], 87: [], 88: [], 89: [], 90: [], 91: [], 92: [], 93: [], 94: [], 95: [], 96: [], 97: [], 98: [], 99: [], 100: [], 101: [], 102: [], 103: [], 104: [], 105: [], 106: [], 107: [], 108: [], 109: [], 110: [], 111: [('FIELD', 'content')], 112: [], 113: [], 114: [], 115: [], 116: [], 117: [], 118: [], 119: [], 120: [], 121: [], 122: [], 123: [], 124: [('FIELD', 'salary')], 125: [], 126: [], 127: [], 128: [], 129: [], 130: [('FIELD', 'altitude')], 131: [], 132: [], 133: [], 134: [], 135: [], 136: [], 137: [('RESPONSE_TABLE', 'Ġsearch'), ('TABLE', 'search')], 138: [], 139: [], 140: []}\n"
     ]
    },
    {
     "data": {
      "text/plain": [
       "'### Instruction: Look up rating, content_blob, survey_id, verified_at, salary, end_date, altitude and pending items from lookup tips ### Context: CREATE TABLE search_suggestions ( salary FLOAT, score DECIMAL(5,2), verified_at TIMESTAMP, altitude DECIMAL(9,6), content_blob BYTEA, survey_id INTEGER, end_date DATETIME, unread_count INTEGER ) ### Response: SELECT score, content_blob, survey_id, verified_at, salary, end_date, altitude, unread_count FROM search_suggestions'"
      ]
     },
     "execution_count": 79,
     "metadata": {},
     "output_type": "execute_result"
    }
   ],
   "source": [
    "print(texts[2][0][\"encoding\"].tags_by_index)\n",
    "texts[2][0][\"encoding\"].text"
   ]
  },
  {
   "cell_type": "code",
   "execution_count": 80,
   "id": "2044bc14-a42f-4dfa-aeb9-92e76d0fe966",
   "metadata": {},
   "outputs": [
    {
     "data": {
      "text/html": [
       "<div id=\"circuits-vis-d240cd35-4514\" style=\"margin: 15px 0;\"/>\n",
       "    <script crossorigin type=\"module\">\n",
       "    import { render, ColoredTokens } from \"https://unpkg.com/circuitsvis@1.43.3/dist/cdn/esm.js\";\n",
       "    render(\n",
       "      \"circuits-vis-d240cd35-4514\",\n",
       "      ColoredTokens,\n",
       "      {\"tokens\": [\"###\", \"instruction\", \":\", \"find\", \"description\", \",\", \"initiative\", \"id\", \",\", \"verified\", \"_\", \"at\", \",\", \"velocity\", \",\", \"featured\", \"status\", \",\", \"assignment\", \"id\", \",\", \"availability\", \",\", \"click\", \"count\", \",\", \"permit\", \",\", \"parent\", \"_\", \"task\", \"_\", \"id\", \"and\", \"unseen\", \"count\", \"from\", \"social\", \"_\", \"campaign\", \"s\", \"###\", \"context\", \":\", \"cre\", \"ate\", \"table\", \"social\", \"_\", \"campaign\", \"s\", \"(\", \"verified\", \"_\", \"at\", \"tim\", \"est\", \"amp\", \",\", \"description\", \"text\", \",\", \"project\", \"_\", \"id\", \"big\", \"int\", \",\", \"is\", \"_\", \"f\", \"eatured\", \"b\", \"oo\", \"le\", \"an\", \",\", \"un\", \"read\", \"_\", \"count\", \"int\", \"eg\", \"er\", \",\", \"license\", \"text\", \",\", \"availability\", \"text\", \",\", \"clicks\", \"int\", \"eg\", \"er\", \",\", \"speed\", \"dec\", \"im\", \"al\", \"(\", \"9\", \",\", \"6\", \"),\", \"parent\", \"_\", \"task\", \"_\", \"id\", \"big\", \"int\", \",\", \"task\", \"_\", \"id\", \"int\", \"eg\", \"er\", \")\", \"###\", \"response\", \":\", \"select\", \"description\", \",\", \"project\", \"_\", \"id\", \",\", \"verified\", \"_\", \"at\", \",\", \"speed\", \",\", \"is\", \"_\", \"f\", \"eatured\", \",\", \"task\", \"_\", \"id\", \",\", \"availability\", \",\", \"clicks\", \",\", \"license\", \",\", \"parent\", \"_\", \"task\", \"_\", \"id\", \",\", \"un\", \"read\", \"_\", \"count\", \"from\", \"social\", \"_\", \"campaign\", \"s\"], \"values\": [0, 0, 1.4731642007827759, 1.3887526988983154, 1.538984775543213, 1.5016146898269653, 1.2257521152496338, 1.9267677068710327, 1.1106587648391724, 1.5380741357803345, 1.0930079221725464, 1.622522234916687, 0.9143454432487488, 1.2276860475540161, 1.1414076089859009, 0.7810445427894592, 1.3552234172821045, 0.7642046213150024, 0.6134019494056702, 0.7310985326766968, 0.4189666509628296, 1.0832570791244507, 0.6896535754203796, 0.5292659997940063, 0.8707518577575684, 0.31264227628707886, 0.5312262773513794, 0.32243043184280396, 0.6190394163131714, 0.14803481101989746, 0.3824320435523987, 0.15781454741954803, 0.40456944704055786, 0.18588776886463165, 0, 0.22314201295375824, 0, 0, 0.16502968966960907, 0, 0, 1.181148648262024, 2.3768675327301025, 1.743440866470337, 2.347578287124634, 2.5510261058807373, 1.679429531097412, 2.293466567993164, 2.0618233680725098, 1.0864166021347046, 1.516175627708435, 0.7357224822044373, 0.9678429365158081, 0.9049047231674194, 0.7512359619140625, 1.0384215116500854, 0.6951032876968384, 0.24707438051700592, 1.0268319845199585, 0.6196684241294861, 0.4463275074958801, 0.366981565952301, 0.6790328025817871, 0.5381954312324524, 0.9646880626678467, 0.5478808879852295, 0.5780376195907593, 0.44441866874694824, 0.5786277055740356, 0.7798744440078735, 0.6746865510940552, 1.0243186950683594, 0.8079943656921387, 1.1032001972198486, 0.5678113698959351, 0.38817834854125977, 0.9070227146148682, 0.37125957012176514, 0.4238981008529663, 0.5654336214065552, 0.5352398157119751, 0.5270930528640747, 0.37637680768966675, 0.24247877299785614, 0.5505961179733276, 0.22911567986011505, 0.21861974895000458, 0.5527477860450745, 0.20116238296031952, 0.34745079278945923, 0.422815203666687, 0.4003121256828308, 0.33808571100234985, 0.13244621455669403, 0.2202611118555069, 0.39715051651000977, 0.3199458122253418, 0.168381467461586, 0.17884056270122528, 0.13148121535778046, 0.14896222949028015, 0.48885828256607056, 0.19632524251937866, 0.1512809842824936, 0.13696397840976715, 0.10039867460727692, 0, 0.20917220413684845, 0, 0.06407267600297928, 0, 0.07761383801698685, 0, 0, 0, 0, 0, 0, 0, 0.11553047597408295, 1.4975765943527222, 3.3637754917144775, 2.930415153503418, 2.3278093338012695, 3.100919008255005, 2.2188689708709717, 2.952157735824585, 2.4017817974090576, 3.662663221359253, 2.357510805130005, 2.838710308074951, 2.3462588787078857, 3.020869016647339, 2.1856791973114014, 2.6183977127075195, 2.204603910446167, 1.8849977254867554, 3.078892469406128, 1.9022705554962158, 2.4990432262420654, 1.8089079856872559, 2.184379816055298, 1.4615869522094727, 1.9592413902282715, 1.1971207857131958, 2.2601280212402344, 1.155537486076355, 1.764314889907837, 0.9280223846435547, 1.3947561979293823, 1.0559669733047485, 1.9325649738311768, 0.8372343182563782, 0.9999264478683472, 0.49660325050354004, 0.8824646472930908, 1.1846243143081665, 0.5352522730827332, 0.5532747507095337, 0.43687236309051514, 1.0314861536026, 0.459833562374115, 0.49196648597717285, 0.6188080310821533], \"positiveColor\": \"green\"}\n",
       "    )\n",
       "    </script>"
      ],
      "text/plain": [
       "<circuitsvis.utils.render.RenderedHTML at 0x7f43f28c3d90>"
      ]
     },
     "metadata": {},
     "output_type": "display_data"
    },
    {
     "data": {
      "text/html": [
       "<div id=\"circuits-vis-0f8d6ff9-009b\" style=\"margin: 15px 0;\"/>\n",
       "    <script crossorigin type=\"module\">\n",
       "    import { render, ColoredTokens } from \"https://unpkg.com/circuitsvis@1.43.3/dist/cdn/esm.js\";\n",
       "    render(\n",
       "      \"circuits-vis-0f8d6ff9-009b\",\n",
       "      ColoredTokens,\n",
       "      {\"tokens\": [\"###\", \"instruction\", \":\", \"get\", \"currency\", \",\", \"username\", \",\", \"release\", \"_\", \"date\", \",\", \"license\", \"and\", \"unseen\", \"count\", \"from\", \"service\", \"feedback\", \"###\", \"context\", \":\", \"cre\", \"ate\", \"table\", \"customer\", \"_\", \"s\", \"atisf\", \"action\", \"(\", \"username\", \"v\", \"arch\", \"ar\", \"(\", \"50\", \"),\", \"release\", \"_\", \"date\", \"d\", \"ate\", \",\", \"license\", \"text\", \",\", \"score\", \"int\", \"eg\", \"er\", \",\", \"currency\", \"char\", \"(\", \"3\", \"),\", \"started\", \"_\", \"at\", \"tim\", \"est\", \"amp\", \",\", \"is\", \"_\", \"admin\", \"b\", \"oo\", \"le\", \"an\", \",\", \"genre\", \"_\", \"id\", \"int\", \"eg\", \"er\", \",\", \"un\", \"read\", \"_\", \"count\", \"sm\", \"all\", \"int\", \")\", \"###\", \"response\", \":\", \"select\", \"currency\", \",\", \"username\", \",\", \"release\", \"_\", \"date\", \",\", \"license\", \",\", \"un\", \"read\", \"_\", \"count\", \"from\", \"customer\", \"_\", \"s\", \"atisf\", \"action\"], \"values\": [0, 0, 1.602468490600586, 1.3686949014663696, 2.021639108657837, 1.2216156721115112, 1.5416591167449951, 0.9696606397628784, 1.4734207391738892, 1.0520151853561401, 1.3237484693527222, 0.994164228439331, 1.4566038846969604, 1.1980934143066406, 0.5822676420211792, 0.7677202820777893, 1.3303169012069702, 0.3693726658821106, 0.3448041081428528, 1.0770214796066284, 1.6759620904922485, 1.296256184577942, 1.8024874925613403, 1.8115235567092896, 1.4321342706680298, 1.664115071296692, 1.8499451875686646, 1.7919011116027832, 0.5372214317321777, 0.6832191944122314, 0.6880720853805542, 0.8521015644073486, 0.776382565498352, 0.8407415151596069, 0.6580976247787476, 0.443562388420105, 0.12055514752864838, 0.1702454537153244, 0.28165286779403687, 0.39140647649765015, 0.5253347158432007, 0.12902964651584625, 0, 0.5087288618087769, 0, 0, 0.23344717919826508, 0.2420022338628769, 0.22247524559497833, 0, 0, 0.14131341874599457, 0.2497725933790207, 0, 0, 0, 0, 0.10834482312202454, 0.09622931480407715, 0, 0.18894745409488678, 0, 0, 0, 0.251404345035553, 0, 0.2523443102836609, 0.07046906650066376, 0.18218457698822021, 0, 0.10664816200733185, 0, 0.06732254475355148, 0.16483941674232483, 0.11208252608776093, 0, 0, 0, 0.15209396183490753, 0, 0, 0, 0, 0, 0, 0.11110912263393402, 0.1450071632862091, 1.566835880279541, 3.358919382095337, 2.8909192085266113, 2.167733669281006, 3.61352276802063, 2.3361012935638428, 2.805298089981079, 2.2196199893951416, 2.7065398693084717, 2.1600916385650635, 2.8083198070526123, 1.9527077674865723, 2.2375805377960205, 3.0080130100250244, 1.8099008798599243, 2.2071049213409424, 2.472527503967285, 2.2440645694732666, 1.42608642578125, 1.5499136447906494, 1.7620066404342651, 1.6849271059036255], \"positiveColor\": \"green\"}\n",
       "    )\n",
       "    </script>"
      ],
      "text/plain": [
       "<circuitsvis.utils.render.RenderedHTML at 0x7f44b601f8e0>"
      ]
     },
     "metadata": {},
     "output_type": "display_data"
    },
    {
     "data": {
      "text/html": [
       "<div id=\"circuits-vis-743b2702-29da\" style=\"margin: 15px 0;\"/>\n",
       "    <script crossorigin type=\"module\">\n",
       "    import { render, ColoredTokens } from \"https://unpkg.com/circuitsvis@1.43.3/dist/cdn/esm.js\";\n",
       "    render(\n",
       "      \"circuits-vis-743b2702-29da\",\n",
       "      ColoredTokens,\n",
       "      {\"tokens\": [\"###\", \"instruction\", \":\", \"look\", \"up\", \"rating\", \",\", \"content\", \"_\", \"bl\", \"ob\", \",\", \"survey\", \"_\", \"id\", \",\", \"verified\", \"_\", \"at\", \",\", \"salary\", \",\", \"end\", \"_\", \"date\", \",\", \"altitude\", \"and\", \"pending\", \"items\", \"from\", \"lookup\", \"tips\", \"###\", \"context\", \":\", \"cre\", \"ate\", \"table\", \"search\", \"_\", \"suggest\", \"ions\", \"(\", \"salary\", \"fl\", \"o\", \"at\", \",\", \"score\", \"dec\", \"im\", \"al\", \"(\", \"5\", \",\", \"2\", \"),\", \"verified\", \"_\", \"at\", \"tim\", \"est\", \"amp\", \",\", \"altitude\", \"dec\", \"im\", \"al\", \"(\", \"9\", \",\", \"6\", \"),\", \"content\", \"_\", \"bl\", \"ob\", \"by\", \"te\", \"a\", \",\", \"survey\", \"_\", \"id\", \"int\", \"eg\", \"er\", \",\", \"end\", \"_\", \"date\", \"d\", \"at\", \"et\", \"ime\", \",\", \"un\", \"read\", \"_\", \"count\", \"int\", \"eg\", \"er\", \")\", \"###\", \"response\", \":\", \"select\", \"score\", \",\", \"content\", \"_\", \"bl\", \"ob\", \",\", \"survey\", \"_\", \"id\", \",\", \"verified\", \"_\", \"at\", \",\", \"salary\", \",\", \"end\", \"_\", \"date\", \",\", \"altitude\", \",\", \"un\", \"read\", \"_\", \"count\", \"from\", \"search\", \"_\", \"suggest\", \"ions\"], \"values\": [0, 0, 1.5961984395980835, 1.7322766780853271, 1.3701523542404175, 1.6025058031082153, 1.0458329916000366, 1.564010739326477, 1.638921856880188, 1.2444744110107422, 1.2702349424362183, 0.9004229307174683, 1.4449313879013062, 1.0816065073013306, 1.7958351373672485, 0.8267267346382141, 1.1967028379440308, 0.9262376427650452, 1.2149463891983032, 0.822407603263855, 1.0886472463607788, 0.47871261835098267, 0.8698512315750122, 0.5152720212936401, 0.8282713890075684, 0.482067346572876, 0.5152438282966614, 0.6298526525497437, 0.15860490500926971, 0.3443441390991211, 0.28046929836273193, 0, 0, 1.0300883054733276, 2.125568151473999, 1.5070749521255493, 2.10892653465271, 2.0260839462280273, 1.4813631772994995, 2.4988560676574707, 2.2272117137908936, 0.9076933264732361, 1.064482569694519, 1.1244455575942993, 0.5511430501937866, 0.8313302993774414, 0.5034054517745972, 0.4622379541397095, 0.717957615852356, 0.7279587984085083, 0.497677743434906, 0.5781286358833313, 0.4693484902381897, 0.34538888931274414, 0.5587420463562012, 0.4336673617362976, 0.6056728959083557, 0.26376253366470337, 0.47844958305358887, 0.44936203956604004, 0.41306233406066895, 0.6404472589492798, 0.24172328412532806, 0.18706192076206207, 0.6937516927719116, 0.5745763778686523, 0.337319016456604, 0.35084033012390137, 0.2966902256011963, 0.3152874708175659, 0.7409660816192627, 0.3707914352416992, 0, 0, 0.3022189140319824, 0.3986724019050598, 0.36577969789505005, 0.35864537954330444, 0.16817697882652283, 0.13875709474086761, 0.08909471333026886, 0, 0.2699604630470276, 0.336780309677124, 0.2123958170413971, 0.19746945798397064, 0, 0, 0, 0.1277400702238083, 0, 0.16008035838603973, 0.10926614701747894, 0, 0, 0, 0.29758286476135254, 0, 0, 0, 0, 0, 0, 0, 0.0936184972524643, 1.6706475019454956, 3.250784158706665, 2.986126184463501, 2.262744903564453, 2.7994754314422607, 2.0950725078582764, 2.5590431690216064, 2.9247052669525146, 2.432917356491089, 2.6360394954681396, 2.2645256519317627, 2.780102252960205, 2.278235912322998, 3.5937726497650146, 2.120849370956421, 2.506366729736328, 2.0163772106170654, 2.7220816612243652, 1.7872707843780518, 2.0726158618927, 1.6667362451553345, 2.0322487354278564, 1.2185724973678589, 1.9732064008712769, 1.0247200727462769, 1.4058722257614136, 1.9403272867202759, 1.1294989585876465, 1.33572256565094, 1.1617326736450195, 1.0477250814437866, 0.7337461113929749, 0.8118159770965576, 0.819190502166748], \"positiveColor\": \"green\"}\n",
       "    )\n",
       "    </script>"
      ],
      "text/plain": [
       "<circuitsvis.utils.render.RenderedHTML at 0x7f45b53b7fd0>"
      ]
     },
     "metadata": {},
     "output_type": "display_data"
    },
    {
     "data": {
      "text/html": [
       "<div id=\"circuits-vis-0d3c94ec-efb6\" style=\"margin: 15px 0;\"/>\n",
       "    <script crossorigin type=\"module\">\n",
       "    import { render, ColoredTokens } from \"https://unpkg.com/circuitsvis@1.43.3/dist/cdn/esm.js\";\n",
       "    render(\n",
       "      \"circuits-vis-0d3c94ec-efb6\",\n",
       "      ColoredTokens,\n",
       "      {\"tokens\": [\"###\", \"instruction\", \":\", \"would\", \"you\", \"mind\", \"getting\", \"setup\", \",\", \"is\", \"_\", \"admin\", \",\", \"target\", \"_\", \"id\", \",\", \"format\", \",\", \"campaign\", \",\", \"is\", \"_\", \"active\", \",\", \"clicks\", \",\", \"currency\", \"_\", \"code\", \",\", \"commencement\", \"time\", \",\", \"photo\", \"id\", \"and\", \"track\", \"list\", \"id\", \"from\", \"details\", \"?\", \"###\", \"context\", \":\", \"cre\", \"ate\", \"table\", \"data\", \"(\", \"campaign\", \"v\", \"arch\", \"ar\", \"(\", \"100\", \"),\", \"phone\", \"_\", \"number\", \"text\", \",\", \"is\", \"_\", \"admin\", \"t\", \"in\", \"y\", \"int\", \"(\", \"1\", \"),\", \"config\", \"json\", \",\", \"currency\", \"_\", \"code\", \"char\", \"(\", \"3\", \"),\", \"target\", \"_\", \"id\", \"int\", \"eg\", \"er\", \",\", \"playlist\", \"_\", \"id\", \"int\", \"eg\", \"er\", \",\", \"start\", \"_\", \"time\", \"time\", \",\", \"format\", \"v\", \"arch\", \"ar\", \"(\", \"50\", \"),\", \"is\", \"_\", \"active\", \"t\", \"in\", \"y\", \"int\", \"(\", \"1\", \"),\", \"image\", \"_\", \"id\", \"int\", \"eg\", \"er\", \",\", \"clicks\", \"big\", \"int\", \")\", \"###\", \"response\", \":\", \"select\", \"config\", \",\", \"is\", \"_\", \"admin\", \",\", \"target\", \"_\", \"id\", \",\", \"format\", \",\", \"campaign\", \",\", \"is\", \"_\", \"active\", \",\", \"clicks\", \",\", \"currency\", \"_\", \"code\", \",\", \"start\", \"_\", \"time\", \",\", \"image\", \"_\", \"id\", \",\", \"playlist\", \"_\", \"id\", \"from\", \"data\"], \"values\": [0, 0, 1.3193130493164062, 1.8419352769851685, 1.8072007894515991, 1.7004998922348022, 1.3192108869552612, 1.7484186887741089, 1.1804178953170776, 1.2839199304580688, 1.1908762454986572, 1.6303234100341797, 0.900488018989563, 1.375504970550537, 1.0169498920440674, 1.5118699073791504, 0.9824981689453125, 1.0102115869522095, 0.7024500966072083, 0.9627481698989868, 0.5412840247154236, 0.9825775623321533, 0.6437044739723206, 0.9395507574081421, 0.5691922903060913, 0.7078111171722412, 0.31911373138427734, 0.5112571716308594, 0.39349955320358276, 0.5189480781555176, 0.5343003869056702, 0.3124181628227234, 0.3211084008216858, 0.1829734593629837, 0.20236051082611084, 0.3154069185256958, 0, 0, 0, 0.30317234992980957, 0.22455818951129913, 0, 0, 1.21255624294281, 2.264718770980835, 1.6975502967834473, 2.2824289798736572, 2.5841715335845947, 1.1005148887634277, 1.291058897972107, 1.0526937246322632, 1.1984997987747192, 1.114267349243164, 1.2044757604599, 1.233633279800415, 0.9569216966629028, 0.6993612051010132, 0.6120994091033936, 1.108746886253357, 1.2122794389724731, 0.7615460753440857, 0.7208118438720703, 0.5498309135437012, 0.9795385599136353, 0.8813570141792297, 0.9115695953369141, 0.438834547996521, 1.1392349004745483, 0.9795830249786377, 0.970206618309021, 0.81121826171875, 0.7442077994346619, 0.9769871234893799, 0.6518961787223816, 0.8239292502403259, 0.39660489559173584, 0.7534384727478027, 0.6960514783859253, 0.8177069425582886, 0.5441749095916748, 0.6688855886459351, 0.5938912630081177, 0.2781713604927063, 0.6121839284896851, 0.5132527351379395, 0.5419424772262573, 0.5602353811264038, 0.3856005072593689, 0.6724016070365906, 0.16950291395187378, 0.5748875737190247, 0.496570885181427, 0.43763941526412964, 0.4639487862586975, 0.34473174810409546, 0.29830408096313477, 0.1745365411043167, 0.43482619524002075, 0.4311670660972595, 0.24857871234416962, 0.5357153415679932, 0.38911187648773193, 0.26218366622924805, 0.42911988496780396, 0.3358917832374573, 0.3406258225440979, 0.26894497871398926, 0.1678469330072403, 0.08418992906808853, 0.1523050218820572, 0.17607544362545013, 0.2854123115539551, 0, 0.1990789771080017, 0.1362113207578659, 0.16696220636367798, 0.16194050014019012, 0.1091923713684082, 0, 0.15575100481510162, 0.08749128133058548, 0, 0, 0, 0, 0, 0.09490309655666351, 0.08441758155822754, 0.13340774178504944, 0.12688489258289337, 1.7401126623153687, 3.4558746814727783, 3.418206214904785, 2.5043609142303467, 3.0317420959472656, 2.5232558250427246, 3.5919861793518066, 2.633068084716797, 3.3662338256835938, 2.6559505462646484, 3.0705273151397705, 2.5587666034698486, 3.5262205600738525, 2.476787805557251, 3.0602147579193115, 2.0965702533721924, 2.6547248363494873, 2.1881587505340576, 3.0523569583892822, 1.8655942678451538, 2.772970676422119, 1.6352856159210205, 2.3869545459747314, 1.548689842224121, 2.2296597957611084, 1.2786833047866821, 1.8376917839050293, 1.228267788887024, 1.5828545093536377, 0.9395331144332886, 1.78990638256073, 1.03760826587677, 1.4762321710586548, 0.7568531632423401, 1.6477553844451904, 0.6970748901367188, 1.1007033586502075, 0.792618989944458, 1.3528826236724854], \"positiveColor\": \"green\"}\n",
       "    )\n",
       "    </script>"
      ],
      "text/plain": [
       "<circuitsvis.utils.render.RenderedHTML at 0x7f45b53b4040>"
      ]
     },
     "metadata": {},
     "output_type": "display_data"
    },
    {
     "data": {
      "text/html": [
       "<div id=\"circuits-vis-07d1358b-22a4\" style=\"margin: 15px 0;\"/>\n",
       "    <script crossorigin type=\"module\">\n",
       "    import { render, ColoredTokens } from \"https://unpkg.com/circuitsvis@1.43.3/dist/cdn/esm.js\";\n",
       "    render(\n",
       "      \"circuits-vis-07d1358b-22a4\",\n",
       "      ColoredTokens,\n",
       "      {\"tokens\": [\"###\", \"instruction\", \":\", \"in\", \"the\", \"push\", \"_\", \"not\", \"ifications\", \"table\", \",\", \"display\", \"status\", \",\", \"certificate\", \",\", \"geo\", \"coordinates\", \",\", \"partial\", \"total\", \"and\", \"school\", \"###\", \"context\", \":\", \"cre\", \"ate\", \"table\", \"push\", \"_\", \"not\", \"ifications\", \"(\", \"school\", \"v\", \"arch\", \"ar\", \"(\", \"255\", \"),\", \"coordinates\", \"ge\", \"om\", \"et\", \"ry\", \",\", \"subt\", \"otal\", \"fl\", \"o\", \"at\", \",\", \"marital\", \"_\", \"status\", \"v\", \"arch\", \"ar\", \"(\", \"20\", \"),\", \"cost\", \"num\", \"er\", \"ic\", \"(\", \"10\", \",\", \"2\", \"),\", \"certification\", \"text\", \",\", \"width\", \"int\", \"eg\", \"er\", \",\", \"impressions\", \"int\", \"eg\", \"er\", \",\", \"altitude\", \"fl\", \"o\", \"at\", \",\", \"status\", \"v\", \"arch\", \"ar\", \"(\", \"20\", \"),\", \"video\", \"_\", \"id\", \"big\", \"int\", \")\", \"###\", \"response\", \":\", \"select\", \"status\", \",\", \"certification\", \",\", \"coordinates\", \",\", \"subt\", \"otal\", \",\", \"school\", \"from\", \"push\", \"_\", \"not\", \"ifications\"], \"values\": [0, 0, 1.4407647848129272, 1.7600761651992798, 1.3388677835464478, 1.7081655263900757, 1.398807168006897, 1.7742520570755005, 1.5664571523666382, 1.8825651407241821, 1.7347770929336548, 1.4227770566940308, 1.7625099420547485, 1.19683039188385, 0.9673383235931396, 1.2780576944351196, 1.0056980848312378, 1.3944852352142334, 1.0463074445724487, 0.8876684308052063, 0.8771508932113647, 0.3596504330635071, 0.31441348791122437, 1.0836946964263916, 1.9012150764465332, 1.4936219453811646, 2.1488969326019287, 1.9496541023254395, 1.4870250225067139, 1.6988170146942139, 2.1792309284210205, 0.6796468496322632, 0.594510018825531, 0.7454533576965332, 0.8559600114822388, 0.8565893769264221, 0.7943172454833984, 0.7539138197898865, 0.6057513952255249, 0.41595518589019775, 0.7765429019927979, 0.5448694825172424, 0.7137823104858398, 0.6836130619049072, 0.3258299231529236, 0.3681730628013611, 0.5649297833442688, 0.6780335903167725, 0.17479901015758514, 0.5493422150611877, 0.245226189494133, 0.5520732402801514, 0.3920116424560547, 0.3509001135826111, 0.14381475746631622, 0.2538115382194519, 0.3703497648239136, 0.26082831621170044, 0.24503754079341888, 0.13723205029964447, 0, 0.3678829073905945, 0.24786393344402313, 0, 0, 0, 0, 0.14803941547870636, 0, 0.1330956667661667, 0.16494344174861908, 0, 0, 0, 0, 0, 0, 0, 0, 0, 0, 0, 0, 0, 0, 0, 0, 0, 0, 0, 0, 0, 0, 0, 0, 0, 0, 0, 0, 0, 0, 0, 1.4585764408111572, 3.3114402294158936, 2.7331702709198, 2.1211678981781006, 3.323676109313965, 2.2257113456726074, 3.3544390201568604, 2.196932315826416, 2.5167489051818848, 3.53898024559021, 2.1925361156463623, 2.839299440383911, 2.8747448921203613, 2.5658037662506104, 1.9180543422698975, 1.8003195524215698, 2.7346887588500977], \"positiveColor\": \"green\"}\n",
       "    )\n",
       "    </script>"
      ],
      "text/plain": [
       "<circuitsvis.utils.render.RenderedHTML at 0x7f45b53b7790>"
      ]
     },
     "metadata": {},
     "output_type": "display_data"
    }
   ],
   "source": [
    "for visualization in visualizations:\n",
    "    display(visualization)"
   ]
  },
  {
   "cell_type": "markdown",
   "id": "d160bc6f-4c99-4370-a5ca-228a038f8398",
   "metadata": {},
   "source": [
    "### Monitor reconstruction Errors."
   ]
  },
  {
   "cell_type": "code",
   "execution_count": 66,
   "id": "10f34e36-f869-47e4-90c5-c133ce4259d3",
   "metadata": {},
   "outputs": [
    {
     "name": "stderr",
     "output_type": "stream",
     "text": [
      "100%|████████████████████████████████████████████████████████████████████████████████████████████| 200/200 [01:55<00:00,  1.72it/s]\n",
      "  5%|████▋                                                                                        | 10/200 [00:05<01:49,  1.73it/s]\n"
     ]
    },
    {
     "ename": "KeyboardInterrupt",
     "evalue": "",
     "output_type": "error",
     "traceback": [
      "\u001b[0;31m---------------------------------------------------------------------------\u001b[0m",
      "\u001b[0;31mKeyboardInterrupt\u001b[0m                         Traceback (most recent call last)",
      "Cell \u001b[0;32mIn[66], line 1\u001b[0m\n\u001b[0;32m----> 1\u001b[0m reconstruction_error_by_k_and_layer \u001b[38;5;241m=\u001b[39m \u001b[43msae_collector\u001b[49m\u001b[38;5;241;43m.\u001b[39;49m\u001b[43mget_avg_reconstruction_error_for_all_k_and_layers\u001b[49m\u001b[43m(\u001b[49m\u001b[43m)\u001b[49m\n",
      "File \u001b[0;32m~/venvs/sql_interp/lib/python3.10/site-packages/sae/sae_interp.py:550\u001b[0m, in \u001b[0;36mSaeCollector.get_avg_reconstruction_error_for_all_k_and_layers\u001b[0;34m(self)\u001b[0m\n\u001b[1;32m    549\u001b[0m \u001b[38;5;28;01mdef\u001b[39;00m \u001b[38;5;21mget_avg_reconstruction_error_for_all_k_and_layers\u001b[39m(\u001b[38;5;28mself\u001b[39m):\n\u001b[0;32m--> 550\u001b[0m     all_reconstruction_errors \u001b[38;5;241m=\u001b[39m {layer: \u001b[38;5;28mself\u001b[39m\u001b[38;5;241m.\u001b[39mget_avg_reconstruction_error_for_all_k(layer) \u001b[38;5;28;01mfor\u001b[39;00m layer \u001b[38;5;129;01min\u001b[39;00m \u001b[38;5;28mself\u001b[39m\u001b[38;5;241m.\u001b[39mlayers}\n\u001b[1;32m    551\u001b[0m     \u001b[38;5;28;01mreturn\u001b[39;00m all_reconstruction_errors\n",
      "File \u001b[0;32m~/venvs/sql_interp/lib/python3.10/site-packages/sae/sae_interp.py:550\u001b[0m, in \u001b[0;36m<dictcomp>\u001b[0;34m(.0)\u001b[0m\n\u001b[1;32m    549\u001b[0m \u001b[38;5;28;01mdef\u001b[39;00m \u001b[38;5;21mget_avg_reconstruction_error_for_all_k_and_layers\u001b[39m(\u001b[38;5;28mself\u001b[39m):\n\u001b[0;32m--> 550\u001b[0m     all_reconstruction_errors \u001b[38;5;241m=\u001b[39m {layer: \u001b[38;5;28;43mself\u001b[39;49m\u001b[38;5;241;43m.\u001b[39;49m\u001b[43mget_avg_reconstruction_error_for_all_k\u001b[49m\u001b[43m(\u001b[49m\u001b[43mlayer\u001b[49m\u001b[43m)\u001b[49m \u001b[38;5;28;01mfor\u001b[39;00m layer \u001b[38;5;129;01min\u001b[39;00m \u001b[38;5;28mself\u001b[39m\u001b[38;5;241m.\u001b[39mlayers}\n\u001b[1;32m    551\u001b[0m     \u001b[38;5;28;01mreturn\u001b[39;00m all_reconstruction_errors\n",
      "File \u001b[0;32m~/venvs/sql_interp/lib/python3.10/site-packages/sae/sae_interp.py:564\u001b[0m, in \u001b[0;36mSaeCollector.get_avg_reconstruction_error_for_all_k\u001b[0;34m(self, layer, min_range, max_range)\u001b[0m\n\u001b[1;32m    561\u001b[0m result \u001b[38;5;241m=\u001b[39m \u001b[38;5;28msorted\u001b[39m(\u001b[38;5;28mlist\u001b[39m(\u001b[38;5;28mset\u001b[39m(part1 \u001b[38;5;241m+\u001b[39m part2)))\n\u001b[1;32m    563\u001b[0m \u001b[38;5;28;01mfor\u001b[39;00m k \u001b[38;5;129;01min\u001b[39;00m result:\n\u001b[0;32m--> 564\u001b[0m     recon_error \u001b[38;5;241m=\u001b[39m \u001b[43mencoding\u001b[49m\u001b[38;5;241;43m.\u001b[39;49m\u001b[43msae_outputs_by_layer\u001b[49m\u001b[43m[\u001b[49m\u001b[43mlayer\u001b[49m\u001b[43m]\u001b[49m\u001b[38;5;241;43m.\u001b[39;49m\u001b[43mreconstruction_error\u001b[49m\u001b[43m(\u001b[49m\u001b[43mk\u001b[49m\u001b[43m)\u001b[49m\n\u001b[1;32m    565\u001b[0m     curr_reconstruction_error_list \u001b[38;5;241m=\u001b[39m all_reconstruction_errors\u001b[38;5;241m.\u001b[39mget(k, [])\n\u001b[1;32m    566\u001b[0m     curr_reconstruction_error_list\u001b[38;5;241m.\u001b[39mappend(recon_error)\n",
      "File \u001b[0;32m~/venvs/sql_interp/lib/python3.10/site-packages/sae/sae_interp.py:191\u001b[0m, in \u001b[0;36mSaeOutput.reconstruction_error\u001b[0;34m(self, k)\u001b[0m\n\u001b[1;32m    190\u001b[0m \u001b[38;5;28;01mdef\u001b[39;00m \u001b[38;5;21mreconstruction_error\u001b[39m(\u001b[38;5;28mself\u001b[39m, k\u001b[38;5;241m=\u001b[39m\u001b[38;5;241m32\u001b[39m):\n\u001b[0;32m--> 191\u001b[0m     decoded_activations \u001b[38;5;241m=\u001b[39m \u001b[38;5;28;43mself\u001b[39;49m\u001b[38;5;241;43m.\u001b[39;49m\u001b[43mdecode_to_activations\u001b[49m\u001b[43m(\u001b[49m\u001b[43mk\u001b[49m\u001b[43m)\u001b[49m\n\u001b[1;32m    192\u001b[0m     raw_acts \u001b[38;5;241m=\u001b[39m torch\u001b[38;5;241m.\u001b[39mtensor(\u001b[38;5;28mself\u001b[39m\u001b[38;5;241m.\u001b[39mraw_acts)\u001b[38;5;241m.\u001b[39mcuda()\u001b[38;5;241m.\u001b[39mhalf()\n\u001b[1;32m    194\u001b[0m     difference \u001b[38;5;241m=\u001b[39m decoded_activations \u001b[38;5;241m-\u001b[39m raw_acts\n",
      "File \u001b[0;32m~/venvs/sql_interp/lib/python3.10/site-packages/sae/sae_interp.py:203\u001b[0m, in \u001b[0;36mSaeOutput.decode_to_activations\u001b[0;34m(self, k)\u001b[0m\n\u001b[1;32m    199\u001b[0m \u001b[38;5;28;01mdef\u001b[39;00m \u001b[38;5;21mdecode_to_activations\u001b[39m(\u001b[38;5;28mself\u001b[39m, k\u001b[38;5;241m=\u001b[39m\u001b[38;5;241m32\u001b[39m):\n\u001b[1;32m    200\u001b[0m     filtered_acts, top_k_indices \u001b[38;5;241m=\u001b[39m \u001b[38;5;28mself\u001b[39m\u001b[38;5;241m.\u001b[39mzero_out_except_top_n_for_multiple(\u001b[38;5;28mself\u001b[39m\u001b[38;5;241m.\u001b[39mtop_acts\u001b[38;5;241m.\u001b[39mcopy(),\n\u001b[1;32m    201\u001b[0m                                                                            \u001b[38;5;28mself\u001b[39m\u001b[38;5;241m.\u001b[39mtop_indices\u001b[38;5;241m.\u001b[39mcopy(), n\u001b[38;5;241m=\u001b[39mk)\n\u001b[1;32m    202\u001b[0m     \u001b[38;5;28;01mreturn\u001b[39;00m \u001b[38;5;28mself\u001b[39m\u001b[38;5;241m.\u001b[39msae\u001b[38;5;241m.\u001b[39mdecode(top_acts\u001b[38;5;241m=\u001b[39mtorch\u001b[38;5;241m.\u001b[39mtensor(filtered_acts)\u001b[38;5;241m.\u001b[39mcuda()\u001b[38;5;241m.\u001b[39mhalf(),\n\u001b[0;32m--> 203\u001b[0m                            top_indices\u001b[38;5;241m=\u001b[39m\u001b[43mtorch\u001b[49m\u001b[38;5;241;43m.\u001b[39;49m\u001b[43mtensor\u001b[49m\u001b[43m(\u001b[49m\u001b[43mtop_k_indices\u001b[49m\u001b[43m)\u001b[49m\u001b[38;5;241;43m.\u001b[39;49m\u001b[43mcuda\u001b[49m\u001b[43m(\u001b[49m\u001b[43m)\u001b[49m\u001b[38;5;241m.\u001b[39mtype(torch\u001b[38;5;241m.\u001b[39mint64))\n",
      "\u001b[0;31mKeyboardInterrupt\u001b[0m: "
     ]
    }
   ],
   "source": [
    "reconstruction_error_by_k_and_layer = sae_collector.get_avg_reconstruction_error_for_all_k_and_layers()"
   ]
  },
  {
   "cell_type": "code",
   "execution_count": null,
   "id": "0a9c8c48-9e04-4696-923f-0a5184a2c159",
   "metadata": {},
   "outputs": [],
   "source": [
    "# reconstruction_error_by_k_and_layer"
   ]
  },
  {
   "cell_type": "code",
   "execution_count": null,
   "id": "63a1d6ef-3e6b-4da0-8386-7c9ba7064232",
   "metadata": {},
   "outputs": [],
   "source": [
    "plot_layer_curves(reconstruction_error_by_k_and_layer)"
   ]
  },
  {
   "cell_type": "markdown",
   "id": "1e61ec9b-f399-4937-819a-340fc296bb99",
   "metadata": {},
   "source": [
    "### Setup probe."
   ]
  },
  {
   "cell_type": "code",
   "execution_count": null,
   "id": "fa14836a-047d-430a-b394-e3dbffd6e4b6",
   "metadata": {},
   "outputs": [],
   "source": [
    "# element.averaged_representation()"
   ]
  },
  {
   "cell_type": "markdown",
   "id": "c4ab33a6-d645-4d78-a04d-ca22bffd53f7",
   "metadata": {},
   "source": [
    "### Monitor Ablation Errors."
   ]
  },
  {
   "cell_type": "code",
   "execution_count": null,
   "id": "a0e3f5ec-5696-461c-b1f8-376a7c3961ba",
   "metadata": {},
   "outputs": [],
   "source": []
  }
 ],
 "metadata": {
  "kernelspec": {
   "display_name": "Python 3 (ipykernel)",
   "language": "python",
   "name": "python3"
  },
  "language_info": {
   "codemirror_mode": {
    "name": "ipython",
    "version": 3
   },
   "file_extension": ".py",
   "mimetype": "text/x-python",
   "name": "python",
   "nbconvert_exporter": "python",
   "pygments_lexer": "ipython3",
   "version": "3.10.14"
  }
 },
 "nbformat": 4,
 "nbformat_minor": 5
}
