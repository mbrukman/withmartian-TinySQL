{
  "nbformat": 4,
  "nbformat_minor": 0,
  "metadata": {
    "colab": {
      "provenance": []
    },
    "kernelspec": {
      "name": "python3",
      "display_name": "Python 3"
    },
    "language_info": {
      "name": "python"
    }
  },
  "cells": [
    {
      "cell_type": "markdown",
      "source": [
        "# Generate training data for SQL command sets"
      ],
      "metadata": {
        "id": "yQAsYjSQVXHC"
      }
    },
    {
      "cell_type": "code",
      "source": [
        "import os\n",
        "from google.colab import userdata"
      ],
      "metadata": {
        "id": "oxG8G3VaM6GD"
      },
      "execution_count": 4,
      "outputs": []
    },
    {
      "cell_type": "code",
      "source": [
        "github_token = userdata.get(\"GITHUB_TOKEN\")\n",
        "\n",
        "# Install the private repository using the token\n",
        "!pip install --upgrade git+https://{github_token}@github.com/withmartian/quanta_text_to_sql.git\n",
        "\n",
        "import QuantaTextToSql as qts"
      ],
      "metadata": {
        "colab": {
          "base_uri": "https://localhost:8080/"
        },
        "id": "iuENeKtThx8r",
        "outputId": "5b657825-566e-48d0-fead-440e88e4f488"
      },
      "execution_count": 5,
      "outputs": [
        {
          "output_type": "stream",
          "name": "stdout",
          "text": [
            "Collecting git+https://****@github.com/withmartian/quanta_text_to_sql.git\n",
            "  Cloning https://****@github.com/withmartian/quanta_text_to_sql.git to /tmp/pip-req-build-s1axbrp1\n",
            "  Running command git clone --filter=blob:none --quiet 'https://****@github.com/withmartian/quanta_text_to_sql.git' /tmp/pip-req-build-s1axbrp1\n",
            "  Resolved https://****@github.com/withmartian/quanta_text_to_sql.git to commit 8b9825f9d57e9f05a9ead9cad649a8a5deba9d47\n",
            "  Installing build dependencies ... \u001b[?25l\u001b[?25hdone\n",
            "  Getting requirements to build wheel ... \u001b[?25l\u001b[?25hdone\n",
            "  Preparing metadata (pyproject.toml) ... \u001b[?25l\u001b[?25hdone\n",
            "Requirement already satisfied: numpy>=1.18.1 in /usr/local/lib/python3.10/dist-packages (from QuantaTextToSql==1.0) (1.26.4)\n",
            "Requirement already satisfied: wheel in /usr/local/lib/python3.10/dist-packages (from QuantaTextToSql==1.0) (0.45.0)\n",
            "Building wheels for collected packages: QuantaTextToSql\n",
            "  Building wheel for QuantaTextToSql (pyproject.toml) ... \u001b[?25l\u001b[?25hdone\n",
            "  Created wheel for QuantaTextToSql: filename=QuantaTextToSql-1.0-py3-none-any.whl size=38482 sha256=a305964ffd06df74ae9de3f3dc303c03c7051868549af654ea515cbdf6e0e9ed\n",
            "  Stored in directory: /tmp/pip-ephem-wheel-cache-7en30lb5/wheels/ec/2e/0b/f2473c76d3035232d5580b15e3979fcc34fe1494a4d6ac8cc9\n",
            "Successfully built QuantaTextToSql\n",
            "Installing collected packages: QuantaTextToSql\n",
            "Successfully installed QuantaTextToSql-1.0\n"
          ]
        }
      ]
    },
    {
      "cell_type": "markdown",
      "source": [
        "## Command set 1\n",
        "Generate a JSON file containing 50K sets of:\n",
        "- command_set: always 1\n",
        "- table_name\n",
        "- table_fields: Fields in the table with data types.\n",
        "- create_statement: SQL statement to create table. Gives context\n",
        "- select: Fields in the SELECT statement, with aggregates (if any)\n",
        "- order_by: Fields in the ORDER BY statement, with ASC / DESC\n",
        "- english_prompt: English \"prompt requesting information\n",
        "- sql_statement: SQL statement \"answer\"\n",
        "\n",
        "For training, key fields are create_statement (context), english_prompt (prompt) and sql_statement (ground truth).\n",
        "\n",
        "\n"
      ],
      "metadata": {
        "id": "vPudsDIQWHjZ"
      }
    },
    {
      "cell_type": "code",
      "source": [
        "ts1 = qts.generate_cs1(50)"
      ],
      "metadata": {
        "id": "KRILSsCGVWnE"
      },
      "execution_count": 6,
      "outputs": []
    },
    {
      "cell_type": "code",
      "source": [
        "print(ts1[0].get_alpaca_prompt())"
      ],
      "metadata": {
        "id": "x1-yessrV-RQ",
        "colab": {
          "base_uri": "https://localhost:8080/"
        },
        "outputId": "67b9c204-0245-4a78-b4ee-7280b78f2e61"
      },
      "execution_count": 8,
      "outputs": [
        {
          "output_type": "stream",
          "name": "stdout",
          "text": [
            "### Instruction:\n",
            "Return thumbnail, unit_price, reference_id, uuid, university and votes from cost\n",
            "### Context:\n",
            "CREATE TABLE cost (\n",
            "    reference_id VARCHAR(50),\n",
            "    min_score SMALLINT,\n",
            "    uuid UUID,\n",
            "    is_published TINYINT(1),\n",
            "    thumbnail VARCHAR(255),\n",
            "    votes INTEGER,\n",
            "    university TEXT,\n",
            "    name VARCHAR(100),\n",
            "    display_name VARCHAR(100),\n",
            "    unit_price NUMERIC(10,2)\n",
            ")\n",
            "### Response:\n",
            "\n"
          ]
        }
      ]
    },
    {
      "cell_type": "markdown",
      "source": [
        "## Command set 2"
      ],
      "metadata": {
        "id": "TI-XzIRVmEey"
      }
    },
    {
      "cell_type": "code",
      "source": [
        "ts2 = qts.generate_cs2(50)"
      ],
      "metadata": {
        "id": "G7a1B411mAXq"
      },
      "execution_count": 9,
      "outputs": []
    },
    {
      "cell_type": "code",
      "source": [
        "print(ts2[0].get_alpaca_prompt())"
      ],
      "metadata": {
        "id": "3LE15UCSmByZ",
        "colab": {
          "base_uri": "https://localhost:8080/"
        },
        "outputId": "72359ad4-5acf-434a-8b92-40791e4b765e"
      },
      "execution_count": 10,
      "outputs": [
        {
          "output_type": "stream",
          "name": "stdout",
          "text": [
            "### Instruction:\n",
            "Give me content_blob from labels  time ordered by is_default, ORDER BY content_blob\n",
            "### Context:\n",
            "CREATE TABLE labels (\n",
            "    is_default TINYINT(1),\n",
            "    content_blob BYTEA\n",
            ")\n",
            "### Response:\n",
            "\n"
          ]
        }
      ]
    },
    {
      "cell_type": "markdown",
      "source": [
        "## Command set 3"
      ],
      "metadata": {
        "id": "yVodSD_gnyQq"
      }
    },
    {
      "cell_type": "code",
      "source": [
        "ts3 = qts.generate_cs3(50)"
      ],
      "metadata": {
        "id": "mxCxoZ7YnzR1"
      },
      "execution_count": 11,
      "outputs": []
    },
    {
      "cell_type": "code",
      "source": [
        "print(ts3[0].get_alpaca_prompt())"
      ],
      "metadata": {
        "id": "4zk-PSj3n2eo",
        "colab": {
          "base_uri": "https://localhost:8080/"
        },
        "outputId": "f09c7b35-9297-4a8e-a4fa-43f8ad3a0bb0"
      },
      "execution_count": 12,
      "outputs": [
        {
          "output_type": "stream",
          "name": "stdout",
          "text": [
            "### Instruction:\n",
            "Get a readout of times date_fired and lowest model from votes  a to z by date_fired, showing first the lowest api_key\n",
            "### Context:\n",
            "CREATE TABLE votes (\n",
            "    date_fired DATE,\n",
            "    selected BOOLEAN,\n",
            "    reset_at DATETIME,\n",
            "    email VARCHAR(100),\n",
            "    model TEXT,\n",
            "    access_token VARCHAR(255),\n",
            "    rank SMALLINT,\n",
            "    api_key TEXT,\n",
            "    member_count INTEGER,\n",
            "    last_message TEXT,\n",
            "    progress DECIMAL(5,2)\n",
            ")\n",
            "### Response:\n",
            "\n"
          ]
        }
      ]
    }
  ]
}