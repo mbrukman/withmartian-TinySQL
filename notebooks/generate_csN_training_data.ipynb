{
  "nbformat": 4,
  "nbformat_minor": 0,
  "metadata": {
    "colab": {
      "provenance": []
    },
    "kernelspec": {
      "name": "python3",
      "display_name": "Python 3"
    },
    "language_info": {
      "name": "python"
    }
  },
  "cells": [
    {
      "cell_type": "markdown",
      "source": [
        "# Generate training data for SQL command sets"
      ],
      "metadata": {
        "id": "yQAsYjSQVXHC"
      }
    },
    {
      "cell_type": "code",
      "source": [
        "# Enter you PAT token obtained from GitHub. Consider storing it in your Password Manager\n",
        "import os\n",
        "from getpass import getpass\n",
        "\n",
        "token = getpass('Enter your GitHub token: ')\n",
        "os.environ['GITHUB_TOKEN'] = token"
      ],
      "metadata": {
        "colab": {
          "base_uri": "https://localhost:8080/"
        },
        "id": "iuENeKtThx8r",
        "outputId": "d2716c00-ea7f-4403-ee13-61debd984300"
      },
      "execution_count": 4,
      "outputs": [
        {
          "name": "stdout",
          "output_type": "stream",
          "text": [
            "Enter your GitHub token: ··········\n"
          ]
        }
      ]
    },
    {
      "cell_type": "code",
      "execution_count": 5,
      "metadata": {
        "colab": {
          "base_uri": "https://localhost:8080/",
          "height": 670
        },
        "id": "3ncp6pCEVSky",
        "outputId": "f0c237d4-1664-4dd2-e2e7-74256f5839c8"
      },
      "outputs": [
        {
          "output_type": "stream",
          "name": "stdout",
          "text": [
            "Collecting git+https://github.com/withmartian/quanta_text_to_sql.git\n",
            "  Cloning https://github.com/withmartian/quanta_text_to_sql.git to /tmp/pip-req-build-zecr28fo\n",
            "  Running command git clone --filter=blob:none --quiet https://github.com/withmartian/quanta_text_to_sql.git /tmp/pip-req-build-zecr28fo\n",
            "  fatal: could not read Username for 'https://github.com': No such device or address\n",
            "  \u001b[1;31merror\u001b[0m: \u001b[1msubprocess-exited-with-error\u001b[0m\n",
            "  \n",
            "  \u001b[31m×\u001b[0m \u001b[32mgit clone --\u001b[0m\u001b[32mfilter\u001b[0m\u001b[32m=\u001b[0m\u001b[32mblob\u001b[0m\u001b[32m:none --quiet \u001b[0m\u001b[4;32mhttps://github.com/withmartian/quanta_text_to_sql.git\u001b[0m\u001b[32m \u001b[0m\u001b[32m/tmp/\u001b[0m\u001b[32mpip-req-build-zecr28fo\u001b[0m did not run successfully.\n",
            "  \u001b[31m│\u001b[0m exit code: \u001b[1;36m128\u001b[0m\n",
            "  \u001b[31m╰─>\u001b[0m See above for output.\n",
            "  \n",
            "  \u001b[1;35mnote\u001b[0m: This error originates from a subprocess, and is likely not a problem with pip.\n",
            "\u001b[1;31merror\u001b[0m: \u001b[1msubprocess-exited-with-error\u001b[0m\n",
            "\n",
            "\u001b[31m×\u001b[0m \u001b[32mgit clone --\u001b[0m\u001b[32mfilter\u001b[0m\u001b[32m=\u001b[0m\u001b[32mblob\u001b[0m\u001b[32m:none --quiet \u001b[0m\u001b[4;32mhttps://github.com/withmartian/quanta_text_to_sql.git\u001b[0m\u001b[32m \u001b[0m\u001b[32m/tmp/\u001b[0m\u001b[32mpip-req-build-zecr28fo\u001b[0m did not run successfully.\n",
            "\u001b[31m│\u001b[0m exit code: \u001b[1;36m128\u001b[0m\n",
            "\u001b[31m╰─>\u001b[0m See above for output.\n",
            "\n",
            "\u001b[1;35mnote\u001b[0m: This error originates from a subprocess, and is likely not a problem with pip.\n"
          ]
        },
        {
          "output_type": "error",
          "ename": "ModuleNotFoundError",
          "evalue": "No module named 'quanta_text_to_sql'",
          "traceback": [
            "\u001b[0;31m---------------------------------------------------------------------------\u001b[0m",
            "\u001b[0;31mModuleNotFoundError\u001b[0m                       Traceback (most recent call last)",
            "\u001b[0;32m<ipython-input-5-cb8517440087>\u001b[0m in \u001b[0;36m<cell line: 2>\u001b[0;34m()\u001b[0m\n\u001b[1;32m      1\u001b[0m \u001b[0mget_ipython\u001b[0m\u001b[0;34m(\u001b[0m\u001b[0;34m)\u001b[0m\u001b[0;34m.\u001b[0m\u001b[0msystem\u001b[0m\u001b[0;34m(\u001b[0m\u001b[0;34m'pip install --upgrade git+https://github.com/withmartian/quanta_text_to_sql.git'\u001b[0m\u001b[0;34m)\u001b[0m\u001b[0;34m\u001b[0m\u001b[0;34m\u001b[0m\u001b[0m\n\u001b[0;32m----> 2\u001b[0;31m \u001b[0;32mfrom\u001b[0m \u001b[0mquanta_text_to_sql\u001b[0m \u001b[0;32mimport\u001b[0m \u001b[0mtraining_data\u001b[0m \u001b[0;32mas\u001b[0m \u001b[0mqtd\u001b[0m\u001b[0;34m\u001b[0m\u001b[0;34m\u001b[0m\u001b[0m\n\u001b[0m",
            "\u001b[0;31mModuleNotFoundError\u001b[0m: No module named 'quanta_text_to_sql'",
            "",
            "\u001b[0;31m---------------------------------------------------------------------------\u001b[0;32m\nNOTE: If your import is failing due to a missing package, you can\nmanually install dependencies using either !pip or !apt.\n\nTo view examples of installing some common dependencies, click the\n\"Open Examples\" button below.\n\u001b[0;31m---------------------------------------------------------------------------\u001b[0m\n"
          ],
          "errorDetails": {
            "actions": [
              {
                "action": "open_url",
                "actionText": "Open Examples",
                "url": "/notebooks/snippets/importing_libraries.ipynb"
              }
            ]
          }
        }
      ],
      "source": [
        "!pip install --upgrade git+https://github.com/withmartian/quanta_text_to_sql.git\n",
        "from quanta_text_to_sql import training_data as qtd"
      ]
    },
    {
      "cell_type": "markdown",
      "source": [
        "## Command set 1\n",
        "Generate a JSON file containing 50K sets of:\n",
        "- command_set: always 1\n",
        "- table_name\n",
        "- table_fields: Fields in the table with data types.\n",
        "- create_statement: SQL statement to create table. Gives context\n",
        "- select: Fields in the SELECT statement, with aggregates (if any)\n",
        "- order_by: Fields in the ORDER BY statement, with ASC / DESC\n",
        "- english_prompt: English \"prompt requesting information\n",
        "- sql_statement: SQL statement \"answer\"\n",
        "\n",
        "For training, key fields are create_statement (context), english_prompt (prompt) and sql_statement (ground truth).\n",
        "\n",
        "\n"
      ],
      "metadata": {
        "id": "vPudsDIQWHjZ"
      }
    },
    {
      "cell_type": "code",
      "source": [
        "ts1 = qtd.generate_cs1(50000)"
      ],
      "metadata": {
        "id": "KRILSsCGVWnE"
      },
      "execution_count": null,
      "outputs": []
    },
    {
      "cell_type": "code",
      "source": [
        "# Save the ts1 json to a temporary Colab file\n",
        "ts1.to_json('ts1.json')"
      ],
      "metadata": {
        "id": "x1-yessrV-RQ"
      },
      "execution_count": null,
      "outputs": []
    },
    {
      "cell_type": "markdown",
      "source": [
        "## Command set 2"
      ],
      "metadata": {
        "id": "TI-XzIRVmEey"
      }
    },
    {
      "cell_type": "code",
      "source": [
        "ts2 = qtd.generate_cs2(50000)"
      ],
      "metadata": {
        "id": "G7a1B411mAXq"
      },
      "execution_count": null,
      "outputs": []
    },
    {
      "cell_type": "code",
      "source": [
        "ts2.to_json('ts2.json')"
      ],
      "metadata": {
        "id": "3LE15UCSmByZ"
      },
      "execution_count": null,
      "outputs": []
    },
    {
      "cell_type": "markdown",
      "source": [
        "## Command set 3"
      ],
      "metadata": {
        "id": "yVodSD_gnyQq"
      }
    },
    {
      "cell_type": "code",
      "source": [
        "ts3 = qtd.generate_cs3(50000)"
      ],
      "metadata": {
        "id": "mxCxoZ7YnzR1"
      },
      "execution_count": null,
      "outputs": []
    },
    {
      "cell_type": "code",
      "source": [
        "ts3.to_json('ts3.json')"
      ],
      "metadata": {
        "id": "4zk-PSj3n2eo"
      },
      "execution_count": null,
      "outputs": []
    }
  ]
}