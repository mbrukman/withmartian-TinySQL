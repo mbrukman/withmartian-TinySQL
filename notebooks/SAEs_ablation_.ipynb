{
 "cells": [
  {
   "cell_type": "code",
   "execution_count": null,
   "id": "d037bdc4-1e50-4aca-afdc-989652611fef",
   "metadata": {
    "scrolled": true
   },
   "outputs": [
    {
     "name": "stdout",
     "output_type": "stream",
     "text": [
      "Cloning into 'sae'...\n",
      "remote: Enumerating objects: 881, done.\u001b[K\n",
      "remote: Counting objects: 100% (411/411), done.\u001b[K\n",
      "remote: Compressing objects: 100% (106/106), done.\u001b[K\n",
      "remote: Total 881 (delta 366), reused 305 (delta 305), pack-reused 470 (from 2)\u001b[K\n",
      "Receiving objects: 100% (881/881), 173.38 KiB | 5.10 MiB/s, done.\n",
      "Resolving deltas: 100% (618/618), done.\n",
      "Processing /workspace/sae\n",
      "  Installing build dependencies ... \u001b[?done\n",
      "doneGetting requirements to build wheel ... \u001b[?25l\n",
      "donePreparing metadata (pyproject.toml) ... \u001b[?25l\n",
      "\u001b[?25hRequirement already satisfied: huggingface-hub in /venv/main/lib/python3.10/site-packages (from sae==0.1.6) (0.28.1)\n",
      "Collecting safetensors\n",
      "  Downloading safetensors-0.5.3-cp38-abi3-manylinux_2_17_x86_64.manylinux2014_x86_64.whl (471 kB)\n",
      "\u001b[2K     \u001b[90m━━━━━━━━━━━━━━━━━━━━━━━━━━━━━━━━━━━━━━\u001b[0m \u001b[32m471.6/471.6 KB\u001b[0m \u001b[31m10.4 MB/s\u001b[0m eta \u001b[36m0:00:00\u001b[0ma \u001b[36m0:00:01\u001b[0m\n",
      "Collecting torch\n",
      "  Downloading torch-2.6.0-cp310-cp310-manylinux1_x86_64.whl (766.7 MB)\n",
      "\u001b[2K     \u001b[90m━━━━━━━━━━━━━━━━━━━━━━━━━━━━━━━━━━━━━━━\u001b[0m \u001b[32m766.7/766.7 MB\u001b[0m \u001b[31m3.2 MB/s\u001b[0m eta \u001b[36m0:00:00\u001b[0m00:01\u001b[0m00:01\u001b[0m\n",
      "Collecting accelerate\n",
      "  Downloading accelerate-1.5.2-py3-none-any.whl (345 kB)\n",
      "\u001b[2K     \u001b[90m━━━━━━━━━━━━━━━━━━━━━━━━━━━━━━━━━━━━━━\u001b[0m \u001b[32m345.1/345.1 KB\u001b[0m \u001b[31m73.5 MB/s\u001b[0m eta \u001b[36m0:00:00\u001b[0m\n",
      "Collecting simple-parsing\n",
      "  Downloading simple_parsing-0.1.7-py3-none-any.whl (112 kB)\n",
      "\u001b[2K     \u001b[90m━━━━━━━━━━━━━━━━━━━━━━━━━━━━━━━━━━━━━━\u001b[0m \u001b[32m112.8/112.8 KB\u001b[0m \u001b[31m38.7 MB/s\u001b[0m eta \u001b[36m0:00:00\u001b[0m\n",
      "Collecting transformers\n",
      "  Downloading transformers-4.50.3-py3-none-any.whl (10.2 MB)\n",
      "\u001b[2K     \u001b[90m━━━━━━━━━━━━━━━━━━━━━━━━━━━━━━━━━━━━━━━\u001b[0m \u001b[32m10.2/10.2 MB\u001b[0m \u001b[31m114.1 MB/s\u001b[0m eta \u001b[36m0:00:00\u001b[0m00:01\u001b[0m00:01\u001b[0m\n",
      "Collecting datasets\n",
      "  Downloading datasets-3.5.0-py3-none-any.whl (491 kB)\n",
      "\u001b[2K     \u001b[90m━━━━━━━━━━━━━━━━━━━━━━━━━━━━━━━━━━━━━\u001b[0m \u001b[32m491.2/491.2 KB\u001b[0m \u001b[31m102.2 MB/s\u001b[0m eta \u001b[36m0:00:00\u001b[0m\n",
      "Collecting einops\n",
      "  Downloading einops-0.8.1-py3-none-any.whl (64 kB)\n",
      "\u001b[2K     \u001b[90m━━━━━━━━━━━━━━━━━━━━━━━━━━━━━━━━━━━━━━━━\u001b[0m \u001b[32m64.4/64.4 KB\u001b[0m \u001b[31m21.0 MB/s\u001b[0m eta \u001b[36m0:00:00\u001b[0m\n",
      "Collecting natsort\n",
      "  Downloading natsort-8.4.0-py3-none-any.whl (38 kB)\n",
      "Collecting numpy<3.0.0,>=1.17\n",
      "  Downloading numpy-2.2.4-cp310-cp310-manylinux_2_17_x86_64.manylinux2014_x86_64.whl (16.4 MB)\n",
      "\u001b[2K     \u001b[90m━━━━━━━━━━━━━━━━━━━━━━━━━━━━━━━━━━━━━━━━\u001b[0m \u001b[32m16.4/16.4 MB\u001b[0m \u001b[31m82.7 MB/s\u001b[0m eta \u001b[36m0:00:00\u001b[0m00:01\u001b[0m00:01\u001b[0m\n",
      "Requirement already satisfied: psutil in /venv/main/lib/python3.10/site-packages (from accelerate->sae==0.1.6) (6.1.1)\n",
      "Requirement already satisfied: packaging>=20.0 in /venv/main/lib/python3.10/site-packages (from accelerate->sae==0.1.6) (24.2)\n",
      "Requirement already satisfied: pyyaml in /venv/main/lib/python3.10/site-packages (from accelerate->sae==0.1.6) (6.0.2)\n",
      "Requirement already satisfied: fsspec>=2023.5.0 in /venv/main/lib/python3.10/site-packages (from huggingface-hub->sae==0.1.6) (2025.2.0)\n",
      "Requirement already satisfied: requests in /venv/main/lib/python3.10/site-packages (from huggingface-hub->sae==0.1.6) (2.32.3)\n",
      "Requirement already satisfied: typing-extensions>=3.7.4.3 in /venv/main/lib/python3.10/site-packages (from huggingface-hub->sae==0.1.6) (4.12.2)\n",
      "Requirement already satisfied: tqdm>=4.42.1 in /venv/main/lib/python3.10/site-packages (from huggingface-hub->sae==0.1.6) (4.67.1)\n",
      "Requirement already satisfied: filelock in /venv/main/lib/python3.10/site-packages (from huggingface-hub->sae==0.1.6) (3.17.0)\n",
      "Collecting networkx\n",
      "  Downloading networkx-3.4.2-py3-none-any.whl (1.7 MB)\n",
      "\u001b[2K     \u001b[90m━━━━━━━━━━━━━━━━━━━━━━━━━━━━━━━━━━━━━━━━\u001b[0m \u001b[32m1.7/1.7 MB\u001b[0m \u001b[31m116.6 MB/s\u001b[0m eta \u001b[36m0:00:00\u001b[0m\n",
      "\u001b[?25hCollecting nvidia-nccl-cu12==2.21.5\n",
      "  Downloading nvidia_nccl_cu12-2.21.5-py3-none-manylinux2014_x86_64.whl (188.7 MB)\n",
      "\u001b[2K     \u001b[90m━━━━━━━━━━━━━━━━━━━━━━━━━━━━━━━━━━━━━━\u001b[0m \u001b[32m188.7/188.7 MB\u001b[0m \u001b[31m12.0 MB/s\u001b[0m eta \u001b[36m0:00:00\u001b[0m00:01\u001b[0m00:01\u001b[0m\n",
      "Collecting nvidia-cudnn-cu12==9.1.0.70\n",
      "  Downloading nvidia_cudnn_cu12-9.1.0.70-py3-none-manylinux2014_x86_64.whl (664.8 MB)\n",
      "\u001b[2K     \u001b[90m━━━━━━━━━━━━━━━━━━━━━━━━━━━━━━━━━━━━━━━\u001b[0m \u001b[32m664.8/664.8 MB\u001b[0m \u001b[31m3.0 MB/s\u001b[0m eta \u001b[36m0:00:00\u001b[0m00:01\u001b[0m00:01\u001b[0m\n",
      "Collecting nvidia-cublas-cu12==12.4.5.8\n",
      "  Downloading nvidia_cublas_cu12-12.4.5.8-py3-none-manylinux2014_x86_64.whl (363.4 MB)\n",
      "\u001b[2K     \u001b[90m━━━━━━━━━━━━━━━━━━━━━━━━━━━━━━━━━━━━━━━\u001b[0m \u001b[32m363.4/363.4 MB\u001b[0m \u001b[31m4.2 MB/s\u001b[0m eta \u001b[36m0:00:00\u001b[0m00:01\u001b[0m00:01\u001b[0m\n",
      "Collecting nvidia-cuda-nvrtc-cu12==12.4.127\n",
      "  Downloading nvidia_cuda_nvrtc_cu12-12.4.127-py3-none-manylinux2014_x86_64.whl (24.6 MB)\n",
      "\u001b[2K     \u001b[90m━━━━━━━━━━━━━━━━━━━━━━━━━━━━━━━━━━━━━━━━\u001b[0m \u001b[32m24.6/24.6 MB\u001b[0m \u001b[31m55.4 MB/s\u001b[0m eta \u001b[36m0:00:00\u001b[0m00:01\u001b[0m00:01\u001b[0m\n",
      "Collecting triton==3.2.0\n",
      "  Downloading triton-3.2.0-cp310-cp310-manylinux_2_17_x86_64.manylinux2014_x86_64.whl (253.1 MB)\n",
      "\u001b[2K     \u001b[90m━━━━━━━━━━━━━━━━━━━━━━━━━━━━━━━━━━━━━━━\u001b[0m \u001b[32m253.1/253.1 MB\u001b[0m \u001b[31m5.5 MB/s\u001b[0m eta \u001b[36m0:00:00\u001b[0m00:01\u001b[0m00:01\u001b[0m\n",
      "Collecting nvidia-cuda-cupti-cu12==12.4.127\n",
      "  Downloading nvidia_cuda_cupti_cu12-12.4.127-py3-none-manylinux2014_x86_64.whl (13.8 MB)\n",
      "\u001b[2K     \u001b[90m━━━━━━━━━━━━━━━━━━━━━━━━━━━━━━━━━━━━━━━━\u001b[0m \u001b[32m13.8/13.8 MB\u001b[0m \u001b[31m40.4 MB/s\u001b[0m eta \u001b[36m0:00:00\u001b[0m00:01\u001b[0m00:01\u001b[0m\n",
      "Collecting nvidia-cusolver-cu12==11.6.1.9\n",
      "  Downloading nvidia_cusolver_cu12-11.6.1.9-py3-none-manylinux2014_x86_64.whl (127.9 MB)\n",
      "\u001b[2K     \u001b[90m━━━━━━━━━━━━━━━━━━━━━━━━━━━━━━━━━━━━━━━\u001b[0m \u001b[32m127.9/127.9 MB\u001b[0m \u001b[31m7.0 MB/s\u001b[0m eta \u001b[36m0:00:00\u001b[0m00:01\u001b[0m00:01\u001b[0m\n",
      "Collecting nvidia-cuda-runtime-cu12==12.4.127\n",
      "  Downloading nvidia_cuda_runtime_cu12-12.4.127-py3-none-manylinux2014_x86_64.whl (883 kB)\n",
      "\u001b[2K     \u001b[90m━━━━━━━━━━━━━━━━━━━━━━━━━━━━━━━━━━━━━━━\u001b[0m \u001b[32m883.7/883.7 KB\u001b[0m \u001b[31m7.8 MB/s\u001b[0m eta \u001b[36m0:00:00\u001b[0m00:01\u001b[0m\n",
      "Collecting jinja2\n",
      "  Downloading jinja2-3.1.6-py3-none-any.whl (134 kB)\n",
      "\u001b[2K     \u001b[90m━━━━━━━━━━━━━━━━━━━━━━━━━━━━━━━━━━━━━━━\u001b[0m \u001b[32m134.9/134.9 KB\u001b[0m \u001b[31m1.5 MB/s\u001b[0m eta \u001b[36m0:00:00\u001b[0m00:01\u001b[0m\n",
      "Collecting nvidia-curand-cu12==10.3.5.147\n",
      "  Downloading nvidia_curand_cu12-10.3.5.147-py3-none-manylinux2014_x86_64.whl (56.3 MB)\n",
      "\u001b[2K     \u001b[90m━━━━━━━━━━━━━━━━━━━━━━━━━━━━━━━━━━━━━━━━\u001b[0m \u001b[32m56.3/56.3 MB\u001b[0m \u001b[31m22.8 MB/s\u001b[0m eta \u001b[36m0:00:00\u001b[0m00:01\u001b[0m00:01\u001b[0m\n",
      "Collecting nvidia-cusparselt-cu12==0.6.2\n",
      "  Downloading nvidia_cusparselt_cu12-0.6.2-py3-none-manylinux2014_x86_64.whl (150.1 MB)\n",
      "\u001b[2K     \u001b[90m━━━━━━━━━━━━━━━━━━━━━━━━━━━━━━━━━━━━━━━\u001b[0m \u001b[32m150.1/150.1 MB\u001b[0m \u001b[31m9.0 MB/s\u001b[0m eta \u001b[36m0:00:00\u001b[0m00:01\u001b[0m00:01\u001b[0m\n",
      "Collecting sympy==1.13.1\n",
      "  Downloading sympy-1.13.1-py3-none-any.whl (6.2 MB)\n",
      "\u001b[2K     \u001b[90m━━━━━━━━━━━━━━━━━━━━━━━━━━━━━━━━━━━━━━━━\u001b[0m \u001b[32m6.2/6.2 MB\u001b[0m \u001b[31m85.9 MB/s\u001b[0m eta \u001b[36m0:00:00\u001b[0m:00:01\u001b[0m\n",
      "Collecting nvidia-cusparse-cu12==12.3.1.170\n",
      "  Downloading nvidia_cusparse_cu12-12.3.1.170-py3-none-manylinux2014_x86_64.whl (207.5 MB)\n",
      "\u001b[2K     \u001b[90m━━━━━━━━━━━━━━━━━━━━━━━━━━━━━━━━━━━━━━━\u001b[0m \u001b[32m207.5/207.5 MB\u001b[0m \u001b[31m9.2 MB/s\u001b[0m eta \u001b[36m0:00:00\u001b[0m00:01\u001b[0m00:01\u001b[0m\n",
      "Collecting nvidia-nvtx-cu12==12.4.127\n",
      "  Downloading nvidia_nvtx_cu12-12.4.127-py3-none-manylinux2014_x86_64.whl (99 kB)\n",
      "\u001b[2K     \u001b[90m━━━━━━━━━━━━━━━━━━━━━━━━━━━━━━━━━━━━━━━━\u001b[0m \u001b[32m99.1/99.1 KB\u001b[0m \u001b[31m29.9 MB/s\u001b[0m eta \u001b[36m0:00:00\u001b[0m\n",
      "\u001b[?25hCollecting nvidia-nvjitlink-cu12==12.4.127\n",
      "  Downloading nvidia_nvjitlink_cu12-12.4.127-py3-none-manylinux2014_x86_64.whl (21.1 MB)\n",
      "\u001b[2K     \u001b[90m━━━━━━━━━━━━━━━━━━━━━━━━━━━━━━━━━━━━━━━━\u001b[0m \u001b[32m21.1/21.1 MB\u001b[0m \u001b[31m65.3 MB/s\u001b[0m eta \u001b[36m0:00:00\u001b[0m00:01\u001b[0m00:01\u001b[0m\n",
      "Collecting nvidia-cufft-cu12==11.2.1.3\n",
      "  Downloading nvidia_cufft_cu12-11.2.1.3-py3-none-manylinux2014_x86_64.whl (211.5 MB)\n",
      "\u001b[2K     \u001b[90m━━━━━━━━━━━━━━━━━━━━━━━━━━━━━━━━━━━━━━\u001b[0m \u001b[32m211.5/211.5 MB\u001b[0m \u001b[31m10.8 MB/s\u001b[0m eta \u001b[36m0:00:00\u001b[0m00:01\u001b[0m00:01\u001b[0m\n",
      "Collecting mpmath<1.4,>=1.1.0\n",
      "  Downloading mpmath-1.3.0-py3-none-any.whl (536 kB)\n",
      "\u001b[2K     \u001b[90m━━━━━━━━━━━━━━━━━━━━━━━━━━━━━━━━━━━━━━\u001b[0m \u001b[32m536.2/536.2 KB\u001b[0m \u001b[31m93.5 MB/s\u001b[0m eta \u001b[36m0:00:00\u001b[0m\n",
      "Collecting xxhash\n",
      "  Downloading xxhash-3.5.0-cp310-cp310-manylinux_2_17_x86_64.manylinux2014_x86_64.whl (194 kB)\n",
      "\u001b[2K     \u001b[90m━━━━━━━━━━━━━━━━━━━━━━━━━━━━━━━━━━━━━━\u001b[0m \u001b[32m194.1/194.1 KB\u001b[0m \u001b[31m42.5 MB/s\u001b[0m eta \u001b[36m0:00:00\u001b[0m\n",
      "Collecting aiohttp\n",
      "  Downloading aiohttp-3.11.15-cp310-cp310-manylinux_2_17_x86_64.manylinux2014_x86_64.whl (1.6 MB)\n",
      "\u001b[2K     \u001b[90m━━━━━━━━━━━━━━━━━━━━━━━━━━━━━━━━━━━━━━━━\u001b[0m \u001b[32m1.6/1.6 MB\u001b[0m \u001b[31m103.0 MB/s\u001b[0m eta \u001b[36m0:00:00\u001b[0m\n",
      "Collecting pandas\n",
      "  Downloading pandas-2.2.3-cp310-cp310-manylinux_2_17_x86_64.manylinux2014_x86_64.whl (13.1 MB)\n",
      "\u001b[2K     \u001b[90m━━━━━━━━━━━━━━━━━━━━━━━━━━━━━━━━━━━━━━━\u001b[0m \u001b[32m13.1/13.1 MB\u001b[0m \u001b[31m106.3 MB/s\u001b[0m eta \u001b[36m0:00:00\u001b[0m00:01\u001b[0m00:01\u001b[0m\n",
      "Collecting multiprocess<0.70.17\n",
      "  Downloading multiprocess-0.70.16-py310-none-any.whl (134 kB)\n",
      "\u001b[2K     \u001b[90m━━━━━━━━━━━━━━━━━━━━━━━━━━━━━━━━━━━━━━\u001b[0m \u001b[32m134.8/134.8 KB\u001b[0m \u001b[31m38.1 MB/s\u001b[0m eta \u001b[36m0:00:00\u001b[0m\n",
      "Collecting fsspec[http]<=2024.12.0,>=2023.1.0\n",
      "  Downloading fsspec-2024.12.0-py3-none-any.whl (183 kB)\n",
      "\u001b[2K     \u001b[90m━━━━━━━━━━━━━━━━━━━━━━━━━━━━━━━━━━━━━━\u001b[0m \u001b[32m183.9/183.9 KB\u001b[0m \u001b[31m46.9 MB/s\u001b[0m eta \u001b[36m0:00:00\u001b[0m\n",
      "Collecting dill<0.3.9,>=0.3.0\n",
      "  Downloading dill-0.3.8-py3-none-any.whl (116 kB)\n",
      "\u001b[2K     \u001b[90m━━━━━━━━━━━━━━━━━━━━━━━━━━━━━━━━━━━━━━\u001b[0m \u001b[32m116.3/116.3 KB\u001b[0m \u001b[31m40.5 MB/s\u001b[0m eta \u001b[36m0:00:00\u001b[0m\n",
      "Collecting pyarrow>=15.0.0\n",
      "  Downloading pyarrow-19.0.1-cp310-cp310-manylinux_2_28_x86_64.whl (42.1 MB)\n",
      "\u001b[2K     \u001b[90m━━━━━━━━━━━━━━━━━━━━━━━━━━━━━━━━━━━━━━━━\u001b[0m \u001b[32m42.1/42.1 MB\u001b[0m \u001b[31m44.4 MB/s\u001b[0m eta \u001b[36m0:00:00\u001b[0m00:01\u001b[0m00:01\u001b[0m\n",
      "Collecting docstring-parser<1.0,>=0.15\n",
      "  Downloading docstring_parser-0.16-py3-none-any.whl (36 kB)\n",
      "Collecting tokenizers<0.22,>=0.21\n",
      "  Downloading tokenizers-0.21.1-cp39-abi3-manylinux_2_17_x86_64.manylinux2014_x86_64.whl (3.0 MB)\n",
      "\u001b[2K     \u001b[90m━━━━━━━━━━━━━━━━━━━━━━━━━━━━━━━━━━━━━━━━\u001b[0m \u001b[32m3.0/3.0 MB\u001b[0m \u001b[31m113.1 MB/s\u001b[0m eta \u001b[36m0:00:00\u001b[0m\n",
      "Collecting regex!=2019.12.17\n",
      "  Downloading regex-2024.11.6-cp310-cp310-manylinux_2_17_x86_64.manylinux2014_x86_64.whl (781 kB)\n",
      "\u001b[2K     \u001b[90m━━━━━━━━━━━━━━━━━━━━━━━━━━━━━━━━━━━━━━\u001b[0m \u001b[32m781.7/781.7 KB\u001b[0m \u001b[31m44.5 MB/s\u001b[0m eta \u001b[36m0:00:00\u001b[0m\n",
      "Collecting multidict<7.0,>=4.5\n",
      "  Downloading multidict-6.3.0-cp310-cp310-manylinux_2_17_x86_64.manylinux2014_x86_64.whl (229 kB)\n",
      "\u001b[2K     \u001b[90m━━━━━━━━━━━━━━━━━━━━━━━━━━━━━━━━━━━━━━\u001b[0m \u001b[32m229.5/229.5 KB\u001b[0m \u001b[31m48.9 MB/s\u001b[0m eta \u001b[36m0:00:00\u001b[0m\n",
      "Collecting attrs>=17.3.0\n",
      "  Downloading attrs-25.3.0-py3-none-any.whl (63 kB)\n",
      "\u001b[2K     \u001b[90m━━━━━━━━━━━━━━━━━━━━━━━━━━━━━━━━━━━━━━━━\u001b[0m \u001b[32m63.8/63.8 KB\u001b[0m \u001b[31m24.7 MB/s\u001b[0m eta \u001b[36m0:00:00\u001b[0m\n",
      "Collecting propcache>=0.2.0\n",
      "  Downloading propcache-0.3.1-cp310-cp310-manylinux_2_17_x86_64.manylinux2014_x86_64.whl (206 kB)\n",
      "\u001b[2K     \u001b[90m━━━━━━━━━━━━━━━━━━━━━━━━━━━━━━━━━━━━━━\u001b[0m \u001b[32m206.6/206.6 KB\u001b[0m \u001b[31m51.6 MB/s\u001b[0m eta \u001b[36m0:00:00\u001b[0m\n",
      "Collecting yarl<2.0,>=1.17.0\n",
      "  Downloading yarl-1.18.3-cp310-cp310-manylinux_2_17_x86_64.manylinux2014_x86_64.whl (319 kB)\n",
      "\u001b[2K     \u001b[90m━━━━━━━━━━━━━━━━━━━━━━━━━━━━━━━━━━━━━━\u001b[0m \u001b[32m319.7/319.7 KB\u001b[0m \u001b[31m62.0 MB/s\u001b[0m eta \u001b[36m0:00:00\u001b[0m\n",
      "Collecting frozenlist>=1.1.1\n",
      "  Downloading frozenlist-1.5.0-cp310-cp310-manylinux_2_5_x86_64.manylinux1_x86_64.manylinux_2_17_x86_64.manylinux2014_x86_64.whl (241 kB)\n",
      "\u001b[2K     \u001b[90m━━━━━━━━━━━━━━━━━━━━━━━━━━━━━━━━━━━━━━\u001b[0m \u001b[32m241.9/241.9 KB\u001b[0m \u001b[31m60.1 MB/s\u001b[0m eta \u001b[36m0:00:00\u001b[0m\n",
      "Collecting async-timeout<6.0,>=4.0\n",
      "  Downloading async_timeout-5.0.1-py3-none-any.whl (6.2 kB)\n",
      "Collecting aiosignal>=1.1.2\n",
      "  Downloading aiosignal-1.3.2-py2.py3-none-any.whl (7.6 kB)\n",
      "Collecting aiohappyeyeballs>=2.3.0\n",
      "  Downloading aiohappyeyeballs-2.6.1-py3-none-any.whl (15 kB)\n",
      "Requirement already satisfied: idna<4,>=2.5 in /venv/main/lib/python3.10/site-packages (from requests->huggingface-hub->sae==0.1.6) (3.10)\n",
      "Requirement already satisfied: certifi>=2017.4.17 in /venv/main/lib/python3.10/site-packages (from requests->huggingface-hub->sae==0.1.6) (2025.1.31)\n",
      "Requirement already satisfied: urllib3<3,>=1.21.1 in /venv/main/lib/python3.10/site-packages (from requests->huggingface-hub->sae==0.1.6) (2.3.0)\n",
      "Requirement already satisfied: charset-normalizer<4,>=2 in /venv/main/lib/python3.10/site-packages (from requests->huggingface-hub->sae==0.1.6) (3.4.1)\n",
      "Collecting MarkupSafe>=2.0\n",
      "  Downloading MarkupSafe-3.0.2-cp310-cp310-manylinux_2_17_x86_64.manylinux2014_x86_64.whl (20 kB)\n",
      "Requirement already satisfied: python-dateutil>=2.8.2 in /venv/main/lib/python3.10/site-packages (from pandas->datasets->sae==0.1.6) (2.9.0.post0)\n",
      "Collecting tzdata>=2022.7\n",
      "  Downloading tzdata-2025.2-py2.py3-none-any.whl (347 kB)\n",
      "\u001b[2K     \u001b[90m━━━━━━━━━━━━━━━━━━━━━━━━━━━━━━━━━━━━━━\u001b[0m \u001b[32m347.8/347.8 KB\u001b[0m \u001b[31m66.2 MB/s\u001b[0m eta \u001b[36m0:00:00\u001b[0m\n",
      "Collecting pytz>=2020.1\n",
      "  Downloading pytz-2025.2-py2.py3-none-any.whl (509 kB)\n",
      "\u001b[2K     \u001b[90m━━━━━━━━━━━━━━━━━━━━━━━━━━━━━━━━━━━━━━\u001b[0m \u001b[32m509.2/509.2 KB\u001b[0m \u001b[31m93.2 MB/s\u001b[0m eta \u001b[36m0:00:00\u001b[0m\n",
      "Requirement already satisfied: six>=1.5 in /venv/main/lib/python3.10/site-packages (from python-dateutil>=2.8.2->pandas->datasets->sae==0.1.6) (1.17.0)\n",
      "Building wheels for collected packages: sae\n",
      "doneng wheel for sae (pyproject.toml) ... \u001b[?25l\n",
      "\u001b[?25h  Created wheel for sae: filename=sae-0.1.6-py3-none-any.whl size=33588 sha256=5aefe958595ebe1c3679782b0b4fd6ba14ea0f88ae01fa3cc2f376dee83cdb85\n",
      "  Stored in directory: /tmp/pip-ephem-wheel-cache-_dl34bu3/wheels/a7/43/8e/be98c0f64a590e4f9090e141f3b597d21698b90d4ed0e7b641\n",
      "Successfully built sae\n",
      "Installing collected packages: triton, pytz, nvidia-cusparselt-cu12, mpmath, xxhash, tzdata, sympy, safetensors, regex, pyarrow, propcache, nvidia-nvtx-cu12, nvidia-nvjitlink-cu12, nvidia-nccl-cu12, nvidia-curand-cu12, nvidia-cufft-cu12, nvidia-cuda-runtime-cu12, nvidia-cuda-nvrtc-cu12, nvidia-cuda-cupti-cu12, nvidia-cublas-cu12, numpy, networkx, natsort, multidict, MarkupSafe, fsspec, frozenlist, einops, docstring-parser, dill, attrs, async-timeout, aiohappyeyeballs, yarl, simple-parsing, pandas, nvidia-cusparse-cu12, nvidia-cudnn-cu12, multiprocess, jinja2, aiosignal, tokenizers, nvidia-cusolver-cu12, aiohttp, transformers, torch, datasets, accelerate, sae\n",
      "  Attempting uninstall: fsspec\n",
      "    Found existing installation: fsspec 2025.2.0\n",
      "    Uninstalling fsspec-2025.2.0:\n",
      "      Successfully uninstalled fsspec-2025.2.0\n",
      "Successfully installed MarkupSafe-3.0.2 accelerate-1.5.2 aiohappyeyeballs-2.6.1 aiohttp-3.11.15 aiosignal-1.3.2 async-timeout-5.0.1 attrs-25.3.0 datasets-3.5.0 dill-0.3.8 docstring-parser-0.16 einops-0.8.1 frozenlist-1.5.0 fsspec-2024.12.0 jinja2-3.1.6 mpmath-1.3.0 multidict-6.3.0 multiprocess-0.70.16 natsort-8.4.0 networkx-3.4.2 numpy-2.2.4 nvidia-cublas-cu12-12.4.5.8 nvidia-cuda-cupti-cu12-12.4.127 nvidia-cuda-nvrtc-cu12-12.4.127 nvidia-cuda-runtime-cu12-12.4.127 nvidia-cudnn-cu12-9.1.0.70 nvidia-cufft-cu12-11.2.1.3 nvidia-curand-cu12-10.3.5.147 nvidia-cusolver-cu12-11.6.1.9 nvidia-cusparse-cu12-12.3.1.170 nvidia-cusparselt-cu12-0.6.2 nvidia-nccl-cu12-2.21.5 nvidia-nvjitlink-cu12-12.4.127 nvidia-nvtx-cu12-12.4.127 pandas-2.2.3 propcache-0.3.1 pyarrow-19.0.1 pytz-2025.2 regex-2024.11.6 sae-0.1.6 safetensors-0.5.3 simple-parsing-0.1.7 sympy-1.13.1 tokenizers-0.21.1 torch-2.6.0 transformers-4.50.3 triton-3.2.0 tzdata-2025.2 xxhash-3.5.0 yarl-1.18.3\n",
      "Cloning into 'TinySQL'...\n",
      "remote: Enumerating objects: 1989, done.\u001b[K\n",
      "remote: Counting objects: 100% (281/281), done.\u001b[K\n",
      "remote: Compressing objects: 100% (228/228), done.\u001b[K\n",
      "remote: Total 1989 (delta 104), reused 79 (delta 53), pack-reused 1708 (from 3)\u001b[K\n",
      "Receiving objects: 100% (1989/1989), 10.01 MiB | 36.10 MiB/s, done.\n",
      "Resolving deltas: 100% (1225/1225), done.\n",
      "Processing /workspace/TinySQL\n",
      "  Installing build dependencies ... \u001b[?done\n",
      "doneGetting requirements to build wheel ... \u001b[?25l\n",
      "donePreparing metadata (pyproject.toml) ... \u001b[?25l\n",
      "\u001b[?25hRequirement already satisfied: numpy>=1.18.1 in /venv/main/lib/python3.10/site-packages (from TinySQL==1.3) (2.2.4)\n",
      "Requirement already satisfied: wheel in /venv/main/lib/python3.10/site-packages (from TinySQL==1.3) (0.45.1)\n",
      "Building wheels for collected packages: TinySQL\n",
      "doneng wheel for TinySQL (pyproject.toml) ... \u001b[?25l\n",
      "\u001b[?25h  Created wheel for TinySQL: filename=tinysql-1.3-py3-none-any.whl size=61777 sha256=dd80e0729a1052ce122554c2ae09ac8fdc39a130b14c1db50422ec75d867ac14\n",
      "  Stored in directory: /tmp/pip-ephem-wheel-cache-fycd9s6i/wheels/3c/79/ef/2d7a7e9b7e745d6347cd9c57c70e3e248952c01db9d720c876\n",
      "Successfully built TinySQL\n",
      "Installing collected packages: TinySQL\n",
      "Successfully installed TinySQL-1.3\n"
     ]
    }
   ],
   "source": [
    "def install_dependencies():\n",
    "    import os\n",
    "    \n",
    "    # Set GitHub token as an environment variable\n",
    "    os.environ['GITHUB_TOKEN'] = \"gh_\"\n",
    "    \n",
    "    # Remove existing directories if they exist\n",
    "    ! rm -rf sae || True\n",
    "    ! rm -rf TinySQL || True\n",
    "    \n",
    "    # Clone repositories with authentication\n",
    "    ! git clone https://${GITHUB_TOKEN}@github.com/amirabdullah19852020/sae.git\n",
    "    ! cd sae && pip install .\n",
    "    \n",
    "    ! git clone https://${GITHUB_TOKEN}@github.com/withmartian/TinySQL.git\n",
    "    ! cd TinySQL && pip install .\n",
    "    \n",
    "install_dependencies()"
   ]
  },
  {
   "cell_type": "code",
   "execution_count": 2,
   "id": "6eeb2ec6-62f0-4a8b-b1db-b5391adca63c",
   "metadata": {},
   "outputs": [],
   "source": [
    "! pip install circuitsvis nnsight plotly matplotlib -q\n"
   ]
  },
  {
   "cell_type": "code",
   "execution_count": 1,
   "id": "7245ed89-37e4-4ad1-b00f-5611e93962cf",
   "metadata": {},
   "outputs": [
    {
     "name": "stdout",
     "output_type": "stream",
     "text": [
      "Triton disabled, using eager implementation of SAE decoder.\n"
     ]
    }
   ],
   "source": [
    "import json\n",
    "import os\n",
    "\n",
    "os.environ[\"SAE_DISABLE_TRITON\"] = \"1\"\n",
    "\n",
    "import psutil\n",
    "import re\n",
    "\n",
    "from copy import deepcopy\n",
    "from dataclasses import dataclass\n",
    "from IPython.display import display, HTML\n",
    "from typing import Callable\n",
    "from math import ceil\n",
    "from pathlib import Path\n",
    "\n",
    "import nnsight\n",
    "import numpy as np\n",
    "import plotly.graph_objects as go\n",
    "import sae\n",
    "import torch\n",
    "import torch.fx\n",
    "\n",
    "from datasets import load_dataset\n",
    "from huggingface_hub import snapshot_download\n",
    "import matplotlib.pyplot as plt\n",
    "from nnsight import NNsight, LanguageModel\n",
    "from plotly.subplots import make_subplots\n",
    "from sae import Sae\n",
    "from sae.sae_interp import GroupedSaeOutput, SaeOutput, SaeCollector, LoadedSAES\n",
    "from sae.sae_plotting import plot_layer_curves, plot_layer_features\n",
    "\n",
    "from tqdm import tqdm\n",
    "from transformers import AutoTokenizer, AutoModelForCausalLM\n",
    "from TinySQL import sql_interp_model_location\n",
    "from TinySQL.training_data.fragments import field_names, table_names"
   ]
  },
  {
   "cell_type": "code",
   "execution_count": 2,
   "id": "96f710aa-d933-44f8-b7db-89cbfad237ab",
   "metadata": {},
   "outputs": [
    {
     "name": "stdout",
     "output_type": "stream",
     "text": [
      "RSS: 663.93 MB\n",
      "VMS: 11363.39 MB\n"
     ]
    }
   ],
   "source": [
    "# Get the current process\n",
    "def process_info():\n",
    "    process = psutil.Process(os.getpid())\n",
    "    \n",
    "    # Memory usage in MB\n",
    "    memory_info = process.memory_info()\n",
    "    print(f\"RSS: {memory_info.rss / (1024 ** 2):.2f} MB\")  # Resident Set Size\n",
    "    print(f\"VMS: {memory_info.vms / (1024 ** 2):.2f} MB\") \n",
    "\n",
    "process_info()"
   ]
  },
  {
   "cell_type": "code",
   "execution_count": 3,
   "id": "a8e60eff-e799-41ff-914a-5a50d55e59a8",
   "metadata": {},
   "outputs": [],
   "source": [
    "seed=42\n",
    "repo = \"sql_interp_saes\""
   ]
  },
  {
   "cell_type": "code",
   "execution_count": 4,
   "id": "518ad099-41e2-468a-9903-84d518f6d3f7",
   "metadata": {},
   "outputs": [
    {
     "name": "stdout",
     "output_type": "stream",
     "text": [
      "saes_sql_interp_bm2_cs1_experiment_4.3_syn=True\n",
      "RSS: 663.93 MB\n",
      "VMS: 11363.39 MB\n"
     ]
    }
   ],
   "source": [
    "repo_name = \"withmartian/sql_interp_saes\"\n",
    "cache_dir = \"working_directory\"\n",
    "\n",
    "syn=True\n",
    "\n",
    "full_model_name = sql_interp_model_location(model_num=2, cs_num=1, synonym=syn)\n",
    "model_alias = f\"saes_{full_model_name.split('/')[1]}_syn={syn}\"\n",
    "print(model_alias)\n",
    "\n",
    "# Change this to work with another model alias.\n",
    "seed = 42\n",
    "\n",
    "process_info()"
   ]
  },
  {
   "cell_type": "code",
   "execution_count": null,
   "id": "5dd5716e-54c0-4cf9-bc41-66e398aaf011",
   "metadata": {},
   "outputs": [
    {
     "name": "stdout",
     "output_type": "stream",
     "text": [
      "The token has not been saved to the git credentials helper. Pass `add_to_git_credential=True` in this function directly or `--add-to-git-credential` if using via `huggingface-cli` if you want to set the git credential as well.\n",
      "Token is valid (permission: read).\n",
      "The token `read1` has been saved to /root/.cache/huggingface/stored_tokens\n",
      "Your token has been saved to /root/.cache/huggingface/token\n",
      "Login successful.\n",
      "The current active token is: `read1`\n"
     ]
    }
   ],
   "source": [
    "! huggingface-cli login --token hf_"
   ]
  },
  {
   "cell_type": "code",
   "execution_count": 9,
   "id": "0f1e6797-63ea-465d-b290-338581fe5b17",
   "metadata": {
    "scrolled": true
   },
   "outputs": [
    {
     "data": {
      "application/vnd.jupyter.widget-view+json": {
       "model_id": "107155cdb4df45509f267b8fe9ce8f5d",
       "version_major": 2,
       "version_minor": 0
      },
      "text/plain": [
       "Fetching 340 files:   0%|          | 0/340 [00:00<?, ?it/s]"
      ]
     },
     "metadata": {},
     "output_type": "display_data"
    },
    {
     "data": {
      "application/vnd.jupyter.widget-view+json": {
       "model_id": "4da56d47ba754cddbd5cbadbc6bdb5fe",
       "version_major": 2,
       "version_minor": 0
      },
      "text/plain": [
       "sae.safetensors:   0%|          | 0.00/96.4M [00:00<?, ?B/s]"
      ]
     },
     "metadata": {},
     "output_type": "display_data"
    },
    {
     "data": {
      "application/vnd.jupyter.widget-view+json": {
       "model_id": "569aea0dc92244a4a0a74c83c147bbcb",
       "version_major": 2,
       "version_minor": 0
      },
      "text/plain": [
       "sae.safetensors:   0%|          | 0.00/96.4M [00:00<?, ?B/s]"
      ]
     },
     "metadata": {},
     "output_type": "display_data"
    },
    {
     "data": {
      "application/vnd.jupyter.widget-view+json": {
       "model_id": "c89e7614b05f42b5a0cb5ab57b029196",
       "version_major": 2,
       "version_minor": 0
      },
      "text/plain": [
       "cfg.json:   0%|          | 0.00/139 [00:00<?, ?B/s]"
      ]
     },
     "metadata": {},
     "output_type": "display_data"
    },
    {
     "data": {
      "application/vnd.jupyter.widget-view+json": {
       "model_id": "74e8b10fc90f40718e9cda3f929b391e",
       "version_major": 2,
       "version_minor": 0
      },
      "text/plain": [
       "metrics.json:   0%|          | 0.00/62.0 [00:00<?, ?B/s]"
      ]
     },
     "metadata": {},
     "output_type": "display_data"
    },
    {
     "data": {
      "application/vnd.jupyter.widget-view+json": {
       "model_id": "5ae0f25b52154f25b6cae81da13f6f29",
       "version_major": 2,
       "version_minor": 0
      },
      "text/plain": [
       "cfg.json:   0%|          | 0.00/139 [00:00<?, ?B/s]"
      ]
     },
     "metadata": {},
     "output_type": "display_data"
    },
    {
     "data": {
      "application/vnd.jupyter.widget-view+json": {
       "model_id": "124fbb4dfcca4677a3aed6cfb3813442",
       "version_major": 2,
       "version_minor": 0
      },
      "text/plain": [
       "metrics.json:   0%|          | 0.00/63.0 [00:00<?, ?B/s]"
      ]
     },
     "metadata": {},
     "output_type": "display_data"
    },
    {
     "data": {
      "application/vnd.jupyter.widget-view+json": {
       "model_id": "9338dd20747d4791b96fe30c9ac5d5b1",
       "version_major": 2,
       "version_minor": 0
      },
      "text/plain": [
       "lr_scheduler.pt:   0%|          | 0.00/1.65k [00:00<?, ?B/s]"
      ]
     },
     "metadata": {},
     "output_type": "display_data"
    },
    {
     "data": {
      "application/vnd.jupyter.widget-view+json": {
       "model_id": "8cf55edcd4684fd58f442ca507d43366",
       "version_major": 2,
       "version_minor": 0
      },
      "text/plain": [
       "config.json:   0%|          | 0.00/1.54k [00:00<?, ?B/s]"
      ]
     },
     "metadata": {},
     "output_type": "display_data"
    },
    {
     "data": {
      "application/vnd.jupyter.widget-view+json": {
       "model_id": "72bc629efd61482b983f8985716f0608",
       "version_major": 2,
       "version_minor": 0
      },
      "text/plain": [
       "sae.safetensors:   0%|          | 0.00/96.4M [00:00<?, ?B/s]"
      ]
     },
     "metadata": {},
     "output_type": "display_data"
    },
    {
     "data": {
      "application/vnd.jupyter.widget-view+json": {
       "model_id": "fa4cef4faebf481f80497626bf6e047d",
       "version_major": 2,
       "version_minor": 0
      },
      "text/plain": [
       "cfg.json:   0%|          | 0.00/139 [00:00<?, ?B/s]"
      ]
     },
     "metadata": {},
     "output_type": "display_data"
    },
    {
     "data": {
      "application/vnd.jupyter.widget-view+json": {
       "model_id": "8e420bf6ba3144da82496191619f78e7",
       "version_major": 2,
       "version_minor": 0
      },
      "text/plain": [
       "sae.safetensors:   0%|          | 0.00/96.4M [00:00<?, ?B/s]"
      ]
     },
     "metadata": {},
     "output_type": "display_data"
    },
    {
     "data": {
      "application/vnd.jupyter.widget-view+json": {
       "model_id": "945a3ef0520b429e9bccf25d5e144552",
       "version_major": 2,
       "version_minor": 0
      },
      "text/plain": [
       "metrics.json:   0%|          | 0.00/62.0 [00:00<?, ?B/s]"
      ]
     },
     "metadata": {},
     "output_type": "display_data"
    },
    {
     "data": {
      "application/vnd.jupyter.widget-view+json": {
       "model_id": "99081477ba634e6ba7b6fb5e6e39ad62",
       "version_major": 2,
       "version_minor": 0
      },
      "text/plain": [
       "cfg.json:   0%|          | 0.00/139 [00:00<?, ?B/s]"
      ]
     },
     "metadata": {},
     "output_type": "display_data"
    },
    {
     "data": {
      "application/vnd.jupyter.widget-view+json": {
       "model_id": "6033583a15014841aa1247497c3e31f7",
       "version_major": 2,
       "version_minor": 0
      },
      "text/plain": [
       "cfg.json:   0%|          | 0.00/139 [00:00<?, ?B/s]"
      ]
     },
     "metadata": {},
     "output_type": "display_data"
    },
    {
     "data": {
      "application/vnd.jupyter.widget-view+json": {
       "model_id": "7e290c86fbc44786a4f4d9397b8fc5be",
       "version_major": 2,
       "version_minor": 0
      },
      "text/plain": [
       "metrics.json:   0%|          | 0.00/63.0 [00:00<?, ?B/s]"
      ]
     },
     "metadata": {},
     "output_type": "display_data"
    },
    {
     "data": {
      "application/vnd.jupyter.widget-view+json": {
       "model_id": "183cf68836a345a6813b63947b26f18d",
       "version_major": 2,
       "version_minor": 0
      },
      "text/plain": [
       "sae.safetensors:   0%|          | 0.00/96.4M [00:00<?, ?B/s]"
      ]
     },
     "metadata": {},
     "output_type": "display_data"
    },
    {
     "data": {
      "application/vnd.jupyter.widget-view+json": {
       "model_id": "972bb735a6584adf941288c96df9fa34",
       "version_major": 2,
       "version_minor": 0
      },
      "text/plain": [
       "cfg.json:   0%|          | 0.00/139 [00:00<?, ?B/s]"
      ]
     },
     "metadata": {},
     "output_type": "display_data"
    },
    {
     "data": {
      "application/vnd.jupyter.widget-view+json": {
       "model_id": "bd45732aac1241009e9315b5c0f86265",
       "version_major": 2,
       "version_minor": 0
      },
      "text/plain": [
       "sae.safetensors:   0%|          | 0.00/96.4M [00:00<?, ?B/s]"
      ]
     },
     "metadata": {},
     "output_type": "display_data"
    },
    {
     "data": {
      "application/vnd.jupyter.widget-view+json": {
       "model_id": "ea590dcc203840d793845ceea47617e5",
       "version_major": 2,
       "version_minor": 0
      },
      "text/plain": [
       "metrics.json:   0%|          | 0.00/62.0 [00:00<?, ?B/s]"
      ]
     },
     "metadata": {},
     "output_type": "display_data"
    },
    {
     "data": {
      "application/vnd.jupyter.widget-view+json": {
       "model_id": "441d00ac359a496691f84d299e921a52",
       "version_major": 2,
       "version_minor": 0
      },
      "text/plain": [
       "metrics.json:   0%|          | 0.00/61.0 [00:00<?, ?B/s]"
      ]
     },
     "metadata": {},
     "output_type": "display_data"
    },
    {
     "data": {
      "application/vnd.jupyter.widget-view+json": {
       "model_id": "c7d1d5cd21e44e6f9cac09d2ca66249c",
       "version_major": 2,
       "version_minor": 0
      },
      "text/plain": [
       "cfg.json:   0%|          | 0.00/139 [00:00<?, ?B/s]"
      ]
     },
     "metadata": {},
     "output_type": "display_data"
    },
    {
     "data": {
      "application/vnd.jupyter.widget-view+json": {
       "model_id": "a18dc44a7d6045c580b96585c70734bd",
       "version_major": 2,
       "version_minor": 0
      },
      "text/plain": [
       "sae.safetensors:   0%|          | 0.00/96.4M [00:00<?, ?B/s]"
      ]
     },
     "metadata": {},
     "output_type": "display_data"
    },
    {
     "data": {
      "application/vnd.jupyter.widget-view+json": {
       "model_id": "5c63b389b63045599c9ef46725532c27",
       "version_major": 2,
       "version_minor": 0
      },
      "text/plain": [
       "metrics.json:   0%|          | 0.00/64.0 [00:00<?, ?B/s]"
      ]
     },
     "metadata": {},
     "output_type": "display_data"
    },
    {
     "data": {
      "application/vnd.jupyter.widget-view+json": {
       "model_id": "1c18724ac1c34547a8ef2a8159e42a52",
       "version_major": 2,
       "version_minor": 0
      },
      "text/plain": [
       "sae.safetensors:   0%|          | 0.00/96.4M [00:00<?, ?B/s]"
      ]
     },
     "metadata": {},
     "output_type": "display_data"
    },
    {
     "data": {
      "application/vnd.jupyter.widget-view+json": {
       "model_id": "73e35418e8e340278d2fd2b2ccd4d516",
       "version_major": 2,
       "version_minor": 0
      },
      "text/plain": [
       "cfg.json:   0%|          | 0.00/139 [00:00<?, ?B/s]"
      ]
     },
     "metadata": {},
     "output_type": "display_data"
    },
    {
     "data": {
      "application/vnd.jupyter.widget-view+json": {
       "model_id": "6a2d42658e9d4366ba8f488bc856a575",
       "version_major": 2,
       "version_minor": 0
      },
      "text/plain": [
       "metrics.json:   0%|          | 0.00/61.0 [00:00<?, ?B/s]"
      ]
     },
     "metadata": {},
     "output_type": "display_data"
    },
    {
     "data": {
      "application/vnd.jupyter.widget-view+json": {
       "model_id": "75fc6e23013743869dbfd9bdacff91b3",
       "version_major": 2,
       "version_minor": 0
      },
      "text/plain": [
       "cfg.json:   0%|          | 0.00/139 [00:00<?, ?B/s]"
      ]
     },
     "metadata": {},
     "output_type": "display_data"
    },
    {
     "data": {
      "application/vnd.jupyter.widget-view+json": {
       "model_id": "9c8197d4771740399c1adf670c94724e",
       "version_major": 2,
       "version_minor": 0
      },
      "text/plain": [
       "metrics.json:   0%|          | 0.00/63.0 [00:00<?, ?B/s]"
      ]
     },
     "metadata": {},
     "output_type": "display_data"
    },
    {
     "data": {
      "application/vnd.jupyter.widget-view+json": {
       "model_id": "40e5d1fa522143368f95c62561c47ece",
       "version_major": 2,
       "version_minor": 0
      },
      "text/plain": [
       "sae.safetensors:   0%|          | 0.00/96.4M [00:00<?, ?B/s]"
      ]
     },
     "metadata": {},
     "output_type": "display_data"
    },
    {
     "data": {
      "application/vnd.jupyter.widget-view+json": {
       "model_id": "f952dcb9bff74170aa540bd7966e7091",
       "version_major": 2,
       "version_minor": 0
      },
      "text/plain": [
       "cfg.json:   0%|          | 0.00/139 [00:00<?, ?B/s]"
      ]
     },
     "metadata": {},
     "output_type": "display_data"
    },
    {
     "data": {
      "application/vnd.jupyter.widget-view+json": {
       "model_id": "c1b33057eb4940cf91a3020f24949043",
       "version_major": 2,
       "version_minor": 0
      },
      "text/plain": [
       "metrics.json:   0%|          | 0.00/62.0 [00:00<?, ?B/s]"
      ]
     },
     "metadata": {},
     "output_type": "display_data"
    },
    {
     "data": {
      "application/vnd.jupyter.widget-view+json": {
       "model_id": "a18cf6f446414a3f87c9cf032a824bc6",
       "version_major": 2,
       "version_minor": 0
      },
      "text/plain": [
       "sae.safetensors:   0%|          | 0.00/96.4M [00:00<?, ?B/s]"
      ]
     },
     "metadata": {},
     "output_type": "display_data"
    },
    {
     "data": {
      "application/vnd.jupyter.widget-view+json": {
       "model_id": "2071bfe331aa431f8c9aa6974656d9be",
       "version_major": 2,
       "version_minor": 0
      },
      "text/plain": [
       "cfg.json:   0%|          | 0.00/139 [00:00<?, ?B/s]"
      ]
     },
     "metadata": {},
     "output_type": "display_data"
    },
    {
     "data": {
      "application/vnd.jupyter.widget-view+json": {
       "model_id": "a5dfe0e4364e4c7f842bfa5f9fad957f",
       "version_major": 2,
       "version_minor": 0
      },
      "text/plain": [
       "sae.safetensors:   0%|          | 0.00/96.4M [00:00<?, ?B/s]"
      ]
     },
     "metadata": {},
     "output_type": "display_data"
    },
    {
     "data": {
      "application/vnd.jupyter.widget-view+json": {
       "model_id": "e83c7bb846464230bde6cf84a46c1f86",
       "version_major": 2,
       "version_minor": 0
      },
      "text/plain": [
       "metrics.json:   0%|          | 0.00/64.0 [00:00<?, ?B/s]"
      ]
     },
     "metadata": {},
     "output_type": "display_data"
    },
    {
     "data": {
      "application/vnd.jupyter.widget-view+json": {
       "model_id": "cc2ba35deb424f33b402885b78da9c35",
       "version_major": 2,
       "version_minor": 0
      },
      "text/plain": [
       "sae.safetensors:   0%|          | 0.00/96.4M [00:00<?, ?B/s]"
      ]
     },
     "metadata": {},
     "output_type": "display_data"
    },
    {
     "data": {
      "application/vnd.jupyter.widget-view+json": {
       "model_id": "c08a73713b9a424c8b6a94c3dbd25939",
       "version_major": 2,
       "version_minor": 0
      },
      "text/plain": [
       "metrics.json:   0%|          | 0.00/63.0 [00:00<?, ?B/s]"
      ]
     },
     "metadata": {},
     "output_type": "display_data"
    },
    {
     "data": {
      "application/vnd.jupyter.widget-view+json": {
       "model_id": "51f2aeeb5fe14dd988a2354e2fe5d6b3",
       "version_major": 2,
       "version_minor": 0
      },
      "text/plain": [
       "cfg.json:   0%|          | 0.00/139 [00:00<?, ?B/s]"
      ]
     },
     "metadata": {},
     "output_type": "display_data"
    },
    {
     "data": {
      "application/vnd.jupyter.widget-view+json": {
       "model_id": "7107403ffd1d4236992d58d37d386d8e",
       "version_major": 2,
       "version_minor": 0
      },
      "text/plain": [
       "cfg.json:   0%|          | 0.00/139 [00:00<?, ?B/s]"
      ]
     },
     "metadata": {},
     "output_type": "display_data"
    },
    {
     "data": {
      "application/vnd.jupyter.widget-view+json": {
       "model_id": "08ec00d4b9a9478b870dac9150bb3062",
       "version_major": 2,
       "version_minor": 0
      },
      "text/plain": [
       "metrics.json:   0%|          | 0.00/65.0 [00:00<?, ?B/s]"
      ]
     },
     "metadata": {},
     "output_type": "display_data"
    },
    {
     "data": {
      "application/vnd.jupyter.widget-view+json": {
       "model_id": "92ddb1e28dad439bab4e32da017e3f76",
       "version_major": 2,
       "version_minor": 0
      },
      "text/plain": [
       "sae.safetensors:   0%|          | 0.00/96.4M [00:00<?, ?B/s]"
      ]
     },
     "metadata": {},
     "output_type": "display_data"
    },
    {
     "data": {
      "application/vnd.jupyter.widget-view+json": {
       "model_id": "3469e46add8f4c8190a7e6db133d44d9",
       "version_major": 2,
       "version_minor": 0
      },
      "text/plain": [
       "sae.safetensors:   0%|          | 0.00/96.4M [00:00<?, ?B/s]"
      ]
     },
     "metadata": {},
     "output_type": "display_data"
    },
    {
     "data": {
      "application/vnd.jupyter.widget-view+json": {
       "model_id": "baf91a0cb02f4f7eb10fe8731e05108d",
       "version_major": 2,
       "version_minor": 0
      },
      "text/plain": [
       "cfg.json:   0%|          | 0.00/139 [00:00<?, ?B/s]"
      ]
     },
     "metadata": {},
     "output_type": "display_data"
    },
    {
     "data": {
      "application/vnd.jupyter.widget-view+json": {
       "model_id": "631dcc88e5f84bc6ab013a0b03b84f2a",
       "version_major": 2,
       "version_minor": 0
      },
      "text/plain": [
       "cfg.json:   0%|          | 0.00/139 [00:00<?, ?B/s]"
      ]
     },
     "metadata": {},
     "output_type": "display_data"
    },
    {
     "data": {
      "application/vnd.jupyter.widget-view+json": {
       "model_id": "fe229e6a44d54f41b59c49963d696dcb",
       "version_major": 2,
       "version_minor": 0
      },
      "text/plain": [
       "metrics.json:   0%|          | 0.00/64.0 [00:00<?, ?B/s]"
      ]
     },
     "metadata": {},
     "output_type": "display_data"
    },
    {
     "data": {
      "application/vnd.jupyter.widget-view+json": {
       "model_id": "5ba793ca48fb4b8bada0f133fe9344ea",
       "version_major": 2,
       "version_minor": 0
      },
      "text/plain": [
       "metrics.json:   0%|          | 0.00/64.0 [00:00<?, ?B/s]"
      ]
     },
     "metadata": {},
     "output_type": "display_data"
    },
    {
     "data": {
      "application/vnd.jupyter.widget-view+json": {
       "model_id": "43fb92754c57410082f4cd75e9f896ce",
       "version_major": 2,
       "version_minor": 0
      },
      "text/plain": [
       "sae.safetensors:   0%|          | 0.00/96.4M [00:00<?, ?B/s]"
      ]
     },
     "metadata": {},
     "output_type": "display_data"
    },
    {
     "data": {
      "application/vnd.jupyter.widget-view+json": {
       "model_id": "d3ddfdb91a4b44a7803d40e7893088d6",
       "version_major": 2,
       "version_minor": 0
      },
      "text/plain": [
       "sae.safetensors:   0%|          | 0.00/96.4M [00:00<?, ?B/s]"
      ]
     },
     "metadata": {},
     "output_type": "display_data"
    },
    {
     "data": {
      "application/vnd.jupyter.widget-view+json": {
       "model_id": "2d1f279bda0e415c942fc687640d2f5a",
       "version_major": 2,
       "version_minor": 0
      },
      "text/plain": [
       "cfg.json:   0%|          | 0.00/139 [00:00<?, ?B/s]"
      ]
     },
     "metadata": {},
     "output_type": "display_data"
    },
    {
     "data": {
      "application/vnd.jupyter.widget-view+json": {
       "model_id": "03d9f66faca04e37b376b0eb20dcb157",
       "version_major": 2,
       "version_minor": 0
      },
      "text/plain": [
       "metrics.json:   0%|          | 0.00/63.0 [00:00<?, ?B/s]"
      ]
     },
     "metadata": {},
     "output_type": "display_data"
    },
    {
     "data": {
      "application/vnd.jupyter.widget-view+json": {
       "model_id": "9fcfdb6c76744aaeb6a4081d589ccdad",
       "version_major": 2,
       "version_minor": 0
      },
      "text/plain": [
       "cfg.json:   0%|          | 0.00/139 [00:00<?, ?B/s]"
      ]
     },
     "metadata": {},
     "output_type": "display_data"
    },
    {
     "data": {
      "application/vnd.jupyter.widget-view+json": {
       "model_id": "0fe76c9f53f04845a905b6f16d7fdcae",
       "version_major": 2,
       "version_minor": 0
      },
      "text/plain": [
       "sae.safetensors:   0%|          | 0.00/96.4M [00:00<?, ?B/s]"
      ]
     },
     "metadata": {},
     "output_type": "display_data"
    },
    {
     "data": {
      "application/vnd.jupyter.widget-view+json": {
       "model_id": "675b949e8e3d41aa8fdb8652a41e35d6",
       "version_major": 2,
       "version_minor": 0
      },
      "text/plain": [
       "metrics.json:   0%|          | 0.00/46.0 [00:00<?, ?B/s]"
      ]
     },
     "metadata": {},
     "output_type": "display_data"
    },
    {
     "data": {
      "application/vnd.jupyter.widget-view+json": {
       "model_id": "45bbf0b064914846a83c4fe09980ee80",
       "version_major": 2,
       "version_minor": 0
      },
      "text/plain": [
       "cfg.json:   0%|          | 0.00/139 [00:00<?, ?B/s]"
      ]
     },
     "metadata": {},
     "output_type": "display_data"
    },
    {
     "data": {
      "application/vnd.jupyter.widget-view+json": {
       "model_id": "2afca447d33145a392239356880d7423",
       "version_major": 2,
       "version_minor": 0
      },
      "text/plain": [
       "metrics.json:   0%|          | 0.00/64.0 [00:00<?, ?B/s]"
      ]
     },
     "metadata": {},
     "output_type": "display_data"
    },
    {
     "data": {
      "application/vnd.jupyter.widget-view+json": {
       "model_id": "9a3d4c083969459eb803230aa9165f89",
       "version_major": 2,
       "version_minor": 0
      },
      "text/plain": [
       "sae.safetensors:   0%|          | 0.00/96.4M [00:00<?, ?B/s]"
      ]
     },
     "metadata": {},
     "output_type": "display_data"
    },
    {
     "data": {
      "application/vnd.jupyter.widget-view+json": {
       "model_id": "834b3320d9e74fddab563b9fec2ee661",
       "version_major": 2,
       "version_minor": 0
      },
      "text/plain": [
       "sae.safetensors:   0%|          | 0.00/96.4M [00:00<?, ?B/s]"
      ]
     },
     "metadata": {},
     "output_type": "display_data"
    },
    {
     "data": {
      "application/vnd.jupyter.widget-view+json": {
       "model_id": "e000698387e8447892721f661137205c",
       "version_major": 2,
       "version_minor": 0
      },
      "text/plain": [
       "cfg.json:   0%|          | 0.00/139 [00:00<?, ?B/s]"
      ]
     },
     "metadata": {},
     "output_type": "display_data"
    },
    {
     "data": {
      "application/vnd.jupyter.widget-view+json": {
       "model_id": "47130fc108fe4f50ab195ff113a7808a",
       "version_major": 2,
       "version_minor": 0
      },
      "text/plain": [
       "metrics.json:   0%|          | 0.00/65.0 [00:00<?, ?B/s]"
      ]
     },
     "metadata": {},
     "output_type": "display_data"
    },
    {
     "data": {
      "application/vnd.jupyter.widget-view+json": {
       "model_id": "bb52681f87ef4d758e1fc12314d9336c",
       "version_major": 2,
       "version_minor": 0
      },
      "text/plain": [
       "cfg.json:   0%|          | 0.00/139 [00:00<?, ?B/s]"
      ]
     },
     "metadata": {},
     "output_type": "display_data"
    },
    {
     "data": {
      "application/vnd.jupyter.widget-view+json": {
       "model_id": "61753118e0204b06baa4d7b54be7dbc9",
       "version_major": 2,
       "version_minor": 0
      },
      "text/plain": [
       "metrics.json:   0%|          | 0.00/64.0 [00:00<?, ?B/s]"
      ]
     },
     "metadata": {},
     "output_type": "display_data"
    },
    {
     "data": {
      "application/vnd.jupyter.widget-view+json": {
       "model_id": "f5c2ea0f117f4723917a36f420c638d1",
       "version_major": 2,
       "version_minor": 0
      },
      "text/plain": [
       "sae.safetensors:   0%|          | 0.00/96.4M [00:00<?, ?B/s]"
      ]
     },
     "metadata": {},
     "output_type": "display_data"
    },
    {
     "data": {
      "application/vnd.jupyter.widget-view+json": {
       "model_id": "bc0a8489ffb94e23b0bc007287fa26ef",
       "version_major": 2,
       "version_minor": 0
      },
      "text/plain": [
       "cfg.json:   0%|          | 0.00/139 [00:00<?, ?B/s]"
      ]
     },
     "metadata": {},
     "output_type": "display_data"
    },
    {
     "data": {
      "application/vnd.jupyter.widget-view+json": {
       "model_id": "3f3f97c05a10431386fd30efad3b8606",
       "version_major": 2,
       "version_minor": 0
      },
      "text/plain": [
       "metrics.json:   0%|          | 0.00/63.0 [00:00<?, ?B/s]"
      ]
     },
     "metadata": {},
     "output_type": "display_data"
    },
    {
     "data": {
      "application/vnd.jupyter.widget-view+json": {
       "model_id": "65fd657f85dc4819a43377d2f6b380e6",
       "version_major": 2,
       "version_minor": 0
      },
      "text/plain": [
       "sae.safetensors:   0%|          | 0.00/96.4M [00:00<?, ?B/s]"
      ]
     },
     "metadata": {},
     "output_type": "display_data"
    },
    {
     "data": {
      "application/vnd.jupyter.widget-view+json": {
       "model_id": "9fad8250583a4f1da3882b4af00372b7",
       "version_major": 2,
       "version_minor": 0
      },
      "text/plain": [
       "sae.safetensors:   0%|          | 0.00/96.4M [00:00<?, ?B/s]"
      ]
     },
     "metadata": {},
     "output_type": "display_data"
    },
    {
     "data": {
      "application/vnd.jupyter.widget-view+json": {
       "model_id": "d0e06d46c6ca40149521d218da524273",
       "version_major": 2,
       "version_minor": 0
      },
      "text/plain": [
       "cfg.json:   0%|          | 0.00/139 [00:00<?, ?B/s]"
      ]
     },
     "metadata": {},
     "output_type": "display_data"
    },
    {
     "data": {
      "application/vnd.jupyter.widget-view+json": {
       "model_id": "84c9a61bebf84e5ebcfdba6eceb016ca",
       "version_major": 2,
       "version_minor": 0
      },
      "text/plain": [
       "metrics.json:   0%|          | 0.00/64.0 [00:00<?, ?B/s]"
      ]
     },
     "metadata": {},
     "output_type": "display_data"
    },
    {
     "data": {
      "application/vnd.jupyter.widget-view+json": {
       "model_id": "afce3b59828540a5b21be8f158f4e31d",
       "version_major": 2,
       "version_minor": 0
      },
      "text/plain": [
       "cfg.json:   0%|          | 0.00/139 [00:00<?, ?B/s]"
      ]
     },
     "metadata": {},
     "output_type": "display_data"
    },
    {
     "data": {
      "application/vnd.jupyter.widget-view+json": {
       "model_id": "b4a4f34f39b44a779e0143014bacec8c",
       "version_major": 2,
       "version_minor": 0
      },
      "text/plain": [
       "sae.safetensors:   0%|          | 0.00/96.4M [00:00<?, ?B/s]"
      ]
     },
     "metadata": {},
     "output_type": "display_data"
    },
    {
     "data": {
      "application/vnd.jupyter.widget-view+json": {
       "model_id": "e8b7dace298a47b38114b9622d563e9a",
       "version_major": 2,
       "version_minor": 0
      },
      "text/plain": [
       "metrics.json:   0%|          | 0.00/64.0 [00:00<?, ?B/s]"
      ]
     },
     "metadata": {},
     "output_type": "display_data"
    },
    {
     "data": {
      "application/vnd.jupyter.widget-view+json": {
       "model_id": "ecba05877f8647d394764823063635b7",
       "version_major": 2,
       "version_minor": 0
      },
      "text/plain": [
       "cfg.json:   0%|          | 0.00/139 [00:00<?, ?B/s]"
      ]
     },
     "metadata": {},
     "output_type": "display_data"
    },
    {
     "data": {
      "application/vnd.jupyter.widget-view+json": {
       "model_id": "643b1d63396b4429885c40c394930c0e",
       "version_major": 2,
       "version_minor": 0
      },
      "text/plain": [
       "sae.safetensors:   0%|          | 0.00/96.4M [00:00<?, ?B/s]"
      ]
     },
     "metadata": {},
     "output_type": "display_data"
    },
    {
     "data": {
      "application/vnd.jupyter.widget-view+json": {
       "model_id": "308902f2e4294ddba7db11fbb3e96787",
       "version_major": 2,
       "version_minor": 0
      },
      "text/plain": [
       "metrics.json:   0%|          | 0.00/63.0 [00:00<?, ?B/s]"
      ]
     },
     "metadata": {},
     "output_type": "display_data"
    },
    {
     "data": {
      "application/vnd.jupyter.widget-view+json": {
       "model_id": "1f22d70bb66a4c32a92566ee3b99a582",
       "version_major": 2,
       "version_minor": 0
      },
      "text/plain": [
       "sae.safetensors:   0%|          | 0.00/96.4M [00:00<?, ?B/s]"
      ]
     },
     "metadata": {},
     "output_type": "display_data"
    },
    {
     "data": {
      "application/vnd.jupyter.widget-view+json": {
       "model_id": "d1e223db0d404e20b730eca399302f9a",
       "version_major": 2,
       "version_minor": 0
      },
      "text/plain": [
       "cfg.json:   0%|          | 0.00/139 [00:00<?, ?B/s]"
      ]
     },
     "metadata": {},
     "output_type": "display_data"
    },
    {
     "data": {
      "application/vnd.jupyter.widget-view+json": {
       "model_id": "7d936a75d18f44078b4f6d23408a50a6",
       "version_major": 2,
       "version_minor": 0
      },
      "text/plain": [
       "metrics.json:   0%|          | 0.00/63.0 [00:00<?, ?B/s]"
      ]
     },
     "metadata": {},
     "output_type": "display_data"
    },
    {
     "data": {
      "application/vnd.jupyter.widget-view+json": {
       "model_id": "adb0c943670f411f853eaa8dea33de74",
       "version_major": 2,
       "version_minor": 0
      },
      "text/plain": [
       "cfg.json:   0%|          | 0.00/139 [00:00<?, ?B/s]"
      ]
     },
     "metadata": {},
     "output_type": "display_data"
    },
    {
     "data": {
      "application/vnd.jupyter.widget-view+json": {
       "model_id": "f28b4758941c4ecea24eff997d70e406",
       "version_major": 2,
       "version_minor": 0
      },
      "text/plain": [
       "sae.safetensors:   0%|          | 0.00/96.4M [00:00<?, ?B/s]"
      ]
     },
     "metadata": {},
     "output_type": "display_data"
    },
    {
     "data": {
      "application/vnd.jupyter.widget-view+json": {
       "model_id": "d18417d274584fda9879e7f92a016283",
       "version_major": 2,
       "version_minor": 0
      },
      "text/plain": [
       "metrics.json:   0%|          | 0.00/64.0 [00:00<?, ?B/s]"
      ]
     },
     "metadata": {},
     "output_type": "display_data"
    },
    {
     "data": {
      "application/vnd.jupyter.widget-view+json": {
       "model_id": "4decc5aa4edb449e9566935e78cc1f42",
       "version_major": 2,
       "version_minor": 0
      },
      "text/plain": [
       "cfg.json:   0%|          | 0.00/139 [00:00<?, ?B/s]"
      ]
     },
     "metadata": {},
     "output_type": "display_data"
    },
    {
     "data": {
      "application/vnd.jupyter.widget-view+json": {
       "model_id": "2ab7fa96de254541a43ecdec4042e3ea",
       "version_major": 2,
       "version_minor": 0
      },
      "text/plain": [
       "sae.safetensors:   0%|          | 0.00/96.4M [00:00<?, ?B/s]"
      ]
     },
     "metadata": {},
     "output_type": "display_data"
    },
    {
     "data": {
      "application/vnd.jupyter.widget-view+json": {
       "model_id": "3f8c49c9fa804fbb858cf2353a85d3ab",
       "version_major": 2,
       "version_minor": 0
      },
      "text/plain": [
       "metrics.json:   0%|          | 0.00/61.0 [00:00<?, ?B/s]"
      ]
     },
     "metadata": {},
     "output_type": "display_data"
    },
    {
     "data": {
      "application/vnd.jupyter.widget-view+json": {
       "model_id": "3b9482bbacfa47eb991a16ddfbb0d949",
       "version_major": 2,
       "version_minor": 0
      },
      "text/plain": [
       "cfg.json:   0%|          | 0.00/139 [00:00<?, ?B/s]"
      ]
     },
     "metadata": {},
     "output_type": "display_data"
    },
    {
     "data": {
      "application/vnd.jupyter.widget-view+json": {
       "model_id": "7309ab21ccca45adaeecd4deea1f9371",
       "version_major": 2,
       "version_minor": 0
      },
      "text/plain": [
       "sae.safetensors:   0%|          | 0.00/96.4M [00:00<?, ?B/s]"
      ]
     },
     "metadata": {},
     "output_type": "display_data"
    },
    {
     "data": {
      "application/vnd.jupyter.widget-view+json": {
       "model_id": "a8ab2a75546d4194a34ebd814f23b3f8",
       "version_major": 2,
       "version_minor": 0
      },
      "text/plain": [
       "metrics.json:   0%|          | 0.00/64.0 [00:00<?, ?B/s]"
      ]
     },
     "metadata": {},
     "output_type": "display_data"
    },
    {
     "data": {
      "application/vnd.jupyter.widget-view+json": {
       "model_id": "96a4d72e7be04c819ae664f605540faf",
       "version_major": 2,
       "version_minor": 0
      },
      "text/plain": [
       "sae.safetensors:   0%|          | 0.00/96.4M [00:00<?, ?B/s]"
      ]
     },
     "metadata": {},
     "output_type": "display_data"
    },
    {
     "data": {
      "application/vnd.jupyter.widget-view+json": {
       "model_id": "784637351d9d44a39a482037c469479c",
       "version_major": 2,
       "version_minor": 0
      },
      "text/plain": [
       "cfg.json:   0%|          | 0.00/139 [00:00<?, ?B/s]"
      ]
     },
     "metadata": {},
     "output_type": "display_data"
    },
    {
     "data": {
      "application/vnd.jupyter.widget-view+json": {
       "model_id": "70c85a7040a84164996324aea37dc871",
       "version_major": 2,
       "version_minor": 0
      },
      "text/plain": [
       "metrics.json:   0%|          | 0.00/64.0 [00:00<?, ?B/s]"
      ]
     },
     "metadata": {},
     "output_type": "display_data"
    },
    {
     "data": {
      "application/vnd.jupyter.widget-view+json": {
       "model_id": "554df5f9c3b54448b08f78d49e909f8e",
       "version_major": 2,
       "version_minor": 0
      },
      "text/plain": [
       "sae.safetensors:   0%|          | 0.00/96.4M [00:00<?, ?B/s]"
      ]
     },
     "metadata": {},
     "output_type": "display_data"
    },
    {
     "data": {
      "application/vnd.jupyter.widget-view+json": {
       "model_id": "dacf29f4daf647c380eb2111bf7ce759",
       "version_major": 2,
       "version_minor": 0
      },
      "text/plain": [
       "cfg.json:   0%|          | 0.00/139 [00:00<?, ?B/s]"
      ]
     },
     "metadata": {},
     "output_type": "display_data"
    },
    {
     "data": {
      "application/vnd.jupyter.widget-view+json": {
       "model_id": "c4668b5df29043c580be24748ad1e2b2",
       "version_major": 2,
       "version_minor": 0
      },
      "text/plain": [
       "metrics.json:   0%|          | 0.00/64.0 [00:00<?, ?B/s]"
      ]
     },
     "metadata": {},
     "output_type": "display_data"
    },
    {
     "data": {
      "application/vnd.jupyter.widget-view+json": {
       "model_id": "d9a38eff57754f90ba3d2064dd23a865",
       "version_major": 2,
       "version_minor": 0
      },
      "text/plain": [
       "state.pt:   0%|          | 0.00/3.23M [00:00<?, ?B/s]"
      ]
     },
     "metadata": {},
     "output_type": "display_data"
    },
    {
     "data": {
      "application/vnd.jupyter.widget-view+json": {
       "model_id": "4114d1680d914b939db0b90df9ee2a45",
       "version_major": 2,
       "version_minor": 0
      },
      "text/plain": [
       "model_config.json:   0%|          | 0.00/182 [00:00<?, ?B/s]"
      ]
     },
     "metadata": {},
     "output_type": "display_data"
    },
    {
     "data": {
      "application/vnd.jupyter.widget-view+json": {
       "model_id": "6524e6d197894e1a9ca0c1d4376f6c04",
       "version_major": 2,
       "version_minor": 0
      },
      "text/plain": [
       "optimizer.pt:   0%|          | 0.00/1.47G [00:00<?, ?B/s]"
      ]
     },
     "metadata": {},
     "output_type": "display_data"
    },
    {
     "data": {
      "application/vnd.jupyter.widget-view+json": {
       "model_id": "76d0eb8999a44a5395c3981d18ecaa73",
       "version_major": 2,
       "version_minor": 0
      },
      "text/plain": [
       "lr_scheduler.pt:   0%|          | 0.00/1.65k [00:00<?, ?B/s]"
      ]
     },
     "metadata": {},
     "output_type": "display_data"
    },
    {
     "data": {
      "application/vnd.jupyter.widget-view+json": {
       "model_id": "12e1eb9edfa64e7c91729ead4a158136",
       "version_major": 2,
       "version_minor": 0
      },
      "text/plain": [
       "config.json:   0%|          | 0.00/1.54k [00:00<?, ?B/s]"
      ]
     },
     "metadata": {},
     "output_type": "display_data"
    },
    {
     "data": {
      "application/vnd.jupyter.widget-view+json": {
       "model_id": "ebe1372e1cf041a68dea84f2a8b71fea",
       "version_major": 2,
       "version_minor": 0
      },
      "text/plain": [
       "cfg.json:   0%|          | 0.00/139 [00:00<?, ?B/s]"
      ]
     },
     "metadata": {},
     "output_type": "display_data"
    },
    {
     "data": {
      "application/vnd.jupyter.widget-view+json": {
       "model_id": "f16aa2c88c444802b38bc65932cce39a",
       "version_major": 2,
       "version_minor": 0
      },
      "text/plain": [
       "sae.safetensors:   0%|          | 0.00/96.4M [00:00<?, ?B/s]"
      ]
     },
     "metadata": {},
     "output_type": "display_data"
    },
    {
     "data": {
      "application/vnd.jupyter.widget-view+json": {
       "model_id": "390fb6d7357946b88c29fa618010620d",
       "version_major": 2,
       "version_minor": 0
      },
      "text/plain": [
       "metrics.json:   0%|          | 0.00/63.0 [00:00<?, ?B/s]"
      ]
     },
     "metadata": {},
     "output_type": "display_data"
    },
    {
     "data": {
      "application/vnd.jupyter.widget-view+json": {
       "model_id": "1d761024174048d885332171c35038cf",
       "version_major": 2,
       "version_minor": 0
      },
      "text/plain": [
       "cfg.json:   0%|          | 0.00/139 [00:00<?, ?B/s]"
      ]
     },
     "metadata": {},
     "output_type": "display_data"
    },
    {
     "data": {
      "application/vnd.jupyter.widget-view+json": {
       "model_id": "7d3d801d2da144b0af61b19388221199",
       "version_major": 2,
       "version_minor": 0
      },
      "text/plain": [
       "sae.safetensors:   0%|          | 0.00/96.4M [00:00<?, ?B/s]"
      ]
     },
     "metadata": {},
     "output_type": "display_data"
    },
    {
     "data": {
      "application/vnd.jupyter.widget-view+json": {
       "model_id": "d83bd383932049439a62cc215f6ab04e",
       "version_major": 2,
       "version_minor": 0
      },
      "text/plain": [
       "metrics.json:   0%|          | 0.00/64.0 [00:00<?, ?B/s]"
      ]
     },
     "metadata": {},
     "output_type": "display_data"
    },
    {
     "data": {
      "application/vnd.jupyter.widget-view+json": {
       "model_id": "1c78707e30474d9db23225a52b72869f",
       "version_major": 2,
       "version_minor": 0
      },
      "text/plain": [
       "sae.safetensors:   0%|          | 0.00/96.4M [00:00<?, ?B/s]"
      ]
     },
     "metadata": {},
     "output_type": "display_data"
    },
    {
     "data": {
      "application/vnd.jupyter.widget-view+json": {
       "model_id": "105adf577f404e6386531eefc496982d",
       "version_major": 2,
       "version_minor": 0
      },
      "text/plain": [
       "cfg.json:   0%|          | 0.00/139 [00:00<?, ?B/s]"
      ]
     },
     "metadata": {},
     "output_type": "display_data"
    },
    {
     "data": {
      "application/vnd.jupyter.widget-view+json": {
       "model_id": "0019d8c78cac4e2b990e9d93cf0e9134",
       "version_major": 2,
       "version_minor": 0
      },
      "text/plain": [
       "metrics.json:   0%|          | 0.00/52.0 [00:00<?, ?B/s]"
      ]
     },
     "metadata": {},
     "output_type": "display_data"
    },
    {
     "data": {
      "application/vnd.jupyter.widget-view+json": {
       "model_id": "c27fc4e0ad0840de8eaa71991527fff5",
       "version_major": 2,
       "version_minor": 0
      },
      "text/plain": [
       "cfg.json:   0%|          | 0.00/139 [00:00<?, ?B/s]"
      ]
     },
     "metadata": {},
     "output_type": "display_data"
    },
    {
     "data": {
      "application/vnd.jupyter.widget-view+json": {
       "model_id": "e8b1652fd3214b9bb26e573b7c1f97d6",
       "version_major": 2,
       "version_minor": 0
      },
      "text/plain": [
       "sae.safetensors:   0%|          | 0.00/96.4M [00:00<?, ?B/s]"
      ]
     },
     "metadata": {},
     "output_type": "display_data"
    },
    {
     "data": {
      "application/vnd.jupyter.widget-view+json": {
       "model_id": "3607b8216e47468d9db9a4116c2e1e69",
       "version_major": 2,
       "version_minor": 0
      },
      "text/plain": [
       "metrics.json:   0%|          | 0.00/64.0 [00:00<?, ?B/s]"
      ]
     },
     "metadata": {},
     "output_type": "display_data"
    },
    {
     "data": {
      "application/vnd.jupyter.widget-view+json": {
       "model_id": "b2d0c7d59e71488181cc4bad8277b6c8",
       "version_major": 2,
       "version_minor": 0
      },
      "text/plain": [
       "cfg.json:   0%|          | 0.00/139 [00:00<?, ?B/s]"
      ]
     },
     "metadata": {},
     "output_type": "display_data"
    },
    {
     "data": {
      "application/vnd.jupyter.widget-view+json": {
       "model_id": "18f2c1447a6c423cb094056391bb6606",
       "version_major": 2,
       "version_minor": 0
      },
      "text/plain": [
       "metrics.json:   0%|          | 0.00/64.0 [00:00<?, ?B/s]"
      ]
     },
     "metadata": {},
     "output_type": "display_data"
    },
    {
     "data": {
      "application/vnd.jupyter.widget-view+json": {
       "model_id": "3c28dca9221547e88cae630959a92832",
       "version_major": 2,
       "version_minor": 0
      },
      "text/plain": [
       "sae.safetensors:   0%|          | 0.00/96.4M [00:00<?, ?B/s]"
      ]
     },
     "metadata": {},
     "output_type": "display_data"
    },
    {
     "data": {
      "application/vnd.jupyter.widget-view+json": {
       "model_id": "4dfb8f011cc84026a34f77424cfc2d63",
       "version_major": 2,
       "version_minor": 0
      },
      "text/plain": [
       "cfg.json:   0%|          | 0.00/139 [00:00<?, ?B/s]"
      ]
     },
     "metadata": {},
     "output_type": "display_data"
    },
    {
     "data": {
      "application/vnd.jupyter.widget-view+json": {
       "model_id": "b09b7f8b60b54bec811ea9aa7756857c",
       "version_major": 2,
       "version_minor": 0
      },
      "text/plain": [
       "sae.safetensors:   0%|          | 0.00/96.4M [00:00<?, ?B/s]"
      ]
     },
     "metadata": {},
     "output_type": "display_data"
    },
    {
     "data": {
      "application/vnd.jupyter.widget-view+json": {
       "model_id": "cfbadecee74c4d66b32b38e507af09fc",
       "version_major": 2,
       "version_minor": 0
      },
      "text/plain": [
       "metrics.json:   0%|          | 0.00/62.0 [00:00<?, ?B/s]"
      ]
     },
     "metadata": {},
     "output_type": "display_data"
    },
    {
     "data": {
      "application/vnd.jupyter.widget-view+json": {
       "model_id": "2ef210feb73b4a3aa3d21f50834df900",
       "version_major": 2,
       "version_minor": 0
      },
      "text/plain": [
       "sae.safetensors:   0%|          | 0.00/96.4M [00:00<?, ?B/s]"
      ]
     },
     "metadata": {},
     "output_type": "display_data"
    },
    {
     "data": {
      "application/vnd.jupyter.widget-view+json": {
       "model_id": "b048e9604a3d466c8199416ab45601f5",
       "version_major": 2,
       "version_minor": 0
      },
      "text/plain": [
       "cfg.json:   0%|          | 0.00/139 [00:00<?, ?B/s]"
      ]
     },
     "metadata": {},
     "output_type": "display_data"
    },
    {
     "data": {
      "application/vnd.jupyter.widget-view+json": {
       "model_id": "6ee87ee5eeba4bc3bf02a2933ee0700c",
       "version_major": 2,
       "version_minor": 0
      },
      "text/plain": [
       "metrics.json:   0%|          | 0.00/64.0 [00:00<?, ?B/s]"
      ]
     },
     "metadata": {},
     "output_type": "display_data"
    },
    {
     "data": {
      "application/vnd.jupyter.widget-view+json": {
       "model_id": "0998debfdb544b18b7b2eaf99f08255c",
       "version_major": 2,
       "version_minor": 0
      },
      "text/plain": [
       "cfg.json:   0%|          | 0.00/139 [00:00<?, ?B/s]"
      ]
     },
     "metadata": {},
     "output_type": "display_data"
    },
    {
     "data": {
      "application/vnd.jupyter.widget-view+json": {
       "model_id": "78600384a4f04e87a038ac72820117bb",
       "version_major": 2,
       "version_minor": 0
      },
      "text/plain": [
       "metrics.json:   0%|          | 0.00/63.0 [00:00<?, ?B/s]"
      ]
     },
     "metadata": {},
     "output_type": "display_data"
    },
    {
     "data": {
      "application/vnd.jupyter.widget-view+json": {
       "model_id": "ac24ca011bd24588b430be9fd705f313",
       "version_major": 2,
       "version_minor": 0
      },
      "text/plain": [
       "sae.safetensors:   0%|          | 0.00/96.4M [00:00<?, ?B/s]"
      ]
     },
     "metadata": {},
     "output_type": "display_data"
    },
    {
     "data": {
      "application/vnd.jupyter.widget-view+json": {
       "model_id": "f5e751052c2a49819f2031a368cc2e4f",
       "version_major": 2,
       "version_minor": 0
      },
      "text/plain": [
       "cfg.json:   0%|          | 0.00/139 [00:00<?, ?B/s]"
      ]
     },
     "metadata": {},
     "output_type": "display_data"
    },
    {
     "data": {
      "application/vnd.jupyter.widget-view+json": {
       "model_id": "fa8bb936493f4122a88d1b983d561370",
       "version_major": 2,
       "version_minor": 0
      },
      "text/plain": [
       "metrics.json:   0%|          | 0.00/65.0 [00:00<?, ?B/s]"
      ]
     },
     "metadata": {},
     "output_type": "display_data"
    },
    {
     "data": {
      "application/vnd.jupyter.widget-view+json": {
       "model_id": "7e2c8331b64845e98f56e6348a0fb741",
       "version_major": 2,
       "version_minor": 0
      },
      "text/plain": [
       "sae.safetensors:   0%|          | 0.00/96.4M [00:00<?, ?B/s]"
      ]
     },
     "metadata": {},
     "output_type": "display_data"
    },
    {
     "data": {
      "application/vnd.jupyter.widget-view+json": {
       "model_id": "0488d707e4db425799a0dc6c1adb841b",
       "version_major": 2,
       "version_minor": 0
      },
      "text/plain": [
       "cfg.json:   0%|          | 0.00/139 [00:00<?, ?B/s]"
      ]
     },
     "metadata": {},
     "output_type": "display_data"
    },
    {
     "data": {
      "application/vnd.jupyter.widget-view+json": {
       "model_id": "7774d55662ce4e3eb08302d9e90b183e",
       "version_major": 2,
       "version_minor": 0
      },
      "text/plain": [
       "metrics.json:   0%|          | 0.00/64.0 [00:00<?, ?B/s]"
      ]
     },
     "metadata": {},
     "output_type": "display_data"
    },
    {
     "data": {
      "application/vnd.jupyter.widget-view+json": {
       "model_id": "80ecd7787dfb495493de3bde0deaa7e7",
       "version_major": 2,
       "version_minor": 0
      },
      "text/plain": [
       "metrics.json:   0%|          | 0.00/64.0 [00:00<?, ?B/s]"
      ]
     },
     "metadata": {},
     "output_type": "display_data"
    },
    {
     "data": {
      "application/vnd.jupyter.widget-view+json": {
       "model_id": "0383cf206c784c05b1ddc1a6bf85db84",
       "version_major": 2,
       "version_minor": 0
      },
      "text/plain": [
       "cfg.json:   0%|          | 0.00/139 [00:00<?, ?B/s]"
      ]
     },
     "metadata": {},
     "output_type": "display_data"
    },
    {
     "data": {
      "application/vnd.jupyter.widget-view+json": {
       "model_id": "3e17aacf407d4d11afdfd8efd02f007d",
       "version_major": 2,
       "version_minor": 0
      },
      "text/plain": [
       "sae.safetensors:   0%|          | 0.00/96.4M [00:00<?, ?B/s]"
      ]
     },
     "metadata": {},
     "output_type": "display_data"
    },
    {
     "data": {
      "application/vnd.jupyter.widget-view+json": {
       "model_id": "bd2b09fabb0949edb94915d961bf080a",
       "version_major": 2,
       "version_minor": 0
      },
      "text/plain": [
       "cfg.json:   0%|          | 0.00/139 [00:00<?, ?B/s]"
      ]
     },
     "metadata": {},
     "output_type": "display_data"
    },
    {
     "data": {
      "application/vnd.jupyter.widget-view+json": {
       "model_id": "5158d653877c48abbf1c2b66df3e9ebf",
       "version_major": 2,
       "version_minor": 0
      },
      "text/plain": [
       "metrics.json:   0%|          | 0.00/64.0 [00:00<?, ?B/s]"
      ]
     },
     "metadata": {},
     "output_type": "display_data"
    },
    {
     "data": {
      "application/vnd.jupyter.widget-view+json": {
       "model_id": "8e4abe21b25849039900ebb28016309a",
       "version_major": 2,
       "version_minor": 0
      },
      "text/plain": [
       "sae.safetensors:   0%|          | 0.00/96.4M [00:00<?, ?B/s]"
      ]
     },
     "metadata": {},
     "output_type": "display_data"
    },
    {
     "data": {
      "application/vnd.jupyter.widget-view+json": {
       "model_id": "eca3cc3be0ef48018f611456f7d8a19b",
       "version_major": 2,
       "version_minor": 0
      },
      "text/plain": [
       "sae.safetensors:   0%|          | 0.00/96.4M [00:00<?, ?B/s]"
      ]
     },
     "metadata": {},
     "output_type": "display_data"
    },
    {
     "data": {
      "application/vnd.jupyter.widget-view+json": {
       "model_id": "cec7c02b703148598bee86f8723155d4",
       "version_major": 2,
       "version_minor": 0
      },
      "text/plain": [
       "sae.safetensors:   0%|          | 0.00/96.4M [00:00<?, ?B/s]"
      ]
     },
     "metadata": {},
     "output_type": "display_data"
    },
    {
     "data": {
      "application/vnd.jupyter.widget-view+json": {
       "model_id": "315eee992d284969a0bfa97f1427366b",
       "version_major": 2,
       "version_minor": 0
      },
      "text/plain": [
       "cfg.json:   0%|          | 0.00/139 [00:00<?, ?B/s]"
      ]
     },
     "metadata": {},
     "output_type": "display_data"
    },
    {
     "data": {
      "application/vnd.jupyter.widget-view+json": {
       "model_id": "277da7a35aa14235babd7c8ab63cf31d",
       "version_major": 2,
       "version_minor": 0
      },
      "text/plain": [
       "metrics.json:   0%|          | 0.00/46.0 [00:00<?, ?B/s]"
      ]
     },
     "metadata": {},
     "output_type": "display_data"
    },
    {
     "data": {
      "application/vnd.jupyter.widget-view+json": {
       "model_id": "d35ac0d06e1649978bc13c27010da4fa",
       "version_major": 2,
       "version_minor": 0
      },
      "text/plain": [
       "cfg.json:   0%|          | 0.00/139 [00:00<?, ?B/s]"
      ]
     },
     "metadata": {},
     "output_type": "display_data"
    },
    {
     "data": {
      "application/vnd.jupyter.widget-view+json": {
       "model_id": "8f12416711db428d8722385a9423ba49",
       "version_major": 2,
       "version_minor": 0
      },
      "text/plain": [
       "sae.safetensors:   0%|          | 0.00/96.4M [00:00<?, ?B/s]"
      ]
     },
     "metadata": {},
     "output_type": "display_data"
    },
    {
     "data": {
      "application/vnd.jupyter.widget-view+json": {
       "model_id": "46f69661d45840b7b87accf5db4f7403",
       "version_major": 2,
       "version_minor": 0
      },
      "text/plain": [
       "metrics.json:   0%|          | 0.00/66.0 [00:00<?, ?B/s]"
      ]
     },
     "metadata": {},
     "output_type": "display_data"
    },
    {
     "data": {
      "application/vnd.jupyter.widget-view+json": {
       "model_id": "061fcd88dffa45959998cde2a4e8ba0d",
       "version_major": 2,
       "version_minor": 0
      },
      "text/plain": [
       "sae.safetensors:   0%|          | 0.00/96.4M [00:00<?, ?B/s]"
      ]
     },
     "metadata": {},
     "output_type": "display_data"
    },
    {
     "data": {
      "application/vnd.jupyter.widget-view+json": {
       "model_id": "2560e771c60f4866abbe867f0c7ad8db",
       "version_major": 2,
       "version_minor": 0
      },
      "text/plain": [
       "metrics.json:   0%|          | 0.00/46.0 [00:00<?, ?B/s]"
      ]
     },
     "metadata": {},
     "output_type": "display_data"
    },
    {
     "data": {
      "application/vnd.jupyter.widget-view+json": {
       "model_id": "bc3dfc5b54e44cf8a3e33f7eea0fa469",
       "version_major": 2,
       "version_minor": 0
      },
      "text/plain": [
       "sae.safetensors:   0%|          | 0.00/96.4M [00:00<?, ?B/s]"
      ]
     },
     "metadata": {},
     "output_type": "display_data"
    },
    {
     "data": {
      "application/vnd.jupyter.widget-view+json": {
       "model_id": "20a21084f6f048b9bf3bc0a26b0abc5a",
       "version_major": 2,
       "version_minor": 0
      },
      "text/plain": [
       "cfg.json:   0%|          | 0.00/139 [00:00<?, ?B/s]"
      ]
     },
     "metadata": {},
     "output_type": "display_data"
    },
    {
     "data": {
      "application/vnd.jupyter.widget-view+json": {
       "model_id": "29ff2e0381e446cf9690a6de6f65cabd",
       "version_major": 2,
       "version_minor": 0
      },
      "text/plain": [
       "metrics.json:   0%|          | 0.00/47.0 [00:00<?, ?B/s]"
      ]
     },
     "metadata": {},
     "output_type": "display_data"
    },
    {
     "data": {
      "application/vnd.jupyter.widget-view+json": {
       "model_id": "251380c7e9d44971a2b8783adbd2b565",
       "version_major": 2,
       "version_minor": 0
      },
      "text/plain": [
       "cfg.json:   0%|          | 0.00/139 [00:00<?, ?B/s]"
      ]
     },
     "metadata": {},
     "output_type": "display_data"
    },
    {
     "data": {
      "application/vnd.jupyter.widget-view+json": {
       "model_id": "4020a71e676f4dc399727998e0756ac7",
       "version_major": 2,
       "version_minor": 0
      },
      "text/plain": [
       "cfg.json:   0%|          | 0.00/139 [00:00<?, ?B/s]"
      ]
     },
     "metadata": {},
     "output_type": "display_data"
    },
    {
     "data": {
      "application/vnd.jupyter.widget-view+json": {
       "model_id": "022acb6a94994ace9c1b647cb846a591",
       "version_major": 2,
       "version_minor": 0
      },
      "text/plain": [
       "sae.safetensors:   0%|          | 0.00/96.4M [00:00<?, ?B/s]"
      ]
     },
     "metadata": {},
     "output_type": "display_data"
    },
    {
     "data": {
      "application/vnd.jupyter.widget-view+json": {
       "model_id": "b55ff17b720c4ee39fe83b3f95fd799e",
       "version_major": 2,
       "version_minor": 0
      },
      "text/plain": [
       "sae.safetensors:   0%|          | 0.00/96.4M [00:00<?, ?B/s]"
      ]
     },
     "metadata": {},
     "output_type": "display_data"
    },
    {
     "data": {
      "application/vnd.jupyter.widget-view+json": {
       "model_id": "86e6ca329c194eadb0d2c966c5a4bc5d",
       "version_major": 2,
       "version_minor": 0
      },
      "text/plain": [
       "cfg.json:   0%|          | 0.00/139 [00:00<?, ?B/s]"
      ]
     },
     "metadata": {},
     "output_type": "display_data"
    },
    {
     "data": {
      "application/vnd.jupyter.widget-view+json": {
       "model_id": "91af2951a7e54653a5012c59e92304b3",
       "version_major": 2,
       "version_minor": 0
      },
      "text/plain": [
       "metrics.json:   0%|          | 0.00/64.0 [00:00<?, ?B/s]"
      ]
     },
     "metadata": {},
     "output_type": "display_data"
    },
    {
     "data": {
      "application/vnd.jupyter.widget-view+json": {
       "model_id": "60e608e6e2a5484fae17640fa98a7bad",
       "version_major": 2,
       "version_minor": 0
      },
      "text/plain": [
       "sae.safetensors:   0%|          | 0.00/96.4M [00:00<?, ?B/s]"
      ]
     },
     "metadata": {},
     "output_type": "display_data"
    },
    {
     "data": {
      "application/vnd.jupyter.widget-view+json": {
       "model_id": "679fb80346394a8fab88ca15d728c018",
       "version_major": 2,
       "version_minor": 0
      },
      "text/plain": [
       "metrics.json:   0%|          | 0.00/46.0 [00:00<?, ?B/s]"
      ]
     },
     "metadata": {},
     "output_type": "display_data"
    },
    {
     "data": {
      "application/vnd.jupyter.widget-view+json": {
       "model_id": "22b220a0875c4a158c8248c550fc17a5",
       "version_major": 2,
       "version_minor": 0
      },
      "text/plain": [
       "cfg.json:   0%|          | 0.00/139 [00:00<?, ?B/s]"
      ]
     },
     "metadata": {},
     "output_type": "display_data"
    },
    {
     "data": {
      "application/vnd.jupyter.widget-view+json": {
       "model_id": "e4c76c729c2d48bc9ccf56cbfbcd679c",
       "version_major": 2,
       "version_minor": 0
      },
      "text/plain": [
       "metrics.json:   0%|          | 0.00/46.0 [00:00<?, ?B/s]"
      ]
     },
     "metadata": {},
     "output_type": "display_data"
    },
    {
     "data": {
      "application/vnd.jupyter.widget-view+json": {
       "model_id": "5078a4693a984135a806ac61f830f6d4",
       "version_major": 2,
       "version_minor": 0
      },
      "text/plain": [
       "sae.safetensors:   0%|          | 0.00/96.4M [00:00<?, ?B/s]"
      ]
     },
     "metadata": {},
     "output_type": "display_data"
    },
    {
     "data": {
      "application/vnd.jupyter.widget-view+json": {
       "model_id": "4fba9edca0e64cc08836dd1b988c34a8",
       "version_major": 2,
       "version_minor": 0
      },
      "text/plain": [
       "cfg.json:   0%|          | 0.00/139 [00:00<?, ?B/s]"
      ]
     },
     "metadata": {},
     "output_type": "display_data"
    },
    {
     "data": {
      "application/vnd.jupyter.widget-view+json": {
       "model_id": "adc993648a794b89be183aeafdb6e1f3",
       "version_major": 2,
       "version_minor": 0
      },
      "text/plain": [
       "metrics.json:   0%|          | 0.00/46.0 [00:00<?, ?B/s]"
      ]
     },
     "metadata": {},
     "output_type": "display_data"
    },
    {
     "data": {
      "application/vnd.jupyter.widget-view+json": {
       "model_id": "afff366fac25483db661230629381b24",
       "version_major": 2,
       "version_minor": 0
      },
      "text/plain": [
       "cfg.json:   0%|          | 0.00/139 [00:00<?, ?B/s]"
      ]
     },
     "metadata": {},
     "output_type": "display_data"
    },
    {
     "data": {
      "application/vnd.jupyter.widget-view+json": {
       "model_id": "22a5dcf627a84a04b0c4371fae65de84",
       "version_major": 2,
       "version_minor": 0
      },
      "text/plain": [
       "sae.safetensors:   0%|          | 0.00/96.4M [00:00<?, ?B/s]"
      ]
     },
     "metadata": {},
     "output_type": "display_data"
    },
    {
     "data": {
      "application/vnd.jupyter.widget-view+json": {
       "model_id": "770a9eaeedc14811a5cabacabf9f4c08",
       "version_major": 2,
       "version_minor": 0
      },
      "text/plain": [
       "metrics.json:   0%|          | 0.00/63.0 [00:00<?, ?B/s]"
      ]
     },
     "metadata": {},
     "output_type": "display_data"
    },
    {
     "data": {
      "application/vnd.jupyter.widget-view+json": {
       "model_id": "414c4a0daa6a43aa9ecc48abdaa12a70",
       "version_major": 2,
       "version_minor": 0
      },
      "text/plain": [
       "cfg.json:   0%|          | 0.00/139 [00:00<?, ?B/s]"
      ]
     },
     "metadata": {},
     "output_type": "display_data"
    },
    {
     "data": {
      "application/vnd.jupyter.widget-view+json": {
       "model_id": "ab6b8fe35b7649c0aa27be58a2d466b7",
       "version_major": 2,
       "version_minor": 0
      },
      "text/plain": [
       "metrics.json:   0%|          | 0.00/65.0 [00:00<?, ?B/s]"
      ]
     },
     "metadata": {},
     "output_type": "display_data"
    },
    {
     "data": {
      "application/vnd.jupyter.widget-view+json": {
       "model_id": "0de667040bc648d186d3c88fd9a87a86",
       "version_major": 2,
       "version_minor": 0
      },
      "text/plain": [
       "sae.safetensors:   0%|          | 0.00/96.4M [00:00<?, ?B/s]"
      ]
     },
     "metadata": {},
     "output_type": "display_data"
    },
    {
     "data": {
      "application/vnd.jupyter.widget-view+json": {
       "model_id": "4994561fc84640a9b7a8cf3815671156",
       "version_major": 2,
       "version_minor": 0
      },
      "text/plain": [
       "cfg.json:   0%|          | 0.00/139 [00:00<?, ?B/s]"
      ]
     },
     "metadata": {},
     "output_type": "display_data"
    },
    {
     "data": {
      "application/vnd.jupyter.widget-view+json": {
       "model_id": "bd8ef3357faf44cead4b4041542eee83",
       "version_major": 2,
       "version_minor": 0
      },
      "text/plain": [
       "sae.safetensors:   0%|          | 0.00/96.4M [00:00<?, ?B/s]"
      ]
     },
     "metadata": {},
     "output_type": "display_data"
    },
    {
     "data": {
      "application/vnd.jupyter.widget-view+json": {
       "model_id": "fffd5010cd0140e88a265c7e14bb4c93",
       "version_major": 2,
       "version_minor": 0
      },
      "text/plain": [
       "metrics.json:   0%|          | 0.00/64.0 [00:00<?, ?B/s]"
      ]
     },
     "metadata": {},
     "output_type": "display_data"
    },
    {
     "data": {
      "application/vnd.jupyter.widget-view+json": {
       "model_id": "6d6adb1e10e046d98454ae469abebde2",
       "version_major": 2,
       "version_minor": 0
      },
      "text/plain": [
       "cfg.json:   0%|          | 0.00/139 [00:00<?, ?B/s]"
      ]
     },
     "metadata": {},
     "output_type": "display_data"
    },
    {
     "data": {
      "application/vnd.jupyter.widget-view+json": {
       "model_id": "4505b52e44bd496d902d65f5c3fa630e",
       "version_major": 2,
       "version_minor": 0
      },
      "text/plain": [
       "sae.safetensors:   0%|          | 0.00/96.4M [00:00<?, ?B/s]"
      ]
     },
     "metadata": {},
     "output_type": "display_data"
    },
    {
     "data": {
      "application/vnd.jupyter.widget-view+json": {
       "model_id": "7502055ecf484c6abe67facf59398454",
       "version_major": 2,
       "version_minor": 0
      },
      "text/plain": [
       "metrics.json:   0%|          | 0.00/66.0 [00:00<?, ?B/s]"
      ]
     },
     "metadata": {},
     "output_type": "display_data"
    },
    {
     "data": {
      "application/vnd.jupyter.widget-view+json": {
       "model_id": "079e5d8dc477417e8e3c702f1152ea4f",
       "version_major": 2,
       "version_minor": 0
      },
      "text/plain": [
       "cfg.json:   0%|          | 0.00/139 [00:00<?, ?B/s]"
      ]
     },
     "metadata": {},
     "output_type": "display_data"
    },
    {
     "data": {
      "application/vnd.jupyter.widget-view+json": {
       "model_id": "61a4ad94a9194323ab9c1fce3df72be9",
       "version_major": 2,
       "version_minor": 0
      },
      "text/plain": [
       "metrics.json:   0%|          | 0.00/64.0 [00:00<?, ?B/s]"
      ]
     },
     "metadata": {},
     "output_type": "display_data"
    },
    {
     "data": {
      "application/vnd.jupyter.widget-view+json": {
       "model_id": "ca11f3a2f2464279beacd2c14da538a9",
       "version_major": 2,
       "version_minor": 0
      },
      "text/plain": [
       "sae.safetensors:   0%|          | 0.00/96.4M [00:00<?, ?B/s]"
      ]
     },
     "metadata": {},
     "output_type": "display_data"
    },
    {
     "data": {
      "application/vnd.jupyter.widget-view+json": {
       "model_id": "7afdf5adefa047a98708483ce2e0c20c",
       "version_major": 2,
       "version_minor": 0
      },
      "text/plain": [
       "cfg.json:   0%|          | 0.00/139 [00:00<?, ?B/s]"
      ]
     },
     "metadata": {},
     "output_type": "display_data"
    },
    {
     "data": {
      "application/vnd.jupyter.widget-view+json": {
       "model_id": "523dc7e9b6ed42319d87ac8bdd2e4d06",
       "version_major": 2,
       "version_minor": 0
      },
      "text/plain": [
       "metrics.json:   0%|          | 0.00/64.0 [00:00<?, ?B/s]"
      ]
     },
     "metadata": {},
     "output_type": "display_data"
    },
    {
     "data": {
      "application/vnd.jupyter.widget-view+json": {
       "model_id": "f91337886c8d41d98f97ce9b0d169f5a",
       "version_major": 2,
       "version_minor": 0
      },
      "text/plain": [
       "sae.safetensors:   0%|          | 0.00/96.4M [00:00<?, ?B/s]"
      ]
     },
     "metadata": {},
     "output_type": "display_data"
    },
    {
     "data": {
      "application/vnd.jupyter.widget-view+json": {
       "model_id": "b8260d05e3e443e888cac0ca977dfd59",
       "version_major": 2,
       "version_minor": 0
      },
      "text/plain": [
       "cfg.json:   0%|          | 0.00/139 [00:00<?, ?B/s]"
      ]
     },
     "metadata": {},
     "output_type": "display_data"
    },
    {
     "data": {
      "application/vnd.jupyter.widget-view+json": {
       "model_id": "f2edf1c2e0d44b668eafa742426f2624",
       "version_major": 2,
       "version_minor": 0
      },
      "text/plain": [
       "sae.safetensors:   0%|          | 0.00/96.4M [00:00<?, ?B/s]"
      ]
     },
     "metadata": {},
     "output_type": "display_data"
    },
    {
     "data": {
      "application/vnd.jupyter.widget-view+json": {
       "model_id": "010fb2e8abb5402397d4c9953af5e226",
       "version_major": 2,
       "version_minor": 0
      },
      "text/plain": [
       "metrics.json:   0%|          | 0.00/64.0 [00:00<?, ?B/s]"
      ]
     },
     "metadata": {},
     "output_type": "display_data"
    },
    {
     "data": {
      "application/vnd.jupyter.widget-view+json": {
       "model_id": "cd671079f279442282ec76673209e80c",
       "version_major": 2,
       "version_minor": 0
      },
      "text/plain": [
       "sae.safetensors:   0%|          | 0.00/96.4M [00:00<?, ?B/s]"
      ]
     },
     "metadata": {},
     "output_type": "display_data"
    },
    {
     "data": {
      "application/vnd.jupyter.widget-view+json": {
       "model_id": "8a5f8d169fdd4c8880258ab2583a057d",
       "version_major": 2,
       "version_minor": 0
      },
      "text/plain": [
       "metrics.json:   0%|          | 0.00/64.0 [00:00<?, ?B/s]"
      ]
     },
     "metadata": {},
     "output_type": "display_data"
    },
    {
     "data": {
      "application/vnd.jupyter.widget-view+json": {
       "model_id": "35ccc069b31a48718c3d02991618210d",
       "version_major": 2,
       "version_minor": 0
      },
      "text/plain": [
       "cfg.json:   0%|          | 0.00/139 [00:00<?, ?B/s]"
      ]
     },
     "metadata": {},
     "output_type": "display_data"
    },
    {
     "data": {
      "application/vnd.jupyter.widget-view+json": {
       "model_id": "f8e607c5bf2d40cc83648b881f550177",
       "version_major": 2,
       "version_minor": 0
      },
      "text/plain": [
       "cfg.json:   0%|          | 0.00/139 [00:00<?, ?B/s]"
      ]
     },
     "metadata": {},
     "output_type": "display_data"
    },
    {
     "data": {
      "application/vnd.jupyter.widget-view+json": {
       "model_id": "3ad0d09a27de41e3bb9586dd8ab97960",
       "version_major": 2,
       "version_minor": 0
      },
      "text/plain": [
       "sae.safetensors:   0%|          | 0.00/96.4M [00:00<?, ?B/s]"
      ]
     },
     "metadata": {},
     "output_type": "display_data"
    },
    {
     "data": {
      "application/vnd.jupyter.widget-view+json": {
       "model_id": "58d86b59e1c048f2b58a133534eeee3a",
       "version_major": 2,
       "version_minor": 0
      },
      "text/plain": [
       "sae.safetensors:   0%|          | 0.00/96.4M [00:00<?, ?B/s]"
      ]
     },
     "metadata": {},
     "output_type": "display_data"
    },
    {
     "data": {
      "application/vnd.jupyter.widget-view+json": {
       "model_id": "e1167b38cee942c980f0e0126f5641cb",
       "version_major": 2,
       "version_minor": 0
      },
      "text/plain": [
       "cfg.json:   0%|          | 0.00/139 [00:00<?, ?B/s]"
      ]
     },
     "metadata": {},
     "output_type": "display_data"
    },
    {
     "data": {
      "application/vnd.jupyter.widget-view+json": {
       "model_id": "69848130b4f0499a9661468201efdfb7",
       "version_major": 2,
       "version_minor": 0
      },
      "text/plain": [
       "metrics.json:   0%|          | 0.00/64.0 [00:00<?, ?B/s]"
      ]
     },
     "metadata": {},
     "output_type": "display_data"
    },
    {
     "data": {
      "application/vnd.jupyter.widget-view+json": {
       "model_id": "0ea9655dec164e439e3f42969738cc23",
       "version_major": 2,
       "version_minor": 0
      },
      "text/plain": [
       "model_config.json:   0%|          | 0.00/182 [00:00<?, ?B/s]"
      ]
     },
     "metadata": {},
     "output_type": "display_data"
    },
    {
     "data": {
      "application/vnd.jupyter.widget-view+json": {
       "model_id": "c50aa65d61134e59a9103a20a66eebd6",
       "version_major": 2,
       "version_minor": 0
      },
      "text/plain": [
       "state.pt:   0%|          | 0.00/3.23M [00:00<?, ?B/s]"
      ]
     },
     "metadata": {},
     "output_type": "display_data"
    },
    {
     "data": {
      "application/vnd.jupyter.widget-view+json": {
       "model_id": "4e0d3fb43650462eadd5758b35906ef7",
       "version_major": 2,
       "version_minor": 0
      },
      "text/plain": [
       "lr_scheduler.pt:   0%|          | 0.00/1.40k [00:00<?, ?B/s]"
      ]
     },
     "metadata": {},
     "output_type": "display_data"
    },
    {
     "data": {
      "application/vnd.jupyter.widget-view+json": {
       "model_id": "256cbcacab1e45098eec2e5709dea9cc",
       "version_major": 2,
       "version_minor": 0
      },
      "text/plain": [
       "metrics.json:   0%|          | 0.00/65.0 [00:00<?, ?B/s]"
      ]
     },
     "metadata": {},
     "output_type": "display_data"
    },
    {
     "data": {
      "application/vnd.jupyter.widget-view+json": {
       "model_id": "e64ac65793e44be6a03e6619de1d7d65",
       "version_major": 2,
       "version_minor": 0
      },
      "text/plain": [
       "config-checkpoint.json:   0%|          | 0.00/1.14k [00:00<?, ?B/s]"
      ]
     },
     "metadata": {},
     "output_type": "display_data"
    },
    {
     "data": {
      "application/vnd.jupyter.widget-view+json": {
       "model_id": "72ded11c1afd4e55b48cf69bd12f19fb",
       "version_major": 2,
       "version_minor": 0
      },
      "text/plain": [
       "config.json:   0%|          | 0.00/1.14k [00:00<?, ?B/s]"
      ]
     },
     "metadata": {},
     "output_type": "display_data"
    },
    {
     "data": {
      "application/vnd.jupyter.widget-view+json": {
       "model_id": "99d2a7f40cb1498ea77d76d8db0948a3",
       "version_major": 2,
       "version_minor": 0
      },
      "text/plain": [
       "optimizer.pt:   0%|          | 0.00/1.47G [00:00<?, ?B/s]"
      ]
     },
     "metadata": {},
     "output_type": "display_data"
    },
    {
     "data": {
      "application/vnd.jupyter.widget-view+json": {
       "model_id": "ce9cc01eae414e89ace5adb4ada4c994",
       "version_major": 2,
       "version_minor": 0
      },
      "text/plain": [
       "sae.safetensors:   0%|          | 0.00/96.4M [00:00<?, ?B/s]"
      ]
     },
     "metadata": {},
     "output_type": "display_data"
    },
    {
     "data": {
      "application/vnd.jupyter.widget-view+json": {
       "model_id": "aee69d404e1e4aab85b28d368fc61e7a",
       "version_major": 2,
       "version_minor": 0
      },
      "text/plain": [
       "cfg.json:   0%|          | 0.00/138 [00:00<?, ?B/s]"
      ]
     },
     "metadata": {},
     "output_type": "display_data"
    },
    {
     "data": {
      "application/vnd.jupyter.widget-view+json": {
       "model_id": "718e822028274e4d9c3a45316e2ef1a8",
       "version_major": 2,
       "version_minor": 0
      },
      "text/plain": [
       "metrics.json:   0%|          | 0.00/62.0 [00:00<?, ?B/s]"
      ]
     },
     "metadata": {},
     "output_type": "display_data"
    },
    {
     "data": {
      "application/vnd.jupyter.widget-view+json": {
       "model_id": "495e0dce9aaf480e81de85c539de3412",
       "version_major": 2,
       "version_minor": 0
      },
      "text/plain": [
       "metrics.json:   0%|          | 0.00/60.0 [00:00<?, ?B/s]"
      ]
     },
     "metadata": {},
     "output_type": "display_data"
    },
    {
     "data": {
      "application/vnd.jupyter.widget-view+json": {
       "model_id": "1060a9b800334759a1e990fb16ceff6b",
       "version_major": 2,
       "version_minor": 0
      },
      "text/plain": [
       "cfg.json:   0%|          | 0.00/138 [00:00<?, ?B/s]"
      ]
     },
     "metadata": {},
     "output_type": "display_data"
    },
    {
     "data": {
      "application/vnd.jupyter.widget-view+json": {
       "model_id": "4b58c8d089cc474982f9f1fda8f9a313",
       "version_major": 2,
       "version_minor": 0
      },
      "text/plain": [
       "sae.safetensors:   0%|          | 0.00/96.4M [00:00<?, ?B/s]"
      ]
     },
     "metadata": {},
     "output_type": "display_data"
    },
    {
     "data": {
      "application/vnd.jupyter.widget-view+json": {
       "model_id": "5e471573d5634c9fa0077c6d3937c9ee",
       "version_major": 2,
       "version_minor": 0
      },
      "text/plain": [
       "sae.safetensors:   0%|          | 0.00/96.4M [00:00<?, ?B/s]"
      ]
     },
     "metadata": {},
     "output_type": "display_data"
    },
    {
     "data": {
      "application/vnd.jupyter.widget-view+json": {
       "model_id": "669b55c733bb453a8a3a188f75f5d6fa",
       "version_major": 2,
       "version_minor": 0
      },
      "text/plain": [
       "metrics.json:   0%|          | 0.00/61.0 [00:00<?, ?B/s]"
      ]
     },
     "metadata": {},
     "output_type": "display_data"
    },
    {
     "data": {
      "application/vnd.jupyter.widget-view+json": {
       "model_id": "3cc61ed04f7649fba9e67af36e5e5366",
       "version_major": 2,
       "version_minor": 0
      },
      "text/plain": [
       "cfg.json:   0%|          | 0.00/138 [00:00<?, ?B/s]"
      ]
     },
     "metadata": {},
     "output_type": "display_data"
    },
    {
     "data": {
      "application/vnd.jupyter.widget-view+json": {
       "model_id": "1cd740ab083a4a3ba393128aa7b9c2d7",
       "version_major": 2,
       "version_minor": 0
      },
      "text/plain": [
       "cfg.json:   0%|          | 0.00/138 [00:00<?, ?B/s]"
      ]
     },
     "metadata": {},
     "output_type": "display_data"
    },
    {
     "data": {
      "application/vnd.jupyter.widget-view+json": {
       "model_id": "67b5ae616c8a4a1198db2767179972e0",
       "version_major": 2,
       "version_minor": 0
      },
      "text/plain": [
       "metrics.json:   0%|          | 0.00/61.0 [00:00<?, ?B/s]"
      ]
     },
     "metadata": {},
     "output_type": "display_data"
    },
    {
     "data": {
      "application/vnd.jupyter.widget-view+json": {
       "model_id": "728e252b59ff430cb39e54b7b439f310",
       "version_major": 2,
       "version_minor": 0
      },
      "text/plain": [
       "cfg.json:   0%|          | 0.00/138 [00:00<?, ?B/s]"
      ]
     },
     "metadata": {},
     "output_type": "display_data"
    },
    {
     "data": {
      "application/vnd.jupyter.widget-view+json": {
       "model_id": "cbe671891d2a49029c6110a227abfcb7",
       "version_major": 2,
       "version_minor": 0
      },
      "text/plain": [
       "metrics.json:   0%|          | 0.00/61.0 [00:00<?, ?B/s]"
      ]
     },
     "metadata": {},
     "output_type": "display_data"
    },
    {
     "data": {
      "application/vnd.jupyter.widget-view+json": {
       "model_id": "2900ff8d47924cc0a2543c73b4732dbc",
       "version_major": 2,
       "version_minor": 0
      },
      "text/plain": [
       "metrics.json:   0%|          | 0.00/61.0 [00:00<?, ?B/s]"
      ]
     },
     "metadata": {},
     "output_type": "display_data"
    },
    {
     "data": {
      "application/vnd.jupyter.widget-view+json": {
       "model_id": "6f7bcb0f7c2f4ed4acc9ccfb011eb996",
       "version_major": 2,
       "version_minor": 0
      },
      "text/plain": [
       "sae.safetensors:   0%|          | 0.00/96.4M [00:00<?, ?B/s]"
      ]
     },
     "metadata": {},
     "output_type": "display_data"
    },
    {
     "data": {
      "application/vnd.jupyter.widget-view+json": {
       "model_id": "140a07b9650e47ac8adeedf78bf4dc0b",
       "version_major": 2,
       "version_minor": 0
      },
      "text/plain": [
       "sae.safetensors:   0%|          | 0.00/96.4M [00:00<?, ?B/s]"
      ]
     },
     "metadata": {},
     "output_type": "display_data"
    },
    {
     "data": {
      "application/vnd.jupyter.widget-view+json": {
       "model_id": "ab7e521541a04ed694b347b8bc87a85a",
       "version_major": 2,
       "version_minor": 0
      },
      "text/plain": [
       "cfg.json:   0%|          | 0.00/138 [00:00<?, ?B/s]"
      ]
     },
     "metadata": {},
     "output_type": "display_data"
    },
    {
     "data": {
      "application/vnd.jupyter.widget-view+json": {
       "model_id": "6cd4eeb7a383444fa914a2b4678f2604",
       "version_major": 2,
       "version_minor": 0
      },
      "text/plain": [
       "metrics.json:   0%|          | 0.00/61.0 [00:00<?, ?B/s]"
      ]
     },
     "metadata": {},
     "output_type": "display_data"
    },
    {
     "data": {
      "application/vnd.jupyter.widget-view+json": {
       "model_id": "66db507273cc4a34b998f05952a7d411",
       "version_major": 2,
       "version_minor": 0
      },
      "text/plain": [
       "sae.safetensors:   0%|          | 0.00/96.4M [00:00<?, ?B/s]"
      ]
     },
     "metadata": {},
     "output_type": "display_data"
    },
    {
     "data": {
      "application/vnd.jupyter.widget-view+json": {
       "model_id": "4ec8869cb7f649a7b761e56b25eaccdf",
       "version_major": 2,
       "version_minor": 0
      },
      "text/plain": [
       "cfg.json:   0%|          | 0.00/138 [00:00<?, ?B/s]"
      ]
     },
     "metadata": {},
     "output_type": "display_data"
    },
    {
     "data": {
      "application/vnd.jupyter.widget-view+json": {
       "model_id": "6cf84425866843b39c28846c76cfaed0",
       "version_major": 2,
       "version_minor": 0
      },
      "text/plain": [
       "sae.safetensors:   0%|          | 0.00/96.4M [00:00<?, ?B/s]"
      ]
     },
     "metadata": {},
     "output_type": "display_data"
    },
    {
     "data": {
      "application/vnd.jupyter.widget-view+json": {
       "model_id": "c143bed1afb9489291c5dac1e5d3d0fd",
       "version_major": 2,
       "version_minor": 0
      },
      "text/plain": [
       "cfg.json:   0%|          | 0.00/138 [00:00<?, ?B/s]"
      ]
     },
     "metadata": {},
     "output_type": "display_data"
    },
    {
     "data": {
      "application/vnd.jupyter.widget-view+json": {
       "model_id": "01e73fc1d08740e49fb6f4acee15bcfc",
       "version_major": 2,
       "version_minor": 0
      },
      "text/plain": [
       "metrics.json:   0%|          | 0.00/59.0 [00:00<?, ?B/s]"
      ]
     },
     "metadata": {},
     "output_type": "display_data"
    },
    {
     "data": {
      "application/vnd.jupyter.widget-view+json": {
       "model_id": "bee55f6e2d274cbf8b2925bc152586ff",
       "version_major": 2,
       "version_minor": 0
      },
      "text/plain": [
       "sae.safetensors:   0%|          | 0.00/96.4M [00:00<?, ?B/s]"
      ]
     },
     "metadata": {},
     "output_type": "display_data"
    },
    {
     "data": {
      "application/vnd.jupyter.widget-view+json": {
       "model_id": "aa8069781db04b76ae8b1711753f8ff4",
       "version_major": 2,
       "version_minor": 0
      },
      "text/plain": [
       "sae.safetensors:   0%|          | 0.00/96.4M [00:00<?, ?B/s]"
      ]
     },
     "metadata": {},
     "output_type": "display_data"
    },
    {
     "data": {
      "application/vnd.jupyter.widget-view+json": {
       "model_id": "1679daa356bc474db8d262a00ef75ae4",
       "version_major": 2,
       "version_minor": 0
      },
      "text/plain": [
       "metrics.json:   0%|          | 0.00/60.0 [00:00<?, ?B/s]"
      ]
     },
     "metadata": {},
     "output_type": "display_data"
    },
    {
     "data": {
      "application/vnd.jupyter.widget-view+json": {
       "model_id": "4e8c69babb464f38ac38972ceb64c208",
       "version_major": 2,
       "version_minor": 0
      },
      "text/plain": [
       "cfg.json:   0%|          | 0.00/138 [00:00<?, ?B/s]"
      ]
     },
     "metadata": {},
     "output_type": "display_data"
    },
    {
     "data": {
      "application/vnd.jupyter.widget-view+json": {
       "model_id": "659aa84633d846749b640d153ae0e6ab",
       "version_major": 2,
       "version_minor": 0
      },
      "text/plain": [
       "metrics.json:   0%|          | 0.00/59.0 [00:00<?, ?B/s]"
      ]
     },
     "metadata": {},
     "output_type": "display_data"
    },
    {
     "data": {
      "application/vnd.jupyter.widget-view+json": {
       "model_id": "349346aa2ebf44ee9dd6d1b4bbcb2b9d",
       "version_major": 2,
       "version_minor": 0
      },
      "text/plain": [
       "cfg.json:   0%|          | 0.00/138 [00:00<?, ?B/s]"
      ]
     },
     "metadata": {},
     "output_type": "display_data"
    },
    {
     "data": {
      "application/vnd.jupyter.widget-view+json": {
       "model_id": "cce41047d57e44849172fb33c4ae4512",
       "version_major": 2,
       "version_minor": 0
      },
      "text/plain": [
       "sae.safetensors:   0%|          | 0.00/96.4M [00:00<?, ?B/s]"
      ]
     },
     "metadata": {},
     "output_type": "display_data"
    },
    {
     "data": {
      "application/vnd.jupyter.widget-view+json": {
       "model_id": "28e25cdd3d8443de9000ad6fd71e98ca",
       "version_major": 2,
       "version_minor": 0
      },
      "text/plain": [
       "sae.safetensors:   0%|          | 0.00/96.4M [00:00<?, ?B/s]"
      ]
     },
     "metadata": {},
     "output_type": "display_data"
    },
    {
     "data": {
      "application/vnd.jupyter.widget-view+json": {
       "model_id": "7f395187568d401fa210c456cf491f86",
       "version_major": 2,
       "version_minor": 0
      },
      "text/plain": [
       "metrics.json:   0%|          | 0.00/60.0 [00:00<?, ?B/s]"
      ]
     },
     "metadata": {},
     "output_type": "display_data"
    },
    {
     "data": {
      "application/vnd.jupyter.widget-view+json": {
       "model_id": "6445ae902bd941c6a075b473f5a3c27d",
       "version_major": 2,
       "version_minor": 0
      },
      "text/plain": [
       "cfg.json:   0%|          | 0.00/138 [00:00<?, ?B/s]"
      ]
     },
     "metadata": {},
     "output_type": "display_data"
    },
    {
     "data": {
      "application/vnd.jupyter.widget-view+json": {
       "model_id": "8646f151998d47d294dfb0c980895172",
       "version_major": 2,
       "version_minor": 0
      },
      "text/plain": [
       "sae.safetensors:   0%|          | 0.00/96.4M [00:00<?, ?B/s]"
      ]
     },
     "metadata": {},
     "output_type": "display_data"
    },
    {
     "data": {
      "application/vnd.jupyter.widget-view+json": {
       "model_id": "94649eeabd414605b5e43a4401e8bb05",
       "version_major": 2,
       "version_minor": 0
      },
      "text/plain": [
       "cfg.json:   0%|          | 0.00/138 [00:00<?, ?B/s]"
      ]
     },
     "metadata": {},
     "output_type": "display_data"
    },
    {
     "data": {
      "application/vnd.jupyter.widget-view+json": {
       "model_id": "ab6b56d6c9fa4a61ad4a49e8b531b9c2",
       "version_major": 2,
       "version_minor": 0
      },
      "text/plain": [
       "metrics.json:   0%|          | 0.00/61.0 [00:00<?, ?B/s]"
      ]
     },
     "metadata": {},
     "output_type": "display_data"
    },
    {
     "data": {
      "application/vnd.jupyter.widget-view+json": {
       "model_id": "45faa44ecbdc4ced8c33881c9705cb63",
       "version_major": 2,
       "version_minor": 0
      },
      "text/plain": [
       "cfg.json:   0%|          | 0.00/138 [00:00<?, ?B/s]"
      ]
     },
     "metadata": {},
     "output_type": "display_data"
    },
    {
     "data": {
      "application/vnd.jupyter.widget-view+json": {
       "model_id": "5f8061d9736e4a05b06139cc0300216b",
       "version_major": 2,
       "version_minor": 0
      },
      "text/plain": [
       "sae.safetensors:   0%|          | 0.00/96.4M [00:00<?, ?B/s]"
      ]
     },
     "metadata": {},
     "output_type": "display_data"
    },
    {
     "data": {
      "application/vnd.jupyter.widget-view+json": {
       "model_id": "ef7114a4863043e8b3d7f9df8717cc51",
       "version_major": 2,
       "version_minor": 0
      },
      "text/plain": [
       "metrics.json:   0%|          | 0.00/60.0 [00:00<?, ?B/s]"
      ]
     },
     "metadata": {},
     "output_type": "display_data"
    },
    {
     "data": {
      "application/vnd.jupyter.widget-view+json": {
       "model_id": "ab13f3e65f3f4366a73af67eee060a17",
       "version_major": 2,
       "version_minor": 0
      },
      "text/plain": [
       "sae.safetensors:   0%|          | 0.00/96.4M [00:00<?, ?B/s]"
      ]
     },
     "metadata": {},
     "output_type": "display_data"
    },
    {
     "data": {
      "application/vnd.jupyter.widget-view+json": {
       "model_id": "c13e386e3fb24ab6bb066608802fed80",
       "version_major": 2,
       "version_minor": 0
      },
      "text/plain": [
       "cfg.json:   0%|          | 0.00/138 [00:00<?, ?B/s]"
      ]
     },
     "metadata": {},
     "output_type": "display_data"
    },
    {
     "data": {
      "application/vnd.jupyter.widget-view+json": {
       "model_id": "deb6dd79f1674a3391ed9dfb49b746da",
       "version_major": 2,
       "version_minor": 0
      },
      "text/plain": [
       "metrics.json:   0%|          | 0.00/60.0 [00:00<?, ?B/s]"
      ]
     },
     "metadata": {},
     "output_type": "display_data"
    },
    {
     "data": {
      "application/vnd.jupyter.widget-view+json": {
       "model_id": "34ad32e8d1d440cc926fa52d4c3021a2",
       "version_major": 2,
       "version_minor": 0
      },
      "text/plain": [
       "cfg.json:   0%|          | 0.00/138 [00:00<?, ?B/s]"
      ]
     },
     "metadata": {},
     "output_type": "display_data"
    },
    {
     "data": {
      "application/vnd.jupyter.widget-view+json": {
       "model_id": "db32631da87c49868aed1be6c491db60",
       "version_major": 2,
       "version_minor": 0
      },
      "text/plain": [
       "sae.safetensors:   0%|          | 0.00/96.4M [00:00<?, ?B/s]"
      ]
     },
     "metadata": {},
     "output_type": "display_data"
    },
    {
     "data": {
      "application/vnd.jupyter.widget-view+json": {
       "model_id": "35d65d6da3c9443ab97ab3ded12391b1",
       "version_major": 2,
       "version_minor": 0
      },
      "text/plain": [
       "metrics.json:   0%|          | 0.00/61.0 [00:00<?, ?B/s]"
      ]
     },
     "metadata": {},
     "output_type": "display_data"
    },
    {
     "data": {
      "application/vnd.jupyter.widget-view+json": {
       "model_id": "4d43bae0b77f4e42a3fa71d2649f06c6",
       "version_major": 2,
       "version_minor": 0
      },
      "text/plain": [
       "cfg.json:   0%|          | 0.00/138 [00:00<?, ?B/s]"
      ]
     },
     "metadata": {},
     "output_type": "display_data"
    },
    {
     "data": {
      "application/vnd.jupyter.widget-view+json": {
       "model_id": "ba4e9df6bfd440d8908d708aecb11b34",
       "version_major": 2,
       "version_minor": 0
      },
      "text/plain": [
       "sae.safetensors:   0%|          | 0.00/96.4M [00:00<?, ?B/s]"
      ]
     },
     "metadata": {},
     "output_type": "display_data"
    },
    {
     "data": {
      "application/vnd.jupyter.widget-view+json": {
       "model_id": "872cdffca59a45b7b7441d6f4f900387",
       "version_major": 2,
       "version_minor": 0
      },
      "text/plain": [
       "metrics.json:   0%|          | 0.00/59.0 [00:00<?, ?B/s]"
      ]
     },
     "metadata": {},
     "output_type": "display_data"
    },
    {
     "data": {
      "application/vnd.jupyter.widget-view+json": {
       "model_id": "5d34d03d9fe24d85a6bd15fa2111ceae",
       "version_major": 2,
       "version_minor": 0
      },
      "text/plain": [
       "sae.safetensors:   0%|          | 0.00/96.4M [00:00<?, ?B/s]"
      ]
     },
     "metadata": {},
     "output_type": "display_data"
    },
    {
     "data": {
      "application/vnd.jupyter.widget-view+json": {
       "model_id": "5254d729bd0d4bfea0cb68b7b21649f5",
       "version_major": 2,
       "version_minor": 0
      },
      "text/plain": [
       "metrics.json:   0%|          | 0.00/60.0 [00:00<?, ?B/s]"
      ]
     },
     "metadata": {},
     "output_type": "display_data"
    },
    {
     "data": {
      "application/vnd.jupyter.widget-view+json": {
       "model_id": "0bb15ff6a72e4428829e4911fada366a",
       "version_major": 2,
       "version_minor": 0
      },
      "text/plain": [
       "cfg.json:   0%|          | 0.00/138 [00:00<?, ?B/s]"
      ]
     },
     "metadata": {},
     "output_type": "display_data"
    },
    {
     "data": {
      "application/vnd.jupyter.widget-view+json": {
       "model_id": "ce2814c042654414829d6dabcffb9eba",
       "version_major": 2,
       "version_minor": 0
      },
      "text/plain": [
       "sae.safetensors:   0%|          | 0.00/96.4M [00:00<?, ?B/s]"
      ]
     },
     "metadata": {},
     "output_type": "display_data"
    },
    {
     "data": {
      "application/vnd.jupyter.widget-view+json": {
       "model_id": "3ee55cad336f46debb3b2809be6e37a6",
       "version_major": 2,
       "version_minor": 0
      },
      "text/plain": [
       "cfg.json:   0%|          | 0.00/138 [00:00<?, ?B/s]"
      ]
     },
     "metadata": {},
     "output_type": "display_data"
    },
    {
     "data": {
      "application/vnd.jupyter.widget-view+json": {
       "model_id": "3e85b3c799a8428182ead4e3232355ff",
       "version_major": 2,
       "version_minor": 0
      },
      "text/plain": [
       "metrics.json:   0%|          | 0.00/61.0 [00:00<?, ?B/s]"
      ]
     },
     "metadata": {},
     "output_type": "display_data"
    },
    {
     "data": {
      "application/vnd.jupyter.widget-view+json": {
       "model_id": "9140fed690e44afe8c46f0a95a858151",
       "version_major": 2,
       "version_minor": 0
      },
      "text/plain": [
       "sae.safetensors:   0%|          | 0.00/96.4M [00:00<?, ?B/s]"
      ]
     },
     "metadata": {},
     "output_type": "display_data"
    },
    {
     "data": {
      "application/vnd.jupyter.widget-view+json": {
       "model_id": "206d81b9f4dc42e4b19991870a490d67",
       "version_major": 2,
       "version_minor": 0
      },
      "text/plain": [
       "cfg.json:   0%|          | 0.00/138 [00:00<?, ?B/s]"
      ]
     },
     "metadata": {},
     "output_type": "display_data"
    },
    {
     "data": {
      "application/vnd.jupyter.widget-view+json": {
       "model_id": "6d1582657ab74fd9a29e7f62544832cf",
       "version_major": 2,
       "version_minor": 0
      },
      "text/plain": [
       "metrics.json:   0%|          | 0.00/61.0 [00:00<?, ?B/s]"
      ]
     },
     "metadata": {},
     "output_type": "display_data"
    },
    {
     "data": {
      "application/vnd.jupyter.widget-view+json": {
       "model_id": "ca6edd471dc4431c997f6fd853bb7061",
       "version_major": 2,
       "version_minor": 0
      },
      "text/plain": [
       "sae.safetensors:   0%|          | 0.00/96.4M [00:00<?, ?B/s]"
      ]
     },
     "metadata": {},
     "output_type": "display_data"
    },
    {
     "data": {
      "application/vnd.jupyter.widget-view+json": {
       "model_id": "17bb977129aa42dbabbc0944b5886e24",
       "version_major": 2,
       "version_minor": 0
      },
      "text/plain": [
       "cfg.json:   0%|          | 0.00/138 [00:00<?, ?B/s]"
      ]
     },
     "metadata": {},
     "output_type": "display_data"
    },
    {
     "data": {
      "application/vnd.jupyter.widget-view+json": {
       "model_id": "25934c26dc98426fb892595c1fdcb4ac",
       "version_major": 2,
       "version_minor": 0
      },
      "text/plain": [
       "metrics.json:   0%|          | 0.00/58.0 [00:00<?, ?B/s]"
      ]
     },
     "metadata": {},
     "output_type": "display_data"
    },
    {
     "data": {
      "application/vnd.jupyter.widget-view+json": {
       "model_id": "d166a7a24a314d45b94a3cac4e3efd0a",
       "version_major": 2,
       "version_minor": 0
      },
      "text/plain": [
       "cfg.json:   0%|          | 0.00/138 [00:00<?, ?B/s]"
      ]
     },
     "metadata": {},
     "output_type": "display_data"
    },
    {
     "data": {
      "application/vnd.jupyter.widget-view+json": {
       "model_id": "403faeb643d3499b95d725cfb7396417",
       "version_major": 2,
       "version_minor": 0
      },
      "text/plain": [
       "sae.safetensors:   0%|          | 0.00/96.4M [00:00<?, ?B/s]"
      ]
     },
     "metadata": {},
     "output_type": "display_data"
    },
    {
     "data": {
      "application/vnd.jupyter.widget-view+json": {
       "model_id": "00ab750e440649248c88c2f3a6ab31cf",
       "version_major": 2,
       "version_minor": 0
      },
      "text/plain": [
       "metrics.json:   0%|          | 0.00/59.0 [00:00<?, ?B/s]"
      ]
     },
     "metadata": {},
     "output_type": "display_data"
    },
    {
     "data": {
      "application/vnd.jupyter.widget-view+json": {
       "model_id": "774d0aac0e8e40a39949b34f1da61f60",
       "version_major": 2,
       "version_minor": 0
      },
      "text/plain": [
       "cfg.json:   0%|          | 0.00/138 [00:00<?, ?B/s]"
      ]
     },
     "metadata": {},
     "output_type": "display_data"
    },
    {
     "data": {
      "application/vnd.jupyter.widget-view+json": {
       "model_id": "0f9a395a7c844ee9add01b68f200a477",
       "version_major": 2,
       "version_minor": 0
      },
      "text/plain": [
       "sae.safetensors:   0%|          | 0.00/96.4M [00:00<?, ?B/s]"
      ]
     },
     "metadata": {},
     "output_type": "display_data"
    },
    {
     "data": {
      "application/vnd.jupyter.widget-view+json": {
       "model_id": "305af6d53c124cc5b790a78d2656f6a7",
       "version_major": 2,
       "version_minor": 0
      },
      "text/plain": [
       "metrics.json:   0%|          | 0.00/60.0 [00:00<?, ?B/s]"
      ]
     },
     "metadata": {},
     "output_type": "display_data"
    },
    {
     "data": {
      "application/vnd.jupyter.widget-view+json": {
       "model_id": "0a0066b8c4b3429887fc22c218e52d42",
       "version_major": 2,
       "version_minor": 0
      },
      "text/plain": [
       "cfg.json:   0%|          | 0.00/138 [00:00<?, ?B/s]"
      ]
     },
     "metadata": {},
     "output_type": "display_data"
    },
    {
     "data": {
      "application/vnd.jupyter.widget-view+json": {
       "model_id": "f2eb3173d222410ea6fd2271d5c6b1ae",
       "version_major": 2,
       "version_minor": 0
      },
      "text/plain": [
       "metrics.json:   0%|          | 0.00/62.0 [00:00<?, ?B/s]"
      ]
     },
     "metadata": {},
     "output_type": "display_data"
    },
    {
     "data": {
      "application/vnd.jupyter.widget-view+json": {
       "model_id": "fde8b3feaaa54e04889f8dd62a82068f",
       "version_major": 2,
       "version_minor": 0
      },
      "text/plain": [
       "cfg.json:   0%|          | 0.00/138 [00:00<?, ?B/s]"
      ]
     },
     "metadata": {},
     "output_type": "display_data"
    },
    {
     "data": {
      "application/vnd.jupyter.widget-view+json": {
       "model_id": "d00a83f81f214c42a246e1bc0c500fde",
       "version_major": 2,
       "version_minor": 0
      },
      "text/plain": [
       "sae.safetensors:   0%|          | 0.00/96.4M [00:00<?, ?B/s]"
      ]
     },
     "metadata": {},
     "output_type": "display_data"
    },
    {
     "data": {
      "application/vnd.jupyter.widget-view+json": {
       "model_id": "83665f29186c4073a5c4b50fa34fa500",
       "version_major": 2,
       "version_minor": 0
      },
      "text/plain": [
       "cfg.json:   0%|          | 0.00/138 [00:00<?, ?B/s]"
      ]
     },
     "metadata": {},
     "output_type": "display_data"
    },
    {
     "data": {
      "application/vnd.jupyter.widget-view+json": {
       "model_id": "7bdb9eca38d94ad39341137553762367",
       "version_major": 2,
       "version_minor": 0
      },
      "text/plain": [
       "sae.safetensors:   0%|          | 0.00/96.4M [00:00<?, ?B/s]"
      ]
     },
     "metadata": {},
     "output_type": "display_data"
    },
    {
     "data": {
      "application/vnd.jupyter.widget-view+json": {
       "model_id": "b7afafe9d3954266be69cf68c51522a8",
       "version_major": 2,
       "version_minor": 0
      },
      "text/plain": [
       "metrics.json:   0%|          | 0.00/62.0 [00:00<?, ?B/s]"
      ]
     },
     "metadata": {},
     "output_type": "display_data"
    },
    {
     "data": {
      "application/vnd.jupyter.widget-view+json": {
       "model_id": "2388428abd3646c8ab8c3c1793d42fd0",
       "version_major": 2,
       "version_minor": 0
      },
      "text/plain": [
       "sae.safetensors:   0%|          | 0.00/96.4M [00:00<?, ?B/s]"
      ]
     },
     "metadata": {},
     "output_type": "display_data"
    },
    {
     "data": {
      "application/vnd.jupyter.widget-view+json": {
       "model_id": "191103e120e4403f8d5c7ad7b54b6bcd",
       "version_major": 2,
       "version_minor": 0
      },
      "text/plain": [
       "metrics.json:   0%|          | 0.00/63.0 [00:00<?, ?B/s]"
      ]
     },
     "metadata": {},
     "output_type": "display_data"
    },
    {
     "data": {
      "application/vnd.jupyter.widget-view+json": {
       "model_id": "58ed7d06d17f4d3a9c12eb19f2961716",
       "version_major": 2,
       "version_minor": 0
      },
      "text/plain": [
       "cfg.json:   0%|          | 0.00/138 [00:00<?, ?B/s]"
      ]
     },
     "metadata": {},
     "output_type": "display_data"
    },
    {
     "data": {
      "application/vnd.jupyter.widget-view+json": {
       "model_id": "56ef5f437e104cce814996664858f96d",
       "version_major": 2,
       "version_minor": 0
      },
      "text/plain": [
       "metrics.json:   0%|          | 0.00/61.0 [00:00<?, ?B/s]"
      ]
     },
     "metadata": {},
     "output_type": "display_data"
    },
    {
     "data": {
      "application/vnd.jupyter.widget-view+json": {
       "model_id": "5a9b2991c41a4e3a83bf648e66cd7ee7",
       "version_major": 2,
       "version_minor": 0
      },
      "text/plain": [
       "sae.safetensors:   0%|          | 0.00/96.4M [00:00<?, ?B/s]"
      ]
     },
     "metadata": {},
     "output_type": "display_data"
    },
    {
     "data": {
      "application/vnd.jupyter.widget-view+json": {
       "model_id": "bb783bbf82d743a8b31058914d735e05",
       "version_major": 2,
       "version_minor": 0
      },
      "text/plain": [
       "cfg.json:   0%|          | 0.00/138 [00:00<?, ?B/s]"
      ]
     },
     "metadata": {},
     "output_type": "display_data"
    },
    {
     "data": {
      "application/vnd.jupyter.widget-view+json": {
       "model_id": "855954c654fa4098b14860fd2dadc605",
       "version_major": 2,
       "version_minor": 0
      },
      "text/plain": [
       "metrics.json:   0%|          | 0.00/61.0 [00:00<?, ?B/s]"
      ]
     },
     "metadata": {},
     "output_type": "display_data"
    },
    {
     "data": {
      "application/vnd.jupyter.widget-view+json": {
       "model_id": "ce57c963d9b142efa11b904cd6709926",
       "version_major": 2,
       "version_minor": 0
      },
      "text/plain": [
       "cfg.json:   0%|          | 0.00/138 [00:00<?, ?B/s]"
      ]
     },
     "metadata": {},
     "output_type": "display_data"
    },
    {
     "data": {
      "application/vnd.jupyter.widget-view+json": {
       "model_id": "a01555aa1dcf4c5980f0a3f7da819866",
       "version_major": 2,
       "version_minor": 0
      },
      "text/plain": [
       "metrics.json:   0%|          | 0.00/62.0 [00:00<?, ?B/s]"
      ]
     },
     "metadata": {},
     "output_type": "display_data"
    },
    {
     "data": {
      "application/vnd.jupyter.widget-view+json": {
       "model_id": "58e0cba8b16b4ba8893c7ca813efcbe6",
       "version_major": 2,
       "version_minor": 0
      },
      "text/plain": [
       "sae.safetensors:   0%|          | 0.00/96.4M [00:00<?, ?B/s]"
      ]
     },
     "metadata": {},
     "output_type": "display_data"
    },
    {
     "data": {
      "application/vnd.jupyter.widget-view+json": {
       "model_id": "fda562107baf4baca886e85cb4de8190",
       "version_major": 2,
       "version_minor": 0
      },
      "text/plain": [
       "cfg.json:   0%|          | 0.00/138 [00:00<?, ?B/s]"
      ]
     },
     "metadata": {},
     "output_type": "display_data"
    },
    {
     "data": {
      "application/vnd.jupyter.widget-view+json": {
       "model_id": "c2c89cdb0499402faa36b64a419163f4",
       "version_major": 2,
       "version_minor": 0
      },
      "text/plain": [
       "metrics.json:   0%|          | 0.00/62.0 [00:00<?, ?B/s]"
      ]
     },
     "metadata": {},
     "output_type": "display_data"
    },
    {
     "data": {
      "application/vnd.jupyter.widget-view+json": {
       "model_id": "470b6fa9e61344ef9d7a2097196dd47e",
       "version_major": 2,
       "version_minor": 0
      },
      "text/plain": [
       "sae.safetensors:   0%|          | 0.00/96.4M [00:00<?, ?B/s]"
      ]
     },
     "metadata": {},
     "output_type": "display_data"
    },
    {
     "data": {
      "application/vnd.jupyter.widget-view+json": {
       "model_id": "fb743e73730b4fd0937be9f0c9d0ef96",
       "version_major": 2,
       "version_minor": 0
      },
      "text/plain": [
       "cfg.json:   0%|          | 0.00/138 [00:00<?, ?B/s]"
      ]
     },
     "metadata": {},
     "output_type": "display_data"
    },
    {
     "data": {
      "application/vnd.jupyter.widget-view+json": {
       "model_id": "413fef5c0fd64fad892539adf47b0a00",
       "version_major": 2,
       "version_minor": 0
      },
      "text/plain": [
       "sae.safetensors:   0%|          | 0.00/96.4M [00:00<?, ?B/s]"
      ]
     },
     "metadata": {},
     "output_type": "display_data"
    },
    {
     "data": {
      "application/vnd.jupyter.widget-view+json": {
       "model_id": "19d27345c3c44f179aa226fa30c8e0e9",
       "version_major": 2,
       "version_minor": 0
      },
      "text/plain": [
       "metrics.json:   0%|          | 0.00/60.0 [00:00<?, ?B/s]"
      ]
     },
     "metadata": {},
     "output_type": "display_data"
    },
    {
     "data": {
      "application/vnd.jupyter.widget-view+json": {
       "model_id": "b0b90018b13f4b73b06243a73b2d88e6",
       "version_major": 2,
       "version_minor": 0
      },
      "text/plain": [
       "cfg.json:   0%|          | 0.00/138 [00:00<?, ?B/s]"
      ]
     },
     "metadata": {},
     "output_type": "display_data"
    },
    {
     "data": {
      "application/vnd.jupyter.widget-view+json": {
       "model_id": "308e1c32ed02487fb0b83316ebb14935",
       "version_major": 2,
       "version_minor": 0
      },
      "text/plain": [
       "sae.safetensors:   0%|          | 0.00/96.4M [00:00<?, ?B/s]"
      ]
     },
     "metadata": {},
     "output_type": "display_data"
    },
    {
     "data": {
      "application/vnd.jupyter.widget-view+json": {
       "model_id": "4b79ad5e7d894e67a4e87ec49963f7c0",
       "version_major": 2,
       "version_minor": 0
      },
      "text/plain": [
       "metrics.json:   0%|          | 0.00/61.0 [00:00<?, ?B/s]"
      ]
     },
     "metadata": {},
     "output_type": "display_data"
    },
    {
     "data": {
      "application/vnd.jupyter.widget-view+json": {
       "model_id": "1f2847a619394c11a26ef780a53d5fd2",
       "version_major": 2,
       "version_minor": 0
      },
      "text/plain": [
       "cfg.json:   0%|          | 0.00/138 [00:00<?, ?B/s]"
      ]
     },
     "metadata": {},
     "output_type": "display_data"
    },
    {
     "data": {
      "application/vnd.jupyter.widget-view+json": {
       "model_id": "3400ac0d8d444093a65da1ae2116657d",
       "version_major": 2,
       "version_minor": 0
      },
      "text/plain": [
       "sae.safetensors:   0%|          | 0.00/96.4M [00:00<?, ?B/s]"
      ]
     },
     "metadata": {},
     "output_type": "display_data"
    },
    {
     "data": {
      "application/vnd.jupyter.widget-view+json": {
       "model_id": "904adf1217e84c57840bca4d4d45d5ca",
       "version_major": 2,
       "version_minor": 0
      },
      "text/plain": [
       "metrics.json:   0%|          | 0.00/60.0 [00:00<?, ?B/s]"
      ]
     },
     "metadata": {},
     "output_type": "display_data"
    },
    {
     "data": {
      "application/vnd.jupyter.widget-view+json": {
       "model_id": "d51416eaa9da4c0fbeae151218febb89",
       "version_major": 2,
       "version_minor": 0
      },
      "text/plain": [
       "sae.safetensors:   0%|          | 0.00/96.4M [00:00<?, ?B/s]"
      ]
     },
     "metadata": {},
     "output_type": "display_data"
    },
    {
     "data": {
      "application/vnd.jupyter.widget-view+json": {
       "model_id": "079923a4cd2e4c48b56c96647994c609",
       "version_major": 2,
       "version_minor": 0
      },
      "text/plain": [
       "cfg.json:   0%|          | 0.00/138 [00:00<?, ?B/s]"
      ]
     },
     "metadata": {},
     "output_type": "display_data"
    },
    {
     "data": {
      "application/vnd.jupyter.widget-view+json": {
       "model_id": "ef11e1d2cd8241e090807b645229cff3",
       "version_major": 2,
       "version_minor": 0
      },
      "text/plain": [
       "metrics.json:   0%|          | 0.00/61.0 [00:00<?, ?B/s]"
      ]
     },
     "metadata": {},
     "output_type": "display_data"
    },
    {
     "data": {
      "application/vnd.jupyter.widget-view+json": {
       "model_id": "4f9782988e954beb823eda19322b818f",
       "version_major": 2,
       "version_minor": 0
      },
      "text/plain": [
       "sae.safetensors:   0%|          | 0.00/96.4M [00:00<?, ?B/s]"
      ]
     },
     "metadata": {},
     "output_type": "display_data"
    },
    {
     "data": {
      "application/vnd.jupyter.widget-view+json": {
       "model_id": "03222122072e40618ef95e8afb60e64b",
       "version_major": 2,
       "version_minor": 0
      },
      "text/plain": [
       "cfg.json:   0%|          | 0.00/138 [00:00<?, ?B/s]"
      ]
     },
     "metadata": {},
     "output_type": "display_data"
    },
    {
     "data": {
      "application/vnd.jupyter.widget-view+json": {
       "model_id": "5daad7944fd4486d9e8b582dda032947",
       "version_major": 2,
       "version_minor": 0
      },
      "text/plain": [
       "metrics.json:   0%|          | 0.00/60.0 [00:00<?, ?B/s]"
      ]
     },
     "metadata": {},
     "output_type": "display_data"
    },
    {
     "data": {
      "application/vnd.jupyter.widget-view+json": {
       "model_id": "f4b3436a2cac45f091d51c2efdb1e97e",
       "version_major": 2,
       "version_minor": 0
      },
      "text/plain": [
       "cfg.json:   0%|          | 0.00/138 [00:00<?, ?B/s]"
      ]
     },
     "metadata": {},
     "output_type": "display_data"
    },
    {
     "data": {
      "application/vnd.jupyter.widget-view+json": {
       "model_id": "76f572b619f645e18c02cdca07195e26",
       "version_major": 2,
       "version_minor": 0
      },
      "text/plain": [
       "metrics.json:   0%|          | 0.00/62.0 [00:00<?, ?B/s]"
      ]
     },
     "metadata": {},
     "output_type": "display_data"
    },
    {
     "data": {
      "application/vnd.jupyter.widget-view+json": {
       "model_id": "24467a13df9b4160a790c3ecdb62a304",
       "version_major": 2,
       "version_minor": 0
      },
      "text/plain": [
       "sae.safetensors:   0%|          | 0.00/96.4M [00:00<?, ?B/s]"
      ]
     },
     "metadata": {},
     "output_type": "display_data"
    },
    {
     "data": {
      "application/vnd.jupyter.widget-view+json": {
       "model_id": "3dce6f33bdd54343b7327e1cab1b8a5b",
       "version_major": 2,
       "version_minor": 0
      },
      "text/plain": [
       "cfg.json:   0%|          | 0.00/138 [00:00<?, ?B/s]"
      ]
     },
     "metadata": {},
     "output_type": "display_data"
    },
    {
     "data": {
      "application/vnd.jupyter.widget-view+json": {
       "model_id": "e0aafc90b63d410d9a947e5befa0a8e0",
       "version_major": 2,
       "version_minor": 0
      },
      "text/plain": [
       "metrics.json:   0%|          | 0.00/62.0 [00:00<?, ?B/s]"
      ]
     },
     "metadata": {},
     "output_type": "display_data"
    },
    {
     "data": {
      "application/vnd.jupyter.widget-view+json": {
       "model_id": "c00edd39240443dcab263908286c008a",
       "version_major": 2,
       "version_minor": 0
      },
      "text/plain": [
       "sae.safetensors:   0%|          | 0.00/96.4M [00:00<?, ?B/s]"
      ]
     },
     "metadata": {},
     "output_type": "display_data"
    },
    {
     "data": {
      "application/vnd.jupyter.widget-view+json": {
       "model_id": "73960209bd4c49feb720b6ffcbaafd74",
       "version_major": 2,
       "version_minor": 0
      },
      "text/plain": [
       "cfg.json:   0%|          | 0.00/138 [00:00<?, ?B/s]"
      ]
     },
     "metadata": {},
     "output_type": "display_data"
    },
    {
     "data": {
      "application/vnd.jupyter.widget-view+json": {
       "model_id": "47881906af284e3c89d8e6eff085860d",
       "version_major": 2,
       "version_minor": 0
      },
      "text/plain": [
       "sae.safetensors:   0%|          | 0.00/96.4M [00:00<?, ?B/s]"
      ]
     },
     "metadata": {},
     "output_type": "display_data"
    },
    {
     "data": {
      "application/vnd.jupyter.widget-view+json": {
       "model_id": "749c062ff07d490dba2188facd699bcf",
       "version_major": 2,
       "version_minor": 0
      },
      "text/plain": [
       "metrics.json:   0%|          | 0.00/61.0 [00:00<?, ?B/s]"
      ]
     },
     "metadata": {},
     "output_type": "display_data"
    },
    {
     "data": {
      "application/vnd.jupyter.widget-view+json": {
       "model_id": "cb139ead2a4848d7b3cfd233321d7b41",
       "version_major": 2,
       "version_minor": 0
      },
      "text/plain": [
       "sae.safetensors:   0%|          | 0.00/96.4M [00:00<?, ?B/s]"
      ]
     },
     "metadata": {},
     "output_type": "display_data"
    },
    {
     "data": {
      "application/vnd.jupyter.widget-view+json": {
       "model_id": "9e93baee424547e990ac19f8a72f5d18",
       "version_major": 2,
       "version_minor": 0
      },
      "text/plain": [
       "cfg.json:   0%|          | 0.00/138 [00:00<?, ?B/s]"
      ]
     },
     "metadata": {},
     "output_type": "display_data"
    },
    {
     "data": {
      "application/vnd.jupyter.widget-view+json": {
       "model_id": "f7282367bec644a7b410269a60af4c18",
       "version_major": 2,
       "version_minor": 0
      },
      "text/plain": [
       "metrics.json:   0%|          | 0.00/59.0 [00:00<?, ?B/s]"
      ]
     },
     "metadata": {},
     "output_type": "display_data"
    },
    {
     "data": {
      "application/vnd.jupyter.widget-view+json": {
       "model_id": "b33588fd04e048d2a193097d147f45f2",
       "version_major": 2,
       "version_minor": 0
      },
      "text/plain": [
       "cfg.json:   0%|          | 0.00/138 [00:00<?, ?B/s]"
      ]
     },
     "metadata": {},
     "output_type": "display_data"
    },
    {
     "data": {
      "application/vnd.jupyter.widget-view+json": {
       "model_id": "a9e6bb9abbc945798d8ada75ca5b144a",
       "version_major": 2,
       "version_minor": 0
      },
      "text/plain": [
       "sae.safetensors:   0%|          | 0.00/96.4M [00:00<?, ?B/s]"
      ]
     },
     "metadata": {},
     "output_type": "display_data"
    },
    {
     "data": {
      "application/vnd.jupyter.widget-view+json": {
       "model_id": "b2b0bd8c976a46898eb5ec6185312f58",
       "version_major": 2,
       "version_minor": 0
      },
      "text/plain": [
       "metrics.json:   0%|          | 0.00/59.0 [00:00<?, ?B/s]"
      ]
     },
     "metadata": {},
     "output_type": "display_data"
    },
    {
     "data": {
      "application/vnd.jupyter.widget-view+json": {
       "model_id": "4d3675c85f9c4d039d1fc1739a8d74e1",
       "version_major": 2,
       "version_minor": 0
      },
      "text/plain": [
       "cfg.json:   0%|          | 0.00/138 [00:00<?, ?B/s]"
      ]
     },
     "metadata": {},
     "output_type": "display_data"
    },
    {
     "data": {
      "application/vnd.jupyter.widget-view+json": {
       "model_id": "0f29c72877ec4ef08e6c5da1bd44163b",
       "version_major": 2,
       "version_minor": 0
      },
      "text/plain": [
       "sae.safetensors:   0%|          | 0.00/96.4M [00:00<?, ?B/s]"
      ]
     },
     "metadata": {},
     "output_type": "display_data"
    },
    {
     "data": {
      "application/vnd.jupyter.widget-view+json": {
       "model_id": "07bb1e0ac68d4de082a3ad48b03c3bc2",
       "version_major": 2,
       "version_minor": 0
      },
      "text/plain": [
       "metrics.json:   0%|          | 0.00/61.0 [00:00<?, ?B/s]"
      ]
     },
     "metadata": {},
     "output_type": "display_data"
    },
    {
     "data": {
      "application/vnd.jupyter.widget-view+json": {
       "model_id": "90ccc52bcc4a420b86f5bb286df67b58",
       "version_major": 2,
       "version_minor": 0
      },
      "text/plain": [
       "sae.safetensors:   0%|          | 0.00/96.4M [00:00<?, ?B/s]"
      ]
     },
     "metadata": {},
     "output_type": "display_data"
    },
    {
     "data": {
      "application/vnd.jupyter.widget-view+json": {
       "model_id": "883eb0b57ead477ba92e1531fc51d216",
       "version_major": 2,
       "version_minor": 0
      },
      "text/plain": [
       "cfg.json:   0%|          | 0.00/138 [00:00<?, ?B/s]"
      ]
     },
     "metadata": {},
     "output_type": "display_data"
    },
    {
     "data": {
      "application/vnd.jupyter.widget-view+json": {
       "model_id": "0661d3bdfafb47c88aa33bf4b513a890",
       "version_major": 2,
       "version_minor": 0
      },
      "text/plain": [
       "metrics.json:   0%|          | 0.00/61.0 [00:00<?, ?B/s]"
      ]
     },
     "metadata": {},
     "output_type": "display_data"
    },
    {
     "data": {
      "application/vnd.jupyter.widget-view+json": {
       "model_id": "c595e30056c94b61bff914f04a51882e",
       "version_major": 2,
       "version_minor": 0
      },
      "text/plain": [
       "cfg.json:   0%|          | 0.00/138 [00:00<?, ?B/s]"
      ]
     },
     "metadata": {},
     "output_type": "display_data"
    },
    {
     "data": {
      "application/vnd.jupyter.widget-view+json": {
       "model_id": "e903d3b097f842548170b27514d59a29",
       "version_major": 2,
       "version_minor": 0
      },
      "text/plain": [
       "sae.safetensors:   0%|          | 0.00/96.4M [00:00<?, ?B/s]"
      ]
     },
     "metadata": {},
     "output_type": "display_data"
    },
    {
     "data": {
      "application/vnd.jupyter.widget-view+json": {
       "model_id": "c35f73f18f4d46af83a00ada30540c7c",
       "version_major": 2,
       "version_minor": 0
      },
      "text/plain": [
       "metrics.json:   0%|          | 0.00/62.0 [00:00<?, ?B/s]"
      ]
     },
     "metadata": {},
     "output_type": "display_data"
    },
    {
     "data": {
      "application/vnd.jupyter.widget-view+json": {
       "model_id": "8b6186023c5144df9f59877e6525af9f",
       "version_major": 2,
       "version_minor": 0
      },
      "text/plain": [
       "sae.safetensors:   0%|          | 0.00/96.4M [00:00<?, ?B/s]"
      ]
     },
     "metadata": {},
     "output_type": "display_data"
    },
    {
     "data": {
      "application/vnd.jupyter.widget-view+json": {
       "model_id": "9470bd41b41642cda703d69747fe3978",
       "version_major": 2,
       "version_minor": 0
      },
      "text/plain": [
       "cfg.json:   0%|          | 0.00/138 [00:00<?, ?B/s]"
      ]
     },
     "metadata": {},
     "output_type": "display_data"
    },
    {
     "data": {
      "application/vnd.jupyter.widget-view+json": {
       "model_id": "dbd5556ac51c4f59b416624fcdd2eb15",
       "version_major": 2,
       "version_minor": 0
      },
      "text/plain": [
       "metrics.json:   0%|          | 0.00/61.0 [00:00<?, ?B/s]"
      ]
     },
     "metadata": {},
     "output_type": "display_data"
    },
    {
     "data": {
      "application/vnd.jupyter.widget-view+json": {
       "model_id": "9078c85b881e41fa86d6d929c3ec87f6",
       "version_major": 2,
       "version_minor": 0
      },
      "text/plain": [
       "cfg.json:   0%|          | 0.00/138 [00:00<?, ?B/s]"
      ]
     },
     "metadata": {},
     "output_type": "display_data"
    },
    {
     "data": {
      "application/vnd.jupyter.widget-view+json": {
       "model_id": "33a26cf9886a4329a0ca554d9e797219",
       "version_major": 2,
       "version_minor": 0
      },
      "text/plain": [
       "sae.safetensors:   0%|          | 0.00/96.4M [00:00<?, ?B/s]"
      ]
     },
     "metadata": {},
     "output_type": "display_data"
    },
    {
     "data": {
      "application/vnd.jupyter.widget-view+json": {
       "model_id": "76665a607f654cac8621ed94782d646c",
       "version_major": 2,
       "version_minor": 0
      },
      "text/plain": [
       "metrics.json:   0%|          | 0.00/61.0 [00:00<?, ?B/s]"
      ]
     },
     "metadata": {},
     "output_type": "display_data"
    },
    {
     "data": {
      "application/vnd.jupyter.widget-view+json": {
       "model_id": "dc040b506e2141a98308d4e87141cdf4",
       "version_major": 2,
       "version_minor": 0
      },
      "text/plain": [
       "cfg.json:   0%|          | 0.00/138 [00:00<?, ?B/s]"
      ]
     },
     "metadata": {},
     "output_type": "display_data"
    },
    {
     "data": {
      "application/vnd.jupyter.widget-view+json": {
       "model_id": "3eea8308f0e54b7d9bbfb0aec4f81af0",
       "version_major": 2,
       "version_minor": 0
      },
      "text/plain": [
       "sae.safetensors:   0%|          | 0.00/96.4M [00:00<?, ?B/s]"
      ]
     },
     "metadata": {},
     "output_type": "display_data"
    },
    {
     "data": {
      "application/vnd.jupyter.widget-view+json": {
       "model_id": "7fad05514f154340aa928498a770f35e",
       "version_major": 2,
       "version_minor": 0
      },
      "text/plain": [
       "metrics.json:   0%|          | 0.00/61.0 [00:00<?, ?B/s]"
      ]
     },
     "metadata": {},
     "output_type": "display_data"
    },
    {
     "data": {
      "application/vnd.jupyter.widget-view+json": {
       "model_id": "4cfd796c9ab746a69065e44dc2b48aaa",
       "version_major": 2,
       "version_minor": 0
      },
      "text/plain": [
       "cfg.json:   0%|          | 0.00/138 [00:00<?, ?B/s]"
      ]
     },
     "metadata": {},
     "output_type": "display_data"
    },
    {
     "data": {
      "application/vnd.jupyter.widget-view+json": {
       "model_id": "7ce6d743083145dd8a9edd39c5584fab",
       "version_major": 2,
       "version_minor": 0
      },
      "text/plain": [
       "sae.safetensors:   0%|          | 0.00/96.4M [00:00<?, ?B/s]"
      ]
     },
     "metadata": {},
     "output_type": "display_data"
    },
    {
     "data": {
      "application/vnd.jupyter.widget-view+json": {
       "model_id": "77be4043a31d4528acd33612b3b9bde0",
       "version_major": 2,
       "version_minor": 0
      },
      "text/plain": [
       "metrics.json:   0%|          | 0.00/62.0 [00:00<?, ?B/s]"
      ]
     },
     "metadata": {},
     "output_type": "display_data"
    },
    {
     "data": {
      "application/vnd.jupyter.widget-view+json": {
       "model_id": "8dbae69c393f49c69e267d8f93936364",
       "version_major": 2,
       "version_minor": 0
      },
      "text/plain": [
       "cfg.json:   0%|          | 0.00/138 [00:00<?, ?B/s]"
      ]
     },
     "metadata": {},
     "output_type": "display_data"
    },
    {
     "data": {
      "application/vnd.jupyter.widget-view+json": {
       "model_id": "95c9fd46d17f4d6bab5a1305c1fda17e",
       "version_major": 2,
       "version_minor": 0
      },
      "text/plain": [
       "sae.safetensors:   0%|          | 0.00/96.4M [00:00<?, ?B/s]"
      ]
     },
     "metadata": {},
     "output_type": "display_data"
    },
    {
     "data": {
      "application/vnd.jupyter.widget-view+json": {
       "model_id": "0ce04ab0bffb48ab970dd94b197ebfb4",
       "version_major": 2,
       "version_minor": 0
      },
      "text/plain": [
       "metrics.json:   0%|          | 0.00/61.0 [00:00<?, ?B/s]"
      ]
     },
     "metadata": {},
     "output_type": "display_data"
    },
    {
     "data": {
      "application/vnd.jupyter.widget-view+json": {
       "model_id": "77d296a0d8054edf9f5d7ff1fa0ab460",
       "version_major": 2,
       "version_minor": 0
      },
      "text/plain": [
       "sae.safetensors:   0%|          | 0.00/96.4M [00:00<?, ?B/s]"
      ]
     },
     "metadata": {},
     "output_type": "display_data"
    },
    {
     "data": {
      "application/vnd.jupyter.widget-view+json": {
       "model_id": "5f8d35ac2f3f4dbfb0f7679b1232a5b9",
       "version_major": 2,
       "version_minor": 0
      },
      "text/plain": [
       "cfg.json:   0%|          | 0.00/138 [00:00<?, ?B/s]"
      ]
     },
     "metadata": {},
     "output_type": "display_data"
    },
    {
     "data": {
      "application/vnd.jupyter.widget-view+json": {
       "model_id": "e110d868c7f3428db7ad459a1c3d63df",
       "version_major": 2,
       "version_minor": 0
      },
      "text/plain": [
       "metrics.json:   0%|          | 0.00/62.0 [00:00<?, ?B/s]"
      ]
     },
     "metadata": {},
     "output_type": "display_data"
    },
    {
     "data": {
      "application/vnd.jupyter.widget-view+json": {
       "model_id": "7933a45f7b7f417fa1232db1c7a5a8cd",
       "version_major": 2,
       "version_minor": 0
      },
      "text/plain": [
       "sae.safetensors:   0%|          | 0.00/96.4M [00:00<?, ?B/s]"
      ]
     },
     "metadata": {},
     "output_type": "display_data"
    },
    {
     "data": {
      "application/vnd.jupyter.widget-view+json": {
       "model_id": "9e47d32963df460d96d265189d85ac4b",
       "version_major": 2,
       "version_minor": 0
      },
      "text/plain": [
       "model_config.json:   0%|          | 0.00/182 [00:00<?, ?B/s]"
      ]
     },
     "metadata": {},
     "output_type": "display_data"
    },
    {
     "data": {
      "application/vnd.jupyter.widget-view+json": {
       "model_id": "04becd0e7fae44ad9325eabe0a5c2e31",
       "version_major": 2,
       "version_minor": 0
      },
      "text/plain": [
       "optimizer.pt:   0%|          | 0.00/3.47G [00:00<?, ?B/s]"
      ]
     },
     "metadata": {},
     "output_type": "display_data"
    },
    {
     "data": {
      "application/vnd.jupyter.widget-view+json": {
       "model_id": "da17a5e51a0a48c58f70c257822c5cbb",
       "version_major": 2,
       "version_minor": 0
      },
      "text/plain": [
       "state.pt:   0%|          | 0.00/1.94M [00:00<?, ?B/s]"
      ]
     },
     "metadata": {},
     "output_type": "display_data"
    }
   ],
   "source": [
    "repo_path = Path(\n",
    "    snapshot_download(repo_name, allow_patterns=f\"{model_alias}/*\", local_dir=cache_dir)\n",
    ")"
   ]
  },
  {
   "cell_type": "code",
   "execution_count": 11,
   "id": "e8be9bf3-71a6-4467-baca-81a93e140a3c",
   "metadata": {},
   "outputs": [],
   "source": [
    "def format_example(example):\n",
    "    alpaca_prompt = \"### Instruction: {} ### Context: {} ### Response: {}\"\n",
    "    example['prompt'] = alpaca_prompt.format(example['english_prompt'], example['create_statement'], example['sql_statement'])\n",
    "    example['response'] = example['sql_statement']\n",
    "    return example"
   ]
  },
  {
   "cell_type": "code",
   "execution_count": null,
   "id": "c1dbcb18-7a7e-4166-8f60-6aa69d3066e4",
   "metadata": {},
   "outputs": [
    {
     "name": "stdout",
     "output_type": "stream",
     "text": [
      "Loading from path working_directory/saes_sql_interp_bm2_cs1_experiment_4.3_syn=True/k=32\n"
     ]
    },
    {
     "data": {
      "application/vnd.jupyter.widget-view+json": {
       "model_id": "f9bdd218dd1940be9e486040f428e13c",
       "version_major": 2,
       "version_minor": 0
      },
      "text/plain": [
       "config.json:   0%|          | 0.00/774 [00:00<?, ?B/s]"
      ]
     },
     "metadata": {},
     "output_type": "display_data"
    },
    {
     "data": {
      "application/vnd.jupyter.widget-view+json": {
       "model_id": "7e85073ef30f42f5bac974ff6fa4e9c7",
       "version_major": 2,
       "version_minor": 0
      },
      "text/plain": [
       "tokenizer_config.json:   0%|          | 0.00/7.50k [00:00<?, ?B/s]"
      ]
     },
     "metadata": {},
     "output_type": "display_data"
    },
    {
     "data": {
      "application/vnd.jupyter.widget-view+json": {
       "model_id": "708a9417f2ea4edb921047750a06bcfd",
       "version_major": 2,
       "version_minor": 0
      },
      "text/plain": [
       "vocab.json:   0%|          | 0.00/2.78M [00:00<?, ?B/s]"
      ]
     },
     "metadata": {},
     "output_type": "display_data"
    },
    {
     "data": {
      "application/vnd.jupyter.widget-view+json": {
       "model_id": "40ad23ee24c845a9b2b75ab8efee9d27",
       "version_major": 2,
       "version_minor": 0
      },
      "text/plain": [
       "merges.txt:   0%|          | 0.00/1.67M [00:00<?, ?B/s]"
      ]
     },
     "metadata": {},
     "output_type": "display_data"
    },
    {
     "data": {
      "application/vnd.jupyter.widget-view+json": {
       "model_id": "8ed996736d144575933d06f40c60f0f8",
       "version_major": 2,
       "version_minor": 0
      },
      "text/plain": [
       "tokenizer.json:   0%|          | 0.00/11.4M [00:00<?, ?B/s]"
      ]
     },
     "metadata": {},
     "output_type": "display_data"
    },
    {
     "data": {
      "application/vnd.jupyter.widget-view+json": {
       "model_id": "6bc35f10fbf04b19aed47eb1f1e31041",
       "version_major": 2,
       "version_minor": 0
      },
      "text/plain": [
       "added_tokens.json:   0%|          | 0.00/605 [00:00<?, ?B/s]"
      ]
     },
     "metadata": {},
     "output_type": "display_data"
    },
    {
     "data": {
      "application/vnd.jupyter.widget-view+json": {
       "model_id": "3165dd79b3ad47e1b430b7032ac99ed0",
       "version_major": 2,
       "version_minor": 0
      },
      "text/plain": [
       "special_tokens_map.json:   0%|          | 0.00/613 [00:00<?, ?B/s]"
      ]
     },
     "metadata": {},
     "output_type": "display_data"
    },
    {
     "data": {
      "application/vnd.jupyter.widget-view+json": {
       "model_id": "948552a384544c4eb86aaf3fbc14f36f",
       "version_major": 2,
       "version_minor": 0
      },
      "text/plain": [
       "README.md:   0%|          | 0.00/799 [00:00<?, ?B/s]"
      ]
     },
     "metadata": {},
     "output_type": "display_data"
    },
    {
     "data": {
      "application/vnd.jupyter.widget-view+json": {
       "model_id": "5429055a6bb84358956001a0d50013fa",
       "version_major": 2,
       "version_minor": 0
      },
      "text/plain": [
       "train-00000-of-00001.parquet:   0%|          | 0.00/22.8M [00:00<?, ?B/s]"
      ]
     },
     "metadata": {},
     "output_type": "display_data"
    },
    {
     "data": {
      "application/vnd.jupyter.widget-view+json": {
       "model_id": "82de2e3e34c8478e939d4e9542e3690d",
       "version_major": 2,
       "version_minor": 0
      },
      "text/plain": [
       "validation-00000-of-00001.parquet:   0%|          | 0.00/4.03M [00:00<?, ?B/s]"
      ]
     },
     "metadata": {},
     "output_type": "display_data"
    },
    {
     "data": {
      "application/vnd.jupyter.widget-view+json": {
       "model_id": "a099d9e1296d40dda4e06bd4abd5a305",
       "version_major": 2,
       "version_minor": 0
      },
      "text/plain": [
       "test-00000-of-00001.parquet:   0%|          | 0.00/2.98M [00:00<?, ?B/s]"
      ]
     },
     "metadata": {},
     "output_type": "display_data"
    },
    {
     "data": {
      "application/vnd.jupyter.widget-view+json": {
       "model_id": "c2ee82310e8d4d51a7924b0b601f30cb",
       "version_major": 2,
       "version_minor": 0
      },
      "text/plain": [
       "Generating train split:   0%|          | 0/76500 [00:00<?, ? examples/s]"
      ]
     },
     "metadata": {},
     "output_type": "display_data"
    },
    {
     "data": {
      "application/vnd.jupyter.widget-view+json": {
       "model_id": "7efb057abb4749fcb1de6840585e23ae",
       "version_major": 2,
       "version_minor": 0
      },
      "text/plain": [
       "Generating validation split:   0%|          | 0/13500 [00:00<?, ? examples/s]"
      ]
     },
     "metadata": {},
     "output_type": "display_data"
    },
    {
     "data": {
      "application/vnd.jupyter.widget-view+json": {
       "model_id": "a002630238c94ae98917ae93e5606477",
       "version_major": 2,
       "version_minor": 0
      },
      "text/plain": [
       "Generating test split:   0%|          | 0/10000 [00:00<?, ? examples/s]"
      ]
     },
     "metadata": {},
     "output_type": "display_data"
    },
    {
     "data": {
      "application/vnd.jupyter.widget-view+json": {
       "model_id": "696b660e7b334e648e3750d9211ec393",
       "version_major": 2,
       "version_minor": 0
      },
      "text/plain": [
       "Map:   0%|          | 0/76500 [00:00<?, ? examples/s]"
      ]
     },
     "metadata": {},
     "output_type": "display_data"
    },
    {
     "data": {
      "application/vnd.jupyter.widget-view+json": {
       "model_id": "79476c2573f14763b879314a7a99f3d4",
       "version_major": 2,
       "version_minor": 0
      },
      "text/plain": [
       "Map:   0%|          | 0/13500 [00:00<?, ? examples/s]"
      ]
     },
     "metadata": {},
     "output_type": "display_data"
    },
    {
     "data": {
      "application/vnd.jupyter.widget-view+json": {
       "model_id": "fd4cb0e90e9a428da8bc0ebf05b77fd3",
       "version_major": 2,
       "version_minor": 0
      },
      "text/plain": [
       "Map:   0%|          | 0/10000 [00:00<?, ? examples/s]"
      ]
     },
     "metadata": {},
     "output_type": "display_data"
    }
   ],
   "source": [
    "loaded_saes = LoadedSAES.load_from_path(model_alias=model_alias, k=32, cache_dir=cache_dir, dataset_mapper=format_example)\n",
    "model = loaded_saes.language_model\n",
    "tokenizer = loaded_saes.tokenizer"
   ]
  },
  {
   "cell_type": "code",
   "execution_count": 5,
   "id": "2dca7df8-db0b-4c5d-84ad-043d6ed051a3",
   "metadata": {},
   "outputs": [],
   "source": [
    "def calculate_similarity(text1, text2):\n",
    "   def extract_sql_parts(text):\n",
    "       select_part = text[text.find(\"SELECT\") + 7:text.find(\"FROM\")].strip()\n",
    "       from_part = text[text.find(\"FROM\") + 5:].strip()\n",
    "       columns = [c.strip() for c in select_part.split(',')]\n",
    "       return columns, from_part\n",
    "   cols1, from1 = extract_sql_parts(text1)\n",
    "   cols2, from2 = extract_sql_parts(text2)\n",
    "    \n",
    "   score = 0\n",
    "   if \"SELECT\" in text1 and \"SELECT\" in text2: score += 0.2\n",
    "   if \"FROM\" in text1 and \"FROM\" in text2: score += 0.2\n",
    "   if from1 == from2: score += 0.2\n",
    "   if cols1[0] == cols2[0]: score += 0.2\n",
    "   if len(cols1) >= 2 and len(cols2) >= 2:\n",
    "       if cols1[1] == cols2[1]: score += 0.2 \n",
    "   return score"
   ]
  },
  {
   "cell_type": "markdown",
   "id": "8f917c2a-d11a-4e8e-bef5-0b0e65bf574b",
   "metadata": {},
   "source": [
    "## Ablation experiment"
   ]
  },
  {
   "cell_type": "code",
   "execution_count": 517,
   "id": "62c62415-4a9e-4529-850e-82190952868a",
   "metadata": {},
   "outputs": [],
   "source": [
    "layer_idx = 16"
   ]
  },
  {
   "cell_type": "code",
   "execution_count": 8,
   "id": "f24ca3d8-2cfe-496f-9a00-3f335b3abf49",
   "metadata": {},
   "outputs": [],
   "source": [
    "import TinySQL as qts\n",
    "\n",
    "model_num = 2                   # 0=GPT2, 1=TinyStories, 2=Qwen, 3=Llama, 4=Granite, 5=SmolLM\n",
    "cs_num = 1\n",
    "# 0=BaseModel, 1=CS1, 2=CS2 or 3=CS3\n",
    "feature_name = qts.ENGTABLENAME   # ENGTABLENAME, ENGFIELDNAME, DEFTABLESTART, DEFTABLENAME, DEFFIELDNAME, DEFFIELDSEPARATOR\n",
    "use_novel_names = False           # If True, we corrupt using words not found in the clean prompt or create sql e.g. \"little\" or \"hammer\"\n",
    "use_synonyms_table = False\n",
    "use_synonyms_field = False\n",
    "batch_size = 100\n",
    "\n",
    "model = qts.load_tinysql_model(model_num, cs_num, synonym=True)\n",
    "model_hf = qts.sql_interp_model_location(model_num, cs_num)"
   ]
  },
  {
   "cell_type": "code",
   "execution_count": 9,
   "id": "9046d7a5-bc30-4b8f-9f14-93c3cb153466",
   "metadata": {},
   "outputs": [],
   "source": [
    "generator = qts.CorruptFeatureTestGenerator(model_num, cs_num, model.tokenizer, use_novel_names=use_novel_names, use_synonyms_field=use_synonyms_field, use_synonyms_table=use_synonyms_table)\n",
    "examples = generator.generate_feature_examples(feature_name, batch_size)\n",
    "\n",
    "# Each examples is corrupted at prompt_token_index. A resulting impact is expected at answer_token_index\n",
    "prompts = []\n",
    "ref_answers = []\n",
    "for i, example in enumerate(examples):\n",
    "    clean_tokenizer_index = example.clean_tokenizer_index\n",
    "    corrupt_tokenizer_index = example.corrupt_tokenizer_index\n",
    "    answer_token_index = example.answer_token_index\n",
    "\n",
    "    # Truncate the clean_prompt at answer_token_index\n",
    "    clean_prompt = example.clean_BatchItem.get_alpaca_prompt() + example.clean_BatchItem.sql_statement\n",
    "    clean_tokens = model.tokenizer(clean_prompt)[\"input_ids\"]\n",
    "    # clean_tokens = clean_tokens[:answer_token_index+1]\n",
    "    # clean_prompt = model.tokenizer.decode(clean_tokens)\n",
    "\n",
    "    prompts.append(clean_prompt.split('Response: ')[0] + 'Response: ')\n",
    "    ref_answers.append(clean_prompt.split('Response: ')[1])"
   ]
  },
  {
   "cell_type": "code",
   "execution_count": null,
   "id": "5904431a-4817-4ec6-8a3a-7da658a2b9b6",
   "metadata": {},
   "outputs": [],
   "source": [
    "import re\n",
    "import torch\n",
    "from copy import deepcopy\n",
    "from tqdm import tqdm\n",
    "\n",
    "def nnsight_eval_string_for_layer(layer: str, language_model_var_name=\"language_model\"):\n",
    "    \"\"\"\n",
    "    Converts layer paths to correct format for nnsight evaluation in standalone functions\n",
    "    \"\"\"\n",
    "    # Convert dot notation with numbers to bracket notation\n",
    "    subbed_layer = re.sub(r'\\.([0-9]+)(?=\\.|$)', r'[\\1]', layer)\n",
    "    return f\"{language_model_var_name}.{subbed_layer}.output.save()\"\n",
    "\n",
    "def encode_text_to_activations_for_layer(text: str, layer: str, language_model=model):\n",
    "    with torch.no_grad():\n",
    "        with language_model.trace() as tracer:\n",
    "            with tracer.invoke(text) as invoker:\n",
    "                eval_string = nnsight_eval_string_for_layer(layer, language_model_var_name=\"language_model\")\n",
    "                my_output = eval(eval_string, {\"language_model\": language_model})\n",
    "    \n",
    "    if isinstance(my_output, tuple) and len(my_output) > 1:\n",
    "        return my_output[0]\n",
    "    else:\n",
    "        return my_output\n",
    "        \n",
    "def compute_diff_vector(prompts, num_features, layer_name=layer_name, language_model=model, sae=sae, tokenizer=tokenizer):\n",
    "    \n",
    "    diff_vectors = []\n",
    "    for prompt in tqdm(prompts, desc=\"Processing prompts\"):\n",
    "        \n",
    "        original_activations = encode_text_to_activations_for_layer(prompt, layer_name, language_model)\n",
    "        sae_encoder_output = sae.encode(original_activations)\n",
    "        top_indices = sae_encoder_output.top_indices[0].cpu().numpy()\n",
    "        top_acts = sae_encoder_output.top_acts[0].detach().cpu().numpy()\n",
    "        \n",
    "        tokens = tokenizer.tokenize(prompt)\n",
    "        sae_output = SaeOutput(\n",
    "            sae_name=layer_name,\n",
    "            sae=sae,\n",
    "            text=prompt,\n",
    "            tokens=tokens,\n",
    "            raw_acts=original_activations.cpu().numpy().tolist(),\n",
    "            top_acts=top_acts.tolist(),\n",
    "            top_indices=top_indices.tolist()\n",
    "        )\n",
    "        \n",
    "        # Find features at the last position\n",
    "        last_position = len(sae_output.top_indices) - 1\n",
    "        last_pos_indices = sae_output.top_indices[last_position]\n",
    "        last_pos_acts = sae_output.top_acts[last_position]\n",
    "        \n",
    "        pairs = sorted(zip(last_pos_indices, last_pos_acts), key=lambda x: x[1], reverse=True)\n",
    "        \n",
    "        # Get features to ablate (all except top num_features)\n",
    "        target_features_to_ablate = []\n",
    "        if len(pairs) > num_features:\n",
    "            target_features_to_ablate = [idx for idx, _ in pairs[num_features:]]\n",
    "        \n",
    "        # Process features\n",
    "        num_tokens = len(sae_output.top_acts)\n",
    "        num_feats = len(sae_output.top_acts[0])\n",
    "        \n",
    "        new_indices = deepcopy(sae_output.top_indices)\n",
    "        new_acts = deepcopy(sae_output.top_acts)\n",
    "        \n",
    "        # Zero out activations for features to ablate\n",
    "        for i, row in enumerate(new_indices):\n",
    "            for target_feature in target_features_to_ablate:\n",
    "                if target_feature in row:\n",
    "                    index = row.index(target_feature)\n",
    "                    new_acts[i][index] = 0\n",
    "        \n",
    "        # Decode using the original and modified activations\n",
    "        old_vector = sae.decode(top_indices=torch.tensor(sae_output.top_indices).cuda(),\n",
    "                                top_acts=torch.tensor(sae_output.top_acts).cuda())\n",
    "        ablated_vector = sae.decode(top_indices=torch.tensor(new_indices).cuda(),\n",
    "                                    top_acts=torch.tensor(new_acts).cuda())\n",
    "        \n",
    "        # Get the difference vector\n",
    "        difference_vector = ablated_vector - old_vector\n",
    "        diff_vectors.append(difference_vector)\n",
    "    \n",
    "    final_diff = torch.stack(diff_vectors).mean(0)\n",
    "    return final_diff"
   ]
  },
  {
   "cell_type": "code",
   "execution_count": null,
   "id": "45c365b6-33a4-414a-9780-af1734a7721c",
   "metadata": {
    "scrolled": true
   },
   "outputs": [],
   "source": [
    "from nnsight import LanguageModel\n",
    "import torch\n",
    "   \n",
    "def find_similarity_ffeatures(prompts, ref_answers, difference_vector):\n",
    "\n",
    "\n",
    "    simils = []\n",
    "    for i, prompt in tqdm(enumerate(prompts)): \n",
    "        \n",
    "        with model.generate(prompt,max_new_tokens=20, pad_token_id=model.tokenizer.eos_token_id, temperature=0.01, \n",
    "                                top_p=0.9, eos_token_id=model.tokenizer.eos_token_id, do_sample=True, early_stopping=True) as tracer:\n",
    "            \n",
    "            attention_output = model.model.layers[layer_idx].self_attn.output[0].save()\n",
    "            \n",
    "            modified_attention = attention_output[0] + difference_vector\n",
    "            \n",
    "\n",
    "            model.model.layers[layer_idx].self_attn.output = (modified_attention,) + model.model.layers[layer_idx].self_attn.output[1:]\n",
    "\n",
    "            out = model.generator.output.save()\n",
    "    \n",
    "        gen_text = model.tokenizer.decode(out[0], skip_special_tokens=True).split('Response: ')[1]\n",
    "        similarity = calculate_similarity(gen_text, ref_answers[i])\n",
    "        simils.append(similarity)\n",
    "    \n",
    "    print('Total Similarity', sum(simils)/len(simils))\n",
    "\n",
    "    return sum(simils)/len(simils)\n",
    "\n",
    "    \n",
    "    "
   ]
  },
  {
   "cell_type": "code",
   "execution_count": 518,
   "id": "ae7876db-74e8-4536-a64a-2d70adcd3936",
   "metadata": {},
   "outputs": [],
   "source": [
    "layer_name =  f'model.layers.{layer_idx}.post_attention_layernorm'\n",
    "sae = loaded_saes.layer_to_saes[layer_name]"
   ]
  },
  {
   "cell_type": "code",
   "execution_count": 519,
   "id": "d8c26d57-4a00-4897-8d31-c2eae6778e1f",
   "metadata": {
    "scrolled": true
   },
   "outputs": [
    {
     "name": "stderr",
     "output_type": "stream",
     "text": [
      "Processing prompts: 100%|██████████| 100/100 [00:02<00:00, 38.25it/s]\n",
      "100it [00:31,  3.19it/s]\n"
     ]
    },
    {
     "name": "stdout",
     "output_type": "stream",
     "text": [
      "Total Similarity 0.3939999999999998\n",
      "1 features: 0.3940 similarity\n"
     ]
    },
    {
     "name": "stderr",
     "output_type": "stream",
     "text": [
      "Processing prompts: 100%|██████████| 100/100 [00:02<00:00, 37.61it/s]\n",
      "100it [00:38,  2.58it/s]\n"
     ]
    },
    {
     "name": "stdout",
     "output_type": "stream",
     "text": [
      "Total Similarity 0.144\n",
      "2 features: 0.1440 similarity\n"
     ]
    },
    {
     "name": "stderr",
     "output_type": "stream",
     "text": [
      "Processing prompts: 100%|██████████| 100/100 [00:02<00:00, 37.91it/s]\n",
      "100it [00:37,  2.67it/s]\n"
     ]
    },
    {
     "name": "stdout",
     "output_type": "stream",
     "text": [
      "Total Similarity 0.736\n",
      "3 features: 0.7360 similarity\n"
     ]
    },
    {
     "name": "stderr",
     "output_type": "stream",
     "text": [
      "Processing prompts: 100%|██████████| 100/100 [00:02<00:00, 37.73it/s]\n",
      "100it [00:36,  2.75it/s]\n"
     ]
    },
    {
     "name": "stdout",
     "output_type": "stream",
     "text": [
      "Total Similarity 0.614\n",
      "4 features: 0.6140 similarity\n"
     ]
    },
    {
     "name": "stderr",
     "output_type": "stream",
     "text": [
      "Processing prompts: 100%|██████████| 100/100 [00:02<00:00, 37.99it/s]\n",
      "100it [00:13,  7.15it/s]\n"
     ]
    },
    {
     "name": "stdout",
     "output_type": "stream",
     "text": [
      "Total Similarity 1.0\n",
      "5 features: 1.0000 similarity\n"
     ]
    },
    {
     "name": "stderr",
     "output_type": "stream",
     "text": [
      "Processing prompts: 100%|██████████| 100/100 [00:02<00:00, 37.91it/s]\n",
      "100it [00:14,  7.11it/s]\n"
     ]
    },
    {
     "name": "stdout",
     "output_type": "stream",
     "text": [
      "Total Similarity 1.0\n",
      "6 features: 1.0000 similarity\n"
     ]
    },
    {
     "name": "stderr",
     "output_type": "stream",
     "text": [
      "Processing prompts: 100%|██████████| 100/100 [00:02<00:00, 37.77it/s]\n",
      "100it [00:14,  7.10it/s]\n"
     ]
    },
    {
     "name": "stdout",
     "output_type": "stream",
     "text": [
      "Total Similarity 1.0\n",
      "7 features: 1.0000 similarity\n",
      "Stopping at 7 features - similarity 1.0000 has flattened (avg improvement: 0.0000)\n"
     ]
    },
    {
     "name": "stderr",
     "output_type": "stream",
     "text": [
      "Processing prompts: 100%|██████████| 100/100 [00:02<00:00, 37.63it/s]\n"
     ]
    }
   ],
   "source": [
    "def find_optimal_features(prompts, ref_answers, max_features=32, min_similarity=0.7, window_size=3, flatness_threshold=0.02):\n",
    "    similarities = []\n",
    "    \n",
    "    # Test each feature count\n",
    "    for num in range(1, max_features+1):\n",
    "        diff = compute_diff_vector(prompts, num)\n",
    "        sim = find_similarity_ffeatures(prompts, ref_answers, diff)\n",
    "        similarities.append(sim)\n",
    "        \n",
    "        print(f\"{num} features: {sim:.4f} similarity\")\n",
    "        \n",
    "        # Check if we've exceeded minimum similarity\n",
    "        if sim >= min_similarity:\n",
    "            # Check if the curve has flattened (using sliding window)\n",
    "            if len(similarities) >= window_size:\n",
    "                # Calculate improvement over the last few steps\n",
    "                recent_improvements = [similarities[i] - similarities[i-1] for i in range(len(similarities)-window_size+1, len(similarities))]\n",
    "                avg_improvement = sum(recent_improvements) / len(recent_improvements)\n",
    "                \n",
    "                # If improvement is below threshold, we've flattened\n",
    "                if avg_improvement < flatness_threshold:\n",
    "                    print(f\"Stopping at {num} features - similarity {sim:.4f} has flattened (avg improvement: {avg_improvement:.4f})\")\n",
    "                    return num, sim\n",
    "    \n",
    "    # If we reach max_features or don't find a flattening point\n",
    "    print(f\"Reached maximum {max_features} features with similarity {similarities[-1]:.4f}\")\n",
    "    return max_features, similarities[-1]\n",
    "\n",
    "\n",
    "optimal_features, final_sim = find_optimal_features(\n",
    "    prompts, \n",
    "    ref_answers, \n",
    "    max_features=32, \n",
    "    min_similarity=0.7, \n",
    "    window_size=3, \n",
    "    flatness_threshold=0.02\n",
    ")\n",
    "final_diff = compute_diff_vector(prompts, optimal_features)"
   ]
  },
  {
   "cell_type": "code",
   "execution_count": null,
   "id": "d1e3c8ac-fcb2-4713-b8a9-d5ae1e75a90f",
   "metadata": {
    "jupyter": {
     "source_hidden": true
    }
   },
   "outputs": [],
   "source": [
    "import torch\n",
    "import numpy as np\n",
    "import matplotlib.pyplot as plt\n",
    "\n",
    "# Define the block size based on the model architecture\n",
    "head_dim = 64   # hidden_size / num_heads = 1024 / 16 = 64\n",
    "num_heads = 14  \n",
    "num_features = optimal_features\n",
    "\n",
    "def analyze_feature_to_heads(feature_num):\n",
    "    with torch.no_grad():\n",
    "        decoder_weights = sae.W_dec  \n",
    "        \n",
    "        feature_vector = decoder_weights[feature_num].clone()\n",
    "        \n",
    "        total_size = feature_vector.numel()\n",
    "        \n",
    "        # For attention layers, we expect the size to be hidden_size (1024)\n",
    "        if total_size != head_dim * num_heads:\n",
    "            print(f\"Warning: Vector size {total_size} doesn't match expected size {head_dim * num_heads}\")\n",
    "            if \"attn\" not in layer_name:\n",
    "                print(f\"This may not be an attention layer: {layer_name}\")\n",
    "                return np.zeros(num_heads)\n",
    "        \n",
    "        # Reshape to match attention heads structure\n",
    "        try:\n",
    "            feature_vector = feature_vector.reshape(num_heads, head_dim)\n",
    "        except RuntimeError:\n",
    "            print(f\"Could not reshape vector of size {total_size} to {num_heads}x{head_dim}\")\n",
    "            # If reshaping fails, just compute overall magnitude\n",
    "            return torch.norm(feature_vector.view(1, -1), dim=1).repeat(num_heads).cpu().numpy()\n",
    "    \n",
    "    # Compute magnitude per head\n",
    "    head_magnitudes = torch.norm(feature_vector, dim=-1).cpu().numpy()\n",
    "    \n",
    "    return head_magnitudes\n",
    "\n",
    "# Select heads based on area under the curve\n",
    "def select_important_heads(heads, magnitudes, contribution_threshold=0.8):\n",
    "\n",
    "    heads = np.array(heads)\n",
    "    magnitudes = np.array([float(m) for m in magnitudes])\n",
    "    \n",
    "    # Sort by magnitude (descending)\n",
    "    sorted_indices = np.argsort(magnitudes)[::-1]\n",
    "    sorted_heads = heads[sorted_indices]\n",
    "    sorted_magnitudes = magnitudes[sorted_indices]\n",
    "    \n",
    "    # Calculate difference from each magnitude to the minimum\n",
    "    min_magnitude = np.min(sorted_magnitudes)\n",
    "    differences = sorted_magnitudes - min_magnitude\n",
    "    \n",
    "    # Calculate total area under the difference curve\n",
    "    total_area = np.sum(differences)\n",
    "    \n",
    "    # Calculate individual and cumulative contributions\n",
    "    contributions = differences / total_area if total_area > 0 else np.zeros_like(differences)\n",
    "    cumulative_contributions = np.cumsum(contributions)\n",
    "    \n",
    "    # Find cutoff index based on contribution threshold\n",
    "    cutoff_indices = np.where(cumulative_contributions >= contribution_threshold)[0]\n",
    "    cutoff_index = cutoff_indices[0] if len(cutoff_indices) > 0 else len(sorted_heads) - 1\n",
    "    \n",
    "    # Get selected heads\n",
    "    selected_heads = sorted_heads[:cutoff_index + 1].tolist()\n",
    "    \n",
    "    analysis = {\n",
    "        'all_heads': sorted_heads,\n",
    "        'all_magnitudes': sorted_magnitudes,\n",
    "        'differences': differences,\n",
    "        'contributions': contributions,\n",
    "        'cumulative_contributions': cumulative_contributions,\n",
    "        'cutoff_index': cutoff_index,\n",
    "        'cutoff_value': sorted_magnitudes[cutoff_index] if cutoff_index < len(sorted_magnitudes) else None,\n",
    "        'total_selected_contribution': cumulative_contributions[cutoff_index] if cutoff_index < len(sorted_magnitudes) else 1.0\n",
    "    }\n",
    "    \n",
    "    return selected_heads, analysis"
   ]
  },
  {
   "cell_type": "code",
   "execution_count": null,
   "id": "9c198150-09fd-4731-aca9-ba03c80d435b",
   "metadata": {
    "scrolled": true
   },
   "outputs": [
    {
     "name": "stderr",
     "output_type": "stream",
     "text": [
      "Processing prompts: 100%|██████████| 100/100 [00:02<00:00, 38.24it/s]"
     ]
    },
    {
     "name": "stdout",
     "output_type": "stream",
     "text": [
      "\n",
      "Heads sorted by total score across all prompts:\n",
      "Head 0: Total score 197.4875\n",
      "Head 7: Total score 196.2874\n",
      "Head 13: Total score 193.6004\n",
      "Head 3: Total score 190.1005\n",
      "Head 10: Total score 190.0135\n",
      "Head 11: Total score 187.7039\n",
      "Head 2: Total score 186.6746\n",
      "Head 12: Total score 186.2337\n",
      "Head 1: Total score 185.5291\n",
      "Head 4: Total score 183.7622\n",
      "Head 6: Total score 180.9171\n",
      "Head 8: Total score 179.1879\n",
      "Head 9: Total score 174.8027\n",
      "Head 5: Total score 174.4957\n",
      "\n",
      "Selected heads (contributing to 80% of area under curve): [0, 7, 13, 3, 10, 11, 2, 12, 1]\n",
      "Selection covers 87.37% of the area\n"
     ]
    },
    {
     "name": "stderr",
     "output_type": "stream",
     "text": [
      "\n"
     ]
    }
   ],
   "source": [
    "from tqdm import tqdm\n",
    "import numpy as np\n",
    "\n",
    "accumulated_head_scores = {}\n",
    "\n",
    "for prompt in tqdm(prompts, desc=\"Processing prompts\"):\n",
    "    original_activations = encode_text_to_activations_for_layer(prompt, layer_name)\n",
    "    sae_encoder_output = sae.encode(original_activations)\n",
    "    top_indices = sae_encoder_output.top_indices[0].cpu().numpy()\n",
    "    top_acts = sae_encoder_output.top_acts[0].detach().cpu().numpy()\n",
    "    tokens = tokenizer.tokenize(prompt)  \n",
    "    sae_output = SaeOutput(\n",
    "        sae_name=layer_name,\n",
    "        sae=sae,\n",
    "        text=prompt,  \n",
    "        tokens=tokens,\n",
    "        raw_acts=original_activations.cpu().numpy().tolist(),\n",
    "        top_acts=top_acts.tolist(),\n",
    "        top_indices=top_indices.tolist()\n",
    "    ) \n",
    "    \n",
    "    last_position = len(sae_output.top_indices) - 1\n",
    "    last_position_indices = sae_output.top_indices[last_position]\n",
    "    last_position_acts = sae_output.top_acts[last_position]\n",
    "    \n",
    "    pairs = sorted(zip(last_position_indices, last_position_acts), key=lambda x: x[1], reverse=True)\n",
    "    \n",
    "    features_kept = []\n",
    "    if len(pairs) > num_features:\n",
    "        features_kept = [idx for idx, _ in pairs[:num_features]]   \n",
    "    else:\n",
    "        features_kept = [idx for idx, _ in pairs]\n",
    "    \n",
    "    \n",
    "    # Process each feature and accumulate head scores\n",
    "    for feature in features_kept:\n",
    "        head_magnitudes = analyze_feature_to_heads(feature)\n",
    "        \n",
    "        for head_idx, magnitude in enumerate(head_magnitudes):\n",
    "            if head_idx not in accumulated_head_scores:\n",
    "                accumulated_head_scores[head_idx] = 0\n",
    "            accumulated_head_scores[head_idx] += magnitude\n",
    "\n",
    "# Sort heads by their total scores\n",
    "sorted_head_scores = sorted(accumulated_head_scores.items(), key=lambda x: x[1], reverse=True)\n",
    "print(\"\\nHeads sorted by total score across all prompts:\")\n",
    "for head_idx, total_score in sorted_head_scores:\n",
    "    print(f\"Head {head_idx}: Total score {total_score:.4f}\")\n",
    "\n",
    "# Apply area under the curve analysis to select important heads\n",
    "def select_heads_by_auc(head_scores, contribution_threshold=0.8):\n",
    "    # Extract head indices and scores\n",
    "    heads = np.array(list(head_scores.keys()))\n",
    "    scores = np.array(list(head_scores.values()))\n",
    "    \n",
    "    # Sort by score (descending)\n",
    "    sorted_indices = np.argsort(scores)[::-1]\n",
    "    sorted_heads = heads[sorted_indices]\n",
    "    sorted_scores = scores[sorted_indices]\n",
    "    \n",
    "    # Calculate difference from each score to the minimum\n",
    "    min_score = np.min(sorted_scores)\n",
    "    differences = sorted_scores - min_score\n",
    "    \n",
    "    # Calculate total area under the difference curve\n",
    "    total_area = np.sum(differences)\n",
    "    \n",
    "    # Calculate individual and cumulative contributions\n",
    "    contributions = differences / total_area if total_area > 0 else np.zeros_like(differences)\n",
    "    cumulative_contributions = np.cumsum(contributions)\n",
    "    \n",
    "    # Find cutoff index based on contribution threshold\n",
    "    cutoff_indices = np.where(cumulative_contributions >= contribution_threshold)[0]\n",
    "    cutoff_index = cutoff_indices[0] if len(cutoff_indices) > 0 else len(sorted_heads) - 1\n",
    "    \n",
    "    # Make sure cutoff_index is valid\n",
    "    if cutoff_index >= len(sorted_heads):\n",
    "        cutoff_index = len(sorted_heads) - 1\n",
    "    elif cutoff_index < 0:\n",
    "        cutoff_index = 0\n",
    "    \n",
    "    # Get selected heads\n",
    "    selected_heads = sorted_heads[:cutoff_index + 1].tolist()\n",
    "    \n",
    "    return selected_heads, {\n",
    "        'all_heads': sorted_heads,\n",
    "        'all_scores': sorted_scores,\n",
    "        'cutoff_index': cutoff_index,\n",
    "        'total_selected_contribution': cumulative_contributions[cutoff_index] if cutoff_index < len(cumulative_contributions) else 1.0\n",
    "    }\n",
    "\n",
    "# Select important heads based on 80% area under the curve\n",
    "selected_heads, analysis = select_heads_by_auc(accumulated_head_scores, contribution_threshold=0.85)\n",
    "print(f\"\\nSelected heads (contributing to 80% of area under curve): {selected_heads}\")\n",
    "print(f\"Selection covers {analysis['total_selected_contribution']*100:.2f}% of the area\")"
   ]
  },
  {
   "cell_type": "markdown",
   "id": "220a87c4-e161-4130-b052-00fb96177104",
   "metadata": {},
   "source": [
    "## Testing"
   ]
  },
  {
   "cell_type": "code",
   "execution_count": null,
   "id": "0335a680-99b6-43d7-bc3e-1033c6a9602e",
   "metadata": {},
   "outputs": [
    {
     "name": "stderr",
     "output_type": "stream",
     "text": [
      "100it [00:25,  3.97it/s]"
     ]
    },
    {
     "name": "stdout",
     "output_type": "stream",
     "text": [
      "Total Similarity 0.9039999999999995\n"
     ]
    },
    {
     "name": "stderr",
     "output_type": "stream",
     "text": [
      "\n"
     ]
    }
   ],
   "source": [
    "from nnsight import LanguageModel\n",
    "import torch\n",
    "\n",
    "simils = []\n",
    "for i, prompt in tqdm(enumerate(prompts)): \n",
    "    \n",
    "    with model.generate(prompt,max_new_tokens=20, pad_token_id=model.tokenizer.eos_token_id, temperature=0.01, \n",
    "                            top_p=0.9, eos_token_id=model.tokenizer.eos_token_id, do_sample=True, early_stopping=True) as tracer:\n",
    "        \n",
    "        attention_output = model.model.layers[layer_idx].self_attn.output[0].save()\n",
    "        \n",
    "\n",
    "        modified_attention = attention_output[0] + final_diff\n",
    "        \n",
    "        model.model.layers[layer_idx].self_attn.output = (modified_attention,) + model.model.layers[layer_idx].self_attn.output[1:]\n",
    "        \n",
    "        out = model.generator.output.save()\n",
    "\n",
    "    gen_text = model.tokenizer.decode(out[0], skip_special_tokens=True).split('Response: ')[1]\n",
    "    similarity = calculate_similarity(gen_text, ref_answers[i])\n",
    "    simils.append(similarity)\n",
    "\n",
    "print('Total Similarity', sum(simils)/len(simils))"
   ]
  },
  {
   "cell_type": "code",
   "execution_count": null,
   "id": "093735b2-9385-46a7-aba6-fd6601164aea",
   "metadata": {},
   "outputs": [
    {
     "name": "stderr",
     "output_type": "stream",
     "text": [
      "100it [00:13,  7.18it/s]"
     ]
    },
    {
     "name": "stdout",
     "output_type": "stream",
     "text": [
      "Total Similarity 1.0\n"
     ]
    },
    {
     "name": "stderr",
     "output_type": "stream",
     "text": [
      "\n"
     ]
    }
   ],
   "source": [
    "from nnsight import LanguageModel\n",
    "import torch\n",
    "\n",
    "simils = []\n",
    "for i, prompt in tqdm(enumerate(prompts)): \n",
    "    \n",
    "    with model.generate(prompt,max_new_tokens=20, pad_token_id=model.tokenizer.eos_token_id, temperature=0.01, \n",
    "                            top_p=0.9, eos_token_id=model.tokenizer.eos_token_id, do_sample=True, early_stopping=True) as tracer:\n",
    "        \n",
    "        out = model.generator.output.save()\n",
    "\n",
    "    gen_text = model.tokenizer.decode(out[0], skip_special_tokens=True).split('Response: ')[1]\n",
    "    similarity = calculate_similarity(gen_text, ref_answers[i])\n",
    "    simils.append(similarity)\n",
    "\n",
    "print('Total Similarity', sum(simils)/len(simils))"
   ]
  },
  {
   "cell_type": "code",
   "execution_count": 140,
   "id": "10699847-eca3-4c49-b4a1-185d16b18448",
   "metadata": {},
   "outputs": [
    {
     "name": "stderr",
     "output_type": "stream",
     "text": [
      "huggingface/tokenizers: The current process just got forked, after parallelism has already been used. Disabling parallelism to avoid deadlocks...\n",
      "To disable this warning, you can either:\n",
      "\t- Avoid using `tokenizers` before the fork if possible\n",
      "\t- Explicitly set the environment variable TOKENIZERS_PARALLELISM=(true | false)\n"
     ]
    }
   ],
   "source": [
    "! pip install einops -q"
   ]
  },
  {
   "cell_type": "code",
   "execution_count": 10,
   "id": "8d41a73e-7e48-48da-9762-32730c90261b",
   "metadata": {},
   "outputs": [],
   "source": [
    "def compute_head_means(model, prompt_texts):\n",
    "    layer_means = []  \n",
    "    \n",
    "    with model.generate(prompt_texts,max_new_tokens=7, pad_token_id=model.tokenizer.eos_token_id, temperature=0.5, \n",
    "                        top_p=0.9, eos_token_id=model.tokenizer.eos_token_id, do_sample=True, early_stopping=True) as tracer:\n",
    "        for layer_idx in range(24):\n",
    "            attn_output = model.model.layers[layer_idx].self_attn.output[0]\n",
    "            \n",
    "            output_reshaped = einops.rearrange(\n",
    "                attn_output, \n",
    "                'b s (nh dh) -> b s nh dh',\n",
    "                nh=N_HEADS\n",
    "            )\n",
    "            \n",
    "            # Calculate mean across samples\n",
    "            head_means = output_reshaped.mean(dim=0)  # Shape: [s, nh, dh]\n",
    "            layer_means.append(head_means.save())\n",
    "            \n",
    "    return layer_means\n",
    "\n",
    "\n",
    "\n",
    "def zero_heads_with_means(model, prompt_text, target_layers, heads_per_layer, layer_means, mean=True):\n",
    "    with model.generate(prompt_text,max_new_tokens=7, pad_token_id=model.tokenizer.eos_token_id, temperature=0.5, \n",
    "                        top_p=0.9, eos_token_id=model.tokenizer.eos_token_id, do_sample=True, early_stopping=True) as tracer:\n",
    "        hidden_states = []\n",
    "        for layer_id in range(24):\n",
    "            # Get attention output\n",
    "            attn_output = model.model.layers[layer_id].self_attn.output[0]\n",
    "            target_heads = heads_per_layer[layer_id]\n",
    "            \n",
    "            \n",
    "            output_reshaped = einops.rearrange(\n",
    "                attn_output, \n",
    "                'b s (nh dh) -> b s nh dh',\n",
    "                nh=N_HEADS\n",
    "            )\n",
    "            \n",
    "            head_means = layer_means[layer_id]  # Shape: [s, nh, dh]\n",
    "            # output_reshaped = head_means.expand_as(output_reshaped)\n",
    "            if layer_id not in target_layers:\n",
    "                if mean:\n",
    "                    output_reshaped = head_means.expand_as(output_reshaped)\n",
    "                else:\n",
    "                    output_reshaped = torch.zeros_like(head_means.expand_as(output_reshaped))\n",
    "\n",
    "            if layer_id in target_layers:\n",
    "                for head_idx in range(N_HEADS):\n",
    "                    if head_idx not in target_heads:\n",
    "                        if mean:\n",
    "                            output_reshaped[:, :, head_idx, :] = head_means[:, head_idx, :].unsqueeze(0)\n",
    "                        else:\n",
    "                            output_reshaped[:, :, head_idx, :] = torch.zeros_like(head_means[:, head_idx, :].unsqueeze(0))\n",
    "                        \n",
    "\n",
    "            \n",
    "            # Reshape back to original format\n",
    "            modified_attn = einops.rearrange(\n",
    "                output_reshaped,\n",
    "                'b s nh dh -> b s (nh dh)', \n",
    "                nh=N_HEADS\n",
    "            )\n",
    "            \n",
    "            # Update only the attention output\n",
    "            model.model.layers[layer_id].self_attn.output = (modified_attn,) + model.model.layers[layer_id].self_attn.output[1:]\n",
    "            \n",
    "            # Store the full layer output (which includes both attention and MLP)\n",
    "            hidden_states.append(model.model.layers[layer_id].output[0].save())\n",
    "            \n",
    "        out = model.generator.output.save()\n",
    "        \n",
    "    return hidden_states, out"
   ]
  },
  {
   "cell_type": "code",
   "execution_count": null,
   "id": "79a1128a-9b69-4919-8aa6-2aca8486840d",
   "metadata": {},
   "outputs": [],
   "source": [
    "import einops\n",
    "N_HEADS = 16\n",
    "layer_means = compute_head_means(model, prompts)"
   ]
  },
  {
   "cell_type": "code",
   "execution_count": null,
   "id": "991e4490-00e4-4c3f-9aed-fae8f646e09c",
   "metadata": {},
   "outputs": [],
   "source": [
    "target_layers = list(range(24))\n",
    "heads_per_layer = {}\n",
    "for i in range(24):\n",
    "    heads_per_layer[i] = list(range(16))\n",
    "\n",
    "heads_per_layer[layer_idx] = [12, 1, 9, 13, 5, 2, 6]\n",
    "\n",
    "\n",
    "results = []\n",
    "for i, prompt in enumerate(prompts):\n",
    "   hidden_states, output = zero_heads_with_means(model, prompt, target_layers, heads_per_layer, layer_means, mean=False)\n",
    "   gen_text = model.tokenizer.decode(output[0], skip_special_tokens=True).split('Response: ')[1]\n",
    "   similarity = calculate_similarity(gen_text, ref_answers[i])\n",
    "   results.append({\n",
    "       'output': gen_text, \n",
    "       'similarity': similarity\n",
    "   })"
   ]
  },
  {
   "cell_type": "code",
   "execution_count": 25,
   "id": "197bec09-abee-47c3-bb50-1e7f552cc1a1",
   "metadata": {},
   "outputs": [
    {
     "name": "stdout",
     "output_type": "stream",
     "text": [
      "Average similarity: 0.9200000000000002\n"
     ]
    }
   ],
   "source": [
    "total_similarity = sum(r['similarity'] for r in results)\n",
    "avg_similarity = total_similarity / len(results)\n",
    "print(f\"Average similarity: {avg_similarity}\")"
   ]
  }
 ],
 "metadata": {
  "kernelspec": {
   "display_name": "Python3 (ipykernel)",
   "language": "python",
   "name": "python3"
  },
  "language_info": {
   "codemirror_mode": {
    "name": "ipython",
    "version": 3
   },
   "file_extension": ".py",
   "mimetype": "text/x-python",
   "name": "python",
   "nbconvert_exporter": "python",
   "pygments_lexer": "ipython3",
   "version": "3.10.12"
  }
 },
 "nbformat": 4,
 "nbformat_minor": 5
}
