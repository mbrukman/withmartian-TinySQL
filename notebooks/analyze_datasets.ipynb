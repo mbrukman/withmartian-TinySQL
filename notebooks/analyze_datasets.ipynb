{
 "cells": [
  {
   "cell_type": "code",
   "execution_count": null,
   "id": "bd16be97-a5ea-40dc-a18a-45aa312cd86f",
   "metadata": {},
   "outputs": [],
   "source": [
    "from datasets import load_dataset"
   ]
  },
  {
   "cell_type": "code",
   "execution_count": null,
   "id": "7a8a5ce8-b91f-4bcb-9809-81c0bb70ace7",
   "metadata": {},
   "outputs": [],
   "source": [
    "cs1 = load_dataset(\"withmartian/cs1_dataset\")\n",
    "cs2 = load_dataset(\"withmartian/cs2_dataset\")\n",
    "cs3 = load_dataset(\"withmartian/cs3_dataset\")\n",
    "cs4 = cs5 = load_dataset(\"lukemarks/cs5_dataset_synonyms\")\n",
    "cs5 = load_dataset(\"lukemarks/cs5_dataset_synonyms\")"
   ]
  },
  {
   "cell_type": "code",
   "execution_count": null,
   "id": "294a03ac-acfd-4e78-83e9-7c707ec941fd",
   "metadata": {},
   "outputs": [],
   "source": [
    "len(set(cs2['train']['table_name']))"
   ]
  },
  {
   "cell_type": "code",
   "execution_count": null,
   "id": "356bbf50-bbf5-4bb3-9541-fd8a861696aa",
   "metadata": {},
   "outputs": [],
   "source": [
    "all_fields = cs2['train']['table_fields']"
   ]
  },
  {
   "cell_type": "code",
   "execution_count": null,
   "id": "4da9585c-9850-464d-a12b-34f6ff1c758a",
   "metadata": {},
   "outputs": [],
   "source": [
    "import json\n",
    "all_names = set()\n",
    "for item in all_fields:\n",
    "    all_x = json.loads(item)\n",
    "    for subitem in all_x:\n",
    "        all_names.add(subitem['name'])\n",
    "all_field_names = set(all_names)"
   ]
  },
  {
   "cell_type": "code",
   "execution_count": null,
   "id": "0356ae0c-2f99-438e-8582-f936ee41179b",
   "metadata": {},
   "outputs": [],
   "source": [
    "len(all_field_names)"
   ]
  },
  {
   "cell_type": "code",
   "execution_count": null,
   "id": "d555ae85-fb50-4235-8120-422531aa1fbc",
   "metadata": {},
   "outputs": [],
   "source": [
    "train = cs5['train']"
   ]
  },
  {
   "cell_type": "code",
   "execution_count": null,
   "id": "c2bf4da8-8985-445f-8031-98b4af366efd",
   "metadata": {},
   "outputs": [],
   "source": [
    "has_join = train.filter(lambda x: \"JOIN\" in x['sql_statement'])"
   ]
  },
  {
   "cell_type": "code",
   "execution_count": null,
   "id": "6029cf2f-d8ce-4a97-b16c-6dc1a6ee2ffe",
   "metadata": {},
   "outputs": [],
   "source": [
    "len(has_join) / len(train)"
   ]
  },
  {
   "cell_type": "code",
   "execution_count": null,
   "id": "f738da0d-a0c0-4dc6-98ef-7e412eeb697b",
   "metadata": {},
   "outputs": [],
   "source": [
    "# rarity, lexical density, Flesch reading ease, schema linkage"
   ]
  },
  {
   "cell_type": "code",
   "execution_count": null,
   "id": "790b145f-2c4a-4c43-91c3-0a83c8120188",
   "metadata": {},
   "outputs": [],
   "source": [
    "! git clone https://github.com/athenarc/Experimental-Analysis-of-Text-to-SQL-Benchmarks.git"
   ]
  },
  {
   "cell_type": "code",
   "execution_count": null,
   "id": "996d110e-b652-48fb-bdf3-e9993cbae0b7",
   "metadata": {},
   "outputs": [],
   "source": [
    "from DatasetAnalysisTools.QuestionInfo.question_info import QuestionInfo"
   ]
  },
  {
   "cell_type": "code",
   "execution_count": null,
   "id": "c051930f-a57d-48b4-b786-422071ec7828",
   "metadata": {},
   "outputs": [],
   "source": [
    "def get_metrics(input_string):\n",
    "    q_info = QuestionInfo(input_string)\n",
    "    return q_info\n",
    "\n",
    "q_info = get_metrics(\"What is the capital of California?\")"
   ]
  },
  {
   "cell_type": "code",
   "execution_count": null,
   "id": "62e4bacb-1e65-401e-bb56-af54602e4656",
   "metadata": {},
   "outputs": [],
   "source": [
    "! pip install spacy textstat language_tool_python wordfreq"
   ]
  }
 ],
 "metadata": {
  "kernelspec": {
   "display_name": "Python 3 (ipykernel)",
   "language": "python",
   "name": "python3"
  },
  "language_info": {
   "codemirror_mode": {
    "name": "ipython",
    "version": 3
   },
   "file_extension": ".py",
   "mimetype": "text/x-python",
   "name": "python",
   "nbconvert_exporter": "python",
   "pygments_lexer": "ipython3",
   "version": "3.11.10"
  }
 },
 "nbformat": 4,
 "nbformat_minor": 5
}
