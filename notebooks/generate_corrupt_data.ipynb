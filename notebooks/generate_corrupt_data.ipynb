{
 "cells": [
  {
   "cell_type": "code",
   "execution_count": 1,
   "id": "fe7afa2a-0a6b-40a4-adc8-3357ee20c708",
   "metadata": {},
   "outputs": [
    {
     "name": "stdout",
     "output_type": "stream",
     "text": [
      "Cloning into 'TinySQL'...\n",
      "remote: Enumerating objects: 2125, done.\u001b[K\n",
      "remote: Counting objects: 100% (321/321), done.\u001b[K\n",
      "remote: Compressing objects: 100% (222/222), done.\u001b[K\n",
      "remote: Total 2125 (delta 141), reused 130 (delta 99), pack-reused 1804 (from 1)\u001b[K\n",
      "Receiving objects: 100% (2125/2125), 6.87 MiB | 23.85 MiB/s, done.\n",
      "Resolving deltas: 100% (1374/1374), done.\n",
      "Branch 'amir/update_eval' set up to track remote branch 'amir/update_eval' from 'origin'.\n",
      "Switched to a new branch 'amir/update_eval'\n",
      "Processing /home/amir/codes/TinySQL/notebooks/TinySQL\n",
      "  Installing build dependencies ... \u001b[?25ldone\n",
      "\u001b[?25h  Getting requirements to build wheel ... \u001b[?25ldone\n",
      "\u001b[?25h  Preparing metadata (pyproject.toml) ... \u001b[?25ldone\n",
      "\u001b[?25hRequirement already satisfied: wheel in /home/amir/venvs/tinysql/lib/python3.10/site-packages (from TinySQL==1.4) (0.45.1)\n",
      "Requirement already satisfied: numpy>=1.18.1 in /home/amir/venvs/tinysql/lib/python3.10/site-packages (from TinySQL==1.4) (2.2.5)\n",
      "Building wheels for collected packages: TinySQL\n",
      "  Building wheel for TinySQL (pyproject.toml) ... \u001b[?25ldone\n",
      "\u001b[?25h  Created wheel for TinySQL: filename=tinysql-1.4-py3-none-any.whl size=69033 sha256=2e46230c4651dc58ce176e6d9a0aa1378c0ec0375a5864a79f4b4e0b53cd02cb\n",
      "  Stored in directory: /tmp/pip-ephem-wheel-cache-mywf1e27/wheels/d2/cc/1e/33ca2a969810eacceda354310f69088fbb0622ae8d939ee9e8\n",
      "Successfully built TinySQL\n",
      "Installing collected packages: TinySQL\n",
      "  Attempting uninstall: TinySQL\n",
      "    Found existing installation: TinySQL 1.4\n",
      "    Uninstalling TinySQL-1.4:\n",
      "      Successfully uninstalled TinySQL-1.4\n",
      "Successfully installed TinySQL-1.4\n"
     ]
    }
   ],
   "source": [
    "def install_dependencies():\n",
    "    ! rm -rf TinySQL\n",
    "    ! git clone https://github.com/withmartian/TinySQL.git\n",
    "    ! cd TinySQL && git checkout amir/update_eval && pip install .\n",
    "\n",
    "install_dependencies()"
   ]
  },
  {
   "cell_type": "code",
   "execution_count": 2,
   "id": "9bb66542-6f3a-4c9d-a54a-fa2bbd8f3adf",
   "metadata": {},
   "outputs": [],
   "source": [
    "from TinySQL.corrupt_data import CorruptFeatureTestGenerator, DEFWHEREFIELD1\n",
    "from transformers import AutoTokenizer"
   ]
  },
  {
   "cell_type": "code",
   "execution_count": 3,
   "id": "bc8924c4-7dc4-49c6-a016-256e2f54bb0e",
   "metadata": {},
   "outputs": [],
   "source": [
    "model_name = \"withmartian/sql_interp_bm1_cs4_dataset_synonyms_experiment_1.1\"\n",
    "\n",
    "tokenizer = AutoTokenizer.from_pretrained(model_name)"
   ]
  },
  {
   "cell_type": "code",
   "execution_count": 20,
   "id": "35203ad1-1a9c-4bdf-bef0-1ce915f3a2f5",
   "metadata": {},
   "outputs": [],
   "source": [
    "where_generator = CorruptFeatureTestGenerator(use_where=True, tokenizer=tokenizer).get_generators()[DEFWHEREFIELD1]"
   ]
  },
  {
   "cell_type": "code",
   "execution_count": 21,
   "id": "fd4010e3-4c0b-4b00-a473-3bd34880ad16",
   "metadata": {},
   "outputs": [
    {
     "name": "stdout",
     "output_type": "stream",
     "text": [
      "CorruptibleBatchItem(command_set=1, table_name=TableName(name='items', synonym='items', use_synonym=False), table_fields=[TableField(name='type', type='CHAR', synonym='category', use_synonym=False), TableField(name='label', type='TIME', synonym='tag', use_synonym=False)], create_statement='CREATE TABLE items ( type CHAR, label TIME )', select=[SelectField(name='type', aggregate='', synonym='category', use_synonym=False), SelectField(name='label', aggregate='', synonym='tag', use_synonym=False)], order_by=[], order_by_phrase='', agg_phrases=[], english_prompt='show me the type and label from the items table where label is equal to 34', sql_statement='SELECT type, label FROM items WHERE label = 34', where_fields=[TableField(name='label', type='TIME', synonym='tag', use_synonym=False)], where_literals=['34'], join_table='', join_fields=None, join_condition=None, where=['label = 34'], feature_name='DefWhereField1', clean_token_str='label', corrupt_token_str='type', clean_tokenizer_index=6167, corrupt_tokenizer_index=2099, prompt_token_index=-1, answer_token_index=43, corrupt_english_prompt=None, corrupt_join_table=None, corrupt_where=None, corrupt_create_statement=None, corrupt_sql_statement='SELECT type, label FROM items WHERE type = 34', use_novel_names=False)\n",
      "\n",
      "\n",
      "English: show me the type and label from the items table where label is equal to 34\n",
      "SQL: SELECT type, label FROM items WHERE label = 34\n",
      "Corrupt SQL: SELECT type, label FROM items WHERE type = 34\n"
     ]
    }
   ],
   "source": [
    "result = where_generator()\n",
    "\n",
    "print(result)\n",
    "\n",
    "print(\"\\n\")\n",
    "print(\"English: \" + result.english_prompt)\n",
    "print(\"SQL: \" + result.sql_statement)\n",
    "print(\"Corrupt SQL: \" + result.corrupt_sql_statement)"
   ]
  },
  {
   "cell_type": "code",
   "execution_count": 22,
   "id": "0c5ecedd-42f0-42d4-996b-373e451a7b79",
   "metadata": {},
   "outputs": [],
   "source": [
    "context = result.create_statement\n",
    "english = result.english_prompt\n",
    "sql = result.sql_statement\n",
    "corrupt_sql = result.corrupt_sql_statement\n",
    "\n",
    "clean_index = result.clean_tokenizer_index"
   ]
  },
  {
   "cell_type": "code",
   "execution_count": 23,
   "id": "5d494a22-7f41-4924-8d22-5662856f4abc",
   "metadata": {},
   "outputs": [
    {
     "data": {
      "text/plain": [
       "6167"
      ]
     },
     "execution_count": 23,
     "metadata": {},
     "output_type": "execute_result"
    }
   ],
   "source": [
    "clean_index"
   ]
  },
  {
   "cell_type": "code",
   "execution_count": 24,
   "id": "567332a5-7567-47bf-a248-019194cadabe",
   "metadata": {},
   "outputs": [],
   "source": [
    "alpaca_prompt = \"\"\"### Instruction: {} ### Context: {} ### Response: \"\"\"\n",
    "\n",
    "full_prompt = alpaca_prompt.format(english, context) + sql"
   ]
  },
  {
   "cell_type": "code",
   "execution_count": 25,
   "id": "a45b7671-dbf2-40ac-a239-49332f072254",
   "metadata": {},
   "outputs": [],
   "source": [
    "inputs = tokenizer(full_prompt)['input_ids']"
   ]
  },
  {
   "cell_type": "code",
   "execution_count": 26,
   "id": "b8a8019d-5b0c-45c8-84e0-b5bfa9a9fa9f",
   "metadata": {},
   "outputs": [
    {
     "data": {
      "text/plain": [
       "6167"
      ]
     },
     "execution_count": 26,
     "metadata": {},
     "output_type": "execute_result"
    }
   ],
   "source": [
    "inputs[result.answer_token_index]"
   ]
  },
  {
   "cell_type": "code",
   "execution_count": 27,
   "id": "c9fcecae-2781-4b8c-a19f-302e6d10d9ba",
   "metadata": {},
   "outputs": [
    {
     "data": {
      "text/plain": [
       "' label'"
      ]
     },
     "execution_count": 27,
     "metadata": {},
     "output_type": "execute_result"
    }
   ],
   "source": [
    "tokenizer.decode([clean_index])"
   ]
  }
 ],
 "metadata": {
  "kernelspec": {
   "display_name": "Python 3 (ipykernel)",
   "language": "python",
   "name": "python3"
  },
  "language_info": {
   "codemirror_mode": {
    "name": "ipython",
    "version": 3
   },
   "file_extension": ".py",
   "mimetype": "text/x-python",
   "name": "python",
   "nbconvert_exporter": "python",
   "pygments_lexer": "ipython3",
   "version": "3.10.12"
  }
 },
 "nbformat": 4,
 "nbformat_minor": 5
}
