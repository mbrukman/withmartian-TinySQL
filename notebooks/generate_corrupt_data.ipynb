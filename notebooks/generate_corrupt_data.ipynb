{
 "cells": [
  {
   "cell_type": "code",
   "execution_count": null,
   "id": "fe7afa2a-0a6b-40a4-adc8-3357ee20c708",
   "metadata": {},
   "outputs": [],
   "source": [
    "def install_dependencies():\n",
    "    ! rm -rf TinySQL\n",
    "    ! git clone https://github.com/withmartian/TinySQL.git\n",
    "    ! cd TinySQL && git checkout amir/update_eval && pip install .\n",
    "\n",
    "install_dependencies()"
   ]
  },
  {
   "cell_type": "code",
   "execution_count": null,
   "id": "9bb66542-6f3a-4c9d-a54a-fa2bbd8f3adf",
   "metadata": {},
   "outputs": [],
   "source": [
    "from TinySQL.corrupt_data import CorruptFeatureTestGenerator, DEFWHEREFIELD1\n",
    "from transformers import AutoTokenizer"
   ]
  },
  {
   "cell_type": "code",
   "execution_count": null,
   "id": "bc8924c4-7dc4-49c6-a016-256e2f54bb0e",
   "metadata": {},
   "outputs": [],
   "source": [
    "model_name = \"withmartian/sql_interp_bm1_cs4_dataset_synonyms_experiment_1.1\"\n",
    "\n",
    "tokenizer = AutoTokenizer.from_pretrained(model_name)"
   ]
  },
  {
   "cell_type": "code",
   "execution_count": null,
   "id": "35203ad1-1a9c-4bdf-bef0-1ce915f3a2f5",
   "metadata": {},
   "outputs": [],
   "source": [
    "where_generator = CorruptFeatureTestGenerator(use_where=True, tokenizer=tokenizer).get_generators()[DEFWHEREFIELD1]"
   ]
  },
  {
   "cell_type": "code",
   "execution_count": null,
   "id": "fd4010e3-4c0b-4b00-a473-3bd34880ad16",
   "metadata": {},
   "outputs": [],
   "source": [
    "result = where_generator()\n",
    "\n",
    "print(result)\n",
    "\n",
    "print(\"\\n\")\n",
    "print(\"English: \" + result.english_prompt)\n",
    "print(\"SQL: \" + result.sql_statement)\n",
    "print(\"Corrupt SQL: \" + result.corrupt_sql_statement)"
   ]
  },
  {
   "cell_type": "code",
   "execution_count": null,
   "id": "0c5ecedd-42f0-42d4-996b-373e451a7b79",
   "metadata": {},
   "outputs": [],
   "source": [
    "context = result.create_statement\n",
    "english = result.english_prompt\n",
    "sql = result.sql_statement\n",
    "corrupt_sql = result.corrupt_sql_statement\n",
    "\n",
    "clean_index = result.clean_tokenizer_index"
   ]
  },
  {
   "cell_type": "code",
   "execution_count": null,
   "id": "5d494a22-7f41-4924-8d22-5662856f4abc",
   "metadata": {},
   "outputs": [],
   "source": [
    "clean_index"
   ]
  },
  {
   "cell_type": "code",
   "execution_count": null,
   "id": "567332a5-7567-47bf-a248-019194cadabe",
   "metadata": {},
   "outputs": [],
   "source": [
    "alpaca_prompt = \"\"\"### Instruction: {} ### Context: {} ### Response: \"\"\"\n",
    "\n",
    "full_prompt = alpaca_prompt.format(english, context) + sql"
   ]
  },
  {
   "cell_type": "code",
   "execution_count": null,
   "id": "a45b7671-dbf2-40ac-a239-49332f072254",
   "metadata": {},
   "outputs": [],
   "source": [
    "inputs = tokenizer(full_prompt)['input_ids']"
   ]
  },
  {
   "cell_type": "code",
   "execution_count": null,
   "id": "b8a8019d-5b0c-45c8-84e0-b5bfa9a9fa9f",
   "metadata": {},
   "outputs": [],
   "source": [
    "inputs[result.answer_token_index]"
   ]
  },
  {
   "cell_type": "code",
   "execution_count": null,
   "id": "c9fcecae-2781-4b8c-a19f-302e6d10d9ba",
   "metadata": {},
   "outputs": [],
   "source": [
    "tokenizer.decode([clean_index])"
   ]
  }
 ],
 "metadata": {
  "kernelspec": {
   "display_name": "Python 3 (ipykernel)",
   "language": "python",
   "name": "python3"
  },
  "language_info": {
   "codemirror_mode": {
    "name": "ipython",
    "version": 3
   },
   "file_extension": ".py",
   "mimetype": "text/x-python",
   "name": "python",
   "nbconvert_exporter": "python",
   "pygments_lexer": "ipython3",
   "version": "3.10.12"
  }
 },
 "nbformat": 4,
 "nbformat_minor": 5
}
