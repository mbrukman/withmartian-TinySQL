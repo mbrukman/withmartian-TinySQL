{
  "cells": [
    {
      "cell_type": "markdown",
      "metadata": {
        "id": "yQAsYjSQVXHC"
      },
      "source": [
        "# Activation Patching on GPT2, M1, M2 and M3 models using nnsight\n",
        "- Developed on Google Colab using an A100 with 40GB GPU and 80GB system RAM.\n",
        "- Requires a GITHUB_TOKEN secret to access Martian repository.\n",
        "- Qwen runs out of memory\n",
        "- Llama untested"
      ]
    },
    {
      "cell_type": "code",
      "source": [
        "model_num = 2   # 0=GPT2, 1=TinyStories, 2=Qwen or 3=Llama\n",
        "cs_num = 1      # 0=BaseModel, 1=CS1, 2=CS2 or 3=CS3"
      ],
      "metadata": {
        "id": "rl1akjeAUfoV"
      },
      "execution_count": 21,
      "outputs": []
    },
    {
      "cell_type": "markdown",
      "metadata": {
        "id": "z1tQZgLUnojc"
      },
      "source": [
        "# Part 0: Import libraries\n",
        "Imports standard libraries. Do not read."
      ]
    },
    {
      "cell_type": "code",
      "execution_count": 22,
      "metadata": {
        "colab": {
          "base_uri": "https://localhost:8080/"
        },
        "id": "qt2jt2bHcY2v",
        "outputId": "a31ad88e-e394-471f-bfb6-68529a0ac547"
      },
      "outputs": [
        {
          "output_type": "stream",
          "name": "stdout",
          "text": [
            "Requirement already satisfied: nnsight in /usr/local/lib/python3.10/dist-packages (0.3.7)\n",
            "Requirement already satisfied: transformers in /usr/local/lib/python3.10/dist-packages (from nnsight) (4.46.2)\n",
            "Requirement already satisfied: protobuf in /usr/local/lib/python3.10/dist-packages (from nnsight) (4.25.5)\n",
            "Requirement already satisfied: python-socketio[client] in /usr/local/lib/python3.10/dist-packages (from nnsight) (5.11.4)\n",
            "Requirement already satisfied: tokenizers>=0.13.0 in /usr/local/lib/python3.10/dist-packages (from nnsight) (0.20.3)\n",
            "Requirement already satisfied: pydantic>=2.9.0 in /usr/local/lib/python3.10/dist-packages (from nnsight) (2.9.2)\n",
            "Requirement already satisfied: torch>=2.4.0 in /usr/local/lib/python3.10/dist-packages (from nnsight) (2.5.1+cu121)\n",
            "Requirement already satisfied: sentencepiece in /usr/local/lib/python3.10/dist-packages (from nnsight) (0.2.0)\n",
            "Requirement already satisfied: torchvision in /usr/local/lib/python3.10/dist-packages (from nnsight) (0.20.1+cu121)\n",
            "Requirement already satisfied: accelerate in /usr/local/lib/python3.10/dist-packages (from nnsight) (1.1.1)\n",
            "Requirement already satisfied: diffusers in /usr/local/lib/python3.10/dist-packages (from nnsight) (0.31.0)\n",
            "Requirement already satisfied: einops in /usr/local/lib/python3.10/dist-packages (from nnsight) (0.8.0)\n",
            "Requirement already satisfied: annotated-types>=0.6.0 in /usr/local/lib/python3.10/dist-packages (from pydantic>=2.9.0->nnsight) (0.7.0)\n",
            "Requirement already satisfied: pydantic-core==2.23.4 in /usr/local/lib/python3.10/dist-packages (from pydantic>=2.9.0->nnsight) (2.23.4)\n",
            "Requirement already satisfied: typing-extensions>=4.6.1 in /usr/local/lib/python3.10/dist-packages (from pydantic>=2.9.0->nnsight) (4.12.2)\n",
            "Requirement already satisfied: huggingface-hub<1.0,>=0.16.4 in /usr/local/lib/python3.10/dist-packages (from tokenizers>=0.13.0->nnsight) (0.26.2)\n",
            "Requirement already satisfied: filelock in /usr/local/lib/python3.10/dist-packages (from torch>=2.4.0->nnsight) (3.16.1)\n",
            "Requirement already satisfied: networkx in /usr/local/lib/python3.10/dist-packages (from torch>=2.4.0->nnsight) (3.4.2)\n",
            "Requirement already satisfied: jinja2 in /usr/local/lib/python3.10/dist-packages (from torch>=2.4.0->nnsight) (3.1.4)\n",
            "Requirement already satisfied: fsspec in /usr/local/lib/python3.10/dist-packages (from torch>=2.4.0->nnsight) (2024.9.0)\n",
            "Requirement already satisfied: sympy==1.13.1 in /usr/local/lib/python3.10/dist-packages (from torch>=2.4.0->nnsight) (1.13.1)\n",
            "Requirement already satisfied: mpmath<1.4,>=1.1.0 in /usr/local/lib/python3.10/dist-packages (from sympy==1.13.1->torch>=2.4.0->nnsight) (1.3.0)\n",
            "Requirement already satisfied: numpy<3.0.0,>=1.17 in /usr/local/lib/python3.10/dist-packages (from accelerate->nnsight) (1.26.4)\n",
            "Requirement already satisfied: packaging>=20.0 in /usr/local/lib/python3.10/dist-packages (from accelerate->nnsight) (24.2)\n",
            "Requirement already satisfied: psutil in /usr/local/lib/python3.10/dist-packages (from accelerate->nnsight) (5.9.5)\n",
            "Requirement already satisfied: pyyaml in /usr/local/lib/python3.10/dist-packages (from accelerate->nnsight) (6.0.2)\n",
            "Requirement already satisfied: safetensors>=0.4.3 in /usr/local/lib/python3.10/dist-packages (from accelerate->nnsight) (0.4.5)\n",
            "Requirement already satisfied: importlib-metadata in /usr/local/lib/python3.10/dist-packages (from diffusers->nnsight) (8.5.0)\n",
            "Requirement already satisfied: regex!=2019.12.17 in /usr/local/lib/python3.10/dist-packages (from diffusers->nnsight) (2024.9.11)\n",
            "Requirement already satisfied: requests in /usr/local/lib/python3.10/dist-packages (from diffusers->nnsight) (2.32.3)\n",
            "Requirement already satisfied: Pillow in /usr/local/lib/python3.10/dist-packages (from diffusers->nnsight) (11.0.0)\n",
            "Requirement already satisfied: bidict>=0.21.0 in /usr/local/lib/python3.10/dist-packages (from python-socketio[client]->nnsight) (0.23.1)\n",
            "Requirement already satisfied: python-engineio>=4.8.0 in /usr/local/lib/python3.10/dist-packages (from python-socketio[client]->nnsight) (4.10.1)\n",
            "Requirement already satisfied: websocket-client>=0.54.0 in /usr/local/lib/python3.10/dist-packages (from python-socketio[client]->nnsight) (1.8.0)\n",
            "Requirement already satisfied: tqdm>=4.27 in /usr/local/lib/python3.10/dist-packages (from transformers->nnsight) (4.66.6)\n",
            "Requirement already satisfied: simple-websocket>=0.10.0 in /usr/local/lib/python3.10/dist-packages (from python-engineio>=4.8.0->python-socketio[client]->nnsight) (1.1.0)\n",
            "Requirement already satisfied: charset-normalizer<4,>=2 in /usr/local/lib/python3.10/dist-packages (from requests->diffusers->nnsight) (3.4.0)\n",
            "Requirement already satisfied: idna<4,>=2.5 in /usr/local/lib/python3.10/dist-packages (from requests->diffusers->nnsight) (3.10)\n",
            "Requirement already satisfied: urllib3<3,>=1.21.1 in /usr/local/lib/python3.10/dist-packages (from requests->diffusers->nnsight) (2.2.3)\n",
            "Requirement already satisfied: certifi>=2017.4.17 in /usr/local/lib/python3.10/dist-packages (from requests->diffusers->nnsight) (2024.8.30)\n",
            "Requirement already satisfied: zipp>=3.20 in /usr/local/lib/python3.10/dist-packages (from importlib-metadata->diffusers->nnsight) (3.21.0)\n",
            "Requirement already satisfied: MarkupSafe>=2.0 in /usr/local/lib/python3.10/dist-packages (from jinja2->torch>=2.4.0->nnsight) (3.0.2)\n",
            "Requirement already satisfied: wsproto in /usr/local/lib/python3.10/dist-packages (from simple-websocket>=0.10.0->python-engineio>=4.8.0->python-socketio[client]->nnsight) (1.2.0)\n",
            "Requirement already satisfied: h11<1,>=0.9.0 in /usr/local/lib/python3.10/dist-packages (from wsproto->simple-websocket>=0.10.0->python-engineio>=4.8.0->python-socketio[client]->nnsight) (0.14.0)\n"
          ]
        }
      ],
      "source": [
        "!pip install -U nnsight\n",
        "from IPython.display import clear_output"
      ]
    },
    {
      "cell_type": "code",
      "execution_count": 23,
      "metadata": {
        "id": "jSsUMYr3h0lD"
      },
      "outputs": [],
      "source": [
        "import nnsight\n",
        "from nnsight import CONFIG"
      ]
    },
    {
      "cell_type": "code",
      "execution_count": 24,
      "metadata": {
        "id": "Vif7qLNrlC0P"
      },
      "outputs": [],
      "source": [
        "import os\n",
        "import plotly.express as px\n",
        "import plotly.io as pio\n",
        "pio.renderers.default = \"colab\"\n",
        "from nnsight import LanguageModel, util\n",
        "from nnsight.tracing.Proxy import Proxy"
      ]
    },
    {
      "cell_type": "code",
      "execution_count": null,
      "metadata": {
        "colab": {
          "base_uri": "https://localhost:8080/"
        },
        "id": "MhKm4vmvofSB",
        "outputId": "a5d1ecc9-8246-49b5-aad9-75b15af3a7df"
      },
      "outputs": [
        {
          "output_type": "stream",
          "name": "stdout",
          "text": [
            "Collecting git+https://github.com/PhilipQuirke/quanta_mech_interp.git\n",
            "  Cloning https://github.com/PhilipQuirke/quanta_mech_interp.git to /tmp/pip-req-build-h17fa4mx\n",
            "  Running command git clone --filter=blob:none --quiet https://github.com/PhilipQuirke/quanta_mech_interp.git /tmp/pip-req-build-h17fa4mx\n",
            "  Resolved https://github.com/PhilipQuirke/quanta_mech_interp.git to commit 24dccfc92b6978f7f186a0e4bfe189525b745457\n"
          ]
        }
      ],
      "source": [
        "!pip install --upgrade git+https://github.com/PhilipQuirke/quanta_mech_interp.git\n",
        "import QuantaMechInterp as qmi"
      ]
    },
    {
      "cell_type": "code",
      "execution_count": null,
      "metadata": {
        "id": "orVn0wTnosHO"
      },
      "outputs": [],
      "source": [
        "from getpass import getpass\n",
        "from google.colab import userdata"
      ]
    },
    {
      "cell_type": "code",
      "execution_count": null,
      "metadata": {
        "id": "BMWEb8TJoske"
      },
      "outputs": [],
      "source": [
        "# Set GitHub credentials\n",
        "#github_token = getpass('Enter your GitHub PAT: ')  # This will prompt for token securely\n",
        "github_token = userdata.get(\"GITHUB_TOKEN\")\n",
        "\n",
        "# Install the private repository using the token\n",
        "!pip install --upgrade git+https://{github_token}@github.com/withmartian/quanta_text_to_sql.git\n",
        "\n",
        "# Now you can import the package\n",
        "import QuantaTextToSql as qts"
      ]
    },
    {
      "cell_type": "markdown",
      "source": [
        "# Shared Plotting Function"
      ],
      "metadata": {
        "id": "I85T--L9103g"
      }
    },
    {
      "cell_type": "code",
      "execution_count": null,
      "metadata": {
        "id": "EIuPuKeom9VX"
      },
      "outputs": [],
      "source": [
        "def plot_patching_results(model,\n",
        "                              patching_results,\n",
        "                              x_labels,\n",
        "                              plot_title=\"Normalized Logit Difference After Patching Residual Stream\"):\n",
        "\n",
        "    patching_results = util.apply(patching_results, lambda x: x.value.item(), Proxy)\n",
        "    fig = px.imshow(\n",
        "        patching_results,\n",
        "        color_continuous_midpoint=0.0,\n",
        "        color_continuous_scale=\"RdBu\",\n",
        "        labels={\"x\": \"Position\", \"y\": \"Layer\",\"color\":\"Norm. Logit Diff\"},\n",
        "        x=x_labels,\n",
        "        title=plot_title,\n",
        "    )\n",
        "\n",
        "    return fig"
      ]
    },
    {
      "cell_type": "markdown",
      "metadata": {
        "id": "S-TNF3PVlGV0"
      },
      "source": [
        "# Tutorial on GPT2\n",
        "Based on https://nnsight.net/notebooks/tutorials/activation_patching/\n",
        "\n",
        "Runs when model_num == 0\n"
      ]
    },
    {
      "cell_type": "code",
      "execution_count": null,
      "metadata": {
        "id": "kigWC3CglGlE"
      },
      "outputs": [],
      "source": [
        "if model_num == 0:\n",
        "    model = LanguageModel(\"openai-community/gpt2\", device_map=\"auto\")\n",
        "    clear_output()\n",
        "    print(model)"
      ]
    },
    {
      "cell_type": "code",
      "execution_count": null,
      "metadata": {
        "id": "_U3UgYC0lRpa"
      },
      "outputs": [],
      "source": [
        "clean_prompt = \"After John and Mary went to the store, Mary gave a bottle of milk to\"\n",
        "corrupted_prompt = (\n",
        "    \"After John and Mary went to the store, John gave a bottle of milk to\"\n",
        ")"
      ]
    },
    {
      "cell_type": "code",
      "execution_count": null,
      "metadata": {
        "id": "Vz_E9jx7lWt1"
      },
      "outputs": [],
      "source": [
        "if model_num == 0:\n",
        "    correct_index = model.tokenizer(\" John\")[\"input_ids\"][0] # includes a space\n",
        "    incorrect_index = model.tokenizer(\" Mary\")[\"input_ids\"][0] # includes a space\n",
        "\n",
        "    print(f\"' John': {correct_index}\")\n",
        "    print(f\"' Mary': {incorrect_index}\")"
      ]
    },
    {
      "cell_type": "code",
      "execution_count": null,
      "metadata": {
        "id": "hE3kLr-Pm57W"
      },
      "outputs": [],
      "source": [
        "if model_num == 0:\n",
        "    N_LAYERS = len(model.transformer.h)\n",
        "\n",
        "    # Enter nnsight tracing context\n",
        "    with model.trace() as tracer:\n",
        "\n",
        "        # Clean run\n",
        "        with tracer.invoke(clean_prompt) as invoker:\n",
        "            clean_tokens = invoker.inputs[0]['input_ids'][0]\n",
        "\n",
        "            # No need to call .save() as we don't need the values after the run, just within the experiment run.\n",
        "            clean_hs = [\n",
        "                model.transformer.h[layer_idx].output[0]\n",
        "                for layer_idx in range(N_LAYERS)\n",
        "            ]\n",
        "\n",
        "            # Get logits from the lm_head.\n",
        "            clean_logits = model.lm_head.output\n",
        "\n",
        "            # Calculate the difference between the correct answer and incorrect answer for the clean run and save it.\n",
        "            clean_logit_diff = (\n",
        "                clean_logits[0, -1, correct_index] - clean_logits[0, -1, incorrect_index]\n",
        "            ).save()\n",
        "\n",
        "        # Corrupted run\n",
        "        with tracer.invoke(corrupted_prompt) as invoker:\n",
        "            corrupted_logits = model.lm_head.output\n",
        "\n",
        "            # Calculate the difference between the correct answer and incorrect answer for the corrupted run and save it.\n",
        "            corrupted_logit_diff = (\n",
        "                corrupted_logits[0, -1, correct_index]\n",
        "                - corrupted_logits[0, -1, incorrect_index]\n",
        "            ).save()\n",
        "\n",
        "        patching_results = []\n",
        "\n",
        "        # Iterate through all the layers\n",
        "        for layer_idx in range(len(model.transformer.h)):\n",
        "            _patching_results = []\n",
        "\n",
        "            # Iterate through all tokens\n",
        "            for token_idx in range(len(clean_tokens)):\n",
        "                # Patching corrupted run at given layer and token\n",
        "                with tracer.invoke(corrupted_prompt) as invoker:\n",
        "                    # Apply the patch from the clean hidden states to the corrupted hidden states.\n",
        "                    model.transformer.h[layer_idx].output[0][:, token_idx, :] = clean_hs[layer_idx][:, token_idx, :]\n",
        "\n",
        "                    patched_logits = model.lm_head.output\n",
        "\n",
        "                    patched_logit_diff = (\n",
        "                        patched_logits[0, -1, correct_index]\n",
        "                        - patched_logits[0, -1, incorrect_index]\n",
        "                    )\n",
        "\n",
        "                    # Calculate the improvement in the correct token after patching.\n",
        "                    patched_result = (patched_logit_diff - corrupted_logit_diff) / (\n",
        "                        clean_logit_diff - corrupted_logit_diff\n",
        "                    )\n",
        "\n",
        "                    _patching_results.append(patched_result.save())\n",
        "\n",
        "            patching_results.append(_patching_results)"
      ]
    },
    {
      "cell_type": "code",
      "execution_count": null,
      "metadata": {
        "id": "Uz2GWyNfnBzI"
      },
      "outputs": [],
      "source": [
        "if model_num == 0:\n",
        "    print(f\"Clean logit difference: {clean_logit_diff.value:.3f}\")\n",
        "    print(f\"Corrupted logit difference: {corrupted_logit_diff.value:.3f}\")\n",
        "\n",
        "    clean_decoded_tokens = [model.tokenizer.decode(token) for token in clean_tokens]\n",
        "    token_labels = [f\"{token}_{index}\" for index, token in enumerate(clean_decoded_tokens)]\n",
        "\n",
        "    fig = plot_patching_results(model, patching_results,token_labels,\"Patching GPT-2-small Residual Stream on IOI task\")\n",
        "    fig.show()"
      ]
    },
    {
      "cell_type": "markdown",
      "metadata": {
        "id": "y72URtyynvnv"
      },
      "source": [
        "# Run on TinySQL model"
      ]
    },
    {
      "cell_type": "code",
      "execution_count": null,
      "metadata": {
        "id": "oFaFTy6LnbxI"
      },
      "outputs": [],
      "source": [
        "if model_num > 0:\n",
        "\n",
        "    model_location = qts.sql_interp_model_location(model_num, cs_num)\n",
        "\n",
        "    model = LanguageModel(model_location, device_map=\"auto\")\n",
        "    clear_output()\n",
        "\n",
        "    print(model)"
      ]
    },
    {
      "cell_type": "code",
      "execution_count": null,
      "metadata": {
        "id": "76YZ8VErsHjP"
      },
      "outputs": [],
      "source": [
        "if model_num > 0:\n",
        "    clean_prompt = \"### Instruction: What do we have for size in profiles? ### Context: CREATE TABLE profiles (size INTEGER, age INTEGER, name TEXT) ### Response: SELECT\"\n",
        "    corrupted_prompt = \"### Instruction: What do we have for elephants in profiles? ### Context: CREATE TABLE profiles (size INTEGER, age INTEGER, name TEXT) ### Response: SELECT\""
      ]
    },
    {
      "cell_type": "code",
      "source": [
        "if model_num > 0:\n",
        "    correct_index = model.tokenizer(\" size\")[\"input_ids\"][0] # includes a space\n",
        "    incorrect_index = model.tokenizer(\" elephants\")[\"input_ids\"][0] # includes a space\n",
        "\n",
        "    print(f\"' size': {correct_index}\")\n",
        "    print(f\"' elephants': {incorrect_index}\")"
      ],
      "metadata": {
        "id": "pjTS7wJXeDee"
      },
      "execution_count": null,
      "outputs": []
    },
    {
      "cell_type": "code",
      "source": [
        "if model_num == 1:\n",
        "    N_LAYERS = len(model.transformer.h)\n",
        "\n",
        "    # Enter nnsight tracing context\n",
        "    with model.trace() as tracer:\n",
        "\n",
        "        # Clean run\n",
        "        with tracer.invoke(clean_prompt) as invoker:\n",
        "            clean_tokens = invoker.inputs[0]['input_ids'][0]\n",
        "\n",
        "            # No need to call .save() as we don't need the values after the run, just within the experiment run.\n",
        "            clean_hs = [\n",
        "                model.transformer.h[layer_idx].output[0]\n",
        "                for layer_idx in range(N_LAYERS)\n",
        "            ]\n",
        "\n",
        "            # Get logits from the lm_head.\n",
        "            clean_logits = model.lm_head.output\n",
        "\n",
        "            # Calculate the difference between the correct answer and incorrect answer for the clean run and save it.\n",
        "            clean_logit_diff = (\n",
        "                clean_logits[0, -1, correct_index] - clean_logits[0, -1, incorrect_index]\n",
        "            ).save()\n",
        "\n",
        "        # Corrupted run\n",
        "        with tracer.invoke(corrupted_prompt) as invoker:\n",
        "            corrupted_logits = model.lm_head.output\n",
        "\n",
        "            # Calculate the difference between the correct answer and incorrect answer for the corrupted run and save it.\n",
        "            corrupted_logit_diff = (\n",
        "                corrupted_logits[0, -1, correct_index]\n",
        "                - corrupted_logits[0, -1, incorrect_index]\n",
        "            ).save()\n",
        "\n",
        "        patching_results = []\n",
        "\n",
        "        # Iterate through all the layers\n",
        "        for layer_idx in range(len(model.transformer.h)):\n",
        "            _patching_results = []\n",
        "\n",
        "            # Iterate through all tokens\n",
        "            for token_idx in range(len(clean_tokens)):\n",
        "                # Patching corrupted run at given layer and token\n",
        "                with tracer.invoke(corrupted_prompt) as invoker:\n",
        "                    # Apply the patch from the clean hidden states to the corrupted hidden states.\n",
        "                    model.transformer.h[layer_idx].output[0][:, token_idx, :] = clean_hs[layer_idx][:, token_idx, :]\n",
        "\n",
        "                    patched_logits = model.lm_head.output\n",
        "\n",
        "                    patched_logit_diff = (\n",
        "                        patched_logits[0, -1, correct_index]\n",
        "                        - patched_logits[0, -1, incorrect_index]\n",
        "                    )\n",
        "\n",
        "                    # Calculate the improvement in the correct token after patching.\n",
        "                    patched_result = (patched_logit_diff - corrupted_logit_diff) / (\n",
        "                        clean_logit_diff - corrupted_logit_diff\n",
        "                    )\n",
        "\n",
        "                    _patching_results.append(patched_result.save())\n",
        "\n",
        "            patching_results.append(_patching_results)"
      ],
      "metadata": {
        "id": "XE8Qtsuc0Z6W"
      },
      "execution_count": null,
      "outputs": []
    },
    {
      "cell_type": "code",
      "source": [
        "os.environ['PYTORCH_CUDA_ALLOC_CONF'] = 'expandable_segments:True'"
      ],
      "metadata": {
        "id": "eILOZE5rgARx"
      },
      "execution_count": null,
      "outputs": []
    },
    {
      "cell_type": "code",
      "source": [
        "if model_num == 2:\n",
        "    N_LAYERS = len(model.model.layers)\n",
        "\n",
        "    # Enter nnsight tracing context\n",
        "    with model.trace() as tracer:\n",
        "\n",
        "        # Clean run\n",
        "        with tracer.invoke(clean_prompt) as invoker:\n",
        "            clean_tokens = invoker.inputs[0]['input_ids'][0]\n",
        "\n",
        "            # No need to call .save() as we don't need the values after the run, just within the experiment run.\n",
        "            clean_hs = [\n",
        "                model.model.layers[layer_idx].output[0]\n",
        "                for layer_idx in range(N_LAYERS)\n",
        "            ]\n",
        "\n",
        "            # Get logits from the lm_head.\n",
        "            clean_logits = model.lm_head.output\n",
        "\n",
        "            # Calculate the difference between the correct answer and incorrect answer for the clean run and save it.\n",
        "            clean_logit_diff = (\n",
        "                clean_logits[0, -1, correct_index] - clean_logits[0, -1, incorrect_index]\n",
        "            ).save()\n",
        "\n",
        "        # Corrupted run\n",
        "        with tracer.invoke(corrupted_prompt) as invoker:\n",
        "            corrupted_logits = model.lm_head.output\n",
        "\n",
        "            # Calculate the difference between the correct answer and incorrect answer for the corrupted run and save it.\n",
        "            corrupted_logit_diff = (\n",
        "                corrupted_logits[0, -1, correct_index]\n",
        "                - corrupted_logits[0, -1, incorrect_index]\n",
        "            ).save()\n",
        "\n",
        "        patching_results = []\n",
        "\n",
        "        # Iterate through all the layers\n",
        "        for layer_idx in range(len(model.model.layers)):\n",
        "            _patching_results = []\n",
        "\n",
        "            # Iterate through all tokens\n",
        "            for token_idx in range(len(clean_tokens)):\n",
        "                # Patching corrupted run at given layer and token\n",
        "                with tracer.invoke(corrupted_prompt) as invoker:\n",
        "                    # Apply the patch from the clean hidden states to the corrupted hidden states.\n",
        "                    model.model.layers[layer_idx].output[0][:, token_idx, :] = clean_hs[layer_idx][:, token_idx, :]\n",
        "\n",
        "                    patched_logits = model.lm_head.output\n",
        "\n",
        "                    patched_logit_diff = (\n",
        "                        patched_logits[0, -1, correct_index]\n",
        "                        - patched_logits[0, -1, incorrect_index]\n",
        "                    )\n",
        "\n",
        "                    # Calculate the improvement in the correct token after patching.\n",
        "                    patched_result = (patched_logit_diff - corrupted_logit_diff) / (\n",
        "                        clean_logit_diff - corrupted_logit_diff\n",
        "                    )\n",
        "\n",
        "                    _patching_results.append(patched_result.save())\n",
        "\n",
        "            patching_results.append(_patching_results)"
      ],
      "metadata": {
        "id": "XbJ2bK3KTWXs"
      },
      "execution_count": null,
      "outputs": []
    },
    {
      "cell_type": "code",
      "source": [
        "if model_num == 3:\n",
        "    N_LAYERS = len(model.model.layers)\n",
        "\n",
        "    # Enter nnsight tracing context\n",
        "    with model.trace() as tracer:\n",
        "\n",
        "        # Clean run\n",
        "        with tracer.invoke(clean_prompt) as invoker:\n",
        "            clean_tokens = invoker.inputs[0]['input_ids'][0]\n",
        "\n",
        "            # No need to call .save() as we don't need the values after the run, just within the experiment run.\n",
        "            clean_hs = [\n",
        "                model.model.layers[layer_idx].output[0]\n",
        "                for layer_idx in range(N_LAYERS)\n",
        "            ]\n",
        "\n",
        "            # Get logits from the lm_head.\n",
        "            clean_logits = model.lm_head.output\n",
        "\n",
        "            # Calculate the difference between the correct answer and incorrect answer for the clean run and save it.\n",
        "            clean_logit_diff = (\n",
        "                clean_logits[0, -1, correct_index] - clean_logits[0, -1, incorrect_index]\n",
        "            ).save()\n",
        "\n",
        "        # Corrupted run\n",
        "        with tracer.invoke(corrupted_prompt) as invoker:\n",
        "            corrupted_logits = model.lm_head.output\n",
        "\n",
        "            # Calculate the difference between the correct answer and incorrect answer for the corrupted run and save it.\n",
        "            corrupted_logit_diff = (\n",
        "                corrupted_logits[0, -1, correct_index]\n",
        "                - corrupted_logits[0, -1, incorrect_index]\n",
        "            ).save()\n",
        "\n",
        "        patching_results = []\n",
        "\n",
        "        # Iterate through all the layers\n",
        "        for layer_idx in range(len(model.model.layers)):\n",
        "            _patching_results = []\n",
        "\n",
        "            # Iterate through all tokens\n",
        "            for token_idx in range(len(clean_tokens)):\n",
        "                # Patching corrupted run at given layer and token\n",
        "                with tracer.invoke(corrupted_prompt) as invoker:\n",
        "                    # Apply the patch from the clean hidden states to the corrupted hidden states.\n",
        "                    model.model.layers[layer_idx].output[0][:, token_idx, :] = clean_hs[layer_idx][:, token_idx, :]\n",
        "\n",
        "                    patched_logits = model.lm_head.output\n",
        "\n",
        "                    patched_logit_diff = (\n",
        "                        patched_logits[0, -1, correct_index]\n",
        "                        - patched_logits[0, -1, incorrect_index]\n",
        "                    )\n",
        "\n",
        "                    # Calculate the improvement in the correct token after patching.\n",
        "                    patched_result = (patched_logit_diff - corrupted_logit_diff) / (\n",
        "                        clean_logit_diff - corrupted_logit_diff\n",
        "                    )\n",
        "\n",
        "                    _patching_results.append(patched_result.save())\n",
        "\n",
        "            patching_results.append(_patching_results)"
      ],
      "metadata": {
        "id": "oVeUbBTthiar"
      },
      "execution_count": null,
      "outputs": []
    },
    {
      "cell_type": "code",
      "source": [
        "if model_num > 0:\n",
        "    print(f\"Clean logit difference: {clean_logit_diff.value:.3f}\")\n",
        "    print(f\"Corrupted logit difference: {corrupted_logit_diff.value:.3f}\")\n",
        "\n",
        "    clean_decoded_tokens = [model.tokenizer.decode(token) for token in clean_tokens]\n",
        "    token_labels = [f\"{token}_{index}\" for index, token in enumerate(clean_decoded_tokens)]\n",
        "\n",
        "    fig = plot_patching_results(model, patching_results,token_labels, \"Patching Residual Stream\")\n",
        "    fig.show()"
      ],
      "metadata": {
        "id": "xQBWZqh40cZT"
      },
      "execution_count": null,
      "outputs": []
    }
  ],
  "metadata": {
    "accelerator": "GPU",
    "colab": {
      "collapsed_sections": [
        "I85T--L9103g",
        "S-TNF3PVlGV0"
      ],
      "gpuType": "A100",
      "machine_shape": "hm",
      "provenance": []
    },
    "kernelspec": {
      "display_name": "Python 3",
      "name": "python3"
    },
    "language_info": {
      "name": "python"
    }
  },
  "nbformat": 4,
  "nbformat_minor": 0
}