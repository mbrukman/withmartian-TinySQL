{
  "cells": [
    {
      "cell_type": "markdown",
      "metadata": {
        "id": "yQAsYjSQVXHC"
      },
      "source": [
        "# Activation Patching on GPT2, M1, M2 and M3 models using nnsight\n",
        "- Developed on Google Colab using an A100 with 40GB GPU and 80GB system RAM.\n",
        "- Requires a GITHUB_TOKEN secret to access Martian repository.\n",
        "- Qwen runs out of memory\n",
        "- Llama untested"
      ]
    },
    {
      "cell_type": "code",
      "source": [
        "model_num = 2   # 0=GPT2, 1=TinyStories, 2=Qwen or 3=Llama\n",
        "cs_num = 1      # 0=BaseModel, 1=CS1, 2=CS2 or 3=CS3"
      ],
      "metadata": {
        "id": "rl1akjeAUfoV"
      },
      "execution_count": null,
      "outputs": []
    },
    {
      "cell_type": "markdown",
      "metadata": {
        "id": "z1tQZgLUnojc"
      },
      "source": [
        "# Part 0: Import libraries\n",
        "Imports standard libraries. Do not read."
      ]
    },
    {
      "cell_type": "code",
      "execution_count": null,
      "metadata": {
        "id": "qt2jt2bHcY2v"
      },
      "outputs": [],
      "source": [
        "!pip install -U nnsight\n",
        "from IPython.display import clear_output"
      ]
    },
    {
      "cell_type": "code",
      "execution_count": null,
      "metadata": {
        "id": "jSsUMYr3h0lD"
      },
      "outputs": [],
      "source": [
        "import nnsight\n",
        "from nnsight import CONFIG"
      ]
    },
    {
      "cell_type": "code",
      "execution_count": null,
      "metadata": {
        "id": "Vif7qLNrlC0P"
      },
      "outputs": [],
      "source": [
        "import os\n",
        "import plotly.express as px\n",
        "import plotly.io as pio\n",
        "pio.renderers.default = \"colab\"\n",
        "from nnsight import LanguageModel, util\n",
        "from nnsight.tracing.Proxy import Proxy"
      ]
    },
    {
      "cell_type": "code",
      "execution_count": null,
      "metadata": {
        "id": "MhKm4vmvofSB"
      },
      "outputs": [],
      "source": [
        "!pip install --upgrade git+https://github.com/PhilipQuirke/quanta_mech_interp.git\n",
        "import QuantaMechInterp as qmi"
      ]
    },
    {
      "cell_type": "code",
      "execution_count": null,
      "metadata": {
        "id": "orVn0wTnosHO"
      },
      "outputs": [],
      "source": [
        "from getpass import getpass\n",
        "from google.colab import userdata"
      ]
    },
    {
      "cell_type": "code",
      "execution_count": null,
      "metadata": {
        "id": "BMWEb8TJoske"
      },
      "outputs": [],
      "source": [
        "# Set GitHub credentials\n",
        "#github_token = getpass('Enter your GitHub PAT: ')  # This will prompt for token securely\n",
        "github_token = userdata.get(\"GITHUB_TOKEN\")\n",
        "\n",
        "# Install the private repository using the token\n",
        "!pip install --upgrade git+https://{github_token}@github.com/withmartian/quanta_text_to_sql.git\n",
        "\n",
        "# Now you can import the package\n",
        "import QuantaTextToSql as qts"
      ]
    },
    {
      "cell_type": "markdown",
      "source": [
        "# Shared Plotting Function"
      ],
      "metadata": {
        "id": "I85T--L9103g"
      }
    },
    {
      "cell_type": "code",
      "execution_count": null,
      "metadata": {
        "id": "EIuPuKeom9VX"
      },
      "outputs": [],
      "source": [
        "def plot_patching_results(model,\n",
        "                              patching_results,\n",
        "                              x_labels,\n",
        "                              plot_title=\"Normalized Logit Difference After Patching Residual Stream\"):\n",
        "\n",
        "    patching_results = util.apply(patching_results, lambda x: x.value.item(), Proxy)\n",
        "    fig = px.imshow(\n",
        "        patching_results,\n",
        "        color_continuous_midpoint=0.0,\n",
        "        color_continuous_scale=\"RdBu\",\n",
        "        labels={\"x\": \"Position\", \"y\": \"Layer\",\"color\":\"Norm. Logit Diff\"},\n",
        "        x=x_labels,\n",
        "        title=plot_title,\n",
        "    )\n",
        "\n",
        "    return fig"
      ]
    },
    {
      "cell_type": "markdown",
      "metadata": {
        "id": "S-TNF3PVlGV0"
      },
      "source": [
        "# Tutorial on GPT2\n",
        "Based on https://nnsight.net/notebooks/tutorials/activation_patching/\n",
        "\n",
        "Runs when model_num == 0\n"
      ]
    },
    {
      "cell_type": "code",
      "execution_count": null,
      "metadata": {
        "id": "kigWC3CglGlE"
      },
      "outputs": [],
      "source": [
        "if model_num == 0:\n",
        "    model = LanguageModel(\"openai-community/gpt2\", device_map=\"auto\")\n",
        "    clear_output()\n",
        "    print(model)"
      ]
    },
    {
      "cell_type": "code",
      "execution_count": null,
      "metadata": {
        "id": "_U3UgYC0lRpa"
      },
      "outputs": [],
      "source": [
        "clean_prompt = \"After John and Mary went to the store, Mary gave a bottle of milk to\"\n",
        "corrupted_prompt = (\n",
        "    \"After John and Mary went to the store, John gave a bottle of milk to\"\n",
        ")"
      ]
    },
    {
      "cell_type": "code",
      "execution_count": null,
      "metadata": {
        "id": "Vz_E9jx7lWt1"
      },
      "outputs": [],
      "source": [
        "if model_num == 0:\n",
        "    correct_index = model.tokenizer(\" John\")[\"input_ids\"][0] # includes a space\n",
        "    incorrect_index = model.tokenizer(\" Mary\")[\"input_ids\"][0] # includes a space\n",
        "\n",
        "    print(f\"' John': {correct_index}\")\n",
        "    print(f\"' Mary': {incorrect_index}\")"
      ]
    },
    {
      "cell_type": "code",
      "execution_count": null,
      "metadata": {
        "id": "hE3kLr-Pm57W"
      },
      "outputs": [],
      "source": [
        "if model_num == 0:\n",
        "    N_LAYERS = len(model.transformer.h)\n",
        "\n",
        "    # Enter nnsight tracing context\n",
        "    with model.trace() as tracer:\n",
        "\n",
        "        # Clean run\n",
        "        with tracer.invoke(clean_prompt) as invoker:\n",
        "            clean_tokens = invoker.inputs[0]['input_ids'][0]\n",
        "\n",
        "            # No need to call .save() as we don't need the values after the run, just within the experiment run.\n",
        "            clean_hs = [\n",
        "                model.transformer.h[layer_idx].output[0]\n",
        "                for layer_idx in range(N_LAYERS)\n",
        "            ]\n",
        "\n",
        "            # Get logits from the lm_head.\n",
        "            clean_logits = model.lm_head.output\n",
        "\n",
        "            # Calculate the difference between the correct answer and incorrect answer for the clean run and save it.\n",
        "            clean_logit_diff = (\n",
        "                clean_logits[0, -1, correct_index] - clean_logits[0, -1, incorrect_index]\n",
        "            ).save()\n",
        "\n",
        "        # Corrupted run\n",
        "        with tracer.invoke(corrupted_prompt) as invoker:\n",
        "            corrupted_logits = model.lm_head.output\n",
        "\n",
        "            # Calculate the difference between the correct answer and incorrect answer for the corrupted run and save it.\n",
        "            corrupted_logit_diff = (\n",
        "                corrupted_logits[0, -1, correct_index]\n",
        "                - corrupted_logits[0, -1, incorrect_index]\n",
        "            ).save()\n",
        "\n",
        "        patching_results = []\n",
        "\n",
        "        # Iterate through all the layers\n",
        "        for layer_idx in range(len(model.transformer.h)):\n",
        "            _patching_results = []\n",
        "\n",
        "            # Iterate through all tokens\n",
        "            for token_idx in range(len(clean_tokens)):\n",
        "                # Patching corrupted run at given layer and token\n",
        "                with tracer.invoke(corrupted_prompt) as invoker:\n",
        "                    # Apply the patch from the clean hidden states to the corrupted hidden states.\n",
        "                    model.transformer.h[layer_idx].output[0][:, token_idx, :] = clean_hs[layer_idx][:, token_idx, :]\n",
        "\n",
        "                    patched_logits = model.lm_head.output\n",
        "\n",
        "                    patched_logit_diff = (\n",
        "                        patched_logits[0, -1, correct_index]\n",
        "                        - patched_logits[0, -1, incorrect_index]\n",
        "                    )\n",
        "\n",
        "                    # Calculate the improvement in the correct token after patching.\n",
        "                    patched_result = (patched_logit_diff - corrupted_logit_diff) / (\n",
        "                        clean_logit_diff - corrupted_logit_diff\n",
        "                    )\n",
        "\n",
        "                    _patching_results.append(patched_result.save())\n",
        "\n",
        "            patching_results.append(_patching_results)"
      ]
    },
    {
      "cell_type": "code",
      "execution_count": null,
      "metadata": {
        "id": "Uz2GWyNfnBzI"
      },
      "outputs": [],
      "source": [
        "if model_num == 0:\n",
        "    print(f\"Clean logit difference: {clean_logit_diff.value:.3f}\")\n",
        "    print(f\"Corrupted logit difference: {corrupted_logit_diff.value:.3f}\")\n",
        "\n",
        "    clean_decoded_tokens = [model.tokenizer.decode(token) for token in clean_tokens]\n",
        "    token_labels = [f\"{token}_{index}\" for index, token in enumerate(clean_decoded_tokens)]\n",
        "\n",
        "    fig = plot_patching_results(model, patching_results,token_labels,\"Patching GPT-2-small Residual Stream on IOI task\")\n",
        "    fig.show()"
      ]
    },
    {
      "cell_type": "markdown",
      "metadata": {
        "id": "y72URtyynvnv"
      },
      "source": [
        "# Run on TinySQL model"
      ]
    },
    {
      "cell_type": "code",
      "execution_count": null,
      "metadata": {
        "id": "Rip-efs0fIts"
      },
      "outputs": [],
      "source": [
        "# Load the tokenizer and trained model for model 1, 2, or 3 and command set 0 (base model), 1, 2, or 3\n",
        "def sql_interp_model_location( model_num : int, cs_num : int):\n",
        "    if model_num == 1:\n",
        "        if cs_num == 0:\n",
        "            return \"roneneldan/TinyStories-Instruct-2Layers-33M\"\n",
        "\n",
        "        elif cs_num == 1:\n",
        "            return \"withmartian/sql_interp_bm1_cs1_experiment_1.1\"\n",
        "\n",
        "        elif cs_num == 2:\n",
        "            return \"withmartian/sql_interp_bm1_cs2_experiment_2.3\"\n",
        "\n",
        "        elif cs_num == 3:\n",
        "            return \"withmartian/sql_interp_bm1_cs3_experiment_3.3\"\n",
        "\n",
        "    if model_num == 2:\n",
        "        if cs_num == 0:\n",
        "            return \"Qwen/Qwen2.5-0.5B-Instruct\"\n",
        "\n",
        "        elif cs_num == 1:\n",
        "            return \"withmartian/sql_interp_bm2_cs1_experiment_4.1\"\n",
        "\n",
        "        elif cs_num == 2:\n",
        "            return \"withmartian/sql_interp_bm2_cs2_experiment_5.1\"\n",
        "\n",
        "        elif cs_num == 3:\n",
        "            return \"withmartian/sql_interp_bm2_cs3_experiment_6.1\"\n",
        "\n",
        "    if model_num == 3:\n",
        "        if cs_num == 0:\n",
        "            return \"meta-llama/Llama-3.2-1B-Instruct\"\n",
        "\n",
        "        elif cs_num == 1:\n",
        "            return \"withmartian/sql_interp_bm3_cs1_experiment_7.1\"\n",
        "\n",
        "        elif cs_num == 2:\n",
        "            return \"withmartian/sql_interp_bm3_cs2_experiment_8.1\"\n",
        "\n",
        "        elif cs_num == 3:\n",
        "            return \"withmartian/sql_interp_bm3_cs3_experiment_9.1\"\n",
        "\n",
        "    return \"\"\n"
      ]
    },
    {
      "cell_type": "code",
      "execution_count": null,
      "metadata": {
        "id": "oFaFTy6LnbxI"
      },
      "outputs": [],
      "source": [
        "if model_num > 0:\n",
        "\n",
        "    model_location = sql_interp_model_location(model_num, cs_num)\n",
        "\n",
        "    model = LanguageModel(model_location, device_map=\"auto\")\n",
        "    clear_output()\n",
        "\n",
        "    print(model)"
      ]
    },
    {
      "cell_type": "code",
      "execution_count": null,
      "metadata": {
        "id": "76YZ8VErsHjP"
      },
      "outputs": [],
      "source": [
        "if model_num > 0:\n",
        "    clean_prompt = \"### Instruction: What do we have for size in profiles? ### Context: CREATE TABLE profiles (size INTEGER, age INTEGER, name TEXT) ### Response: SELECT\"\n",
        "    corrupted_prompt = \"### Instruction: What do we have for elephants in profiles? ### Context: CREATE TABLE profiles (size INTEGER, age INTEGER, name TEXT) ### Response: SELECT\""
      ]
    },
    {
      "cell_type": "code",
      "source": [
        "if model_num > 0:\n",
        "    correct_index = model.tokenizer(\" size\")[\"input_ids\"][0] # includes a space\n",
        "    incorrect_index = model.tokenizer(\" elephants\")[\"input_ids\"][0] # includes a space\n",
        "\n",
        "    print(f\"' size': {correct_index}\")\n",
        "    print(f\"' elephants': {incorrect_index}\")"
      ],
      "metadata": {
        "id": "pjTS7wJXeDee"
      },
      "execution_count": null,
      "outputs": []
    },
    {
      "cell_type": "code",
      "source": [
        "if model_num == 1:\n",
        "    N_LAYERS = len(model.transformer.h)\n",
        "\n",
        "    # Enter nnsight tracing context\n",
        "    with model.trace() as tracer:\n",
        "\n",
        "        # Clean run\n",
        "        with tracer.invoke(clean_prompt) as invoker:\n",
        "            clean_tokens = invoker.inputs[0]['input_ids'][0]\n",
        "\n",
        "            # No need to call .save() as we don't need the values after the run, just within the experiment run.\n",
        "            clean_hs = [\n",
        "                model.transformer.h[layer_idx].output[0]\n",
        "                for layer_idx in range(N_LAYERS)\n",
        "            ]\n",
        "\n",
        "            # Get logits from the lm_head.\n",
        "            clean_logits = model.lm_head.output\n",
        "\n",
        "            # Calculate the difference between the correct answer and incorrect answer for the clean run and save it.\n",
        "            clean_logit_diff = (\n",
        "                clean_logits[0, -1, correct_index] - clean_logits[0, -1, incorrect_index]\n",
        "            ).save()\n",
        "\n",
        "        # Corrupted run\n",
        "        with tracer.invoke(corrupted_prompt) as invoker:\n",
        "            corrupted_logits = model.lm_head.output\n",
        "\n",
        "            # Calculate the difference between the correct answer and incorrect answer for the corrupted run and save it.\n",
        "            corrupted_logit_diff = (\n",
        "                corrupted_logits[0, -1, correct_index]\n",
        "                - corrupted_logits[0, -1, incorrect_index]\n",
        "            ).save()\n",
        "\n",
        "        patching_results = []\n",
        "\n",
        "        # Iterate through all the layers\n",
        "        for layer_idx in range(len(model.transformer.h)):\n",
        "            _patching_results = []\n",
        "\n",
        "            # Iterate through all tokens\n",
        "            for token_idx in range(len(clean_tokens)):\n",
        "                # Patching corrupted run at given layer and token\n",
        "                with tracer.invoke(corrupted_prompt) as invoker:\n",
        "                    # Apply the patch from the clean hidden states to the corrupted hidden states.\n",
        "                    model.transformer.h[layer_idx].output[0][:, token_idx, :] = clean_hs[layer_idx][:, token_idx, :]\n",
        "\n",
        "                    patched_logits = model.lm_head.output\n",
        "\n",
        "                    patched_logit_diff = (\n",
        "                        patched_logits[0, -1, correct_index]\n",
        "                        - patched_logits[0, -1, incorrect_index]\n",
        "                    )\n",
        "\n",
        "                    # Calculate the improvement in the correct token after patching.\n",
        "                    patched_result = (patched_logit_diff - corrupted_logit_diff) / (\n",
        "                        clean_logit_diff - corrupted_logit_diff\n",
        "                    )\n",
        "\n",
        "                    _patching_results.append(patched_result.save())\n",
        "\n",
        "            patching_results.append(_patching_results)"
      ],
      "metadata": {
        "id": "XE8Qtsuc0Z6W"
      },
      "execution_count": null,
      "outputs": []
    },
    {
      "cell_type": "code",
      "source": [
        "os.environ['PYTORCH_CUDA_ALLOC_CONF'] = 'expandable_segments:True'"
      ],
      "metadata": {
        "id": "eILOZE5rgARx"
      },
      "execution_count": null,
      "outputs": []
    },
    {
      "cell_type": "code",
      "source": [
        "if model_num == 2:\n",
        "    N_LAYERS = len(model.model.layers)\n",
        "\n",
        "    # Enter nnsight tracing context\n",
        "    with model.trace() as tracer:\n",
        "\n",
        "        # Clean run\n",
        "        with tracer.invoke(clean_prompt) as invoker:\n",
        "            clean_tokens = invoker.inputs[0]['input_ids'][0]\n",
        "\n",
        "            # No need to call .save() as we don't need the values after the run, just within the experiment run.\n",
        "            clean_hs = [\n",
        "                model.model.layers[layer_idx].output[0]\n",
        "                for layer_idx in range(N_LAYERS)\n",
        "            ]\n",
        "\n",
        "            # Get logits from the lm_head.\n",
        "            clean_logits = model.lm_head.output\n",
        "\n",
        "            # Calculate the difference between the correct answer and incorrect answer for the clean run and save it.\n",
        "            clean_logit_diff = (\n",
        "                clean_logits[0, -1, correct_index] - clean_logits[0, -1, incorrect_index]\n",
        "            ).save()\n",
        "\n",
        "        # Corrupted run\n",
        "        with tracer.invoke(corrupted_prompt) as invoker:\n",
        "            corrupted_logits = model.lm_head.output\n",
        "\n",
        "            # Calculate the difference between the correct answer and incorrect answer for the corrupted run and save it.\n",
        "            corrupted_logit_diff = (\n",
        "                corrupted_logits[0, -1, correct_index]\n",
        "                - corrupted_logits[0, -1, incorrect_index]\n",
        "            ).save()\n",
        "\n",
        "        patching_results = []\n",
        "\n",
        "        # Iterate through all the layers\n",
        "        for layer_idx in range(len(model.model.layers)):\n",
        "            _patching_results = []\n",
        "\n",
        "            # Iterate through all tokens\n",
        "            for token_idx in range(len(clean_tokens)):\n",
        "                # Patching corrupted run at given layer and token\n",
        "                with tracer.invoke(corrupted_prompt) as invoker:\n",
        "                    # Apply the patch from the clean hidden states to the corrupted hidden states.\n",
        "                    model.model.layers[layer_idx].output[0][:, token_idx, :] = clean_hs[layer_idx][:, token_idx, :]\n",
        "\n",
        "                    patched_logits = model.lm_head.output\n",
        "\n",
        "                    patched_logit_diff = (\n",
        "                        patched_logits[0, -1, correct_index]\n",
        "                        - patched_logits[0, -1, incorrect_index]\n",
        "                    )\n",
        "\n",
        "                    # Calculate the improvement in the correct token after patching.\n",
        "                    patched_result = (patched_logit_diff - corrupted_logit_diff) / (\n",
        "                        clean_logit_diff - corrupted_logit_diff\n",
        "                    )\n",
        "\n",
        "                    _patching_results.append(patched_result.save())\n",
        "\n",
        "            patching_results.append(_patching_results)"
      ],
      "metadata": {
        "id": "XbJ2bK3KTWXs"
      },
      "execution_count": null,
      "outputs": []
    },
    {
      "cell_type": "code",
      "source": [
        "if model_num == 3:\n",
        "    N_LAYERS = len(model.model.layers)\n",
        "\n",
        "    # Enter nnsight tracing context\n",
        "    with model.trace() as tracer:\n",
        "\n",
        "        # Clean run\n",
        "        with tracer.invoke(clean_prompt) as invoker:\n",
        "            clean_tokens = invoker.inputs[0]['input_ids'][0]\n",
        "\n",
        "            # No need to call .save() as we don't need the values after the run, just within the experiment run.\n",
        "            clean_hs = [\n",
        "                model.model.layers[layer_idx].output[0]\n",
        "                for layer_idx in range(N_LAYERS)\n",
        "            ]\n",
        "\n",
        "            # Get logits from the lm_head.\n",
        "            clean_logits = model.lm_head.output\n",
        "\n",
        "            # Calculate the difference between the correct answer and incorrect answer for the clean run and save it.\n",
        "            clean_logit_diff = (\n",
        "                clean_logits[0, -1, correct_index] - clean_logits[0, -1, incorrect_index]\n",
        "            ).save()\n",
        "\n",
        "        # Corrupted run\n",
        "        with tracer.invoke(corrupted_prompt) as invoker:\n",
        "            corrupted_logits = model.lm_head.output\n",
        "\n",
        "            # Calculate the difference between the correct answer and incorrect answer for the corrupted run and save it.\n",
        "            corrupted_logit_diff = (\n",
        "                corrupted_logits[0, -1, correct_index]\n",
        "                - corrupted_logits[0, -1, incorrect_index]\n",
        "            ).save()\n",
        "\n",
        "        patching_results = []\n",
        "\n",
        "        # Iterate through all the layers\n",
        "        for layer_idx in range(len(model.model.layers)):\n",
        "            _patching_results = []\n",
        "\n",
        "            # Iterate through all tokens\n",
        "            for token_idx in range(len(clean_tokens)):\n",
        "                # Patching corrupted run at given layer and token\n",
        "                with tracer.invoke(corrupted_prompt) as invoker:\n",
        "                    # Apply the patch from the clean hidden states to the corrupted hidden states.\n",
        "                    model.model.layers[layer_idx].output[0][:, token_idx, :] = clean_hs[layer_idx][:, token_idx, :]\n",
        "\n",
        "                    patched_logits = model.lm_head.output\n",
        "\n",
        "                    patched_logit_diff = (\n",
        "                        patched_logits[0, -1, correct_index]\n",
        "                        - patched_logits[0, -1, incorrect_index]\n",
        "                    )\n",
        "\n",
        "                    # Calculate the improvement in the correct token after patching.\n",
        "                    patched_result = (patched_logit_diff - corrupted_logit_diff) / (\n",
        "                        clean_logit_diff - corrupted_logit_diff\n",
        "                    )\n",
        "\n",
        "                    _patching_results.append(patched_result.save())\n",
        "\n",
        "            patching_results.append(_patching_results)"
      ],
      "metadata": {
        "id": "oVeUbBTthiar"
      },
      "execution_count": null,
      "outputs": []
    },
    {
      "cell_type": "code",
      "source": [
        "if model_num > 0:\n",
        "    print(f\"Clean logit difference: {clean_logit_diff.value:.3f}\")\n",
        "    print(f\"Corrupted logit difference: {corrupted_logit_diff.value:.3f}\")\n",
        "\n",
        "    clean_decoded_tokens = [model.tokenizer.decode(token) for token in clean_tokens]\n",
        "    token_labels = [f\"{token}_{index}\" for index, token in enumerate(clean_decoded_tokens)]\n",
        "\n",
        "    fig = plot_patching_results(model, patching_results,token_labels, \"Patching Residual Stream\")\n",
        "    fig.show()"
      ],
      "metadata": {
        "id": "xQBWZqh40cZT"
      },
      "execution_count": null,
      "outputs": []
    }
  ],
  "metadata": {
    "accelerator": "GPU",
    "colab": {
      "collapsed_sections": [
        "I85T--L9103g",
        "S-TNF3PVlGV0"
      ],
      "gpuType": "A100",
      "machine_shape": "hm",
      "provenance": []
    },
    "kernelspec": {
      "display_name": "Python 3",
      "name": "python3"
    },
    "language_info": {
      "name": "python"
    }
  },
  "nbformat": 4,
  "nbformat_minor": 0
}