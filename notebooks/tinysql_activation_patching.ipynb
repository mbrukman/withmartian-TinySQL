{
  "cells": [
    {
      "cell_type": "markdown",
      "metadata": {
        "id": "yQAsYjSQVXHC"
      },
      "source": [
        "# Activation Patching on GPT2, M1, M2 and M3 models using nnsight\n",
        "- Developed on Google Colab using an A100 with 40GB GPU and 80GB system RAM.\n",
        "- Runs with GPT2/TinyStories/Qwen/Llama with base/CS1/CS2/CS3.  \n",
        "- Requires a GITHUB_TOKEN secret to access Martian quanta_text_to_sql code repository.\n",
        "- Requires a HF_TOKEN secret to access Martian HuggingFace repository.\n"
      ]
    },
    {
      "cell_type": "markdown",
      "source": [
        "# Select model and command set\n"
      ],
      "metadata": {
        "id": "s6k59y0OZhp7"
      }
    },
    {
      "cell_type": "code",
      "source": [
        "model_num = 1   # 0=GPT2, 1=TinyStories, 2=Qwen or 3=Llama\n",
        "cs_num = 2      # 0=BaseModel, 1=CS1, 2=CS2 or 3=CS3"
      ],
      "metadata": {
        "id": "rl1akjeAUfoV"
      },
      "execution_count": 28,
      "outputs": []
    },
    {
      "cell_type": "markdown",
      "metadata": {
        "id": "z1tQZgLUnojc"
      },
      "source": [
        "# Import libraries\n",
        "Imports standard libraries. Do not read."
      ]
    },
    {
      "cell_type": "code",
      "execution_count": null,
      "metadata": {
        "colab": {
          "base_uri": "https://localhost:8080/"
        },
        "id": "qt2jt2bHcY2v",
        "outputId": "be4cc720-6401-426f-b328-fdd4bebe349b"
      },
      "outputs": [
        {
          "output_type": "stream",
          "name": "stdout",
          "text": [
            "Requirement already satisfied: nnsight in /usr/local/lib/python3.10/dist-packages (0.3.7)\n",
            "Requirement already satisfied: transformers in /usr/local/lib/python3.10/dist-packages (from nnsight) (4.46.2)\n",
            "Requirement already satisfied: protobuf in /usr/local/lib/python3.10/dist-packages (from nnsight) (4.25.5)\n",
            "Requirement already satisfied: python-socketio[client] in /usr/local/lib/python3.10/dist-packages (from nnsight) (5.11.4)\n",
            "Requirement already satisfied: tokenizers>=0.13.0 in /usr/local/lib/python3.10/dist-packages (from nnsight) (0.20.3)\n",
            "Requirement already satisfied: pydantic>=2.9.0 in /usr/local/lib/python3.10/dist-packages (from nnsight) (2.9.2)\n",
            "Requirement already satisfied: torch>=2.4.0 in /usr/local/lib/python3.10/dist-packages (from nnsight) (2.5.1+cu121)\n",
            "Requirement already satisfied: sentencepiece in /usr/local/lib/python3.10/dist-packages (from nnsight) (0.2.0)\n",
            "Requirement already satisfied: torchvision in /usr/local/lib/python3.10/dist-packages (from nnsight) (0.20.1+cu121)\n",
            "Requirement already satisfied: accelerate in /usr/local/lib/python3.10/dist-packages (from nnsight) (1.1.1)\n",
            "Requirement already satisfied: diffusers in /usr/local/lib/python3.10/dist-packages (from nnsight) (0.31.0)\n",
            "Requirement already satisfied: einops in /usr/local/lib/python3.10/dist-packages (from nnsight) (0.8.0)\n",
            "Requirement already satisfied: annotated-types>=0.6.0 in /usr/local/lib/python3.10/dist-packages (from pydantic>=2.9.0->nnsight) (0.7.0)\n",
            "Requirement already satisfied: pydantic-core==2.23.4 in /usr/local/lib/python3.10/dist-packages (from pydantic>=2.9.0->nnsight) (2.23.4)\n",
            "Requirement already satisfied: typing-extensions>=4.6.1 in /usr/local/lib/python3.10/dist-packages (from pydantic>=2.9.0->nnsight) (4.12.2)\n",
            "Requirement already satisfied: huggingface-hub<1.0,>=0.16.4 in /usr/local/lib/python3.10/dist-packages (from tokenizers>=0.13.0->nnsight) (0.26.2)\n",
            "Requirement already satisfied: filelock in /usr/local/lib/python3.10/dist-packages (from torch>=2.4.0->nnsight) (3.16.1)\n",
            "Requirement already satisfied: networkx in /usr/local/lib/python3.10/dist-packages (from torch>=2.4.0->nnsight) (3.4.2)\n",
            "Requirement already satisfied: jinja2 in /usr/local/lib/python3.10/dist-packages (from torch>=2.4.0->nnsight) (3.1.4)\n",
            "Requirement already satisfied: fsspec in /usr/local/lib/python3.10/dist-packages (from torch>=2.4.0->nnsight) (2024.10.0)\n",
            "Requirement already satisfied: sympy==1.13.1 in /usr/local/lib/python3.10/dist-packages (from torch>=2.4.0->nnsight) (1.13.1)\n",
            "Requirement already satisfied: mpmath<1.4,>=1.1.0 in /usr/local/lib/python3.10/dist-packages (from sympy==1.13.1->torch>=2.4.0->nnsight) (1.3.0)\n",
            "Requirement already satisfied: numpy<3.0.0,>=1.17 in /usr/local/lib/python3.10/dist-packages (from accelerate->nnsight) (1.26.4)\n",
            "Requirement already satisfied: packaging>=20.0 in /usr/local/lib/python3.10/dist-packages (from accelerate->nnsight) (24.2)\n",
            "Requirement already satisfied: psutil in /usr/local/lib/python3.10/dist-packages (from accelerate->nnsight) (5.9.5)\n",
            "Requirement already satisfied: pyyaml in /usr/local/lib/python3.10/dist-packages (from accelerate->nnsight) (6.0.2)\n",
            "Requirement already satisfied: safetensors>=0.4.3 in /usr/local/lib/python3.10/dist-packages (from accelerate->nnsight) (0.4.5)\n",
            "Requirement already satisfied: importlib-metadata in /usr/local/lib/python3.10/dist-packages (from diffusers->nnsight) (8.5.0)\n",
            "Requirement already satisfied: regex!=2019.12.17 in /usr/local/lib/python3.10/dist-packages (from diffusers->nnsight) (2024.9.11)\n",
            "Requirement already satisfied: requests in /usr/local/lib/python3.10/dist-packages (from diffusers->nnsight) (2.32.3)\n",
            "Requirement already satisfied: Pillow in /usr/local/lib/python3.10/dist-packages (from diffusers->nnsight) (11.0.0)\n",
            "Requirement already satisfied: bidict>=0.21.0 in /usr/local/lib/python3.10/dist-packages (from python-socketio[client]->nnsight) (0.23.1)\n",
            "Requirement already satisfied: python-engineio>=4.8.0 in /usr/local/lib/python3.10/dist-packages (from python-socketio[client]->nnsight) (4.10.1)\n",
            "Requirement already satisfied: websocket-client>=0.54.0 in /usr/local/lib/python3.10/dist-packages (from python-socketio[client]->nnsight) (1.8.0)\n"
          ]
        }
      ],
      "source": [
        "# https://nnsight.net/\n",
        "!pip install -U nnsight"
      ]
    },
    {
      "cell_type": "code",
      "execution_count": null,
      "metadata": {
        "id": "Vif7qLNrlC0P"
      },
      "outputs": [],
      "source": [
        "from IPython.display import clear_output\n",
        "import einops\n",
        "import torch\n",
        "import plotly.express as px\n",
        "import plotly.io as pio\n",
        "pio.renderers.default = \"colab\"\n",
        "\n",
        "import nnsight\n",
        "from nnsight import LanguageModel, util\n",
        "from nnsight.tracing.Proxy import Proxy"
      ]
    },
    {
      "cell_type": "code",
      "execution_count": null,
      "metadata": {
        "id": "orVn0wTnosHO"
      },
      "outputs": [],
      "source": [
        "from getpass import getpass\n",
        "from google.colab import userdata\n",
        "import gc\n",
        "import weakref"
      ]
    },
    {
      "cell_type": "code",
      "execution_count": null,
      "metadata": {
        "id": "BMWEb8TJoske"
      },
      "outputs": [],
      "source": [
        "github_token = userdata.get(\"GITHUB_TOKEN\")\n",
        "\n",
        "# Install the private repository using the token\n",
        "!pip install --upgrade git+https://{github_token}@github.com/withmartian/quanta_text_to_sql.git\n",
        "\n",
        "import QuantaTextToSql as qts"
      ]
    },
    {
      "cell_type": "code",
      "source": [
        "clean_tokens = []\n",
        "patching_results = []"
      ],
      "metadata": {
        "id": "bbgIvuWuzMRu"
      },
      "execution_count": null,
      "outputs": []
    },
    {
      "cell_type": "markdown",
      "metadata": {
        "id": "S-TNF3PVlGV0"
      },
      "source": [
        "# nnsight tutorial using GPT2\n",
        "Based on https://nnsight.net/notebooks/tutorials/activation_patching/\n",
        "\n"
      ]
    },
    {
      "cell_type": "code",
      "execution_count": null,
      "metadata": {
        "id": "kigWC3CglGlE"
      },
      "outputs": [],
      "source": [
        "if model_num == 0:\n",
        "    model = LanguageModel(\"openai-community/gpt2\", device_map=\"auto\")\n",
        "    clear_output()\n",
        "    print(model)"
      ]
    },
    {
      "cell_type": "code",
      "execution_count": null,
      "metadata": {
        "id": "_U3UgYC0lRpa"
      },
      "outputs": [],
      "source": [
        "clean_prompt = \"After John and Mary went to the store, Mary gave a bottle of milk to\"\n",
        "corrupted_prompt = (\n",
        "    \"After John and Mary went to the store, John gave a bottle of milk to\"\n",
        ")"
      ]
    },
    {
      "cell_type": "code",
      "execution_count": null,
      "metadata": {
        "id": "Vz_E9jx7lWt1"
      },
      "outputs": [],
      "source": [
        "if model_num == 0:\n",
        "    correct_index = model.tokenizer(\" John\")[\"input_ids\"][0] # includes a space\n",
        "    incorrect_index = model.tokenizer(\" Mary\")[\"input_ids\"][0] # includes a space\n",
        "\n",
        "    print(f\"' John': {correct_index}\")\n",
        "    print(f\"' Mary': {incorrect_index}\")"
      ]
    },
    {
      "cell_type": "code",
      "execution_count": null,
      "metadata": {
        "id": "hE3kLr-Pm57W"
      },
      "outputs": [],
      "source": [
        "if model_num == 0:\n",
        "    N_LAYERS = len(model.transformer.h)\n",
        "\n",
        "    # Enter nnsight tracing context\n",
        "    with model.trace() as tracer:\n",
        "\n",
        "        # Clean run\n",
        "        with tracer.invoke(clean_prompt) as invoker:\n",
        "            clean_tokens = invoker.inputs[0]['input_ids'][0]\n",
        "\n",
        "            # No need to call .save() as we don't need the values after the run, just within the experiment run.\n",
        "            clean_hs = [\n",
        "                model.transformer.h[layer_idx].output[0]\n",
        "                for layer_idx in range(N_LAYERS)\n",
        "            ]\n",
        "\n",
        "            # Get logits from the lm_head.\n",
        "            clean_logits = model.lm_head.output\n",
        "\n",
        "            # Calculate the difference between the correct answer and incorrect answer for the clean run and save it.\n",
        "            clean_logit_diff = (\n",
        "                clean_logits[0, -1, correct_index] - clean_logits[0, -1, incorrect_index]\n",
        "            ).save()\n",
        "\n",
        "        # Corrupted run\n",
        "        with tracer.invoke(corrupted_prompt) as invoker:\n",
        "            corrupted_logits = model.lm_head.output\n",
        "\n",
        "            # Calculate the difference between the correct answer and incorrect answer for the corrupted run and save it.\n",
        "            corrupted_logit_diff = (\n",
        "                corrupted_logits[0, -1, correct_index]\n",
        "                - corrupted_logits[0, -1, incorrect_index]\n",
        "            ).save()\n",
        "\n",
        "        # Iterate through all the layers\n",
        "        for layer_idx in range(len(model.transformer.h)):\n",
        "            layer_results = []\n",
        "\n",
        "            # Iterate through all tokens\n",
        "            for token_idx in range(len(clean_tokens)):\n",
        "                # Patching corrupted run at given layer and token\n",
        "                with tracer.invoke(corrupted_prompt) as invoker:\n",
        "                    # Apply the patch from the clean hidden states to the corrupted hidden states.\n",
        "                    model.transformer.h[layer_idx].output[0][:, token_idx, :] = clean_hs[layer_idx][:, token_idx, :]\n",
        "\n",
        "                    patched_logits = model.lm_head.output\n",
        "\n",
        "                    patched_logit_diff = (\n",
        "                        patched_logits[0, -1, correct_index]\n",
        "                        - patched_logits[0, -1, incorrect_index]\n",
        "                    )\n",
        "\n",
        "                    # Calculate the improvement in the correct token after patching.\n",
        "                    patched_result = (patched_logit_diff - corrupted_logit_diff) / (\n",
        "                        clean_logit_diff - corrupted_logit_diff\n",
        "                    )\n",
        "\n",
        "                    layer_results.append(patched_result.item().save())\n",
        "\n",
        "            patching_results.append(layer_results)"
      ]
    },
    {
      "cell_type": "markdown",
      "source": [
        "Results printed by shared code at end of notebook"
      ],
      "metadata": {
        "id": "COXpQd67Dk9S"
      }
    },
    {
      "cell_type": "markdown",
      "metadata": {
        "id": "y72URtyynvnv"
      },
      "source": [
        "# Run on m1, m2 and m3 models"
      ]
    },
    {
      "cell_type": "code",
      "execution_count": null,
      "metadata": {
        "id": "oFaFTy6LnbxI"
      },
      "outputs": [],
      "source": [
        "if model_num > 0:\n",
        "\n",
        "    if model_num == 1:\n",
        "        the_tokenizer, the_model = qts.load_sql_interp_model(model_num, cs_num, auth_token=userdata.get(\"HF_TOKEN\"))\n",
        "\n",
        "        model = LanguageModel(the_model, the_tokenizer)\n",
        "        model.tokenizer = the_tokenizer\n",
        "    else:\n",
        "        model = LanguageModel(qts.sql_interp_model_location(model_num, cs_num), device_map=\"auto\")\n",
        "\n",
        "    clear_output()\n",
        "    print(model)"
      ]
    },
    {
      "cell_type": "code",
      "execution_count": null,
      "metadata": {
        "id": "76YZ8VErsHjP"
      },
      "outputs": [],
      "source": [
        "if model_num > 0:\n",
        "    clean_prompt = \"### Instruction: What do we have for size in profiles? ### Context: CREATE TABLE profiles (size INTEGER, age INTEGER, name TEXT) ### Response: SELECT\"\n",
        "    corrupted_prompt = \"### Instruction: What do we have for elephants in profiles? ### Context: CREATE TABLE profiles (size INTEGER, age INTEGER, name TEXT) ### Response: SELECT\""
      ]
    },
    {
      "cell_type": "code",
      "source": [
        "if model_num > 0:\n",
        "\n",
        "    # Llama tokenizes \" size\" as [128000, 1404] where 128000 is the '<|begin_of_text|>' symbol\n",
        "    # print(model.tokenizer.convert_ids_to_tokens([128000]))  # Check what `128000` maps to\n",
        "    # print(model.tokenizer.special_tokens_map)  # Ch\n",
        "    answer_offset = 1 if model_num == 3 else 0\n",
        "\n",
        "    correct_index = model.tokenizer(\" size\")[\"input_ids\"][answer_offset] # includes a space\n",
        "    incorrect_index = model.tokenizer(\" elephants\")[\"input_ids\"][answer_offset] # includes a space\n",
        "\n",
        "    print(f\"' size': {correct_index}\")\n",
        "    print(f\"' elephants': {incorrect_index}\")"
      ],
      "metadata": {
        "id": "pjTS7wJXeDee"
      },
      "execution_count": null,
      "outputs": []
    },
    {
      "cell_type": "code",
      "source": [
        "def free_memory():\n",
        "    if torch.cuda.is_available():\n",
        "        torch.cuda.empty_cache()\n",
        "    gc.collect()"
      ],
      "metadata": {
        "id": "Dkrgy819l10q"
      },
      "execution_count": null,
      "outputs": []
    },
    {
      "cell_type": "code",
      "source": [
        "# A list may contain 'weak references' to objects that are garbage collected by free_memory.\n",
        "# This function replaces weak with strong references. Call it before free_memory.\n",
        "def replace_weak_references(obj):\n",
        "    if isinstance(obj, list):\n",
        "        return [replace_weak_references(item) for item in obj]\n",
        "    elif hasattr(obj, 'value'):  # For objects with a 'value' attribute\n",
        "        return obj.value\n",
        "    elif hasattr(obj, 'get_value'):  # For objects with a 'get_value()' method\n",
        "        return obj.get_value()\n",
        "    elif isinstance(obj, torch.Tensor):\n",
        "        return obj.clone().detach()\n",
        "    elif hasattr(obj, 'item'):  # For objects with a 'item()' method\n",
        "        return obj.item()\n",
        "    else:\n",
        "        return obj"
      ],
      "metadata": {
        "id": "r7vnkEYXlzO-"
      },
      "execution_count": null,
      "outputs": []
    },
    {
      "cell_type": "code",
      "source": [
        "def run_tinystories_patching():\n",
        "    run_results = []\n",
        "\n",
        "    N_LAYERS = len(model.transformer.h)\n",
        "\n",
        "    # Enter nnsight tracing context\n",
        "    with model.trace() as tracer:\n",
        "\n",
        "        # Clean run\n",
        "        with tracer.invoke(clean_prompt) as invoker:\n",
        "            clean_tokens = invoker.inputs[0]['input_ids'][0]\n",
        "\n",
        "            # No need to call .save() as we don't need the values after the run, just within the experiment run.\n",
        "            clean_hs = [\n",
        "                model.transformer.h[layer_idx].output[0]\n",
        "                for layer_idx in range(N_LAYERS)\n",
        "            ]\n",
        "\n",
        "            # Get logits from the lm_head.\n",
        "            clean_logits = model.lm_head.output\n",
        "\n",
        "            # Calculate the difference between the correct answer and incorrect answer for the clean run and save it.\n",
        "            clean_logit_diff = (\n",
        "                clean_logits[0, -1, correct_index] - clean_logits[0, -1, incorrect_index]\n",
        "            ).save()\n",
        "\n",
        "        # Corrupted run\n",
        "        with tracer.invoke(corrupted_prompt) as invoker:\n",
        "            corrupted_logits = model.lm_head.output\n",
        "\n",
        "            # Calculate the difference between the correct answer and incorrect answer for the corrupted run and save it.\n",
        "            corrupted_logit_diff = (\n",
        "                corrupted_logits[0, -1, correct_index]\n",
        "                - corrupted_logits[0, -1, incorrect_index]\n",
        "            ).save()\n",
        "\n",
        "        # Iterate through all the layers\n",
        "        for layer_idx in range(len(model.transformer.h)):\n",
        "            layer_results = []\n",
        "\n",
        "            # Iterate through all tokens\n",
        "            for token_idx in range(len(clean_tokens)):\n",
        "                # Patching corrupted run at given layer and token\n",
        "                with tracer.invoke(corrupted_prompt) as invoker:\n",
        "                    # Apply the patch from the clean hidden states to the corrupted hidden states.\n",
        "                    model.transformer.h[layer_idx].output[0][:, token_idx, :] = clean_hs[layer_idx][:, token_idx, :]\n",
        "\n",
        "                    patched_logits = model.lm_head.output\n",
        "\n",
        "                    patched_logit_diff = (\n",
        "                        patched_logits[0, -1, correct_index]\n",
        "                        - patched_logits[0, -1, incorrect_index]\n",
        "                    )\n",
        "\n",
        "                    # Calculate the improvement in the correct token after patching.\n",
        "                    patched_result = (patched_logit_diff - corrupted_logit_diff) / (\n",
        "                        clean_logit_diff - corrupted_logit_diff\n",
        "                    )\n",
        "\n",
        "                    layer_results.append(patched_result.item().save())\n",
        "\n",
        "            run_results.append(layer_results)\n",
        "\n",
        "    clean_tokens = replace_weak_references(clean_tokens)\n",
        "    clean_logit_diff = replace_weak_references(clean_logit_diff)\n",
        "    corrupted_logit_diff = replace_weak_references(corrupted_logit_diff)\n",
        "    run_results = replace_weak_references(run_results)\n",
        "    free_memory() # Free up GPU and CPU memory\n",
        "\n",
        "    return clean_tokens, clean_logit_diff, corrupted_logit_diff, run_results\n",
        "\n",
        "\n",
        "if model_num == 1: # TinyStories\n",
        "    clean_tokens, clean_logit_diff, corrupted_logit_diff, patching_results = run_tinystories_patching()"
      ],
      "metadata": {
        "id": "XE8Qtsuc0Z6W"
      },
      "execution_count": null,
      "outputs": []
    },
    {
      "cell_type": "code",
      "source": [
        "def run_llm_patching():\n",
        "    run_results = []\n",
        "\n",
        "    N_LAYERS = len(model.model.layers)\n",
        "\n",
        "    # with model.scan(input):\n",
        "    # with model.trace(input, scan=True, validate=True) as tracer:\n",
        "    # with model.generate(\"The Eiffel Tower is in the city of\", max_new_tokens=3):  and then use model.lm_head.next()\n",
        "    # with llm.edit() as llm_edited:\n",
        "    # with model.trace(remote=True) as tracer:\n",
        "\n",
        "\n",
        "    # Clean run\n",
        "    with model.trace(clean_prompt) as tracer:\n",
        "        clean_tokens = tracer.invoker.inputs[0]['input_ids'][0]\n",
        "\n",
        "        # Get hidden states of all layers in the network.\n",
        "        # We index the output at 0 because it's a tuple where the first index is the hidden state.\n",
        "        clean_hs = [\n",
        "            model.model.layers[layer_idx].output[0].save()\n",
        "            for layer_idx in range(N_LAYERS)\n",
        "        ]\n",
        "\n",
        "        # Get logits from the lm_head.\n",
        "        clean_logits = model.lm_head.output\n",
        "\n",
        "        # Calculate the difference between the correct answer and incorrect answer for the clean run and save it.\n",
        "        clean_logit_diff = (\n",
        "            clean_logits[0, -1, correct_index] - clean_logits[0, -1, incorrect_index]\n",
        "        ).save()\n",
        "    clean_tokens = replace_weak_references(clean_tokens)\n",
        "    clean_logit_diff = replace_weak_references(clean_logit_diff)\n",
        "\n",
        "\n",
        "    # Corrupted run\n",
        "    with model.trace(corrupted_prompt) as tracer:\n",
        "        corrupted_tokens = tracer.invoker.inputs[0]['input_ids'][0]\n",
        "\n",
        "        corrupted_logits = model.lm_head.output\n",
        "\n",
        "        # Calculate the difference between the correct answer and incorrect answer for the corrupted run and save it.\n",
        "        corrupted_logit_diff = (\n",
        "            corrupted_logits[0, -1, correct_index]\n",
        "            - corrupted_logits[0, -1, incorrect_index]\n",
        "        ).save()\n",
        "    corrupted_logit_diff = replace_weak_references(corrupted_logit_diff)\n",
        "\n",
        "\n",
        "    for layer_idx in range(N_LAYERS):\n",
        "        layer_results = []\n",
        "\n",
        "        for token_idx in range(len(clean_tokens)):\n",
        "            # Patching corrupted run at given layer and token\n",
        "            with model.trace(corrupted_prompt) as tracer:\n",
        "                # Apply the patch from the clean hidden states to the corrupted hidden states.\n",
        "                model.model.layers[layer_idx].output[0][:, token_idx, :] = clean_hs[layer_idx][:, token_idx, :]\n",
        "\n",
        "                patched_logits = model.lm_head.output\n",
        "\n",
        "                patched_logit_diff = (\n",
        "                    patched_logits[0, -1, correct_index]\n",
        "                    - patched_logits[0, -1, incorrect_index]\n",
        "                )\n",
        "\n",
        "                # Calculate the improvement in the correct token after patching.\n",
        "                patching_result = (patched_logit_diff - corrupted_logit_diff) / (\n",
        "                    clean_logit_diff - corrupted_logit_diff\n",
        "                )\n",
        "\n",
        "                # Convert from large structure to int before saving to decrease memory usage\n",
        "                one_result = patching_result.item().save()\n",
        "\n",
        "            layer_results.append(one_result)\n",
        "\n",
        "        run_results.append(layer_results)\n",
        "        run_results = replace_weak_references(run_results)\n",
        "        free_memory() # Free up GPU and CPU memory\n",
        "\n",
        "    return clean_tokens, clean_logit_diff, corrupted_logit_diff, run_results\n",
        "\n",
        "\n",
        "if model_num == 2 or model_num == 3: # Qwen or Llama\n",
        "    clean_tokens, clean_logit_diff, corrupted_logit_diff, patching_results = run_llm_patching()"
      ],
      "metadata": {
        "id": "mu9CeUC_3I9h"
      },
      "execution_count": null,
      "outputs": []
    },
    {
      "cell_type": "markdown",
      "source": [
        "# Graph results"
      ],
      "metadata": {
        "id": "T6SSvZ62DcE3"
      }
    },
    {
      "cell_type": "code",
      "source": [
        "print(f\"Clean logit difference: {clean_logit_diff:.3f}\")\n",
        "print(f\"Corrupted logit difference: {corrupted_logit_diff:.3f}\")\n",
        "\n",
        "clean_decoded_tokens = [model.tokenizer.decode(token) for token in clean_tokens]\n",
        "token_labels = [f\"{token}_{index}\" for index, token in enumerate(clean_decoded_tokens)]\n",
        "\n",
        "fig = px.imshow(\n",
        "    patching_results,\n",
        "    color_continuous_midpoint=0.0,\n",
        "    color_continuous_scale=\"RdBu\",\n",
        "    labels={\"x\": \"Position\", \"y\": \"Layer\",\"color\":\"Norm. Logit Diff\"},\n",
        "    x=token_labels,\n",
        "    title=\"Patching Residual Stream\")\n",
        "fig.show()"
      ],
      "metadata": {
        "id": "xQBWZqh40cZT"
      },
      "execution_count": null,
      "outputs": []
    }
  ],
  "metadata": {
    "accelerator": "GPU",
    "colab": {
      "collapsed_sections": [
        "z1tQZgLUnojc",
        "S-TNF3PVlGV0"
      ],
      "gpuType": "A100",
      "machine_shape": "hm",
      "provenance": []
    },
    "kernelspec": {
      "display_name": "Python 3",
      "name": "python3"
    },
    "language_info": {
      "name": "python"
    }
  },
  "nbformat": 4,
  "nbformat_minor": 0
}