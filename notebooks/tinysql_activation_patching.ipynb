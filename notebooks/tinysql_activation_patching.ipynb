{
  "cells": [
    {
      "cell_type": "markdown",
      "metadata": {
        "id": "yQAsYjSQVXHC"
      },
      "source": [
        "# Activation Patching on M0 .. M5 models using nnsight\n",
        "- Developed on Google Colab using an A100 with 40GB GPU and 80GB system RAM.\n",
        "- Runs with GPT2/TinyStories/Qwen/Llama/Granite/SmolLM with base/CS1/CS2/CS3.\n",
        "- Runs CS1 feature tests (as defined in corrupt_data/clean_corrupt_data.py)    \n",
        "- Requires a GITHUB_TOKEN secret to access Martian quanta_text_to_sql code repository.\n",
        "- Requires a HF_TOKEN secret to access Martian HuggingFace repository.\n"
      ]
    },
    {
      "cell_type": "markdown",
      "metadata": {
        "id": "z1tQZgLUnojc"
      },
      "source": [
        "# Import libraries\n",
        "Imports standard libraries. Do not read."
      ]
    },
    {
      "cell_type": "code",
      "execution_count": null,
      "metadata": {
        "id": "qt2jt2bHcY2v"
      },
      "outputs": [],
      "source": [
        "# https://nnsight.net/\n",
        "!pip install -U nnsight"
      ]
    },
    {
      "cell_type": "code",
      "execution_count": null,
      "metadata": {
        "id": "Vif7qLNrlC0P"
      },
      "outputs": [],
      "source": [
        "from IPython.display import clear_output\n",
        "import einops\n",
        "import torch\n",
        "import plotly.express as px\n",
        "import plotly.io as pio\n",
        "pio.renderers.default = \"colab\"\n",
        "\n",
        "import nnsight\n",
        "from nnsight import LanguageModel, util\n",
        "from nnsight.tracing.Proxy import Proxy"
      ]
    },
    {
      "cell_type": "code",
      "execution_count": null,
      "metadata": {
        "id": "orVn0wTnosHO"
      },
      "outputs": [],
      "source": [
        "from getpass import getpass\n",
        "from google.colab import userdata\n",
        "import gc\n",
        "import weakref"
      ]
    },
    {
      "cell_type": "code",
      "execution_count": null,
      "metadata": {
        "id": "BMWEb8TJoske"
      },
      "outputs": [],
      "source": [
        "github_token = userdata.get(\"GITHUB_TOKEN\")\n",
        "\n",
        "# Install the private repository using the token\n",
        "!pip install --upgrade git+https://{github_token}@github.com/withmartian/quanta_text_to_sql.git\n",
        "\n",
        "import QuantaTextToSql as qts"
      ]
    },
    {
      "cell_type": "code",
      "source": [
        "clean_tokens = []\n",
        "patching_results = []"
      ],
      "metadata": {
        "id": "bbgIvuWuzMRu"
      },
      "execution_count": null,
      "outputs": []
    },
    {
      "cell_type": "markdown",
      "source": [
        "# Select model, command set and feature to investigate\n"
      ],
      "metadata": {
        "id": "s6k59y0OZhp7"
      }
    },
    {
      "cell_type": "code",
      "source": [
        "model_num = 1                 # 0=GPT2, 1=TinyStories, 2=Qwen, 3=Llama, 4=Granite, 5=SmolLM\n",
        "cs_num = 1                    # 0=BaseModel, 1=CS1, 2=CS2 or 3=CS3\n",
        "feat_name = qts.DEFFIELDNAME  # ENGTABLENAME, ENGFIELDNAME, DEFTABLESTART, DEFTABLENAME, DEFFIELDNAME, DEFFIELDSEPARATOR"
      ],
      "metadata": {
        "id": "rl1akjeAUfoV"
      },
      "execution_count": null,
      "outputs": []
    },
    {
      "cell_type": "code",
      "source": [
        "# Key global variables\n",
        "clean_prompt = \"\"\n",
        "corrupted_prompt = \"\"\n",
        "clean_token_index = qts.UNKNOWN_VALUE # Tokenizer index for clean word\n",
        "corrupt_token_index = qts.UNKNOWN_VALUE # Tokenizer index for corrupted word"
      ],
      "metadata": {
        "id": "54KJeeB0Sjjc"
      },
      "execution_count": null,
      "outputs": []
    },
    {
      "cell_type": "markdown",
      "metadata": {
        "id": "S-TNF3PVlGV0"
      },
      "source": [
        "# Run m0 : nnsight tutorial using GPT2\n",
        "Based on https://nnsight.net/notebooks/tutorials/activation_patching/\n",
        "\n"
      ]
    },
    {
      "cell_type": "code",
      "execution_count": null,
      "metadata": {
        "id": "kigWC3CglGlE"
      },
      "outputs": [],
      "source": [
        "if model_num == 0:\n",
        "    model = LanguageModel(\"openai-community/gpt2\", device_map=\"auto\")\n",
        "    clear_output()\n",
        "    print(model)"
      ]
    },
    {
      "cell_type": "code",
      "execution_count": null,
      "metadata": {
        "id": "_U3UgYC0lRpa"
      },
      "outputs": [],
      "source": [
        "clean_prompt = \"After John and Mary went to the store, Mary gave a bottle of milk to\"\n",
        "corrupted_prompt = (\n",
        "    \"After John and Mary went to the store, John gave a bottle of milk to\"\n",
        ")"
      ]
    },
    {
      "cell_type": "code",
      "execution_count": null,
      "metadata": {
        "id": "Vz_E9jx7lWt1"
      },
      "outputs": [],
      "source": [
        "if model_num == 0:\n",
        "    clean_token_index = model.tokenizer(\" John\")[\"input_ids\"][0] # includes a space\n",
        "    corrupt_token_index = model.tokenizer(\" Mary\")[\"input_ids\"][0] # includes a space\n",
        "\n",
        "    print(f\"' John': {clean_token_index}\")\n",
        "    print(f\"' Mary': {corrupt_token_index}\")"
      ]
    },
    {
      "cell_type": "code",
      "execution_count": null,
      "metadata": {
        "id": "hE3kLr-Pm57W"
      },
      "outputs": [],
      "source": [
        "def run_gpt2_patching():\n",
        "    run_results = []\n",
        "\n",
        "    N_LAYERS = len(model.transformer.h)\n",
        "\n",
        "    # Enter nnsight tracing context\n",
        "    with model.trace() as tracer:\n",
        "\n",
        "        # Clean run\n",
        "        with tracer.invoke(clean_prompt) as invoker:\n",
        "            clean_tokens = invoker.inputs[0]['input_ids'][0]\n",
        "\n",
        "            # No need to call .save() as we don't need the values after the run, just within the experiment run.\n",
        "            clean_hs = [\n",
        "                model.transformer.h[layer_idx].output[0]\n",
        "                for layer_idx in range(N_LAYERS)\n",
        "            ]\n",
        "\n",
        "            # Get logits from the lm_head.\n",
        "            clean_logits = model.lm_head.output\n",
        "\n",
        "            # Calculate the difference between the correct answer and incorrect answer for the clean run and save it.\n",
        "            clean_logit_diff = (\n",
        "                clean_logits[0, -1, clean_token_index] - clean_logits[0, -1, corrupt_token_index]\n",
        "            ).save()\n",
        "\n",
        "        # Corrupted run\n",
        "        with tracer.invoke(corrupted_prompt) as invoker:\n",
        "            corrupted_logits = model.lm_head.output\n",
        "\n",
        "            # Calculate the difference between the correct answer and incorrect answer for the corrupted run and save it.\n",
        "            corrupted_logit_diff = (\n",
        "                corrupted_logits[0, -1, clean_token_index] - corrupted_logits[0, -1, corrupt_token_index]\n",
        "            ).save()\n",
        "\n",
        "        # Iterate through all the layers\n",
        "        for layer_idx in range(N_LAYERS):\n",
        "            layer_results = []\n",
        "\n",
        "            # Iterate through all tokens\n",
        "            for token_idx in range(len(clean_tokens)):\n",
        "                # Patching corrupted run at given layer and token\n",
        "                with tracer.invoke(corrupted_prompt) as invoker:\n",
        "                    # Apply the patch from the clean hidden states to the corrupted hidden states.\n",
        "                    model.transformer.h[layer_idx].output[0][:, token_idx, :] = clean_hs[layer_idx][:, token_idx, :]\n",
        "\n",
        "                    patched_logits = model.lm_head.output\n",
        "\n",
        "                    patched_logit_diff = (\n",
        "                        patched_logits[0, -1, clean_token_index] - patched_logits[0, -1, corrupt_token_index]\n",
        "                    )\n",
        "\n",
        "                    # Calculate the improvement in the correct token after patching.\n",
        "                    patched_result = (patched_logit_diff - corrupted_logit_diff) / (\n",
        "                        clean_logit_diff - corrupted_logit_diff\n",
        "                    )\n",
        "\n",
        "                    layer_results.append(patched_result.item().save())\n",
        "\n",
        "            run_results.append(layer_results)\n",
        "\n",
        "    run_results = qts.replace_weak_references(run_results)\n",
        "    qts.free_memory() # Free up GPU and CPU memory\n",
        "\n",
        "    return clean_tokens, clean_logit_diff.item(), corrupted_logit_diff.item(), run_results\n",
        "\n",
        "\n",
        "if model_num == 0: # GPT2\n",
        "    clean_tokens, clean_logit_diff, corrupted_logit_diff, patching_results = run_gpt2_patching()"
      ]
    },
    {
      "cell_type": "markdown",
      "source": [
        "Results printed by shared code at end of notebook"
      ],
      "metadata": {
        "id": "COXpQd67Dk9S"
      }
    },
    {
      "cell_type": "markdown",
      "metadata": {
        "id": "y72URtyynvnv"
      },
      "source": [
        "# Run m1, m2 and m3 models"
      ]
    },
    {
      "cell_type": "code",
      "execution_count": null,
      "metadata": {
        "id": "oFaFTy6LnbxI"
      },
      "outputs": [],
      "source": [
        "if model_num > 0:\n",
        "\n",
        "    if model_num == 1:\n",
        "        the_tokenizer, the_model = qts.load_sql_interp_model(model_num, cs_num, auth_token=userdata.get(\"HF_TOKEN\"), use_flash_attention=False)\n",
        "        model = LanguageModel(the_model, the_tokenizer)\n",
        "        model.tokenizer = the_tokenizer\n",
        "    else:\n",
        "        model = LanguageModel(qts.sql_interp_model_location(model_num, cs_num), device_map=\"auto\")\n",
        "\n",
        "    clear_output()\n",
        "    print(model)"
      ]
    },
    {
      "cell_type": "code",
      "execution_count": null,
      "metadata": {
        "id": "76YZ8VErsHjP"
      },
      "outputs": [],
      "source": [
        "if model_num > 0:\n",
        "    # Generate a batch of clean and corrupt prompts for feat_name\n",
        "    batch_size = 5\n",
        "    generator = qts.CorruptFeatureTestGenerator(model_num, cs_num, model.tokenizer)\n",
        "    examples = generator.generate_feature_examples(feat_name, batch_size)\n",
        "\n",
        "    example = examples[0]\n",
        "    ground_truth = example.clean_BatchItem.sql_statement\n",
        "    clean_prompt = example.clean_BatchItem.get_alpaca_prompt() + ground_truth\n",
        "    corrupted_prompt = example.corrupt_BatchItem.get_alpaca_prompt() + ground_truth # PQR incorrect\n",
        "    clean_token_index = example.clean_token_index\n",
        "    corrupt_token_index = example.corrupt_token_index\n",
        "\n",
        "    print(\"Case:\", example.feature_name )\n",
        "    print()\n",
        "    print(\"Clean: Token=\", example.clean_token, \"Index=\", clean_token_index, \"Prompt=\", clean_prompt )\n",
        "    print()\n",
        "    print(\"Corrupt: Token=\", example.corrupt_token, \"Index=\", corrupt_token_index, \"Prompt=\", corrupted_prompt)"
      ]
    },
    {
      "cell_type": "code",
      "source": [
        "def run_tinystories_patching():\n",
        "    run_results = []\n",
        "\n",
        "    N_LAYERS = len(model.transformer.h)\n",
        "\n",
        "    # Enter nnsight tracing context\n",
        "    with model.trace() as tracer:\n",
        "\n",
        "        # Clean run (read-only)\n",
        "        with tracer.invoke(clean_prompt) as invoker:\n",
        "            clean_tokens = invoker.inputs[0]['input_ids'][0]\n",
        "\n",
        "            # No need to call .save() as we don't need the values after the run, just within the experiment run.\n",
        "            clean_hs = [\n",
        "                model.transformer.h[layer_idx].output[0]\n",
        "                for layer_idx in range(N_LAYERS)\n",
        "            ]\n",
        "\n",
        "            # Get logits from the lm_head.\n",
        "            clean_logits = model.lm_head.output\n",
        "\n",
        "            # Calculate the difference between the correct answer and incorrect answer for the clean run and save it.\n",
        "            clean_logit_diff = (\n",
        "                clean_logits[0, -1, clean_token_index] - clean_logits[0, -1, corrupt_token_index]\n",
        "            ).save()\n",
        "\n",
        "        # Corrupted run (read-only)\n",
        "        with tracer.invoke(corrupted_prompt) as invoker:\n",
        "            corrupted_logits = model.lm_head.output\n",
        "\n",
        "            # Calculate the difference between the correct answer and incorrect answer for the corrupted run and save it.\n",
        "            corrupted_logit_diff = (\n",
        "                corrupted_logits[0, -1, clean_token_index] - corrupted_logits[0, -1, corrupt_token_index]\n",
        "            ).save()\n",
        "\n",
        "        # Iterate through all the layers\n",
        "        for layer_idx in range(N_LAYERS):\n",
        "            layer_results = []\n",
        "\n",
        "            # Iterate through all tokens\n",
        "            for token_idx in range(len(clean_tokens)):\n",
        "                # Patching corrupted run at given layer and token\n",
        "                with tracer.invoke(corrupted_prompt) as invoker:\n",
        "                    # Apply the patch from the clean hidden states to the corrupted hidden states.\n",
        "                    model.transformer.h[layer_idx].output[0][:, token_idx, :] = clean_hs[layer_idx][:, token_idx, :]\n",
        "\n",
        "                    patched_logits = model.lm_head.output\n",
        "\n",
        "                    patched_logit_diff = (\n",
        "                        patched_logits[0, -1, clean_token_index] - patched_logits[0, -1, corrupt_token_index]\n",
        "                    )\n",
        "\n",
        "                    # Calculate the improvement in the correct token after patching.\n",
        "                    patched_result = (patched_logit_diff - corrupted_logit_diff) / (\n",
        "                        clean_logit_diff - corrupted_logit_diff\n",
        "                    )\n",
        "\n",
        "                    layer_results.append(patched_result.item().save())\n",
        "\n",
        "            run_results.append(layer_results)\n",
        "\n",
        "    run_results = qts.replace_weak_references(run_results)\n",
        "    qts.free_memory() # Free up GPU and CPU memory\n",
        "\n",
        "    return clean_tokens, clean_logit_diff.item(), corrupted_logit_diff.item(), run_results\n",
        "\n",
        "\n",
        "if model_num == 1: # TinyStories\n",
        "    clean_tokens, clean_logit_diff, corrupted_logit_diff, patching_results = run_tinystories_patching()"
      ],
      "metadata": {
        "id": "XE8Qtsuc0Z6W"
      },
      "execution_count": null,
      "outputs": []
    },
    {
      "cell_type": "code",
      "source": [
        "def run_llm_patching():\n",
        "    run_results = []\n",
        "\n",
        "    N_LAYERS = len(model.model.layers)\n",
        "\n",
        "    # Clean run\n",
        "    with model.trace(clean_prompt) as tracer:\n",
        "        clean_tokens = tracer.invoker.inputs[0]['input_ids'][0]\n",
        "\n",
        "        # Get hidden states of all layers in the network.\n",
        "        # We index the output at 0 because it's a tuple where the first index is the hidden state.\n",
        "        clean_hs = [\n",
        "            model.model.layers[layer_idx].output[0].save()\n",
        "            for layer_idx in range(N_LAYERS)\n",
        "        ]\n",
        "\n",
        "        # Get logits from the lm_head.\n",
        "        clean_logits = model.lm_head.output\n",
        "\n",
        "        # Calculate the difference between the correct answer and incorrect answer for the clean run and save it.\n",
        "        clean_logit_diff = (\n",
        "            clean_logits[0, -1, clean_token_index] - clean_logits[0, -1, corrupt_token_index]\n",
        "        ).save()\n",
        "\n",
        "    # Corrupted run\n",
        "    with model.trace(corrupted_prompt) as tracer:\n",
        "        corrupted_tokens = tracer.invoker.inputs[0]['input_ids'][0]\n",
        "\n",
        "        corrupted_logits = model.lm_head.output\n",
        "\n",
        "        # Calculate the difference between the correct answer and incorrect answer for the corrupted run and save it.\n",
        "        corrupted_logit_diff = (\n",
        "            corrupted_logits[0, -1, clean_token_index] - corrupted_logits[0, -1, corrupt_token_index]\n",
        "        ).save()\n",
        "\n",
        "    for layer_idx in range(N_LAYERS):\n",
        "        layer_results = []\n",
        "\n",
        "        for token_idx in range(len(clean_tokens)):\n",
        "            # Patching corrupted run at given layer and token\n",
        "            with model.trace(corrupted_prompt) as tracer:\n",
        "                # Apply the patch from the clean hidden states to the corrupted hidden states.\n",
        "                model.model.layers[layer_idx].output[0][:, token_idx, :] = clean_hs[layer_idx][:, token_idx, :]\n",
        "\n",
        "                patched_logits = model.lm_head.output\n",
        "\n",
        "                patched_logit_diff = (\n",
        "                    patched_logits[0, -1, clean_token_index] - patched_logits[0, -1, corrupt_token_index]\n",
        "                )\n",
        "\n",
        "                # Calculate the improvement in the correct token after patching.\n",
        "                patching_result = (patched_logit_diff - corrupted_logit_diff) / (\n",
        "                    clean_logit_diff - corrupted_logit_diff\n",
        "                )\n",
        "\n",
        "                # Convert from large structure to int before saving to decrease memory usage\n",
        "                one_result = patching_result.item().save()\n",
        "\n",
        "            layer_results.append(one_result)\n",
        "\n",
        "        run_results.append(layer_results)\n",
        "\n",
        "    run_results = qts.replace_weak_references(run_results)\n",
        "    qts.free_memory() # Free up GPU and CPU memory\n",
        "\n",
        "    return clean_tokens, clean_logit_diff.item(), corrupted_logit_diff.item(), run_results\n",
        "\n",
        "\n",
        "if model_num == 2 or model_num == 3: # Qwen or Llama\n",
        "    clean_tokens, clean_logit_diff, corrupted_logit_diff, patching_results = run_llm_patching()"
      ],
      "metadata": {
        "id": "mu9CeUC_3I9h"
      },
      "execution_count": null,
      "outputs": []
    },
    {
      "cell_type": "markdown",
      "source": [
        "# Graph results"
      ],
      "metadata": {
        "id": "T6SSvZ62DcE3"
      }
    },
    {
      "cell_type": "code",
      "source": [
        "print(f\"Clean logit difference: {clean_logit_diff:.3f}\")\n",
        "print(f\"Corrupted logit difference: {corrupted_logit_diff:.3f}\")\n",
        "\n",
        "clean_decoded_tokens = [model.tokenizer.decode(token) for token in clean_tokens]\n",
        "token_labels = [f\"{token}_{index}\" for index, token in enumerate(clean_decoded_tokens)]\n",
        "\n",
        "fig = px.imshow(\n",
        "    patching_results,\n",
        "    color_continuous_midpoint=0.0,\n",
        "    color_continuous_scale=\"RdBu\",\n",
        "    labels={\"x\": \"Position\", \"y\": \"Layer\",\"color\":\"Norm. Logit Diff\"},\n",
        "    x=token_labels,\n",
        "    title=\"Patching Residual Stream\")\n",
        "fig.show()"
      ],
      "metadata": {
        "id": "xQBWZqh40cZT"
      },
      "execution_count": null,
      "outputs": []
    }
  ],
  "metadata": {
    "accelerator": "GPU",
    "colab": {
      "collapsed_sections": [
        "z1tQZgLUnojc"
      ],
      "gpuType": "T4",
      "machine_shape": "hm",
      "provenance": []
    },
    "kernelspec": {
      "display_name": "Python 3",
      "name": "python3"
    },
    "language_info": {
      "name": "python"
    }
  },
  "nbformat": 4,
  "nbformat_minor": 0
}