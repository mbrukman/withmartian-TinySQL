{
  "cells": [
    {
      "cell_type": "markdown",
      "metadata": {
        "id": "yQAsYjSQVXHC"
      },
      "source": [
        "# Activation Patching on GPT2, M1, M2 and M3 models using nnsight\n",
        "- Developed on Google Colab using an A100 with 40GB GPU and 80GB system RAM.\n",
        "  - Succeeds with GPT2/TinyStories. Out of memomory with Qwen/Llama.  \n",
        "- Requires a GITHUB_TOKEN secret to access Martian quanta_text_to_sql code repository.\n",
        "- Requires a HF_TOKEN secret to access Martian HuggingFace repository.\n"
      ]
    },
    {
      "cell_type": "markdown",
      "source": [
        "# Select model and command set\n"
      ],
      "metadata": {
        "id": "s6k59y0OZhp7"
      }
    },
    {
      "cell_type": "code",
      "source": [
        "model_num = 1   # 0=GPT2, 1=TinyStories, 2=Qwen or 3=Llama\n",
        "cs_num = 3      # 0=BaseModel, 1=CS1, 2=CS2 or 3=CS3"
      ],
      "metadata": {
        "id": "rl1akjeAUfoV"
      },
      "execution_count": null,
      "outputs": []
    },
    {
      "cell_type": "markdown",
      "metadata": {
        "id": "z1tQZgLUnojc"
      },
      "source": [
        "# Import libraries\n",
        "Imports standard libraries. Do not read."
      ]
    },
    {
      "cell_type": "code",
      "execution_count": null,
      "metadata": {
        "id": "qt2jt2bHcY2v"
      },
      "outputs": [],
      "source": [
        "# https://nnsight.net/\n",
        "!pip install -U nnsight\n",
        "from IPython.display import clear_output"
      ]
    },
    {
      "cell_type": "code",
      "execution_count": null,
      "metadata": {
        "id": "orVn0wTnosHO"
      },
      "outputs": [],
      "source": [
        "from getpass import getpass\n",
        "from google.colab import userdata"
      ]
    },
    {
      "cell_type": "code",
      "execution_count": null,
      "metadata": {
        "id": "jSsUMYr3h0lD"
      },
      "outputs": [],
      "source": [
        "import nnsight\n",
        "from nnsight import CONFIG\n",
        "\n",
        "# Needed if running remote trace which uses the NDIF compute platform.\n",
        "# e.g. llama.trace(\"The Eiffel Tower is in the city of\", remote=True)\n",
        "# NDIF only supports models meta-llama/meta-llama-3.1-8B and EleutherAI/gpt-j-6B\n",
        "#CONFIG.set_default_api_key(userdata.get(\"NDIF_KEY\"))"
      ]
    },
    {
      "cell_type": "code",
      "source": [
        "!pip install flash-attn --no-build-isolation\n",
        "import flash_attn"
      ],
      "metadata": {
        "id": "lW_v8VMxbzO2"
      },
      "execution_count": null,
      "outputs": []
    },
    {
      "cell_type": "code",
      "execution_count": null,
      "metadata": {
        "id": "Vif7qLNrlC0P"
      },
      "outputs": [],
      "source": [
        "import plotly.express as px\n",
        "import plotly.io as pio\n",
        "pio.renderers.default = \"colab\"\n",
        "from nnsight import LanguageModel, util\n",
        "from nnsight.tracing.Proxy import Proxy"
      ]
    },
    {
      "cell_type": "code",
      "execution_count": null,
      "metadata": {
        "id": "BMWEb8TJoske"
      },
      "outputs": [],
      "source": [
        "# Set GitHub credentials\n",
        "#github_token = getpass('Enter your GitHub PAT: ')  # This will prompt for token securely\n",
        "github_token = userdata.get(\"GITHUB_TOKEN\")\n",
        "\n",
        "# Install the private repository using the token\n",
        "#!pip install --upgrade git+https://{github_token}@github.com/withmartian/quanta_text_to_sql.git\n",
        "\n",
        "# Now you can import the package\n",
        "#import QuantaTextToSql as qts"
      ]
    },
    {
      "cell_type": "markdown",
      "source": [
        "# Shared Plotting Function"
      ],
      "metadata": {
        "id": "I85T--L9103g"
      }
    },
    {
      "cell_type": "code",
      "execution_count": null,
      "metadata": {
        "id": "EIuPuKeom9VX"
      },
      "outputs": [],
      "source": [
        "def plot_patching_results(model,\n",
        "                              patching_results,\n",
        "                              x_labels,\n",
        "                              plot_title=\"Normalized Logit Difference After Patching Residual Stream\"):\n",
        "\n",
        "    patching_results = util.apply(patching_results, lambda x: x.value.item(), Proxy)\n",
        "    fig = px.imshow(\n",
        "        patching_results,\n",
        "        color_continuous_midpoint=0.0,\n",
        "        color_continuous_scale=\"RdBu\",\n",
        "        labels={\"x\": \"Position\", \"y\": \"Layer\",\"color\":\"Norm. Logit Diff\"},\n",
        "        x=x_labels,\n",
        "        title=plot_title,\n",
        "    )\n",
        "\n",
        "    return fig"
      ]
    },
    {
      "cell_type": "markdown",
      "metadata": {
        "id": "S-TNF3PVlGV0"
      },
      "source": [
        "# Tutorial on GPT2\n",
        "Based on https://nnsight.net/notebooks/tutorials/activation_patching/\n",
        "\n",
        "Runs when model_num == 0\n"
      ]
    },
    {
      "cell_type": "code",
      "execution_count": null,
      "metadata": {
        "id": "kigWC3CglGlE"
      },
      "outputs": [],
      "source": [
        "if model_num == 0:\n",
        "    model = LanguageModel(\"openai-community/gpt2\", device_map=\"auto\")\n",
        "    clear_output()\n",
        "    print(model)"
      ]
    },
    {
      "cell_type": "code",
      "execution_count": null,
      "metadata": {
        "id": "_U3UgYC0lRpa"
      },
      "outputs": [],
      "source": [
        "clean_prompt = \"After John and Mary went to the store, Mary gave a bottle of milk to\"\n",
        "corrupted_prompt = (\n",
        "    \"After John and Mary went to the store, John gave a bottle of milk to\"\n",
        ")"
      ]
    },
    {
      "cell_type": "code",
      "execution_count": null,
      "metadata": {
        "id": "Vz_E9jx7lWt1"
      },
      "outputs": [],
      "source": [
        "if model_num == 0:\n",
        "    correct_index = model.tokenizer(\" John\")[\"input_ids\"][0] # includes a space\n",
        "    incorrect_index = model.tokenizer(\" Mary\")[\"input_ids\"][0] # includes a space\n",
        "\n",
        "    print(f\"' John': {correct_index}\")\n",
        "    print(f\"' Mary': {incorrect_index}\")"
      ]
    },
    {
      "cell_type": "code",
      "execution_count": null,
      "metadata": {
        "id": "hE3kLr-Pm57W"
      },
      "outputs": [],
      "source": [
        "if model_num == 0:\n",
        "    N_LAYERS = len(model.transformer.h)\n",
        "\n",
        "    # Enter nnsight tracing context\n",
        "    with model.trace() as tracer:\n",
        "\n",
        "        # Clean run\n",
        "        with tracer.invoke(clean_prompt) as invoker:\n",
        "            clean_tokens = invoker.inputs[0]['input_ids'][0]\n",
        "\n",
        "            # No need to call .save() as we don't need the values after the run, just within the experiment run.\n",
        "            clean_hs = [\n",
        "                model.transformer.h[layer_idx].output[0]\n",
        "                for layer_idx in range(N_LAYERS)\n",
        "            ]\n",
        "\n",
        "            # Get logits from the lm_head.\n",
        "            clean_logits = model.lm_head.output\n",
        "\n",
        "            # Calculate the difference between the correct answer and incorrect answer for the clean run and save it.\n",
        "            clean_logit_diff = (\n",
        "                clean_logits[0, -1, correct_index] - clean_logits[0, -1, incorrect_index]\n",
        "            ).save()\n",
        "\n",
        "        # Corrupted run\n",
        "        with tracer.invoke(corrupted_prompt) as invoker:\n",
        "            corrupted_logits = model.lm_head.output\n",
        "\n",
        "            # Calculate the difference between the correct answer and incorrect answer for the corrupted run and save it.\n",
        "            corrupted_logit_diff = (\n",
        "                corrupted_logits[0, -1, correct_index]\n",
        "                - corrupted_logits[0, -1, incorrect_index]\n",
        "            ).save()\n",
        "\n",
        "        patching_results = []\n",
        "\n",
        "        # Iterate through all the layers\n",
        "        for layer_idx in range(len(model.transformer.h)):\n",
        "            _patching_results = []\n",
        "\n",
        "            # Iterate through all tokens\n",
        "            for token_idx in range(len(clean_tokens)):\n",
        "                # Patching corrupted run at given layer and token\n",
        "                with tracer.invoke(corrupted_prompt) as invoker:\n",
        "                    # Apply the patch from the clean hidden states to the corrupted hidden states.\n",
        "                    model.transformer.h[layer_idx].output[0][:, token_idx, :] = clean_hs[layer_idx][:, token_idx, :]\n",
        "\n",
        "                    patched_logits = model.lm_head.output\n",
        "\n",
        "                    patched_logit_diff = (\n",
        "                        patched_logits[0, -1, correct_index]\n",
        "                        - patched_logits[0, -1, incorrect_index]\n",
        "                    )\n",
        "\n",
        "                    # Calculate the improvement in the correct token after patching.\n",
        "                    patched_result = (patched_logit_diff - corrupted_logit_diff) / (\n",
        "                        clean_logit_diff - corrupted_logit_diff\n",
        "                    )\n",
        "\n",
        "                    _patching_results.append(patched_result.save())\n",
        "\n",
        "            patching_results.append(_patching_results)"
      ]
    },
    {
      "cell_type": "code",
      "execution_count": null,
      "metadata": {
        "id": "Uz2GWyNfnBzI"
      },
      "outputs": [],
      "source": [
        "if model_num == 0:\n",
        "    print(f\"Clean logit difference: {clean_logit_diff.value:.3f}\")\n",
        "    print(f\"Corrupted logit difference: {corrupted_logit_diff.value:.3f}\")\n",
        "\n",
        "    clean_decoded_tokens = [model.tokenizer.decode(token) for token in clean_tokens]\n",
        "    token_labels = [f\"{token}_{index}\" for index, token in enumerate(clean_decoded_tokens)]\n",
        "\n",
        "    fig = plot_patching_results(model, patching_results,token_labels,\"Patching GPT-2-small Residual Stream on IOI task\")\n",
        "    fig.show()"
      ]
    },
    {
      "cell_type": "markdown",
      "metadata": {
        "id": "y72URtyynvnv"
      },
      "source": [
        "# Run on m1, m2 and m3 models"
      ]
    },
    {
      "cell_type": "code",
      "source": [
        "import os\n",
        "import torch\n",
        "from transformers import AutoTokenizer, AutoModelForCausalLM\n",
        "\n",
        "# Load the tokenizer and model. Uses HF_TOKEN for private models\n",
        "def load_model(model_location, use_flash_attention=True, auth_token=None):\n",
        "    if auth_token is None:\n",
        "        auth_token = os.getenv(\"HF_TOKEN\")\n",
        "\n",
        "    tokenizer = AutoTokenizer.from_pretrained(model_location, token=auth_token)\n",
        "\n",
        "    if use_flash_attention:\n",
        "        # qwen model and llama model with flash attention\n",
        "        # Prerequisite: pip install flash-attn==2.0.2\n",
        "        # From https://github.com/Dao-AILab/flash-attention\n",
        "        model = AutoModelForCausalLM.from_pretrained(\n",
        "            model_location,\n",
        "            torch_dtype=torch.bfloat16,\n",
        "            device_map=\"auto\",\n",
        "            attn_implementation=\"flash_attention_2\",\n",
        "        )\n",
        "    else:\n",
        "        # model without flash attention\n",
        "        model = AutoModelForCausalLM.from_pretrained(\n",
        "                model_location,\n",
        "                torch_dtype=torch.float32,\n",
        "                device_map=\"auto\",\n",
        "            )\n",
        "\n",
        "    return tokenizer, model"
      ],
      "metadata": {
        "id": "Z5hXYqy2v9Td"
      },
      "execution_count": null,
      "outputs": []
    },
    {
      "cell_type": "code",
      "source": [
        "# Load the tokenizer and trained model for model 1, 2, or 3 and command set 0 (base model), 1, 2, or 3\n",
        "def sql_interp_model_location( model_num : int, cs_num : int):\n",
        "    if model_num == 1:\n",
        "        if cs_num == 0:\n",
        "            return \"roneneldan/TinyStories-Instruct-2Layers-33M\"\n",
        "\n",
        "        elif cs_num == 1:\n",
        "            return \"withmartian/sql_interp_bm1_cs1_experiment_1.1\"\n",
        "\n",
        "        elif cs_num == 2:\n",
        "            return \"withmartian/sql_interp_bm1_cs2_experiment_2.3\"\n",
        "\n",
        "        elif cs_num == 3:\n",
        "            return \"withmartian/sql_interp_bm1_cs3_experiment_3.3\"\n",
        "\n",
        "    if model_num == 2:\n",
        "        if cs_num == 0:\n",
        "            return \"Qwen/Qwen2.5-0.5B-Instruct\"\n",
        "\n",
        "        elif cs_num == 1:\n",
        "            return \"withmartian/sql_interp_bm2_cs1_experiment_4.1\"\n",
        "\n",
        "        elif cs_num == 2:\n",
        "            return \"withmartian/sql_interp_bm2_cs2_experiment_5.1\"\n",
        "\n",
        "        elif cs_num == 3:\n",
        "            return \"withmartian/sql_interp_bm2_cs3_experiment_6.1\"\n",
        "\n",
        "    if model_num == 3:\n",
        "        if cs_num == 0:\n",
        "            return \"meta-llama/Llama-3.2-1B-Instruct\"\n",
        "\n",
        "        elif cs_num == 1:\n",
        "            return \"withmartian/sql_interp_bm3_cs1_experiment_7.1\"\n",
        "\n",
        "        elif cs_num == 2:\n",
        "            return \"withmartian/sql_interp_bm3_cs2_experiment_8.1\"\n",
        "\n",
        "        elif cs_num == 3:\n",
        "            return \"withmartian/sql_interp_bm3_cs3_experiment_9.1\"\n",
        "\n",
        "    return \"\""
      ],
      "metadata": {
        "id": "6qVAa4axXsdy"
      },
      "execution_count": null,
      "outputs": []
    },
    {
      "cell_type": "code",
      "source": [
        "def load_sql_interp_model( model_num : int, cs_num : int, auth_token=None):\n",
        "    model_location = sql_interp_model_location(model_num, cs_num)\n",
        "\n",
        "    use_flash_attention = model_num == 2 or model_num == 3\n",
        "    tokenizer, model = load_model(model_location, use_flash_attention=use_flash_attention, auth_token=auth_token)\n",
        "\n",
        "    if model_num == 1:\n",
        "        tokenizer.padding_side = \"left\"\n",
        "        tokenizer.add_special_tokens({'pad_token': '<|pad|>'})\n",
        "\n",
        "        model.resize_token_embeddings(len(tokenizer), mean_resizing=False)\n",
        "\n",
        "        model.config.pad_token_id = tokenizer.pad_token_id\n",
        "\n",
        "        model.resize_token_embeddings(len(tokenizer))\n",
        "\n",
        "    return tokenizer, model"
      ],
      "metadata": {
        "id": "jiAiIUuRwNFs"
      },
      "execution_count": null,
      "outputs": []
    },
    {
      "cell_type": "code",
      "execution_count": null,
      "metadata": {
        "id": "oFaFTy6LnbxI"
      },
      "outputs": [],
      "source": [
        "if model_num > 0:\n",
        "\n",
        "    if model_num == 1:\n",
        "        model_location = sql_interp_model_location(model_num, cs_num)\n",
        "\n",
        "        the_tokenizer, the_model = load_sql_interp_model(model_num, cs_num)\n",
        "\n",
        "        model = LanguageModel(the_model, the_tokenizer)\n",
        "        model.tokenizer = the_tokenizer\n",
        "    else:\n",
        "\n",
        "      #if model_num == 3 and cs_num == 0:\n",
        "        # Access to https://huggingface.co/meta-llama/Llama-3.2-1B-Instruct is restricted. Apply token.\n",
        "        #os.environ['HUGGINGFACE_HUB_TOKEN'] = userdata.get(\"HF_HUB_TOKEN\")\n",
        "\n",
        "      model = LanguageModel(sql_interp_model_location(model_num,cs_num), device_map=\"auto\")\n",
        "\n",
        "    clear_output()\n",
        "    print(model)"
      ]
    },
    {
      "cell_type": "code",
      "execution_count": null,
      "metadata": {
        "id": "76YZ8VErsHjP"
      },
      "outputs": [],
      "source": [
        "if model_num > 0:\n",
        "    clean_prompt = \"### Instruction: What do we have for size in profiles? ### Context: CREATE TABLE profiles (size INTEGER, age INTEGER, name TEXT) ### Response: SELECT\"\n",
        "    corrupted_prompt = \"### Instruction: What do we have for elephants in profiles? ### Context: CREATE TABLE profiles (size INTEGER, age INTEGER, name TEXT) ### Response: SELECT\""
      ]
    },
    {
      "cell_type": "code",
      "source": [
        "if model_num > 0:\n",
        "    correct_index = model.tokenizer(\" size\")[\"input_ids\"][0] # includes a space\n",
        "    incorrect_index = model.tokenizer(\" elephants\")[\"input_ids\"][0] # includes a space\n",
        "\n",
        "    print(f\"' size': {correct_index}\")\n",
        "    print(f\"' elephants': {incorrect_index}\")"
      ],
      "metadata": {
        "id": "pjTS7wJXeDee"
      },
      "execution_count": null,
      "outputs": []
    },
    {
      "cell_type": "code",
      "source": [
        "#torch.cuda.empty_cache()\n",
        "#print(torch.cuda.memory_summary())"
      ],
      "metadata": {
        "id": "ELnT73OdB_wH"
      },
      "execution_count": null,
      "outputs": []
    },
    {
      "cell_type": "code",
      "source": [
        "if model_num == 1: # TinyStories\n",
        "    N_LAYERS = len(model.transformer.h)\n",
        "\n",
        "    # Enter nnsight tracing context\n",
        "    with model.trace() as tracer:\n",
        "\n",
        "        # Clean run\n",
        "        with tracer.invoke(clean_prompt) as invoker:\n",
        "            clean_tokens = invoker.inputs[0]['input_ids'][0]\n",
        "\n",
        "            # No need to call .save() as we don't need the values after the run, just within the experiment run.\n",
        "            clean_hs = [\n",
        "                model.transformer.h[layer_idx].output[0]\n",
        "                for layer_idx in range(N_LAYERS)\n",
        "            ]\n",
        "\n",
        "            # Get logits from the lm_head.\n",
        "            clean_logits = model.lm_head.output\n",
        "\n",
        "            # Calculate the difference between the correct answer and incorrect answer for the clean run and save it.\n",
        "            clean_logit_diff = (\n",
        "                clean_logits[0, -1, correct_index] - clean_logits[0, -1, incorrect_index]\n",
        "            ).save()\n",
        "\n",
        "        # Corrupted run\n",
        "        with tracer.invoke(corrupted_prompt) as invoker:\n",
        "            corrupted_logits = model.lm_head.output\n",
        "\n",
        "            # Calculate the difference between the correct answer and incorrect answer for the corrupted run and save it.\n",
        "            corrupted_logit_diff = (\n",
        "                corrupted_logits[0, -1, correct_index]\n",
        "                - corrupted_logits[0, -1, incorrect_index]\n",
        "            ).save()\n",
        "\n",
        "        patching_results = []\n",
        "\n",
        "        # Iterate through all the layers\n",
        "        for layer_idx in range(len(model.transformer.h)):\n",
        "            _patching_results = []\n",
        "\n",
        "            # Iterate through all tokens\n",
        "            for token_idx in range(len(clean_tokens)):\n",
        "                # Patching corrupted run at given layer and token\n",
        "                with tracer.invoke(corrupted_prompt) as invoker:\n",
        "                    # Apply the patch from the clean hidden states to the corrupted hidden states.\n",
        "                    model.transformer.h[layer_idx].output[0][:, token_idx, :] = clean_hs[layer_idx][:, token_idx, :]\n",
        "\n",
        "                    patched_logits = model.lm_head.output\n",
        "\n",
        "                    patched_logit_diff = (\n",
        "                        patched_logits[0, -1, correct_index]\n",
        "                        - patched_logits[0, -1, incorrect_index]\n",
        "                    )\n",
        "\n",
        "                    # Calculate the improvement in the correct token after patching.\n",
        "                    patched_result = (patched_logit_diff - corrupted_logit_diff) / (\n",
        "                        clean_logit_diff - corrupted_logit_diff\n",
        "                    )\n",
        "\n",
        "                    _patching_results.append(patched_result.save())\n",
        "\n",
        "            patching_results.append(_patching_results)"
      ],
      "metadata": {
        "id": "XE8Qtsuc0Z6W"
      },
      "execution_count": null,
      "outputs": []
    },
    {
      "cell_type": "code",
      "source": [
        "if model_num == 2: # Qwen\n",
        "    N_LAYERS = len(model.model.layers)\n",
        "\n",
        "    # with model.scan(input):\n",
        "    # with model.trace(input, scan=True, validate=True) as tracer:\n",
        "    # with model.generate(\"The Eiffel Tower is in the city of\", max_new_tokens=3):  and then use model.lm_head.next()\n",
        "    # with llm.edit() as llm_edited:\n",
        "    # with model.trace(remote=True) as tracer:\n",
        "\n",
        "    # Enter nnsight tracing context\n",
        "    with model.trace() as tracer:\n",
        "\n",
        "        # Clean run\n",
        "        with tracer.invoke(clean_prompt) as invoker:\n",
        "            clean_tokens = invoker.inputs[0]['input_ids'][0]\n",
        "\n",
        "            # No need to call .save() as we don't need the values after the run, just within the experiment run.\n",
        "            clean_hs = [\n",
        "                model.model.layers[layer_idx].output[0]\n",
        "                for layer_idx in range(N_LAYERS)\n",
        "            ]\n",
        "\n",
        "            # Get logits from the lm_head.\n",
        "            clean_logits = model.lm_head.output\n",
        "\n",
        "            # Calculate the difference between the correct answer and incorrect answer for the clean run and save it.\n",
        "            clean_logit_diff = (\n",
        "                clean_logits[0, -1, correct_index] - clean_logits[0, -1, incorrect_index]\n",
        "            ).save()\n",
        "            #tracer.log(\"Random debug statement\")\n",
        "\n",
        "        # Corrupted run\n",
        "        with tracer.invoke(corrupted_prompt) as invoker:\n",
        "            corrupted_logits = model.lm_head.output\n",
        "\n",
        "            # Calculate the difference between the correct answer and incorrect answer for the corrupted run and save it.\n",
        "            corrupted_logit_diff = (\n",
        "                corrupted_logits[0, -1, correct_index]\n",
        "                - corrupted_logits[0, -1, incorrect_index]\n",
        "            ).save()\n",
        "\n",
        "        patching_results = []\n",
        "\n",
        "        # Iterate through all the layers\n",
        "        for layer_idx in range(len(model.model.layers)):\n",
        "            _patching_results = []\n",
        "\n",
        "            # Iterate through all tokens\n",
        "            for token_idx in range(len(clean_tokens)):\n",
        "                # Patching corrupted run at given layer and token\n",
        "                with tracer.invoke(corrupted_prompt) as invoker:\n",
        "                    # Apply the patch from the clean hidden states to the corrupted hidden states.\n",
        "                    model.model.layers[layer_idx].output[0][:, token_idx, :] = clean_hs[layer_idx][:, token_idx, :]\n",
        "\n",
        "                    patched_logits = model.lm_head.output\n",
        "\n",
        "                    patched_logit_diff = (\n",
        "                        patched_logits[0, -1, correct_index]\n",
        "                        - patched_logits[0, -1, incorrect_index]\n",
        "                    )\n",
        "\n",
        "                    # Calculate the improvement in the correct token after patching.\n",
        "                    patched_result = (patched_logit_diff - corrupted_logit_diff) / (\n",
        "                        clean_logit_diff - corrupted_logit_diff\n",
        "                    )\n",
        "\n",
        "                    _patching_results.append(patched_result.save())\n",
        "\n",
        "            patching_results.append(_patching_results)"
      ],
      "metadata": {
        "id": "XbJ2bK3KTWXs"
      },
      "execution_count": null,
      "outputs": []
    },
    {
      "cell_type": "code",
      "source": [
        "if model_num == 3:\n",
        "    N_LAYERS = len(model.model.layers)\n",
        "\n",
        "    # Enter nnsight tracing context\n",
        "    with model.trace() as tracer:\n",
        "\n",
        "        # Clean run\n",
        "        with tracer.invoke(clean_prompt) as invoker:\n",
        "            clean_tokens = invoker.inputs[0]['input_ids'][0]\n",
        "\n",
        "            # No need to call .save() as we don't need the values after the run, just within the experiment run.\n",
        "            clean_hs = [\n",
        "                model.model.layers[layer_idx].output[0]\n",
        "                for layer_idx in range(N_LAYERS)\n",
        "            ]\n",
        "\n",
        "            # Get logits from the lm_head.\n",
        "            clean_logits = model.lm_head.output\n",
        "\n",
        "            # Calculate the difference between the correct answer and incorrect answer for the clean run and save it.\n",
        "            clean_logit_diff = (\n",
        "                clean_logits[0, -1, correct_index] - clean_logits[0, -1, incorrect_index]\n",
        "            ).save()\n",
        "\n",
        "        # Corrupted run\n",
        "        with tracer.invoke(corrupted_prompt) as invoker:\n",
        "            corrupted_logits = model.lm_head.output\n",
        "\n",
        "            # Calculate the difference between the correct answer and incorrect answer for the corrupted run and save it.\n",
        "            corrupted_logit_diff = (\n",
        "                corrupted_logits[0, -1, correct_index]\n",
        "                - corrupted_logits[0, -1, incorrect_index]\n",
        "            ).save()\n",
        "\n",
        "        patching_results = []\n",
        "\n",
        "        # Iterate through all the layers\n",
        "        for layer_idx in range(len(model.model.layers)):\n",
        "            _patching_results = []\n",
        "\n",
        "            # Iterate through all tokens\n",
        "            for token_idx in range(len(clean_tokens)):\n",
        "                # Patching corrupted run at given layer and token\n",
        "                with tracer.invoke(corrupted_prompt) as invoker:\n",
        "                    # Apply the patch from the clean hidden states to the corrupted hidden states.\n",
        "                    model.model.layers[layer_idx].output[0][:, token_idx, :] = clean_hs[layer_idx][:, token_idx, :]\n",
        "\n",
        "                    patched_logits = model.lm_head.output\n",
        "\n",
        "                    patched_logit_diff = (\n",
        "                        patched_logits[0, -1, correct_index]\n",
        "                        - patched_logits[0, -1, incorrect_index]\n",
        "                    )\n",
        "\n",
        "                    # Calculate the improvement in the correct token after patching.\n",
        "                    patched_result = (patched_logit_diff - corrupted_logit_diff) / (\n",
        "                        clean_logit_diff - corrupted_logit_diff\n",
        "                    )\n",
        "\n",
        "                    _patching_results.append(patched_result.save())\n",
        "\n",
        "            patching_results.append(_patching_results)"
      ],
      "metadata": {
        "id": "oVeUbBTthiar"
      },
      "execution_count": null,
      "outputs": []
    },
    {
      "cell_type": "code",
      "source": [
        "if model_num > 0:\n",
        "    print(f\"Clean logit difference: {clean_logit_diff.value:.3f}\")\n",
        "    print(f\"Corrupted logit difference: {corrupted_logit_diff.value:.3f}\")\n",
        "\n",
        "    clean_decoded_tokens = [model.tokenizer.decode(token) for token in clean_tokens]\n",
        "    token_labels = [f\"{token}_{index}\" for index, token in enumerate(clean_decoded_tokens)]\n",
        "\n",
        "    fig = plot_patching_results(model, patching_results,token_labels, \"Patching Residual Stream\")\n",
        "    fig.show()"
      ],
      "metadata": {
        "id": "xQBWZqh40cZT"
      },
      "execution_count": null,
      "outputs": []
    }
  ],
  "metadata": {
    "accelerator": "GPU",
    "colab": {
      "collapsed_sections": [
        "z1tQZgLUnojc",
        "I85T--L9103g",
        "S-TNF3PVlGV0"
      ],
      "gpuType": "A100",
      "machine_shape": "hm",
      "provenance": []
    },
    "kernelspec": {
      "display_name": "Python 3",
      "name": "python3"
    },
    "language_info": {
      "name": "python"
    }
  },
  "nbformat": 4,
  "nbformat_minor": 0
}