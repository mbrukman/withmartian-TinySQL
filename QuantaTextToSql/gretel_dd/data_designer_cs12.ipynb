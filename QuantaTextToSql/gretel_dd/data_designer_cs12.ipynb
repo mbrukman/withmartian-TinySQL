{
 "cells": [
  {
   "cell_type": "markdown",
   "metadata": {},
   "source": [
    "# SQL Interp Datasets Notebook"
   ]
  },
  {
   "cell_type": "code",
   "execution_count": null,
   "metadata": {},
   "outputs": [],
   "source": [
    "%%capture\n",
    "#!pip install git+https://github.com/gretelai/gretel-python-client@dev/data-designer-m1\n",
    "!pip install git+https://github.com/gretelai/gretel-python-client\n",
    "\n",
    "session_kwargs = {\n",
    "    \"api_key\": \"prompt\",\n",
    "    \"endpoint\": \"https://api-dev.gretel.cloud\",\n",
    "    \"cache\": \"yes\",\n",
    "}"
   ]
  },
  {
   "cell_type": "code",
   "execution_count": null,
   "metadata": {},
   "outputs": [],
   "source": [
    "import os\n",
    "import pandas as pd\n",
    "from datasets import Dataset\n",
    "from gretel_client.navigator import DataDesigner"
   ]
  },
  {
   "cell_type": "markdown",
   "metadata": {},
   "source": [
    "### 📘 Text-to-Python Blueprint"
   ]
  },
  {
   "cell_type": "code",
   "execution_count": null,
   "metadata": {},
   "outputs": [],
   "source": [
    "# folder_name = \"cs13\"\n",
    "# combined_dfs = []\n",
    "# for i in range(1, 16):\n",
    "#     config_name = f\"cs13_{i}\"\n",
    "#     file_path = os.path.join(folder_name, f\"{config_name}.yaml\")\n",
    "#     with open(file_path, 'r') as file:\n",
    "#         blueprint_string = file.read()\n",
    "    \n",
    "#     designer = DataDesigner.from_config(blueprint_string, **session_kwargs)\n",
    "#     designer\n",
    "\n",
    "#     preview = designer.generate_dataset_preview()\n",
    "#     combined_dfs.append(preview.output)\n",
    "\n",
    "#     combined = pd.concat(combined_dfs, ignore_index=True)\n",
    "\n",
    "#     dataset_preview = Dataset.from_pandas(combined)\n",
    "#     dataset_preview.push_to_hub(f\"dhruvnathawani/cs12-preview\")"
   ]
  },
  {
   "cell_type": "markdown",
   "metadata": {},
   "source": [
    "### 🤔 Like what you see? Generate an entire dataset"
   ]
  },
  {
   "cell_type": "code",
   "execution_count": null,
   "metadata": {},
   "outputs": [],
   "source": [
    "# Submit a batch workflow to generate records\n",
    "#results = designer.submit_batch_workflow(num_records=100, project_name=f\"dhruv-sql-interp-{folder_name}\")\n",
    "\n",
    "folder_name = \"cs13\"\n",
    "combined_dfs = []\n",
    "for i in range(1, 16):\n",
    "    config_name = f\"cs12_{i}\"\n",
    "    file_path = os.path.join(folder_name, f\"{config_name}.yaml\")\n",
    "    with open(file_path, 'r') as file:\n",
    "        blueprint_string = file.read()\n",
    "    \n",
    "    designer = DataDesigner.from_config(blueprint_string, **session_kwargs)\n",
    "    results = designer.submit_batch_workflow(num_records=6700, project_name=f\"dhruv-sql-interp-{folder_name}\")\n",
    "    df = results.fetch_dataset(wait_for_completion=True)\n",
    "    combined_dfs.append(df)\n",
    "    combined = pd.concat(combined_dfs, ignore_index=True)\n",
    "dataset = Dataset.from_pandas(df)\n",
    "dataset.push_to_hub(f\"withmartian/{config_name}_dataset_100k\")"
   ]
  },
  {
   "cell_type": "code",
   "execution_count": null,
   "metadata": {},
   "outputs": [],
   "source": [
    "# Fetch the dataset\n",
    "#df = results.fetch_dataset(wait_for_completion=True)"
   ]
  },
  {
   "cell_type": "code",
   "execution_count": null,
   "metadata": {},
   "outputs": [],
   "source": [
    "#path = results.download_evaluation_report(wait_for_completion=True)"
   ]
  },
  {
   "cell_type": "code",
   "execution_count": null,
   "metadata": {},
   "outputs": [],
   "source": [
    "#print(df.keys())"
   ]
  },
  {
   "cell_type": "code",
   "execution_count": null,
   "metadata": {},
   "outputs": [],
   "source": [
    "#dataset = Dataset.from_pandas(df)\n",
    "#dataset.push_to_hub(f\"withmartian/{config_name}_dataset\")"
   ]
  },
  {
   "cell_type": "code",
   "execution_count": null,
   "metadata": {},
   "outputs": [],
   "source": []
  }
 ],
 "metadata": {
  "kernelspec": {
   "display_name": "env",
   "language": "python",
   "name": "python3"
  },
  "language_info": {
   "codemirror_mode": {
    "name": "ipython",
    "version": 3
   },
   "file_extension": ".py",
   "mimetype": "text/x-python",
   "name": "python",
   "nbconvert_exporter": "python",
   "pygments_lexer": "ipython3",
   "version": "3.9.17"
  }
 },
 "nbformat": 4,
 "nbformat_minor": 2
}
