{
 "cells": [
  {
   "cell_type": "markdown",
   "metadata": {},
   "source": [
    "# SQL Interp Datasets Notebook"
   ]
  },
  {
   "cell_type": "code",
   "execution_count": 19,
   "metadata": {},
   "outputs": [],
   "source": [
    "%%capture\n",
    "#!pip install git+https://github.com/gretelai/gretel-python-client@dev/data-designer-m1\n",
    "!pip install git+https://github.com/gretelai/gretel-python-client\n",
    "\n",
    "session_kwargs = {\n",
    "    \"api_key\": \"prompt\",\n",
    "    \"endpoint\": \"https://api-dev.gretel.cloud\",\n",
    "    \"cache\": \"yes\",\n",
    "}"
   ]
  },
  {
   "cell_type": "code",
   "execution_count": 20,
   "metadata": {},
   "outputs": [],
   "source": [
    "from gretel_client.navigator import DataDesigner\n",
    "from datasets import Dataset\n",
    "import yaml"
   ]
  },
  {
   "cell_type": "markdown",
   "metadata": {},
   "source": [
    "### 📘 Text-to-Python Blueprint"
   ]
  },
  {
   "cell_type": "code",
   "execution_count": 21,
   "metadata": {},
   "outputs": [
    {
     "data": {
      "text/plain": [
       "'model_suite: apache-2.0\\n\\nspecial_system_instructions: >-\\n  You are an SQL expert. Your role is to write SQL prompts, SELECT statements, and CREATE TABLE statements.\\n\\ncategorical_seed_columns:\\n  - name: table_name\\n    values:\\n      - users\\n      - user_profiles\\n      - user_preferences\\n      - user_settings\\n      - user_roles\\n      - user_permissions\\n      - user_sessions\\n      - user_logs\\n      - user_activity\\n      - user_metrics\\n      - accounts\\n      - roles\\n      - permissions\\n      - auth_tokens\\n      - login_attempts\\n      - password_reset_tokens\\n      - access_logs\\n      - security_events\\n      - posts\\n      - articles\\n      - comments\\n      - categories\\n      - tags\\n      - media\\n      - attachments\\n      - documents\\n      - pages\\n      - content_revisions\\n      - products\\n      - product_categories\\n      - product_variants\\n      - inventory\\n      - orders\\n      - order_items\\n      - order_status\\n      - shopping_cart\\n      - cart_items\\n      - wishlist\\n      - prices\\n      - discounts\\n      - promotions\\n      - coupons\\n      - customers\\n      - customer_addresses\\n      - customer_preferences\\n      - customer_support_tickets\\n      - feedback\\n      - complaints\\n      - reviews\\n      - ratings\\n      - transactions\\n      - payments\\n      - payment_methods\\n      - invoices\\n      - invoice_items\\n      - refunds\\n      - subscriptions\\n      - subscription_plans\\n      - billing_cycles\\n      - payment_history\\n      - shipping_addresses\\n      - shipping_methods\\n      - shipping_zones\\n      - shipping_rates\\n      - delivery_status\\n      - tracking_info\\n      - employees\\n      - departments\\n      - positions\\n      - salary_info\\n      - attendance\\n      - leave_requests\\n      - performance_reviews\\n      - training_records\\n      - messages\\n      - conversations\\n      - chat_rooms\\n      - notifications\\n      - email_templates\\n      - sms_logs\\n      - push_notifications\\n      - page_views\\n      - events\\n      - event_logs\\n      - metrics\\n      - analytics_data\\n      - user_behavior\\n      - conversion_funnel\\n      - ab_test_results\\n      - countries\\n      - regions\\n      - cities\\n      - addresses\\n      - locations\\n      - geo_data\\n      - zip_codes\\n      - postal_codes\\n      - settings\\n      - configurations\\n      - system_logs\\n      - error_logs\\n      - audit_trail\\n      - cache\\n      - jobs\\n      - queues\\n      - scheduled_tasks\\n      - followers\\n      - following\\n      - friend_requests\\n      - relationships\\n      - groups\\n      - group_members\\n      - social_connections\\n      - blog_posts\\n      - blog_categories\\n      - blog_tags\\n      - authors\\n      - publications\\n      - drafts\\n      - revisions\\n      - projects\\n      - tasks\\n      - milestones\\n      - assignments\\n      - time_tracking\\n      - resources\\n      - project_members\\n      - sprints\\n      - event_attendees\\n      - calendars\\n      - appointments\\n      - schedules\\n      - reminders\\n      - bookings\\n      - faq\\n      - help_articles\\n      - support_tickets\\n      - knowledge_base\\n      - tutorials\\n      - documentation\\n      - warehouses\\n      - stock_items\\n      - suppliers\\n      - purchase_orders\\n      - stock_movements\\n      - inventory_adjustments\\n      - images\\n      - videos\\n      - audio\\n      - albums\\n      - galleries\\n      - playlists\\n      - media_metadata\\n      - reports\\n      - report_templates\\n      - dashboards\\n      - statistics\\n      - analytics\\n      - insights\\n      - blacklist\\n      - whitelist\\n      - ip_blocks\\n      - security_rules\\n      - firewall_logs\\n      - vulnerability_scans\\n      - api_keys\\n      - webhooks\\n      - external_services\\n      - integrations\\n      - sync_logs\\n      - vendors\\n      - partners\\n      - affiliates\\n      - contracts\\n      - agreements\\n      - policies\\n      - test_cases\\n      - test_results\\n      - test_runs\\n      - test_suites\\n      - bug_reports\\n      - qa_metrics\\n      - devices\\n      - device_logs\\n      - device_tokens\\n      - device_settings\\n      - mobile_devices\\n      - translations\\n      - languages\\n      - locales\\n      - currency_rates\\n      - time_zones\\n      - temp_data\\n      - cache_items\\n      - session_data\\n      - migrations\\n      - backups\\n      - campaigns\\n      - marketing_emails\\n      - subscribers\\n      - mailing_lists\\n      - leads\\n      - conversions\\n      - activity_logs\\n      - change_logs\\n      - debug_logs\\n      - error_reports\\n      - performance_logs\\n      - versions\\n      - changelog\\n      - releases\\n      - patches\\n      - updates\\n      - sales\\n      - logs\\n      - invoices\\n      - shipments\\n      - likes\\n      - configuration\\n      - parameters\\n      - exceptions\\n      - debug\\n      - phases\\n      - steps\\n      - stages\\n      - materials\\n      - equipment\\n      - sku\\n      - stock\\n      - purchases\\n      - receipts\\n      - returns\\n      - tracking\\n      - delivery\\n      - logistics\\n      - carriers\\n      - stores\\n      - outlets\\n      - zipcodes\\n      - phones\\n      - emails\\n      - social_media\\n      - avatars\\n      - identities\\n      - authentication\\n      - authorization\\n      - access_control\\n      - history\\n      - changes\\n      - snapshots\\n      - archives\\n      - cookies\\n      - temp\\n      - queue\\n      - cron\\n      - schedule\\n      - sms\\n      - push_notifications\\n      - marketing\\n      - ads\\n      - banners\\n      - offers\\n      - codes\\n      - loyalty\\n      - rewards\\n      - points\\n      - achievements\\n      - badges\\n      - levels\\n      - ranks\\n      - scores\\n      - leaderboards\\n      - charts\\n      - graphs\\n      - datasets\\n      - sources\\n      - feeds\\n      - imports\\n      - exports\\n      - transformations\\n      - mappings\\n      - schemas\\n      - models\\n      - entities\\n      - attributes\\n      - relations\\n      - indexes\\n      - constraints\\n      - triggers\\n      - functions\\n      - procedures\\n      - rules\\n      - statuses\\n      - states\\n      - modes\\n      - annotations\\n      - notes\\n      - descriptions\\n      - summaries\\n      - overviews\\n      - details\\n      - folders\\n      - directories\\n      - paths\\n      - urls\\n      - links\\n      - networks\\n      - nodes\\n      - edges\\n      - maps\\n      - coordinates\\n      - geolocation\\n      - weather\\n      - climate\\n      - environment\\n      - energy\\n      - consumption\\n      - usage\\n      - cost\\n      - price\\n      - value\\n      - currency\\n      - exchange_rates\\n      - finance\\n      - accounting\\n      - budgets\\n      - expenses\\n      - revenue\\n      - income\\n      - profit\\n      - loss\\n      - balance_sheet\\n      - cash_flow\\n      - liabilities\\n      - equity\\n      - investments\\n      - portfolios\\n      - funds\\n      - stocks\\n      - bonds\\n      - commodities\\n      - options\\n      - futures\\n      - derivatives\\n      - risk\\n      - insurance\\n      - claims\\n      - coverage\\n      - premiums\\n      - benefits\\n      - healthcare\\n      - patients\\n      - doctors\\n      - appointments\\n      - prescriptions\\n      - medications\\n      - treatments\\n      - diagnosis\\n      - symptoms\\n      - conditions\\n      - diseases\\n      - allergies\\n      - tests\\n      - lab_results\\n      - medical_records\\n      - family_history\\n      - lifestyle\\n      - habits\\n      - fitness\\n      - exercise\\n      - diet\\n      - nutrition\\n      - recipes\\n      - ingredients\\n      - meals\\n      - restaurants\\n      - recommendations\\n      - matches\\n      - games\\n      - sports\\n      - coaches\\n      - leagues\\n      - tournaments\\n      - standings\\n      - tickets\\n      - venues\\n      - music\\n      - artists\\n      - albums\\n      - tracks\\n      - genres\\n      - playlists\\n      - podcasts\\n      - episodes\\n      - shows\\n      - movies\\n      - tv_shows\\n      - series\\n      - actors\\n      - directors\\n      - producers\\n      - studios\\n      - box_office\\n      - awards\\n      - nominations\\n      - elections\\n      - candidates\\n      - parties\\n      - results\\n      - suggestions\\n      - issues\\n      - guides\\n      - blog_posts\\n      - news\\n      - press_releases\\n      - announcements\\n      - webinars\\n      - conferences\\n      - speakers\\n      - attendees\\n      - sponsors\\n      - helpdesk\\n      - audit_log\\n      - system_events\\n      - oauth_tokens\\n      - connections\\n      - friends\\n      - personas\\n      - journeys\\n      - use_cases\\n      - requirements\\n      - specifications\\n      - roadmaps\\n      - backlogs\\n      - retrospectives\\n      - feature_requests\\n      - test_plans\\n      - quality_assurance\\n      - deployment\\n      - builds\\n      - pipelines\\n      - containers\\n      - virtual_machines\\n      - servers\\n      - instances\\n      - clusters\\n      - microservices\\n      - endpoints\\n      - apis\\n      - plugins\\n      - extensions\\n      - themes\\n      - widgets\\n      - shortcodes\\n      - blocks\\n      - components\\n      - libraries\\n      - frameworks\\n      - packages\\n      - dependencies\\n      - repositories\\n      - commits\\n      - branches\\n      - tags\\n      - pull_requests\\n      - code_reviews\\n      - merges\\n      - conflicts\\n      - resolutions\\n      - deployments\\n      - environments\\n      - staging\\n      - production\\n      - monitoring\\n      - logging\\n      - alerting\\n      - incident_management\\n      - service_level_agreements\\n      - uptime\\n      - latency\\n      - throughput\\n      - bandwidth\\n      - storage\\n      - capacity\\n      - utilization\\n      - scaling\\n      - load_balancing\\n      - failover\\n      - redundancy\\n      - disaster_recovery\\n      - business_continuity\\n      - security\\n      - encryption\\n      - certificates\\n      - keys\\n      - secrets\\n      - intrusion_detection\\n      - vulnerabilities\\n      - threats\\n      - patches\\n      - compliance\\n      - audits\\n      - certifications\\n      - regulations\\n      - standards\\n      - best_practices\\n      - guidelines\\n      - policies\\n      - procedures\\n      - controls\\n      - access_management\\n      - identity_management\\n      - authentication\\n      - authorization\\n      - encryption\\n      - data_protection\\n      - privacy\\n      - gdpr\\n      - ccpa\\n      - hipaa\\n      - customer_orders\\n      - product_reviews\\n      - sales_transactions\\n      - inventory_levels\\n      - supplier_contacts\\n      - employee_salaries\\n      - project_tasks\\n      - marketing_campaigns\\n      - financial_reports\\n      - user_activity_logs\\n      - website_visits\\n      - email_subscriptions\\n      - product_catalog\\n      - order_shipments\\n      - payment_transactions\\n      - support_tickets\\n      - user_feedback\\n      - system_metrics\\n      - application_settings\\n      - device_metrics\\n      - shipment_tracking\\n      - warehouse_inventory\\n      - product_returns\\n      - sales_commissions\\n      - customer_segments\\n      - vendor_payments\\n      - promotional_offers\\n      - discount_coupons\\n      - loyalty_programs\\n      - affiliate_partners\\n      - campaign_metrics\\n      - ad_performance\\n      - social_media_posts\\n      - content_management\\n      - blog_comments\\n      - forum_threads\\n      - user_notifications\\n      - event_registrations\\n      - webinar_attendees\\n      - conference_schedule\\n      - training_sessions\\n      - employee_attendance\\n      - leave_management\\n      - performance_metrics\\n      - payroll_records\\n      - recruitment_pipeline\\n      - job_applications\\n      - interview_schedules\\n      - onboarding_tasks\\n      - employee_profiles\\n      - time_tracking_logs\\n      - expense_reports\\n      - budget_allocations\\n      - financial_transactions\\n      - account_balances\\n      - investment_portfolios\\n      - loan_applications\\n      - credit_scores\\n      - billing_cycles\\n      - invoice_payments\\n      - subscription_services\\n      - recurring_payments\\n      - tax_records\\n      - audit_logs\\n      - compliance_checks\\n      - risk_assessments\\n      - security_incidents\\n      - firewall_rules\\n      - access_logs\\n      - user_permissions\\n      - role_assignments\\n      - authentication_tokens\\n      - session_records\\n      - password_resets\\n      - two_factor_auth\\n      - device_registrations\\n      - api_endpoints\\n      - webhook_events\\n      - data_exports\\n      - data_imports\\n      - data_transformations\\n      - data_mappings\\n      - schema_definitions\\n      - model_parameters\\n      - entity_relationships\\n      - database_indexes\\n      - foreign_keys\\n      - primary_keys\\n      - unique_constraints\\n      - trigger_events\\n      - stored_procedures\\n      - user_roles\\n      - user_permissions\\n      - access_controls\\n      - identity_verifications\\n      - encryption_keys\\n      - data_backups\\n      - system_snapshots\\n      - cache_settings\\n      - cookie_preferences\\n      - temporary_files\\n      - job_queues\\n      - cron_jobs\\n      - scheduled_tasks\\n      - alert_notifications\\n      - sms_messages\\n      - push_notifications\\n      - marketing_emails\\n      - ad_campaigns\\n      - banner_ads\\n      - promotional_codes\\n      - loyalty_points\\n      - reward_redeems\\n      - achievement_bonuses\\n      - badge_awards\\n      - level_progressions\\n      - rank_histories\\n      - scoreboards\\n      - leaderboard_entries\\n      - dashboard_widgets\\n      - chart_metrics\\n      - graph_data\\n      - dataset_sources\\n      - data_feeds\\n      - import_logs\\n      - export_logs\\n      - transformation_rules\\n      - mapping_tables\\n      - schema_versions\\n      - model_versions\\n      - entity_attributes\\n      - relation_mappings\\n      - index_definitions\\n      - constraint_rules\\n      - trigger_definitions\\n      - function_definitions\\n      - procedure_definitions\\n      - policy_rules\\n      - status_updates\\n      - state_changes\\n      - mode_settings\\n      - annotation_notes\\n      - note_entries\\n      - description_fields\\n      - summary_reports\\n      - overview_documents\\n      - detail_records\\n      - folder_structures\\n      - directory_paths\\n      - url_mappings\\n      - link_redirects\\n      - network_topologies\\n      - node_connections\\n      - edge_relations\\n      - map_coordinates\\n      - geolocation_data\\n      - weather_reports\\n      - climate_data\\n      - environment_stats\\n      - energy_consumption\\n      - usage_metrics\\n      - cost_analysis\\n      - pricing_models\\n      - value_assessments\\n      - currency_rates\\n      - exchange_transactions\\n      - financial_accounts\\n      - accounting_entries\\n      - budget_reports\\n      - expense_logs\\n      - revenue_streams\\n      - income_records\\n      - profit_and_loss\\n      - balance_sheets\\n      - cash_flows\\n      - liability_records\\n      - equity_holdings\\n      - investment_details\\n      - portfolio_allocations\\n      - fund_distributions\\n      - stock_holdings\\n      - bond_investments\\n      - commodity_prices\\n      - option_trades\\n      - futures_contracts\\n      - derivative_positions\\n      - risk_levels\\n      - insurance_policies\\n      - claim_records\\n      - coverage_details\\n      - premium_payments\\n      - benefit_plans\\n      - healthcare_records\\n      - patient_profiles\\n      - doctor_schedules\\n      - appointment_logs\\n      - prescription_orders\\n      - medication_inventory\\n      - treatment_plans\\n      - diagnosis_records\\n      - symptom_reports\\n      - condition_statuses\\n      - disease_cases\\n      - allergy_info\\n      - test_results\\n      - lab_reports\\n      - medical_history\\n      - family_health\\n      - lifestyle_choices\\n      - habit_records\\n      - fitness_goals\\n      - exercise_logs\\n      - diet_plans\\n      - nutrition_info\\n      - recipe_ingredients\\n      - meal_plans\\n      - restaurant_menus\\n      - recommendation_systems\\n      - match_results\\n      - game_scores\\n      - sports_teams\\n      - coach_profiles\\n      - league_standings\\n      - tournament_brackets\\n      - game_tickets\\n      - venue_details\\n      - music_albums\\n      - artist_profiles\\n      - track_lists\\n      - genre_classifications\\n      - playlist_contents\\n      - podcast_episodes\\n      - show_schedules\\n      - movie_catalogs\\n      - tv_show_schedules\\n      - series_episodes\\n      - actor_roles\\n      - director_projects\\n      - producer_contracts\\n      - studio_equipment\\n      - box_office_stats\\n      - award_nominations\\n      - election_results\\n      - candidate_profiles\\n      - party_affiliations\\n      - voting_records\\n      - suggestion_feedback\\n      - issue_reports\\n      - guide_documents\\n      - blog_post_contents\\n      - news_articles\\n      - press_release_details\\n      - announcement_records\\n      - webinar_schedules\\n      - conference_details\\n      - speaker_profiles\\n      - attendee_lists\\n      - sponsor_details\\n      - helpdesk_tickets\\n      - audit_trail_logs\\n      - system_event_records\\n      - oauth_token_records\\n      - connection_logs\\n      - friend_lists\\n      - persona_profiles\\n      - journey_maps\\n      - use_case_definitions\\n      - requirement_specs\\n      - specification_documents\\n      - roadmap_plans\\n      - backlog_items\\n      - retrospective_notes\\n      - feature_request_logs\\n      - test_plan_documents\\n      - quality_assurance_reports\\n      - deployment_logs\\n      - build_versions\\n      - pipeline_runs\\n      - container_images\\n      - vm_instances\\n      - server_metrics\\n      - cluster_configs\\n      - microservice_deployments\\n      - api_documentations\\n      - plugin_details\\n      - extension_configs\\n      - theme_settings\\n      - widget_parameters\\n      - shortcode_definitions\\n      - block_contents\\n      - component_specs\\n      - library_dependencies\\n      - framework_versions\\n      - package_versions\\n      - repository_commits\\n      - branch_structures\\n      - tag_releases\\n      - pull_request_logs\\n      - code_review_comments\\n      - merge_conflicts\\n      - resolution_steps\\n      - deployment_environments\\n      - staging_configs\\n      - production_logs\\n      - monitoring_metrics\\n      - logging_records\\n      - alert_settings\\n      - incident_reports\\n      - sla_compliance\\n      - uptime_records\\n      - latency_metrics\\n      - throughput_logs\\n      - bandwidth_usage\\n      - storage_allocations\\n      - capacity_planning\\n      - utilization_stats\\n      - scaling_events\\n      - load_balancer_configs\\n      - failover_logs\\n      - redundancy_records\\n      - disaster_recovery_plans\\n      - business_continuity_docs\\n      - security_policies\\n      - encryption_methods\\n      - certificate_issuances\\n      - key_management\\n      - secret_stores\\n      - intrusion_detection_logs\\n      - vulnerability_assessments\\n      - threat_intelligence\\n      - patch_management\\n      - compliance_audits\\n      - customers\\n      - orders\\n      - products\\n      - inventory\\n      - reviews\\n      - accounts\\n      - transactions\\n      - budgets\\n      - invoices\\n      - expenses\\n      - patients\\n      - doctors\\n      - appointments\\n      - prescriptions\\n      - diagnoses\\n      - students\\n      - courses\\n      - teachers\\n      - enrollments\\n      - grades\\n      - movies\\n      - actors\\n      - directors\\n      - genres\\n      - devices\\n      - software\\n      - servers\\n      - apis\\n      - security_patches\\n      - teams\\n      - players\\n      - matches\\n      - leagues\\n      - scores\\n      - cases\\n      - attorneys\\n      - clients\\n      - courts\\n      - documents\\n      - employees\\n      - departments\\n      - payroll\\n      - attendance\\n      - leaves\\n      - production_orders\\n      - machines\\n      - maintenance_logs\\n      - suppliers\\n      - quality_checks\\n      - properties\\n      - agents\\n      - transactions\\n      - leases\\n      - inspections\\n      - hotels\\n      - rooms\\n      - bookings\\n      - guests\\n      - amenities\\n      - fleet\\n      - trips\\n      - drivers\\n      - vehicles\\n      - routes\\n      - crops\\n      - fields\\n      - irrigation\\n      - harvests\\n      - livestock\\n      - consumption\\n      - production\\n      - tariffs\\n      - invoices\\n      - stores\\n      - sales\\n      - promotions\\n      - support_tickets\\n      - assets\\n      - incidents\\n      - services\\n      - drivers\\n      - shipments\\n      - carriers\\n      - tracking\\n      - accounts\\n      - loans\\n      - credit_cards\\n      - articles\\n      - authors\\n      - comments\\n      - views\\n      - projects\\n      - tasks\\n      - workers\\n      - equipment\\n      - materials\\n      - suppliers\\n      - orders\\n      - participants\\n      - datasets\\n      - tickets\\n      - agents\\n      - interactions\\n      - resolutions\\n      - feedback\\n      - catalogs\\n      - variants\\n      - prices\\n      - images\\n      - assets\\n      - locations\\n      - assignments\\n      - maintenance\\n      - depreciation\\n      - vendors\\n      - contracts\\n      - payments\\n      - events\\n      - attendees\\n      - sponsors\\n      - sessions\\n      - tickets\\n      - items\\n      - warehouses\\n      - stock_levels\\n      - reorders\\n      - orders\\n      - order_items\\n      - shipments\\n      - payments\\n      - invoices\\n      - ecommerce_customers\\n      - ecommerce_orders\\n      - ecommerce_products\\n      - ecommerce_categories\\n      - ecommerce_inventory\\n      - ecommerce_suppliers\\n      - ecommerce_reviews\\n      - ecommerce_discounts\\n      - ecommerce_promotions\\n      - ecommerce_shipping_methods\\n      - ecommerce_payment_methods\\n      - ecommerce_coupons\\n      - ecommerce_wishlists\\n      - ecommerce_cart_items\\n      - ecommerce_fulfillment_centers\\n      - finance_accounts\\n      - finance_transactions\\n      - finance_budgets\\n      - finance_invoices\\n      - finance_expenses\\n      - finance_revenue\\n      - finance_assets\\n      - finance_liabilities\\n      - finance_equity\\n      - finance_investments\\n      - finance_loans\\n      - finance_credit_scores\\n      - finance_tax_records\\n      - finance_audits\\n      - finance_compliance\\n      - product_catalogs\\n      - product_variants\\n      - product_reviews\\n      - product_prices\\n      - product_images\\n      - product_tags\\n      - product_categories\\n      - product_inventory\\n      - product_suppliers\\n      - product_shipments\\n\\n  - name: instruction_phrase\\n    values:\\n      - \"Construct an SQL query to\"\\n      - \"Retrieve the\"\\n      - \"List the\"\\n      - \"Show me the\"\\n      - \"Fetch the\"\\n      - \"Display the\"\\n      - \"Extract the\"\\n      - \"Find the\"\\n      - \"Provide the\"\\n      - \"Get the\"\\n      - \"Select the\"\\n      - \"Return the results of\"\\n      - \"Produce a query that will\"\\n      - \"Outline a SQL statement that\"\\n      - \"Prepare an SQL command to\"\\n      - \"Generate a selection from\"\\n      - \"Identify the entries that\"\\n      - \"Give me a SQL command to\"\\n      - \"Draft a SQL query for\"\\n      - \"Create a SQL SELECT statement that will\"\\n      - \"Formulate a query to\"\\n      - \"Determine the rows to\"\\n      - \"Summon the records to\"\\n      - \"Pull the relevant data to\"\\n      - \"Uncover the specified columns to\"\\n      - \"Initiate a SQL query to\"\\n      - \"Generate a SQL statement that\"\\n      - \"Create a SQL query to\"\\n      - \"Formulate an SQL statement to\"\\n      - \"Design a SQL query that\"\\n      - \"Develop a SQL statement to\"\\n      - \"Craft an SQL query to\"\\n      - \"Compose a SQL statement that\"\\n      - \"Build a SQL query to\"\\n      - \"Assemble a SQL statement that\"\\n      - \"Frame a SQL query to\"\\n      - \"Devise a SQL statement that\"\\n      - \"Construct a SQL statement to\"\\n      - \"Outline a SQL query that\"\\n      - \"Prepare a SQL statement to\"\\n      - \"Design a SQL query that\"\\n      - \"Develop a SQL query to\"\\n      - \"Formulate a SQL statement that\"\\n      - \"Create a SQL statement that\"\\n      - \"Generate a SQL query that\"\\n      - \"Craft a SQL query that\"\\n      - \"Compose a SQL query to\"\\n      - \"Build a SQL statement that\"\\n      - \"Assemble a SQL query that\"\\n      - \"Frame a SQL statement to\"\\n      - \"Devise a SQL query that\"\\n      - \"Initiate a SQL statement that\"\\n      - \"Generate a SQL query to\"\\n      - \"Create a SQL query that will\"\\n      - \"Formulate a SQL query that will\"\\n      - \"Design a SQL query that will\"\\n      - \"Can you provide a SQL query to\"\\n      - \"What SQL command would you use to\"\\n      - \"How would you write a SQL query to\"\\n      - \"Could you draft a SQL statement that\"\\n      - \"Please formulate a SQL command to\"\\n      - \"Would you generate a SQL statement that\"\\n      - \"I need a SQL query that\"\\n      - \"Please construct a SQL statement to\"\\n      - \"Could you design a SQL query that\"\\n      - \"How can I create a SQL command to\"\\n      - \"What is the SQL query to\"\\n      - \"Can you draft a SQL statement that will\"\\n    num_new_values_to_generate: 25\\n\\ngenerated_data_columns:\\n  - name: column_name\\n    generation_prompt: >-\\n      Generate a realistic SQL column name for the table \\'{table_name}\\'.\\n      Ensure the chosen column name can be used as is in the SQL query, and that it differs clearly from \\'{table_name}\\'.\\n      \\n      Important Guidelines:\\n        * The column name must be in snake_case.\\n        * It should be relevant to the type of entities in \\'{table_name}\\'.\\n        * Avoid overly similar or derived forms of the table name. Choose a distinct attribute.\\n        * Use a common, domain-specific attribute unrelated directly to the table_name. For instance:\\n          - For \"users\": \"email\", \"created_at\", \"last_login\", \"status\", \"age\"\\n          - For \"orders\": \"order_date\", \"total_amount\", \"customer_id\", \"status\"\\n          - For \"employees\": \"salary\", \"age\", \"department_id\", \"hire_date\", \"job_title\"\\n        * Do not include any additional text or formatting.\\n\\n    columns_to_list_in_prompt: [table_name]\\n\\n  - name: column_data_type\\n    generation_prompt: >-\\n      Suggest an appropriate SQL numeric data type (e.g., INT, FLOAT, DECIMAL, VARCHAR(255)) for the column \\'{column_name}\\' in the table \\'{table_name}\\'. \\n      Do not include any additional text or formatting.\\n\\n    columns_to_list_in_prompt: [column_name, table_name]\\n\\n  - name: sql_prompt\\n    generation_prompt: >-\\n      Generate a clear and specific natural language instruction for a SQL query to select exactly 1 \\'{column_name}\\' from the \\'{table_name}\\'.\\n      Do not add any additional complexity to the prompt other than SELECT \\'{column_name}\\' from \\'{table_name}\\' format.\\n      The instruction should begin with the phrase \\'{instruction_phrase}\\'.\\n      \\n      Important Guidelines:\\n        * Use \\'{table_name}\\' and \\'{column_name}\\' exactly as provided (snake_case).\\n        * Do not introduce any naming variations or alternate forms. For example, if the table_name is \"employees\" and the column_name is \"salary\", the instruction should be exactly \"Show me the salary from employees\" if \\'{instruction_phrase}\\' is \"Show me the\".\\n        * The natural language instruction and the final SQL query should match semantically and refer to the same table and column as-is.\\n        * Do not include any additional text or formatting beyond the instruction itself.\\n\\n    columns_to_list_in_prompt: [instruction_phrase, column_name, table_name]\\n\\n  - name: sql_context\\n    generation_prompt: >-\\n      Generate the SQL CREATE TABLE statement for a table named \\'{table_name}\\' that includes exactly one column \\'{column_name}\\' \\n      with data type \\'{column_data_type}\\'. The statement should be executable, syntactically correct, and should not include \\n      any additional text or formatting.\\n      \\n      Important Guidelines:\\n        * The table and column names must remain exactly as given (snake_case).\\n        * Only one column in the table.\\n        * Ensure the SQL is syntactically correct and executable.\\n        * No extra text, comments, or formatting beyond the valid SQL statement.\\n\\n    columns_to_list_in_prompt: [table_name, column_name, column_data_type]\\n    llm_type: code\\n\\n  - name: sql\\n    generation_prompt: >-\\n      Write the SQL query that selects \\'{column_name}\\' from \\'{table_name}\\' as per the instruction \\'{sql_prompt}\\'.\\n\\n      Important Guidelines:\\n        * The actual SQL query must use the snake_case names \\'{table_name}\\' and \\'{column_name}\\' exactly as provided.\\n        * The query should select exactly one column and match the intent of the instruction.\\n        * No additional text or formatting outside of the query itself.\\n        * Ensure the final SQL is a correct translation of the instruction and uses the exact table and column names.\\n\\n    columns_to_list_in_prompt: [sql_prompt, column_name, table_name]\\n    llm_type: code\\n\\npost_processors:\\n  - validator: code\\n    settings:\\n      code_lang: ansi\\n      code_columns: [sql_context, sql]\\n  - evaluator: text_to_sql\\n    settings:\\n      text_column: sql_prompt\\n      code_column: sql\\n      context_column: sql_context\\n'"
      ]
     },
     "execution_count": 21,
     "metadata": {},
     "output_type": "execute_result"
    }
   ],
   "source": [
    "config_name = \"cs11\"\n",
    "with open(f'{config_name}.yaml', 'r') as file:\n",
    "    blueprint_string = file.read()\n",
    "\n",
    "blueprint_string"
   ]
  },
  {
   "cell_type": "code",
   "execution_count": 22,
   "metadata": {},
   "outputs": [
    {
     "name": "stdout",
     "output_type": "stream",
     "text": [
      "[05:53:08] [INFO] 🦜 Using apache-2.0 model suite\n",
      "Found cached Gretel credentials\n",
      "Using endpoint https://api-dev.gretel.cloud\n",
      "Logged in as dhruv@gretel.ai ✅\n"
     ]
    },
    {
     "data": {
      "text/plain": [
       "DataDesigner(\n",
       "    categorical_seed_columns: ['table_name', 'instruction_phrase']\n",
       "    generated_data_columns: ['column_name', 'column_data_type', 'sql_prompt', 'sql_context', 'sql']\n",
       "    validator: code:ansi\n",
       "    evaluator: text_to_sql\n",
       ")"
      ]
     },
     "execution_count": 22,
     "metadata": {},
     "output_type": "execute_result"
    }
   ],
   "source": [
    "# Defines a new DataDesigner instance\n",
    "designer = DataDesigner.from_config(blueprint_string, **session_kwargs)\n",
    "designer"
   ]
  },
  {
   "cell_type": "markdown",
   "metadata": {},
   "source": [
    "### 👀 Generating a dataset preview"
   ]
  },
  {
   "cell_type": "code",
   "execution_count": 23,
   "metadata": {},
   "outputs": [
    {
     "name": "stdout",
     "output_type": "stream",
     "text": [
      "[05:53:09] [INFO] 🚀 Generating dataset preview\n",
      "[05:53:11] [INFO] 🦜 Step 1: Generate seed category values\n",
      "[05:53:32] [INFO] 🎲 Step 2: Sample data seeds\n",
      "[05:53:32] [INFO] 🦜 Step 3: Generate column from template >> generating column name\n",
      "[05:53:34] [INFO] 🦜 Step 4: Generate column from template >> generating column data type\n",
      "[05:53:37] [INFO] 🦜 Step 5: Generate column from template >> generating sql prompt\n",
      "[05:53:42] [INFO] 🦜 Step 6: Generate column from template >> generating sql context\n",
      "[05:53:45] [INFO] 🦜 Step 7: Generate column from template >> generating sql\n",
      "[05:53:46] [INFO] 🔍 Step 8: Validate code\n",
      "[05:53:49] [INFO] ⚖️ Step 9: Judge with llm\n",
      "[05:53:59] [INFO] 🧐 Step 10: Evaluate dataset\n",
      "[05:54:00] [INFO] 👀 Your dataset preview is ready for a peek!\n"
     ]
    },
    {
     "data": {
      "text/html": [
       "<pre style=\"white-space:pre;overflow-x:auto;line-height:normal;font-family:Menlo,'DejaVu Sans Mono',consolas,'Courier New',monospace\"><span style=\"font-weight: bold\">----------------------------------------------------------------------------------------------------</span>\n",
       "<span style=\"font-weight: bold\">                                📊 Preview Evaluation Summary 📊</span>\n",
       "<span style=\"font-weight: bold\">----------------------------------------------------------------------------------------------------</span>\n",
       "                                                                                                                   \n",
       "                                                           <span style=\"font-weight: bold\">              LLM-as-a-Judge              </span>              \n",
       "<span style=\"font-weight: bold\">                Quality &amp; Diversity                 </span>       ┏━━━━━━━━━━━━━┳━━━━━━━━━━━━━━━━━━━━━━━━━━┓              \n",
       "┏━━━━━━━━━━━━━━━━━━━━━┳━━━━━━━━━━━━━━━━━━━━━━━━━━━━┓       ┃<span style=\"font-weight: bold\">      Rubric </span>┃<span style=\"font-weight: bold\"> Mean Score (0 - 5)       </span>┃              \n",
       "┃<span style=\"font-weight: bold\">              Values </span>┃<span style=\"font-weight: bold\"> Percent of Records         </span>┃       ┡━━━━━━━━━━━━━╇━━━━━━━━━━━━━━━━━━━━━━━━━━┩              \n",
       "┡━━━━━━━━━━━━━━━━━━━━━╇━━━━━━━━━━━━━━━━━━━━━━━━━━━━┩       │<span style=\"color: #af87ff; text-decoration-color: #af87ff\">   Relevance </span>│<span style=\"color: #87d787; text-decoration-color: #87d787\"> ████████████████████ 4.0 </span>│              \n",
       "│<span style=\"color: #af87ff; text-decoration-color: #af87ff\">          Valid Code </span>│<span style=\"color: #87d787; text-decoration-color: #87d787\"> ████████████████████ 100.0 </span>│       │<span style=\"color: #af87ff; text-decoration-color: #af87ff\"> Readability </span>│<span style=\"color: #87d787; text-decoration-color: #87d787\"> ███████████████ 3.1      </span>│              \n",
       "│<span style=\"color: #af87ff; text-decoration-color: #af87ff\">   Completely Unique </span>│<span style=\"color: #87d787; text-decoration-color: #87d787\"> ████████████████████ 100.0 </span>│       │<span style=\"color: #af87ff; text-decoration-color: #af87ff\"> Scalability </span>│<span style=\"color: #87d787; text-decoration-color: #87d787\"> ████████████████ 3.3     </span>│              \n",
       "│<span style=\"color: #af87ff; text-decoration-color: #af87ff\"> Semantically Unique </span>│<span style=\"color: #87d787; text-decoration-color: #87d787\"> ████████████████████ 100.0 </span>│       │<span style=\"color: #af87ff; text-decoration-color: #af87ff\">   Standards </span>│<span style=\"color: #87d787; text-decoration-color: #87d787\"> ████████████████████ 4.0 </span>│              \n",
       "└─────────────────────┴────────────────────────────┘       └─────────────┴──────────────────────────┘              \n",
       "                                                                                                                   \n",
       "                                                                                                                   \n",
       "<span style=\"font-weight: bold\">                                             Text Stats                                             </span>               \n",
       "┏━━━━━━━━━━━━━━━━━━━━━━━━━━━━━━━━━━━━━━┳━━━━━━━━━━━━━━━━━━━━━━━━━━━━━━━━━━━━━━━┳━━━━━━━━━━━━━━━━━━━┓               \n",
       "┃<span style=\"font-weight: bold\">             average_words_per_record </span>┃<span style=\"font-weight: bold\">             average_tokens_per_record </span>┃<span style=\"font-weight: bold\">      total_tokens </span>┃               \n",
       "┡━━━━━━━━━━━━━━━━━━━━━━━━━━━━━━━━━━━━━━╇━━━━━━━━━━━━━━━━━━━━━━━━━━━━━━━━━━━━━━━╇━━━━━━━━━━━━━━━━━━━┩               \n",
       "│                                  3.1 │                                  61.9 │               619 │               \n",
       "└──────────────────────────────────────┴───────────────────────────────────────┴───────────────────┘               \n",
       "                                                                                                                   \n",
       "<span style=\"font-weight: bold\">----------------------------------------------------------------------------------------------------</span>\n",
       "</pre>\n"
      ],
      "text/plain": [
       "\u001b[1m----------------------------------------------------------------------------------------------------\u001b[0m\n",
       "\u001b[1m                                📊 Preview Evaluation Summary 📊\u001b[0m\n",
       "\u001b[1m----------------------------------------------------------------------------------------------------\u001b[0m\n",
       "                                                                                                                   \n",
       "                                                           \u001b[1m              LLM-as-a-Judge              \u001b[0m              \n",
       "\u001b[1m                Quality & Diversity                 \u001b[0m       ┏━━━━━━━━━━━━━┳━━━━━━━━━━━━━━━━━━━━━━━━━━┓              \n",
       "┏━━━━━━━━━━━━━━━━━━━━━┳━━━━━━━━━━━━━━━━━━━━━━━━━━━━┓       ┃\u001b[1m \u001b[0m\u001b[1m     Rubric\u001b[0m\u001b[1m \u001b[0m┃\u001b[1m \u001b[0m\u001b[1mMean Score (0 - 5)      \u001b[0m\u001b[1m \u001b[0m┃              \n",
       "┃\u001b[1m \u001b[0m\u001b[1m             Values\u001b[0m\u001b[1m \u001b[0m┃\u001b[1m \u001b[0m\u001b[1mPercent of Records        \u001b[0m\u001b[1m \u001b[0m┃       ┡━━━━━━━━━━━━━╇━━━━━━━━━━━━━━━━━━━━━━━━━━┩              \n",
       "┡━━━━━━━━━━━━━━━━━━━━━╇━━━━━━━━━━━━━━━━━━━━━━━━━━━━┩       │\u001b[38;5;141m \u001b[0m\u001b[38;5;141m  Relevance\u001b[0m\u001b[38;5;141m \u001b[0m│\u001b[38;5;114m \u001b[0m\u001b[38;5;114m████████████████████ 4.0\u001b[0m\u001b[38;5;114m \u001b[0m│              \n",
       "│\u001b[38;5;141m \u001b[0m\u001b[38;5;141m         Valid Code\u001b[0m\u001b[38;5;141m \u001b[0m│\u001b[38;5;114m \u001b[0m\u001b[38;5;114m████████████████████ 100.0\u001b[0m\u001b[38;5;114m \u001b[0m│       │\u001b[38;5;141m \u001b[0m\u001b[38;5;141mReadability\u001b[0m\u001b[38;5;141m \u001b[0m│\u001b[38;5;114m \u001b[0m\u001b[38;5;114m███████████████ 3.1     \u001b[0m\u001b[38;5;114m \u001b[0m│              \n",
       "│\u001b[38;5;141m \u001b[0m\u001b[38;5;141m  Completely Unique\u001b[0m\u001b[38;5;141m \u001b[0m│\u001b[38;5;114m \u001b[0m\u001b[38;5;114m████████████████████ 100.0\u001b[0m\u001b[38;5;114m \u001b[0m│       │\u001b[38;5;141m \u001b[0m\u001b[38;5;141mScalability\u001b[0m\u001b[38;5;141m \u001b[0m│\u001b[38;5;114m \u001b[0m\u001b[38;5;114m████████████████ 3.3    \u001b[0m\u001b[38;5;114m \u001b[0m│              \n",
       "│\u001b[38;5;141m \u001b[0m\u001b[38;5;141mSemantically Unique\u001b[0m\u001b[38;5;141m \u001b[0m│\u001b[38;5;114m \u001b[0m\u001b[38;5;114m████████████████████ 100.0\u001b[0m\u001b[38;5;114m \u001b[0m│       │\u001b[38;5;141m \u001b[0m\u001b[38;5;141m  Standards\u001b[0m\u001b[38;5;141m \u001b[0m│\u001b[38;5;114m \u001b[0m\u001b[38;5;114m████████████████████ 4.0\u001b[0m\u001b[38;5;114m \u001b[0m│              \n",
       "└─────────────────────┴────────────────────────────┘       └─────────────┴──────────────────────────┘              \n",
       "                                                                                                                   \n",
       "                                                                                                                   \n",
       "\u001b[1m                                             Text Stats                                             \u001b[0m               \n",
       "┏━━━━━━━━━━━━━━━━━━━━━━━━━━━━━━━━━━━━━━┳━━━━━━━━━━━━━━━━━━━━━━━━━━━━━━━━━━━━━━━┳━━━━━━━━━━━━━━━━━━━┓               \n",
       "┃\u001b[1m \u001b[0m\u001b[1m            average_words_per_record\u001b[0m\u001b[1m \u001b[0m┃\u001b[1m \u001b[0m\u001b[1m            average_tokens_per_record\u001b[0m\u001b[1m \u001b[0m┃\u001b[1m \u001b[0m\u001b[1m     total_tokens\u001b[0m\u001b[1m \u001b[0m┃               \n",
       "┡━━━━━━━━━━━━━━━━━━━━━━━━━━━━━━━━━━━━━━╇━━━━━━━━━━━━━━━━━━━━━━━━━━━━━━━━━━━━━━━╇━━━━━━━━━━━━━━━━━━━┩               \n",
       "│                                  3.1 │                                  61.9 │               619 │               \n",
       "└──────────────────────────────────────┴───────────────────────────────────────┴───────────────────┘               \n",
       "                                                                                                                   \n",
       "\u001b[1m----------------------------------------------------------------------------------------------------\u001b[0m\n"
      ]
     },
     "metadata": {},
     "output_type": "display_data"
    }
   ],
   "source": [
    "preview = designer.generate_dataset_preview()"
   ]
  },
  {
   "cell_type": "code",
   "execution_count": 24,
   "metadata": {},
   "outputs": [
    {
     "data": {
      "text/html": [
       "<pre style=\"white-space:pre;overflow-x:auto;line-height:normal;font-family:Menlo,'DejaVu Sans Mono',consolas,'Courier New',monospace\">                                                                                                                   \n",
       "<span style=\"font-style: italic\">                                             Categorical Seed Columns                                              </span>\n",
       "┏━━━━━━━━━━━━━━━━━━━━━━━━━━━━━━━━━━━━━━━━━━━━━━━━━━━━━━━━━━━━━━━━━━━━┳━━━━━━━━━━━━━━━━━━━━━━━━━━━━━━━━━━━━━━━━━━━━┓\n",
       "┃<span style=\"font-weight: bold\"> Name                                                               </span>┃<span style=\"font-weight: bold\"> Value                                      </span>┃\n",
       "┡━━━━━━━━━━━━━━━━━━━━━━━━━━━━━━━━━━━━━━━━━━━━━━━━━━━━━━━━━━━━━━━━━━━━╇━━━━━━━━━━━━━━━━━━━━━━━━━━━━━━━━━━━━━━━━━━━━┩\n",
       "│ table_name                                                         │ authors                                    │\n",
       "├────────────────────────────────────────────────────────────────────┼────────────────────────────────────────────┤\n",
       "│ instruction_phrase                                                 │ Display the                                │\n",
       "└────────────────────────────────────────────────────────────────────┴────────────────────────────────────────────┘\n",
       "                                                                                                                   \n",
       "                                                                                                                   \n",
       "<span style=\"font-style: italic\">                                              Generated Data Columns                                               </span>\n",
       "┏━━━━━━━━━━━━━━━━━━━━━━━━━━━━━━━━━━━━┳━━━━━━━━━━━━━━━━━━━━━━━━━━━━━━━━━━━━━━━━━━━━━━━━━━━━━━━━━━━━━━━━━━━━━━━━━━━━┓\n",
       "┃<span style=\"font-weight: bold\"> Name                               </span>┃<span style=\"font-weight: bold\"> Value                                                                      </span>┃\n",
       "┡━━━━━━━━━━━━━━━━━━━━━━━━━━━━━━━━━━━━╇━━━━━━━━━━━━━━━━━━━━━━━━━━━━━━━━━━━━━━━━━━━━━━━━━━━━━━━━━━━━━━━━━━━━━━━━━━━━┩\n",
       "│ column_name                        │ author_name                                                                │\n",
       "├────────────────────────────────────┼────────────────────────────────────────────────────────────────────────────┤\n",
       "│ column_data_type                   │ VARCHAR(255)                                                               │\n",
       "├────────────────────────────────────┼────────────────────────────────────────────────────────────────────────────┤\n",
       "│ sql_prompt                         │ Display the author_name from authors                                       │\n",
       "└────────────────────────────────────┴────────────────────────────────────────────────────────────────────────────┘\n",
       "                                                                                                                   \n",
       "                                                                                                                   \n",
       "╭────────────────────────────────────────────────── sql_context ──────────────────────────────────────────────────╮\n",
       "│ <span style=\"color: #ff79c6; text-decoration-color: #ff79c6; background-color: #282a36\">CREATE</span><span style=\"color: #f8f8f2; text-decoration-color: #f8f8f2; background-color: #282a36\"> </span><span style=\"color: #ff79c6; text-decoration-color: #ff79c6; background-color: #282a36\">TABLE</span><span style=\"color: #f8f8f2; text-decoration-color: #f8f8f2; background-color: #282a36\"> authors (</span><span style=\"background-color: #282a36\">                                                                                         </span> │\n",
       "│ <span style=\"color: #f8f8f2; text-decoration-color: #f8f8f2; background-color: #282a36\">    author_name </span><span style=\"color: #8be9fd; text-decoration-color: #8be9fd; background-color: #282a36; font-style: italic\">VARCHAR</span><span style=\"color: #f8f8f2; text-decoration-color: #f8f8f2; background-color: #282a36\">(</span><span style=\"color: #ffb86c; text-decoration-color: #ffb86c; background-color: #282a36\">255</span><span style=\"color: #f8f8f2; text-decoration-color: #f8f8f2; background-color: #282a36\">)</span><span style=\"background-color: #282a36\">                                                                                   </span> │\n",
       "│ <span style=\"color: #f8f8f2; text-decoration-color: #f8f8f2; background-color: #282a36\">);</span><span style=\"background-color: #282a36\">                                                                                                             </span> │\n",
       "╰─────────────────────────────────────────────────────────────────────────────────────────────────────────────────╯\n",
       "                                                                                                                   \n",
       "                                                                                                                   \n",
       "╭────────────────────────────────────────────────────── sql ──────────────────────────────────────────────────────╮\n",
       "│ <span style=\"color: #ff79c6; text-decoration-color: #ff79c6; background-color: #282a36\">SELECT</span><span style=\"color: #f8f8f2; text-decoration-color: #f8f8f2; background-color: #282a36\"> author_name </span><span style=\"color: #ff79c6; text-decoration-color: #ff79c6; background-color: #282a36\">FROM</span><span style=\"color: #f8f8f2; text-decoration-color: #f8f8f2; background-color: #282a36\"> authors;</span><span style=\"background-color: #282a36\">                                                                               </span> │\n",
       "╰─────────────────────────────────────────────────────────────────────────────────────────────────────────────────╯\n",
       "                                                                                                                   \n",
       "                                                                                                                   \n",
       "<span style=\"font-style: italic\">                                                    Validation                                                     </span>\n",
       "┏━━━━━━━━━━━━━━━━━━━━━━━━━━━┳━━━━━━━━━━━━━━━━━━━━━━━━━━━━━━━━━━━━━━┳━━━━━━━━━━━━━━━━━┳━━━━━━━━━━━━━━━━━━━━━━━━━━━━┓\n",
       "┃<span style=\"font-weight: bold\"> sql_context_is_valid      </span>┃<span style=\"font-weight: bold\"> sql_context_validator_messages       </span>┃<span style=\"font-weight: bold\"> sql_is_valid    </span>┃<span style=\"font-weight: bold\"> sql_validator_messages     </span>┃\n",
       "┡━━━━━━━━━━━━━━━━━━━━━━━━━━━╇━━━━━━━━━━━━━━━━━━━━━━━━━━━━━━━━━━━━━━╇━━━━━━━━━━━━━━━━━╇━━━━━━━━━━━━━━━━━━━━━━━━━━━━┩\n",
       "│ True                      │ []                                   │ True            │ []                         │\n",
       "└───────────────────────────┴──────────────────────────────────────┴─────────────────┴────────────────────────────┘\n",
       "                                                                                                                   \n",
       "                                                                                                                   \n",
       "<span style=\"font-style: italic\">                                                  LLM-as-a-Judge                                                   </span>\n",
       "┏━━━━━━━━━━━━━━━━━━━━━━━━━━━━┳━━━━━━━━━━━━━━━━━━━━━━━━━━━┳━━━━━━━━━━━━━━━━━━━━━━━━━━━━┳━━━━━━━━━━━━━━━━━━━━━━━━━━━┓\n",
       "┃<span style=\"font-weight: bold\"> relevance                  </span>┃<span style=\"font-weight: bold\"> readability               </span>┃<span style=\"font-weight: bold\"> scalability                </span>┃<span style=\"font-weight: bold\"> standards                 </span>┃\n",
       "┡━━━━━━━━━━━━━━━━━━━━━━━━━━━━╇━━━━━━━━━━━━━━━━━━━━━━━━━━━╇━━━━━━━━━━━━━━━━━━━━━━━━━━━━╇━━━━━━━━━━━━━━━━━━━━━━━━━━━┩\n",
       "│ score: 4                   │ score: 3                  │ score: 3                   │ score: 4                  │\n",
       "│ reasoning: The SQL query   │ reasoning: The query is   │ reasoning: The query is    │ reasoning: The query      │\n",
       "│ perfectly meets the        │ well-formatted and easy   │ simple and should scale    │ adheres to SQL standards  │\n",
       "│ instructions and context,  │ to understand, but it     │ well, but it's not         │ and follows best          │\n",
       "│ retrieving the author_name │ could benefit from a      │ explicitly optimized for   │ practices for simplicity  │\n",
       "│ from the authors table.    │ comment explaining its    │ large datasets.            │ and readability.          │\n",
       "│                            │ purpose.                  │                            │                           │\n",
       "└────────────────────────────┴───────────────────────────┴────────────────────────────┴───────────────────────────┘\n",
       "                                                                                                                   \n",
       "                                                    [index: 4]                                                     \n",
       "</pre>\n"
      ],
      "text/plain": [
       "                                                                                                                   \n",
       "\u001b[3m                                             Categorical Seed Columns                                              \u001b[0m\n",
       "┏━━━━━━━━━━━━━━━━━━━━━━━━━━━━━━━━━━━━━━━━━━━━━━━━━━━━━━━━━━━━━━━━━━━━┳━━━━━━━━━━━━━━━━━━━━━━━━━━━━━━━━━━━━━━━━━━━━┓\n",
       "┃\u001b[1m \u001b[0m\u001b[1mName                                                              \u001b[0m\u001b[1m \u001b[0m┃\u001b[1m \u001b[0m\u001b[1mValue                                     \u001b[0m\u001b[1m \u001b[0m┃\n",
       "┡━━━━━━━━━━━━━━━━━━━━━━━━━━━━━━━━━━━━━━━━━━━━━━━━━━━━━━━━━━━━━━━━━━━━╇━━━━━━━━━━━━━━━━━━━━━━━━━━━━━━━━━━━━━━━━━━━━┩\n",
       "│ table_name                                                         │ authors                                    │\n",
       "├────────────────────────────────────────────────────────────────────┼────────────────────────────────────────────┤\n",
       "│ instruction_phrase                                                 │ Display the                                │\n",
       "└────────────────────────────────────────────────────────────────────┴────────────────────────────────────────────┘\n",
       "                                                                                                                   \n",
       "                                                                                                                   \n",
       "\u001b[3m                                              Generated Data Columns                                               \u001b[0m\n",
       "┏━━━━━━━━━━━━━━━━━━━━━━━━━━━━━━━━━━━━┳━━━━━━━━━━━━━━━━━━━━━━━━━━━━━━━━━━━━━━━━━━━━━━━━━━━━━━━━━━━━━━━━━━━━━━━━━━━━┓\n",
       "┃\u001b[1m \u001b[0m\u001b[1mName                              \u001b[0m\u001b[1m \u001b[0m┃\u001b[1m \u001b[0m\u001b[1mValue                                                                     \u001b[0m\u001b[1m \u001b[0m┃\n",
       "┡━━━━━━━━━━━━━━━━━━━━━━━━━━━━━━━━━━━━╇━━━━━━━━━━━━━━━━━━━━━━━━━━━━━━━━━━━━━━━━━━━━━━━━━━━━━━━━━━━━━━━━━━━━━━━━━━━━┩\n",
       "│ column_name                        │ author_name                                                                │\n",
       "├────────────────────────────────────┼────────────────────────────────────────────────────────────────────────────┤\n",
       "│ column_data_type                   │ VARCHAR(255)                                                               │\n",
       "├────────────────────────────────────┼────────────────────────────────────────────────────────────────────────────┤\n",
       "│ sql_prompt                         │ Display the author_name from authors                                       │\n",
       "└────────────────────────────────────┴────────────────────────────────────────────────────────────────────────────┘\n",
       "                                                                                                                   \n",
       "                                                                                                                   \n",
       "╭────────────────────────────────────────────────── sql_context ──────────────────────────────────────────────────╮\n",
       "│ \u001b[38;2;255;121;198;48;2;40;42;54mCREATE\u001b[0m\u001b[38;2;248;248;242;48;2;40;42;54m \u001b[0m\u001b[38;2;255;121;198;48;2;40;42;54mTABLE\u001b[0m\u001b[38;2;248;248;242;48;2;40;42;54m \u001b[0m\u001b[38;2;248;248;242;48;2;40;42;54mauthors\u001b[0m\u001b[38;2;248;248;242;48;2;40;42;54m \u001b[0m\u001b[38;2;248;248;242;48;2;40;42;54m(\u001b[0m\u001b[48;2;40;42;54m                                                                                         \u001b[0m │\n",
       "│ \u001b[38;2;248;248;242;48;2;40;42;54m    \u001b[0m\u001b[38;2;248;248;242;48;2;40;42;54mauthor_name\u001b[0m\u001b[38;2;248;248;242;48;2;40;42;54m \u001b[0m\u001b[3;38;2;139;233;253;48;2;40;42;54mVARCHAR\u001b[0m\u001b[38;2;248;248;242;48;2;40;42;54m(\u001b[0m\u001b[38;2;255;184;108;48;2;40;42;54m255\u001b[0m\u001b[38;2;248;248;242;48;2;40;42;54m)\u001b[0m\u001b[48;2;40;42;54m                                                                                   \u001b[0m │\n",
       "│ \u001b[38;2;248;248;242;48;2;40;42;54m)\u001b[0m\u001b[38;2;248;248;242;48;2;40;42;54m;\u001b[0m\u001b[48;2;40;42;54m                                                                                                             \u001b[0m │\n",
       "╰─────────────────────────────────────────────────────────────────────────────────────────────────────────────────╯\n",
       "                                                                                                                   \n",
       "                                                                                                                   \n",
       "╭────────────────────────────────────────────────────── sql ──────────────────────────────────────────────────────╮\n",
       "│ \u001b[38;2;255;121;198;48;2;40;42;54mSELECT\u001b[0m\u001b[38;2;248;248;242;48;2;40;42;54m \u001b[0m\u001b[38;2;248;248;242;48;2;40;42;54mauthor_name\u001b[0m\u001b[38;2;248;248;242;48;2;40;42;54m \u001b[0m\u001b[38;2;255;121;198;48;2;40;42;54mFROM\u001b[0m\u001b[38;2;248;248;242;48;2;40;42;54m \u001b[0m\u001b[38;2;248;248;242;48;2;40;42;54mauthors\u001b[0m\u001b[38;2;248;248;242;48;2;40;42;54m;\u001b[0m\u001b[48;2;40;42;54m                                                                               \u001b[0m │\n",
       "╰─────────────────────────────────────────────────────────────────────────────────────────────────────────────────╯\n",
       "                                                                                                                   \n",
       "                                                                                                                   \n",
       "\u001b[3m                                                    Validation                                                     \u001b[0m\n",
       "┏━━━━━━━━━━━━━━━━━━━━━━━━━━━┳━━━━━━━━━━━━━━━━━━━━━━━━━━━━━━━━━━━━━━┳━━━━━━━━━━━━━━━━━┳━━━━━━━━━━━━━━━━━━━━━━━━━━━━┓\n",
       "┃\u001b[1m \u001b[0m\u001b[1msql_context_is_valid     \u001b[0m\u001b[1m \u001b[0m┃\u001b[1m \u001b[0m\u001b[1msql_context_validator_messages      \u001b[0m\u001b[1m \u001b[0m┃\u001b[1m \u001b[0m\u001b[1msql_is_valid   \u001b[0m\u001b[1m \u001b[0m┃\u001b[1m \u001b[0m\u001b[1msql_validator_messages    \u001b[0m\u001b[1m \u001b[0m┃\n",
       "┡━━━━━━━━━━━━━━━━━━━━━━━━━━━╇━━━━━━━━━━━━━━━━━━━━━━━━━━━━━━━━━━━━━━╇━━━━━━━━━━━━━━━━━╇━━━━━━━━━━━━━━━━━━━━━━━━━━━━┩\n",
       "│ True                      │ []                                   │ True            │ []                         │\n",
       "└───────────────────────────┴──────────────────────────────────────┴─────────────────┴────────────────────────────┘\n",
       "                                                                                                                   \n",
       "                                                                                                                   \n",
       "\u001b[3m                                                  LLM-as-a-Judge                                                   \u001b[0m\n",
       "┏━━━━━━━━━━━━━━━━━━━━━━━━━━━━┳━━━━━━━━━━━━━━━━━━━━━━━━━━━┳━━━━━━━━━━━━━━━━━━━━━━━━━━━━┳━━━━━━━━━━━━━━━━━━━━━━━━━━━┓\n",
       "┃\u001b[1m \u001b[0m\u001b[1mrelevance                 \u001b[0m\u001b[1m \u001b[0m┃\u001b[1m \u001b[0m\u001b[1mreadability              \u001b[0m\u001b[1m \u001b[0m┃\u001b[1m \u001b[0m\u001b[1mscalability               \u001b[0m\u001b[1m \u001b[0m┃\u001b[1m \u001b[0m\u001b[1mstandards                \u001b[0m\u001b[1m \u001b[0m┃\n",
       "┡━━━━━━━━━━━━━━━━━━━━━━━━━━━━╇━━━━━━━━━━━━━━━━━━━━━━━━━━━╇━━━━━━━━━━━━━━━━━━━━━━━━━━━━╇━━━━━━━━━━━━━━━━━━━━━━━━━━━┩\n",
       "│ score: 4                   │ score: 3                  │ score: 3                   │ score: 4                  │\n",
       "│ reasoning: The SQL query   │ reasoning: The query is   │ reasoning: The query is    │ reasoning: The query      │\n",
       "│ perfectly meets the        │ well-formatted and easy   │ simple and should scale    │ adheres to SQL standards  │\n",
       "│ instructions and context,  │ to understand, but it     │ well, but it's not         │ and follows best          │\n",
       "│ retrieving the author_name │ could benefit from a      │ explicitly optimized for   │ practices for simplicity  │\n",
       "│ from the authors table.    │ comment explaining its    │ large datasets.            │ and readability.          │\n",
       "│                            │ purpose.                  │                            │                           │\n",
       "└────────────────────────────┴───────────────────────────┴────────────────────────────┴───────────────────────────┘\n",
       "                                                                                                                   \n",
       "                                                    [index: 4]                                                     \n"
      ]
     },
     "metadata": {},
     "output_type": "display_data"
    }
   ],
   "source": [
    "preview.display_sample_record(index=4)"
   ]
  },
  {
   "cell_type": "code",
   "execution_count": 25,
   "metadata": {},
   "outputs": [
    {
     "data": {
      "text/html": [
       "<div>\n",
       "<style scoped>\n",
       "    .dataframe tbody tr th:only-of-type {\n",
       "        vertical-align: middle;\n",
       "    }\n",
       "\n",
       "    .dataframe tbody tr th {\n",
       "        vertical-align: top;\n",
       "    }\n",
       "\n",
       "    .dataframe thead th {\n",
       "        text-align: right;\n",
       "    }\n",
       "</style>\n",
       "<table border=\"1\" class=\"dataframe\">\n",
       "  <thead>\n",
       "    <tr style=\"text-align: right;\">\n",
       "      <th></th>\n",
       "      <th>table_name</th>\n",
       "      <th>instruction_phrase</th>\n",
       "      <th>column_name</th>\n",
       "      <th>column_data_type</th>\n",
       "      <th>sql_prompt</th>\n",
       "      <th>sql_context</th>\n",
       "      <th>sql</th>\n",
       "      <th>sql_context_is_valid</th>\n",
       "      <th>sql_context_validator_messages</th>\n",
       "      <th>sql_is_valid</th>\n",
       "      <th>sql_validator_messages</th>\n",
       "      <th>judged_by_llm</th>\n",
       "      <th>text_to_sql_llm_judge_results</th>\n",
       "    </tr>\n",
       "  </thead>\n",
       "  <tbody>\n",
       "    <tr>\n",
       "      <th>0</th>\n",
       "      <td>studios</td>\n",
       "      <td>Compose a SQL query to</td>\n",
       "      <td>studio_location</td>\n",
       "      <td>VARCHAR(255)</td>\n",
       "      <td>Compose a SQL query to select the studio_locat...</td>\n",
       "      <td>CREATE TABLE studios (\\n    studio_location VA...</td>\n",
       "      <td>SELECT studio_location FROM studios;</td>\n",
       "      <td>True</td>\n",
       "      <td>[]</td>\n",
       "      <td>True</td>\n",
       "      <td>[]</td>\n",
       "      <td>True</td>\n",
       "      <td>{'relevance': {'score': 4, 'reasoning': 'The q...</td>\n",
       "    </tr>\n",
       "    <tr>\n",
       "      <th>1</th>\n",
       "      <td>sponsors</td>\n",
       "      <td>Summon the records to</td>\n",
       "      <td>sponsor_id</td>\n",
       "      <td>INT</td>\n",
       "      <td>Summon the records to sponsor_id from sponsors</td>\n",
       "      <td>CREATE TABLE sponsors (\\n    sponsor_id INT\\n);</td>\n",
       "      <td>SELECT sponsor_id FROM sponsors;</td>\n",
       "      <td>True</td>\n",
       "      <td>[]</td>\n",
       "      <td>True</td>\n",
       "      <td>[]</td>\n",
       "      <td>True</td>\n",
       "      <td>{'relevance': {'score': 4, 'reasoning': 'The S...</td>\n",
       "    </tr>\n",
       "    <tr>\n",
       "      <th>2</th>\n",
       "      <td>finance_compliance</td>\n",
       "      <td>Summon the records to</td>\n",
       "      <td>compliance_status</td>\n",
       "      <td>VARCHAR(50)</td>\n",
       "      <td>Summon the records to compliance_status from f...</td>\n",
       "      <td>CREATE TABLE finance_compliance (\\n    complia...</td>\n",
       "      <td>SELECT compliance_status FROM finance_compliance;</td>\n",
       "      <td>True</td>\n",
       "      <td>[]</td>\n",
       "      <td>True</td>\n",
       "      <td>[]</td>\n",
       "      <td>True</td>\n",
       "      <td>{'relevance': {'score': 4, 'reasoning': 'The S...</td>\n",
       "    </tr>\n",
       "    <tr>\n",
       "      <th>3</th>\n",
       "      <td>requirements</td>\n",
       "      <td>Fetch the</td>\n",
       "      <td>requirement_date</td>\n",
       "      <td>DATE</td>\n",
       "      <td>Fetch the requirement_date from requirements</td>\n",
       "      <td>CREATE TABLE requirements (\\n    requirement_d...</td>\n",
       "      <td>SELECT requirement_date FROM requirements;</td>\n",
       "      <td>True</td>\n",
       "      <td>[]</td>\n",
       "      <td>True</td>\n",
       "      <td>[]</td>\n",
       "      <td>True</td>\n",
       "      <td>{'relevance': {'score': 4, 'reasoning': 'The S...</td>\n",
       "    </tr>\n",
       "    <tr>\n",
       "      <th>4</th>\n",
       "      <td>authors</td>\n",
       "      <td>Display the</td>\n",
       "      <td>author_name</td>\n",
       "      <td>VARCHAR(255)</td>\n",
       "      <td>Display the author_name from authors</td>\n",
       "      <td>CREATE TABLE authors (\\n    author_name VARCHA...</td>\n",
       "      <td>SELECT author_name FROM authors;</td>\n",
       "      <td>True</td>\n",
       "      <td>[]</td>\n",
       "      <td>True</td>\n",
       "      <td>[]</td>\n",
       "      <td>True</td>\n",
       "      <td>{'relevance': {'score': 4, 'reasoning': 'The S...</td>\n",
       "    </tr>\n",
       "    <tr>\n",
       "      <th>5</th>\n",
       "      <td>notifications</td>\n",
       "      <td>Generate a SQL query to</td>\n",
       "      <td>notification_type</td>\n",
       "      <td>VARCHAR(255)</td>\n",
       "      <td>Generate a SQL query to select the notificatio...</td>\n",
       "      <td>CREATE TABLE notifications (\\n    notification...</td>\n",
       "      <td>SELECT notification_type FROM notifications;</td>\n",
       "      <td>True</td>\n",
       "      <td>[]</td>\n",
       "      <td>True</td>\n",
       "      <td>[]</td>\n",
       "      <td>True</td>\n",
       "      <td>{'relevance': {'score': 4, 'reasoning': 'The q...</td>\n",
       "    </tr>\n",
       "    <tr>\n",
       "      <th>6</th>\n",
       "      <td>compliance_checks</td>\n",
       "      <td>Fetch the entries to</td>\n",
       "      <td>compliance_status</td>\n",
       "      <td>VARCHAR(255)</td>\n",
       "      <td>Fetch the entries to select the compliance_sta...</td>\n",
       "      <td>CREATE TABLE compliance_checks (\\n    complian...</td>\n",
       "      <td>SELECT compliance_status FROM compliance_checks;</td>\n",
       "      <td>True</td>\n",
       "      <td>[]</td>\n",
       "      <td>True</td>\n",
       "      <td>[]</td>\n",
       "      <td>True</td>\n",
       "      <td>{'relevance': {'score': 4, 'reasoning': 'The q...</td>\n",
       "    </tr>\n",
       "    <tr>\n",
       "      <th>7</th>\n",
       "      <td>vulnerability_assessments</td>\n",
       "      <td>Formulate an SQL statement to</td>\n",
       "      <td>vulnerability_count</td>\n",
       "      <td>INT</td>\n",
       "      <td>Formulate an SQL statement to select the vulne...</td>\n",
       "      <td>CREATE TABLE vulnerability_assessments (\\n    ...</td>\n",
       "      <td>SELECT vulnerability_count FROM vulnerability_...</td>\n",
       "      <td>True</td>\n",
       "      <td>[]</td>\n",
       "      <td>True</td>\n",
       "      <td>[]</td>\n",
       "      <td>True</td>\n",
       "      <td>{'relevance': {'score': 4, 'reasoning': 'The S...</td>\n",
       "    </tr>\n",
       "    <tr>\n",
       "      <th>8</th>\n",
       "      <td>access_management</td>\n",
       "      <td>Construct a SQL statement for</td>\n",
       "      <td>user_role</td>\n",
       "      <td>VARCHAR(255)</td>\n",
       "      <td>Construct a SQL statement for selecting the us...</td>\n",
       "      <td>CREATE TABLE access_management (\\n    user_rol...</td>\n",
       "      <td>SELECT user_role FROM access_management;</td>\n",
       "      <td>True</td>\n",
       "      <td>[]</td>\n",
       "      <td>True</td>\n",
       "      <td>[]</td>\n",
       "      <td>True</td>\n",
       "      <td>{'relevance': {'score': 4, 'reasoning': 'The S...</td>\n",
       "    </tr>\n",
       "    <tr>\n",
       "      <th>9</th>\n",
       "      <td>level_progressions</td>\n",
       "      <td>Determine the rows to</td>\n",
       "      <td>level_id</td>\n",
       "      <td>INT</td>\n",
       "      <td>Determine the rows to select exactly 1 'level_...</td>\n",
       "      <td>CREATE TABLE level_progressions (\\n    level_i...</td>\n",
       "      <td>SELECT level_id FROM level_progressions LIMIT 1</td>\n",
       "      <td>True</td>\n",
       "      <td>[]</td>\n",
       "      <td>True</td>\n",
       "      <td>[]</td>\n",
       "      <td>True</td>\n",
       "      <td>{'relevance': {'score': 4, 'reasoning': 'The S...</td>\n",
       "    </tr>\n",
       "  </tbody>\n",
       "</table>\n",
       "</div>"
      ],
      "text/plain": [
       "                  table_name             instruction_phrase  \\\n",
       "0                    studios         Compose a SQL query to   \n",
       "1                   sponsors          Summon the records to   \n",
       "2         finance_compliance          Summon the records to   \n",
       "3               requirements                      Fetch the   \n",
       "4                    authors                    Display the   \n",
       "5              notifications        Generate a SQL query to   \n",
       "6          compliance_checks           Fetch the entries to   \n",
       "7  vulnerability_assessments  Formulate an SQL statement to   \n",
       "8          access_management  Construct a SQL statement for   \n",
       "9         level_progressions          Determine the rows to   \n",
       "\n",
       "           column_name column_data_type  \\\n",
       "0      studio_location     VARCHAR(255)   \n",
       "1           sponsor_id              INT   \n",
       "2    compliance_status      VARCHAR(50)   \n",
       "3     requirement_date             DATE   \n",
       "4          author_name     VARCHAR(255)   \n",
       "5    notification_type     VARCHAR(255)   \n",
       "6    compliance_status     VARCHAR(255)   \n",
       "7  vulnerability_count              INT   \n",
       "8            user_role     VARCHAR(255)   \n",
       "9             level_id              INT   \n",
       "\n",
       "                                          sql_prompt  \\\n",
       "0  Compose a SQL query to select the studio_locat...   \n",
       "1     Summon the records to sponsor_id from sponsors   \n",
       "2  Summon the records to compliance_status from f...   \n",
       "3       Fetch the requirement_date from requirements   \n",
       "4               Display the author_name from authors   \n",
       "5  Generate a SQL query to select the notificatio...   \n",
       "6  Fetch the entries to select the compliance_sta...   \n",
       "7  Formulate an SQL statement to select the vulne...   \n",
       "8  Construct a SQL statement for selecting the us...   \n",
       "9  Determine the rows to select exactly 1 'level_...   \n",
       "\n",
       "                                         sql_context  \\\n",
       "0  CREATE TABLE studios (\\n    studio_location VA...   \n",
       "1    CREATE TABLE sponsors (\\n    sponsor_id INT\\n);   \n",
       "2  CREATE TABLE finance_compliance (\\n    complia...   \n",
       "3  CREATE TABLE requirements (\\n    requirement_d...   \n",
       "4  CREATE TABLE authors (\\n    author_name VARCHA...   \n",
       "5  CREATE TABLE notifications (\\n    notification...   \n",
       "6  CREATE TABLE compliance_checks (\\n    complian...   \n",
       "7  CREATE TABLE vulnerability_assessments (\\n    ...   \n",
       "8  CREATE TABLE access_management (\\n    user_rol...   \n",
       "9  CREATE TABLE level_progressions (\\n    level_i...   \n",
       "\n",
       "                                                 sql  sql_context_is_valid  \\\n",
       "0               SELECT studio_location FROM studios;                  True   \n",
       "1                   SELECT sponsor_id FROM sponsors;                  True   \n",
       "2  SELECT compliance_status FROM finance_compliance;                  True   \n",
       "3         SELECT requirement_date FROM requirements;                  True   \n",
       "4                   SELECT author_name FROM authors;                  True   \n",
       "5       SELECT notification_type FROM notifications;                  True   \n",
       "6   SELECT compliance_status FROM compliance_checks;                  True   \n",
       "7  SELECT vulnerability_count FROM vulnerability_...                  True   \n",
       "8           SELECT user_role FROM access_management;                  True   \n",
       "9    SELECT level_id FROM level_progressions LIMIT 1                  True   \n",
       "\n",
       "  sql_context_validator_messages  sql_is_valid sql_validator_messages  \\\n",
       "0                             []          True                     []   \n",
       "1                             []          True                     []   \n",
       "2                             []          True                     []   \n",
       "3                             []          True                     []   \n",
       "4                             []          True                     []   \n",
       "5                             []          True                     []   \n",
       "6                             []          True                     []   \n",
       "7                             []          True                     []   \n",
       "8                             []          True                     []   \n",
       "9                             []          True                     []   \n",
       "\n",
       "   judged_by_llm                      text_to_sql_llm_judge_results  \n",
       "0           True  {'relevance': {'score': 4, 'reasoning': 'The q...  \n",
       "1           True  {'relevance': {'score': 4, 'reasoning': 'The S...  \n",
       "2           True  {'relevance': {'score': 4, 'reasoning': 'The S...  \n",
       "3           True  {'relevance': {'score': 4, 'reasoning': 'The S...  \n",
       "4           True  {'relevance': {'score': 4, 'reasoning': 'The S...  \n",
       "5           True  {'relevance': {'score': 4, 'reasoning': 'The q...  \n",
       "6           True  {'relevance': {'score': 4, 'reasoning': 'The q...  \n",
       "7           True  {'relevance': {'score': 4, 'reasoning': 'The S...  \n",
       "8           True  {'relevance': {'score': 4, 'reasoning': 'The S...  \n",
       "9           True  {'relevance': {'score': 4, 'reasoning': 'The S...  "
      ]
     },
     "execution_count": 25,
     "metadata": {},
     "output_type": "execute_result"
    }
   ],
   "source": [
    "preview.output"
   ]
  },
  {
   "cell_type": "code",
   "execution_count": 26,
   "metadata": {},
   "outputs": [
    {
     "name": "stderr",
     "output_type": "stream",
     "text": [
      "Creating parquet from Arrow format: 100%|██████████| 1/1 [00:00<00:00, 553.48ba/s]\n",
      "Uploading the dataset shards: 100%|██████████| 1/1 [00:00<00:00,  2.08it/s]\n"
     ]
    },
    {
     "data": {
      "text/plain": [
       "CommitInfo(commit_url='https://huggingface.co/datasets/dhruvnathawani/cs11-preview/commit/fa59f159709589e470da41fc4c4cf94ed77fd81b', commit_message='Upload dataset', commit_description='', oid='fa59f159709589e470da41fc4c4cf94ed77fd81b', pr_url=None, repo_url=RepoUrl('https://huggingface.co/datasets/dhruvnathawani/cs11-preview', endpoint='https://huggingface.co', repo_type='dataset', repo_id='dhruvnathawani/cs11-preview'), pr_revision=None, pr_num=None)"
      ]
     },
     "execution_count": 26,
     "metadata": {},
     "output_type": "execute_result"
    }
   ],
   "source": [
    "dataset_preview = Dataset.from_pandas(preview.output)\n",
    "dataset_preview.push_to_hub(f\"dhruvnathawani/{config_name}-preview\")"
   ]
  },
  {
   "cell_type": "markdown",
   "metadata": {},
   "source": [
    "### 🤔 Like what you see? Generate an entire dataset"
   ]
  },
  {
   "cell_type": "code",
   "execution_count": null,
   "metadata": {},
   "outputs": [
    {
     "name": "stdout",
     "output_type": "stream",
     "text": [
      "[05:55:14] [INFO] ⚙️ Configuring Data Designer Workflow steps:\n",
      "[05:55:14] [INFO]   |-- Step 1: generate-seed-category-values-1\n",
      "[05:55:14] [INFO]   |-- Step 2: sample-data-seeds-2\n",
      "[05:55:14] [INFO]   |-- Step 3: generate-column-from-template-3-generating-column-name\n",
      "[05:55:14] [INFO]   |-- Step 4: generate-column-from-template-4-generating-column-data-type\n",
      "[05:55:14] [INFO]   |-- Step 5: generate-column-from-template-5-generating-sql-prompt\n",
      "[05:55:14] [INFO]   |-- Step 6: generate-column-from-template-6-generating-sql-context\n",
      "[05:55:14] [INFO]   |-- Step 7: generate-column-from-template-7-generating-sql\n",
      "[05:55:14] [INFO]   |-- Step 8: validate-code-8\n",
      "[05:55:14] [INFO]   |-- Step 9: judge-with-llm-9\n",
      "[05:55:14] [INFO]   |-- Step 10: evaluate-dataset-10\n",
      "[05:55:15] [INFO] 🛜 Connecting to your Gretel Project:\n",
      "[05:55:15] [INFO] 🔗 -> https://console-dev.gretel.ai/proj_2q9xT87ZuPhlMiDURwof2BkjihM\n",
      "[05:55:18] [INFO] ▶️ Starting your workflow run to generate 100000 records:\n",
      "[05:55:18] [INFO]   |-- project_name: dhruv-sql-interp-cs11\n",
      "[05:55:18] [INFO]   |-- project_id: proj_2q9xT87ZuPhlMiDURwof2BkjihM\n",
      "[05:55:18] [INFO]   |-- workflow_run_id: wr_2qbZcvCcxUr0gaOgPqH1HW4hsAF\n",
      "[05:55:18] [INFO] 🔗 -> https://console-dev.gretel.ai/workflows/w_2qbZci6s5cM0YvmClcMw5M3so5g/runs/wr_2qbZcvCcxUr0gaOgPqH1HW4hsAF\n"
     ]
    }
   ],
   "source": [
    "# Submit a batch workflow to generate records\n",
    "results = designer.submit_batch_workflow(num_records=100000, project_name=f\"dhruv-sql-interp-{config_name}\")"
   ]
  },
  {
   "cell_type": "code",
   "execution_count": null,
   "metadata": {},
   "outputs": [],
   "source": [
    "# Fetch the dataset\n",
    "df = results.fetch_dataset(wait_for_completion=True)"
   ]
  },
  {
   "cell_type": "code",
   "execution_count": null,
   "metadata": {},
   "outputs": [],
   "source": [
    "path = results.download_evaluation_report(wait_for_completion=True)"
   ]
  },
  {
   "cell_type": "code",
   "execution_count": null,
   "metadata": {},
   "outputs": [],
   "source": [
    "print(df.keys())"
   ]
  },
  {
   "cell_type": "code",
   "execution_count": null,
   "metadata": {},
   "outputs": [],
   "source": [
    "dataset = Dataset.from_pandas(df)\n",
    "dataset.push_to_hub(f\"withmartian/{config_name}_dataset_100k\")"
   ]
  },
  {
   "cell_type": "code",
   "execution_count": null,
   "metadata": {},
   "outputs": [],
   "source": []
  }
 ],
 "metadata": {
  "kernelspec": {
   "display_name": "env",
   "language": "python",
   "name": "python3"
  },
  "language_info": {
   "codemirror_mode": {
    "name": "ipython",
    "version": 3
   },
   "file_extension": ".py",
   "mimetype": "text/x-python",
   "name": "python",
   "nbconvert_exporter": "python",
   "pygments_lexer": "ipython3",
   "version": "3.9.17"
  }
 },
 "nbformat": 4,
 "nbformat_minor": 2
}
