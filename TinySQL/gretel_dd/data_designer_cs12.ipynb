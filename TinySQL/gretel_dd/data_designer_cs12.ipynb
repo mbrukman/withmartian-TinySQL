{
 "cells": [
  {
   "cell_type": "markdown",
   "metadata": {},
   "source": [
    "# SQL Interp Datasets Notebook"
   ]
  },
  {
   "cell_type": "code",
   "execution_count": 1,
   "metadata": {},
   "outputs": [],
   "source": [
    "%%capture\n",
    "#!pip install git+https://github.com/gretelai/gretel-python-client@dev/data-designer-m1\n",
    "!pip install git+https://github.com/gretelai/gretel-python-client\n",
    "\n",
    "session_kwargs = {\n",
    "    \"api_key\": \"prompt\",\n",
    "    \"endpoint\": \"https://api-dev.gretel.cloud\",\n",
    "    \"cache\": \"yes\",\n",
    "}"
   ]
  },
  {
   "cell_type": "code",
   "execution_count": null,
   "metadata": {},
   "outputs": [],
   "source": [
    "import os\n",
    "import pandas as pd\n",
    "import time\n",
    "from datasets import Dataset\n",
    "from gretel_client.navigator import DataDesigner"
   ]
  },
  {
   "cell_type": "markdown",
   "metadata": {},
   "source": [
    "### 📘 Text-to-Python Blueprint"
   ]
  },
  {
   "cell_type": "code",
   "execution_count": 7,
   "metadata": {},
   "outputs": [
    {
     "name": "stdout",
     "output_type": "stream",
     "text": [
      "[19:38:31] [INFO] 🦜 Using apache-2.0 model suite\n"
     ]
    },
    {
     "name": "stdout",
     "output_type": "stream",
     "text": [
      "Found cached Gretel credentials\n",
      "Using endpoint https://api-dev.gretel.cloud\n",
      "Logged in as dhruv@gretel.ai ✅\n",
      "[19:38:33] [INFO] 🚀 Generating dataset preview\n",
      "[19:38:33] [INFO] 🦜 Step 1: Generate seed category values\n"
     ]
    },
    {
     "ename": "WorkflowTaskError",
     "evalue": "Step 'generate-seed-category-values-1' failed: 🛑 Max retries exceeded for a method on the task. Please check your Workflow config. If the issue persists please contact support.",
     "output_type": "error",
     "traceback": [
      "\u001b[0;31m---------------------------------------------------------------------------\u001b[0m",
      "\u001b[0;31mWorkflowTaskError\u001b[0m                         Traceback (most recent call last)",
      "Cell \u001b[0;32mIn[7], line 12\u001b[0m\n\u001b[1;32m      9\u001b[0m designer \u001b[38;5;241m=\u001b[39m DataDesigner\u001b[38;5;241m.\u001b[39mfrom_config(blueprint_string, \u001b[38;5;241m*\u001b[39m\u001b[38;5;241m*\u001b[39msession_kwargs)\n\u001b[1;32m     10\u001b[0m designer\n\u001b[0;32m---> 12\u001b[0m preview \u001b[38;5;241m=\u001b[39m \u001b[43mdesigner\u001b[49m\u001b[38;5;241;43m.\u001b[39;49m\u001b[43mgenerate_dataset_preview\u001b[49m\u001b[43m(\u001b[49m\u001b[43m)\u001b[49m\n\u001b[1;32m     13\u001b[0m \u001b[38;5;66;03m#time.sleep(10)\u001b[39;00m\n\u001b[1;32m     14\u001b[0m combined_dfs\u001b[38;5;241m.\u001b[39mappend(preview\u001b[38;5;241m.\u001b[39moutput)\n",
      "File \u001b[0;32m~/.pyenv/versions/3.9.17/lib/python3.9/site-packages/gretel_client/navigator/data_designer/interface.py:710\u001b[0m, in \u001b[0;36mDataDesigner.generate_dataset_preview\u001b[0;34m(self, data_seeds, verbose_logging, **kwargs)\u001b[0m\n\u001b[1;32m    707\u001b[0m workflow\u001b[38;5;241m.\u001b[39madd_steps(steps)\n\u001b[1;32m    709\u001b[0m logger\u001b[38;5;241m.\u001b[39minfo(\u001b[38;5;124m\"\u001b[39m\u001b[38;5;124m🚀 Generating dataset preview\u001b[39m\u001b[38;5;124m\"\u001b[39m)\n\u001b[0;32m--> 710\u001b[0m preview \u001b[38;5;241m=\u001b[39m \u001b[43mworkflow\u001b[49m\u001b[38;5;241;43m.\u001b[39;49m\u001b[43mgenerate_preview\u001b[49m\u001b[43m(\u001b[49m\u001b[43mverbose_logging\u001b[49m\u001b[38;5;241;43m=\u001b[39;49m\u001b[43mverbose_logging\u001b[49m\u001b[43m)\u001b[49m\n\u001b[1;32m    711\u001b[0m \u001b[38;5;28;01mif\u001b[39;00m preview\u001b[38;5;241m.\u001b[39moutput \u001b[38;5;129;01mis\u001b[39;00m \u001b[38;5;129;01mnot\u001b[39;00m \u001b[38;5;28;01mNone\u001b[39;00m:\n\u001b[1;32m    712\u001b[0m     logger\u001b[38;5;241m.\u001b[39minfo(\u001b[38;5;124m\"\u001b[39m\u001b[38;5;124m👀 Your dataset preview is ready for a peek!\u001b[39m\u001b[38;5;124m\"\u001b[39m)\n",
      "File \u001b[0;32m~/.pyenv/versions/3.9.17/lib/python3.9/site-packages/gretel_client/navigator/workflow.py:470\u001b[0m, in \u001b[0;36mDataDesignerWorkflow.generate_preview\u001b[0;34m(self, verbose_logging)\u001b[0m\n\u001b[1;32m    468\u001b[0m final_output \u001b[38;5;241m=\u001b[39m \u001b[38;5;28;01mNone\u001b[39;00m\n\u001b[1;32m    469\u001b[0m outputs_by_step \u001b[38;5;241m=\u001b[39m {}\n\u001b[0;32m--> 470\u001b[0m \u001b[38;5;28;01mfor\u001b[39;00m message \u001b[38;5;129;01min\u001b[39;00m \u001b[38;5;28mself\u001b[39m\u001b[38;5;241m.\u001b[39m_client\u001b[38;5;241m.\u001b[39mget_workflow_preview(\u001b[38;5;28mself\u001b[39m\u001b[38;5;241m.\u001b[39mto_dict()):\n\u001b[1;32m    471\u001b[0m     \u001b[38;5;28;01mif\u001b[39;00m \u001b[38;5;28misinstance\u001b[39m(message, WorkflowInterruption):\n\u001b[1;32m    472\u001b[0m         logger\u001b[38;5;241m.\u001b[39mwarning(message\u001b[38;5;241m.\u001b[39mmessage)\n",
      "File \u001b[0;32m~/.pyenv/versions/3.9.17/lib/python3.9/site-packages/gretel_client/navigator/client/remote.py:212\u001b[0m, in \u001b[0;36mRemoteClient.stream_workflow_outputs\u001b[0;34m(self, workflow, verbose)\u001b[0m\n\u001b[1;32m    210\u001b[0m \u001b[38;5;28;01mtry\u001b[39;00m:\n\u001b[1;32m    211\u001b[0m     \u001b[38;5;28;01mfor\u001b[39;00m output \u001b[38;5;129;01min\u001b[39;00m response\u001b[38;5;241m.\u001b[39miter_lines():\n\u001b[0;32m--> 212\u001b[0m         \u001b[38;5;28;01myield\u001b[39;00m \u001b[43mMessage\u001b[49m\u001b[38;5;241;43m.\u001b[39;49m\u001b[43mfrom_dict\u001b[49m\u001b[43m(\u001b[49m\u001b[43mjson\u001b[49m\u001b[38;5;241;43m.\u001b[39;49m\u001b[43mloads\u001b[49m\u001b[43m(\u001b[49m\u001b[43moutput\u001b[49m\u001b[43m)\u001b[49m\u001b[43m,\u001b[49m\u001b[43m \u001b[49m\u001b[43mraise_on_error\u001b[49m\u001b[38;5;241;43m=\u001b[39;49m\u001b[38;5;28;43;01mTrue\u001b[39;49;00m\u001b[43m)\u001b[49m\n\u001b[1;32m    213\u001b[0m \u001b[38;5;28;01mexcept\u001b[39;00m ChunkedEncodingError:\n\u001b[1;32m    214\u001b[0m     \u001b[38;5;28;01myield\u001b[39;00m WorkflowInterruption(BROKEN_RESPONSE_STREAM_ERROR_MESSAGE)\n",
      "File \u001b[0;32m~/.pyenv/versions/3.9.17/lib/python3.9/site-packages/gretel_client/navigator/client/remote.py:113\u001b[0m, in \u001b[0;36mMessage.from_dict\u001b[0;34m(cls, message, raise_on_error)\u001b[0m\n\u001b[1;32m    110\u001b[0m deserialized_message \u001b[38;5;241m=\u001b[39m \u001b[38;5;28mcls\u001b[39m(\u001b[38;5;241m*\u001b[39m\u001b[38;5;241m*\u001b[39mmessage)\n\u001b[1;32m    112\u001b[0m \u001b[38;5;28;01mif\u001b[39;00m raise_on_error:\n\u001b[0;32m--> 113\u001b[0m     \u001b[43m_raise_on_task_error\u001b[49m\u001b[43m(\u001b[49m\u001b[43mdeserialized_message\u001b[49m\u001b[43m)\u001b[49m\n\u001b[1;32m    115\u001b[0m \u001b[38;5;28;01mreturn\u001b[39;00m deserialized_message\n",
      "File \u001b[0;32m~/.pyenv/versions/3.9.17/lib/python3.9/site-packages/gretel_client/navigator/client/remote.py:142\u001b[0m, in \u001b[0;36m_raise_on_task_error\u001b[0;34m(message)\u001b[0m\n\u001b[1;32m    133\u001b[0m \u001b[38;5;250m\u001b[39m\u001b[38;5;124;03m\"\"\"\u001b[39;00m\n\u001b[1;32m    134\u001b[0m \u001b[38;5;124;03mInspects a message for messages known to contain\u001b[39;00m\n\u001b[1;32m    135\u001b[0m \u001b[38;5;124;03mfatal errors, and raises an exception from those\u001b[39;00m\n\u001b[1;32m    136\u001b[0m \u001b[38;5;124;03mmessages.\u001b[39;00m\n\u001b[1;32m    137\u001b[0m \u001b[38;5;124;03m\"\"\"\u001b[39;00m\n\u001b[1;32m    138\u001b[0m \u001b[38;5;28;01mif\u001b[39;00m (\n\u001b[1;32m    139\u001b[0m     message\u001b[38;5;241m.\u001b[39mtype \u001b[38;5;241m==\u001b[39m \u001b[38;5;124m\"\u001b[39m\u001b[38;5;124mstep_state_change\u001b[39m\u001b[38;5;124m\"\u001b[39m\n\u001b[1;32m    140\u001b[0m     \u001b[38;5;129;01mand\u001b[39;00m message\u001b[38;5;241m.\u001b[39mpayload\u001b[38;5;241m.\u001b[39mget(\u001b[38;5;124m\"\u001b[39m\u001b[38;5;124mstate\u001b[39m\u001b[38;5;124m\"\u001b[39m, \u001b[38;5;124m\"\u001b[39m\u001b[38;5;124m\"\u001b[39m) \u001b[38;5;241m==\u001b[39m \u001b[38;5;124m\"\u001b[39m\u001b[38;5;124merror\u001b[39m\u001b[38;5;124m\"\u001b[39m\n\u001b[1;32m    141\u001b[0m ):\n\u001b[0;32m--> 142\u001b[0m     \u001b[38;5;28;01mraise\u001b[39;00m WorkflowTaskError(\n\u001b[1;32m    143\u001b[0m         \u001b[38;5;124mf\u001b[39m\u001b[38;5;124m\"\u001b[39m\u001b[38;5;124mStep \u001b[39m\u001b[38;5;132;01m{\u001b[39;00mmessage\u001b[38;5;241m.\u001b[39mstep\u001b[38;5;132;01m!r}\u001b[39;00m\u001b[38;5;124m failed: \u001b[39m\u001b[38;5;132;01m{\u001b[39;00mmessage\u001b[38;5;241m.\u001b[39mpayload\u001b[38;5;241m.\u001b[39mget(\u001b[38;5;124m'\u001b[39m\u001b[38;5;124mmsg\u001b[39m\u001b[38;5;124m'\u001b[39m)\u001b[38;5;132;01m}\u001b[39;00m\u001b[38;5;124m. Please check your Workflow config. \u001b[39m\u001b[38;5;124m\"\u001b[39m\n\u001b[1;32m    144\u001b[0m         \u001b[38;5;124m\"\u001b[39m\u001b[38;5;124mIf the issue persists please contact support.\u001b[39m\u001b[38;5;124m\"\u001b[39m\n\u001b[1;32m    145\u001b[0m     )\n",
      "\u001b[0;31mWorkflowTaskError\u001b[0m: Step 'generate-seed-category-values-1' failed: 🛑 Max retries exceeded for a method on the task. Please check your Workflow config. If the issue persists please contact support."
     ]
    }
   ],
   "source": [
    "folder_name = \"cs13\"\n",
    "combined_dfs = []\n",
    "for i in range(1, 16):\n",
    "    config_name = f\"cs13_{i}\"\n",
    "    file_path = os.path.join(folder_name, f\"{config_name}.yaml\")\n",
    "    with open(file_path, 'r') as file:\n",
    "        blueprint_string = file.read()\n",
    "    \n",
    "    designer = DataDesigner.from_config(blueprint_string, **session_kwargs)\n",
    "    designer\n",
    "\n",
    "    preview = designer.generate_dataset_preview()\n",
    "    #time.sleep(10)\n",
    "    combined_dfs.append(preview.output)\n",
    "\n",
    "    combined = pd.concat(combined_dfs, ignore_index=True)"
   ]
  },
  {
   "cell_type": "code",
   "execution_count": null,
   "metadata": {},
   "outputs": [],
   "source": [
    "dataset_preview = Dataset.from_pandas(combined)\n",
    "dataset_preview.push_to_hub(f\"dhruvnathawani/cs13-preview\")"
   ]
  },
  {
   "cell_type": "markdown",
   "metadata": {},
   "source": [
    "### 🤔 Like what you see? Generate an entire dataset"
   ]
  },
  {
   "cell_type": "code",
   "execution_count": null,
   "metadata": {},
   "outputs": [],
   "source": [
    "# Submit a batch workflow to generate records\n",
    "#results = designer.submit_batch_workflow(num_records=100, project_name=f\"dhruv-sql-interp-{folder_name}\")\n",
    "\n",
    "folder_name = \"cs13\"\n",
    "combined_dfs = []\n",
    "for i in range(1, 16):\n",
    "    config_name = f\"cs13_{i}\"\n",
    "    file_path = os.path.join(folder_name, f\"{config_name}.yaml\")\n",
    "    with open(file_path, 'r') as file:\n",
    "        blueprint_string = file.read()\n",
    "    \n",
    "    designer = DataDesigner.from_config(blueprint_string, **session_kwargs)\n",
    "    results = designer.submit_batch_workflow(num_records=6700, project_name=f\"dhruv-sql-interp-{folder_name}\")\n",
    "    df = results.fetch_dataset(wait_for_completion=True)\n",
    "    combined_dfs.append(df)\n",
    "    combined = pd.concat(combined_dfs, ignore_index=True)\n",
    "dataset = Dataset.from_pandas(df)\n",
    "dataset.push_to_hub(f\"withmartian/{config_name}_dataset_100k\")"
   ]
  },
  {
   "cell_type": "code",
   "execution_count": null,
   "metadata": {},
   "outputs": [],
   "source": [
    "# Fetch the dataset\n",
    "#df = results.fetch_dataset(wait_for_completion=True)"
   ]
  },
  {
   "cell_type": "code",
   "execution_count": null,
   "metadata": {},
   "outputs": [],
   "source": [
    "#path = results.download_evaluation_report(wait_for_completion=True)"
   ]
  },
  {
   "cell_type": "code",
   "execution_count": null,
   "metadata": {},
   "outputs": [],
   "source": [
    "#print(df.keys())"
   ]
  },
  {
   "cell_type": "code",
   "execution_count": null,
   "metadata": {},
   "outputs": [],
   "source": [
    "#dataset = Dataset.from_pandas(df)\n",
    "#dataset.push_to_hub(f\"withmartian/{config_name}_dataset\")"
   ]
  },
  {
   "cell_type": "code",
   "execution_count": null,
   "metadata": {},
   "outputs": [],
   "source": []
  }
 ],
 "metadata": {
  "kernelspec": {
   "display_name": "3.9.17",
   "language": "python",
   "name": "python3"
  },
  "language_info": {
   "codemirror_mode": {
    "name": "ipython",
    "version": 3
   },
   "file_extension": ".py",
   "mimetype": "text/x-python",
   "name": "python",
   "nbconvert_exporter": "python",
   "pygments_lexer": "ipython3",
   "version": "3.9.17"
  }
 },
 "nbformat": 4,
 "nbformat_minor": 2
}
